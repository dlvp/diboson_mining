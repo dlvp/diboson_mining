{
 "cells": [
  {
   "cell_type": "markdown",
   "metadata": {},
   "source": [
    "# Setting up the morphing etc.\n",
    "\n",
    "Johann Brehmer, Felix Kling, Kyle Cranmer 2018"
   ]
  },
  {
   "cell_type": "code",
   "execution_count": 1,
   "metadata": {},
   "outputs": [],
   "source": [
    "from __future__ import absolute_import, division, print_function, unicode_literals\n",
    "\n",
    "import numpy as np\n",
    "import matplotlib\n",
    "from matplotlib import pyplot as plt\n",
    "% matplotlib inline\n",
    "\n",
    "from madminer.goldmine import GoldMine\n",
    "from madminer.tools.plots import plot_nd_morphing_basis_slices"
   ]
  },
  {
   "cell_type": "markdown",
   "metadata": {},
   "source": [
    "## Parameter space"
   ]
  },
  {
   "cell_type": "markdown",
   "metadata": {},
   "source": [
    "Operator configurations: (no-Higgs WW, H -> WW)"
   ]
  },
  {
   "cell_type": "code",
   "execution_count": 2,
   "metadata": {},
   "outputs": [
    {
     "name": "stderr",
     "output_type": "stream",
     "text": [
      "16:33  \n",
      "16:33  ------------------------------------------------------------\n",
      "16:33  |                                                          |\n",
      "16:33  |  MadMiner v2018.08.31                                    |\n",
      "16:33  |                                                          |\n",
      "16:33  |           Johann Brehmer, Kyle Cranmer, and Felix Kling  |\n",
      "16:33  |                                                          |\n",
      "16:33  ------------------------------------------------------------\n",
      "16:33  \n",
      "16:33  Added parameter cW (LHA: newcoup 8, maximal power in squared ME: (2, 0), range: (-8.262277744728667, 8.262277744728667))\n",
      "16:33  Added parameter cWtilde (LHA: newcoup 10, maximal power in squared ME: (2, 0), range: (-8.262277744728667, 8.262277744728667))\n",
      "16:33  Added parameter cHW (LHA: newcoup 5, maximal power in squared ME: (2, 2), range: (-8.262277744728667, 8.262277744728667))\n",
      "16:33  Added parameter cHWtilde (LHA: newcoup 13, maximal power in squared ME: (2, 2), range: (-8.262277744728667, 8.262277744728667))\n",
      "16:33  Added parameter cHBox (LHA: newcoup 1, maximal power in squared ME: (0, 4), range: (-8.262277744728667, 8.262277744728667))\n",
      "16:33  Added parameter cHDD (LHA: newcoup 2, maximal power in squared ME: (0, 4), range: (-8.262277744728667, 8.262277744728667))\n",
      "16:33  Added parameter cHG (LHA: newcoup 7, maximal power in squared ME: (0, 2), range: (-8.262277744728667, 8.262277744728667))\n"
     ]
    }
   ],
   "source": [
    "parameter_range = (-.5/0.246**2, .5/0.246**2)\n",
    "mine = GoldMine()\n",
    "\n",
    "mine.add_parameter(\n",
    "    lha_block='newcoup',\n",
    "    lha_id=8,\n",
    "    parameter_name='cW',\n",
    "    morphing_max_power=(2,0),\n",
    "    parameter_range=parameter_range\n",
    ")\n",
    "mine.add_parameter(\n",
    "    lha_block='newcoup',\n",
    "    lha_id=10,\n",
    "    parameter_name='cWtilde',\n",
    "    morphing_max_power=(2,0),\n",
    "    parameter_range=parameter_range\n",
    ")\n",
    "mine.add_parameter(\n",
    "    lha_block='newcoup',\n",
    "    lha_id=5,\n",
    "    parameter_name='cHW',\n",
    "    morphing_max_power=(2,2),\n",
    "    parameter_range=parameter_range\n",
    ")\n",
    "mine.add_parameter(\n",
    "    lha_block='newcoup',\n",
    "    lha_id=13,\n",
    "    parameter_name='cHWtilde',\n",
    "    morphing_max_power=(2,2),\n",
    "    parameter_range=parameter_range\n",
    ")\n",
    "mine.add_parameter(\n",
    "    lha_block='newcoup',\n",
    "    lha_id=1,\n",
    "    parameter_name='cHBox',\n",
    "    morphing_max_power=(0,4),\n",
    "    parameter_range=parameter_range\n",
    ")\n",
    "mine.add_parameter(\n",
    "    lha_block='newcoup',\n",
    "    lha_id=2,\n",
    "    parameter_name='cHDD',\n",
    "    morphing_max_power=(0,4),\n",
    "    parameter_range=parameter_range\n",
    ")\n",
    "mine.add_parameter(\n",
    "    lha_block='newcoup',\n",
    "    lha_id=7,\n",
    "    parameter_name='cHG',\n",
    "    morphing_max_power=(0,2),\n",
    "    parameter_range=parameter_range\n",
    ")"
   ]
  },
  {
   "cell_type": "code",
   "execution_count": 3,
   "metadata": {},
   "outputs": [],
   "source": [
    "# mine = GoldMine()\n",
    "# mine.load('../../data/samples/setup.h5')"
   ]
  },
  {
   "cell_type": "markdown",
   "metadata": {},
   "source": [
    "## Benchmark points"
   ]
  },
  {
   "cell_type": "code",
   "execution_count": 4,
   "metadata": {},
   "outputs": [
    {
     "name": "stderr",
     "output_type": "stream",
     "text": [
      "16:33  Added benchmark sm: cW = 0.00e+00, cWtilde = 0.00e+00, cHW = 0.00e+00, cHWtilde = 0.00e+00, cHBox = 0.00e+00, cHDD = 0.00e+00, cHG = 0.00e+00)\n"
     ]
    }
   ],
   "source": [
    "mine.add_benchmark(\n",
    "    {'cW':0., 'cWtilde':0., 'cHW':0., 'cHWtilde':0., 'cHBox':0., 'cHDD':0., 'cHG':0.},\n",
    "    'sm'\n",
    ")"
   ]
  },
  {
   "cell_type": "code",
   "execution_count": null,
   "metadata": {},
   "outputs": [
    {
     "name": "stderr",
     "output_type": "stream",
     "text": [
      "16:33  Optimizing basis for morphing\n"
     ]
    }
   ],
   "source": [
    "mine.set_benchmarks_from_morphing(\n",
    "    keep_existing_benchmarks=True,\n",
    "    n_trials=1000,\n",
    "    n_test_thetas=1000,\n",
    "    max_overall_power=(2,4)\n",
    ")"
   ]
  },
  {
   "cell_type": "markdown",
   "metadata": {},
   "source": [
    "## Check morphing errors"
   ]
  },
  {
   "cell_type": "code",
   "execution_count": null,
   "metadata": {},
   "outputs": [],
   "source": [
    "fig = plot_nd_morphing_basis_slices(mine.morpher, crange=(1.,100.), )"
   ]
  },
  {
   "cell_type": "markdown",
   "metadata": {},
   "source": [
    "## Save setup"
   ]
  },
  {
   "cell_type": "code",
   "execution_count": null,
   "metadata": {},
   "outputs": [],
   "source": [
    "mine.save('../../data/samples/setup.h5')"
   ]
  },
  {
   "cell_type": "code",
   "execution_count": null,
   "metadata": {},
   "outputs": [],
   "source": []
  }
 ],
 "metadata": {
  "kernelspec": {
   "display_name": "Python [conda env:higgs_inference]",
   "language": "python",
   "name": "conda-env-higgs_inference-py"
  },
  "language_info": {
   "codemirror_mode": {
    "name": "ipython",
    "version": 3
   },
   "file_extension": ".py",
   "mimetype": "text/x-python",
   "name": "python",
   "nbconvert_exporter": "python",
   "pygments_lexer": "ipython3",
   "version": "3.6.4"
  }
 },
 "nbformat": 4,
 "nbformat_minor": 2
}
