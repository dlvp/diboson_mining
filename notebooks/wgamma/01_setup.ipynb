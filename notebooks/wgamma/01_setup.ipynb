{
 "cells": [
  {
   "cell_type": "markdown",
   "metadata": {},
   "source": [
    "# Set up parameter space, morphing, benchmark points\n",
    "\n",
    "Johann Brehmer, Kyle Cranmer, Marco Farina, Felix Kling, Duccio Pappadopulo, Josh Ruderman 2018"
   ]
  },
  {
   "cell_type": "code",
   "execution_count": 1,
   "metadata": {},
   "outputs": [],
   "source": [
    "from __future__ import absolute_import, division, print_function, unicode_literals\n",
    "\n",
    "import numpy as np\n",
    "import matplotlib\n",
    "from matplotlib import pyplot as plt\n",
    "%matplotlib inline\n",
    "import logging\n",
    "\n",
    "from madminer.core import MadMiner\n",
    "from madminer.plotting import plot_2d_morphing_basis\n"
   ]
  },
  {
   "cell_type": "code",
   "execution_count": 2,
   "metadata": {},
   "outputs": [],
   "source": [
    "logging.basicConfig(\n",
    "    format='%(asctime)-5.5s %(name)-20.20s %(levelname)-7.7s %(message)s',\n",
    "    datefmt='%H:%M',\n",
    "    level=logging.DEBUG\n",
    ")\n",
    "\n",
    "for key in logging.Logger.manager.loggerDict:\n",
    "    if \"madminer\" not in key:\n",
    "        logging.getLogger(key).setLevel(logging.WARNING)"
   ]
  },
  {
   "cell_type": "code",
   "execution_count": 3,
   "metadata": {},
   "outputs": [],
   "source": [
    "base_dir = '/Users/johannbrehmer/work/projects/madminer/diboson_mining/'\n",
    "mg_dir = '/Users/johannbrehmer/work/projects/madminer/MG5_aMC_v2_6_4/'"
   ]
  },
  {
   "cell_type": "code",
   "execution_count": 4,
   "metadata": {},
   "outputs": [],
   "source": [
    "sample_dir = base_dir + 'data/samples/wgamma_sys/'\n",
    "card_dir = base_dir + 'cards/wgamma/'\n",
    "ufo_model_dir = card_dir + 'SMWgamma_UFO'\n",
    "run_card_dir = card_dir + 'run_cards/'\n",
    "mg_process_dir = base_dir + 'data/mg_processes/wgamma_sys/'\n",
    "log_dir = base_dir + 'logs/wgamma_sys/'\n",
    "temp_dir = base_dir + 'data/temp'"
   ]
  },
  {
   "cell_type": "markdown",
   "metadata": {},
   "source": [
    "## Load setup (and then skip the next steps)"
   ]
  },
  {
   "cell_type": "code",
   "execution_count": 5,
   "metadata": {},
   "outputs": [
    {
     "name": "stderr",
     "output_type": "stream",
     "text": [
      "20:38 madminer.utils.inter INFO    HDF5 file does not contain is_reference field.\n",
      "20:38 madminer.core        INFO    Found 2 parameters:\n",
      "20:38 madminer.core        INFO       cWWW (LHA: dim6 1, maximal power in squared ME: (2,), range: (-0.02, 0.02))\n",
      "20:38 madminer.core        INFO       cWWWtilde (LHA: dim6 2, maximal power in squared ME: (2,), range: (-0.02, 0.02))\n",
      "20:38 madminer.core        INFO    Found 6 benchmarks:\n",
      "20:38 madminer.core        INFO       sm: cWWW = 0.00e+00, cWWWtilde = 0.00e+00\n",
      "20:38 madminer.core        INFO       morphing_basis_vector_1: cWWW = -6.07e-03, cWWWtilde = -1.84e-02\n",
      "20:38 madminer.core        INFO       morphing_basis_vector_2: cWWW = 1.00e-02, cWWWtilde = 1.70e-02\n",
      "20:38 madminer.core        INFO       morphing_basis_vector_3: cWWW = -1.99e-02, cWWWtilde = 1.87e-02\n",
      "20:38 madminer.core        INFO       morphing_basis_vector_4: cWWW = 1.97e-02, cWWWtilde = -1.53e-02\n",
      "20:38 madminer.core        INFO       morphing_basis_vector_5: cWWW = -1.65e-02, cWWWtilde = -6.33e-03\n",
      "20:38 madminer.core        INFO    Found morphing setup with 6 components\n",
      "20:38 madminer.core        INFO    Found systematics setup with 3 nuisance parameter groups\n",
      "20:38 madminer.core        DEBUG     muf: 0.5,2\n",
      "20:38 madminer.core        DEBUG     mur: 0.5,2\n",
      "20:38 madminer.core        DEBUG     pdf: CT10nlo\n"
     ]
    }
   ],
   "source": [
    "mm = MadMiner()\n",
    "mm.load(sample_dir + 'setup.h5')"
   ]
  },
  {
   "cell_type": "markdown",
   "metadata": {},
   "source": [
    "## Parameter space"
   ]
  },
  {
   "cell_type": "code",
   "execution_count": 6,
   "metadata": {},
   "outputs": [
    {
     "name": "stderr",
     "output_type": "stream",
     "text": [
      "20:38 madminer.core        INFO    Added parameter cWWW (LHA: dim6 1, maximal power in squared ME: (2,), range: (-0.01, 0.01))\n",
      "20:38 madminer.core        INFO    Added parameter cWWWtilde (LHA: dim6 2, maximal power in squared ME: (2,), range: (-0.01, 0.01))\n"
     ]
    }
   ],
   "source": [
    "parameter_range = (-0.01, 0.01)\n",
    "mm = MadMiner()\n",
    "\n",
    "mm.add_parameter(\n",
    "    lha_block='dim6',\n",
    "    lha_id=1,\n",
    "    parameter_name='cWWW',\n",
    "    morphing_max_power=(2,),\n",
    "    parameter_range=parameter_range\n",
    ")\n",
    "mm.add_parameter(\n",
    "    lha_block='dim6',\n",
    "    lha_id=2,\n",
    "    parameter_name='cWWWtilde',\n",
    "    morphing_max_power=(2,),\n",
    "    parameter_range=parameter_range\n",
    ")"
   ]
  },
  {
   "cell_type": "markdown",
   "metadata": {},
   "source": [
    "## Benchmark points"
   ]
  },
  {
   "cell_type": "code",
   "execution_count": 7,
   "metadata": {},
   "outputs": [
    {
     "name": "stderr",
     "output_type": "stream",
     "text": [
      "20:38 madminer.core        INFO    Added benchmark sm: cWWW = 0.00e+00, cWWWtilde = 0.00e+00)\n"
     ]
    }
   ],
   "source": [
    "mm.add_benchmark(\n",
    "    {'cWWW':0., 'cWWWtilde':0.},\n",
    "    'sm'\n",
    ")"
   ]
  },
  {
   "cell_type": "code",
   "execution_count": 8,
   "metadata": {},
   "outputs": [
    {
     "name": "stderr",
     "output_type": "stream",
     "text": [
      "20:38 madminer.core        INFO    Optimizing basis for morphing\n",
      "20:38 madminer.morphing    DEBUG   Region 0: max overall power 2, max individual powers [2, 2]\n",
      "20:38 madminer.morphing    DEBUG     Adding component [0 0]\n",
      "20:38 madminer.morphing    DEBUG     Adding component [0 1]\n",
      "20:38 madminer.morphing    DEBUG     Adding component [0 2]\n",
      "20:38 madminer.morphing    DEBUG     Adding component [1 0]\n",
      "20:38 madminer.morphing    DEBUG     Adding component [1 1]\n",
      "20:38 madminer.morphing    DEBUG     Adding component [2 0]\n",
      "20:38 madminer.core        INFO    Added benchmark sm: cWWW = 0.00e+00, cWWWtilde = 0.00e+00)\n",
      "20:38 madminer.core        INFO    Added benchmark morphing_basis_vector_1: cWWW = 3.58e-03, cWWWtilde = 8.37e-03)\n",
      "20:38 madminer.core        INFO    Added benchmark morphing_basis_vector_2: cWWW = -7.12e-03, cWWWtilde = 5.34e-03)\n",
      "20:38 madminer.core        INFO    Added benchmark morphing_basis_vector_3: cWWW = -8.14e-03, cWWWtilde = -6.48e-03)\n",
      "20:38 madminer.core        INFO    Added benchmark morphing_basis_vector_4: cWWW = 9.21e-03, cWWWtilde = 1.15e-03)\n",
      "20:38 madminer.core        INFO    Added benchmark morphing_basis_vector_5: cWWW = 3.40e-03, cWWWtilde = -7.55e-03)\n"
     ]
    }
   ],
   "source": [
    "mm.set_morphing(\n",
    "    include_existing_benchmarks=True,\n",
    "    n_trials=1000,\n",
    "    n_test_thetas=1000,\n",
    "    max_overall_power=(2,)\n",
    ")"
   ]
  },
  {
   "cell_type": "markdown",
   "metadata": {},
   "source": [
    "## Check morphing errors"
   ]
  },
  {
   "cell_type": "code",
   "execution_count": 9,
   "metadata": {},
   "outputs": [
    {
     "data": {
      "image/png": "[encoded data removed]",
      "text/plain": [
       "<Figure size 468x360 with 2 Axes>"
      ]
     },
     "metadata": {
      "needs_background": "light"
     },
     "output_type": "display_data"
    }
   ],
   "source": [
    "fig = plot_2d_morphing_basis(mm.morpher, xrange=(-0.1,0.1), yrange=(-0.1,0.1), crange=(0.7,100.))"
   ]
  },
  {
   "cell_type": "markdown",
   "metadata": {},
   "source": [
    "## Systematics"
   ]
  },
  {
   "cell_type": "code",
   "execution_count": 10,
   "metadata": {},
   "outputs": [],
   "source": [
    "mm.set_systematics(scale_variation=(0.5,2), scales=\"together\", pdf_variation=\"90900\")"
   ]
  },
  {
   "cell_type": "markdown",
   "metadata": {},
   "source": [
    "## Save setup"
   ]
  },
  {
   "cell_type": "code",
   "execution_count": 11,
   "metadata": {},
   "outputs": [
    {
     "name": "stderr",
     "output_type": "stream",
     "text": [
      "20:38 madminer.core        INFO    Saving setup (including morphing) to /Users/johannbrehmer/work/projects/madminer/diboson_mining/data/samples/wgamma_sys/setup.h5\n"
     ]
    }
   ],
   "source": [
    "mm.save(sample_dir + 'setup.h5')"
   ]
  },
  {
   "cell_type": "code",
   "execution_count": null,
   "metadata": {},
   "outputs": [],
   "source": []
  }
 ],
 "metadata": {
  "kernelspec": {
   "display_name": "Python (higgs_inference)",
   "language": "python",
   "name": "higgs_inference"
  },
  "language_info": {
   "codemirror_mode": {
    "name": "ipython",
    "version": 3
   },
   "file_extension": ".py",
   "mimetype": "text/x-python",
   "name": "python",
   "nbconvert_exporter": "python",
   "pygments_lexer": "ipython3",
   "version": "3.6.7"
  }
 },
 "nbformat": 4,
 "nbformat_minor": 2
}
