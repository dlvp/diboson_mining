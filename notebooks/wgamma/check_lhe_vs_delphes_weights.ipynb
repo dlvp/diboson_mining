{
 "cells": [
  {
   "cell_type": "code",
   "execution_count": 1,
   "metadata": {},
   "outputs": [],
   "source": [
    "from __future__ import absolute_import, division, print_function, unicode_literals\n",
    "\n",
    "import numpy as np\n",
    "import matplotlib\n",
    "from matplotlib import pyplot as plt\n",
    "% matplotlib inline\n",
    "import logging\n",
    "import os\n",
    "import math\n",
    "from collections import OrderedDict\n",
    "\n",
    "from madminer.delphes import DelphesProcessor\n",
    "from madminer.lhe import LHEProcessor\n",
    "\n",
    "logging.basicConfig(format='%(asctime)s  %(message)s', datefmt='%H:%M')\n"
   ]
  },
  {
   "cell_type": "code",
   "execution_count": 2,
   "metadata": {},
   "outputs": [],
   "source": [
    "base_dir = '/Users/johannbrehmer/work/projects/madminer/diboson_mining/'\n",
    "mg_dir = '/Users/johannbrehmer/work/projects/madminer/MG5_aMC_v2_6_2/'"
   ]
  },
  {
   "cell_type": "code",
   "execution_count": 3,
   "metadata": {},
   "outputs": [],
   "source": [
    "sample_dir = base_dir + 'data/samples/wgamma/'\n",
    "card_dir = base_dir + 'cards/wgamma/'\n",
    "ufo_model_dir = card_dir + 'SMWgamma_UFO'\n",
    "run_card_dir = card_dir + 'run_cards/'\n",
    "mg_process_dir = base_dir + 'data/mg_processes/wgamma/'\n",
    "log_dir = base_dir + 'logs/wgamma/'\n",
    "temp_dir = base_dir + 'data/temp'\n",
    "delphes_dir = mg_dir + 'Delphes'"
   ]
  },
  {
   "cell_type": "markdown",
   "metadata": {},
   "source": [
    "## Delphes"
   ]
  },
  {
   "cell_type": "code",
   "execution_count": 4,
   "metadata": {},
   "outputs": [
    {
     "name": "stderr",
     "output_type": "stream",
     "text": [
      "15:06  \n",
      "15:06  ------------------------------------------------------------\n",
      "15:06  |                                                          |\n",
      "15:06  |  MadMiner v2018.11.06                                    |\n",
      "15:06  |                                                          |\n",
      "15:06  |           Johann Brehmer, Kyle Cranmer, and Felix Kling  |\n",
      "15:06  |                                                          |\n",
      "15:06  ------------------------------------------------------------\n",
      "15:06  \n",
      "15:06  Benchmarks found in MadMiner file: ['sm', 'morphing_basis_vector_1', 'morphing_basis_vector_2', 'morphing_basis_vector_3', 'morphing_basis_vector_4', 'morphing_basis_vector_5']\n"
     ]
    }
   ],
   "source": [
    "dp = DelphesProcessor(sample_dir + 'setup.h5', debug=True)"
   ]
  },
  {
   "cell_type": "code",
   "execution_count": 5,
   "metadata": {},
   "outputs": [
    {
     "name": "stderr",
     "output_type": "stream",
     "text": [
      "15:06  Adding HepMC sample at /Users/johannbrehmer/work/projects/madminer/diboson_mining/data/mg_processes/wgamma/Events/run_01/tag_2_pythia8_events.hepmc.gz\n",
      "15:06  Calling gunzip -k /Users/johannbrehmer/work/projects/madminer/diboson_mining/data/mg_processes/wgamma/Events/run_01/tag_2_pythia8_events.hepmc.gz > None\n",
      "15:07  Found weight labels in HEPMC file: ['sm', 'morphing_basis_vector_1', 'morphing_basis_vector_2', 'morphing_basis_vector_3', 'morphing_basis_vector_4', 'morphing_basis_vector_5']\n"
     ]
    }
   ],
   "source": [
    "dp.add_hepmc_sample(\n",
    "    mg_process_dir + 'Events/run_01/tag_2_pythia8_events.hepmc.gz',\n",
    "    sampled_from_benchmark='sm'\n",
    ")"
   ]
  },
  {
   "cell_type": "code",
   "execution_count": 6,
   "metadata": {},
   "outputs": [
    {
     "name": "stderr",
     "output_type": "stream",
     "text": [
      "15:07  Running Delphes (/Users/johannbrehmer/work/projects/madminer/MG5_aMC_v2_6_2/Delphes) on event sample at /Users/johannbrehmer/work/projects/madminer/diboson_mining/data/mg_processes/wgamma/Events/run_01/tag_2_pythia8_events.hepmc.gz\n",
      "15:07  Unzipping /Users/johannbrehmer/work/projects/madminer/diboson_mining/data/mg_processes/wgamma/Events/run_01/tag_2_pythia8_events.hepmc.gz\n",
      "15:07  Calling source activate python2; /Users/johannbrehmer/work/projects/madminer/MG5_aMC_v2_6_2/Delphes/DelphesHepMC /Users/johannbrehmer/work/projects/madminer/diboson_mining/cards/wgamma/delphes_card.dat /Users/johannbrehmer/work/projects/madminer/diboson_mining/data/mg_processes/wgamma/Events/run_01/tag_2_pythia8_events_delphes.root /Users/johannbrehmer/work/projects/madminer/diboson_mining/data/mg_processes/wgamma/Events/run_01/tag_2_pythia8_events.hepmc > /Users/johannbrehmer/work/projects/madminer/diboson_mining/logs/wgamma//delphes.log\n",
      "15:17  Deleting /Users/johannbrehmer/work/projects/madminer/diboson_mining/data/mg_processes/wgamma/Events/run_01/tag_2_pythia8_events.hepmc\n"
     ]
    }
   ],
   "source": [
    "dp.run_delphes(\n",
    "    delphes_directory=delphes_dir,\n",
    "    delphes_card=card_dir + 'delphes_card.dat',\n",
    "    log_directory=log_dir,\n",
    "    initial_command='source activate python2',\n",
    ")"
   ]
  },
  {
   "cell_type": "code",
   "execution_count": 7,
   "metadata": {},
   "outputs": [],
   "source": [
    "dp.set_acceptance(\n",
    "    pt_min_e=0.0,\n",
    "        pt_min_mu=0.0,\n",
    "        pt_min_a=0.0,\n",
    "        pt_min_j=0.0,\n",
    "        eta_max_e=10.,\n",
    "        eta_max_mu=10.,\n",
    "        eta_max_a=10.,\n",
    "        eta_max_j=10.\n",
    ")"
   ]
  },
  {
   "cell_type": "code",
   "execution_count": 8,
   "metadata": {},
   "outputs": [
    {
     "name": "stderr",
     "output_type": "stream",
     "text": [
      "15:17  Adding optional observable met = met.pt with default 0.0\n"
     ]
    }
   ],
   "source": [
    "dp.add_observable(\"met\", \"met.pt\", required=False, default=0.)"
   ]
  },
  {
   "cell_type": "code",
   "execution_count": 9,
   "metadata": {},
   "outputs": [
    {
     "name": "stderr",
     "output_type": "stream",
     "text": [
      "15:17  Analysing Delphes sample /Users/johannbrehmer/work/projects/madminer/diboson_mining/data/mg_processes/wgamma/Events/run_01/tag_2_pythia8_events_delphes.root\n",
      "15:18    First 10 values for observable met:\n",
      "[24.83581543 25.31604767 32.21977997 36.35556793 41.08470535 28.78795815\n",
      " 38.36644363 46.03543091 21.96228027 14.33233261]\n",
      "15:18    Deleting /Users/johannbrehmer/work/projects/madminer/diboson_mining/data/mg_processes/wgamma/Events/run_01/tag_2_pythia8_events_delphes.root\n"
     ]
    }
   ],
   "source": [
    "dp.analyse_delphes_samples(delete_delphes_files=True)"
   ]
  },
  {
   "cell_type": "code",
   "execution_count": 34,
   "metadata": {},
   "outputs": [],
   "source": [
    "ratio1_delphes =  dp.weights['morphing_basis_vector_5'] / dp.weights['sm']\n",
    "met_delphes = dp.observations['met']\n",
    "weights_delphes = dp.weights['sm']"
   ]
  },
  {
   "cell_type": "markdown",
   "metadata": {},
   "source": [
    "## LHE"
   ]
  },
  {
   "cell_type": "code",
   "execution_count": 18,
   "metadata": {},
   "outputs": [
    {
     "name": "stderr",
     "output_type": "stream",
     "text": [
      "15:21  Benchmarks found in MadMiner file: ['sm', 'morphing_basis_vector_1', 'morphing_basis_vector_2', 'morphing_basis_vector_3', 'morphing_basis_vector_4', 'morphing_basis_vector_5']\n"
     ]
    }
   ],
   "source": [
    "lhe = LHEProcessor(debug=True)\n",
    "lhe.read_benchmark_names(sample_dir + 'setup.h5')"
   ]
  },
  {
   "cell_type": "code",
   "execution_count": 19,
   "metadata": {},
   "outputs": [
    {
     "name": "stderr",
     "output_type": "stream",
     "text": [
      "15:21  Adding LHE sample at /Users/johannbrehmer/work/projects/madminer/diboson_mining/data/mg_processes/wgamma/Events/run_01/unweighted_events.lhe\n"
     ]
    }
   ],
   "source": [
    "lhe.add_lhe_sample(\n",
    "    mg_process_dir + 'Events/run_01/unweighted_events.lhe',\n",
    "    sampling_benchmark=\"sm\"\n",
    ")"
   ]
  },
  {
   "cell_type": "code",
   "execution_count": 20,
   "metadata": {},
   "outputs": [
    {
     "name": "stderr",
     "output_type": "stream",
     "text": [
      "15:21  Adding (not required) observable met = p[2].pt\n"
     ]
    }
   ],
   "source": [
    "lhe.add_observable('met', 'p[2].pt')"
   ]
  },
  {
   "cell_type": "code",
   "execution_count": 21,
   "metadata": {},
   "outputs": [
    {
     "name": "stderr",
     "output_type": "stream",
     "text": [
      "15:21  Analysing LHE sample /Users/johannbrehmer/work/projects/madminer/diboson_mining/data/mg_processes/wgamma/Events/run_01/unweighted_events.lhe\n"
     ]
    }
   ],
   "source": [
    "lhe.analyse_lhe_samples()"
   ]
  },
  {
   "cell_type": "code",
   "execution_count": 35,
   "metadata": {},
   "outputs": [],
   "source": [
    "ratio1_lhe = lhe.weights[5] / lhe.weights[0]\n",
    "met_lhe = lhe.observations['met']\n",
    "weights_lhe = lhe.weights[0]"
   ]
  },
  {
   "cell_type": "markdown",
   "metadata": {},
   "source": [
    "## Plots"
   ]
  },
  {
   "cell_type": "code",
   "execution_count": 28,
   "metadata": {},
   "outputs": [
    {
     "data": {
      "text/plain": [
       "array([8.240161, 8.240161, 8.240161, ..., 8.240161, 8.240161, 8.240161])"
      ]
     },
     "execution_count": 28,
     "metadata": {},
     "output_type": "execute_result"
    }
   ],
   "source": [
    "weights_lhe"
   ]
  },
  {
   "cell_type": "code",
   "execution_count": 29,
   "metadata": {},
   "outputs": [
    {
     "data": {
      "text/plain": [
       "array([5.4934408e-05, 5.4934408e-05, 5.4934408e-05, ..., 5.4934408e-05,\n",
       "       5.4934408e-05, 5.4934408e-05], dtype=float32)"
      ]
     },
     "execution_count": 29,
     "metadata": {},
     "output_type": "execute_result"
    }
   ],
   "source": [
    "weights_delphes"
   ]
  },
  {
   "cell_type": "code",
   "execution_count": 30,
   "metadata": {},
   "outputs": [
    {
     "data": {
      "text/plain": [
       "array([149999.99725578, 149999.99725578, 149999.99725578, ...,\n",
       "       149999.99725578, 149999.99725578, 149999.99725578])"
      ]
     },
     "execution_count": 30,
     "metadata": {},
     "output_type": "execute_result"
    }
   ],
   "source": [
    "weights_lhe / weights_delphes"
   ]
  },
  {
   "cell_type": "code",
   "execution_count": 43,
   "metadata": {},
   "outputs": [
    {
     "name": "stderr",
     "output_type": "stream",
     "text": [
      "15:29  update_title_pos\n",
      "15:29  update_title_pos\n",
      "15:29  update_title_pos\n",
      "15:29  update_title_pos\n",
      "15:29  update_title_pos\n",
      "15:29  update_title_pos\n",
      "15:29  update_title_pos\n",
      "15:29  update_title_pos\n",
      "15:29  update_title_pos\n",
      "15:29  update_title_pos\n"
     ]
    },
    {
     "data": {
      "image/png": "[encoded data removed]",
      "text/plain": [
       "<Figure size 720x360 with 2 Axes>"
      ]
     },
     "metadata": {},
     "output_type": "display_data"
    }
   ],
   "source": [
    "skip=50\n",
    "\n",
    "fig = plt.figure(figsize=(10,5))\n",
    "\n",
    "\n",
    "\n",
    "ax = plt.subplot(1,2,1)\n",
    "\n",
    "plt.scatter(met_lhe[::skip], met_delphes[::skip], s=5., alpha=0.4)\n",
    "\n",
    "plt.xlim(0.,80.)\n",
    "plt.ylim(0.,80.)\n",
    "\n",
    "plt.xlabel(r'LHE $p_T(\\nu)$ [GeV]')\n",
    "plt.ylabel(r'Delphes MET [GeV]')\n",
    "\n",
    "\n",
    "\n",
    "ax = plt.subplot(1,2,2)\n",
    "\n",
    "plt.hist(met_delphes / met_lhe, range=(0.,2.), bins=100, histtype='step')\n",
    "\n",
    "plt.xlim(0.,2.)\n",
    "\n",
    "plt.xlabel(r'Delphes MET / LHE $p_T(\\nu)$')\n",
    "\n",
    "\n",
    "\n",
    "plt.tight_layout()\n",
    "plt.show()"
   ]
  },
  {
   "cell_type": "code",
   "execution_count": null,
   "metadata": {},
   "outputs": [],
   "source": []
  },
  {
   "cell_type": "code",
   "execution_count": null,
   "metadata": {},
   "outputs": [],
   "source": []
  }
 ],
 "metadata": {
  "kernelspec": {
   "display_name": "Python [conda env:higgs_inference]",
   "language": "python",
   "name": "conda-env-higgs_inference-py"
  },
  "language_info": {
   "codemirror_mode": {
    "name": "ipython",
    "version": 3
   },
   "file_extension": ".py",
   "mimetype": "text/x-python",
   "name": "python",
   "nbconvert_exporter": "python",
   "pygments_lexer": "ipython3",
   "version": "3.6.4"
  }
 },
 "nbformat": 4,
 "nbformat_minor": 2
}
