{
 "cells": [
  {
   "cell_type": "markdown",
   "metadata": {},
   "source": [
    "# Setting up the morphing etc.\n",
    "\n",
    "Johann Brehmer, Felix Kling, Kyle Cranmer 2018"
   ]
  },
  {
   "cell_type": "code",
   "execution_count": 11,
   "metadata": {},
   "outputs": [],
   "source": [
    "from __future__ import absolute_import, division, print_function, unicode_literals\n",
    "\n",
    "import numpy as np\n",
    "import matplotlib\n",
    "from matplotlib import pyplot as plt\n",
    "% matplotlib inline\n",
    "\n",
    "from madminer.core import MadMiner\n",
    "from madminer.plotting import plot_2d_morphing_basis"
   ]
  },
  {
   "cell_type": "code",
   "execution_count": 28,
   "metadata": {},
   "outputs": [],
   "source": [
    "base_dir = '../../../'\n",
    "sample_dir = base_dir + 'data/samples/wgamma/'"
   ]
  },
  {
   "cell_type": "markdown",
   "metadata": {},
   "source": [
    "## Parameter space"
   ]
  },
  {
   "cell_type": "code",
   "execution_count": 6,
   "metadata": {},
   "outputs": [
    {
     "name": "stderr",
     "output_type": "stream",
     "text": [
      "21:35  \n",
      "21:35  ------------------------------------------------------------\n",
      "21:35  |                                                          |\n",
      "21:35  |  MadMiner v2018.09.17                                    |\n",
      "21:35  |                                                          |\n",
      "21:35  |           Johann Brehmer, Kyle Cranmer, and Felix Kling  |\n",
      "21:35  |                                                          |\n",
      "21:35  ------------------------------------------------------------\n",
      "21:35  \n",
      "21:35  Added parameter cWWW (LHA: dim6 1, maximal power in squared ME: (2,), range: (-0.1, 0.1))\n",
      "21:35  Added parameter cWWWtilde (LHA: dim6 2, maximal power in squared ME: (2,), range: (-0.1, 0.1))\n"
     ]
    }
   ],
   "source": [
    "parameter_range = (-0.1, 0.1)\n",
    "mm = MadMiner()\n",
    "\n",
    "mm.add_parameter(\n",
    "    lha_block='dim6',\n",
    "    lha_id=1,\n",
    "    parameter_name='cWWW',\n",
    "    morphing_max_power=(2,),\n",
    "    parameter_range=parameter_range\n",
    ")\n",
    "mm.add_parameter(\n",
    "    lha_block='dim6',\n",
    "    lha_id=2,\n",
    "    parameter_name='cWWWtilde',\n",
    "    morphing_max_power=(2,),\n",
    "    parameter_range=parameter_range\n",
    ")"
   ]
  },
  {
   "cell_type": "markdown",
   "metadata": {},
   "source": [
    "## Benchmark points"
   ]
  },
  {
   "cell_type": "code",
   "execution_count": 7,
   "metadata": {},
   "outputs": [
    {
     "name": "stderr",
     "output_type": "stream",
     "text": [
      "21:35  Added benchmark sm: cWWW = 0.00e+00, cWWWtilde = 0.00e+00)\n"
     ]
    }
   ],
   "source": [
    "mm.add_benchmark(\n",
    "    {'cWWW':0., 'cWWWtilde':0.},\n",
    "    'sm'\n",
    ")"
   ]
  },
  {
   "cell_type": "code",
   "execution_count": 9,
   "metadata": {},
   "outputs": [
    {
     "name": "stderr",
     "output_type": "stream",
     "text": [
      "21:35  Optimizing basis for morphing\n",
      "21:35  Added benchmark sm: cWWW = 0.00e+00, cWWWtilde = 0.00e+00)\n",
      "21:35  Added benchmark morphing_basis_vector_1: cWWW = -9.77e-02, cWWWtilde = 0.07)\n",
      "21:35  Added benchmark morphing_basis_vector_2: cWWW = 0.07, cWWWtilde = 0.07)\n",
      "21:35  Added benchmark morphing_basis_vector_3: cWWW = 0.05, cWWWtilde = -7.72e-02)\n",
      "21:35  Added benchmark morphing_basis_vector_4: cWWW = -4.62e-02, cWWWtilde = 0.10)\n",
      "21:35  Added benchmark morphing_basis_vector_5: cWWW = -5.69e-02, cWWWtilde = -7.63e-02)\n"
     ]
    }
   ],
   "source": [
    "mm.set_benchmarks_from_morphing(\n",
    "    keep_existing_benchmarks=True,\n",
    "    n_trials=1000,\n",
    "    n_test_thetas=1000,\n",
    "    max_overall_power=(2,)\n",
    ")"
   ]
  },
  {
   "cell_type": "markdown",
   "metadata": {},
   "source": [
    "## Check morphing errors"
   ]
  },
  {
   "cell_type": "code",
   "execution_count": 22,
   "metadata": {},
   "outputs": [
    {
     "data": {
      "image/png": "[encoded data removed]",
      "text/plain": [
       "<matplotlib.figure.Figure at 0x10e6e6da0>"
      ]
     },
     "metadata": {},
     "output_type": "display_data"
    }
   ],
   "source": [
    "fig = plot_2d_morphing_basis(mm.morpher, xrange=(-0.15,0.15), yrange=(-0.15,0.15), crange=(0.7,10.))"
   ]
  },
  {
   "cell_type": "markdown",
   "metadata": {},
   "source": [
    "## Save setup"
   ]
  },
  {
   "cell_type": "code",
   "execution_count": 29,
   "metadata": {},
   "outputs": [
    {
     "name": "stderr",
     "output_type": "stream",
     "text": [
      "21:40  Saving setup (including morphing) to ../../../data/samples/wgamma/data/samples/wgamma/setup.h5\n"
     ]
    }
   ],
   "source": [
    "mm.save(sample_dir + 'data/samples/wgamma/setup.h5')"
   ]
  },
  {
   "cell_type": "code",
   "execution_count": null,
   "metadata": {},
   "outputs": [],
   "source": []
  }
 ],
 "metadata": {
  "kernelspec": {
   "display_name": "Python [conda env:higgs_inference]",
   "language": "python",
   "name": "conda-env-higgs_inference-py"
  },
  "language_info": {
   "codemirror_mode": {
    "name": "ipython",
    "version": 3
   },
   "file_extension": ".py",
   "mimetype": "text/x-python",
   "name": "python",
   "nbconvert_exporter": "python",
   "pygments_lexer": "ipython3",
   "version": "3.6.4"
  }
 },
 "nbformat": 4,
 "nbformat_minor": 2
}
