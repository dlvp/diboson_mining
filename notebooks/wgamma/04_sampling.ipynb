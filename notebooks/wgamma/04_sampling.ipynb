{
 "cells": [
  {
   "cell_type": "markdown",
   "metadata": {},
   "source": [
    "# Unweight and augment samples\n",
    "\n",
    "Johann Brehmer, Kyle Cranmer, Marco Farina, Felix Kling, Duccio Pappadopulo, Josh Ruderman 2018"
   ]
  },
  {
   "cell_type": "code",
   "execution_count": null,
   "metadata": {},
   "outputs": [],
   "source": [
    "from __future__ import absolute_import, division, print_function, unicode_literals\n",
    "\n",
    "import numpy as np\n",
    "import matplotlib\n",
    "from matplotlib import pyplot as plt\n",
    "%matplotlib inline\n",
    "import logging\n",
    "import os\n",
    "\n",
    "from madminer.sampling import SampleAugmenter\n",
    "from madminer.sampling import multiple_benchmark_thetas\n",
    "from madminer.sampling import constant_morphing_theta, multiple_morphing_thetas, random_morphing_thetas\n",
    "\n",
    "logging.basicConfig(format='%(asctime)-5.5s %(name)-20.20s %(levelname)-7.7s %(message)s', datefmt='%H:%M', level=logging.INFO)\n"
   ]
  },
  {
   "cell_type": "code",
   "execution_count": null,
   "metadata": {},
   "outputs": [],
   "source": [
    "base_dir = '/Users/johannbrehmer/work/projects/madminer/diboson_mining/'\n",
    "mg_dir = '/Users/johannbrehmer/work/projects/madminer/MG5_aMC_v2_6_4/'"
   ]
  },
  {
   "cell_type": "code",
   "execution_count": null,
   "metadata": {},
   "outputs": [],
   "source": [
    "sample_dir = base_dir + 'data/samples/wgamma_sys/'\n",
    "card_dir = base_dir + 'cards/wgamma/'\n",
    "ufo_model_dir = card_dir + 'SMWgamma_UFO'\n",
    "run_card_dir = card_dir + 'run_cards/'\n",
    "mg_process_dir = base_dir + 'data/mg_processes/wgamma_sys/'\n",
    "log_dir = base_dir + 'logs/wgamma_sys/'\n",
    "temp_dir = base_dir + 'data/temp'\n",
    "delphes_dir = mg_dir + 'Delphes'"
   ]
  },
  {
   "cell_type": "markdown",
   "metadata": {},
   "source": [
    "## Load data (with tight cuts)"
   ]
  },
  {
   "cell_type": "code",
   "execution_count": null,
   "metadata": {
    "scrolled": true
   },
   "outputs": [],
   "source": [
    "sa = SampleAugmenter(sample_dir + 'samples_tight.h5', debug=True)"
   ]
  },
  {
   "cell_type": "markdown",
   "metadata": {},
   "source": [
    "### SALLY training data"
   ]
  },
  {
   "cell_type": "code",
   "execution_count": null,
   "metadata": {},
   "outputs": [],
   "source": [
    "for i in range(10):\n",
    "    _, _, t_xz = sa.extract_samples_train_local(\n",
    "        theta=constant_morphing_theta([0.,0.]),\n",
    "        n_samples=1000000,\n",
    "        folder=sample_dir + 'train_local_tight',\n",
    "        filename='train_' + str(i),\n",
    "        nuisance_score=False\n",
    "    )"
   ]
  },
  {
   "cell_type": "markdown",
   "metadata": {},
   "source": [
    "### RASCAL training data"
   ]
  },
  {
   "cell_type": "code",
   "execution_count": null,
   "metadata": {},
   "outputs": [],
   "source": [
    "for i in range(1):\n",
    "    _ = sa.extract_samples_train_ratio(\n",
    "        theta0=random_morphing_thetas(1000, [('gaussian', 0., 0.005), ('gaussian', 0., 0.005)]),\n",
    "        theta1=constant_morphing_theta([0.,0.]),\n",
    "        n_samples=100000,\n",
    "        folder=sample_dir + 'train_ratio_tight',\n",
    "        filename='train_' + str(i)\n",
    "    )"
   ]
  },
  {
   "cell_type": "markdown",
   "metadata": {},
   "source": [
    "### SCANDAL training data"
   ]
  },
  {
   "cell_type": "code",
   "execution_count": null,
   "metadata": {},
   "outputs": [],
   "source": [
    "for i in range(1):\n",
    "    sa.extract_samples_train_global(\n",
    "        theta=random_morphing_thetas(10000, [('gaussian', 0., 0.005), ('gaussian', 0., 0.005)]),\n",
    "        n_samples=100000,\n",
    "        folder=sample_dir + 'train_scandal_tight',\n",
    "        filename='train_' + str(i)\n",
    "    )"
   ]
  },
  {
   "cell_type": "markdown",
   "metadata": {},
   "source": [
    "### Validation and test data"
   ]
  },
  {
   "cell_type": "code",
   "execution_count": null,
   "metadata": {},
   "outputs": [],
   "source": [
    "_, _ = sa.extract_samples_train_plain(\n",
    "    theta=constant_morphing_theta([0.,0.]),\n",
    "    n_samples=1000000,\n",
    "    folder=sample_dir + 'validation_tight',\n",
    "    filename='validation'\n",
    ")"
   ]
  },
  {
   "cell_type": "code",
   "execution_count": null,
   "metadata": {},
   "outputs": [],
   "source": [
    "x_sm, _ = sa.extract_samples_test(\n",
    "    theta=constant_morphing_theta([0.,0.]),\n",
    "    n_samples=1000000,\n",
    "    folder=sample_dir + 'test_tight',\n",
    "    filename='test'\n",
    ")"
   ]
  },
  {
   "cell_type": "markdown",
   "metadata": {},
   "source": [
    "### xsec test"
   ]
  },
  {
   "cell_type": "code",
   "execution_count": null,
   "metadata": {},
   "outputs": [],
   "source": [
    "thetas_benchmarks, xsecs_benchmarks, xsec_errors_benchmarks = sa.extract_cross_sections(\n",
    "    theta=multiple_benchmark_thetas(['sm', 'morphing_basis_vector_1', 'morphing_basis_vector_2', 'morphing_basis_vector_3', 'morphing_basis_vector_4', 'morphing_basis_vector_5'])\n",
    ")\n",
    "\n",
    "thetas_morphing, xsecs_morphing, xsec_errors_morphing = sa.extract_cross_sections(\n",
    "    theta=random_morphing_thetas(1000, [('gaussian', 0., 0.02), ('gaussian', 0., 0.02)])\n",
    ")"
   ]
  },
  {
   "cell_type": "code",
   "execution_count": null,
   "metadata": {},
   "outputs": [],
   "source": [
    "cmin, cmax = 0., 0.15\n",
    "\n",
    "fig = plt.figure(figsize=(5,4))\n",
    "\n",
    "sc = plt.scatter(thetas_morphing[:,0], thetas_morphing[:,1], c=xsecs_morphing,\n",
    "            s=40., cmap='viridis', vmin=cmin, vmax=cmax,\n",
    "            marker='o')\n",
    "\n",
    "plt.scatter(thetas_benchmarks[:,0], thetas_benchmarks[:,1], c=xsecs_benchmarks,\n",
    "            s=200., cmap='viridis', vmin=cmin, vmax=cmax,lw=2., edgecolor='black',\n",
    "            marker='s')\n",
    "\n",
    "cb = plt.colorbar(sc)\n",
    "cb.set_label('xsec [pb]')\n",
    "\n",
    "plt.xlim(-0.05,.05)\n",
    "plt.ylim(-0.05,.05)\n",
    "plt.tight_layout()\n",
    "plt.show()"
   ]
  },
  {
   "cell_type": "markdown",
   "metadata": {},
   "source": [
    "### Observable distributions"
   ]
  },
  {
   "cell_type": "code",
   "execution_count": null,
   "metadata": {},
   "outputs": [],
   "source": [
    "x_bsm, _ = sa.extract_samples_test(\n",
    "    theta=constant_morphing_theta([0.0316,0.]),\n",
    "    n_samples=1000000,\n",
    "    folder=None,\n",
    "    filename=None\n",
    ")"
   ]
  },
  {
   "cell_type": "code",
   "execution_count": null,
   "metadata": {},
   "outputs": [],
   "source": [
    "bins = 10\n",
    "n_observables = x_sm.shape[1]\n",
    "n_cols = 3\n",
    "n_rows = (n_observables + n_cols - 1) // n_cols\n",
    "labels = sa.observables.keys()\n",
    "\n",
    "plt.figure(figsize=(4. * n_cols, 4. * n_rows))\n",
    "\n",
    "for i, label in enumerate(labels):\n",
    "    xmin = np.percentile(x_sm[:,i], 5.)\n",
    "    xmax = np.percentile(x_sm[:,i], 95.)\n",
    "    xwidth = xmax - xmin\n",
    "    xmin -= xwidth * 0.1\n",
    "    xmax += xwidth * 0.1\n",
    "    xmin = max(xmin, np.min(x_sm[:,i]))\n",
    "    xmax = min(xmax, np.max(x_sm[:,i]))\n",
    "    x_range = (xmin, xmax)\n",
    "    \n",
    "    ax = plt.subplot(n_rows, n_cols, i+1)\n",
    "       \n",
    "    plt.hist(x_sm[:,i], histtype='step', range=x_range, bins=bins, lw=1.5, color='black', label=r'SM', density=True) \n",
    "    plt.hist(x_bsm[:,i], histtype='step', range=x_range, bins=bins, lw=1.5, color='C0', label=r'$f_{WWW} = 0.0316$', density=True) \n",
    "    \n",
    "    if i == 0:\n",
    "        plt.legend()\n",
    "        \n",
    "    plt.xlabel(label)\n",
    "    \n",
    "plt.tight_layout()\n",
    "plt.savefig('../../figures/wgamma/observables.pdf')"
   ]
  },
  {
   "cell_type": "markdown",
   "metadata": {},
   "source": [
    "## Same without cuts"
   ]
  },
  {
   "cell_type": "code",
   "execution_count": null,
   "metadata": {
    "scrolled": true
   },
   "outputs": [],
   "source": [
    "sa_all = SampleAugmenter(sample_dir + 'samples.h5', debug=False)"
   ]
  },
  {
   "cell_type": "markdown",
   "metadata": {},
   "source": [
    "### SALLY training data"
   ]
  },
  {
   "cell_type": "code",
   "execution_count": null,
   "metadata": {},
   "outputs": [],
   "source": [
    "for i in range(10):\n",
    "    _, _, _ = sa_all.extract_samples_train_local(\n",
    "        theta=constant_morphing_theta([0.,0.]),\n",
    "        n_samples=1000000,\n",
    "        folder=sample_dir + 'train_local',\n",
    "        filename='train_' + str(i)\n",
    "    )"
   ]
  },
  {
   "cell_type": "markdown",
   "metadata": {},
   "source": [
    "### RASCAL training data"
   ]
  },
  {
   "cell_type": "code",
   "execution_count": null,
   "metadata": {},
   "outputs": [],
   "source": [
    "for i in range(10):\n",
    "    _ = sa_all.extract_samples_train_ratio(\n",
    "        theta0=random_morphing_thetas(1000, [('gaussian', 0., 0.005), ('gaussian', 0., 0.005)]),\n",
    "        theta1=constant_morphing_theta([0.,0.]),\n",
    "        n_samples=100000,\n",
    "        folder=sample_dir + 'train_ratio',\n",
    "        filename='train_' + str(i)\n",
    "    )"
   ]
  },
  {
   "cell_type": "markdown",
   "metadata": {},
   "source": [
    "### SCANDAL training data"
   ]
  },
  {
   "cell_type": "code",
   "execution_count": null,
   "metadata": {},
   "outputs": [],
   "source": [
    "for i in range(1):\n",
    "    _, _, _ = sa_all.extract_samples_train_global(\n",
    "        theta=random_morphing_thetas(10000, [('gaussian', 0., 0.005), ('gaussian', 0., 0.005)]),\n",
    "        n_samples=100000,\n",
    "        folder=sample_dir + 'train_scandal',\n",
    "        filename='train_' + str(i)\n",
    "    )"
   ]
  },
  {
   "cell_type": "markdown",
   "metadata": {},
   "source": [
    "### Validation and test data"
   ]
  },
  {
   "cell_type": "code",
   "execution_count": null,
   "metadata": {},
   "outputs": [],
   "source": [
    "_, _ = sa_all.extract_samples_train_plain(\n",
    "    theta=constant_morphing_theta([0.,0.]),\n",
    "    n_samples=1000000,\n",
    "    folder=sample_dir + 'validation',\n",
    "    filename='validation'\n",
    ")"
   ]
  },
  {
   "cell_type": "code",
   "execution_count": null,
   "metadata": {},
   "outputs": [],
   "source": [
    "_, _ = sa_all.extract_samples_test(\n",
    "    theta=constant_morphing_theta([0.,0.]),\n",
    "    n_samples=1000000,\n",
    "    folder=sample_dir + 'test',\n",
    "    filename='test'\n",
    ")"
   ]
  },
  {
   "cell_type": "code",
   "execution_count": null,
   "metadata": {},
   "outputs": [],
   "source": []
  }
 ],
 "metadata": {
  "kernelspec": {
   "display_name": "Python 3",
   "language": "python",
   "name": "python3"
  },
  "language_info": {
   "codemirror_mode": {
    "name": "ipython",
    "version": 3
   },
   "file_extension": ".py",
   "mimetype": "text/x-python",
   "name": "python",
   "nbconvert_exporter": "python",
   "pygments_lexer": "ipython3",
   "version": "3.6.7"
  }
 },
 "nbformat": 4,
 "nbformat_minor": 2
}
