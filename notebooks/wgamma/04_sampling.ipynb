{
 "cells": [
  {
   "cell_type": "markdown",
   "metadata": {},
   "source": [
    "# Unweight and augment samples\n",
    "\n",
    "Johann Brehmer, Kyle Cranmer, Marco Farina, Felix Kling, Duccio Pappadopulo, Josh Ruderman 2018"
   ]
  },
  {
   "cell_type": "code",
   "execution_count": 1,
   "metadata": {},
   "outputs": [],
   "source": [
    "from __future__ import absolute_import, division, print_function, unicode_literals\n",
    "\n",
    "import numpy as np\n",
    "import matplotlib\n",
    "from matplotlib import pyplot as plt\n",
    "% matplotlib inline\n",
    "import logging\n",
    "import os\n",
    "\n",
    "from madminer.sampling import SampleAugmenter\n",
    "from madminer.sampling import multiple_benchmark_thetas\n",
    "from madminer.sampling import constant_morphing_theta, multiple_morphing_thetas, random_morphing_thetas\n",
    "\n",
    "logging.basicConfig(format='%(asctime)s  %(message)s', datefmt='%H:%M')\n"
   ]
  },
  {
   "cell_type": "code",
   "execution_count": 2,
   "metadata": {},
   "outputs": [],
   "source": [
    "base_dir = '/Users/johannbrehmer/work/projects/madminer/diboson_mining/'\n",
    "mg_dir = '/Users/johannbrehmer/work/projects/madminer/MG5_aMC_v2_6_2/'"
   ]
  },
  {
   "cell_type": "code",
   "execution_count": 3,
   "metadata": {},
   "outputs": [],
   "source": [
    "sample_dir = base_dir + 'data/samples/wgamma/'\n",
    "card_dir = base_dir + 'cards/wgamma/'\n",
    "ufo_model_dir = card_dir + 'SMWgamma_UFO'\n",
    "run_card_dir = card_dir + 'run_cards/'\n",
    "mg_process_dir = base_dir + 'data/mg_processes/wgamma/'\n",
    "log_dir = base_dir + 'logs/wgamma/'\n",
    "temp_dir = base_dir + 'data/temp'\n",
    "delphes_dir = mg_dir + 'Delphes'"
   ]
  },
  {
   "cell_type": "markdown",
   "metadata": {},
   "source": [
    "## Load data (with tight cuts)"
   ]
  },
  {
   "cell_type": "code",
   "execution_count": 4,
   "metadata": {
    "scrolled": true
   },
   "outputs": [
    {
     "name": "stderr",
     "output_type": "stream",
     "text": [
      "07:50  \n",
      "07:50  ------------------------------------------------------------\n",
      "07:50  |                                                          |\n",
      "07:50  |  MadMiner v2018.11.13                                    |\n",
      "07:50  |                                                          |\n",
      "07:50  |           Johann Brehmer, Kyle Cranmer, and Felix Kling  |\n",
      "07:50  |                                                          |\n",
      "07:50  ------------------------------------------------------------\n",
      "07:50  \n",
      "07:50  Loading data from /Users/johannbrehmer/work/projects/madminer/diboson_mining/data/samples/wgamma/samples_tight.h5\n",
      "07:50  Found 2 parameters:\n",
      "07:50     cWWW (LHA: dim6 1, maximal power in squared ME: (2,), range: (-0.02, 0.02))\n",
      "07:50     cWWWtilde (LHA: dim6 2, maximal power in squared ME: (2,), range: (-0.02, 0.02))\n",
      "07:50  Found 6 benchmarks:\n",
      "07:50     sm: cWWW = 0.00e+00, cWWWtilde = 0.00e+00\n",
      "07:50     morphing_basis_vector_1: cWWW = -6.07e-03, cWWWtilde = -1.84e-02\n",
      "07:50     morphing_basis_vector_2: cWWW = 1.00e-02, cWWWtilde = 1.70e-02\n",
      "07:50     morphing_basis_vector_3: cWWW = -1.99e-02, cWWWtilde = 1.87e-02\n",
      "07:50     morphing_basis_vector_4: cWWW = 1.97e-02, cWWWtilde = -1.53e-02\n",
      "07:50     morphing_basis_vector_5: cWWW = -1.65e-02, cWWWtilde = -6.33e-03\n",
      "07:50  Found 27 observables: et_miss, phi_miss, e_visible, eta_visible, e_l1, pt_l1, eta_l1, phi_l1, e_a1, pt_a1, eta_a1, phi_a1, e_j1, pt_j1, eta_j1, phi_j1, deltaphi_l1_met, deltaphi_a1_met, m_l1_met, pt_l1_met, m_l1_a1, deltaeta_l1_a1, deltaphi_l1_a1, m_a1_l1_met, pt_a1_l1_met, mt, phi_resurrection\n",
      "07:50  Found 1207773 events\n",
      "07:50  Found morphing setup with 6 components\n"
     ]
    }
   ],
   "source": [
    "sa = SampleAugmenter(sample_dir + 'samples_tight.h5', debug=False)"
   ]
  },
  {
   "cell_type": "markdown",
   "metadata": {},
   "source": [
    "### SALLY training data"
   ]
  },
  {
   "cell_type": "code",
   "execution_count": null,
   "metadata": {},
   "outputs": [],
   "source": [
    "for i in range(10):\n",
    "    _, _, _ = sa.extract_samples_train_local(\n",
    "        theta=constant_morphing_theta([0.,0.]),\n",
    "        n_samples=1000000,\n",
    "        folder=sample_dir + 'train_local_tight',\n",
    "        filename='train_' + str(i)\n",
    "    )"
   ]
  },
  {
   "cell_type": "markdown",
   "metadata": {},
   "source": [
    "### RASCAL training data"
   ]
  },
  {
   "cell_type": "code",
   "execution_count": 6,
   "metadata": {},
   "outputs": [
    {
     "name": "stderr",
     "output_type": "stream",
     "text": [
      "07:53  Extracting training sample for ratio-based methods. Numerator hypothesis: ('random', (1000, [('gaussian', 0.0, 0.005), ('gaussian', 0.0, 0.005)])), denominator hypothesis: ('theta', array([0., 0.]))\n",
      "07:55  Effective number of samples: mean 486.6725486580612, with individual thetas ranging from 38.896311231459975 to 2283.567315636974\n",
      "07:56  Effective number of samples: mean 2289.484972855909, with individual thetas ranging from 2289.484972855909 to 2289.484972855909\n"
     ]
    }
   ],
   "source": [
    "for i in range(1):\n",
    "    _ = sa.extract_samples_train_ratio(\n",
    "        theta0=random_morphing_thetas(1000, [('gaussian', 0., 0.005), ('gaussian', 0., 0.005)]),\n",
    "        theta1=constant_morphing_theta([0.,0.]),\n",
    "        n_samples=100000,\n",
    "        folder=sample_dir + 'train_ratio_tight',\n",
    "        filename='train_' + str(i)\n",
    "    )"
   ]
  },
  {
   "cell_type": "markdown",
   "metadata": {},
   "source": [
    "### SCANDAL training data"
   ]
  },
  {
   "cell_type": "code",
   "execution_count": 12,
   "metadata": {},
   "outputs": [
    {
     "name": "stderr",
     "output_type": "stream",
     "text": [
      "08:11  Extracting training sample for non-local score-based methods. Sampling and score evaluation according to ('random', (10000, [('gaussian', 0.0, 0.005), ('gaussian', 0.0, 0.005)]))\n",
      "08:25  Effective number of samples: mean 478.51932520607346, with individual thetas ranging from 36.66375285490305 to 2288.62541497217\n"
     ]
    }
   ],
   "source": [
    "for i in range(1):\n",
    "    sa.extract_samples_train_global(\n",
    "        theta=random_morphing_thetas(10000, [('gaussian', 0., 0.005), ('gaussian', 0., 0.005)]),\n",
    "        n_samples=100000,\n",
    "        folder=sample_dir + 'train_scandal_tight',\n",
    "        filename='train_' + str(i)\n",
    "    )"
   ]
  },
  {
   "cell_type": "markdown",
   "metadata": {},
   "source": [
    "### Validation and test data"
   ]
  },
  {
   "cell_type": "code",
   "execution_count": null,
   "metadata": {},
   "outputs": [],
   "source": [
    "_, _ = sa.extract_samples_train_plain(\n",
    "    theta=constant_morphing_theta([0.,0.]),\n",
    "    n_samples=1000000,\n",
    "    folder=sample_dir + 'validation_tight',\n",
    "    filename='validation'\n",
    ")"
   ]
  },
  {
   "cell_type": "code",
   "execution_count": null,
   "metadata": {},
   "outputs": [],
   "source": [
    "x_sm, _ = sa.extract_samples_test(\n",
    "    theta=constant_morphing_theta([0.,0.]),\n",
    "    n_samples=1000000,\n",
    "    folder=sample_dir + 'test_tight',\n",
    "    filename='test'\n",
    ")"
   ]
  },
  {
   "cell_type": "code",
   "execution_count": 7,
   "metadata": {},
   "outputs": [
    {
     "name": "stderr",
     "output_type": "stream",
     "text": [
      "09:34  Extracting evaluation sample. Sampling according to ('theta', array([0., 0.]))\n",
      "09:34  Effective number of samples: 2259.525446107569\n"
     ]
    },
    {
     "data": {
      "text/plain": [
       "(array([[ 1.17253738e+02,  2.30557370e+00,  8.86337244e+02, ...,\n",
       "          1.52458694e+02,  3.22859440e+01, -3.47320220e-01],\n",
       "        [ 2.07721146e+02, -1.81286871e+00,  6.53493440e+02, ...,\n",
       "          2.81297518e+02,  6.74082272e+00,  2.98951358e+00],\n",
       "        [ 1.22945518e+02,  2.69437535e-03,  1.75161849e+02, ...,\n",
       "          2.54042924e+01,  7.66752857e+01, -1.36310169e+00],\n",
       "        ...,\n",
       "        [ 2.17523285e+02, -2.92998409e+00,  4.39063499e+02, ...,\n",
       "          1.88195239e+02,  1.16738988e+01,  3.04249414e+00],\n",
       "        [ 1.12007751e+02,  2.50395703e+00,  2.25418053e+02, ...,\n",
       "          1.05265545e+02,  5.12473658e+00, -6.17783841e-02],\n",
       "        [ 4.04335083e+02, -1.15071929e+00,  7.07115430e+02, ...,\n",
       "          2.60991267e+02,  4.28514999e+01, -4.31850324e-01]]), array([[0., 0.],\n",
       "        [0., 0.],\n",
       "        [0., 0.],\n",
       "        ...,\n",
       "        [0., 0.],\n",
       "        [0., 0.],\n",
       "        [0., 0.]]))"
      ]
     },
     "execution_count": 7,
     "metadata": {},
     "output_type": "execute_result"
    }
   ],
   "source": [
    "sa.extract_samples_test(\n",
    "    theta=constant_morphing_theta([0.,0.]),\n",
    "    n_samples=100000,\n",
    "    folder=sample_dir + 'test_sm_tight',\n",
    "    filename='test'\n",
    ")"
   ]
  },
  {
   "cell_type": "code",
   "execution_count": 6,
   "metadata": {},
   "outputs": [
    {
     "name": "stderr",
     "output_type": "stream",
     "text": [
      "09:59  Extracting evaluation sample. Sampling according to ('theta', array([0.02, 0.  ]))\n",
      "09:59  Effective number of samples: 120.6630101056156\n"
     ]
    },
    {
     "data": {
      "text/plain": [
       "(array([[ 2.09159668e+02,  8.27919394e-02,  9.22145328e+02, ...,\n",
       "          3.31864907e+01,  2.66064620e+01, -2.82906483e+00],\n",
       "        [ 4.83811859e+02, -1.65001988e+00,  1.02652408e+03, ...,\n",
       "          4.56574134e+02,  1.25176430e+01, -2.51325130e-01],\n",
       "        [ 4.59729767e+02, -1.43100786e+00,  2.18332224e+02, ...,\n",
       "          1.06060541e+02,  3.20591797e+01,  2.69200809e+00],\n",
       "        ...,\n",
       "        [ 6.77438293e+02, -1.23415582e-01,  1.10320346e+03, ...,\n",
       "          1.87576904e+01,  2.82283475e+01,  4.44017913e-01],\n",
       "        [ 2.43731308e+02, -1.18725456e-01,  7.89251520e+02, ...,\n",
       "          1.74396358e+02,  4.50046341e+01, -4.72359308e-01],\n",
       "        [ 1.50232285e+02,  3.08450913e+00,  2.02594379e+03, ...,\n",
       "          1.50916563e+02,  1.25974775e+01, -2.04640929e-01]]),\n",
       " array([[0.02, 0.  ],\n",
       "        [0.02, 0.  ],\n",
       "        [0.02, 0.  ],\n",
       "        ...,\n",
       "        [0.02, 0.  ],\n",
       "        [0.02, 0.  ],\n",
       "        [0.02, 0.  ]]))"
      ]
     },
     "execution_count": 6,
     "metadata": {},
     "output_type": "execute_result"
    }
   ],
   "source": [
    "sa.extract_samples_test(\n",
    "    theta=constant_morphing_theta([0.02,0.]),\n",
    "    n_samples=100000,\n",
    "    folder=sample_dir + 'test_www_tight',\n",
    "    filename='test'\n",
    ")"
   ]
  },
  {
   "cell_type": "code",
   "execution_count": 12,
   "metadata": {},
   "outputs": [
    {
     "name": "stderr",
     "output_type": "stream",
     "text": [
      "10:31  Extracting evaluation sample. Sampling according to ('theta', array([0.005, 0.   ]))\n",
      "10:31  Effective number of samples: 986.9461974974071\n"
     ]
    },
    {
     "data": {
      "text/plain": [
       "(array([[ 1.22683754e+02,  1.14082825e+00,  3.34105859e+02, ...,\n",
       "          1.35082948e+02,  2.11441009e+00, -1.85818514e-02],\n",
       "        [ 9.19899368e+01,  1.06257617e+00,  4.14038487e+02, ...,\n",
       "          1.09658210e+02,  9.59090649e+00,  2.95605195e+00],\n",
       "        [ 8.31525650e+01, -1.93947387e+00,  1.88542282e+02, ...,\n",
       "          9.20281837e+01,  1.69210312e+01,  2.72308010e-01],\n",
       "        ...,\n",
       "        [ 9.94973145e+01, -8.27758610e-01,  1.53625769e+03, ...,\n",
       "          5.25824096e+01,  1.23876439e+01, -9.19388928e-02],\n",
       "        [ 1.24059525e+02, -7.23481655e-01,  1.77488305e+02, ...,\n",
       "          7.05015473e+01,  3.98950083e+01,  2.58415419e+00],\n",
       "        [ 9.71189270e+01, -2.72597218e+00,  1.64953684e+02, ...,\n",
       "          3.84217464e+00,  3.63747485e+01, -2.68695069e+00]]),\n",
       " array([[0.005, 0.   ],\n",
       "        [0.005, 0.   ],\n",
       "        [0.005, 0.   ],\n",
       "        ...,\n",
       "        [0.005, 0.   ],\n",
       "        [0.005, 0.   ],\n",
       "        [0.005, 0.   ]]))"
      ]
     },
     "execution_count": 12,
     "metadata": {},
     "output_type": "execute_result"
    }
   ],
   "source": [
    "sa.extract_samples_test(\n",
    "    theta=constant_morphing_theta([0.005,0.]),\n",
    "    n_samples=100000,\n",
    "    folder=sample_dir + 'test_www_small_tight',\n",
    "    filename='test'\n",
    ")"
   ]
  },
  {
   "cell_type": "code",
   "execution_count": 14,
   "metadata": {},
   "outputs": [
    {
     "name": "stderr",
     "output_type": "stream",
     "text": [
      "10:38  Extracting evaluation sample. Sampling according to ('theta', array([-0.005,  0.   ]))\n",
      "10:38  Effective number of samples: 989.1505252107842\n"
     ]
    },
    {
     "data": {
      "text/plain": [
       "(array([[ 1.23298172e+02,  2.58348513e+00,  2.04053212e+02, ...,\n",
       "          9.44341574e+01,  1.12610386e+01,  4.90115225e-02],\n",
       "        [ 8.79270554e+01,  2.30236316e+00,  9.13900053e+02, ...,\n",
       "          1.36758643e+00,  6.49419596e+01,  1.53461231e+00],\n",
       "        [ 1.34921570e+02,  4.59023088e-01,  2.11196001e+02, ...,\n",
       "          7.72217691e+01,  7.13919538e+01,  2.07502526e+00],\n",
       "        ...,\n",
       "        [ 9.45649948e+01,  2.08066726e+00,  2.05641363e+02, ...,\n",
       "          4.57456851e+01,  2.56162039e+01,  2.71131416e+00],\n",
       "        [ 1.67094864e+02,  1.62404323e+00,  3.45389553e+02, ...,\n",
       "          1.43207620e+02,  2.82108137e+01, -3.37517767e-01],\n",
       "        [ 2.34366486e+02, -7.45173275e-01,  9.98064050e+02, ...,\n",
       "          1.63433531e+02,  3.60964327e+00,  2.38521008e-02]]),\n",
       " array([[-0.005,  0.   ],\n",
       "        [-0.005,  0.   ],\n",
       "        [-0.005,  0.   ],\n",
       "        ...,\n",
       "        [-0.005,  0.   ],\n",
       "        [-0.005,  0.   ],\n",
       "        [-0.005,  0.   ]]))"
      ]
     },
     "execution_count": 14,
     "metadata": {},
     "output_type": "execute_result"
    }
   ],
   "source": [
    "sa.extract_samples_test(\n",
    "    theta=constant_morphing_theta([-0.005,0.]),\n",
    "    n_samples=100000,\n",
    "    folder=sample_dir + 'test_www_smallnegative_tight',\n",
    "    filename='test'\n",
    ")"
   ]
  },
  {
   "cell_type": "code",
   "execution_count": 7,
   "metadata": {},
   "outputs": [
    {
     "name": "stderr",
     "output_type": "stream",
     "text": [
      "09:59  Extracting evaluation sample. Sampling according to ('theta', array([0.  , 0.02]))\n",
      "09:59  Effective number of samples: 121.0377803284034\n"
     ]
    },
    {
     "data": {
      "text/plain": [
       "(array([[ 1.37806488e+02,  1.35081220e+00,  3.12915131e+02, ...,\n",
       "          1.30661486e+02,  1.89120114e+01, -2.24675448e-01],\n",
       "        [ 1.79046814e+02,  1.65292239e+00,  3.45149229e+02, ...,\n",
       "          1.62311555e+02,  1.89325979e+01,  2.88270186e+00],\n",
       "        [ 1.09205765e+02,  2.07176781e+00,  4.63694880e+02, ...,\n",
       "          6.92713904e+01,  1.60210299e+00, -1.85390817e-02],\n",
       "        ...,\n",
       "        [ 3.24035828e+02, -2.45303774e+00,  4.85000356e+02, ...,\n",
       "          2.32594055e+02,  1.81344728e+01,  2.89999621e+00],\n",
       "        [ 1.10621330e+02, -2.04121423e+00,  4.82436452e+03, ...,\n",
       "          6.99785850e+01,  4.12134563e+01,  4.93750332e-01],\n",
       "        [ 1.30596710e+02,  4.55058545e-01,  4.61122608e+02, ...,\n",
       "          9.18030577e+01,  5.71031895e+01, -7.59526792e-01]]),\n",
       " array([[0.  , 0.02],\n",
       "        [0.  , 0.02],\n",
       "        [0.  , 0.02],\n",
       "        ...,\n",
       "        [0.  , 0.02],\n",
       "        [0.  , 0.02],\n",
       "        [0.  , 0.02]]))"
      ]
     },
     "execution_count": 7,
     "metadata": {},
     "output_type": "execute_result"
    }
   ],
   "source": [
    "sa.extract_samples_test(\n",
    "    theta=constant_morphing_theta([0.,0.02]),\n",
    "    n_samples=100000,\n",
    "    folder=sample_dir + 'test_wwwtilde_tight',\n",
    "    filename='test'\n",
    ")"
   ]
  },
  {
   "cell_type": "code",
   "execution_count": 11,
   "metadata": {},
   "outputs": [
    {
     "name": "stderr",
     "output_type": "stream",
     "text": [
      "10:31  Extracting evaluation sample. Sampling according to ('theta', array([0.   , 0.005]))\n",
      "10:31  Effective number of samples: 988.5259861919268\n"
     ]
    },
    {
     "data": {
      "text/plain": [
       "(array([[ 9.35546631e+02, -2.98013747e-01,  1.69015191e+03, ...,\n",
       "          8.08507741e+02,  2.74514074e+00,  6.96583958e-02],\n",
       "        [ 3.19759857e+02, -1.58291769e+00,  8.42416084e+02, ...,\n",
       "          3.74892321e+02,  6.97266550e+00,  3.12757228e+00],\n",
       "        [ 1.76742737e+02, -2.83967900e+00,  3.60888451e+02, ...,\n",
       "          1.19213867e+02,  3.13900352e+00,  6.06286622e-02],\n",
       "        ...,\n",
       "        [ 1.06591537e+02, -1.71821427e+00,  2.78371766e+02, ...,\n",
       "          4.22812224e+01,  3.05732964e+01, -4.50498209e-01],\n",
       "        [ 9.05896225e+01,  2.27054644e+00,  5.55068144e+02, ...,\n",
       "          1.03960294e+02,  1.30264067e+01, -2.91799925e+00],\n",
       "        [ 1.20789719e+02,  5.31019829e-02,  2.40338555e+03, ...,\n",
       "          9.84474162e+01,  3.38142418e+01,  2.74735384e+00]]),\n",
       " array([[0.   , 0.005],\n",
       "        [0.   , 0.005],\n",
       "        [0.   , 0.005],\n",
       "        ...,\n",
       "        [0.   , 0.005],\n",
       "        [0.   , 0.005],\n",
       "        [0.   , 0.005]]))"
      ]
     },
     "execution_count": 11,
     "metadata": {},
     "output_type": "execute_result"
    }
   ],
   "source": [
    "sa.extract_samples_test(\n",
    "    theta=constant_morphing_theta([0.,0.005]),\n",
    "    n_samples=100000,\n",
    "    folder=sample_dir + 'test_wwwtilde_small_tight',\n",
    "    filename='test'\n",
    ")"
   ]
  },
  {
   "cell_type": "code",
   "execution_count": 13,
   "metadata": {},
   "outputs": [
    {
     "name": "stderr",
     "output_type": "stream",
     "text": [
      "10:37  Extracting evaluation sample. Sampling according to ('theta', array([ 0.   , -0.005]))\n",
      "10:37  Effective number of samples: 987.564710969861\n"
     ]
    },
    {
     "data": {
      "text/plain": [
       "(array([[ 1.32951599e+02, -2.98489904e+00,  3.70151570e+02, ...,\n",
       "          1.12577105e+02,  6.07643343e+00, -7.35909144e-02],\n",
       "        [ 1.07900330e+02, -2.71692061e+00,  2.32934420e+02, ...,\n",
       "          7.48271537e+01,  8.92589877e+00, -1.20320844e-01],\n",
       "        [ 1.30245819e+02,  1.72092533e+00,  7.36644100e+02, ...,\n",
       "          4.37636023e+01,  4.95122451e+01,  2.59473737e+00],\n",
       "        ...,\n",
       "        [ 1.65513168e+02, -9.71721947e-01,  7.96032643e+02, ...,\n",
       "          1.30639832e+02,  4.01425286e+01,  4.59745724e-01],\n",
       "        [ 9.47796783e+01, -3.07862496e+00,  2.06380654e+02, ...,\n",
       "          1.01431551e+02,  1.39677137e+01,  2.94336041e+00],\n",
       "        [ 1.23226509e+02, -2.50864840e+00,  2.81923381e+02, ...,\n",
       "          1.15361937e+02,  1.19702688e+01,  1.66102595e-01]]),\n",
       " array([[ 0.   , -0.005],\n",
       "        [ 0.   , -0.005],\n",
       "        [ 0.   , -0.005],\n",
       "        ...,\n",
       "        [ 0.   , -0.005],\n",
       "        [ 0.   , -0.005],\n",
       "        [ 0.   , -0.005]]))"
      ]
     },
     "execution_count": 13,
     "metadata": {},
     "output_type": "execute_result"
    }
   ],
   "source": [
    "sa.extract_samples_test(\n",
    "    theta=constant_morphing_theta([0.,-0.005]),\n",
    "    n_samples=100000,\n",
    "    folder=sample_dir + 'test_wwwtilde_smallnegative_tight',\n",
    "    filename='test'\n",
    ")"
   ]
  },
  {
   "cell_type": "markdown",
   "metadata": {},
   "source": [
    "### xsec test"
   ]
  },
  {
   "cell_type": "code",
   "execution_count": null,
   "metadata": {},
   "outputs": [],
   "source": [
    "thetas_benchmarks, xsecs_benchmarks, xsec_errors_benchmarks = sa.extract_cross_sections(\n",
    "    theta=multiple_benchmark_thetas(['sm', 'morphing_basis_vector_1', 'morphing_basis_vector_2', 'morphing_basis_vector_3', 'morphing_basis_vector_4', 'morphing_basis_vector_5'])\n",
    ")\n",
    "\n",
    "thetas_morphing, xsecs_morphing, xsec_errors_morphing = sa.extract_cross_sections(\n",
    "    theta=random_morphing_thetas(1000, [('gaussian', 0., 0.02), ('gaussian', 0., 0.02)])\n",
    ")"
   ]
  },
  {
   "cell_type": "code",
   "execution_count": null,
   "metadata": {},
   "outputs": [],
   "source": [
    "cmin, cmax = 0., 0.15\n",
    "\n",
    "fig = plt.figure(figsize=(5,4))\n",
    "\n",
    "sc = plt.scatter(thetas_morphing[:,0], thetas_morphing[:,1], c=xsecs_morphing,\n",
    "            s=40., cmap='viridis', vmin=cmin, vmax=cmax,\n",
    "            marker='o')\n",
    "\n",
    "plt.scatter(thetas_benchmarks[:,0], thetas_benchmarks[:,1], c=xsecs_benchmarks,\n",
    "            s=200., cmap='viridis', vmin=cmin, vmax=cmax,lw=2., edgecolor='black',\n",
    "            marker='s')\n",
    "\n",
    "cb = plt.colorbar(sc)\n",
    "cb.set_label('xsec [pb]')\n",
    "\n",
    "plt.xlim(-0.05,.05)\n",
    "plt.ylim(-0.05,.05)\n",
    "plt.tight_layout()\n",
    "plt.show()"
   ]
  },
  {
   "cell_type": "markdown",
   "metadata": {},
   "source": [
    "### Observable distributions"
   ]
  },
  {
   "cell_type": "code",
   "execution_count": null,
   "metadata": {},
   "outputs": [],
   "source": [
    "x_bsm1, _ = sa.extract_samples_test(\n",
    "    theta=constant_morphing_theta([0.02,0.]),\n",
    "    n_samples=1000000,\n",
    "    folder=None,\n",
    "    filename=None\n",
    ")\n",
    "\n",
    "x_bsm2, _ = sa.extract_samples_test(\n",
    "    theta=constant_morphing_theta([0.,0.02]),\n",
    "    n_samples=1000000,\n",
    "    folder=None,\n",
    "    filename=None\n",
    ")"
   ]
  },
  {
   "cell_type": "code",
   "execution_count": null,
   "metadata": {},
   "outputs": [],
   "source": [
    "bins = 25\n",
    "n_observables = x_sm.shape[1]\n",
    "n_cols = 3\n",
    "n_rows = (n_observables + n_cols - 1) // n_cols\n",
    "labels = sa.observables.keys()\n",
    "\n",
    "plt.figure(figsize=(4. * n_cols, 4. * n_rows))\n",
    "\n",
    "for i, label in enumerate(labels):\n",
    "    xmin = np.percentile(x_sm[:,i], 5.)\n",
    "    xmax = np.percentile(x_sm[:,i], 95.)\n",
    "    xwidth = xmax - xmin\n",
    "    xmin -= xwidth * 0.1\n",
    "    xmax += xwidth * 0.1\n",
    "    x_range = (xmin, xmax)\n",
    "    \n",
    "    ax = plt.subplot(n_rows, n_cols, i+1)\n",
    "       \n",
    "    plt.hist(x_sm[:,i], histtype='step', range=x_range, bins=bins, lw=1.5, label=r'SM', density=True) \n",
    "    plt.hist(x_bsm1[:,i], histtype='step', range=x_range, bins=bins, lw=1.5, label=r'$f_{WWW} = 0.02$', density=True)\n",
    "    plt.hist(x_bsm2[:,i], histtype='step', range=x_range, bins=bins, lw=1.5, label=r'$f_{\\tilde{W}WW} = 0.02$', density=True) \n",
    "    \n",
    "    if i == 0:\n",
    "        plt.legend()\n",
    "        \n",
    "    plt.xlabel(label)\n",
    "    \n",
    "plt.tight_layout()\n",
    "plt.savefig('observables.pdf')"
   ]
  },
  {
   "cell_type": "markdown",
   "metadata": {},
   "source": [
    "## Same without cuts"
   ]
  },
  {
   "cell_type": "code",
   "execution_count": 8,
   "metadata": {
    "scrolled": true
   },
   "outputs": [
    {
     "name": "stderr",
     "output_type": "stream",
     "text": [
      "08:01  Loading data from /Users/johannbrehmer/work/projects/madminer/diboson_mining/data/samples/wgamma/samples.h5\n",
      "08:01  Found 2 parameters:\n",
      "08:01     cWWW (LHA: dim6 1, maximal power in squared ME: (2,), range: (-0.02, 0.02))\n",
      "08:01     cWWWtilde (LHA: dim6 2, maximal power in squared ME: (2,), range: (-0.02, 0.02))\n",
      "08:01  Found 6 benchmarks:\n",
      "08:01     sm: cWWW = 0.00e+00, cWWWtilde = 0.00e+00\n",
      "08:01     morphing_basis_vector_1: cWWW = -6.07e-03, cWWWtilde = -1.84e-02\n",
      "08:01     morphing_basis_vector_2: cWWW = 1.00e-02, cWWWtilde = 1.70e-02\n",
      "08:01     morphing_basis_vector_3: cWWW = -1.99e-02, cWWWtilde = 1.87e-02\n",
      "08:01     morphing_basis_vector_4: cWWW = 1.97e-02, cWWWtilde = -1.53e-02\n",
      "08:01     morphing_basis_vector_5: cWWW = -1.65e-02, cWWWtilde = -6.33e-03\n",
      "08:01  Found 27 observables: et_miss, phi_miss, e_visible, eta_visible, e_l1, pt_l1, eta_l1, phi_l1, e_a1, pt_a1, eta_a1, phi_a1, e_j1, pt_j1, eta_j1, phi_j1, deltaphi_l1_met, deltaphi_a1_met, m_l1_met, pt_l1_met, m_l1_a1, deltaeta_l1_a1, deltaphi_l1_a1, m_a1_l1_met, pt_a1_l1_met, mt, phi_resurrection\n",
      "08:01  Found 1812119 events\n",
      "08:01  Found morphing setup with 6 components\n"
     ]
    }
   ],
   "source": [
    "sa_all = SampleAugmenter(sample_dir + 'samples.h5', debug=False)"
   ]
  },
  {
   "cell_type": "markdown",
   "metadata": {},
   "source": [
    "### SALLY training data"
   ]
  },
  {
   "cell_type": "code",
   "execution_count": 10,
   "metadata": {},
   "outputs": [
    {
     "name": "stderr",
     "output_type": "stream",
     "text": [
      "08:05  Extracting training sample for local score regression. Sampling and score evaluation according to ('theta', array([0., 0.]))\n",
      "08:05  Effective number of samples: 31840.86847466132\n"
     ]
    }
   ],
   "source": [
    "for i in range(1):\n",
    "    _, _, _ = sa_all.extract_samples_train_local(\n",
    "        theta=constant_morphing_theta([0.,0.]),\n",
    "        n_samples=1000000,\n",
    "        folder=sample_dir + 'train_local',\n",
    "        filename='train_' + str(i)\n",
    "    )"
   ]
  },
  {
   "cell_type": "markdown",
   "metadata": {},
   "source": [
    "### RASCAL training data"
   ]
  },
  {
   "cell_type": "code",
   "execution_count": 9,
   "metadata": {},
   "outputs": [
    {
     "name": "stderr",
     "output_type": "stream",
     "text": [
      "08:01  Extracting training sample for ratio-based methods. Numerator hypothesis: ('random', (1000, [('gaussian', 0.0, 0.005), ('gaussian', 0.0, 0.005)])), denominator hypothesis: ('theta', array([0., 0.]))\n",
      "08:03  Effective number of samples: mean 29061.326941483705, with individual thetas ranging from 21126.821551370085 to 31837.14656947281\n",
      "08:05  Effective number of samples: mean 31840.86847466132, with individual thetas ranging from 31840.86847466132 to 31840.86847466132\n"
     ]
    }
   ],
   "source": [
    "for i in range(1):\n",
    "    _ = sa_all.extract_samples_train_ratio(\n",
    "        theta0=random_morphing_thetas(1000, [('gaussian', 0., 0.005), ('gaussian', 0., 0.005)]),\n",
    "        theta1=constant_morphing_theta([0.,0.]),\n",
    "        n_samples=100000,\n",
    "        folder=sample_dir + 'train_ratio',\n",
    "        filename='train_' + str(i)\n",
    "    )"
   ]
  },
  {
   "cell_type": "markdown",
   "metadata": {},
   "source": [
    "### SCANDAL training data"
   ]
  },
  {
   "cell_type": "code",
   "execution_count": 13,
   "metadata": {},
   "outputs": [
    {
     "name": "stderr",
     "output_type": "stream",
     "text": [
      "08:25  Extracting training sample for non-local score-based methods. Sampling and score evaluation according to ('random', (10000, [('gaussian', 0.0, 0.005), ('gaussian', 0.0, 0.005)]))\n",
      "09:05  Effective number of samples: mean 29061.722971376337, with individual thetas ranging from 22171.365105915786 to 31818.780204395815\n"
     ]
    }
   ],
   "source": [
    "for i in range(1):\n",
    "    _, _, _ = sa_all.extract_samples_train_global(\n",
    "        theta=random_morphing_thetas(10000, [('gaussian', 0., 0.005), ('gaussian', 0., 0.005)]),\n",
    "        n_samples=100000,\n",
    "        folder=sample_dir + 'train_scandal',\n",
    "        filename='train_' + str(i)\n",
    "    )"
   ]
  },
  {
   "cell_type": "markdown",
   "metadata": {},
   "source": [
    "### Validation and test data"
   ]
  },
  {
   "cell_type": "code",
   "execution_count": null,
   "metadata": {},
   "outputs": [],
   "source": [
    "_, _ = sa_all.extract_samples_train_plain(\n",
    "    theta=constant_morphing_theta([0.,0.]),\n",
    "    n_samples=1000000,\n",
    "    folder=sample_dir + 'validation',\n",
    "    filename='validation'\n",
    ")"
   ]
  },
  {
   "cell_type": "code",
   "execution_count": null,
   "metadata": {},
   "outputs": [],
   "source": [
    "_, _ = sa_all.extract_samples_test(\n",
    "    theta=constant_morphing_theta([0.,0.]),\n",
    "    n_samples=1000000,\n",
    "    folder=sample_dir + 'test',\n",
    "    filename='test'\n",
    ")"
   ]
  },
  {
   "cell_type": "code",
   "execution_count": 12,
   "metadata": {},
   "outputs": [
    {
     "name": "stderr",
     "output_type": "stream",
     "text": [
      "09:35  Extracting evaluation sample. Sampling according to ('theta', array([0., 0.]))\n",
      "09:35  Effective number of samples: 31624.695477491\n"
     ]
    },
    {
     "data": {
      "text/plain": [
       "(array([[ 33.63955688,  -1.32547581,  78.75690037, ...,   4.8128867 ,\n",
       "          45.5395498 ,   1.25617526],\n",
       "        [ 34.86075592,  -1.12120962,  61.00724132, ...,   9.202712  ,\n",
       "          32.519492  ,   0.65004966],\n",
       "        [ 24.37664986,  -0.35482651,  73.75482329, ...,  17.13900984,\n",
       "          25.77555574,  -0.81200949],\n",
       "        ...,\n",
       "        [ 32.48851776,   0.85764343,  69.83294366, ...,   7.05666343,\n",
       "          37.67651509,  -0.6945806 ],\n",
       "        [ 27.93987274,   1.27250886, 204.45277512, ...,  22.22741193,\n",
       "          15.90669642,  -2.4953326 ],\n",
       "        [ 35.40591049,   2.32230139,  77.60011941, ...,   3.1489973 ,\n",
       "          38.86250583,   0.61047389]]), array([[0., 0.],\n",
       "        [0., 0.],\n",
       "        [0., 0.],\n",
       "        ...,\n",
       "        [0., 0.],\n",
       "        [0., 0.],\n",
       "        [0., 0.]]))"
      ]
     },
     "execution_count": 12,
     "metadata": {},
     "output_type": "execute_result"
    }
   ],
   "source": [
    "sa_all.extract_samples_test(\n",
    "    theta=constant_morphing_theta([0.,0.]),\n",
    "    n_samples=100000,\n",
    "    folder=sample_dir + 'test_sm',\n",
    "    filename='test'\n",
    ")"
   ]
  },
  {
   "cell_type": "code",
   "execution_count": 9,
   "metadata": {},
   "outputs": [
    {
     "name": "stderr",
     "output_type": "stream",
     "text": [
      "09:59  Extracting evaluation sample. Sampling according to ('theta', array([0.02, 0.  ]))\n",
      "09:59  Effective number of samples: 3095.4724877464905\n"
     ]
    },
    {
     "data": {
      "text/plain": [
       "(array([[ 4.61141739e+01, -2.73424649e+00,  2.27482723e+02, ...,\n",
       "          5.63601857e+01,  3.77629742e+01, -3.98108857e-01],\n",
       "        [ 4.54617882e+01,  1.26141322e+00,  1.24027757e+02, ...,\n",
       "          2.79403951e+01,  2.87716368e+01, -2.59429185e+00],\n",
       "        [ 2.92661781e+01,  2.03325009e+00,  6.82095041e+01, ...,\n",
       "          3.73196028e+01,  5.97169686e+00, -2.97392435e-02],\n",
       "        ...,\n",
       "        [ 4.00937996e+01, -1.14860785e+00,  1.92984388e+02, ...,\n",
       "          7.46425158e+01,  1.69630078e-01, -2.93841221e+00],\n",
       "        [ 2.48513508e+01,  1.49243534e-01,  6.84489512e+01, ...,\n",
       "          3.63272853e+01,  3.05801054e+01,  2.40797754e+00],\n",
       "        [ 5.07174911e+01,  8.88021588e-02,  2.71527280e+02, ...,\n",
       "          1.47594181e+01,  7.22855281e+01,  1.06345882e+00]]),\n",
       " array([[0.02, 0.  ],\n",
       "        [0.02, 0.  ],\n",
       "        [0.02, 0.  ],\n",
       "        ...,\n",
       "        [0.02, 0.  ],\n",
       "        [0.02, 0.  ],\n",
       "        [0.02, 0.  ]]))"
      ]
     },
     "execution_count": 9,
     "metadata": {},
     "output_type": "execute_result"
    }
   ],
   "source": [
    "sa_all.extract_samples_test(\n",
    "    theta=constant_morphing_theta([0.02,0.]),\n",
    "    n_samples=100000,\n",
    "    folder=sample_dir + 'test_www',\n",
    "    filename='test'\n",
    ")"
   ]
  },
  {
   "cell_type": "code",
   "execution_count": 10,
   "metadata": {},
   "outputs": [
    {
     "name": "stderr",
     "output_type": "stream",
     "text": [
      "09:59  Extracting evaluation sample. Sampling according to ('theta', array([0.  , 0.02]))\n",
      "09:59  Effective number of samples: 3098.0642083404823\n"
     ]
    },
    {
     "data": {
      "text/plain": [
       "(array([[ 4.41705627e+01, -8.95153940e-01,  7.50651612e+01, ...,\n",
       "          2.85605103e+01,  6.37702337e+01, -1.79635355e+00],\n",
       "        [ 6.55903015e+01,  1.13249612e+00,  6.60149519e+02, ...,\n",
       "          1.16195792e+02,  1.72467281e+00,  1.96026153e+00],\n",
       "        [ 3.18176022e+01,  4.11449909e-01,  9.08938832e+01, ...,\n",
       "          1.92315213e+01,  2.97873467e+01,  2.23080913e+00],\n",
       "        ...,\n",
       "        [ 4.04289017e+01,  1.85120416e+00,  4.01068205e+01, ...,\n",
       "          1.62859981e+00,  5.16281080e+01,  9.29954165e-01],\n",
       "        [ 4.90747871e+01,  1.97064793e+00,  1.84243887e+02, ...,\n",
       "          5.34057040e+01,  5.14223205e+01, -1.61017218e+00],\n",
       "        [ 3.32412987e+01, -1.32163799e+00,  7.02739579e+01, ...,\n",
       "          3.13776623e+01,  5.05438720e+01,  2.84102456e+00]]),\n",
       " array([[0.  , 0.02],\n",
       "        [0.  , 0.02],\n",
       "        [0.  , 0.02],\n",
       "        ...,\n",
       "        [0.  , 0.02],\n",
       "        [0.  , 0.02],\n",
       "        [0.  , 0.02]]))"
      ]
     },
     "execution_count": 10,
     "metadata": {},
     "output_type": "execute_result"
    }
   ],
   "source": [
    "sa_all.extract_samples_test(\n",
    "    theta=constant_morphing_theta([0.,0.02]),\n",
    "    n_samples=100000,\n",
    "    folder=sample_dir + 'test_wwwtilde',\n",
    "    filename='test'\n",
    ")"
   ]
  },
  {
   "cell_type": "code",
   "execution_count": null,
   "metadata": {},
   "outputs": [],
   "source": []
  }
 ],
 "metadata": {
  "kernelspec": {
   "display_name": "Python 3",
   "language": "python",
   "name": "python3"
  },
  "language_info": {
   "codemirror_mode": {
    "name": "ipython",
    "version": 3
   },
   "file_extension": ".py",
   "mimetype": "text/x-python",
   "name": "python",
   "nbconvert_exporter": "python",
   "pygments_lexer": "ipython3",
   "version": "3.6.7"
  }
 },
 "nbformat": 4,
 "nbformat_minor": 2
}
