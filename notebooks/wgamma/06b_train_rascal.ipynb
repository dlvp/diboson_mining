{
 "cells": [
  {
   "cell_type": "markdown",
   "metadata": {
    "nbpresent": {
     "id": "f9deb73c-b62f-4cff-8d83-724074098c92"
    }
   },
   "source": [
    "# Train RASCAL ensemble\n",
    "\n",
    "Johann Brehmer, Kyle Cranmer, Marco Farina, Felix Kling, Duccio Pappadopulo, Josh Ruderman 2018"
   ]
  },
  {
   "cell_type": "code",
   "execution_count": 1,
   "metadata": {
    "nbpresent": {
     "id": "fe57a76c-4838-44c4-b0cc-5ee166785e4a"
    }
   },
   "outputs": [],
   "source": [
    "from __future__ import absolute_import, division, print_function, unicode_literals\n",
    "\n",
    "import numpy as np\n",
    "import matplotlib\n",
    "from matplotlib import pyplot as plt\n",
    "%matplotlib inline\n",
    "import logging\n",
    "import os\n",
    "%load_ext line_profiler\n",
    "\n",
    "from madminer.sampling import SampleAugmenter\n",
    "from madminer.sampling import multiple_benchmark_thetas\n",
    "from madminer.sampling import constant_morphing_theta, multiple_morphing_thetas, random_morphing_thetas\n",
    "from madminer.ml import MLForge, EnsembleForge\n",
    "from madminer.utils.ml.ratio_trainer import train_ratio_model\n"
   ]
  },
  {
   "cell_type": "code",
   "execution_count": 2,
   "metadata": {},
   "outputs": [],
   "source": [
    "logging.basicConfig(\n",
    "    format='%(asctime)-5.5s %(name)-20.20s %(levelname)-7.7s %(message)s',\n",
    "    datefmt='%H:%M',\n",
    "    level=logging.DEBUG\n",
    ")\n",
    "\n",
    "for key in logging.Logger.manager.loggerDict:\n",
    "    if \"madminer\" not in key:\n",
    "        logging.getLogger(key).setLevel(logging.WARNING)"
   ]
  },
  {
   "cell_type": "code",
   "execution_count": 3,
   "metadata": {
    "nbpresent": {
     "id": "f3463c40-6421-42a1-8681-527c3ec42541"
    }
   },
   "outputs": [],
   "source": [
    "base_dir = '/Users/johannbrehmer/work/projects/madminer/diboson_mining/'\n",
    "mg_dir = '/Users/johannbrehmer/work/projects/madminer/MG5_aMC_v2_6_4/'"
   ]
  },
  {
   "cell_type": "code",
   "execution_count": 4,
   "metadata": {
    "nbpresent": {
     "id": "b2c73eca-c625-4f7a-9cee-4ccb2dcbb3e9"
    }
   },
   "outputs": [],
   "source": [
    "sample_dir = base_dir + 'data/samples/wgamma_sys/'\n",
    "card_dir = base_dir + 'cards/wgamma/'\n",
    "ufo_model_dir = card_dir + 'SMWgamma_UFO'\n",
    "run_card_dir = card_dir + 'run_cards/'\n",
    "mg_process_dir = base_dir + 'data/mg_processes/wgamma_sys/'\n",
    "log_dir = base_dir + 'logs/wgamma_sys/'\n",
    "temp_dir = base_dir + 'data/temp'\n",
    "delphes_dir = mg_dir + 'Delphes'"
   ]
  },
  {
   "cell_type": "markdown",
   "metadata": {},
   "source": [
    "## Settings"
   ]
  },
  {
   "cell_type": "code",
   "execution_count": 6,
   "metadata": {},
   "outputs": [],
   "source": [
    "n_estimators = 10"
   ]
  },
  {
   "cell_type": "markdown",
   "metadata": {},
   "source": [
    "## Training function"
   ]
  },
  {
   "cell_type": "code",
   "execution_count": 7,
   "metadata": {},
   "outputs": [],
   "source": [
    "def train_ensemble(filename, use_tight_cuts=True, n_estimators=n_estimators, **kwargs):\n",
    "    cut_label = '_tight' if use_tight_cuts else ''\n",
    "    \n",
    "    ensemble = EnsembleForge(n_estimators, debug=False)\n",
    "\n",
    "    ensemble.train_all(\n",
    "        method='rascal',\n",
    "        x_filename=[sample_dir + 'train_ratio{}/x_train_{}.npy'.format(cut_label, i) for i in range(n_estimators)],\n",
    "        theta0_filename=[sample_dir + 'train_ratio{}/theta0_train_{}.npy'.format(cut_label, i) for i in range(n_estimators)],\n",
    "        t_xz0_filename=[sample_dir + 'train_ratio{}/t_xz_train_{}.npy'.format(cut_label, i) for i in range(n_estimators)],\n",
    "        r_xz_filename=[sample_dir + 'train_ratio{}/r_xz_train_{}.npy'.format(cut_label, i) for i in range(n_estimators)],\n",
    "        y_filename=[sample_dir + 'train_ratio{}/y_train_{}.npy'.format(cut_label, i) for i in range(n_estimators)],\n",
    "        **kwargs\n",
    "    )\n",
    "\n",
    "    ensemble.save(model_dir + 'rascal_ensemble_' + filename)"
   ]
  },
  {
   "cell_type": "markdown",
   "metadata": {},
   "source": [
    "## Line profiler"
   ]
  },
  {
   "cell_type": "code",
   "execution_count": null,
   "metadata": {},
   "outputs": [
    {
     "name": "stderr",
     "output_type": "stream",
     "text": [
      "13:23 madminer.ml          INFO    Training 1 estimators in ensemble\n",
      "13:23 madminer.ml          INFO    Training estimator 1 / 1 in ensemble\n",
      "13:23 madminer.ml          INFO    Starting training\n",
      "13:23 madminer.ml          INFO      Method:                 rascal\n",
      "13:23 madminer.ml          INFO      Training data: x at /Users/johannbrehmer/work/projects/madminer/diboson_mining/data/samples/wgamma_sys/train_ratio_tight/x_train_0.npy\n",
      "13:23 madminer.ml          INFO                     theta0 at /Users/johannbrehmer/work/projects/madminer/diboson_mining/data/samples/wgamma_sys/train_ratio_tight/theta0_train_0.npy\n",
      "13:23 madminer.ml          INFO                     y at /Users/johannbrehmer/work/projects/madminer/diboson_mining/data/samples/wgamma_sys/train_ratio_tight/y_train_0.npy\n",
      "13:23 madminer.ml          INFO                     r_xz at /Users/johannbrehmer/work/projects/madminer/diboson_mining/data/samples/wgamma_sys/train_ratio_tight/r_xz_train_0.npy\n",
      "13:23 madminer.ml          INFO                     t_xz (theta0) at  /Users/johannbrehmer/work/projects/madminer/diboson_mining/data/samples/wgamma_sys/train_ratio_tight/t_xz_train_0.npy\n",
      "13:23 madminer.ml          INFO      Features:               all\n",
      "13:23 madminer.ml          INFO      Method:                 rascal\n",
      "13:23 madminer.ml          INFO      Hidden layers:          (100, 100)\n",
      "13:23 madminer.ml          INFO      Activation function:    tanh\n",
      "13:23 madminer.ml          INFO      alpha:                  1.0\n",
      "13:23 madminer.ml          INFO      Batch size:             1000\n",
      "13:23 madminer.ml          INFO      Trainer:                amsgrad\n",
      "13:23 madminer.ml          INFO      Epochs:                 1\n",
      "13:23 madminer.ml          INFO      Learning rate:          0.001 initially, decaying to 0.0001\n",
      "13:23 madminer.ml          INFO      Validation split:       None\n",
      "13:23 madminer.ml          INFO      Early stopping:         True\n",
      "13:23 madminer.ml          INFO      Scale inputs:           True\n",
      "13:23 madminer.ml          INFO      Shuffle labels          False\n",
      "13:23 madminer.ml          INFO      Regularization:         None\n",
      "13:23 madminer.ml          INFO    Loading training data\n",
      "13:23 madminer.ml          INFO    Found 1000000 samples with 2 parameters and 33 observables\n",
      "13:23 madminer.ml          INFO    Rescaling inputs\n",
      "13:23 madminer.ml          DEBUG   Observable ranges:\n",
      "13:23 madminer.ml          DEBUG     x_1: mean 4.7677417569502726e-18, std 1.0000000000000115, range -0.7942303068923647 ... 16.957864877400574\n",
      "13:23 madminer.ml          DEBUG     x_2: mean -1.5027978861326118e-18, std 0.9999999999999497, range -1.7435826544999349 ... 1.7435111256516151\n",
      "13:23 madminer.ml          DEBUG     x_3: mean -1.6698393778824537e-14, std 0.9999999999999704, range -1.232403735382644 ... 14.963804924404801\n",
      "13:23 madminer.ml          DEBUG     x_4: mean 9.07407482486633e-17, std 1.0000000000000109, range -5.236556961755762 ... 5.0907123321173176\n",
      "13:23 madminer.ml          DEBUG     x_5: mean -1.3066501836078715e-13, std 0.9999999999999793, range -1.1189589502984993 ... 17.232565290101377\n",
      "13:23 madminer.ml          DEBUG     x_6: mean -8.951062113737862e-17, std 0.9999999999999749, range -1.0713170582852218 ... 19.43361058706178\n",
      "13:23 madminer.ml          DEBUG     x_7: mean -1.5702994460298215e-17, std 1.0000000000000067, range -2.322281310198263 ... 2.314146598045275\n",
      "13:23 madminer.ml          DEBUG     x_8: mean -3.945643811675836e-17, std 1.0000000000000073, range -1.7211943240694376 ... 1.7166223116753392\n",
      "13:23 madminer.ml          DEBUG     x_9: mean 5.237232869603758e-17, std 1.0000000000000027, range -1.1249264346030534 ... 8.221199088568868\n",
      "13:23 madminer.ml          DEBUG     x_10: mean -1.2168399621259595e-16, std 0.999999999999988, range -0.7511145915330651 ... 12.175721411009548\n",
      "13:23 madminer.ml          DEBUG     x_11: mean -1.333333443653828e-17, std 1.0000000000000075, range -2.040791521781366 ... 2.0406058254600627\n",
      "13:23 madminer.ml          DEBUG     x_12: mean -1.0803802297232323e-17, std 1.000000000000023, range -1.7223784271050344 ... 1.7262585865626296\n",
      "13:23 madminer.ml          DEBUG     x_13: mean 2.0863531347004028e-14, std 0.9999999999980459, range -0.5459703531141229 ... 16.89896162093046\n",
      "13:23 madminer.ml          DEBUG     x_14: mean 4.020606070298527e-17, std 0.9999999999957088, range -0.6969116136412469 ... 28.10746408950962\n",
      "13:23 madminer.ml          DEBUG     x_15: mean 1.8196999462816165e-17, std 1.000000000002209, range -3.8421584999673777 ... 3.869053803260797\n",
      "13:23 madminer.ml          DEBUG     x_16: mean 2.874500637517485e-17, std 1.000000000005153, range -2.370233702316146 ... 2.3652843241395325\n",
      "13:23 madminer.ml          DEBUG     x_17: mean -1.4135537185211432e-16, std 1.0000000000008888, range -0.7336224821856496 ... 1.6011853462641732\n",
      "13:23 madminer.ml          DEBUG     x_18: mean -3.240048229713466e-14, std 0.9999999999999747, range -1.7985923277400877 ... 13.473383446443489\n",
      "13:23 madminer.ml          DEBUG     x_19: mean -6.220034265425057e-14, std 0.9999999999999984, range -1.3420460169772732 ... 31.37338036918341\n",
      "13:23 madminer.ml          DEBUG     x_20: mean -1.2211789801597205e-13, std 1.0000000000000295, range -1.8195388861741693 ... 14.340066446094617\n",
      "13:23 madminer.ml          DEBUG     x_21: mean 4.7551321102901054e-14, std 1.000000000000034, range -1.298590170442905 ... 16.081122593629356\n",
      "13:23 madminer.ml          DEBUG     x_22: mean 3.001495940679888e-15, std 1.0000000000000413, range -1.74029441503206 ... 12.120261264449152\n",
      "13:23 madminer.ml          DEBUG     x_23: mean 1.6464554875028624e-13, std 1.0000000000000038, range -1.5580221726926657 ... 19.75048014804569\n",
      "13:23 madminer.ml          DEBUG     x_24: mean -6.031086741131731e-17, std 1.0000000000000058, range -1.9522530303380028 ... 1.934563354999972\n",
      "13:23 madminer.ml          DEBUG     x_25: mean 1.0359713087382261e-17, std 1.000000000000012, range -4.911022090512875 ... 4.904970934934844\n",
      "13:23 madminer.ml          DEBUG     x_26: mean -4.9773518639995015e-18, std 1.0000000000000127, range -2.001705970409067 ... 1.9957322496828873\n",
      "13:23 madminer.ml          DEBUG     x_27: mean -1.1013412404281553e-19, std 1.0000000000000684, range -3.0189604312910747 ... 3.0352689209872175\n",
      "13:23 madminer.ml          DEBUG     x_28: mean 2.105508229988118e-13, std 1.0000000000000098, range -1.53840197602627 ... 12.030473906219191\n",
      "13:23 madminer.ml          DEBUG     x_29: mean -4.5427068329217946e-14, std 1.0000000000000393, range -0.840511517745207 ... 32.41549005072682\n",
      "13:23 madminer.ml          DEBUG     x_30: mean -3.564072414974362e-14, std 1.0000000000000024, range -0.7763796230585426 ... 65.30657836273463\n",
      "13:23 madminer.ml          DEBUG     x_31: mean -4.6863846137057406e-17, std 1.0000000000000555, range -1.6967009006791622 ... 1.6832146445509628\n",
      "13:23 madminer.ml          DEBUG     x_32: mean 1.0693668173189508e-17, std 0.9999999999999836, range -1.6832448279238879 ... 1.6816357739136507\n",
      "13:23 madminer.ml          DEBUG     x_33: mean -2.1155699414521222e-16, std 0.9999999999999907, range -1.6939016375032927 ... 1.6833119980457358\n",
      "13:23 madminer.ml          INFO    Creating model for method rascal\n",
      "13:23 madminer.ml          INFO    Training model\n",
      "13:23 madminer.utils.ml.ra DEBUG   Training on CPU with single precision\n",
      "13:23 madminer.utils.ml.ra DEBUG   Preparing data\n"
     ]
    }
   ],
   "source": [
    "%lprun -f train_ratio_model train_ensemble('all_tight', use_tight_cuts=True, n_estimators=1, n_epochs=1, batch_size=1000)\n"
   ]
  },
  {
   "cell_type": "markdown",
   "metadata": {
    "nbpresent": {
     "id": "b45e7f73-8f4c-4261-a381-4b7ad6af120f"
    }
   },
   "source": [
    "## All observables"
   ]
  },
  {
   "cell_type": "code",
   "execution_count": null,
   "metadata": {
    "scrolled": false
   },
   "outputs": [],
   "source": [
    "train_ensemble(\n",
    "    'all',\n",
    "    use_tight_cuts=False,\n",
    "    n_epochs=10\n",
    ")"
   ]
  },
  {
   "cell_type": "code",
   "execution_count": null,
   "metadata": {},
   "outputs": [],
   "source": [
    "train_ensemble(\n",
    "    'all_tight',\n",
    "    use_tight_cuts=True,\n",
    "    n_epochs=1\n",
    ")"
   ]
  },
  {
   "cell_type": "markdown",
   "metadata": {},
   "source": [
    "## Just resurrection phi"
   ]
  },
  {
   "cell_type": "code",
   "execution_count": null,
   "metadata": {},
   "outputs": [],
   "source": [
    "train_ensemble(\n",
    "    'resurrection',\n",
    "    use_tight_cuts=True,\n",
    "    features=[[26] for _ in range(n_estimators)],\n",
    ")"
   ]
  },
  {
   "cell_type": "code",
   "execution_count": null,
   "metadata": {},
   "outputs": [],
   "source": []
  }
 ],
 "metadata": {
  "kernelspec": {
   "display_name": "Python 3",
   "language": "python",
   "name": "python3"
  },
  "language_info": {
   "codemirror_mode": {
    "name": "ipython",
    "version": 3
   },
   "file_extension": ".py",
   "mimetype": "text/x-python",
   "name": "python",
   "nbconvert_exporter": "python",
   "pygments_lexer": "ipython3",
   "version": "3.6.7"
  }
 },
 "nbformat": 4,
 "nbformat_minor": 2
}
