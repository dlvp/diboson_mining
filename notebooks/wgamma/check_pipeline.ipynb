{
 "cells": [
  {
   "cell_type": "markdown",
   "metadata": {},
   "source": [
    "# Cross checks\n",
    "\n",
    "Johann Brehmer, Kyle Cranmer, Marco Farina, Felix Kling, Duccio Pappadopulo, Josh Ruderman 2018"
   ]
  },
  {
   "cell_type": "code",
   "execution_count": 1,
   "metadata": {},
   "outputs": [],
   "source": [
    "from __future__ import absolute_import, division, print_function, unicode_literals\n",
    "\n",
    "import math\n",
    "import numpy as np\n",
    "import matplotlib\n",
    "from matplotlib import pyplot as plt\n",
    "%matplotlib inline\n",
    "\n",
    "from madminer.core import MadMiner\n",
    "from madminer.delphes import DelphesProcessor\n",
    "from madminer.sampling import SampleAugmenter\n",
    "from madminer.utils.particle import MadMinerParticle\n",
    "from madminer.sampling import multiple_benchmark_thetas\n",
    "from madminer.sampling import constant_morphing_theta, multiple_morphing_thetas, random_morphing_thetas"
   ]
  },
  {
   "cell_type": "code",
   "execution_count": 2,
   "metadata": {},
   "outputs": [],
   "source": [
    "base_dir = '/Users/johannbrehmer/work/projects/madminer/diboson_mining/'\n",
    "mg_dir = '/Users/johannbrehmer/work/projects/madminer/MG5_aMC_v2_6_2/'"
   ]
  },
  {
   "cell_type": "code",
   "execution_count": 3,
   "metadata": {},
   "outputs": [],
   "source": [
    "sample_dir = base_dir + 'data/samples/wgamma_check/'\n",
    "card_dir = base_dir + 'cards/wgamma_check/'\n",
    "ufo_model_dir = card_dir + 'SMWgamma_UFO'\n",
    "run_card_dir = card_dir + 'run_cards/'\n",
    "mg_process_dir = base_dir + 'data/mg_processes/wgamma_check/'\n",
    "log_dir = base_dir + 'logs/wgamma_check/'\n",
    "temp_dir = base_dir + 'data/temp'\n",
    "delphes_dir = mg_dir + 'Delphes'"
   ]
  },
  {
   "cell_type": "markdown",
   "metadata": {},
   "source": [
    "## Load setup"
   ]
  },
  {
   "cell_type": "code",
   "execution_count": 4,
   "metadata": {},
   "outputs": [
    {
     "name": "stderr",
     "output_type": "stream",
     "text": [
      "11:10  \n",
      "11:10  ------------------------------------------------------------\n",
      "11:10  |                                                          |\n",
      "11:10  |  MadMiner v0.1.0                                         |\n",
      "11:10  |                                                          |\n",
      "11:10  |           Johann Brehmer, Kyle Cranmer, and Felix Kling  |\n",
      "11:10  |                                                          |\n",
      "11:10  ------------------------------------------------------------\n",
      "11:10  \n",
      "11:10  Found 2 parameters:\n",
      "11:10     cWWW (LHA: dim6 1, maximal power in squared ME: (2,), range: (-0.02, 0.02))\n",
      "11:10     cWWWtilde (LHA: dim6 2, maximal power in squared ME: (2,), range: (-0.02, 0.02))\n",
      "11:10  Found 6 benchmarks:\n",
      "11:10     sm: cWWW = 0.00e+00, cWWWtilde = 0.00e+00\n",
      "11:10     morphing_basis_vector_1: cWWW = -6.07e-03, cWWWtilde = -1.84e-02\n",
      "11:10     morphing_basis_vector_2: cWWW = 1.00e-02, cWWWtilde = 1.70e-02\n",
      "11:10     morphing_basis_vector_3: cWWW = -1.99e-02, cWWWtilde = 1.87e-02\n",
      "11:10     morphing_basis_vector_4: cWWW = 1.97e-02, cWWWtilde = -1.53e-02\n",
      "11:10     morphing_basis_vector_5: cWWW = -1.65e-02, cWWWtilde = -6.33e-03\n",
      "11:10  Found morphing setup with 6 components\n"
     ]
    }
   ],
   "source": [
    "mm = MadMiner(debug=False)\n",
    "\n",
    "mm.load(sample_dir + 'setup.h5')"
   ]
  },
  {
   "cell_type": "markdown",
   "metadata": {},
   "source": [
    "## Run MG"
   ]
  },
  {
   "cell_type": "code",
   "execution_count": null,
   "metadata": {},
   "outputs": [
    {
     "name": "stderr",
     "output_type": "stream",
     "text": [
      "11:11  Generating MadGraph process folder from /Users/johannbrehmer/work/projects/madminer/diboson_mining/cards/wgamma_check/proc_card_mg5.dat at /Users/johannbrehmer/work/projects/madminer/diboson_mining/data/mg_processes/wgamma_check/\n",
      "11:11  Run 0\n",
      "11:11    Sampling from benchmark: sm\n",
      "11:11    Original run card:       /Users/johannbrehmer/work/projects/madminer/diboson_mining/cards/wgamma_check/run_cards/run_card.dat\n",
      "11:11    Original Pythia8 card:   /Users/johannbrehmer/work/projects/madminer/diboson_mining/cards/wgamma_check/pythia8_card.dat\n",
      "11:11    Copied run card:         /madminer/cards/run_card_0.dat\n",
      "11:11    Copied Pythia8 card:     /madminer/cards/pythia8_card_0.dat\n",
      "11:11    Param card:              /madminer/cards/param_card_0.dat\n",
      "11:11    Reweight card:           /madminer/cards/reweight_card_0.dat\n",
      "11:11    Log file:                run_0.log\n",
      "11:11  Creating param and reweight cards in /Users/johannbrehmer/work/projects/madminer/diboson_mining/data/mg_processes/wgamma_check///madminer/cards/param_card_0.dat, /Users/johannbrehmer/work/projects/madminer/diboson_mining/data/mg_processes/wgamma_check///madminer/cards/reweight_card_0.dat\n",
      "11:11  Starting MadGraph and Pythia in /Users/johannbrehmer/work/projects/madminer/diboson_mining/data/mg_processes/wgamma_check/\n"
     ]
    }
   ],
   "source": [
    "mm.run(\n",
    "    mg_directory=mg_dir,\n",
    "    proc_card_file=card_dir + 'proc_card_mg5.dat',\n",
    "    param_card_template_file=card_dir + 'param_card.dat',\n",
    "    pythia8_card_file=card_dir + 'pythia8_card.dat',\n",
    "    run_card_file=run_card_dir + 'run_card.dat',\n",
    "    mg_process_directory=mg_process_dir,\n",
    "    ufo_model_directory=ufo_model_dir,\n",
    "    temp_directory=temp_dir,\n",
    "    sample_benchmark='sm',\n",
    "    is_background=False,\n",
    "    only_prepare_script=False,\n",
    "    initial_command='source activate python2',\n",
    "    log_directory=log_dir\n",
    ")"
   ]
  },
  {
   "cell_type": "markdown",
   "metadata": {},
   "source": [
    "## Define observables"
   ]
  },
  {
   "cell_type": "code",
   "execution_count": null,
   "metadata": {},
   "outputs": [],
   "source": [
    "def calculate_mt(leptons, photons, jets, met):\n",
    "    # Particles\n",
    "    if len(leptons) < 1:\n",
    "        raise RuntimeError()\n",
    "    \n",
    "    l = leptons[0]\n",
    "    \n",
    "    # Transverse mass and Delta\n",
    "    cos_delta_phi = np.cos(l.phi() - met.phi())\n",
    "    mt = (2 * l.pt * met.pt * (1. - cos_delta_phi))**0.5\n",
    "    \n",
    "    return mt"
   ]
  },
  {
   "cell_type": "code",
   "execution_count": null,
   "metadata": {},
   "outputs": [],
   "source": [
    "def calculate_phi(leptons, photons, jets, met):\n",
    "    # Parameters\n",
    "    mw = 80.4\n",
    "    \n",
    "    # Particles\n",
    "    if len(leptons) < 1 or len(photons) < 1:\n",
    "        raise RuntimeError()\n",
    "    \n",
    "    l = leptons[0]\n",
    "    a = photons[0]\n",
    "    \n",
    "    # Transverse mass and Delta\n",
    "    mt = calculate_mt(leptons, photons, jets, met)\n",
    "    deltasq = 0.\n",
    "    if met.pt > 0. and l.pt > 0.:\n",
    "        deltasq = (mw**2 - mt**2) / (2. * met.pt * l.pt)\n",
    "    \n",
    "    # v reconstruction, \"normal\" case\n",
    "    if deltasq > 0.:\n",
    "        # Two solutions\n",
    "        temp = np.log(1 + deltasq**0.5 * (2 + deltasq)**0.5 + deltasq)\n",
    "        eta_v_plus = l.eta + temp\n",
    "        eta_v_minus = l.eta - temp\n",
    "        \n",
    "        # Randomly select one of them\n",
    "        dice = np.random.rand()\n",
    "        if dice > 0.5:\n",
    "            eta_v = eta_v_plus\n",
    "        else:\n",
    "            eta_v = eta_v_minus\n",
    "            \n",
    "    # v reconstruction, \"other\" case\n",
    "    else:\n",
    "        eta_v = l.eta\n",
    "        \n",
    "    # v particle\n",
    "    v = MadMinerParticle()\n",
    "    v.setptetaphim(met.pt, eta_v, met.phi(), 0.)\n",
    "    \n",
    "    # W and Wgamma reconstruction\n",
    "    w = l + v\n",
    "    vv = w + a\n",
    "    \n",
    "    # Boost into VV frame\n",
    "    v_ = v.boost(vv.boostvector)\n",
    "    l_ = l.boost(vv.boostvector)\n",
    "    a_ = a.boost(vv.boostvector)\n",
    "    w_ = w.boost(vv.boostvector)\n",
    "    r_ = vv # vv.boost(vv.boostvector)\n",
    "\n",
    "    # Calculate axes of \"special frame\" (1708.07823)\n",
    "    z_ = w_.vector.unit()\n",
    "    x_ = (r_.vector - z_ * r_.vector.dot(z_)).unit()\n",
    "    y_ = z_.cross(x_)\n",
    "    \n",
    "    # Calculate x and y components of lepton wrt special x_, y_, z_ system\n",
    "    lx_ = l_.vector.dot(x_)\n",
    "    ly_ = l_.vector.dot(y_)\n",
    "    \n",
    "    # Calculate phi\n",
    "    phi = math.atan2(ly_, lx_)\n",
    "    \n",
    "    return phi\n",
    "    "
   ]
  },
  {
   "cell_type": "code",
   "execution_count": null,
   "metadata": {},
   "outputs": [],
   "source": [
    "def setup_observables(delphesprocessor):\n",
    "    delphesprocessor.reset_observables()\n",
    "        \n",
    "    # Default observables\n",
    "    delphesprocessor.add_default_observables(\n",
    "        n_leptons_max=1,\n",
    "        n_photons_max=1,\n",
    "        n_jets_max=1,\n",
    "        include_charge=False,\n",
    "        include_numbers=False,\n",
    "        include_met=True\n",
    "    )\n",
    "\n",
    "    # Correlations with MET\n",
    "    for s1, i1 in [('l', 0), ('a', 0)]:\n",
    "        delphesprocessor.add_observable(\n",
    "            'deltaphi_{}{}_met'.format(s1, i1+1),\n",
    "            '{}[{}].phi() - met.phi()'.format(s1, i1),\n",
    "            required=True\n",
    "        )\n",
    "\n",
    "    # Reconstructed W\n",
    "    delphesprocessor.add_observable(\n",
    "        'm_l1_met',\n",
    "        '(l[0] + met).m',\n",
    "        required=True\n",
    "    )\n",
    "    delphesprocessor.add_observable(\n",
    "        'pt_l1_met',\n",
    "        '(l[0] + met).pt',\n",
    "        required=True\n",
    "    )\n",
    "\n",
    "    # Selected correlations between particles\n",
    "    for s1, i1, s2, i2 in [('l', 0, 'a', 0)]:\n",
    "        delphesprocessor.add_observable(\n",
    "            'm_{}{}_{}{}'.format(s1, i1+1, s2, i2+1),\n",
    "            '({}[{}] + {}[{}]).m'.format(s1, i1, s2, i2),\n",
    "            required=True\n",
    "        )\n",
    "        delphesprocessor.add_observable(\n",
    "            'deltaeta_{}{}_{}{}'.format(s1, i1+1, s2, i2+1),\n",
    "            '{}[{}].eta - {}[{}].eta'.format(s1, i1, s2, i2),\n",
    "            required=True\n",
    "        )\n",
    "        delphesprocessor.add_observable(\n",
    "            'deltaphi_{}{}_{}{}'.format(s1, i1+1, s2, i2+1),\n",
    "            '{}[{}].phi() - {}[{}].phi()'.format(s1, i1, s2, i2),\n",
    "            required=True\n",
    "        )\n",
    "\n",
    "    # Wgamma system\n",
    "    delphesprocessor.add_observable(\n",
    "        'm_a1_l1_met',\n",
    "        '(a[0] + l[0] + met).m',\n",
    "        required=True\n",
    "    )\n",
    "    delphesprocessor.add_observable(\n",
    "        'pt_a1_l1_met',\n",
    "        '(a[0] + l[0] + met).pt',\n",
    "        required=True\n",
    "    )\n",
    "    \n",
    "    # mT(W)\n",
    "    delphesprocessor.add_observable_from_function(\n",
    "        'mt',\n",
    "        calculate_mt,\n",
    "        required=True\n",
    "    )\n",
    "    \n",
    "    # Resurection phi\n",
    "    delphesprocessor.add_observable_from_function(\n",
    "        'phi_resurrection',\n",
    "        calculate_phi,\n",
    "        required=True\n",
    "    )\n"
   ]
  },
  {
   "cell_type": "code",
   "execution_count": null,
   "metadata": {},
   "outputs": [],
   "source": [
    "def setup_cuts(delphesprocessor):\n",
    "    delphesprocessor.reset_cuts()\n",
    "    \n",
    "    delphesprocessor.add_cut(\n",
    "        'pt_a1 >= 300.'\n",
    "    )\n",
    "    delphesprocessor.add_cut(\n",
    "        'pt_l1 >= 80.'\n",
    "    )\n",
    "    delphesprocessor.add_cut(\n",
    "        'et_miss >= 80.'\n",
    "    )\n",
    "    delphesprocessor.add_cut(\n",
    "        '(deltaphi_l1_a1**2 + deltaeta_l1_a1**2)**0.5 >= 3.'\n",
    "    )\n",
    "    delphesprocessor.add_cut(\n",
    "        'eta_l1**2 < 2.4**2'\n",
    "    )\n",
    "        "
   ]
  },
  {
   "cell_type": "markdown",
   "metadata": {},
   "source": [
    "## Run Delphes"
   ]
  },
  {
   "cell_type": "code",
   "execution_count": null,
   "metadata": {},
   "outputs": [],
   "source": [
    "# Load setup and events\n",
    "dp = DelphesProcessor(sample_dir + 'setup.h5', debug=True)\n",
    "dp.add_hepmc_sample(\n",
    "    mg_process_dir + 'Events/run_01/tag_1_pythia8_events.hepmc.gz',\n",
    "    sampled_from_benchmark='sm'\n",
    ")\n",
    "\n",
    "# Run Delphes (CMS)\n",
    "dp.run_delphes(\n",
    "    delphes_directory=delphes_dir,\n",
    "    delphes_card=card_dir + 'delphes_card_mg5_CMS.dat',\n",
    "    log_file=log_dir + '/delphes.log',\n",
    "    initial_command='source activate python2',\n",
    ")\n",
    "\n",
    "# Analysis (generator truth)\n",
    "setup_observables(dp)\n",
    "setup_cuts(dp)\n",
    "\n",
    "dp.analyse_delphes_samples(generator_truth=True, delete_delphes_files=False)\n",
    "dp.save(sample_dir + 'samples_truth.h5')\n",
    "\n",
    "# Analysis (CMS)\n",
    "dp.analyse_delphes_samples(delete_delphes_files=False)\n",
    "dp.save(sample_dir + 'samples_cms.h5')\n"
   ]
  },
  {
   "cell_type": "code",
   "execution_count": null,
   "metadata": {},
   "outputs": [],
   "source": [
    "# Load setup and events\n",
    "dp = DelphesProcessor(sample_dir + 'setup.h5', debug=True)\n",
    "dp.add_hepmc_sample(\n",
    "    mg_process_dir + 'Events/run_01/tag_1_pythia8_events.hepmc.gz',\n",
    "    sampled_from_benchmark='sm'\n",
    ")\n",
    "\n",
    "# Run Delphes (ATLAS)\n",
    "dp.run_delphes(\n",
    "    delphes_directory=delphes_dir,\n",
    "    delphes_card=card_dir + 'delphes_card_mg5_ATLAS.dat',\n",
    "    log_file=log_dir + '/delphes_ATLAS.log',\n",
    "    initial_command='source activate python2',\n",
    ")\n",
    "\n",
    "# Analysis (ATLAS)\n",
    "setup_observables(dp)\n",
    "setup_cuts(dp)\n",
    "\n",
    "dp.analyse_delphes_samples(delete_delphes_files=False)\n",
    "dp.save(sample_dir + 'samples_atlas.h5')\n",
    "\n"
   ]
  },
  {
   "cell_type": "markdown",
   "metadata": {},
   "source": [
    "## Extract samples"
   ]
  },
  {
   "cell_type": "code",
   "execution_count": null,
   "metadata": {},
   "outputs": [],
   "source": [
    "sa = SampleAugmenter(sample_dir + 'samples_truth.h5', debug=False)\n",
    "x_pythia, weights_pythia = sa.extract_raw_data(theta=[0.,0.])"
   ]
  },
  {
   "cell_type": "code",
   "execution_count": null,
   "metadata": {},
   "outputs": [],
   "source": [
    "sa = SampleAugmenter(sample_dir + 'samples_atlas.h5', debug=False)\n",
    "x_atlas, weights_atlas = sa.extract_raw_data(theta=[0.,0.])"
   ]
  },
  {
   "cell_type": "code",
   "execution_count": null,
   "metadata": {},
   "outputs": [],
   "source": [
    "sa = SampleAugmenter(sample_dir + 'samples_cms.h5', debug=False)\n",
    "x_cms, weights_cms = sa.extract_raw_data(theta=[0.,0.])"
   ]
  },
  {
   "cell_type": "markdown",
   "metadata": {},
   "source": [
    "## Look at distributions"
   ]
  },
  {
   "cell_type": "code",
   "execution_count": null,
   "metadata": {
    "scrolled": false
   },
   "outputs": [],
   "source": [
    "bins = 25\n",
    "n_observables = x_unweighted.shape[1]\n",
    "n_cols = 3\n",
    "n_rows = (n_observables + n_cols - 1) // n_cols\n",
    "labels = sa.observables.keys()\n",
    "\n",
    "plt.figure(figsize=(4. * n_cols, 4. * n_rows))\n",
    "\n",
    "for i, label in enumerate(labels):\n",
    "    xmin = np.percentile(x_atlas[:,i], 5.)\n",
    "    xmax = np.percentile(x_atlas[:,i], 95.)\n",
    "    xwidth = xmax - xmin\n",
    "    xmin -= xwidth * 0.1\n",
    "    xmax += xwidth * 0.1\n",
    "    xmin = max(xmin, np.min(x_atlas[:,i]))\n",
    "    xmax = min(xmax, np.max(x_atlas[:,i]))\n",
    "    x_range = (xmin, xmax)\n",
    "    \n",
    "    ax = plt.subplot(n_rows, n_cols, i+1)\n",
    "       \n",
    "    plt.hist(x_pythia[:,i], weights=weights_pythia, histtype='step', range=x_range, bins=bins, lw=1.5, label=r'Pythia', density=True)\n",
    "    plt.hist(x_atlas[:,i], weights=weights_atlas, histtype='step', range=x_range, bins=bins, lw=1.5, label=r'Delphes (ATLAS)', density=True)\n",
    "    plt.hist(x_cms[:,i], weights=weights_cms, histtype='step', range=x_range, bins=bins, lw=1.5, label=r'Delphes (CMS)', density=True)\n",
    "    \n",
    "    if i == 0:\n",
    "        plt.legend()\n",
    "        \n",
    "    plt.xlabel(label)\n",
    "    \n",
    "plt.tight_layout()\n",
    "plt.savefig(\"observables_pythia_vs_delphes.pdf\")"
   ]
  },
  {
   "cell_type": "code",
   "execution_count": null,
   "metadata": {},
   "outputs": [],
   "source": []
  }
 ],
 "metadata": {
  "kernelspec": {
   "display_name": "Python 3",
   "language": "python",
   "name": "python3"
  },
  "language_info": {
   "codemirror_mode": {
    "name": "ipython",
    "version": 3
   },
   "file_extension": ".py",
   "mimetype": "text/x-python",
   "name": "python",
   "nbconvert_exporter": "python",
   "pygments_lexer": "ipython3",
   "version": "3.6.7"
  }
 },
 "nbformat": 4,
 "nbformat_minor": 2
}
