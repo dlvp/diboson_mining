{
 "cells": [
  {
   "cell_type": "markdown",
   "metadata": {},
   "source": [
    "# Cross checks\n",
    "\n",
    "Johann Brehmer, Kyle Cranmer, Marco Farina, Felix Kling, Duccio Pappadopulo, Josh Ruderman 2018"
   ]
  },
  {
   "cell_type": "code",
   "execution_count": 1,
   "metadata": {},
   "outputs": [],
   "source": [
    "from __future__ import absolute_import, division, print_function, unicode_literals\n",
    "\n",
    "import math\n",
    "import numpy as np\n",
    "import matplotlib\n",
    "from matplotlib import pyplot as plt\n",
    "%matplotlib inline\n",
    "\n",
    "from madminer.core import MadMiner\n",
    "from madminer.delphes import DelphesProcessor\n",
    "from madminer.sampling import SampleAugmenter\n",
    "from madminer.utils.particle import MadMinerParticle\n",
    "from madminer.sampling import multiple_benchmark_thetas\n",
    "from madminer.sampling import constant_morphing_theta, multiple_morphing_thetas, random_morphing_thetas"
   ]
  },
  {
   "cell_type": "code",
   "execution_count": 2,
   "metadata": {},
   "outputs": [],
   "source": [
    "base_dir = '/Users/johannbrehmer/work/projects/madminer/diboson_mining/'\n",
    "mg_dir = '/Users/johannbrehmer/work/projects/madminer/MG5_aMC_v2_6_2/'"
   ]
  },
  {
   "cell_type": "code",
   "execution_count": 3,
   "metadata": {},
   "outputs": [],
   "source": [
    "sample_dir = base_dir + 'data/samples/wgamma_check/'\n",
    "card_dir = base_dir + 'cards/wgamma_check/'\n",
    "ufo_model_dir = card_dir + 'SMWgamma_UFO'\n",
    "run_card_dir = card_dir + 'run_cards/'\n",
    "mg_process_dir = base_dir + 'data/mg_processes/wgamma_check/'\n",
    "log_dir = base_dir + 'logs/wgamma_check/'\n",
    "temp_dir = base_dir + 'data/temp'\n",
    "delphes_dir = mg_dir + 'Delphes'"
   ]
  },
  {
   "cell_type": "markdown",
   "metadata": {},
   "source": [
    "## Load setup"
   ]
  },
  {
   "cell_type": "code",
   "execution_count": 4,
   "metadata": {},
   "outputs": [
    {
     "name": "stderr",
     "output_type": "stream",
     "text": [
      "15:01  \n",
      "15:01  ------------------------------------------------------------\n",
      "15:01  |                                                          |\n",
      "15:01  |  MadMiner v0.1.0                                         |\n",
      "15:01  |                                                          |\n",
      "15:01  |           Johann Brehmer, Kyle Cranmer, and Felix Kling  |\n",
      "15:01  |                                                          |\n",
      "15:01  ------------------------------------------------------------\n",
      "15:01  \n",
      "15:01  Found 2 parameters:\n",
      "15:01     cWWW (LHA: dim6 1, maximal power in squared ME: (2,), range: (-0.02, 0.02))\n",
      "15:01     cWWWtilde (LHA: dim6 2, maximal power in squared ME: (2,), range: (-0.02, 0.02))\n",
      "15:01  Found 6 benchmarks:\n",
      "15:01     sm: cWWW = 0.00e+00, cWWWtilde = 0.00e+00\n",
      "15:01     morphing_basis_vector_1: cWWW = -6.07e-03, cWWWtilde = -1.84e-02\n",
      "15:01     morphing_basis_vector_2: cWWW = 1.00e-02, cWWWtilde = 1.70e-02\n",
      "15:01     morphing_basis_vector_3: cWWW = -1.99e-02, cWWWtilde = 1.87e-02\n",
      "15:01     morphing_basis_vector_4: cWWW = 1.97e-02, cWWWtilde = -1.53e-02\n",
      "15:01     morphing_basis_vector_5: cWWW = -1.65e-02, cWWWtilde = -6.33e-03\n",
      "15:01  Found morphing setup with 6 components\n"
     ]
    }
   ],
   "source": [
    "mm = MadMiner(debug=False)\n",
    "\n",
    "mm.load(sample_dir + 'setup.h5')"
   ]
  },
  {
   "cell_type": "markdown",
   "metadata": {},
   "source": [
    "## Run MG"
   ]
  },
  {
   "cell_type": "code",
   "execution_count": 5,
   "metadata": {},
   "outputs": [],
   "source": [
    "run_card_filenames = [run_card_dir + 'run_card.dat']"
   ]
  },
  {
   "cell_type": "code",
   "execution_count": 6,
   "metadata": {},
   "outputs": [
    {
     "name": "stderr",
     "output_type": "stream",
     "text": [
      "12:49  Generating MadGraph process folder from /Users/johannbrehmer/work/projects/madminer/diboson_mining/cards/wgamma_check/proc_card_mg5.dat at /Users/johannbrehmer/work/projects/madminer/diboson_mining/data/mg_processes/wgamma_check/\n",
      "12:49  Run 0\n",
      "12:49    Sampling from benchmark: sm\n",
      "12:49    Original run card:       /Users/johannbrehmer/work/projects/madminer/diboson_mining/cards/wgamma_check/run_cards/run_card.dat\n",
      "12:49    Original Pythia8 card:   /Users/johannbrehmer/work/projects/madminer/diboson_mining/cards/wgamma_check/run_cards/run_card.dat\n",
      "12:49    Copied run card:         /madminer/cards/run_card_0.dat\n",
      "12:49    Copied Pythia8 card:     /madminer/cards/pythia8_card_0.dat\n",
      "12:49    Param card:              /madminer/cards/param_card_0.dat\n",
      "12:49    Reweight card:           /madminer/cards/reweight_card_0.dat\n",
      "12:49    Log file:                run_0.log\n",
      "12:49  Creating param and reweight cards in /Users/johannbrehmer/work/projects/madminer/diboson_mining/data/mg_processes/wgamma_check///madminer/cards/param_card_0.dat, /Users/johannbrehmer/work/projects/madminer/diboson_mining/data/mg_processes/wgamma_check///madminer/cards/reweight_card_0.dat\n",
      "12:49  Starting MadGraph and Pythia in /Users/johannbrehmer/work/projects/madminer/diboson_mining/data/mg_processes/wgamma_check/\n"
     ]
    }
   ],
   "source": [
    "mm.run_multiple(\n",
    "    mg_directory=mg_dir,\n",
    "    proc_card_file=card_dir + 'proc_card_mg5.dat',\n",
    "    param_card_template_file=card_dir + 'param_card.dat',\n",
    "    pythia8_card_file=card_dir + 'pythia8_card.dat',\n",
    "    run_card_files=run_card_filenames,\n",
    "    mg_process_directory=mg_process_dir,\n",
    "    ufo_model_directory=ufo_model_dir,\n",
    "    temp_directory=temp_dir,\n",
    "    sample_benchmarks=['sm'],\n",
    "    is_background=False,\n",
    "    only_prepare_script=False,\n",
    "    initial_command='source activate python2',\n",
    "    log_directory=log_dir\n",
    ")"
   ]
  },
  {
   "cell_type": "markdown",
   "metadata": {},
   "source": [
    "## Define observables"
   ]
  },
  {
   "cell_type": "code",
   "execution_count": 4,
   "metadata": {},
   "outputs": [],
   "source": [
    "def calculate_mt(leptons, photons, jets, met):\n",
    "    # Particles\n",
    "    if len(leptons) < 1:\n",
    "        raise RuntimeError()\n",
    "    \n",
    "    l = leptons[0]\n",
    "    \n",
    "    # Transverse mass and Delta\n",
    "    cos_delta_phi = np.cos(l.phi() - met.phi())\n",
    "    mt = (2 * l.pt * met.pt * (1. - cos_delta_phi))**0.5\n",
    "    \n",
    "    return mt"
   ]
  },
  {
   "cell_type": "code",
   "execution_count": 5,
   "metadata": {},
   "outputs": [],
   "source": [
    "def calculate_phi(leptons, photons, jets, met):\n",
    "    # Parameters\n",
    "    mw = 80.4\n",
    "    \n",
    "    # Particles\n",
    "    if len(leptons) < 1 or len(photons) < 1:\n",
    "        raise RuntimeError()\n",
    "    \n",
    "    l = leptons[0]\n",
    "    a = photons[0]\n",
    "    \n",
    "    # Transverse mass and Delta\n",
    "    mt = calculate_mt(leptons, photons, jets, met)\n",
    "    deltasq = 0.\n",
    "    if met.pt > 0. and l.pt > 0.:\n",
    "        deltasq = (mw**2 - mt**2) / (2. * met.pt * l.pt)\n",
    "    \n",
    "    # v reconstruction, \"normal\" case\n",
    "    if deltasq > 0.:\n",
    "        # Two solutions\n",
    "        temp = np.log(1 + deltasq**0.5 * (2 + deltasq)**0.5 + deltasq)\n",
    "        eta_v_plus = l.eta + temp\n",
    "        eta_v_minus = l.eta - temp\n",
    "        \n",
    "        # Randomly select one of them\n",
    "        dice = np.random.rand()\n",
    "        if dice > 0.5:\n",
    "            eta_v = eta_v_plus\n",
    "        else:\n",
    "            eta_v = eta_v_minus\n",
    "            \n",
    "    # v reconstruction, \"other\" case\n",
    "    else:\n",
    "        eta_v = l.eta\n",
    "        \n",
    "    # v particle\n",
    "    v = MadMinerParticle()\n",
    "    v.setptetaphim(met.pt, eta_v, met.phi(), 0.)\n",
    "    \n",
    "    # W and Wgamma reconstruction\n",
    "    w = l + v\n",
    "    vv = w + a\n",
    "    \n",
    "    # Boost into VV frame\n",
    "    v_ = v.boost(vv.boostvector)\n",
    "    l_ = l.boost(vv.boostvector)\n",
    "    a_ = a.boost(vv.boostvector)\n",
    "    w_ = w.boost(vv.boostvector)\n",
    "    r_ = vv # vv.boost(vv.boostvector)\n",
    "\n",
    "    # Calculate axes of \"special frame\" (1708.07823)\n",
    "    z_ = w_.vector.unit()\n",
    "    x_ = (r_.vector - z_ * r_.vector.dot(z_)).unit()\n",
    "    y_ = z_.cross(x_)\n",
    "    \n",
    "    # Calculate x and y components of lepton wrt special x_, y_, z_ system\n",
    "    lx_ = l_.vector.dot(x_)\n",
    "    ly_ = l_.vector.dot(y_)\n",
    "    \n",
    "    # Calculate phi\n",
    "    phi = math.atan2(ly_, lx_)\n",
    "    \n",
    "    return phi\n",
    "    "
   ]
  },
  {
   "cell_type": "code",
   "execution_count": 6,
   "metadata": {},
   "outputs": [],
   "source": [
    "def setup_observables(delphesprocessor):\n",
    "    delphesprocessor.reset_observables()\n",
    "    delphesprocessor.reset_cuts()\n",
    "        \n",
    "    # Default observables\n",
    "    delphesprocessor.add_default_observables(\n",
    "        n_leptons_max=1,\n",
    "        n_photons_max=1,\n",
    "        n_jets_max=1,\n",
    "        include_charge=False,\n",
    "        include_numbers=False,\n",
    "        include_met=True\n",
    "    )\n",
    "\n",
    "    # Correlations with MET\n",
    "    for s1, i1 in [('l', 0), ('a', 0)]:\n",
    "        delphesprocessor.add_observable(\n",
    "            'deltaphi_{}{}_met'.format(s1, i1+1),\n",
    "            '{}[{}].phi() - met.phi()'.format(s1, i1),\n",
    "            required=True\n",
    "        )\n",
    "\n",
    "    # Reconstructed W\n",
    "    delphesprocessor.add_observable(\n",
    "        'm_l1_met',\n",
    "        '(l[0] + met).m',\n",
    "        required=True\n",
    "    )\n",
    "    delphesprocessor.add_observable(\n",
    "        'pt_l1_met',\n",
    "        '(l[0] + met).pt',\n",
    "        required=True\n",
    "    )\n",
    "\n",
    "    # Selected correlations between particles\n",
    "    for s1, i1, s2, i2 in [('l', 0, 'a', 0)]:\n",
    "        delphesprocessor.add_observable(\n",
    "            'm_{}{}_{}{}'.format(s1, i1+1, s2, i2+1),\n",
    "            '({}[{}] + {}[{}]).m'.format(s1, i1, s2, i2),\n",
    "            required=True\n",
    "        )\n",
    "        delphesprocessor.add_observable(\n",
    "            'deltaeta_{}{}_{}{}'.format(s1, i1+1, s2, i2+1),\n",
    "            '{}[{}].eta - {}[{}].eta'.format(s1, i1, s2, i2),\n",
    "            required=True\n",
    "        )\n",
    "        delphesprocessor.add_observable(\n",
    "            'deltaphi_{}{}_{}{}'.format(s1, i1+1, s2, i2+1),\n",
    "            '{}[{}].phi() - {}[{}].phi()'.format(s1, i1, s2, i2),\n",
    "            required=True\n",
    "        )\n",
    "\n",
    "    # Wgamma system\n",
    "    delphesprocessor.add_observable(\n",
    "        'm_a1_l1_met',\n",
    "        '(a[0] + l[0] + met).m',\n",
    "        required=True\n",
    "    )\n",
    "    delphesprocessor.add_observable(\n",
    "        'pt_a1_l1_met',\n",
    "        '(a[0] + l[0] + met).pt',\n",
    "        required=True\n",
    "    )\n",
    "    \n",
    "    # mT(W)\n",
    "    delphesprocessor.add_observable_from_function(\n",
    "        'mt',\n",
    "        calculate_mt,\n",
    "        required=True\n",
    "    )\n",
    "    \n",
    "    # Resurection phi\n",
    "    delphesprocessor.add_observable_from_function(\n",
    "        'phi_resurrection',\n",
    "        calculate_phi,\n",
    "        required=True\n",
    "    )\n",
    "\n"
   ]
  },
  {
   "cell_type": "code",
   "execution_count": 7,
   "metadata": {},
   "outputs": [],
   "source": [
    "def setup_cuts(delphesprocessor):\n",
    "    delphesprocessor.cuts = []\n",
    "    delphesprocessor.cuts_default_pass = []\n",
    "    \n",
    "    delphesprocessor.add_cut(\n",
    "        'pt_a1 >= 300.'\n",
    "    )\n",
    "    delphesprocessor.add_cut(\n",
    "        'pt_l1 >= 80.'\n",
    "    )\n",
    "    delphesprocessor.add_cut(\n",
    "        'et_miss >= 80.'\n",
    "    )\n",
    "    delphesprocessor.add_cut(\n",
    "        '(deltaphi_l1_a1**2 + deltaeta_l1_a1**2)**0.5 >= 3.'\n",
    "    )\n",
    "    delphesprocessor.add_cut(\n",
    "        'eta_l1**2 < 2.4**2'\n",
    "    )\n",
    "        "
   ]
  },
  {
   "cell_type": "markdown",
   "metadata": {},
   "source": [
    "## Run Delphes"
   ]
  },
  {
   "cell_type": "code",
   "execution_count": 10,
   "metadata": {},
   "outputs": [
    {
     "name": "stderr",
     "output_type": "stream",
     "text": [
      "15:10  Running Delphes (/Users/johannbrehmer/work/projects/madminer/MG5_aMC_v2_6_2/Delphes) on event sample at /Users/johannbrehmer/work/projects/madminer/diboson_mining/data/mg_processes/wgamma_check/Events/run_01/tag_1_pythia8_events.hepmc.gz\n",
      "15:11  Analysing Delphes sample /Users/johannbrehmer/work/projects/madminer/diboson_mining/data/mg_processes/wgamma_check/Events/run_01/tag_1_pythia8_events_delphes.root\n",
      "15:13    27379 / 50000 events pass everything\n",
      "15:13  Analysing Delphes sample /Users/johannbrehmer/work/projects/madminer/diboson_mining/data/mg_processes/wgamma_check/Events/run_01/tag_1_pythia8_events_delphes.root\n"
     ]
    },
    {
     "ename": "KeyError",
     "evalue": "\"not found: b'GenJet.E'\"",
     "output_type": "error",
     "traceback": [
      "\u001b[0;31m---------------------------------------------------------------------------\u001b[0m",
      "\u001b[0;31mKeyError\u001b[0m                                  Traceback (most recent call last)",
      "\u001b[0;32m<ipython-input-10-83e1b9c88ccd>\u001b[0m in \u001b[0;36m<module>\u001b[0;34m\u001b[0m\n\u001b[1;32m     29\u001b[0m \u001b[0msetup_cuts\u001b[0m\u001b[0;34m(\u001b[0m\u001b[0mdp\u001b[0m\u001b[0;34m)\u001b[0m\u001b[0;34m\u001b[0m\u001b[0;34m\u001b[0m\u001b[0m\n\u001b[1;32m     30\u001b[0m \u001b[0;34m\u001b[0m\u001b[0m\n\u001b[0;32m---> 31\u001b[0;31m \u001b[0mdp\u001b[0m\u001b[0;34m.\u001b[0m\u001b[0manalyse_delphes_samples\u001b[0m\u001b[0;34m(\u001b[0m\u001b[0mgenerator_truth\u001b[0m\u001b[0;34m=\u001b[0m\u001b[0;32mTrue\u001b[0m\u001b[0;34m,\u001b[0m \u001b[0mdelete_delphes_files\u001b[0m\u001b[0;34m=\u001b[0m\u001b[0;32mFalse\u001b[0m\u001b[0;34m)\u001b[0m\u001b[0;34m\u001b[0m\u001b[0;34m\u001b[0m\u001b[0m\n\u001b[0m\u001b[1;32m     32\u001b[0m \u001b[0;34m\u001b[0m\u001b[0m\n\u001b[1;32m     33\u001b[0m \u001b[0mdp\u001b[0m\u001b[0;34m.\u001b[0m\u001b[0msave\u001b[0m\u001b[0;34m(\u001b[0m\u001b[0msample_dir\u001b[0m \u001b[0;34m+\u001b[0m \u001b[0;34m'samples_tight_truth.h5'\u001b[0m\u001b[0;34m)\u001b[0m\u001b[0;34m\u001b[0m\u001b[0;34m\u001b[0m\u001b[0m\n",
      "\u001b[0;32m~/work/projects/madminer/madminer/madminer/delphes.py\u001b[0m in \u001b[0;36manalyse_delphes_samples\u001b[0;34m(self, generator_truth, delete_delphes_files)\u001b[0m\n\u001b[1;32m    465\u001b[0m                 \u001b[0macceptance_pt_min_e\u001b[0m\u001b[0;34m=\u001b[0m\u001b[0mself\u001b[0m\u001b[0;34m.\u001b[0m\u001b[0macceptance_pt_min_e\u001b[0m\u001b[0;34m,\u001b[0m\u001b[0;34m\u001b[0m\u001b[0;34m\u001b[0m\u001b[0m\n\u001b[1;32m    466\u001b[0m                 \u001b[0macceptance_pt_min_mu\u001b[0m\u001b[0;34m=\u001b[0m\u001b[0mself\u001b[0m\u001b[0;34m.\u001b[0m\u001b[0macceptance_pt_min_mu\u001b[0m\u001b[0;34m,\u001b[0m\u001b[0;34m\u001b[0m\u001b[0;34m\u001b[0m\u001b[0m\n\u001b[0;32m--> 467\u001b[0;31m                 \u001b[0macceptance_pt_min_j\u001b[0m\u001b[0;34m=\u001b[0m\u001b[0mself\u001b[0m\u001b[0;34m.\u001b[0m\u001b[0macceptance_pt_min_j\u001b[0m\u001b[0;34m,\u001b[0m\u001b[0;34m\u001b[0m\u001b[0;34m\u001b[0m\u001b[0m\n\u001b[0m\u001b[1;32m    468\u001b[0m             )\n\u001b[1;32m    469\u001b[0m \u001b[0;34m\u001b[0m\u001b[0m\n",
      "\u001b[0;32m~/work/projects/madminer/madminer/madminer/utils/interfaces/root.py\u001b[0m in \u001b[0;36mextract_observables_from_delphes_file\u001b[0;34m(delphes_sample_file, observables, observables_required, observables_defaults, cuts, cuts_default_pass, weight_labels, use_generator_truth, acceptance_pt_min_e, acceptance_pt_min_mu, acceptance_pt_min_a, acceptance_pt_min_j, acceptance_eta_max_e, acceptance_eta_max_mu, acceptance_eta_max_a, acceptance_eta_max_j, delete_delphes_sample_file)\u001b[0m\n\u001b[1;32m     57\u001b[0m             \u001b[0mtree\u001b[0m\u001b[0;34m,\u001b[0m \u001b[0macceptance_pt_min_e\u001b[0m\u001b[0;34m,\u001b[0m \u001b[0macceptance_eta_max_e\u001b[0m\u001b[0;34m,\u001b[0m \u001b[0macceptance_pt_min_mu\u001b[0m\u001b[0;34m,\u001b[0m \u001b[0macceptance_eta_max_mu\u001b[0m\u001b[0;34m\u001b[0m\u001b[0;34m\u001b[0m\u001b[0m\n\u001b[1;32m     58\u001b[0m         )\n\u001b[0;32m---> 59\u001b[0;31m         \u001b[0mjets_all_events\u001b[0m \u001b[0;34m=\u001b[0m \u001b[0m_get_particles_truth_jets\u001b[0m\u001b[0;34m(\u001b[0m\u001b[0mtree\u001b[0m\u001b[0;34m,\u001b[0m \u001b[0macceptance_pt_min_j\u001b[0m\u001b[0;34m,\u001b[0m \u001b[0macceptance_eta_max_j\u001b[0m\u001b[0;34m)\u001b[0m\u001b[0;34m\u001b[0m\u001b[0;34m\u001b[0m\u001b[0m\n\u001b[0m\u001b[1;32m     60\u001b[0m         \u001b[0mmet_all_events\u001b[0m \u001b[0;34m=\u001b[0m \u001b[0m_get_particles_truth_met\u001b[0m\u001b[0;34m(\u001b[0m\u001b[0mtree\u001b[0m\u001b[0;34m)\u001b[0m\u001b[0;34m\u001b[0m\u001b[0;34m\u001b[0m\u001b[0m\n\u001b[1;32m     61\u001b[0m \u001b[0;34m\u001b[0m\u001b[0m\n",
      "\u001b[0;32m~/work/projects/madminer/madminer/madminer/utils/interfaces/root.py\u001b[0m in \u001b[0;36m_get_particles_truth_jets\u001b[0;34m(tree, pt_min, eta_max)\u001b[0m\n\u001b[1;32m    436\u001b[0m     \u001b[0metas\u001b[0m \u001b[0;34m=\u001b[0m \u001b[0mtree\u001b[0m\u001b[0;34m.\u001b[0m\u001b[0marray\u001b[0m\u001b[0;34m(\u001b[0m\u001b[0;34m\"GenJet.Eta\"\u001b[0m\u001b[0;34m)\u001b[0m\u001b[0;34m\u001b[0m\u001b[0;34m\u001b[0m\u001b[0m\n\u001b[1;32m    437\u001b[0m     \u001b[0mphis\u001b[0m \u001b[0;34m=\u001b[0m \u001b[0mtree\u001b[0m\u001b[0;34m.\u001b[0m\u001b[0marray\u001b[0m\u001b[0;34m(\u001b[0m\u001b[0;34m\"GenJet.Phi\"\u001b[0m\u001b[0;34m)\u001b[0m\u001b[0;34m\u001b[0m\u001b[0;34m\u001b[0m\u001b[0m\n\u001b[0;32m--> 438\u001b[0;31m     \u001b[0mes\u001b[0m \u001b[0;34m=\u001b[0m \u001b[0mtree\u001b[0m\u001b[0;34m.\u001b[0m\u001b[0marray\u001b[0m\u001b[0;34m(\u001b[0m\u001b[0;34m\"GenJet.E\"\u001b[0m\u001b[0;34m)\u001b[0m\u001b[0;34m\u001b[0m\u001b[0;34m\u001b[0m\u001b[0m\n\u001b[0m\u001b[1;32m    439\u001b[0m \u001b[0;34m\u001b[0m\u001b[0m\n\u001b[1;32m    440\u001b[0m     \u001b[0mall_particles\u001b[0m \u001b[0;34m=\u001b[0m \u001b[0;34m[\u001b[0m\u001b[0;34m]\u001b[0m\u001b[0;34m\u001b[0m\u001b[0;34m\u001b[0m\u001b[0m\n",
      "\u001b[0;32m~/.local/lib/python3.6/site-packages/uproot/tree.py\u001b[0m in \u001b[0;36marray\u001b[0;34m(self, branch, interpretation, entrystart, entrystop, cache, basketcache, keycache, executor, blocking)\u001b[0m\n\u001b[1;32m    404\u001b[0m \u001b[0;34m\u001b[0m\u001b[0m\n\u001b[1;32m    405\u001b[0m     \u001b[0;32mdef\u001b[0m \u001b[0marray\u001b[0m\u001b[0;34m(\u001b[0m\u001b[0mself\u001b[0m\u001b[0;34m,\u001b[0m \u001b[0mbranch\u001b[0m\u001b[0;34m,\u001b[0m \u001b[0minterpretation\u001b[0m\u001b[0;34m=\u001b[0m\u001b[0;32mNone\u001b[0m\u001b[0;34m,\u001b[0m \u001b[0mentrystart\u001b[0m\u001b[0;34m=\u001b[0m\u001b[0;32mNone\u001b[0m\u001b[0;34m,\u001b[0m \u001b[0mentrystop\u001b[0m\u001b[0;34m=\u001b[0m\u001b[0;32mNone\u001b[0m\u001b[0;34m,\u001b[0m \u001b[0mcache\u001b[0m\u001b[0;34m=\u001b[0m\u001b[0;32mNone\u001b[0m\u001b[0;34m,\u001b[0m \u001b[0mbasketcache\u001b[0m\u001b[0;34m=\u001b[0m\u001b[0;32mNone\u001b[0m\u001b[0;34m,\u001b[0m \u001b[0mkeycache\u001b[0m\u001b[0;34m=\u001b[0m\u001b[0;32mNone\u001b[0m\u001b[0;34m,\u001b[0m \u001b[0mexecutor\u001b[0m\u001b[0;34m=\u001b[0m\u001b[0;32mNone\u001b[0m\u001b[0;34m,\u001b[0m \u001b[0mblocking\u001b[0m\u001b[0;34m=\u001b[0m\u001b[0;32mTrue\u001b[0m\u001b[0;34m)\u001b[0m\u001b[0;34m:\u001b[0m\u001b[0;34m\u001b[0m\u001b[0;34m\u001b[0m\u001b[0m\n\u001b[0;32m--> 406\u001b[0;31m         \u001b[0;32mreturn\u001b[0m \u001b[0mself\u001b[0m\u001b[0;34m.\u001b[0m\u001b[0mget\u001b[0m\u001b[0;34m(\u001b[0m\u001b[0mbranch\u001b[0m\u001b[0;34m)\u001b[0m\u001b[0;34m.\u001b[0m\u001b[0marray\u001b[0m\u001b[0;34m(\u001b[0m\u001b[0minterpretation\u001b[0m\u001b[0;34m=\u001b[0m\u001b[0minterpretation\u001b[0m\u001b[0;34m,\u001b[0m \u001b[0mentrystart\u001b[0m\u001b[0;34m=\u001b[0m\u001b[0mentrystart\u001b[0m\u001b[0;34m,\u001b[0m \u001b[0mentrystop\u001b[0m\u001b[0;34m=\u001b[0m\u001b[0mentrystop\u001b[0m\u001b[0;34m,\u001b[0m \u001b[0mcache\u001b[0m\u001b[0;34m=\u001b[0m\u001b[0mcache\u001b[0m\u001b[0;34m,\u001b[0m \u001b[0mbasketcache\u001b[0m\u001b[0;34m=\u001b[0m\u001b[0mbasketcache\u001b[0m\u001b[0;34m,\u001b[0m \u001b[0mkeycache\u001b[0m\u001b[0;34m=\u001b[0m\u001b[0mkeycache\u001b[0m\u001b[0;34m,\u001b[0m \u001b[0mexecutor\u001b[0m\u001b[0;34m=\u001b[0m\u001b[0mexecutor\u001b[0m\u001b[0;34m,\u001b[0m \u001b[0mblocking\u001b[0m\u001b[0;34m=\u001b[0m\u001b[0mblocking\u001b[0m\u001b[0;34m)\u001b[0m\u001b[0;34m\u001b[0m\u001b[0;34m\u001b[0m\u001b[0m\n\u001b[0m\u001b[1;32m    407\u001b[0m \u001b[0;34m\u001b[0m\u001b[0m\n\u001b[1;32m    408\u001b[0m     \u001b[0;32mdef\u001b[0m \u001b[0marrays\u001b[0m\u001b[0;34m(\u001b[0m\u001b[0mself\u001b[0m\u001b[0;34m,\u001b[0m \u001b[0mbranches\u001b[0m\u001b[0;34m=\u001b[0m\u001b[0;32mNone\u001b[0m\u001b[0;34m,\u001b[0m \u001b[0moutputtype\u001b[0m\u001b[0;34m=\u001b[0m\u001b[0mdict\u001b[0m\u001b[0;34m,\u001b[0m \u001b[0mentrystart\u001b[0m\u001b[0;34m=\u001b[0m\u001b[0;32mNone\u001b[0m\u001b[0;34m,\u001b[0m \u001b[0mentrystop\u001b[0m\u001b[0;34m=\u001b[0m\u001b[0;32mNone\u001b[0m\u001b[0;34m,\u001b[0m \u001b[0mcache\u001b[0m\u001b[0;34m=\u001b[0m\u001b[0;32mNone\u001b[0m\u001b[0;34m,\u001b[0m \u001b[0mbasketcache\u001b[0m\u001b[0;34m=\u001b[0m\u001b[0;32mNone\u001b[0m\u001b[0;34m,\u001b[0m \u001b[0mkeycache\u001b[0m\u001b[0;34m=\u001b[0m\u001b[0;32mNone\u001b[0m\u001b[0;34m,\u001b[0m \u001b[0mexecutor\u001b[0m\u001b[0;34m=\u001b[0m\u001b[0;32mNone\u001b[0m\u001b[0;34m,\u001b[0m \u001b[0mblocking\u001b[0m\u001b[0;34m=\u001b[0m\u001b[0;32mTrue\u001b[0m\u001b[0;34m)\u001b[0m\u001b[0;34m:\u001b[0m\u001b[0;34m\u001b[0m\u001b[0;34m\u001b[0m\u001b[0m\n",
      "\u001b[0;32m~/.local/lib/python3.6/site-packages/uproot/tree.py\u001b[0m in \u001b[0;36mget\u001b[0;34m(self, name, recursive, filtername, filtertitle, aliases)\u001b[0m\n\u001b[1;32m    332\u001b[0m             \u001b[0;32mif\u001b[0m \u001b[0mn\u001b[0m \u001b[0;34m==\u001b[0m \u001b[0mname\u001b[0m\u001b[0;34m:\u001b[0m\u001b[0;34m\u001b[0m\u001b[0;34m\u001b[0m\u001b[0m\n\u001b[1;32m    333\u001b[0m                 \u001b[0;32mreturn\u001b[0m \u001b[0mb\u001b[0m\u001b[0;34m\u001b[0m\u001b[0;34m\u001b[0m\u001b[0m\n\u001b[0;32m--> 334\u001b[0;31m         \u001b[0;32mraise\u001b[0m \u001b[0mKeyError\u001b[0m\u001b[0;34m(\u001b[0m\u001b[0;34m\"not found: {0}\"\u001b[0m\u001b[0;34m.\u001b[0m\u001b[0mformat\u001b[0m\u001b[0;34m(\u001b[0m\u001b[0mrepr\u001b[0m\u001b[0;34m(\u001b[0m\u001b[0mname\u001b[0m\u001b[0;34m)\u001b[0m\u001b[0;34m)\u001b[0m\u001b[0;34m)\u001b[0m\u001b[0;34m\u001b[0m\u001b[0;34m\u001b[0m\u001b[0m\n\u001b[0m\u001b[1;32m    335\u001b[0m \u001b[0;34m\u001b[0m\u001b[0m\n\u001b[1;32m    336\u001b[0m     \u001b[0;32mdef\u001b[0m \u001b[0m__contains__\u001b[0m\u001b[0;34m(\u001b[0m\u001b[0mself\u001b[0m\u001b[0;34m,\u001b[0m \u001b[0mname\u001b[0m\u001b[0;34m)\u001b[0m\u001b[0;34m:\u001b[0m\u001b[0;34m\u001b[0m\u001b[0;34m\u001b[0m\u001b[0m\n",
      "\u001b[0;31mKeyError\u001b[0m: \"not found: b'GenJet.E'\""
     ]
    }
   ],
   "source": [
    "# Load setup\n",
    "dp = DelphesProcessor(sample_dir + 'setup.h5', debug=False)\n",
    "\n",
    "# Load events\n",
    "for benchmark in ['sm']:\n",
    "    dp.add_hepmc_sample(\n",
    "        mg_process_dir + 'Events/run_01/tag_1_pythia8_events.hepmc.gz',\n",
    "        sampled_from_benchmark=benchmark\n",
    "    )\n",
    "\n",
    "# Run Delphes\n",
    "dp.run_delphes(\n",
    "    delphes_directory=delphes_dir,\n",
    "    delphes_card=card_dir + 'delphes_card.dat',\n",
    "    log_file=log_dir + '/delphes.log',\n",
    "    initial_command='source activate python2',\n",
    ")\n",
    "\n",
    "# Analysis (with tight cuts)\n",
    "setup_observables(dp)\n",
    "setup_cuts(dp)\n",
    "\n",
    "dp.analyse_delphes_samples(delete_delphes_files=False)\n",
    "\n",
    "dp.save(sample_dir + 'samples_tight.h5')\n",
    "\n",
    "# Analysis (generator truth)\n",
    "setup_observables(dp)\n",
    "setup_cuts(dp)\n",
    "\n",
    "dp.analyse_delphes_samples(generator_truth=True, delete_delphes_files=False)\n",
    "\n",
    "dp.save(sample_dir + 'samples_tight_truth.h5')\n"
   ]
  },
  {
   "cell_type": "markdown",
   "metadata": {},
   "source": [
    "## Sampling"
   ]
  },
  {
   "cell_type": "code",
   "execution_count": null,
   "metadata": {},
   "outputs": [],
   "source": [
    "sa = SampleAugmenter(sample_dir + 'samples_tight.h5', debug=False)\n",
    "\n",
    "x_unweighted, _ = sa.extract_samples_train_plain(\n",
    "    theta=constant_morphing_theta([0.,0.]),\n",
    "    n_samples=100000,\n",
    "    folder=None,\n",
    "    filename=None,\n",
    "    test_split=None\n",
    ")\n",
    "\n",
    "x_weighted, weights = sa.extract_raw_data(theta=[0.,0.])"
   ]
  },
  {
   "cell_type": "code",
   "execution_count": null,
   "metadata": {},
   "outputs": [],
   "source": [
    "sa2 = SampleAugmenter(sample_dir + 'samples_tight_truth.h5', debug=False)\n",
    "x_pythia, weights_pythia = sa2.extract_raw_data(theta=[0.,0.])"
   ]
  },
  {
   "cell_type": "markdown",
   "metadata": {},
   "source": [
    "## Look at distributions"
   ]
  },
  {
   "cell_type": "code",
   "execution_count": null,
   "metadata": {},
   "outputs": [],
   "source": [
    "bins = 25\n",
    "n_observables = x_unweighted.shape[1]\n",
    "n_cols = 3\n",
    "n_rows = (n_observables + n_cols - 1) // n_cols\n",
    "labels = sa.observables.keys()\n",
    "\n",
    "plt.figure(figsize=(4. * n_cols, 4. * n_rows))\n",
    "\n",
    "for i, label in enumerate(labels):\n",
    "    xmin = np.percentile(x_unweighted[:,i], 5.)\n",
    "    xmax = np.percentile(x_unweighted[:,i], 95.)\n",
    "    xwidth = xmax - xmin\n",
    "    xmin -= xwidth * 0.1\n",
    "    xmax += xwidth * 0.1\n",
    "    x_range = (xmin, xmax)\n",
    "    \n",
    "    ax = plt.subplot(n_rows, n_cols, i+1)\n",
    "       \n",
    "    plt.hist(x_weighted[:,i], weights=weights, histtype='step', range=x_range, bins=bins, lw=1.5, label=r'Weighted', density=True)\n",
    "    plt.hist(x_unweighted[:,i], histtype='step', range=x_range, bins=bins, lw=1.5, label=r'Unweighted', density=True)\n",
    "    plt.hist(x_pythia[:,i], weights=weights_pythia, histtype='step', range=x_range, bins=bins, lw=1.5, label=r'Pythia  truth', density=True)\n",
    "    \n",
    "    if i == 0:\n",
    "        plt.legend()\n",
    "        \n",
    "    plt.xlabel(label)\n",
    "    \n",
    "plt.tight_layout()\n",
    "plt.show()"
   ]
  },
  {
   "cell_type": "code",
   "execution_count": null,
   "metadata": {},
   "outputs": [],
   "source": []
  }
 ],
 "metadata": {
  "kernelspec": {
   "display_name": "Python 3",
   "language": "python",
   "name": "python3"
  },
  "language_info": {
   "codemirror_mode": {
    "name": "ipython",
    "version": 3
   },
   "file_extension": ".py",
   "mimetype": "text/x-python",
   "name": "python",
   "nbconvert_exporter": "python",
   "pygments_lexer": "ipython3",
   "version": "3.6.7"
  }
 },
 "nbformat": 4,
 "nbformat_minor": 2
}
