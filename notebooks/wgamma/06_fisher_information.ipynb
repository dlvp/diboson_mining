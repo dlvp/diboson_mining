{
 "cells": [
  {
   "cell_type": "markdown",
   "metadata": {},
   "source": [
    "# Evaluate Fisher information\n",
    "\n",
    "Johann Brehmer, Kyle Cranmer, Felix Kling, Duccio Pappadopulo, Josh Ruderman 2018"
   ]
  },
  {
   "cell_type": "code",
   "execution_count": 1,
   "metadata": {},
   "outputs": [],
   "source": [
    "from __future__ import absolute_import, division, print_function, unicode_literals\n",
    "\n",
    "import numpy as np\n",
    "import matplotlib\n",
    "from matplotlib import pyplot as plt\n",
    "% matplotlib inline\n",
    "import logging\n",
    "import os\n",
    "\n",
    "from madminer.fisherinformation import FisherInformation\n",
    "from madminer.plotting import plot_fisher_information_contours_2d\n",
    "\n",
    "logging.basicConfig(format='%(asctime)s  %(message)s', datefmt='%H:%M')"
   ]
  },
  {
   "cell_type": "code",
   "execution_count": 2,
   "metadata": {},
   "outputs": [],
   "source": [
    "base_dir = '/Users/johannbrehmer/work/projects/madminer/diboson_mining/'\n",
    "mg_dir = '/Users/johannbrehmer/work/projects/madminer/MG5_aMC_v2_6_2/'"
   ]
  },
  {
   "cell_type": "code",
   "execution_count": 9,
   "metadata": {},
   "outputs": [],
   "source": [
    "sample_dir = base_dir + 'data/samples/wgamma/'\n",
    "card_dir = base_dir + 'cards/wgamma/'\n",
    "ufo_model_dir = card_dir + 'SMWgamma_UFO'\n",
    "run_card_dir = card_dir + 'run_cards/'\n",
    "mg_process_dir = base_dir + 'data/mg_processes/wgamma/'\n",
    "log_dir = base_dir + 'logs/wgamma/'\n",
    "temp_dir = base_dir + 'data/temp'\n",
    "delphes_dir = mg_dir + 'Delphes'\n",
    "model_dir = base_dir + 'data/models/wgamma/'"
   ]
  },
  {
   "cell_type": "markdown",
   "metadata": {},
   "source": [
    "## Calculate Fisher information"
   ]
  },
  {
   "cell_type": "code",
   "execution_count": 4,
   "metadata": {},
   "outputs": [
    {
     "name": "stderr",
     "output_type": "stream",
     "text": [
      "16:14  \n",
      "16:14  ------------------------------------------------------------\n",
      "16:14  |                                                          |\n",
      "16:14  |  MadMiner v2018.10.12                                    |\n",
      "16:14  |                                                          |\n",
      "16:14  |           Johann Brehmer, Kyle Cranmer, and Felix Kling  |\n",
      "16:14  |                                                          |\n",
      "16:14  ------------------------------------------------------------\n",
      "16:14  \n",
      "16:14  Loading data from /Users/johannbrehmer/work/projects/madminer/diboson_mining/data/samples/wgamma/samples.h5\n",
      "16:14  Found 2 parameters:\n",
      "16:14     cWWW (LHA: dim6 1, maximal power in squared ME: (2,), range: (-0.1, 0.1))\n",
      "16:14     cWWWtilde (LHA: dim6 2, maximal power in squared ME: (2,), range: (-0.1, 0.1))\n",
      "16:14  Found 6 benchmarks:\n",
      "16:14     sm: cWWW = 0.00e+00, cWWWtilde = 0.00e+00\n",
      "16:14     morphing_basis_vector_1: cWWW = -9.39e-02, cWWWtilde = 0.07\n",
      "16:14     morphing_basis_vector_2: cWWW = 0.08, cWWWtilde = -3.59e-02\n",
      "16:14     morphing_basis_vector_3: cWWW = -9.48e-02, cWWWtilde = -2.79e-02\n",
      "16:14     morphing_basis_vector_4: cWWW = -1.80e-04, cWWWtilde = -9.99e-02\n",
      "16:14     morphing_basis_vector_5: cWWW = 0.09, cWWWtilde = 0.07\n",
      "16:14  Found 27 observables: et_miss, phi_miss, n_ls, e_l1, pt_l1, eta_l1, phi_l1, n_as, e_a1, pt_a1, eta_a1, phi_a1, e_a2, pt_a2, eta_a2, phi_a2, n_js, e_j1, pt_j1, eta_j1, phi_j1, deltaphi_l1_met, deltaphi_a1_met, m_l1_a1, deltaeta_l1_a1, deltaphi_l1_a1, signed_deltaphi_l1_a1\n",
      "16:14  Found 770011 events\n",
      "16:14  Found morphing setup with 6 components\n"
     ]
    }
   ],
   "source": [
    "fisher = FisherInformation(sample_dir + 'samples.h5', debug=False)"
   ]
  },
  {
   "cell_type": "code",
   "execution_count": 6,
   "metadata": {},
   "outputs": [],
   "source": [
    "fisher_info_xsec = fisher.calculate_fisher_information_rate(\n",
    "    theta=[0.,0.],\n",
    "    luminosity = 300000.\n",
    ")"
   ]
  },
  {
   "cell_type": "code",
   "execution_count": 7,
   "metadata": {},
   "outputs": [],
   "source": [
    "fisher_info_truth = fisher.calculate_fisher_information_full_truth(\n",
    "    theta=[0.,0.],\n",
    "    luminosity = 300000.\n",
    ")"
   ]
  },
  {
   "cell_type": "code",
   "execution_count": 10,
   "metadata": {},
   "outputs": [
    {
     "name": "stderr",
     "output_type": "stream",
     "text": [
      "16:21  \n",
      "16:21  ------------------------------------------------------------\n",
      "16:21  |                                                          |\n",
      "16:21  |  MadMiner v2018.10.12                                    |\n",
      "16:21  |                                                          |\n",
      "16:21  |           Johann Brehmer, Kyle Cranmer, and Felix Kling  |\n",
      "16:21  |                                                          |\n",
      "16:21  ------------------------------------------------------------\n",
      "16:21  \n",
      "16:21  Loading settings from /Users/johannbrehmer/work/projects/madminer/diboson_mining/data/models/wgamma/sally_all_settings.json\n",
      "16:21    Found method sally, 27 observables, 2 parameters, (100, 100, 100) hidden layers, tanh activation function\n",
      "16:21  Loading state dictionary from /Users/johannbrehmer/work/projects/madminer/diboson_mining/data/models/wgamma/sally_all_state_dict.pt\n",
      "16:21  Loading evaluation data\n",
      "16:21  Starting score evaluation\n",
      "16:21  Expected score (should be close to zero): [-0.10367634  0.02113668]\n",
      "16:22  \n",
      "16:22  ------------------------------------------------------------\n",
      "16:22  |                                                          |\n",
      "16:22  |  MadMiner v2018.10.12                                    |\n",
      "16:22  |                                                          |\n",
      "16:22  |           Johann Brehmer, Kyle Cranmer, and Felix Kling  |\n",
      "16:22  |                                                          |\n",
      "16:22  ------------------------------------------------------------\n",
      "16:22  \n",
      "16:22  Loading settings from /Users/johannbrehmer/work/projects/madminer/diboson_mining/data/models/wgamma/sally_pts_settings.json\n",
      "16:22    Found method sally, 3 observables, 2 parameters, (100, 100, 100) hidden layers, tanh activation function\n",
      "16:22  Loading state dictionary from /Users/johannbrehmer/work/projects/madminer/diboson_mining/data/models/wgamma/sally_pts_state_dict.pt\n",
      "16:22  Loading evaluation data\n",
      "16:22  Starting score evaluation\n",
      "16:22  Expected score (should be close to zero): [ 0.00845069 -0.00538833]\n",
      "16:23  \n",
      "16:23  ------------------------------------------------------------\n",
      "16:23  |                                                          |\n",
      "16:23  |  MadMiner v2018.10.12                                    |\n",
      "16:23  |                                                          |\n",
      "16:23  |           Johann Brehmer, Kyle Cranmer, and Felix Kling  |\n",
      "16:23  |                                                          |\n",
      "16:23  ------------------------------------------------------------\n",
      "16:23  \n",
      "16:23  Loading settings from /Users/johannbrehmer/work/projects/madminer/diboson_mining/data/models/wgamma/sally_deltaphis_settings.json\n",
      "16:23    Found method sally, 3 observables, 2 parameters, (100, 100, 100) hidden layers, tanh activation function\n",
      "16:23  Loading state dictionary from /Users/johannbrehmer/work/projects/madminer/diboson_mining/data/models/wgamma/sally_deltaphis_state_dict.pt\n",
      "16:23  Loading evaluation data\n",
      "16:23  Starting score evaluation\n",
      "16:23  Expected score (should be close to zero): [ 0.02372558 -0.00484434]\n"
     ]
    }
   ],
   "source": [
    "model_filenames = ['sally_all', 'sally_pts', 'sally_deltaphis']\n",
    "features = [None, [0, 4, 9], [21,22,25]]\n",
    "scores = []\n",
    "fisher_infos_detector = []\n",
    "\n",
    "for filename, feature in zip(model_filenames, features):\n",
    "    fisher_infos_detector.append(\n",
    "        fisher.calculate_fisher_information_full_detector(\n",
    "            theta=[0.,0.],\n",
    "            luminosity = 300000.,\n",
    "            model_file = model_dir + filename,\n",
    "            unweighted_x_sample_file = sample_dir + 'test_local/x_test.npy',\n",
    "            features = feature\n",
    "        )\n",
    "    )\n",
    "    \n",
    "fisher_infos_detector = np.array(fisher_infos_detector)"
   ]
  },
  {
   "cell_type": "markdown",
   "metadata": {},
   "source": [
    "## Fisher information contours"
   ]
  },
  {
   "cell_type": "code",
   "execution_count": 31,
   "metadata": {},
   "outputs": [],
   "source": [
    "fisher_infos = np.array([fisher_info_truth, fisher_info_xsec] + list(fisher_infos_detector))\n",
    "labels = ['all-knowing', 'xsec', 'all', r'$p_T$', r'$\\Delta \\phi$']"
   ]
  },
  {
   "cell_type": "code",
   "execution_count": 34,
   "metadata": {
    "scrolled": true
   },
   "outputs": [
    {
     "data": {
      "image/png": "[encoded data removed]",
      "text/plain": [
       "<matplotlib.figure.Figure at 0x11b3fe400>"
      ]
     },
     "metadata": {},
     "output_type": "display_data"
    }
   ],
   "source": [
    "xmax = 0.02\n",
    "\n",
    "fig = plot_fisher_information_contours_2d(\n",
    "    fisher_information_matrices=100. / 300. * fisher_infos,\n",
    "    contour_distance=1.,\n",
    "    xrange=(-xmax,xmax),\n",
    "    yrange=(-xmax,xmax),\n",
    "    xlabel=r'$f_{WWW}$',\n",
    "    ylabel=r'$f_{\\tilde{W}WW}$',\n",
    "    matrix_labels=labels\n",
    ")\n",
    "\n",
    "plt.savefig('first_plot_wgamma.pdf')"
   ]
  },
  {
   "cell_type": "code",
   "execution_count": null,
   "metadata": {},
   "outputs": [],
   "source": []
  }
 ],
 "metadata": {
  "kernelspec": {
   "display_name": "Python [default]",
   "language": "python",
   "name": "python3"
  },
  "language_info": {
   "codemirror_mode": {
    "name": "ipython",
    "version": 3
   },
   "file_extension": ".py",
   "mimetype": "text/x-python",
   "name": "python",
   "nbconvert_exporter": "python",
   "pygments_lexer": "ipython3",
   "version": "3.6.4"
  }
 },
 "nbformat": 4,
 "nbformat_minor": 2
}
