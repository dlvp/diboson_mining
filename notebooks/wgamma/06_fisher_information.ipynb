{
 "cells": [
  {
   "cell_type": "markdown",
   "metadata": {},
   "source": [
    "# Evaluate Fisher information\n",
    "\n",
    "Johann Brehmer, Kyle Cranmer, Felix Kling, Duccio Pappadopulo, Josh Ruderman 2018"
   ]
  },
  {
   "cell_type": "code",
   "execution_count": 1,
   "metadata": {},
   "outputs": [],
   "source": [
    "from __future__ import absolute_import, division, print_function, unicode_literals\n",
    "\n",
    "import numpy as np\n",
    "import matplotlib\n",
    "from matplotlib import pyplot as plt\n",
    "% matplotlib inline\n",
    "import logging\n",
    "import os\n",
    "\n",
    "import madminer.core\n",
    "from madminer.fisherinformation import FisherInformation\n",
    "from madminer.plotting import plot_fisher_information_contours_2d\n",
    "\n",
    "logging.basicConfig(format='%(asctime)s  %(message)s', datefmt='%H:%M')"
   ]
  },
  {
   "cell_type": "code",
   "execution_count": 2,
   "metadata": {},
   "outputs": [],
   "source": [
    "base_dir = '/Users/johannbrehmer/work/projects/madminer/diboson_mining/'\n",
    "mg_dir = '/Users/johannbrehmer/work/projects/madminer/MG5_aMC_v2_6_2/'"
   ]
  },
  {
   "cell_type": "code",
   "execution_count": 3,
   "metadata": {},
   "outputs": [],
   "source": [
    "sample_dir = base_dir + 'data/samples/wgamma/'\n",
    "card_dir = base_dir + 'cards/wgamma/'\n",
    "ufo_model_dir = card_dir + 'SMWgamma_UFO'\n",
    "run_card_dir = card_dir + 'run_cards/'\n",
    "mg_process_dir = base_dir + 'data/mg_processes/wgamma/'\n",
    "log_dir = base_dir + 'logs/wgamma/'\n",
    "temp_dir = base_dir + 'data/temp'\n",
    "delphes_dir = mg_dir + 'Delphes'\n",
    "model_dir = base_dir + 'data/models/wgamma/'"
   ]
  },
  {
   "cell_type": "markdown",
   "metadata": {},
   "source": [
    "## FisherInformation instance"
   ]
  },
  {
   "cell_type": "code",
   "execution_count": 4,
   "metadata": {},
   "outputs": [
    {
     "name": "stderr",
     "output_type": "stream",
     "text": [
      "16:00  \n",
      "16:00  ------------------------------------------------------------\n",
      "16:00  |                                                          |\n",
      "16:00  |  MadMiner v2018.10.12                                    |\n",
      "16:00  |                                                          |\n",
      "16:00  |           Johann Brehmer, Kyle Cranmer, and Felix Kling  |\n",
      "16:00  |                                                          |\n",
      "16:00  ------------------------------------------------------------\n",
      "16:00  \n",
      "16:00  Loading data from /Users/johannbrehmer/work/projects/madminer/diboson_mining/data/samples/wgamma/samples.h5\n",
      "16:00  Found 2 parameters:\n",
      "16:00     cWWW (LHA: dim6 1, maximal power in squared ME: (2,), range: (-0.1, 0.1))\n",
      "16:00     cWWWtilde (LHA: dim6 2, maximal power in squared ME: (2,), range: (-0.1, 0.1))\n",
      "16:00  Found 6 benchmarks:\n",
      "16:00     sm: cWWW = 0.00e+00, cWWWtilde = 0.00e+00\n",
      "16:00     morphing_basis_vector_1: cWWW = -9.39e-02, cWWWtilde = 0.07\n",
      "16:00     morphing_basis_vector_2: cWWW = 0.08, cWWWtilde = -3.59e-02\n",
      "16:00     morphing_basis_vector_3: cWWW = -9.48e-02, cWWWtilde = -2.79e-02\n",
      "16:00     morphing_basis_vector_4: cWWW = -1.80e-04, cWWWtilde = -9.99e-02\n",
      "16:00     morphing_basis_vector_5: cWWW = 0.09, cWWWtilde = 0.07\n",
      "16:00  Found 27 observables: et_miss, phi_miss, n_ls, e_l1, pt_l1, eta_l1, phi_l1, n_as, e_a1, pt_a1, eta_a1, phi_a1, e_a2, pt_a2, eta_a2, phi_a2, n_js, e_j1, pt_j1, eta_j1, phi_j1, deltaphi_l1_met, deltaphi_a1_met, m_l1_a1, deltaeta_l1_a1, deltaphi_l1_a1, signed_deltaphi_l1_a1\n",
      "16:00  Found 770011 events\n",
      "16:00  Found morphing setup with 6 components\n"
     ]
    }
   ],
   "source": [
    "fisher = FisherInformation(sample_dir + 'samples.h5', debug=True)"
   ]
  },
  {
   "cell_type": "markdown",
   "metadata": {},
   "source": [
    "## ML vs histogram check"
   ]
  },
  {
   "cell_type": "markdown",
   "metadata": {},
   "source": [
    "### Calculate Fisher information for different versions of a delta phi histo"
   ]
  },
  {
   "cell_type": "code",
   "execution_count": 5,
   "metadata": {},
   "outputs": [
    {
     "name": "stderr",
     "output_type": "stream",
     "text": [
      "/Users/johannbrehmer/work/projects/madminer/madminer/madminer/fisherinformation.py:293: RuntimeWarning: divide by zero encountered in double_scalars\n",
      "  fisher_info.append(luminosity / sigma[i_event] * np.tensordot(dsigma.T[i_event], dsigma.T[i_event], axes=0))\n",
      "/Users/johannbrehmer/work/projects/madminer/madminer/madminer/fisherinformation.py:293: RuntimeWarning: invalid value encountered in multiply\n",
      "  fisher_info.append(luminosity / sigma[i_event] * np.tensordot(dsigma.T[i_event], dsigma.T[i_event], axes=0))\n"
     ]
    }
   ],
   "source": [
    "obs_min = 0.\n",
    "obs_max = 6.\n",
    "n_bins = [10,25,50,100]\n",
    "\n",
    "fisher_infos_histogram_variations = []\n",
    "for bins in n_bins:\n",
    "    fisher_infos_histogram_variations.append(\n",
    "        fisher.calculate_fisher_information_hist1d(\n",
    "            theta=[0.,0.],\n",
    "            luminosity=300000.,\n",
    "            observable='deltaphi_l1_a1',\n",
    "            nbins=bins,\n",
    "            histrange=(obs_min, obs_max)\n",
    "        )\n",
    "    )"
   ]
  },
  {
   "cell_type": "markdown",
   "metadata": {},
   "source": [
    "### Estimate the Fisher information in delta phi with ML"
   ]
  },
  {
   "cell_type": "code",
   "execution_count": 6,
   "metadata": {},
   "outputs": [
    {
     "name": "stderr",
     "output_type": "stream",
     "text": [
      "16:12  \n",
      "16:12  ------------------------------------------------------------\n",
      "16:12  |                                                          |\n",
      "16:12  |  MadMiner v2018.10.12                                    |\n",
      "16:12  |                                                          |\n",
      "16:12  |           Johann Brehmer, Kyle Cranmer, and Felix Kling  |\n",
      "16:12  |                                                          |\n",
      "16:12  ------------------------------------------------------------\n",
      "16:12  \n",
      "16:12  Loading settings from /Users/johannbrehmer/work/projects/madminer/diboson_mining/data/models/wgamma/sally_pta_1_settings.json\n",
      "16:12    Found method sally, 1 observables, 2 parameters, (100, 100, 100) hidden layers, tanh activation function, features [9]\n",
      "16:12  Loading state dictionary from /Users/johannbrehmer/work/projects/madminer/diboson_mining/data/models/wgamma/sally_pta_1_state_dict.pt\n",
      "16:12  Loading evaluation data\n",
      "16:12  Starting score evaluation\n",
      "16:12  Expected score (should be close to zero): [-0.05858065  0.01952864]\n",
      "16:13  \n",
      "16:13  ------------------------------------------------------------\n",
      "16:13  |                                                          |\n",
      "16:13  |  MadMiner v2018.10.12                                    |\n",
      "16:13  |                                                          |\n",
      "16:13  |           Johann Brehmer, Kyle Cranmer, and Felix Kling  |\n",
      "16:13  |                                                          |\n",
      "16:13  ------------------------------------------------------------\n",
      "16:13  \n",
      "16:13  Loading settings from /Users/johannbrehmer/work/projects/madminer/diboson_mining/data/models/wgamma/sally_pta_2_settings.json\n",
      "16:13    Found method sally, 1 observables, 2 parameters, (100, 100, 100) hidden layers, tanh activation function, features [9]\n",
      "16:13  Loading state dictionary from /Users/johannbrehmer/work/projects/madminer/diboson_mining/data/models/wgamma/sally_pta_2_state_dict.pt\n",
      "16:13  Loading evaluation data\n",
      "16:13  Starting score evaluation\n",
      "16:13  Expected score (should be close to zero): [-0.00014585  0.05054013]\n",
      "16:14  \n",
      "16:14  ------------------------------------------------------------\n",
      "16:14  |                                                          |\n",
      "16:14  |  MadMiner v2018.10.12                                    |\n",
      "16:14  |                                                          |\n",
      "16:14  |           Johann Brehmer, Kyle Cranmer, and Felix Kling  |\n",
      "16:14  |                                                          |\n",
      "16:14  ------------------------------------------------------------\n",
      "16:14  \n",
      "16:14  Loading settings from /Users/johannbrehmer/work/projects/madminer/diboson_mining/data/models/wgamma/sally_pta_big_1_settings.json\n",
      "16:14    Found method sally, 1 observables, 2 parameters, (100, 100, 100) hidden layers, tanh activation function, features [9]\n",
      "16:14  Loading state dictionary from /Users/johannbrehmer/work/projects/madminer/diboson_mining/data/models/wgamma/sally_pta_big_1_state_dict.pt\n",
      "16:14  Loading evaluation data\n",
      "16:14  Starting score evaluation\n",
      "16:14  Expected score (should be close to zero): [0.04331581 0.04712762]\n",
      "16:16  \n",
      "16:16  ------------------------------------------------------------\n",
      "16:16  |                                                          |\n",
      "16:16  |  MadMiner v2018.10.12                                    |\n",
      "16:16  |                                                          |\n",
      "16:16  |           Johann Brehmer, Kyle Cranmer, and Felix Kling  |\n",
      "16:16  |                                                          |\n",
      "16:16  ------------------------------------------------------------\n",
      "16:16  \n",
      "16:16  Loading settings from /Users/johannbrehmer/work/projects/madminer/diboson_mining/data/models/wgamma/sally_pta_big_2_settings.json\n",
      "16:16    Found method sally, 1 observables, 2 parameters, (100, 100, 100) hidden layers, tanh activation function, features [9]\n",
      "16:16  Loading state dictionary from /Users/johannbrehmer/work/projects/madminer/diboson_mining/data/models/wgamma/sally_pta_big_2_state_dict.pt\n",
      "16:16  Loading evaluation data\n",
      "16:16  Starting score evaluation\n",
      "16:16  Expected score (should be close to zero): [-0.00935559  0.01006632]\n"
     ]
    }
   ],
   "source": [
    "model_filenames = ['sally_pta_1', 'sally_pta_2', 'sally_pta_big_1', 'sally_pta_big_2']\n",
    "sample_filenames = ['test', 'test', 'all', 'all']\n",
    "fisher_infos_detector_variations = []\n",
    "\n",
    "for filename, sample_filename in zip(model_filenames, sample_filenames):\n",
    "    fisher_infos_detector_variations.append(\n",
    "        fisher.calculate_fisher_information_full_detector(\n",
    "            theta=[0.,0.],\n",
    "            luminosity=300000.,\n",
    "            model_file=model_dir + filename,\n",
    "            unweighted_x_sample_file = sample_dir + sample_filename + '_local/x_' + sample_filename + '.npy'\n",
    "        )\n",
    "    )\n"
   ]
  },
  {
   "cell_type": "markdown",
   "metadata": {},
   "source": [
    "### Plots"
   ]
  },
  {
   "cell_type": "code",
   "execution_count": 7,
   "metadata": {},
   "outputs": [],
   "source": [
    "fisher_infos = np.array(\n",
    "    fisher_infos_histogram_variations\n",
    "    + fisher_infos_detector_variations\n",
    ")\n",
    "labels = [\n",
    "    '10 bins', '25 bins', '50 bins', '100 bins',\n",
    "    'ML split', 'ML split', 'ML all', 'ML all'\n",
    "]\n",
    "colors = ['C0', 'C0', 'C0', 'C0',\n",
    "         'C1', 'C1', 'C1', 'C1']\n",
    "linestyles = [':', '-.', '--', '-',\n",
    "              '--', '--', '-', '-']"
   ]
  },
  {
   "cell_type": "code",
   "execution_count": 14,
   "metadata": {},
   "outputs": [
    {
     "data": {
      "image/png": "[encoded data removed]",
      "text/plain": [
       "<matplotlib.figure.Figure at 0x10fdac5f8>"
      ]
     },
     "metadata": {},
     "output_type": "display_data"
    }
   ],
   "source": [
    "xmax = 0.02\n",
    "\n",
    "fig = plot_fisher_information_contours_2d(\n",
    "    fisher_information_matrices=fisher_infos,\n",
    "    contour_distance=1.,\n",
    "    xrange=(-xmax,xmax),\n",
    "    yrange=(-xmax,xmax),\n",
    "    xlabel=r'$f_{WWW}$',\n",
    "    ylabel=r'$f_{\\tilde{W}WW}$',\n",
    "    matrix_labels=labels,\n",
    "    colors=colors,\n",
    "    linestyles=linestyles\n",
    ")\n",
    "\n",
    "plt.savefig('ml_vs_histo_check.pdf')"
   ]
  },
  {
   "cell_type": "markdown",
   "metadata": {},
   "source": [
    "## Consistency check for full Fisher info"
   ]
  },
  {
   "cell_type": "markdown",
   "metadata": {},
   "source": [
    "### Calculate Fisher information: ML"
   ]
  },
  {
   "cell_type": "code",
   "execution_count": 25,
   "metadata": {},
   "outputs": [
    {
     "name": "stderr",
     "output_type": "stream",
     "text": [
      "18:23  \n",
      "18:23  ------------------------------------------------------------\n",
      "18:23  |                                                          |\n",
      "18:23  |  MadMiner v2018.10.12                                    |\n",
      "18:23  |                                                          |\n",
      "18:23  |           Johann Brehmer, Kyle Cranmer, and Felix Kling  |\n",
      "18:23  |                                                          |\n",
      "18:23  ------------------------------------------------------------\n",
      "18:23  \n",
      "18:23  Loading settings from /Users/johannbrehmer/work/projects/madminer/diboson_mining/data/models/wgamma/sally_all_0_settings.json\n",
      "18:23    Found method sally, 27 observables, 2 parameters, (100, 100, 100) hidden layers, tanh activation function, features None\n",
      "18:23  Loading state dictionary from /Users/johannbrehmer/work/projects/madminer/diboson_mining/data/models/wgamma/sally_all_0_state_dict.pt\n",
      "18:23  Loading evaluation data\n",
      "18:23  Starting score evaluation\n",
      "18:24  Expected score (should be close to zero): [0.02794518 0.0002183 ]\n",
      "18:24  \n",
      "18:24  ------------------------------------------------------------\n",
      "18:24  |                                                          |\n",
      "18:24  |  MadMiner v2018.10.12                                    |\n",
      "18:24  |                                                          |\n",
      "18:24  |           Johann Brehmer, Kyle Cranmer, and Felix Kling  |\n",
      "18:24  |                                                          |\n",
      "18:24  ------------------------------------------------------------\n",
      "18:24  \n",
      "18:24  Loading settings from /Users/johannbrehmer/work/projects/madminer/diboson_mining/data/models/wgamma/sally_all_1_settings.json\n",
      "18:24    Found method sally, 27 observables, 2 parameters, (100, 100, 100) hidden layers, tanh activation function, features None\n",
      "18:24  Loading state dictionary from /Users/johannbrehmer/work/projects/madminer/diboson_mining/data/models/wgamma/sally_all_1_state_dict.pt\n",
      "18:24  Loading evaluation data\n",
      "18:24  Starting score evaluation\n",
      "18:25  Expected score (should be close to zero): [0.04069956 0.02980826]\n",
      "18:25  \n",
      "18:25  ------------------------------------------------------------\n",
      "18:25  |                                                          |\n",
      "18:25  |  MadMiner v2018.10.12                                    |\n",
      "18:25  |                                                          |\n",
      "18:25  |           Johann Brehmer, Kyle Cranmer, and Felix Kling  |\n",
      "18:25  |                                                          |\n",
      "18:25  ------------------------------------------------------------\n",
      "18:25  \n",
      "18:25  Loading settings from /Users/johannbrehmer/work/projects/madminer/diboson_mining/data/models/wgamma/sally_all_2_settings.json\n",
      "18:25    Found method sally, 27 observables, 2 parameters, (100, 100, 100) hidden layers, tanh activation function, features None\n",
      "18:25  Loading state dictionary from /Users/johannbrehmer/work/projects/madminer/diboson_mining/data/models/wgamma/sally_all_2_state_dict.pt\n",
      "18:25  Loading evaluation data\n",
      "18:25  Starting score evaluation\n",
      "18:26  Expected score (should be close to zero): [-0.00085505  0.05599232]\n",
      "18:26  \n",
      "18:26  ------------------------------------------------------------\n",
      "18:26  |                                                          |\n",
      "18:26  |  MadMiner v2018.10.12                                    |\n",
      "18:26  |                                                          |\n",
      "18:26  |           Johann Brehmer, Kyle Cranmer, and Felix Kling  |\n",
      "18:26  |                                                          |\n",
      "18:26  ------------------------------------------------------------\n",
      "18:26  \n",
      "18:26  Loading settings from /Users/johannbrehmer/work/projects/madminer/diboson_mining/data/models/wgamma/sally_all_3_settings.json\n",
      "18:26    Found method sally, 27 observables, 2 parameters, (100, 100, 100) hidden layers, tanh activation function, features None\n",
      "18:26  Loading state dictionary from /Users/johannbrehmer/work/projects/madminer/diboson_mining/data/models/wgamma/sally_all_3_state_dict.pt\n",
      "18:26  Loading evaluation data\n",
      "18:26  Starting score evaluation\n",
      "18:27  Expected score (should be close to zero): [ 0.07499094 -0.00333282]\n",
      "18:28  \n",
      "18:28  ------------------------------------------------------------\n",
      "18:28  |                                                          |\n",
      "18:28  |  MadMiner v2018.10.12                                    |\n",
      "18:28  |                                                          |\n",
      "18:28  |           Johann Brehmer, Kyle Cranmer, and Felix Kling  |\n",
      "18:28  |                                                          |\n",
      "18:28  ------------------------------------------------------------\n",
      "18:28  \n",
      "18:28  Loading settings from /Users/johannbrehmer/work/projects/madminer/diboson_mining/data/models/wgamma/sally_all_4_settings.json\n",
      "18:28    Found method sally, 27 observables, 2 parameters, (100, 100, 100) hidden layers, tanh activation function, features None\n",
      "18:28  Loading state dictionary from /Users/johannbrehmer/work/projects/madminer/diboson_mining/data/models/wgamma/sally_all_4_state_dict.pt\n",
      "18:28  Loading evaluation data\n",
      "18:28  Starting score evaluation\n",
      "18:28  Expected score (should be close to zero): [ 0.03335092 -0.0216404 ]\n",
      "18:29  \n",
      "18:29  ------------------------------------------------------------\n",
      "18:29  |                                                          |\n",
      "18:29  |  MadMiner v2018.10.12                                    |\n",
      "18:29  |                                                          |\n",
      "18:29  |           Johann Brehmer, Kyle Cranmer, and Felix Kling  |\n",
      "18:29  |                                                          |\n",
      "18:29  ------------------------------------------------------------\n",
      "18:29  \n",
      "18:29  Loading settings from /Users/johannbrehmer/work/projects/madminer/diboson_mining/data/models/wgamma/sally_all_5_settings.json\n",
      "18:29    Found method sally, 27 observables, 2 parameters, (100, 100, 100) hidden layers, tanh activation function, features None\n",
      "18:29  Loading state dictionary from /Users/johannbrehmer/work/projects/madminer/diboson_mining/data/models/wgamma/sally_all_5_state_dict.pt\n",
      "18:29  Loading evaluation data\n",
      "18:29  Starting score evaluation\n",
      "18:30  Expected score (should be close to zero): [-0.00419449  0.00337492]\n",
      "18:30  \n",
      "18:30  ------------------------------------------------------------\n",
      "18:30  |                                                          |\n",
      "18:30  |  MadMiner v2018.10.12                                    |\n",
      "18:30  |                                                          |\n",
      "18:30  |           Johann Brehmer, Kyle Cranmer, and Felix Kling  |\n",
      "18:30  |                                                          |\n",
      "18:30  ------------------------------------------------------------\n",
      "18:30  \n",
      "18:30  Loading settings from /Users/johannbrehmer/work/projects/madminer/diboson_mining/data/models/wgamma/sally_all_6_settings.json\n",
      "18:30    Found method sally, 27 observables, 2 parameters, (100, 100, 100) hidden layers, tanh activation function, features None\n",
      "18:30  Loading state dictionary from /Users/johannbrehmer/work/projects/madminer/diboson_mining/data/models/wgamma/sally_all_6_state_dict.pt\n",
      "18:30  Loading evaluation data\n",
      "18:30  Starting score evaluation\n",
      "18:31  Expected score (should be close to zero): [ 0.14495425 -0.04297449]\n",
      "18:31  \n",
      "18:31  ------------------------------------------------------------\n",
      "18:31  |                                                          |\n",
      "18:31  |  MadMiner v2018.10.12                                    |\n",
      "18:31  |                                                          |\n",
      "18:31  |           Johann Brehmer, Kyle Cranmer, and Felix Kling  |\n",
      "18:31  |                                                          |\n",
      "18:31  ------------------------------------------------------------\n",
      "18:31  \n",
      "18:31  Loading settings from /Users/johannbrehmer/work/projects/madminer/diboson_mining/data/models/wgamma/sally_all_7_settings.json\n",
      "18:31    Found method sally, 27 observables, 2 parameters, (100, 100, 100) hidden layers, tanh activation function, features None\n",
      "18:31  Loading state dictionary from /Users/johannbrehmer/work/projects/madminer/diboson_mining/data/models/wgamma/sally_all_7_state_dict.pt\n",
      "18:31  Loading evaluation data\n",
      "18:31  Starting score evaluation\n"
     ]
    },
    {
     "name": "stderr",
     "output_type": "stream",
     "text": [
      "18:31  Expected score (should be close to zero): [-0.05001684 -0.0168274 ]\n",
      "18:32  \n",
      "18:32  ------------------------------------------------------------\n",
      "18:32  |                                                          |\n",
      "18:32  |  MadMiner v2018.10.12                                    |\n",
      "18:32  |                                                          |\n",
      "18:32  |           Johann Brehmer, Kyle Cranmer, and Felix Kling  |\n",
      "18:32  |                                                          |\n",
      "18:32  ------------------------------------------------------------\n",
      "18:32  \n",
      "18:32  Loading settings from /Users/johannbrehmer/work/projects/madminer/diboson_mining/data/models/wgamma/sally_all_8_settings.json\n",
      "18:32    Found method sally, 27 observables, 2 parameters, (100, 100, 100) hidden layers, tanh activation function, features None\n",
      "18:32  Loading state dictionary from /Users/johannbrehmer/work/projects/madminer/diboson_mining/data/models/wgamma/sally_all_8_state_dict.pt\n",
      "18:32  Loading evaluation data\n",
      "18:32  Starting score evaluation\n",
      "18:32  Expected score (should be close to zero): [-0.02930507 -0.00083621]\n",
      "18:33  \n",
      "18:33  ------------------------------------------------------------\n",
      "18:33  |                                                          |\n",
      "18:33  |  MadMiner v2018.10.12                                    |\n",
      "18:33  |                                                          |\n",
      "18:33  |           Johann Brehmer, Kyle Cranmer, and Felix Kling  |\n",
      "18:33  |                                                          |\n",
      "18:33  ------------------------------------------------------------\n",
      "18:33  \n",
      "18:33  Loading settings from /Users/johannbrehmer/work/projects/madminer/diboson_mining/data/models/wgamma/sally_all_9_settings.json\n",
      "18:33    Found method sally, 27 observables, 2 parameters, (100, 100, 100) hidden layers, tanh activation function, features None\n",
      "18:33  Loading state dictionary from /Users/johannbrehmer/work/projects/madminer/diboson_mining/data/models/wgamma/sally_all_9_state_dict.pt\n",
      "18:33  Loading evaluation data\n",
      "18:33  Starting score evaluation\n",
      "18:33  Expected score (should be close to zero): [0.03163151 0.01504652]\n"
     ]
    }
   ],
   "source": [
    "fisher_infos_detector_variations = []\n",
    "\n",
    "for i in range(10):\n",
    "    fisher_infos_detector_variations.append(\n",
    "        fisher.calculate_fisher_information_full_detector(\n",
    "            theta=[0.,0.],\n",
    "            luminosity=300000.,\n",
    "            model_file=model_dir + 'sally_all_' + str(i),\n",
    "            unweighted_x_sample_file = sample_dir + 'test_local/x_test.npy'\n",
    "        )\n",
    "    )\n"
   ]
  },
  {
   "cell_type": "markdown",
   "metadata": {},
   "source": [
    "### Plot"
   ]
  },
  {
   "cell_type": "code",
   "execution_count": 31,
   "metadata": {},
   "outputs": [
    {
     "data": {
      "image/png": "[encoded data removed]",
      "text/plain": [
       "<matplotlib.figure.Figure at 0x10f5919b0>"
      ]
     },
     "metadata": {},
     "output_type": "display_data"
    }
   ],
   "source": [
    "xmax = 0.006\n",
    "\n",
    "fig = plot_fisher_information_contours_2d(\n",
    "    fisher_information_matrices=fisher_infos_detector_variations,\n",
    "    contour_distance=1.,\n",
    "    xrange=(-xmax,xmax),\n",
    "    yrange=(-xmax,xmax),\n",
    "    xlabel=r'$f_{WWW}$',\n",
    "    ylabel=r'$f_{\\tilde{W}WW}$',\n",
    "    linestyles=['-' for _ in fisher_infos_detector_variations]\n",
    ")\n",
    "\n",
    "plt.savefig('full_sally_fisher_info_consistency.pdf')"
   ]
  },
  {
   "cell_type": "markdown",
   "metadata": {},
   "source": [
    "## Compare all methods"
   ]
  },
  {
   "cell_type": "markdown",
   "metadata": {},
   "source": [
    "### Calculate Fisher information: truth"
   ]
  },
  {
   "cell_type": "code",
   "execution_count": null,
   "metadata": {},
   "outputs": [],
   "source": [
    "fisher_info_xsec = fisher.calculate_fisher_information_rate(\n",
    "    theta=[0.,0.],\n",
    "    luminosity = 300000.\n",
    ")"
   ]
  },
  {
   "cell_type": "code",
   "execution_count": null,
   "metadata": {},
   "outputs": [],
   "source": [
    "fisher_info_truth = fisher.calculate_fisher_information_full_truth(\n",
    "    theta=[0.,0.],\n",
    "    luminosity = 300000.\n",
    ")"
   ]
  },
  {
   "cell_type": "markdown",
   "metadata": {},
   "source": [
    "### Calculate Fisher information: various histograms"
   ]
  },
  {
   "cell_type": "code",
   "execution_count": null,
   "metadata": {},
   "outputs": [],
   "source": [
    "observables = ['et_miss', 'pt_l1', 'pt_a1', 'deltaphi_l1_a1']\n",
    "obs_mins = [0., 0., 0., 0.]\n",
    "obs_maxs = [500., 500., 500., 6.]\n",
    "bins = 25\n",
    "\n",
    "fisher_infos_histograms = []\n",
    "for observable, obs_min, obs_max in zip(observables, obs_mins, obs_maxs):\n",
    "    fisher_infos_histograms.append(\n",
    "        fisher.calculate_fisher_information_hist1d(\n",
    "            theta=[0.,0.],\n",
    "            luminosity=300000.,\n",
    "            observable=observable,\n",
    "            nbins=bins,\n",
    "            histrange=(obs_min,obs_max)\n",
    "        )\n",
    "    )"
   ]
  },
  {
   "cell_type": "markdown",
   "metadata": {},
   "source": [
    "### Calculate Fisher information: ML trained on different observables"
   ]
  },
  {
   "cell_type": "code",
   "execution_count": null,
   "metadata": {},
   "outputs": [],
   "source": [
    "model_filenames = ['sally_all_0', 'sally_pts', 'sally_deltaphis']\n",
    "fisher_infos_detector = []\n",
    "\n",
    "for filename in model_filenames:\n",
    "    fisher_infos_detector.append(\n",
    "        fisher.calculate_fisher_information_full_detector(\n",
    "            theta=[0.,0.],\n",
    "            luminosity=300000.,\n",
    "            model_file=model_dir + filename,\n",
    "            unweighted_x_sample_file = sample_dir + 'test_local/x_test.npy'\n",
    "        )\n",
    "    )"
   ]
  },
  {
   "cell_type": "markdown",
   "metadata": {},
   "source": [
    "### Fisher information contours"
   ]
  },
  {
   "cell_type": "code",
   "execution_count": null,
   "metadata": {},
   "outputs": [],
   "source": [
    "fisher_infos = np.array(\n",
    "    [fisher_info_truth, fisher_info_xsec]\n",
    "    + list(fisher_infos_histograms)\n",
    "    +  list(fisher_infos_detector)\n",
    ")\n",
    "labels = [\n",
    "    'xsec',\n",
    "    'MET', r'$p_{T, \\ell}$', r'$p_{T, \\gamma}$', r'$\\Delta\\phi_{\\ell\\gamma}$',\n",
    "    'all', r'all $p_{T}$', r'all $\\Delta \\phi$'\n",
    "]\n",
    "colors = [\n",
    "    '0.65',\n",
    "    'mediumblue', 'mediumblue', 'mediumblue', 'mediumblue',\n",
    "    '#CC002E', '#CC002E', '#CC002E'\n",
    "]\n",
    "linestyles = [\n",
    "    ':',\n",
    "    '--', '--', '--', '--',\n",
    "    '-', '--', '--'\n",
    "]\n"
   ]
  },
  {
   "cell_type": "code",
   "execution_count": null,
   "metadata": {
    "scrolled": true
   },
   "outputs": [],
   "source": [
    "xmax = 0.02\n",
    "\n",
    "fig = plot_fisher_information_contours_2d(\n",
    "    fisher_information_matrices=fisher_infos,\n",
    "    contour_distance=1.,\n",
    "    xrange=(-xmax,xmax),\n",
    "    yrange=(-xmax,xmax),\n",
    "    xlabel=r'$f_{WWW}$',\n",
    "    ylabel=r'$f_{\\tilde{W}WW}$',\n",
    "    matrix_labels=labels,\n",
    "    colors=colors,\n",
    "    linestyles=linestyles\n",
    ")\n",
    "\n",
    "plt.savefig('information_wgamma.pdf')\n"
   ]
  },
  {
   "cell_type": "code",
   "execution_count": null,
   "metadata": {},
   "outputs": [],
   "source": []
  }
 ],
 "metadata": {
  "kernelspec": {
   "display_name": "Python [default]",
   "language": "python",
   "name": "python3"
  },
  "language_info": {
   "codemirror_mode": {
    "name": "ipython",
    "version": 3
   },
   "file_extension": ".py",
   "mimetype": "text/x-python",
   "name": "python",
   "nbconvert_exporter": "python",
   "pygments_lexer": "ipython3",
   "version": "3.6.4"
  }
 },
 "nbformat": 4,
 "nbformat_minor": 2
}
