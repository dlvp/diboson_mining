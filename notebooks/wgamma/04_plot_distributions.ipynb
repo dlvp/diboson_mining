{
 "cells": [
  {
   "cell_type": "markdown",
   "metadata": {},
   "source": [
    "# Plot distributions of observables\n",
    "\n",
    "Johann Brehmer, Kyle Cranmer, Marco Farina, Felix Kling, Duccio Pappadopulo, Josh Ruderman 2018"
   ]
  },
  {
   "cell_type": "code",
   "execution_count": 1,
   "metadata": {},
   "outputs": [],
   "source": [
    "from __future__ import absolute_import, division, print_function, unicode_literals\n",
    "\n",
    "import numpy as np\n",
    "import matplotlib\n",
    "from matplotlib import pyplot as plt\n",
    "%matplotlib inline\n",
    "import logging\n",
    "import os\n",
    "\n",
    "from madminer.plotting import plot_distributions\n",
    "\n",
    "logging.basicConfig(format='%(asctime)-5.5s %(name)-20.20s %(levelname)-7.7s %(message)s', datefmt='%H:%M', level=logging.INFO)\n"
   ]
  },
  {
   "cell_type": "code",
   "execution_count": 2,
   "metadata": {},
   "outputs": [],
   "source": [
    "base_dir = '/Users/johannbrehmer/work/projects/madminer/diboson_mining/'\n",
    "mg_dir = '/Users/johannbrehmer/work/projects/madminer/MG5_aMC_v2_6_4/'"
   ]
  },
  {
   "cell_type": "code",
   "execution_count": 3,
   "metadata": {},
   "outputs": [],
   "source": [
    "sample_dir = base_dir + 'data/samples/wgamma_sys/'\n",
    "card_dir = base_dir + 'cards/wgamma/'\n",
    "ufo_model_dir = card_dir + 'SMWgamma_UFO'\n",
    "run_card_dir = card_dir + 'run_cards/'\n",
    "mg_process_dir = base_dir + 'data/mg_processes/wgamma_sys/'\n",
    "log_dir = base_dir + 'logs/wgamma_sys/'\n",
    "temp_dir = base_dir + 'data/temp'\n",
    "delphes_dir = mg_dir + 'Delphes'"
   ]
  },
  {
   "cell_type": "markdown",
   "metadata": {},
   "source": [
    "## Plot all"
   ]
  },
  {
   "cell_type": "code",
   "execution_count": 4,
   "metadata": {},
   "outputs": [
    {
     "name": "stdout",
     "output_type": "stream",
     "text": [
      "Help on function plot_distributions in module madminer.plotting:\n",
      "\n",
      "plot_distributions(filename, observables=None, parameter_points=None, nuisance_points=None, n_samples=10000, observable_labels=None, n_bins=50, line_labels=None, colors=None, linestyles=None, linewidths=1.5)\n",
      "    Plots one-dimensional histograms of observables in a MadMiner file for a given set of benchmarks.\n",
      "    \n",
      "    Parameters\n",
      "    ----------\n",
      "    filename : str\n",
      "        Filename of a MadMiner HDF5 file.\n",
      "    \n",
      "    observables : list of str or None, optional\n",
      "        Which observables to plot, given by a list of their names. If None, all observables in the file\n",
      "        are plotted. Default value: None.\n",
      "    \n",
      "    parameter_points : list of (str or ndarray) or None, optional\n",
      "        Which parameter points to use for histogramming the data. Given by a list, each element can either be the name\n",
      "        of a benchmark in the MadMiner file, or an ndarray specifying any parameter point in a morphing setup. If None,\n",
      "        all physics (non-nuisance) benchmarks defined in the MadMiner file are plotted. Default value: None.\n",
      "    \n",
      "    nuisance_points : list of (str or ndarray) or None, optional\n",
      "        Sets the value of the nuisance parameters for histogramming the data. Given by a list, each element can either\n",
      "        be the name of a nuisance benchmark in the MadMiner file, or an ndarray specifying all nuisance parameters. If\n",
      "        None, all nuisance parameters are assumed to be at their nominal (central) value.  Default value: None.\n",
      "    \n",
      "    n_samples : int, optional\n",
      "        Number of unweighted samples drawn to draw the histogram. Default value: 10000.\n",
      "    \n",
      "    Returns\n",
      "    -------\n",
      "    figure : Figure\n",
      "        Plot as Matplotlib Figure instance.\n",
      "\n"
     ]
    }
   ],
   "source": [
    "help(plot_distributions)"
   ]
  },
  {
   "cell_type": "code",
   "execution_count": 5,
   "metadata": {
    "scrolled": true
   },
   "outputs": [
    {
     "name": "stderr",
     "output_type": "stream",
     "text": [
      "04:46 madminer.sampling    INFO    Loading data from /Users/johannbrehmer/work/projects/madminer/diboson_mining/data/samples/wgamma_sys/samples_tight.h5\n",
      "04:46 madminer.sampling    INFO    Found 2 parameters:\n",
      "04:46 madminer.sampling    INFO       cWWW (LHA: dim6 1, maximal power in squared ME: (2,), range: (-0.02, 0.02))\n",
      "04:46 madminer.sampling    INFO       cWWWtilde (LHA: dim6 2, maximal power in squared ME: (2,), range: (-0.02, 0.02))\n",
      "04:46 madminer.sampling    INFO    Found 103 benchmarks, of which 6 physical:\n",
      "04:46 madminer.sampling    INFO       sm: cWWW = 0.00e+00, cWWWtilde = 0.00e+00\n",
      "04:46 madminer.sampling    INFO       morphing_basis_vector_1: cWWW = -6.07e-03, cWWWtilde = -1.84e-02\n",
      "04:46 madminer.sampling    INFO       morphing_basis_vector_2: cWWW = 1.00e-02, cWWWtilde = 1.70e-02\n",
      "04:46 madminer.sampling    INFO       morphing_basis_vector_3: cWWW = -1.99e-02, cWWWtilde = 1.87e-02\n",
      "04:46 madminer.sampling    INFO       morphing_basis_vector_4: cWWW = 1.97e-02, cWWWtilde = -1.53e-02\n",
      "04:46 madminer.sampling    INFO       morphing_basis_vector_5: cWWW = -1.65e-02, cWWWtilde = -6.33e-03\n",
      "04:46 madminer.sampling    INFO       1: nuisance parameter\n",
      "04:46 madminer.sampling    INFO       10: nuisance parameter\n",
      "04:46 madminer.sampling    INFO       11: nuisance parameter\n",
      "04:46 madminer.sampling    INFO       12: nuisance parameter\n",
      "04:46 madminer.sampling    INFO       13: nuisance parameter\n",
      "04:46 madminer.sampling    INFO       14: nuisance parameter\n",
      "04:46 madminer.sampling    INFO       15: nuisance parameter\n",
      "04:46 madminer.sampling    INFO       16: nuisance parameter\n",
      "04:46 madminer.sampling    INFO       17: nuisance parameter\n",
      "04:46 madminer.sampling    INFO       18: nuisance parameter\n",
      "04:46 madminer.sampling    INFO       19: nuisance parameter\n",
      "04:46 madminer.sampling    INFO       2: nuisance parameter\n",
      "04:46 madminer.sampling    INFO       20: nuisance parameter\n",
      "04:46 madminer.sampling    INFO       21: nuisance parameter\n",
      "04:46 madminer.sampling    INFO       22: nuisance parameter\n",
      "04:46 madminer.sampling    INFO       23: nuisance parameter\n",
      "04:46 madminer.sampling    INFO       24: nuisance parameter\n",
      "04:46 madminer.sampling    INFO       25: nuisance parameter\n",
      "04:46 madminer.sampling    INFO       26: nuisance parameter\n",
      "04:46 madminer.sampling    INFO       27: nuisance parameter\n",
      "04:46 madminer.sampling    INFO       28: nuisance parameter\n",
      "04:46 madminer.sampling    INFO       29: nuisance parameter\n",
      "04:46 madminer.sampling    INFO       3: nuisance parameter\n",
      "04:46 madminer.sampling    INFO       30: nuisance parameter\n",
      "04:46 madminer.sampling    INFO       31: nuisance parameter\n",
      "04:46 madminer.sampling    INFO       32: nuisance parameter\n",
      "04:46 madminer.sampling    INFO       33: nuisance parameter\n",
      "04:46 madminer.sampling    INFO       34: nuisance parameter\n",
      "04:46 madminer.sampling    INFO       35: nuisance parameter\n",
      "04:46 madminer.sampling    INFO       36: nuisance parameter\n",
      "04:46 madminer.sampling    INFO       37: nuisance parameter\n",
      "04:46 madminer.sampling    INFO       38: nuisance parameter\n",
      "04:46 madminer.sampling    INFO       39: nuisance parameter\n",
      "04:46 madminer.sampling    INFO       4: nuisance parameter\n",
      "04:46 madminer.sampling    INFO       40: nuisance parameter\n",
      "04:46 madminer.sampling    INFO       41: nuisance parameter\n",
      "04:46 madminer.sampling    INFO       42: nuisance parameter\n",
      "04:46 madminer.sampling    INFO       43: nuisance parameter\n",
      "04:46 madminer.sampling    INFO       44: nuisance parameter\n",
      "04:46 madminer.sampling    INFO       45: nuisance parameter\n",
      "04:46 madminer.sampling    INFO       46: nuisance parameter\n",
      "04:46 madminer.sampling    INFO       47: nuisance parameter\n",
      "04:46 madminer.sampling    INFO       48: nuisance parameter\n",
      "04:46 madminer.sampling    INFO       49: nuisance parameter\n",
      "04:46 madminer.sampling    INFO       5: nuisance parameter\n",
      "04:46 madminer.sampling    INFO       50: nuisance parameter\n",
      "04:46 madminer.sampling    INFO       51: nuisance parameter\n",
      "04:46 madminer.sampling    INFO       52: nuisance parameter\n",
      "04:46 madminer.sampling    INFO       53: nuisance parameter\n",
      "04:46 madminer.sampling    INFO       54: nuisance parameter\n",
      "04:46 madminer.sampling    INFO       55: nuisance parameter\n",
      "04:46 madminer.sampling    INFO       56: nuisance parameter\n",
      "04:46 madminer.sampling    INFO       57: nuisance parameter\n",
      "04:46 madminer.sampling    INFO       58: nuisance parameter\n",
      "04:46 madminer.sampling    INFO       59: nuisance parameter\n",
      "04:46 madminer.sampling    INFO       6: nuisance parameter\n",
      "04:46 madminer.sampling    INFO       60: nuisance parameter\n",
      "04:46 madminer.sampling    INFO       61: nuisance parameter\n",
      "04:46 madminer.sampling    INFO       62: nuisance parameter\n",
      "04:46 madminer.sampling    INFO       63: nuisance parameter\n",
      "04:46 madminer.sampling    INFO       64: nuisance parameter\n",
      "04:46 madminer.sampling    INFO       65: nuisance parameter\n",
      "04:46 madminer.sampling    INFO       66: nuisance parameter\n",
      "04:46 madminer.sampling    INFO       67: nuisance parameter\n",
      "04:46 madminer.sampling    INFO       68: nuisance parameter\n",
      "04:46 madminer.sampling    INFO       69: nuisance parameter\n",
      "04:46 madminer.sampling    INFO       7: nuisance parameter\n",
      "04:46 madminer.sampling    INFO       70: nuisance parameter\n",
      "04:46 madminer.sampling    INFO       71: nuisance parameter\n",
      "04:46 madminer.sampling    INFO       72: nuisance parameter\n",
      "04:46 madminer.sampling    INFO       73: nuisance parameter\n",
      "04:46 madminer.sampling    INFO       74: nuisance parameter\n",
      "04:46 madminer.sampling    INFO       75: nuisance parameter\n",
      "04:46 madminer.sampling    INFO       76: nuisance parameter\n",
      "04:46 madminer.sampling    INFO       77: nuisance parameter\n",
      "04:46 madminer.sampling    INFO       78: nuisance parameter\n",
      "04:46 madminer.sampling    INFO       79: nuisance parameter\n",
      "04:46 madminer.sampling    INFO       8: nuisance parameter\n",
      "04:46 madminer.sampling    INFO       80: nuisance parameter\n",
      "04:46 madminer.sampling    INFO       81: nuisance parameter\n",
      "04:46 madminer.sampling    INFO       82: nuisance parameter\n",
      "04:46 madminer.sampling    INFO       83: nuisance parameter\n",
      "04:46 madminer.sampling    INFO       84: nuisance parameter\n",
      "04:46 madminer.sampling    INFO       85: nuisance parameter\n",
      "04:46 madminer.sampling    INFO       86: nuisance parameter\n",
      "04:46 madminer.sampling    INFO       87: nuisance parameter\n",
      "04:46 madminer.sampling    INFO       88: nuisance parameter\n",
      "04:46 madminer.sampling    INFO       89: nuisance parameter\n",
      "04:46 madminer.sampling    INFO       9: nuisance parameter\n",
      "04:46 madminer.sampling    INFO       90: nuisance parameter\n",
      "04:46 madminer.sampling    INFO       91: nuisance parameter\n",
      "04:46 madminer.sampling    INFO       92: nuisance parameter\n",
      "04:46 madminer.sampling    INFO       93: nuisance parameter\n",
      "04:46 madminer.sampling    INFO       94: nuisance parameter\n",
      "04:46 madminer.sampling    INFO       95: nuisance parameter\n",
      "04:46 madminer.sampling    INFO       96: nuisance parameter\n",
      "04:46 madminer.sampling    INFO       97: nuisance parameter\n",
      "04:46 madminer.sampling    INFO    Found 33 observables: et_miss, phi_miss, e_visible, eta_visible, e_l1, pt_l1, eta_l1, phi_l1, e_a1, pt_a1, eta_a1, phi_a1, e_j1, pt_j1, eta_j1, phi_j1, pdgid_l1, m_la, m_lmet, m_amet, pt_la, pt_lmet, pt_amet, deltaphi_la, deltaphi_lmet, deltaphi_amet, deltaeta_la, m_almet, pt_almet, mt, phi_minus, phi_plus, phi\n",
      "04:46 madminer.sampling    INFO    Found 378309 events\n",
      "04:46 madminer.sampling    INFO    Found morphing setup with 6 components\n",
      "04:46 madminer.sampling    INFO    Extracting evaluation sample. Sampling according to ('benchmark', 'sm')\n",
      "04:46 madminer.utils.inter WARNING No sampling information stored in file /Users/johannbrehmer/work/projects/madminer/diboson_mining/data/samples/wgamma_sys/samples_tight.h5\n"
     ]
    },
    {
     "ename": "ValueError",
     "evalue": "shapes (103,) and (6,) not aligned: 103 (dim 0) != 6 (dim 0)",
     "output_type": "error",
     "traceback": [
      "\u001b[0;31m---------------------------------------------------------------------------\u001b[0m",
      "\u001b[0;31mValueError\u001b[0m                                Traceback (most recent call last)",
      "\u001b[0;32m<ipython-input-5-3d9175a00dd0>\u001b[0m in \u001b[0;36m<module>\u001b[0;34m\u001b[0m\n\u001b[1;32m      1\u001b[0m plot_distributions(\n\u001b[0;32m----> 2\u001b[0;31m     \u001b[0mfilename\u001b[0m\u001b[0;34m=\u001b[0m\u001b[0msample_dir\u001b[0m \u001b[0;34m+\u001b[0m \u001b[0;34m'samples_tight.h5'\u001b[0m\u001b[0;34m\u001b[0m\u001b[0;34m\u001b[0m\u001b[0m\n\u001b[0m\u001b[1;32m      3\u001b[0m )\n",
      "\u001b[0;32m~/work/projects/madminer/madminer/madminer/plotting.py\u001b[0m in \u001b[0;36mplot_distributions\u001b[0;34m(filename, observables, parameter_points, nuisance_points, n_samples, observable_labels, n_bins, line_labels, colors, linestyles, linewidths)\u001b[0m\n\u001b[1;32m    112\u001b[0m             \u001b[0mtheta\u001b[0m \u001b[0;34m=\u001b[0m \u001b[0mconstant_morphing_theta\u001b[0m\u001b[0;34m(\u001b[0m\u001b[0mtheta\u001b[0m\u001b[0;34m)\u001b[0m\u001b[0;34m\u001b[0m\u001b[0;34m\u001b[0m\u001b[0m\n\u001b[1;32m    113\u001b[0m \u001b[0;34m\u001b[0m\u001b[0m\n\u001b[0;32m--> 114\u001b[0;31m         \u001b[0mevents\u001b[0m\u001b[0;34m,\u001b[0m \u001b[0m_\u001b[0m \u001b[0;34m=\u001b[0m \u001b[0msa\u001b[0m\u001b[0;34m.\u001b[0m\u001b[0mextract_samples_test\u001b[0m\u001b[0;34m(\u001b[0m\u001b[0mtheta\u001b[0m\u001b[0;34m=\u001b[0m\u001b[0mtheta\u001b[0m\u001b[0;34m,\u001b[0m \u001b[0mn_samples\u001b[0m\u001b[0;34m=\u001b[0m\u001b[0mn_samples\u001b[0m\u001b[0;34m,\u001b[0m \u001b[0mfolder\u001b[0m\u001b[0;34m=\u001b[0m\u001b[0;32mNone\u001b[0m\u001b[0;34m,\u001b[0m \u001b[0mfilename\u001b[0m\u001b[0;34m=\u001b[0m\u001b[0;32mNone\u001b[0m\u001b[0;34m)\u001b[0m\u001b[0;34m\u001b[0m\u001b[0;34m\u001b[0m\u001b[0m\n\u001b[0m\u001b[1;32m    115\u001b[0m         \u001b[0msamples\u001b[0m\u001b[0;34m.\u001b[0m\u001b[0mappend\u001b[0m\u001b[0;34m(\u001b[0m\u001b[0mevents\u001b[0m\u001b[0;34m)\u001b[0m\u001b[0;34m\u001b[0m\u001b[0;34m\u001b[0m\u001b[0m\n\u001b[1;32m    116\u001b[0m \u001b[0;34m\u001b[0m\u001b[0m\n",
      "\u001b[0;32m~/work/projects/madminer/madminer/madminer/sampling.py\u001b[0m in \u001b[0;36mextract_samples_test\u001b[0;34m(self, theta, n_samples, folder, filename, test_split, switch_train_test_events)\u001b[0m\n\u001b[1;32m   1041\u001b[0m             \u001b[0mn_samples_per_theta\u001b[0m\u001b[0;34m=\u001b[0m\u001b[0mn_samples_per_theta\u001b[0m\u001b[0;34m,\u001b[0m\u001b[0;34m\u001b[0m\u001b[0;34m\u001b[0m\u001b[0m\n\u001b[1;32m   1042\u001b[0m             \u001b[0mstart_event\u001b[0m\u001b[0;34m=\u001b[0m\u001b[0mstart_event\u001b[0m\u001b[0;34m,\u001b[0m\u001b[0;34m\u001b[0m\u001b[0;34m\u001b[0m\u001b[0m\n\u001b[0;32m-> 1043\u001b[0;31m             \u001b[0mend_event\u001b[0m\u001b[0;34m=\u001b[0m\u001b[0mend_event\u001b[0m\u001b[0;34m,\u001b[0m\u001b[0;34m\u001b[0m\u001b[0;34m\u001b[0m\u001b[0m\n\u001b[0m\u001b[1;32m   1044\u001b[0m         )\n\u001b[1;32m   1045\u001b[0m \u001b[0;34m\u001b[0m\u001b[0m\n",
      "\u001b[0;32m~/work/projects/madminer/madminer/madminer/sampling.py\u001b[0m in \u001b[0;36m_extract_sample\u001b[0;34m(self, theta_sets_types, theta_sets_values, n_samples_per_theta, sampling_theta_index, augmented_data_definitions, nuisance_score, start_event, end_event)\u001b[0m\n\u001b[1;32m   1360\u001b[0m \u001b[0;34m\u001b[0m\u001b[0m\n\u001b[1;32m   1361\u001b[0m             \u001b[0;31m# Total xsec for sampling theta\u001b[0m\u001b[0;34m\u001b[0m\u001b[0;34m\u001b[0m\u001b[0;34m\u001b[0m\u001b[0m\n\u001b[0;32m-> 1362\u001b[0;31m             \u001b[0mxsec_sampling_theta\u001b[0m \u001b[0;34m=\u001b[0m \u001b[0mmdot\u001b[0m\u001b[0;34m(\u001b[0m\u001b[0msampling_theta_matrix\u001b[0m\u001b[0;34m,\u001b[0m \u001b[0mxsecs_benchmarks\u001b[0m\u001b[0;34m)\u001b[0m\u001b[0;34m\u001b[0m\u001b[0;34m\u001b[0m\u001b[0m\n\u001b[0m\u001b[1;32m   1363\u001b[0m             rms_xsec_sampling_theta = (\n\u001b[1;32m   1364\u001b[0m                 \u001b[0mmdot\u001b[0m\u001b[0;34m(\u001b[0m\u001b[0msampling_theta_matrix\u001b[0m \u001b[0;34m*\u001b[0m \u001b[0msampling_theta_matrix\u001b[0m\u001b[0;34m,\u001b[0m \u001b[0msquared_weight_sum_benchmarks\u001b[0m\u001b[0;34m)\u001b[0m\u001b[0;34m\u001b[0m\u001b[0;34m\u001b[0m\u001b[0m\n",
      "\u001b[0;32m~/work/projects/madminer/madminer/madminer/utils/analysis.py\u001b[0m in \u001b[0;36mmdot\u001b[0;34m(matrix, benchmark_information)\u001b[0m\n\u001b[1;32m    202\u001b[0m         \u001b[0;32mreturn\u001b[0m \u001b[0mmatrix\u001b[0m\u001b[0;34m.\u001b[0m\u001b[0mdot\u001b[0m\u001b[0;34m(\u001b[0m\u001b[0mweights_benchmarks_T\u001b[0m\u001b[0;34m)\u001b[0m\u001b[0;34m\u001b[0m\u001b[0;34m\u001b[0m\u001b[0m\n\u001b[1;32m    203\u001b[0m \u001b[0;34m\u001b[0m\u001b[0m\n\u001b[0;32m--> 204\u001b[0;31m     \u001b[0;32mreturn\u001b[0m \u001b[0mmatrix\u001b[0m\u001b[0;34m.\u001b[0m\u001b[0mdot\u001b[0m\u001b[0;34m(\u001b[0m\u001b[0mweights_benchmarks_T\u001b[0m\u001b[0;34m[\u001b[0m\u001b[0;34m:\u001b[0m\u001b[0mn_benchmarks_matrix\u001b[0m\u001b[0;34m]\u001b[0m\u001b[0;34m)\u001b[0m\u001b[0;34m\u001b[0m\u001b[0;34m\u001b[0m\u001b[0m\n\u001b[0m",
      "\u001b[0;31mValueError\u001b[0m: shapes (103,) and (6,) not aligned: 103 (dim 0) != 6 (dim 0)"
     ]
    }
   ],
   "source": [
    "plot_distributions(\n",
    "    filename=sample_dir + 'samples_tight.h5'\n",
    ")"
   ]
  },
  {
   "cell_type": "markdown",
   "metadata": {},
   "source": [
    "### SALLY training data"
   ]
  },
  {
   "cell_type": "code",
   "execution_count": null,
   "metadata": {},
   "outputs": [],
   "source": [
    "for i in range(10):\n",
    "    _, _, t_xz = sa.extract_samples_train_local(\n",
    "        theta=constant_morphing_theta([0.,0.]),\n",
    "        n_samples=1000000,\n",
    "        folder=sample_dir + 'train_local_tight',\n",
    "        filename='train_' + str(i),\n",
    "        nuisance_score=False\n",
    "    )"
   ]
  },
  {
   "cell_type": "markdown",
   "metadata": {},
   "source": [
    "### RASCAL training data"
   ]
  },
  {
   "cell_type": "code",
   "execution_count": null,
   "metadata": {},
   "outputs": [],
   "source": [
    "for i in range(1):\n",
    "    _ = sa.extract_samples_train_ratio(\n",
    "        theta0=random_morphing_thetas(1000, [('gaussian', 0., 0.005), ('gaussian', 0., 0.005)]),\n",
    "        theta1=constant_morphing_theta([0.,0.]),\n",
    "        n_samples=100000,\n",
    "        folder=sample_dir + 'train_ratio_tight',\n",
    "        filename='train_' + str(i)\n",
    "    )"
   ]
  },
  {
   "cell_type": "markdown",
   "metadata": {},
   "source": [
    "### SCANDAL training data"
   ]
  },
  {
   "cell_type": "code",
   "execution_count": null,
   "metadata": {},
   "outputs": [],
   "source": [
    "for i in range(1):\n",
    "    sa.extract_samples_train_global(\n",
    "        theta=random_morphing_thetas(10000, [('gaussian', 0., 0.005), ('gaussian', 0., 0.005)]),\n",
    "        n_samples=100000,\n",
    "        folder=sample_dir + 'train_scandal_tight',\n",
    "        filename='train_' + str(i)\n",
    "    )"
   ]
  },
  {
   "cell_type": "markdown",
   "metadata": {},
   "source": [
    "### Validation and test data"
   ]
  },
  {
   "cell_type": "code",
   "execution_count": null,
   "metadata": {},
   "outputs": [],
   "source": [
    "_, _ = sa.extract_samples_train_plain(\n",
    "    theta=constant_morphing_theta([0.,0.]),\n",
    "    n_samples=1000000,\n",
    "    folder=sample_dir + 'validation_tight',\n",
    "    filename='validation'\n",
    ")"
   ]
  },
  {
   "cell_type": "code",
   "execution_count": null,
   "metadata": {},
   "outputs": [],
   "source": [
    "x_sm, _ = sa.extract_samples_test(\n",
    "    theta=constant_morphing_theta([0.,0.]),\n",
    "    n_samples=1000000,\n",
    "    folder=sample_dir + 'test_tight',\n",
    "    filename='test'\n",
    ")"
   ]
  },
  {
   "cell_type": "markdown",
   "metadata": {},
   "source": [
    "### xsec test"
   ]
  },
  {
   "cell_type": "code",
   "execution_count": null,
   "metadata": {},
   "outputs": [],
   "source": [
    "thetas_benchmarks, xsecs_benchmarks, xsec_errors_benchmarks = sa.extract_cross_sections(\n",
    "    theta=multiple_benchmark_thetas(['sm', 'morphing_basis_vector_1', 'morphing_basis_vector_2', 'morphing_basis_vector_3', 'morphing_basis_vector_4', 'morphing_basis_vector_5'])\n",
    ")\n",
    "\n",
    "thetas_morphing, xsecs_morphing, xsec_errors_morphing = sa.extract_cross_sections(\n",
    "    theta=random_morphing_thetas(1000, [('gaussian', 0., 0.02), ('gaussian', 0., 0.02)])\n",
    ")"
   ]
  },
  {
   "cell_type": "code",
   "execution_count": null,
   "metadata": {},
   "outputs": [],
   "source": [
    "cmin, cmax = 0., 0.15\n",
    "\n",
    "fig = plt.figure(figsize=(5,4))\n",
    "\n",
    "sc = plt.scatter(thetas_morphing[:,0], thetas_morphing[:,1], c=xsecs_morphing,\n",
    "            s=40., cmap='viridis', vmin=cmin, vmax=cmax,\n",
    "            marker='o')\n",
    "\n",
    "plt.scatter(thetas_benchmarks[:,0], thetas_benchmarks[:,1], c=xsecs_benchmarks,\n",
    "            s=200., cmap='viridis', vmin=cmin, vmax=cmax,lw=2., edgecolor='black',\n",
    "            marker='s')\n",
    "\n",
    "cb = plt.colorbar(sc)\n",
    "cb.set_label('xsec [pb]')\n",
    "\n",
    "plt.xlim(-0.05,.05)\n",
    "plt.ylim(-0.05,.05)\n",
    "plt.tight_layout()\n",
    "plt.show()"
   ]
  },
  {
   "cell_type": "markdown",
   "metadata": {},
   "source": [
    "### Observable distributions"
   ]
  },
  {
   "cell_type": "code",
   "execution_count": null,
   "metadata": {},
   "outputs": [],
   "source": [
    "x_bsm, _ = sa.extract_samples_test(\n",
    "    theta=constant_morphing_theta([0.0316,0.]),\n",
    "    n_samples=1000000,\n",
    "    folder=None,\n",
    "    filename=None\n",
    ")"
   ]
  },
  {
   "cell_type": "code",
   "execution_count": null,
   "metadata": {},
   "outputs": [],
   "source": [
    "bins = 10\n",
    "n_observables = x_sm.shape[1]\n",
    "n_cols = 3\n",
    "n_rows = (n_observables + n_cols - 1) // n_cols\n",
    "labels = sa.observables.keys()\n",
    "\n",
    "plt.figure(figsize=(4. * n_cols, 4. * n_rows))\n",
    "\n",
    "for i, label in enumerate(labels):\n",
    "    xmin = np.percentile(x_sm[:,i], 5.)\n",
    "    xmax = np.percentile(x_sm[:,i], 95.)\n",
    "    xwidth = xmax - xmin\n",
    "    xmin -= xwidth * 0.1\n",
    "    xmax += xwidth * 0.1\n",
    "    xmin = max(xmin, np.min(x_sm[:,i]))\n",
    "    xmax = min(xmax, np.max(x_sm[:,i]))\n",
    "    x_range = (xmin, xmax)\n",
    "    \n",
    "    ax = plt.subplot(n_rows, n_cols, i+1)\n",
    "       \n",
    "    plt.hist(x_sm[:,i], histtype='step', range=x_range, bins=bins, lw=1.5, color='black', label=r'SM', density=True) \n",
    "    plt.hist(x_bsm[:,i], histtype='step', range=x_range, bins=bins, lw=1.5, color='C0', label=r'$f_{WWW} = 0.0316$', density=True) \n",
    "    \n",
    "    if i == 0:\n",
    "        plt.legend()\n",
    "        \n",
    "    plt.xlabel(label)\n",
    "    \n",
    "plt.tight_layout()\n",
    "plt.savefig('../../figures/wgamma/observables.pdf')"
   ]
  },
  {
   "cell_type": "markdown",
   "metadata": {},
   "source": [
    "## Same without cuts"
   ]
  },
  {
   "cell_type": "code",
   "execution_count": null,
   "metadata": {
    "scrolled": true
   },
   "outputs": [],
   "source": [
    "sa_all = SampleAugmenter(sample_dir + 'samples.h5', debug=False)"
   ]
  },
  {
   "cell_type": "markdown",
   "metadata": {},
   "source": [
    "### SALLY training data"
   ]
  },
  {
   "cell_type": "code",
   "execution_count": null,
   "metadata": {},
   "outputs": [],
   "source": [
    "for i in range(10):\n",
    "    _, _, _ = sa_all.extract_samples_train_local(\n",
    "        theta=constant_morphing_theta([0.,0.]),\n",
    "        n_samples=1000000,\n",
    "        folder=sample_dir + 'train_local',\n",
    "        filename='train_' + str(i)\n",
    "    )"
   ]
  },
  {
   "cell_type": "markdown",
   "metadata": {},
   "source": [
    "### RASCAL training data"
   ]
  },
  {
   "cell_type": "code",
   "execution_count": null,
   "metadata": {},
   "outputs": [],
   "source": [
    "for i in range(10):\n",
    "    _ = sa_all.extract_samples_train_ratio(\n",
    "        theta0=random_morphing_thetas(1000, [('gaussian', 0., 0.005), ('gaussian', 0., 0.005)]),\n",
    "        theta1=constant_morphing_theta([0.,0.]),\n",
    "        n_samples=100000,\n",
    "        folder=sample_dir + 'train_ratio',\n",
    "        filename='train_' + str(i)\n",
    "    )"
   ]
  },
  {
   "cell_type": "markdown",
   "metadata": {},
   "source": [
    "### SCANDAL training data"
   ]
  },
  {
   "cell_type": "code",
   "execution_count": null,
   "metadata": {},
   "outputs": [],
   "source": [
    "for i in range(1):\n",
    "    _, _, _ = sa_all.extract_samples_train_global(\n",
    "        theta=random_morphing_thetas(10000, [('gaussian', 0., 0.005), ('gaussian', 0., 0.005)]),\n",
    "        n_samples=100000,\n",
    "        folder=sample_dir + 'train_scandal',\n",
    "        filename='train_' + str(i)\n",
    "    )"
   ]
  },
  {
   "cell_type": "markdown",
   "metadata": {},
   "source": [
    "### Validation and test data"
   ]
  },
  {
   "cell_type": "code",
   "execution_count": null,
   "metadata": {},
   "outputs": [],
   "source": [
    "_, _ = sa_all.extract_samples_train_plain(\n",
    "    theta=constant_morphing_theta([0.,0.]),\n",
    "    n_samples=1000000,\n",
    "    folder=sample_dir + 'validation',\n",
    "    filename='validation'\n",
    ")"
   ]
  },
  {
   "cell_type": "code",
   "execution_count": null,
   "metadata": {},
   "outputs": [],
   "source": [
    "_, _ = sa_all.extract_samples_test(\n",
    "    theta=constant_morphing_theta([0.,0.]),\n",
    "    n_samples=1000000,\n",
    "    folder=sample_dir + 'test',\n",
    "    filename='test'\n",
    ")"
   ]
  },
  {
   "cell_type": "code",
   "execution_count": null,
   "metadata": {},
   "outputs": [],
   "source": []
  }
 ],
 "metadata": {
  "kernelspec": {
   "display_name": "Python 3",
   "language": "python",
   "name": "python3"
  },
  "language_info": {
   "codemirror_mode": {
    "name": "ipython",
    "version": 3
   },
   "file_extension": ".py",
   "mimetype": "text/x-python",
   "name": "python",
   "nbconvert_exporter": "python",
   "pygments_lexer": "ipython3",
   "version": "3.6.7"
  }
 },
 "nbformat": 4,
 "nbformat_minor": 2
}
