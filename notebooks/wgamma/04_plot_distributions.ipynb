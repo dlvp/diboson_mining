{
 "cells": [
  {
   "cell_type": "markdown",
   "metadata": {},
   "source": [
    "# Plot distributions of observables\n",
    "\n",
    "Johann Brehmer, Kyle Cranmer, Marco Farina, Felix Kling, Duccio Pappadopulo, Josh Ruderman 2018"
   ]
  },
  {
   "cell_type": "code",
   "execution_count": 1,
   "metadata": {},
   "outputs": [],
   "source": [
    "from __future__ import absolute_import, division, print_function, unicode_literals\n",
    "\n",
    "import numpy as np\n",
    "import matplotlib\n",
    "from matplotlib import pyplot as plt\n",
    "%matplotlib inline\n",
    "import logging\n",
    "import os\n",
    "\n",
    "from madminer.plotting import plot_distributions\n",
    "from madminer.sampling import combine_and_shuffle\n"
   ]
  },
  {
   "cell_type": "code",
   "execution_count": 2,
   "metadata": {},
   "outputs": [],
   "source": [
    "logging.basicConfig(\n",
    "    format='%(asctime)-5.5s %(name)-20.20s %(levelname)-7.7s %(message)s',\n",
    "    datefmt='%H:%M',\n",
    "    level=logging.INFO\n",
    ")\n",
    "\n",
    "for key in logging.Logger.manager.loggerDict:\n",
    "    if \"madminer\" not in key:\n",
    "        logging.getLogger(key).setLevel(logging.WARNING)"
   ]
  },
  {
   "cell_type": "code",
   "execution_count": 3,
   "metadata": {},
   "outputs": [],
   "source": [
    "base_dir = '/Users/johannbrehmer/work/projects/madminer/diboson_mining/'\n",
    "mg_dir = '/Users/johannbrehmer/work/projects/madminer/MG5_aMC_v2_6_4/'"
   ]
  },
  {
   "cell_type": "code",
   "execution_count": 4,
   "metadata": {},
   "outputs": [],
   "source": [
    "sample_dir = base_dir + 'data/samples/wgamma_sys/'\n",
    "card_dir = base_dir + 'cards/wgamma/'\n",
    "ufo_model_dir = card_dir + 'SMWgamma_UFO'\n",
    "run_card_dir = card_dir + 'run_cards/'\n",
    "mg_process_dir = base_dir + 'data/mg_processes/wgamma_sys/'\n",
    "log_dir = base_dir + 'logs/wgamma_sys/'\n",
    "temp_dir = base_dir + 'data/temp'\n",
    "delphes_dir = mg_dir + 'Delphes'"
   ]
  },
  {
   "cell_type": "markdown",
   "metadata": {},
   "source": [
    "## Plot all"
   ]
  },
  {
   "cell_type": "code",
   "execution_count": null,
   "metadata": {
    "scrolled": true
   },
   "outputs": [
    {
     "name": "stderr",
     "output_type": "stream",
     "text": [
      "22:23 madminer.sampling    INFO    Loading data from /Users/johannbrehmer/work/projects/madminer/diboson_mining/data/samples/wgamma_sys/samples_tight.h5\n",
      "22:23 madminer.sampling    INFO    Found 2 parameters\n",
      "22:23 madminer.sampling    INFO    Found 55 nuisance parameters\n",
      "22:23 madminer.sampling    INFO    Found 103 benchmarks, of which 6 physical\n",
      "22:23 madminer.sampling    INFO    Found 33 observables\n",
      "22:23 madminer.sampling    INFO    Found 1136213 events\n",
      "22:23 madminer.sampling    INFO    Found morphing setup with 6 components\n",
      "22:23 madminer.sampling    INFO    Found nuisance morphing setup\n",
      "/Users/johannbrehmer/work/projects/madminer/madminer/madminer/morphing.py:695: RuntimeWarning: divide by zero encountered in log\n",
      "  a.append(np.log(benchmark_weights[:, i_pos] / benchmark_weights[:, self.i_benchmark_ref]))\n"
     ]
    }
   ],
   "source": [
    "fig = plot_distributions(\n",
    "    filename=sample_dir + 'samples_tight.h5',\n",
    "    parameter_points=[np.array([0.,0.]),\n",
    "                      np.array([0.032,0.])],\n",
    "    normalize=True,\n",
    "    line_labels=['SM', r'$f_{WWW} = 0.032$'],\n",
    "    colors=['0.2', 'mediumblue'],\n",
    "    alpha=0.25,\n",
    "    linestyles=['-','--'],\n",
    "    n_events=None,\n",
    "    n_bins=25,\n",
    "    n_cols=5\n",
    ")\n",
    "\n",
    "plt.savefig('../../figures/wgamma/observables.pdf')"
   ]
  },
  {
   "cell_type": "code",
   "execution_count": null,
   "metadata": {},
   "outputs": [],
   "source": [
    "fig = plot_distributions(\n",
    "    filename=sample_dir + 'samples_tight.h5',\n",
    "    parameter_points=[np.array([0.,0.]),\n",
    "                      np.array([0.032,0.])],\n",
    "    normalize=True,\n",
    "    line_labels=['SM', r'$f_{WWW} = 0.032$'],\n",
    "    colors=['0.2', 'mediumblue'],\n",
    "    alpha=0.25,\n",
    "    linestyles=['-','--'],\n",
    "    n_events=None,\n",
    "    n_bins=25,\n",
    "    n_cols=5,\n",
    "    nuisance_parameters=list(range(2,55))\n",
    ")\n",
    "\n",
    "plt.savefig('../../figures/wgamma/observables_pdf.pdf')"
   ]
  },
  {
   "cell_type": "code",
   "execution_count": null,
   "metadata": {},
   "outputs": [],
   "source": [
    "fig = plot_distributions(\n",
    "    filename=sample_dir + 'samples_tight.h5',\n",
    "    parameter_points=[np.array([0.,0.]),\n",
    "                      np.array([0.032,0.])],\n",
    "    normalize=True,\n",
    "    line_labels=['SM', r'$f_{WWW} = 0.032$'],\n",
    "    colors=['0.2', 'mediumblue'],\n",
    "    alpha=0.25,\n",
    "    linestyles=['-','--'],\n",
    "    n_events=None,\n",
    "    n_bins=25,\n",
    "    n_cols=5,\n",
    "    nuisance_parameters=[0,1]\n",
    ")\n",
    "\n",
    "plt.savefig('../../figures/wgamma/observables_scales.pdf')"
   ]
  },
  {
   "cell_type": "code",
   "execution_count": null,
   "metadata": {},
   "outputs": [],
   "source": []
  }
 ],
 "metadata": {
  "kernelspec": {
   "display_name": "Python (higgs_inference)",
   "language": "python",
   "name": "higgs_inference"
  },
  "language_info": {
   "codemirror_mode": {
    "name": "ipython",
    "version": 3
   },
   "file_extension": ".py",
   "mimetype": "text/x-python",
   "name": "python",
   "nbconvert_exporter": "python",
   "pygments_lexer": "ipython3",
   "version": "3.6.7"
  }
 },
 "nbformat": 4,
 "nbformat_minor": 2
}
