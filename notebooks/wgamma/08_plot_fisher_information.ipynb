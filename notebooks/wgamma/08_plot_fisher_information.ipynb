{
 "cells": [
  {
   "cell_type": "markdown",
   "metadata": {},
   "source": [
    "# Plot Fisher information\n",
    "\n",
    "Johann Brehmer, Kyle Cranmer, Marco Farina, Felix Kling, Duccio Pappadopulo, Josh Ruderman 2018"
   ]
  },
  {
   "cell_type": "code",
   "execution_count": 1,
   "metadata": {},
   "outputs": [
    {
     "name": "stderr",
     "output_type": "stream",
     "text": [
      "07:52 matplotlib.pyplot    DEBUG   Loaded backend module://ipykernel.pylab.backend_inline version unknown.\n"
     ]
    }
   ],
   "source": [
    "from __future__ import absolute_import, division, print_function, unicode_literals\n",
    "\n",
    "import numpy as np\n",
    "import matplotlib\n",
    "from matplotlib import pyplot as plt\n",
    "%matplotlib inline\n",
    "import logging\n",
    "import os\n",
    "\n",
    "import madminer.core\n",
    "from madminer.plotting import plot_fisher_information_contours_2d\n",
    "\n",
    "logging.basicConfig(format='%(asctime)-5.5s %(name)-20.20s %(levelname)-7.7s %(message)s', datefmt='%H:%M', level=logging.DEBUG)\n"
   ]
  },
  {
   "cell_type": "code",
   "execution_count": 2,
   "metadata": {},
   "outputs": [],
   "source": [
    "base_dir = '/Users/johannbrehmer/work/projects/madminer/diboson_mining/'\n",
    "mg_dir = '/Users/johannbrehmer/work/projects/madminer/MG5_aMC_v2_6_2/'"
   ]
  },
  {
   "cell_type": "code",
   "execution_count": 3,
   "metadata": {},
   "outputs": [],
   "source": [
    "sample_dir = base_dir + 'data/samples/wgamma/'\n",
    "card_dir = base_dir + 'cards/wgamma/'\n",
    "ufo_model_dir = card_dir + 'SMWgamma_UFO'\n",
    "run_card_dir = card_dir + 'run_cards/'\n",
    "mg_process_dir = base_dir + 'data/mg_processes/wgamma/'\n",
    "log_dir = base_dir + 'logs/wgamma/'\n",
    "temp_dir = base_dir + 'data/temp'\n",
    "delphes_dir = mg_dir + 'Delphes'\n",
    "model_dir = base_dir + 'data/models/wgamma/'\n",
    "result_dir = base_dir + 'data/results/wgamma/'"
   ]
  },
  {
   "cell_type": "markdown",
   "metadata": {},
   "source": [
    "## Load Fisher information results"
   ]
  },
  {
   "cell_type": "code",
   "execution_count": 4,
   "metadata": {},
   "outputs": [],
   "source": [
    "def load_data(ml_prefix = ''):\n",
    "    # Ground truth\n",
    "    infos  = [np.load(result_dir + 'information_parton.npy'),\n",
    "              np.load(result_dir + 'information_xsec_tight.npy')]\n",
    "    covs   = [np.load(result_dir + 'information_covariance_parton.npy'),\n",
    "              np.load(result_dir + 'information_covariance_xsec_tight.npy')]\n",
    "    labels = ['parton', 'xsec']\n",
    "    colors = ['black', '0.5']\n",
    "    lss    = [':', ':']\n",
    "    \n",
    "    # Histos\n",
    "    histo_filenames = ['phi', 'deltaphi_lv', 'met', 'ptl', 'pta', 'deltaphi_la', ]\n",
    "    histo_labels    = [r'$\\varphi$', r'$\\Delta\\phi_{\\ell\\nu}$', 'MET', r'$p_{T,\\ell}$', r'$p_{T,\\gamma}$', r'$\\Delta\\phi_{\\ell\\gamma}$']\n",
    "    histo_colors    = ['mediumblue', 'steelblue', 'dodgerblue', 'deepskyblue', 'cornflowerblue', 'b']\n",
    "    histo_lss       = ['--']*10\n",
    "\n",
    "    for hfilename, hlabel, hcolor, hls in zip(histo_filenames, histo_labels, histo_colors, histo_lss):\n",
    "        infos.append(\n",
    "            np.load(result_dir + 'information_histo_{}_tight.npy'.format(hfilename))\n",
    "        )\n",
    "        covs.append(\n",
    "            np.load(result_dir + 'information_covariance_histo_{}_tight.npy'.format(hfilename))\n",
    "        )\n",
    "        labels.append(hlabel)\n",
    "        colors.append(hcolor)\n",
    "        lss.append(hls)\n",
    "        \n",
    "    # ML\n",
    "    ml_filenames = ['full', 'full_infomode', 'minimal', 'full_tight', 'minimal_tight', 'phi_tight', 'full_shuffled']\n",
    "    ml_labels    = ['full', 'full (I)', 'minimal', 'cuts', 'cuts min', r'$\\varphi$', r'shuffled']\n",
    "    ml_colors    = ['#CC002E', 'firebrick', 'orangered', 'lightcoral', 'r', 'chocolate', 'lightsalmon']\n",
    "    ml_lss       = ['-', '-', '-', '-.', '-.', '--', ':']\n",
    "\n",
    "    for hfilename, hlabel, hcolor, hls in zip(ml_filenames, ml_labels, ml_colors, ml_lss):\n",
    "        infos.append(\n",
    "            np.load(result_dir + 'information_{}{}.npy'.format(hfilename, ml_prefix))\n",
    "        )\n",
    "        covs.append(\n",
    "            np.load(result_dir + 'information_covariance_{}{}.npy'.format(hfilename, ml_prefix))\n",
    "        )\n",
    "        labels.append(hlabel)\n",
    "        colors.append(hcolor)\n",
    "        lss.append(hls)\n",
    "        \n",
    "    return infos, covs, labels, colors, lss\n"
   ]
  },
  {
   "cell_type": "code",
   "execution_count": 34,
   "metadata": {},
   "outputs": [
    {
     "name": "stdout",
     "output_type": "stream",
     "text": [
      " 0 parton      I_00 = 2459509 +/-  128168\n",
      "               I_11 = 2492758 +/-  126232\n",
      " 1 xsec        I_00 =       0 +/-       0\n",
      "               I_11 =       8 +/-       2\n",
      " 2 $\\varphi$   I_00 =  369187 +/-    1709\n",
      "               I_11 =     936 +/-      30\n",
      " 3 $\\Delta\\ph  I_00 =  356723 +/-    1737\n",
      "               I_11 =     133 +/-      15\n",
      " 4 MET         I_00 =     475 +/-      14\n",
      "               I_11 =     117 +/-      19\n",
      " 5 $p_{T,\\ell  I_00 =    1921 +/-      44\n",
      "               I_11 =      86 +/-      13\n",
      " 6 $p_{T,\\gam  I_00 =     106 +/-      12\n",
      "               I_11 =     191 +/-      17\n",
      " 7 $\\Delta\\ph  I_00 =   78402 +/-     509\n",
      "               I_11 =     114 +/-      11\n",
      " 8 full        I_00 =   76258 +/-   31173\n",
      "               I_11 =    4943 +/-     332\n",
      " 9 full (I)    I_00 =  278799 +/-  244162\n",
      "               I_11 =    3306 +/-    2428\n",
      "10 minimal     I_00 =  156988 +/-   64998\n",
      "               I_11 =   18972 +/-    1196\n",
      "11 cuts        I_00 =  186258 +/-  111055\n",
      "               I_11 =    9740 +/-    5223\n",
      "12 cuts min    I_00 =  159330 +/-  106269\n",
      "               I_11 =    8973 +/-    4576\n",
      "13 $\\varphi$   I_00 =  172798 +/-   14869\n",
      "               I_11 =     181 +/-      59\n",
      "14 shuffled    I_00 =     504 +/-      54\n",
      "               I_11 =     202 +/-      15\n"
     ]
    }
   ],
   "source": [
    "infos, covs, labels, colors, lss = load_data('')\n",
    "\n",
    "for i, (label, info, cov) in enumerate(zip(labels,infos, covs)):\n",
    "    print(\n",
    "        '{:2} {:10.10s}  I_00 = {:7.0f} +/- {:7.0f}\\n               I_11 = {:7.0f} +/- {:7.0f}'.format(i, label, info[0,0], cov[0,0,0,0]**0.5, info[1,1], cov[1,1,1,1]**0.5)\n",
    "    )"
   ]
  },
  {
   "cell_type": "markdown",
   "metadata": {},
   "source": [
    "## Plotting function"
   ]
  },
  {
   "cell_type": "code",
   "execution_count": 6,
   "metadata": {},
   "outputs": [],
   "source": [
    "def make_plot(ml_prefix = '', indices=None, xmax=0.004):\n",
    "    infos, covs, labels, colors, lss = load_data(ml_prefix)\n",
    "    \n",
    "    if indices is not None:\n",
    "        infos = [infos[i] for i in indices]\n",
    "        covs = [covs[i] for i in indices]\n",
    "        labels = [labels[i] for i in indices]\n",
    "        colors = [colors[i] for i in indices]\n",
    "        lss = [lss[i] for i in indices]\n",
    "\n",
    "    fig = plot_fisher_information_contours_2d(\n",
    "        fisher_information_matrices=infos,\n",
    "        fisher_information_covariances=covs,\n",
    "        contour_distance=1.,\n",
    "        xrange=(-xmax,xmax),\n",
    "        yrange=(-xmax,xmax),\n",
    "        xlabel=r'$f_{WWW}$',\n",
    "        ylabel=r'$f_{\\tilde{W}WW}$',\n",
    "        linestyles=lss,\n",
    "        colors=colors,\n",
    "        resolution=600,\n",
    "        inline_labels=labels\n",
    "    )\n",
    "    \n",
    "    return fig\n"
   ]
  },
  {
   "cell_type": "markdown",
   "metadata": {},
   "source": [
    "## Plots"
   ]
  },
  {
   "cell_type": "code",
   "execution_count": 36,
   "metadata": {
    "scrolled": true
   },
   "outputs": [
    {
     "name": "stderr",
     "output_type": "stream",
     "text": [
      "08:13 root                 DEBUG   Std: [[5.78821312 5.76993563 5.75173561 ... 5.15443789 5.17316339 5.19197693]\n",
      " [5.76791898 5.74962514 5.73140881 ... 5.13861327 5.15736385 5.17620241]\n",
      " [5.74770916 5.7293989  5.71116622 ... 5.12286653 5.14164212 5.16050563]\n",
      " ...\n",
      " [5.16050563 5.14164212 5.12286653 ... 5.71116622 5.7293989  5.74770916]\n",
      " [5.17620241 5.15736385 5.13861327 ... 5.73140881 5.74962514 5.76791898]\n",
      " [5.19197693 5.17316339 5.15443789 ... 5.75173561 5.76993563 5.78821312]]\n",
      "08:13 root                 DEBUG   Std: [[0.05133929 0.0510339  0.05072946 ... 0.04016493 0.04042914 0.04069431]\n",
      " [0.05130233 0.05099702 0.05069266 ... 0.04015874 0.04042301 0.04068825]\n",
      " [0.05126542 0.05096019 0.05065591 ... 0.04015263 0.04041697 0.04068227]\n",
      " ...\n",
      " [0.04068227 0.04041697 0.04015263 ... 0.05065591 0.05096019 0.05126542]\n",
      " [0.04068825 0.04042301 0.04015874 ... 0.05069266 0.05099702 0.05130233]\n",
      " [0.04069431 0.04042914 0.04016493 ... 0.05072946 0.0510339  0.05133929]]\n",
      "08:13 root                 DEBUG   Std: [[0.7037742  0.69884956 0.6939423  ... 0.8546395  0.86008791 0.8655537 ]\n",
      " [0.70400794 0.69908239 0.69417422 ... 0.85433585 0.85978335 0.86524824]\n",
      " [0.7042418  0.69931534 0.69440627 ... 0.85403231 0.85947892 0.8649429 ]\n",
      " ...\n",
      " [0.8649429  0.85947892 0.85403231 ... 0.69440627 0.69931534 0.7042418 ]\n",
      " [0.86524824 0.85978335 0.85433585 ... 0.69417422 0.69908239 0.70400794]\n",
      " [0.8655537  0.86008791 0.8546395  ... 0.6939423  0.69884956 0.7037742 ]]\n",
      "08:13 root                 DEBUG   Std: [[2.82547158 2.80711073 2.78881195 ... 2.86135156 2.87992387 2.89855816]\n",
      " [2.82499665 2.80663515 2.78833572 ... 2.86066253 2.87923449 2.89786842]\n",
      " [2.82452396 2.80616182 2.78786173 ... 2.85997545 2.87854706 2.89718064]\n",
      " ...\n",
      " [2.89718064 2.87854706 2.85997545 ... 2.78786173 2.80616182 2.82452396]\n",
      " [2.89786842 2.87923449 2.86066253 ... 2.78833572 2.80663515 2.82499665]\n",
      " [2.89855816 2.87992387 2.86135156 ... 2.78881195 2.80711073 2.82547158]]\n",
      "08:13 root                 DEBUG   Std: [[0.36862069 0.36616089 0.36370938 ... 0.3745397  0.37702805 0.3795247 ]\n",
      " [0.36862308 0.36616322 0.36371165 ... 0.37450625 0.37699454 0.37949112]\n",
      " [0.36862552 0.36616561 0.36371398 ... 0.37447284 0.37696107 0.37945759]\n",
      " ...\n",
      " [0.37945759 0.37696107 0.37447284 ... 0.36371398 0.36616561 0.36862552]\n",
      " [0.37949112 0.37699454 0.37450625 ... 0.36371165 0.36616322 0.36862308]\n",
      " [0.3795247  0.37702805 0.3745397  ... 0.36370938 0.36616089 0.36862069]]\n",
      "08:13 matplotlib.axes._bas DEBUG   update_title_pos\n",
      "08:13 matplotlib.axes._bas DEBUG   update_title_pos\n",
      "08:13 matplotlib.backends. DEBUG   Assigning font /b'F1' = '/Users/johannbrehmer/anaconda3/envs/higgs_inference/lib/python3.6/site-packages/matplotlib/mpl-data/fonts/ttf/DejaVuSans.ttf'\n",
      "08:13 matplotlib.backends. DEBUG   Assigning font /b'F2' = '/Users/johannbrehmer/anaconda3/envs/higgs_inference/lib/python3.6/site-packages/matplotlib/mpl-data/fonts/ttf/DejaVuSans-Oblique.ttf'\n",
      "08:13 matplotlib.backends. DEBUG   Embedding font /Users/johannbrehmer/anaconda3/envs/higgs_inference/lib/python3.6/site-packages/matplotlib/mpl-data/fonts/ttf/DejaVuSans-Oblique.ttf.\n",
      "08:13 matplotlib.backends. DEBUG   Writing TrueType font.\n",
      "08:13 matplotlib.backends. DEBUG   Embedding font /Users/johannbrehmer/anaconda3/envs/higgs_inference/lib/python3.6/site-packages/matplotlib/mpl-data/fonts/ttf/DejaVuSans.ttf.\n",
      "08:13 matplotlib.backends. DEBUG   Writing TrueType font.\n",
      "08:13 matplotlib.axes._bas DEBUG   update_title_pos\n",
      "08:13 matplotlib.axes._bas DEBUG   update_title_pos\n",
      "08:13 matplotlib.axes._bas DEBUG   update_title_pos\n",
      "08:13 matplotlib.axes._bas DEBUG   update_title_pos\n",
      "08:13 matplotlib.axes._bas DEBUG   update_title_pos\n"
     ]
    },
    {
     "data": {
      "image/png": "[encoded data removed]",
      "text/plain": [
       "<Figure size 360x360 with 1 Axes>"
      ]
     },
     "metadata": {
      "needs_background": "light"
     },
     "output_type": "display_data"
    }
   ],
   "source": [
    "fig = make_plot('', xmax=0.005, indices=[0,2,8,11,13])\n",
    "\n",
    "plt.savefig(\"../../figures/wgamma/information_wgamma.pdf\")"
   ]
  },
  {
   "cell_type": "code",
   "execution_count": 11,
   "metadata": {},
   "outputs": [
    {
     "name": "stderr",
     "output_type": "stream",
     "text": [
      "07:54 root                 DEBUG   Std: [[2315.28524782 2307.97425365 2300.69424597 ... 2061.77515485\n",
      "  2069.26535408 2076.79077172]\n",
      " [2307.16759362 2299.85005585 2292.56352409 ... 2055.44530624\n",
      "  2062.9455385  2070.48096276]\n",
      " [2299.08366257 2291.75956197 2284.4664866  ... 2049.1466104\n",
      "  2056.65684928 2064.20225337]\n",
      " ...\n",
      " [2064.20225337 2056.65684928 2049.1466104  ... 2284.4664866\n",
      "  2291.75956197 2299.08366257]\n",
      " [2070.48096276 2062.9455385  2055.44530624 ... 2292.56352409\n",
      "  2299.85005585 2307.16759362]\n",
      " [2076.79077172 2069.26535408 2061.77515485 ... 2300.69424597\n",
      "  2307.97425365 2315.28524782]]\n",
      "07:54 root                 DEBUG   Std: [[20.53571417 20.41356149 20.29178591 ... 16.06597231 16.17165749\n",
      "  16.27772368]\n",
      " [20.52093112 20.39880979 20.2770656  ... 16.06349441 16.16920583\n",
      "  16.27529827]\n",
      " [20.50616613 20.38407613 20.26236329 ... 16.06105091 16.16678857\n",
      "  16.27290727]\n",
      " ...\n",
      " [16.27290727 16.16678857 16.06105091 ... 20.26236329 20.38407613\n",
      "  20.50616613]\n",
      " [16.27529827 16.16920583 16.06349441 ... 20.2770656  20.39880979\n",
      "  20.52093112]\n",
      " [16.27772368 16.17165749 16.06597231 ... 20.29178591 20.41356149\n",
      "  20.53571417]]\n",
      "07:55 root                 DEBUG   Std: [[1130.18863147 1122.84429312 1115.52477914 ... 1144.5406224\n",
      "  1151.96954867 1159.42326302]\n",
      " [1129.99866013 1122.65406159 1115.33428668 ... 1144.26501037\n",
      "  1151.69379614 1159.1473696 ]\n",
      " [1129.80958405 1122.46472604 1115.14469094 ... 1143.99018033\n",
      "  1151.4188252  1158.87225736]\n",
      " ...\n",
      " [1158.87225736 1151.4188252  1143.99018033 ... 1115.14469094\n",
      "  1122.46472604 1129.80958405]\n",
      " [1159.1473696  1151.69379614 1144.26501037 ... 1115.33428668\n",
      "  1122.65406159 1129.99866013]\n",
      " [1159.42326302 1151.96954867 1144.5406224  ... 1115.52477914\n",
      "  1122.84429312 1130.18863147]]\n",
      "07:55 root                 DEBUG   Std: [[147.44827413 146.46435624 145.48375382 ... 149.81588006 150.8112219\n",
      "  151.80987866]\n",
      " [147.44923103 146.46528838 145.48466122 ... 149.80249881 150.79781562\n",
      "  151.79644735]\n",
      " [147.45020951 146.46624211 145.4855902  ... 149.78913741 150.78442919\n",
      "  151.78303589]\n",
      " ...\n",
      " [151.78303589 150.78442919 149.78913741 ... 145.4855902  146.46624211\n",
      "  147.45020951]\n",
      " [151.79644735 150.79781562 149.80249881 ... 145.48466122 146.46528838\n",
      "  147.44923103]\n",
      " [151.80987866 150.8112219  149.81588006 ... 145.48375382 146.46435624\n",
      "  147.44827413]]\n",
      "07:55 root                 DEBUG   Std: [[1.11100354 1.10592534 1.10085937 ... 0.24768991 0.24964272 0.25160953]\n",
      " [1.10867033 1.10359687 1.09853564 ... 0.24797192 0.24993214 0.25190635]\n",
      " [1.10634017 1.10127146 1.09621498 ... 0.24826036 0.25022798 0.25220956]\n",
      " ...\n",
      " [0.25220956 0.25022798 0.24826036 ... 1.09621498 1.10127146 1.10634017]\n",
      " [0.25190635 0.24993214 0.24797192 ... 1.09853564 1.10359687 1.10867033]\n",
      " [0.25160953 0.24964272 0.24768991 ... 1.10085937 1.10592534 1.11100354]]\n",
      "07:55 matplotlib.axes._bas DEBUG   update_title_pos\n",
      "07:55 matplotlib.axes._bas DEBUG   update_title_pos\n",
      "07:55 matplotlib.axes._bas DEBUG   update_title_pos\n",
      "07:55 matplotlib.axes._bas DEBUG   update_title_pos\n",
      "07:55 matplotlib.axes._bas DEBUG   update_title_pos\n",
      "07:55 matplotlib.axes._bas DEBUG   update_title_pos\n"
     ]
    },
    {
     "data": {
      "image/png": "[encoded data removed]",
      "text/plain": [
       "<Figure size 360x360 with 1 Axes>"
      ]
     },
     "metadata": {
      "needs_background": "light"
     },
     "output_type": "display_data"
    }
   ],
   "source": [
    "fig = make_plot('', xmax=0.1, indices=[0,2,11,13,14])\n",
    "\n"
   ]
  },
  {
   "cell_type": "code",
   "execution_count": null,
   "metadata": {},
   "outputs": [],
   "source": []
  }
 ],
 "metadata": {
  "kernelspec": {
   "display_name": "Python 3",
   "language": "python",
   "name": "python3"
  },
  "language_info": {
   "codemirror_mode": {
    "name": "ipython",
    "version": 3
   },
   "file_extension": ".py",
   "mimetype": "text/x-python",
   "name": "python",
   "nbconvert_exporter": "python",
   "pygments_lexer": "ipython3",
   "version": "3.6.7"
  }
 },
 "nbformat": 4,
 "nbformat_minor": 2
}
