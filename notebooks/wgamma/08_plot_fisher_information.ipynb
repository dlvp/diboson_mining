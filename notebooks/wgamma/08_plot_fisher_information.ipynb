{
 "cells": [
  {
   "cell_type": "markdown",
   "metadata": {},
   "source": [
    "# Plot Fisher information\n",
    "\n",
    "Johann Brehmer, Kyle Cranmer, Marco Farina, Felix Kling, Duccio Pappadopulo, Josh Ruderman 2018"
   ]
  },
  {
   "cell_type": "code",
   "execution_count": 1,
   "metadata": {},
   "outputs": [
    {
     "name": "stderr",
     "output_type": "stream",
     "text": [
      "00:03 matplotlib.pyplot    DEBUG   Loaded backend module://ipykernel.pylab.backend_inline version unknown.\n"
     ]
    }
   ],
   "source": [
    "from __future__ import absolute_import, division, print_function, unicode_literals\n",
    "\n",
    "import numpy as np\n",
    "import matplotlib\n",
    "from matplotlib import pyplot as plt\n",
    "%matplotlib inline\n",
    "import logging\n",
    "import os\n",
    "\n",
    "import madminer.core\n",
    "from madminer.plotting import plot_fisher_information_contours_2d\n",
    "\n",
    "logging.basicConfig(format='%(asctime)-5.5s %(name)-20.20s %(levelname)-7.7s %(message)s', datefmt='%H:%M', level=logging.DEBUG)\n"
   ]
  },
  {
   "cell_type": "code",
   "execution_count": 2,
   "metadata": {},
   "outputs": [],
   "source": [
    "base_dir = '/Users/johannbrehmer/work/projects/madminer/diboson_mining/'\n",
    "mg_dir = '/Users/johannbrehmer/work/projects/madminer/MG5_aMC_v2_6_2/'"
   ]
  },
  {
   "cell_type": "code",
   "execution_count": 3,
   "metadata": {},
   "outputs": [],
   "source": [
    "sample_dir = base_dir + 'data/samples/wgamma_sys/'\n",
    "card_dir = base_dir + 'cards/wgamma/'\n",
    "ufo_model_dir = card_dir + 'SMWgamma_UFO'\n",
    "run_card_dir = card_dir + 'run_cards/'\n",
    "mg_process_dir = base_dir + 'data/mg_processes/wgamma_sys/'\n",
    "log_dir = base_dir + 'logs/wgamma/'\n",
    "temp_dir = base_dir + 'data/temp'\n",
    "delphes_dir = mg_dir + 'Delphes'\n",
    "model_dir = base_dir + 'data/models/wgamma_sys/'\n",
    "result_dir = base_dir + 'data/results/wgamma_sys/'"
   ]
  },
  {
   "cell_type": "markdown",
   "metadata": {},
   "source": [
    "## Load Fisher information results"
   ]
  },
  {
   "cell_type": "code",
   "execution_count": 4,
   "metadata": {},
   "outputs": [],
   "source": [
    "def load_data(ml_prefix = '', profiled=True):\n",
    "    profile_prefix = 'profiled_' if profiled else ''\n",
    "    \n",
    "    # Ground truth\n",
    "    infos  = [np.load(result_dir + profile_prefix + 'information_parton.npy'),\n",
    "              np.load(result_dir + profile_prefix + 'information_rate_tight.npy')]\n",
    "    covs   = [np.load(result_dir + profile_prefix + 'covariance_parton.npy'),\n",
    "              np.load(result_dir + profile_prefix + 'covariance_rate_tight.npy')]\n",
    "    labels = ['parton', 'xsec']\n",
    "    colors = ['black', '0.5']\n",
    "    lss    = [':', ':']\n",
    "    \n",
    "    # Histos\n",
    "    histo_filenames = ['phi', 'deltaphi_lv', 'met', 'ptl', 'pta', 'deltaphi_la', ]\n",
    "    histo_labels    = [r'$\\varphi$', r'$\\Delta\\phi_{\\ell\\nu}$', 'MET', r'$p_{T,\\ell}$', r'$p_{T,\\gamma}$', r'$\\Delta\\phi_{\\ell\\gamma}$']\n",
    "    histo_colors    = ['mediumblue', 'steelblue', 'dodgerblue', 'deepskyblue', 'cornflowerblue', 'b']\n",
    "    histo_lss       = ['--']*10\n",
    "\n",
    "    for hfilename, hlabel, hcolor, hls in zip(histo_filenames, histo_labels, histo_colors, histo_lss):\n",
    "        infos.append(\n",
    "            np.load(result_dir + profile_prefix + 'information_histo_{}_tight.npy'.format(hfilename))\n",
    "        )\n",
    "        covs.append(\n",
    "            np.load(result_dir + profile_prefix + 'covariance_histo_{}_tight.npy'.format(hfilename))\n",
    "        )\n",
    "        labels.append(hlabel)\n",
    "        colors.append(hcolor)\n",
    "        lss.append(hls)\n",
    "        \n",
    "    # ML\n",
    "    ml_filenames = ['full', 'full_infomode', 'minimal', 'full_tight', 'minimal_tight', 'phi_tight']\n",
    "    ml_labels    = ['full', 'full (I)', 'minimal', 'cuts', 'cuts min', r'$\\varphi$']\n",
    "    ml_colors    = ['#CC002E', 'firebrick', 'orangered', 'lightcoral', 'r', 'chocolate']\n",
    "    ml_lss       = ['-', '-', '-', '-.', '-.', '--', ':']\n",
    "\n",
    "    for hfilename, hlabel, hcolor, hls in zip(ml_filenames, ml_labels, ml_colors, ml_lss):\n",
    "        infos.append(\n",
    "            np.load(result_dir + profile_prefix + 'information_{}{}.npy'.format(hfilename, ml_prefix))\n",
    "        )\n",
    "        covs.append(\n",
    "            np.load(result_dir + profile_prefix + 'covariance_{}{}.npy'.format(hfilename, ml_prefix))\n",
    "        )\n",
    "        labels.append(hlabel)\n",
    "        colors.append(hcolor)\n",
    "        lss.append(hls)\n",
    "        \n",
    "    return infos, covs, labels, colors, lss\n"
   ]
  },
  {
   "cell_type": "code",
   "execution_count": 5,
   "metadata": {},
   "outputs": [
    {
     "name": "stdout",
     "output_type": "stream",
     "text": [
      " 0 parton      I_00 = 54030548 (projected) / 53796887 (profiled)\n",
      "               I_11 = 56769456 (projected) / 56734112 (profiled)\n",
      " 1 xsec        I_00 =       1 (projected) /       0 (profiled)\n",
      "               I_11 =       5 (projected) /       0 (profiled)\n",
      " 2 $\\varphi$   I_00 = 4498984 (projected) / 4489416 (profiled)\n",
      "               I_11 =   10263 (projected) /   10253 (profiled)\n",
      " 3 $\\Delta\\ph  I_00 = 4256645 (projected) / 3892322 (profiled)\n",
      "               I_11 =    1059 (projected) /    1048 (profiled)\n",
      " 4 MET         I_00 =    4260 (projected) /    3379 (profiled)\n",
      "               I_11 =     917 (projected) /     912 (profiled)\n",
      " 5 $p_{T,\\ell  I_00 =   22480 (projected) /   18649 (profiled)\n",
      "               I_11 =    1529 (projected) /    1508 (profiled)\n",
      " 6 $p_{T,\\gam  I_00 =    1200 (projected) /    1197 (profiled)\n",
      "               I_11 =    2301 (projected) /    2296 (profiled)\n",
      " 7 $\\Delta\\ph  I_00 = 1037070 (projected) / 1006441 (profiled)\n",
      "               I_11 =    1235 (projected) /    1230 (profiled)\n",
      " 8 full        I_00 = 13959689 (projected) / 12664198 (profiled)\n",
      "               I_11 = 2986042 (projected) / 2702289 (profiled)\n",
      " 9 full (I)    I_00 = 18123218 (projected) / 17391690 (profiled)\n",
      "               I_11 = 6497771 (projected) / 6308631 (profiled)\n",
      "10 minimal     I_00 = 13452692 (projected) / 12337165 (profiled)\n",
      "               I_11 = 3023955 (projected) / 2791407 (profiled)\n",
      "11 cuts        I_00 = 11273408 (projected) / 11232280 (profiled)\n",
      "               I_11 =  235961 (projected) /  235508 (profiled)\n",
      "12 cuts min    I_00 = 11314937 (projected) / 11287628 (profiled)\n",
      "               I_11 =  295546 (projected) /  295159 (profiled)\n",
      "13 $\\varphi$   I_00 = 4629096 (projected) / 4595359 (profiled)\n",
      "               I_11 =    8222 (projected) /    8078 (profiled)\n"
     ]
    }
   ],
   "source": [
    "infos_profiled, covs_profiled, _, _, _ = load_data('', profiled=True)\n",
    "infos, covs, labels, colors, lss = load_data('', profiled=False)\n",
    "\n",
    "for i, (label, info, info_prof) in enumerate(zip(labels, infos, infos_profiled)):\n",
    "    print(\n",
    "        '{:2} {:10.10s}  I_00 = {:7.0f} (projected) / {:7.0f} (profiled)'.format(i, label, info[0,0], info_prof[0,0])\n",
    "    )\n",
    "    print(\n",
    "        '               I_11 = {:7.0f} (projected) / {:7.0f} (profiled)'.format(info[1,1], info_prof[1,1])\n",
    "    )\n",
    "    "
   ]
  },
  {
   "cell_type": "markdown",
   "metadata": {},
   "source": [
    "## Plotting function"
   ]
  },
  {
   "cell_type": "code",
   "execution_count": 6,
   "metadata": {},
   "outputs": [],
   "source": [
    "def make_plot(ml_prefix = '', indices=None, xmax=0.004):\n",
    "    infos, covs, labels, colors, lss = load_data(ml_prefix, profiled=True)\n",
    "    infos_projected, _, _, _, _ = load_data(ml_prefix, profiled=False)\n",
    "    \n",
    "    if indices is not None:\n",
    "        infos = [infos[i] for i in indices]\n",
    "        covs = [covs[i] for i in indices]\n",
    "        labels = [labels[i] for i in indices]\n",
    "        colors = [colors[i] for i in indices]\n",
    "        lss = [lss[i] for i in indices]\n",
    "        infos_projected = [infos_projected[i] for i in indices]\n",
    "        \n",
    "    infos_projected = [info[:2, :2] for info in infos_projected]\n",
    "\n",
    "    fig = plot_fisher_information_contours_2d(\n",
    "        fisher_information_matrices=infos_projected + infos,\n",
    "        fisher_information_covariances=[None for _ in infos_projected] + covs,\n",
    "        contour_distance=1.,\n",
    "        xrange=(-xmax,xmax),\n",
    "        yrange=(-xmax,xmax),\n",
    "        xlabel=r'$f_{WWW}$',\n",
    "        ylabel=r'$f_{\\tilde{W}WW}$',\n",
    "        linestyles=lss + lss,\n",
    "        linewidths=[0.5 for _ in infos_projected] + [1.5 for _ in infos],\n",
    "        colors=colors + colors,\n",
    "        alphas=[1. for _ in infos_projected] + [1. for _ in infos],\n",
    "        resolution=600,\n",
    "        inline_labels=[None for _ in infos_projected] + labels\n",
    "    )\n",
    "    \n",
    "    return fig\n"
   ]
  },
  {
   "cell_type": "markdown",
   "metadata": {},
   "source": [
    "## Plots"
   ]
  },
  {
   "cell_type": "code",
   "execution_count": 8,
   "metadata": {
    "scrolled": false
   },
   "outputs": [
    {
     "name": "stderr",
     "output_type": "stream",
     "text": [
      "00:04 madminer.plotting    DEBUG   Std: [[3.95382128 3.94113968 3.92850877 ... 6.10669221 6.1249649  6.14328332]\n",
      " [3.94015236 3.92746255 3.91482338 ... 6.08407103 6.10232821 6.12063113]\n",
      " [3.92653734 3.91383935 3.90119197 ... 6.06151007 6.07975175 6.09803919]\n",
      " ...\n",
      " [6.09803919 6.07975175 6.06151007 ... 3.90119197 3.91383935 3.92653734]\n",
      " [6.12063113 6.10232821 6.08407103 ... 3.91482338 3.92746255 3.94015236]\n",
      " [6.14328332 6.1249649  6.10669221 ... 3.92850877 3.94113968 3.95382128]]\n",
      "00:04 madminer.plotting    DEBUG   Std: [[0.02076273 0.02063575 0.02050917 ... 0.01965668 0.01978044 0.01990462]\n",
      " [0.02075129 0.02062431 0.02049775 ... 0.01964816 0.01977192 0.0198961 ]\n",
      " [0.02073988 0.02061291 0.02048636 ... 0.01963967 0.01976343 0.01988761]\n",
      " ...\n",
      " [0.01988761 0.01976343 0.01963967 ... 0.02048636 0.02061291 0.02073988]\n",
      " [0.0198961  0.01977192 0.01964816 ... 0.02049775 0.02062431 0.02075129]\n",
      " [0.01990462 0.01978044 0.01965668 ... 0.02050917 0.02063575 0.02076273]]\n",
      "00:04 madminer.plotting    DEBUG   Std: [[0.00076138 0.00076436 0.00076729 ... 0.00590404 0.0059294  0.0059548 ]\n",
      " [0.00075329 0.00075631 0.00075927 ... 0.00588978 0.0059151  0.00594047]\n",
      " [0.00074519 0.00074824 0.00075125 ... 0.00587554 0.00590082 0.00592615]\n",
      " ...\n",
      " [0.00592615 0.00590082 0.00587554 ... 0.00075125 0.00074824 0.00074519]\n",
      " [0.00594047 0.0059151  0.00588978 ... 0.00075927 0.00075631 0.00075329]\n",
      " [0.0059548  0.0059294  0.00590404 ... 0.00076729 0.00076436 0.00076138]]\n",
      "00:04 madminer.plotting    DEBUG   Std: [[9.01950126e-06 9.00192656e-06 8.98436853e-06 ... 1.49316566e-06\n",
      "  1.48554318e-06 1.47793738e-06]\n",
      " [8.97690408e-06 8.95937142e-06 8.94185543e-06 ... 1.47566493e-06\n",
      "  1.46808449e-06 1.46052072e-06]\n",
      " [8.93440725e-06 8.91691663e-06 8.89944268e-06 ... 1.45826455e-06\n",
      "  1.45072615e-06 1.44320443e-06]\n",
      " ...\n",
      " [1.44320443e-06 1.45072615e-06 1.45826455e-06 ... 8.89944268e-06\n",
      "  8.91691663e-06 8.93440725e-06]\n",
      " [1.46052072e-06 1.46808449e-06 1.47566493e-06 ... 8.94185543e-06\n",
      "  8.95937142e-06 8.97690408e-06]\n",
      " [1.47793738e-06 1.48554318e-06 1.49316566e-06 ... 8.98436853e-06\n",
      "  9.00192656e-06 9.01950126e-06]]\n",
      "00:04 matplotlib.axes._bas DEBUG   update_title_pos\n",
      "00:04 matplotlib.axes._bas DEBUG   update_title_pos\n",
      "00:04 matplotlib.backends. DEBUG   Assigning font /b'F1' = '/Users/johannbrehmer/anaconda3/envs/higgs_inference/lib/python3.6/site-packages/matplotlib/mpl-data/fonts/ttf/DejaVuSans.ttf'\n",
      "00:04 matplotlib.backends. DEBUG   Assigning font /b'F2' = '/Users/johannbrehmer/anaconda3/envs/higgs_inference/lib/python3.6/site-packages/matplotlib/mpl-data/fonts/ttf/DejaVuSans-Oblique.ttf'\n",
      "00:04 matplotlib.backends. DEBUG   Embedding font /Users/johannbrehmer/anaconda3/envs/higgs_inference/lib/python3.6/site-packages/matplotlib/mpl-data/fonts/ttf/DejaVuSans-Oblique.ttf.\n",
      "00:04 matplotlib.backends. DEBUG   Writing TrueType font.\n",
      "00:04 matplotlib.backends. DEBUG   Embedding font /Users/johannbrehmer/anaconda3/envs/higgs_inference/lib/python3.6/site-packages/matplotlib/mpl-data/fonts/ttf/DejaVuSans.ttf.\n",
      "00:04 matplotlib.backends. DEBUG   Writing TrueType font.\n",
      "00:04 matplotlib.axes._bas DEBUG   update_title_pos\n",
      "00:04 matplotlib.axes._bas DEBUG   update_title_pos\n",
      "00:04 matplotlib.axes._bas DEBUG   update_title_pos\n",
      "00:04 matplotlib.axes._bas DEBUG   update_title_pos\n",
      "00:04 matplotlib.axes._bas DEBUG   update_title_pos\n"
     ]
    },
    {
     "data": {
      "image/png": "[encoded data removed]",
      "text/plain": [
       "<Figure size 360x360 with 1 Axes>"
      ]
     },
     "metadata": {
      "needs_background": "light"
     },
     "output_type": "display_data"
    }
   ],
   "source": [
    "fig = make_plot('', xmax=0.001, indices=[0,2,8,11])\n",
    "\n",
    "plt.savefig(\"../../figures/wgamma/information_wgamma.pdf\")"
   ]
  },
  {
   "cell_type": "code",
   "execution_count": null,
   "metadata": {},
   "outputs": [],
   "source": []
  }
 ],
 "metadata": {
  "kernelspec": {
   "display_name": "Python 3",
   "language": "python",
   "name": "python3"
  },
  "language_info": {
   "codemirror_mode": {
    "name": "ipython",
    "version": 3
   },
   "file_extension": ".py",
   "mimetype": "text/x-python",
   "name": "python",
   "nbconvert_exporter": "python",
   "pygments_lexer": "ipython3",
   "version": "3.6.7"
  }
 },
 "nbformat": 4,
 "nbformat_minor": 2
}
