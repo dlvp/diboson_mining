{
 "cells": [
  {
   "cell_type": "markdown",
   "metadata": {},
   "source": [
    "# Plot Fisher information\n",
    "\n",
    "Johann Brehmer, Kyle Cranmer, Marco Farina, Felix Kling, Duccio Pappadopulo, Josh Ruderman 2018"
   ]
  },
  {
   "cell_type": "code",
   "execution_count": 2,
   "metadata": {},
   "outputs": [
    {
     "name": "stderr",
     "output_type": "stream",
     "text": [
      "19:40 matplotlib.pyplot    DEBUG   Loaded backend module://ipykernel.pylab.backend_inline version unknown.\n"
     ]
    }
   ],
   "source": [
    "from __future__ import absolute_import, division, print_function, unicode_literals\n",
    "\n",
    "import numpy as np\n",
    "import matplotlib\n",
    "from matplotlib import pyplot as plt\n",
    "%matplotlib inline\n",
    "import logging\n",
    "import os\n",
    "\n",
    "import madminer.core\n",
    "from madminer.plotting import plot_fisher_information_contours_2d\n",
    "\n",
    "logging.basicConfig(format='%(asctime)-5.5s %(name)-20.20s %(levelname)-7.7s %(message)s', datefmt='%H:%M', level=logging.DEBUG)\n"
   ]
  },
  {
   "cell_type": "code",
   "execution_count": 2,
   "metadata": {},
   "outputs": [],
   "source": [
    "base_dir = '/Users/johannbrehmer/work/projects/madminer/diboson_mining/'\n",
    "mg_dir = '/Users/johannbrehmer/work/projects/madminer/MG5_aMC_v2_6_2/'"
   ]
  },
  {
   "cell_type": "code",
   "execution_count": 3,
   "metadata": {},
   "outputs": [],
   "source": [
    "sample_dir = base_dir + 'data/samples/wgamma/'\n",
    "card_dir = base_dir + 'cards/wgamma/'\n",
    "ufo_model_dir = card_dir + 'SMWgamma_UFO'\n",
    "run_card_dir = card_dir + 'run_cards/'\n",
    "mg_process_dir = base_dir + 'data/mg_processes/wgamma/'\n",
    "log_dir = base_dir + 'logs/wgamma/'\n",
    "temp_dir = base_dir + 'data/temp'\n",
    "delphes_dir = mg_dir + 'Delphes'\n",
    "model_dir = base_dir + 'data/models/wgamma/'\n",
    "result_dir = base_dir + 'data/results/wgamma/'"
   ]
  },
  {
   "cell_type": "markdown",
   "metadata": {},
   "source": [
    "## Load Fisher information results"
   ]
  },
  {
   "cell_type": "code",
   "execution_count": 4,
   "metadata": {},
   "outputs": [],
   "source": [
    "def load_data(ml_prefix = '', profiled=True):\n",
    "    profile_suffix = # TODO\n",
    "    \n",
    "    \n",
    "    # Ground truth\n",
    "    infos  = [np.load(result_dir + 'information_parton.npy'),\n",
    "              np.load(result_dir + 'information_xsec_tight.npy')]\n",
    "    covs   = [np.load(result_dir + 'information_covariance_parton.npy'),\n",
    "              np.load(result_dir + 'information_covariance_xsec_tight.npy')]\n",
    "    labels = ['parton', 'xsec']\n",
    "    colors = ['black', '0.5']\n",
    "    lss    = [':', ':']\n",
    "    \n",
    "    # Histos\n",
    "    histo_filenames = ['phi', 'deltaphi_lv', 'met', 'ptl', 'pta', 'deltaphi_la', ]\n",
    "    histo_labels    = [r'$\\varphi$', r'$\\Delta\\phi_{\\ell\\nu}$', 'MET', r'$p_{T,\\ell}$', r'$p_{T,\\gamma}$', r'$\\Delta\\phi_{\\ell\\gamma}$']\n",
    "    histo_colors    = ['mediumblue', 'steelblue', 'dodgerblue', 'deepskyblue', 'cornflowerblue', 'b']\n",
    "    histo_lss       = ['--']*10\n",
    "\n",
    "    for hfilename, hlabel, hcolor, hls in zip(histo_filenames, histo_labels, histo_colors, histo_lss):\n",
    "        infos.append(\n",
    "            np.load(result_dir + 'information_histo_{}_tight.npy'.format(hfilename))\n",
    "        )\n",
    "        covs.append(\n",
    "            np.load(result_dir + 'information_covariance_histo_{}_tight.npy'.format(hfilename))\n",
    "        )\n",
    "        labels.append(hlabel)\n",
    "        colors.append(hcolor)\n",
    "        lss.append(hls)\n",
    "        \n",
    "    # ML\n",
    "    ml_filenames = ['full', 'full_infomode', 'minimal', 'full_tight', 'minimal_tight', 'phi_tight', 'full_shuffled']\n",
    "    ml_labels    = ['full', 'full (I)', 'minimal', 'cuts', 'cuts min', r'$\\varphi$', r'shuffled']\n",
    "    ml_colors    = ['#CC002E', 'firebrick', 'orangered', 'lightcoral', 'r', 'chocolate', 'lightsalmon']\n",
    "    ml_lss       = ['-', '-', '-', '-.', '-.', '--', ':']\n",
    "\n",
    "    for hfilename, hlabel, hcolor, hls in zip(ml_filenames, ml_labels, ml_colors, ml_lss):\n",
    "        infos.append(\n",
    "            np.load(result_dir + 'information_{}{}.npy'.format(hfilename, ml_prefix))\n",
    "        )\n",
    "        covs.append(\n",
    "            np.load(result_dir + 'information_covariance_{}{}.npy'.format(hfilename, ml_prefix))\n",
    "        )\n",
    "        labels.append(hlabel)\n",
    "        colors.append(hcolor)\n",
    "        lss.append(hls)\n",
    "        \n",
    "    return infos, covs, labels, colors, lss\n"
   ]
  },
  {
   "cell_type": "code",
   "execution_count": 5,
   "metadata": {},
   "outputs": [
    {
     "name": "stdout",
     "output_type": "stream",
     "text": [
      " 0 parton      I_00 = 2459509 +/-  128168\n",
      "               I_11 = 2492758 +/-  126232\n",
      " 1 xsec        I_00 =       0 +/-       0\n",
      "               I_11 =       8 +/-       2\n",
      " 2 $\\varphi$   I_00 =  369187 +/-    1709\n",
      "               I_11 =     936 +/-      30\n",
      " 3 $\\Delta\\ph  I_00 =  356723 +/-    1737\n",
      "               I_11 =     133 +/-      15\n",
      " 4 MET         I_00 =     475 +/-      14\n",
      "               I_11 =     117 +/-      19\n",
      " 5 $p_{T,\\ell  I_00 =    1921 +/-      44\n",
      "               I_11 =      86 +/-      13\n",
      " 6 $p_{T,\\gam  I_00 =     106 +/-      12\n",
      "               I_11 =     191 +/-      17\n",
      " 7 $\\Delta\\ph  I_00 =   78402 +/-     509\n",
      "               I_11 =     114 +/-      11\n",
      " 8 full        I_00 =  997891 +/-   65233\n",
      "               I_11 =   20275 +/-     918\n",
      " 9 full (I)    I_00 =  845623 +/-   27612\n",
      "               I_11 =    5427 +/-     791\n",
      "10 minimal     I_00 = 1131241 +/-   70368\n",
      "               I_11 =   36781 +/-    1900\n",
      "11 cuts        I_00 =  974872 +/-  102415\n",
      "               I_11 =   51501 +/-    7795\n",
      "12 cuts min    I_00 =  967642 +/-   77495\n",
      "               I_11 =   48443 +/-    6271\n",
      "13 $\\varphi$   I_00 =  379427 +/-    1143\n",
      "               I_11 =    1010 +/-      38\n",
      "14 shuffled    I_00 =     365 +/-      53\n",
      "               I_11 =     460 +/-      23\n"
     ]
    }
   ],
   "source": [
    "infos, covs, labels, colors, lss = load_data('')\n",
    "\n",
    "for i, (label, info, cov) in enumerate(zip(labels,infos, covs)):\n",
    "    print(\n",
    "        '{:2} {:10.10s}  I_00 = {:7.0f} +/- {:7.0f}\\n               I_11 = {:7.0f} +/- {:7.0f}'.format(i, label, info[0,0], cov[0,0,0,0]**0.5, info[1,1], cov[1,1,1,1]**0.5)\n",
    "    )"
   ]
  },
  {
   "cell_type": "markdown",
   "metadata": {},
   "source": [
    "## Plotting function"
   ]
  },
  {
   "cell_type": "code",
   "execution_count": 6,
   "metadata": {},
   "outputs": [],
   "source": [
    "def make_plot(ml_prefix = '', indices=None, xmax=0.004):\n",
    "    infos, covs, labels, colors, lss = load_data(ml_prefix)\n",
    "    \n",
    "    if indices is not None:\n",
    "        infos = [infos[i] for i in indices]\n",
    "        covs = [covs[i] for i in indices]\n",
    "        labels = [labels[i] for i in indices]\n",
    "        colors = [colors[i] for i in indices]\n",
    "        lss = [lss[i] for i in indices]\n",
    "\n",
    "    fig = plot_fisher_information_contours_2d(\n",
    "        fisher_information_matrices=infos,\n",
    "        fisher_information_covariances=covs,\n",
    "        contour_distance=1.,\n",
    "        xrange=(-xmax,xmax),\n",
    "        yrange=(-xmax,xmax),\n",
    "        xlabel=r'$f_{WWW}$',\n",
    "        ylabel=r'$f_{\\tilde{W}WW}$',\n",
    "        linestyles=lss,\n",
    "        colors=colors,\n",
    "        resolution=600,\n",
    "        inline_labels=labels\n",
    "    )\n",
    "    \n",
    "    return fig\n"
   ]
  },
  {
   "cell_type": "markdown",
   "metadata": {},
   "source": [
    "## Plots"
   ]
  },
  {
   "cell_type": "code",
   "execution_count": 14,
   "metadata": {
    "scrolled": true
   },
   "outputs": [
    {
     "name": "stderr",
     "output_type": "stream",
     "text": [
      "05:47 root                 DEBUG   Std: [[3.7044564  3.69275881 3.68111079 ... 3.29884025 3.31082457 3.32286523]\n",
      " [3.69146815 3.67976009 3.66810164 ... 3.28871249 3.30071286 3.31276954]\n",
      " [3.67853386 3.6668153  3.65514638 ... 3.27863458 3.29065096 3.30272361]\n",
      " ...\n",
      " [3.30272361 3.29065096 3.27863458 ... 3.65514638 3.6668153  3.67853386]\n",
      " [3.31276954 3.30071286 3.28871249 ... 3.66810164 3.67976009 3.69146815]\n",
      " [3.32286523 3.31082457 3.29884025 ... 3.68111079 3.69275881 3.7044564 ]]\n",
      "05:47 root                 DEBUG   Std: [[0.03285714 0.0326617  0.03246686 ... 0.02570556 0.02587465 0.02604436]\n",
      " [0.03283349 0.0326381  0.0324433  ... 0.02570159 0.02587073 0.02604048]\n",
      " [0.03280987 0.03261452 0.03241978 ... 0.02569768 0.02586686 0.02603665]\n",
      " ...\n",
      " [0.02603665 0.02586686 0.02569768 ... 0.03241978 0.03261452 0.03280987]\n",
      " [0.02604048 0.02587073 0.02570159 ... 0.0324433  0.0326381  0.03283349]\n",
      " [0.02604436 0.02587465 0.02570556 ... 0.03246686 0.0326617  0.03285714]]\n",
      "05:47 root                 DEBUG   Std: [[1.03658013 1.02973653 1.02291618 ... 1.09070638 1.09775888 1.10483463]\n",
      " [1.0365136  1.02966962 1.0228489  ... 1.090417   1.09746909 1.10454443]\n",
      " [1.03644766 1.02960331 1.02278222 ... 1.09012818 1.09717985 1.10425478]\n",
      " ...\n",
      " [1.10425478 1.09717985 1.09012818 ... 1.02278222 1.02960331 1.03644766]\n",
      " [1.10454443 1.09746909 1.090417   ... 1.0228489  1.02966962 1.0365136 ]\n",
      " [1.10483463 1.09775888 1.09070638 ... 1.02291618 1.02973653 1.03658013]]\n",
      "05:47 root                 DEBUG   Std: [[1.70778243 1.69700436 1.68626292 ... 1.76357874 1.77459738 1.7856526 ]\n",
      " [1.7071759  1.69639725 1.68565522 ... 1.76273003 1.77374828 1.78480311]\n",
      " [1.70657198 1.69579275 1.68505014 ... 1.76188377 1.77290163 1.78395607]\n",
      " ...\n",
      " [1.78395607 1.77290163 1.76188377 ... 1.68505014 1.69579275 1.70657198]\n",
      " [1.78480311 1.77374828 1.76273003 ... 1.68565522 1.69639725 1.7071759 ]\n",
      " [1.7856526  1.77459738 1.76357874 ... 1.68626292 1.69700436 1.70778243]]\n",
      "05:47 root                 DEBUG   Std: [[0.0197412  0.01962279 0.01950479 ... 0.02191324 0.02204041 0.02216797]\n",
      " [0.019728   0.01960959 0.01949158 ... 0.02189305 0.02202019 0.02214772]\n",
      " [0.01971485 0.01959644 0.01947842 ... 0.02187289 0.022      0.02212751]\n",
      " ...\n",
      " [0.02212751 0.022      0.02187289 ... 0.01947842 0.01959644 0.01971485]\n",
      " [0.02214772 0.02202019 0.02189305 ... 0.01949158 0.01960959 0.019728  ]\n",
      " [0.02216797 0.02204041 0.02191324 ... 0.01950479 0.01962279 0.0197412 ]]\n",
      "05:47 matplotlib.axes._bas DEBUG   update_title_pos\n",
      "05:47 matplotlib.axes._bas DEBUG   update_title_pos\n",
      "05:47 matplotlib.backends. DEBUG   Assigning font /b'F1' = '/Users/johannbrehmer/anaconda3/envs/higgs_inference/lib/python3.6/site-packages/matplotlib/mpl-data/fonts/ttf/DejaVuSans.ttf'\n",
      "05:47 matplotlib.backends. DEBUG   Assigning font /b'F2' = '/Users/johannbrehmer/anaconda3/envs/higgs_inference/lib/python3.6/site-packages/matplotlib/mpl-data/fonts/ttf/DejaVuSans-Oblique.ttf'\n",
      "05:47 matplotlib.backends. DEBUG   Embedding font /Users/johannbrehmer/anaconda3/envs/higgs_inference/lib/python3.6/site-packages/matplotlib/mpl-data/fonts/ttf/DejaVuSans-Oblique.ttf.\n",
      "05:47 matplotlib.backends. DEBUG   Writing TrueType font.\n",
      "05:47 matplotlib.backends. DEBUG   Embedding font /Users/johannbrehmer/anaconda3/envs/higgs_inference/lib/python3.6/site-packages/matplotlib/mpl-data/fonts/ttf/DejaVuSans.ttf.\n",
      "05:47 matplotlib.backends. DEBUG   Writing TrueType font.\n",
      "05:47 matplotlib.axes._bas DEBUG   update_title_pos\n",
      "05:47 matplotlib.axes._bas DEBUG   update_title_pos\n",
      "05:47 matplotlib.axes._bas DEBUG   update_title_pos\n",
      "05:47 matplotlib.axes._bas DEBUG   update_title_pos\n",
      "05:47 matplotlib.axes._bas DEBUG   update_title_pos\n"
     ]
    },
    {
     "data": {
      "image/png": "[encoded data removed]",
      "text/plain": [
       "<Figure size 360x360 with 1 Axes>"
      ]
     },
     "metadata": {
      "needs_background": "light"
     },
     "output_type": "display_data"
    }
   ],
   "source": [
    "fig = make_plot('', xmax=0.004, indices=[0,2,8,11,13])\n",
    "\n",
    "plt.savefig(\"../../figures/wgamma/information_wgamma.pdf\")"
   ]
  },
  {
   "cell_type": "code",
   "execution_count": 8,
   "metadata": {},
   "outputs": [
    {
     "name": "stderr",
     "output_type": "stream",
     "text": [
      "05:43 root                 DEBUG   Std: [[2315.28524782 2307.97425365 2300.69424597 ... 2061.77515485\n",
      "  2069.26535408 2076.79077172]\n",
      " [2307.16759362 2299.85005585 2292.56352409 ... 2055.44530624\n",
      "  2062.9455385  2070.48096276]\n",
      " [2299.08366257 2291.75956197 2284.4664866  ... 2049.1466104\n",
      "  2056.65684928 2064.20225337]\n",
      " ...\n",
      " [2064.20225337 2056.65684928 2049.1466104  ... 2284.4664866\n",
      "  2291.75956197 2299.08366257]\n",
      " [2070.48096276 2062.9455385  2055.44530624 ... 2292.56352409\n",
      "  2299.85005585 2307.16759362]\n",
      " [2076.79077172 2069.26535408 2061.77515485 ... 2300.69424597\n",
      "  2307.97425365 2315.28524782]]\n",
      "05:43 root                 DEBUG   Std: [[20.53571417 20.41356149 20.29178591 ... 16.06597231 16.17165749\n",
      "  16.27772368]\n",
      " [20.52093112 20.39880979 20.2770656  ... 16.06349441 16.16920583\n",
      "  16.27529827]\n",
      " [20.50616613 20.38407613 20.26236329 ... 16.06105091 16.16678857\n",
      "  16.27290727]\n",
      " ...\n",
      " [16.27290727 16.16678857 16.06105091 ... 20.26236329 20.38407613\n",
      "  20.50616613]\n",
      " [16.27529827 16.16920583 16.06349441 ... 20.2770656  20.39880979\n",
      "  20.52093112]\n",
      " [16.27772368 16.17165749 16.06597231 ... 20.29178591 20.41356149\n",
      "  20.53571417]]\n",
      "05:43 root                 DEBUG   Std: [[1067.36402083 1060.62772556 1053.91432423 ... 1102.23671296\n",
      "  1109.12336062 1116.03287254]\n",
      " [1066.9849391  1060.24828053 1053.53451527 ... 1101.70627053\n",
      "  1108.59267413 1115.5019416 ]\n",
      " [1066.60748845 1059.87046723 1053.15633868 ... 1101.17735932\n",
      "  1108.06351846 1114.97254108]\n",
      " ...\n",
      " [1114.97254108 1108.06351846 1101.17735932 ... 1053.15633868\n",
      "  1059.87046723 1066.60748845]\n",
      " [1115.5019416  1108.59267413 1101.70627053 ... 1053.53451527\n",
      "  1060.24828053 1066.9849391 ]\n",
      " [1116.03287254 1109.12336062 1102.23671296 ... 1053.91432423\n",
      "  1060.62772556 1067.36402083]]\n",
      "05:43 root                 DEBUG   Std: [[12.33824909 12.26424525 12.19049087 ... 13.69577511 13.77525402\n",
      "  13.85498213]\n",
      " [12.33000016 12.25599432 12.182238   ... 13.68315435 13.76261584\n",
      "  13.84232658]\n",
      " [12.32178091 12.24777299 12.17401466 ... 13.67055846 13.75000259\n",
      "  13.82969603]\n",
      " ...\n",
      " [13.82969603 13.75000259 13.67055846 ... 12.17401466 12.24777299\n",
      "  12.32178091]\n",
      " [13.84232658 13.76261584 13.68315435 ... 12.182238   12.25599432\n",
      "  12.33000016]\n",
      " [13.85498213 13.77525402 13.69577511 ... 12.19049087 12.26424525\n",
      "  12.33824909]]\n",
      "05:43 root                 DEBUG   Std: [[1.12797021 1.1230114  1.11806493 ... 0.30941547 0.31107111 0.31274127]\n",
      " [1.12540499 1.12045043 1.1155082  ... 0.30899177 0.31065633 0.31233542]\n",
      " [1.12284409 1.11789378 1.1129558  ... 0.30857837 0.31025186 0.31193988]\n",
      " ...\n",
      " [0.31193988 0.31025186 0.30857837 ... 1.1129558  1.11789378 1.12284409]\n",
      " [0.31233542 0.31065633 0.30899177 ... 1.1155082  1.12045043 1.12540499]\n",
      " [0.31274127 0.31107111 0.30941547 ... 1.11806493 1.1230114  1.12797021]]\n",
      "05:43 matplotlib.axes._bas DEBUG   update_title_pos\n",
      "05:43 matplotlib.axes._bas DEBUG   update_title_pos\n",
      "05:43 matplotlib.axes._bas DEBUG   update_title_pos\n",
      "05:43 matplotlib.axes._bas DEBUG   update_title_pos\n",
      "05:43 matplotlib.axes._bas DEBUG   update_title_pos\n",
      "05:43 matplotlib.axes._bas DEBUG   update_title_pos\n"
     ]
    },
    {
     "data": {
      "image/png": "[encoded data removed]",
      "text/plain": [
       "<Figure size 360x360 with 1 Axes>"
      ]
     },
     "metadata": {
      "needs_background": "light"
     },
     "output_type": "display_data"
    }
   ],
   "source": [
    "fig = make_plot('', xmax=0.1, indices=[0,2,11,13,14])\n",
    "\n"
   ]
  },
  {
   "cell_type": "code",
   "execution_count": null,
   "metadata": {},
   "outputs": [],
   "source": []
  }
 ],
 "metadata": {
  "kernelspec": {
   "display_name": "Python 3",
   "language": "python",
   "name": "python3"
  },
  "language_info": {
   "codemirror_mode": {
    "name": "ipython",
    "version": 3
   },
   "file_extension": ".py",
   "mimetype": "text/x-python",
   "name": "python",
   "nbconvert_exporter": "python",
   "pygments_lexer": "ipython3",
   "version": "3.6.7"
  }
 },
 "nbformat": 4,
 "nbformat_minor": 2
}
