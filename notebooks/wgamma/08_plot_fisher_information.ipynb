{
 "cells": [
  {
   "cell_type": "markdown",
   "metadata": {},
   "source": [
    "# Plot Fisher information\n",
    "\n",
    "Johann Brehmer, Kyle Cranmer, Marco Farina, Felix Kling, Duccio Pappadopulo, Josh Ruderman 2018"
   ]
  },
  {
   "cell_type": "code",
   "execution_count": 1,
   "metadata": {},
   "outputs": [
    {
     "name": "stderr",
     "output_type": "stream",
     "text": [
      "20:41 matplotlib.pyplot    DEBUG   Loaded backend module://ipykernel.pylab.backend_inline version unknown.\n"
     ]
    }
   ],
   "source": [
    "from __future__ import absolute_import, division, print_function, unicode_literals\n",
    "\n",
    "import numpy as np\n",
    "import matplotlib\n",
    "from matplotlib import pyplot as plt\n",
    "%matplotlib inline\n",
    "import logging\n",
    "import os\n",
    "\n",
    "import madminer.core\n",
    "from madminer.plotting import plot_fisher_information_contours_2d\n",
    "\n",
    "logging.basicConfig(format='%(asctime)-5.5s %(name)-20.20s %(levelname)-7.7s %(message)s', datefmt='%H:%M', level=logging.DEBUG)\n"
   ]
  },
  {
   "cell_type": "code",
   "execution_count": 2,
   "metadata": {},
   "outputs": [],
   "source": [
    "base_dir = '/Users/johannbrehmer/work/projects/madminer/diboson_mining/'\n",
    "mg_dir = '/Users/johannbrehmer/work/projects/madminer/MG5_aMC_v2_6_2/'"
   ]
  },
  {
   "cell_type": "code",
   "execution_count": 6,
   "metadata": {},
   "outputs": [],
   "source": [
    "sample_dir = base_dir + 'data/samples/wgamma_sys/'\n",
    "card_dir = base_dir + 'cards/wgamma/'\n",
    "ufo_model_dir = card_dir + 'SMWgamma_UFO'\n",
    "run_card_dir = card_dir + 'run_cards/'\n",
    "mg_process_dir = base_dir + 'data/mg_processes/wgamma_sys/'\n",
    "log_dir = base_dir + 'logs/wgamma/'\n",
    "temp_dir = base_dir + 'data/temp'\n",
    "delphes_dir = mg_dir + 'Delphes'\n",
    "model_dir = base_dir + 'data/models/wgamma_sys/'\n",
    "result_dir = base_dir + 'data/results/wgamma_sys/'"
   ]
  },
  {
   "cell_type": "markdown",
   "metadata": {},
   "source": [
    "## Load Fisher information results"
   ]
  },
  {
   "cell_type": "code",
   "execution_count": 16,
   "metadata": {},
   "outputs": [],
   "source": [
    "def load_data(ml_prefix = '', profiled=True):\n",
    "    profile_prefix = 'profiled_' if profiled else ''\n",
    "    \n",
    "    # Ground truth\n",
    "    infos  = [np.load(result_dir + profile_prefix + 'information_parton.npy'),\n",
    "              np.load(result_dir + profile_prefix + 'information_rate_tight.npy')]\n",
    "    covs   = [np.load(result_dir + profile_prefix + 'covariance_parton.npy'),\n",
    "              np.load(result_dir + profile_prefix + 'covariance_rate_tight.npy')]\n",
    "    labels = ['parton', 'xsec']\n",
    "    colors = ['black', '0.5']\n",
    "    lss    = [':', ':']\n",
    "    \n",
    "    # Histos\n",
    "    histo_filenames = ['phi', 'deltaphi_lv', 'met', 'ptl', 'pta', 'deltaphi_la', ]\n",
    "    histo_labels    = [r'$\\varphi$', r'$\\Delta\\phi_{\\ell\\nu}$', 'MET', r'$p_{T,\\ell}$', r'$p_{T,\\gamma}$', r'$\\Delta\\phi_{\\ell\\gamma}$']\n",
    "    histo_colors    = ['mediumblue', 'steelblue', 'dodgerblue', 'deepskyblue', 'cornflowerblue', 'b']\n",
    "    histo_lss       = ['--']*10\n",
    "\n",
    "    for hfilename, hlabel, hcolor, hls in zip(histo_filenames, histo_labels, histo_colors, histo_lss):\n",
    "        infos.append(\n",
    "            np.load(result_dir + profile_prefix + 'information_histo_{}_tight.npy'.format(hfilename))\n",
    "        )\n",
    "        covs.append(\n",
    "            np.load(result_dir + profile_prefix + 'covariance_histo_{}_tight.npy'.format(hfilename))\n",
    "        )\n",
    "        labels.append(hlabel)\n",
    "        colors.append(hcolor)\n",
    "        lss.append(hls)\n",
    "        \n",
    "    # ML\n",
    "    ml_filenames = ['full', 'full_infomode', 'minimal', 'full_tight', 'minimal_tight', 'phi_tight']\n",
    "    ml_labels    = ['full', 'full (I)', 'minimal', 'cuts', 'cuts min', r'$\\varphi$']\n",
    "    ml_colors    = ['#CC002E', 'firebrick', 'orangered', 'lightcoral', 'r', 'chocolate']\n",
    "    ml_lss       = ['-', '-', '-', '-.', '-.', '--', ':']\n",
    "\n",
    "    for hfilename, hlabel, hcolor, hls in zip(ml_filenames, ml_labels, ml_colors, ml_lss):\n",
    "        infos.append(\n",
    "            np.load(result_dir + profile_prefix + 'information_{}{}.npy'.format(hfilename, ml_prefix))\n",
    "        )\n",
    "        covs.append(\n",
    "            np.load(result_dir + profile_prefix + 'covariance_{}{}.npy'.format(hfilename, ml_prefix))\n",
    "        )\n",
    "        labels.append(hlabel)\n",
    "        colors.append(hcolor)\n",
    "        lss.append(hls)\n",
    "        \n",
    "    return infos, covs, labels, colors, lss\n"
   ]
  },
  {
   "cell_type": "code",
   "execution_count": 21,
   "metadata": {},
   "outputs": [
    {
     "name": "stdout",
     "output_type": "stream",
     "text": [
      " 0 parton      I_00 = 5403055 (projected) / 5380588 (profiled)\n",
      "               I_11 = 5676946 (projected) / 5673980 (profiled)\n",
      " 1 xsec        I_00 =       0 (projected) /       0 (profiled)\n",
      "               I_11 =       0 (projected) /       0 (profiled)\n",
      " 2 $\\varphi$   I_00 =  449898 (projected) /  449794 (profiled)\n",
      "               I_11 =    1026 (projected) /    1026 (profiled)\n",
      " 3 $\\Delta\\ph  I_00 =  425664 (projected) /  421030 (profiled)\n",
      "               I_11 =     106 (projected) /     105 (profiled)\n",
      " 4 MET         I_00 =     426 (projected) /     413 (profiled)\n",
      "               I_11 =      92 (projected) /      91 (profiled)\n",
      " 5 $p_{T,\\ell  I_00 =    2248 (projected) /    2167 (profiled)\n",
      "               I_11 =     153 (projected) /     152 (profiled)\n",
      " 6 $p_{T,\\gam  I_00 =     120 (projected) /     120 (profiled)\n",
      "               I_11 =     230 (projected) /     230 (profiled)\n",
      " 7 $\\Delta\\ph  I_00 =  103707 (projected) /  103341 (profiled)\n",
      "               I_11 =     124 (projected) /     123 (profiled)\n",
      " 8 full        I_00 = 1395969 (projected) / 1331380 (profiled)\n",
      "               I_11 =  298604 (projected) /  280018 (profiled)\n",
      " 9 full (I)    I_00 = 1812322 (projected) / 1767677 (profiled)\n",
      "               I_11 =  649777 (projected) /  635064 (profiled)\n",
      "10 minimal     I_00 = 1345269 (projected) / 1289337 (profiled)\n",
      "               I_11 =  302395 (projected) /  287789 (profiled)\n",
      "11 cuts        I_00 = 1127341 (projected) / 1126749 (profiled)\n",
      "               I_11 =   23596 (projected) /   23588 (profiled)\n",
      "12 cuts min    I_00 = 1131494 (projected) / 1131163 (profiled)\n",
      "               I_11 =   29555 (projected) /   29548 (profiled)\n",
      "13 $\\varphi$   I_00 =  462910 (projected) /  462563 (profiled)\n",
      "               I_11 =     822 (projected) /     820 (profiled)\n"
     ]
    }
   ],
   "source": [
    "infos_profiled, covs_profiled, _, _, _ = load_data('', profiled=True)\n",
    "infos, covs, labels, colors, lss = load_data('', profiled=False)\n",
    "\n",
    "for i, (label, info, info_prof) in enumerate(zip(labels, infos, infos_profiled)):\n",
    "    print(\n",
    "        '{:2} {:10.10s}  I_00 = {:7.0f} (projected) / {:7.0f} (profiled)'.format(i, label, info[0,0], info_prof[0,0])\n",
    "    )\n",
    "    print(\n",
    "        '               I_11 = {:7.0f} (projected) / {:7.0f} (profiled)'.format(info[1,1], info_prof[1,1])\n",
    "    )\n",
    "    "
   ]
  },
  {
   "cell_type": "markdown",
   "metadata": {},
   "source": [
    "## Plotting function"
   ]
  },
  {
   "cell_type": "code",
   "execution_count": 39,
   "metadata": {},
   "outputs": [],
   "source": [
    "def make_plot(ml_prefix = '', indices=None, xmax=0.004):\n",
    "    infos, covs, labels, colors, lss = load_data(ml_prefix, profiled=True)\n",
    "    infos_projected, _, _, _, _ = load_data(ml_prefix, profiled=False)\n",
    "    \n",
    "    if indices is not None:\n",
    "        infos = [infos[i] for i in indices]\n",
    "        covs = [covs[i] for i in indices]\n",
    "        labels = [labels[i] for i in indices]\n",
    "        colors = [colors[i] for i in indices]\n",
    "        lss = [lss[i] for i in indices]\n",
    "        infos_projected = [infos_projected[i] for i in indices]\n",
    "        \n",
    "    infos_projected = [info[:2, :2] for info in infos_projected]\n",
    "\n",
    "    fig = plot_fisher_information_contours_2d(\n",
    "        fisher_information_matrices=infos_projected + infos,\n",
    "        fisher_information_covariances=[None for _ in infos_projected] + covs,\n",
    "        contour_distance=1.,\n",
    "        xrange=(-xmax,xmax),\n",
    "        yrange=(-xmax,xmax),\n",
    "        xlabel=r'$f_{WWW}$',\n",
    "        ylabel=r'$f_{\\tilde{W}WW}$',\n",
    "        linestyles=lss + lss,\n",
    "        linewidths=[0.5 for _ in infos_projected] + [1.5 for _ in infos],\n",
    "        colors=colors + colors,\n",
    "        alphas=[1. for _ in infos_projected] + [1. for _ in infos],\n",
    "        resolution=600,\n",
    "        inline_labels=[None for _ in infos_projected] + labels\n",
    "    )\n",
    "    \n",
    "    return fig\n"
   ]
  },
  {
   "cell_type": "markdown",
   "metadata": {},
   "source": [
    "## Plots"
   ]
  },
  {
   "cell_type": "code",
   "execution_count": 40,
   "metadata": {
    "scrolled": false
   },
   "outputs": [
    {
     "name": "stderr",
     "output_type": "stream",
     "text": [
      "21:14 madminer.plotting    DEBUG   Std: [[6.61704364 6.59502215 6.57308889 ... 9.76819177 9.796312   9.82450412]\n",
      " [6.59496606 6.57293014 6.55098232 ... 9.73090974 9.7590076  9.78717739]\n",
      " [6.57297667 6.55092642 6.52896417 ... 9.69373014 9.72180568 9.74995318]\n",
      " ...\n",
      " [9.74995318 9.72180568 9.69373014 ... 6.52896417 6.55092642 6.57297667]\n",
      " [9.78717739 9.7590076  9.73090974 ... 6.55098232 6.57293014 6.59496606]\n",
      " [9.82450412 9.796312   9.76819177 ... 6.57308889 6.59502215 6.61704364]]\n",
      "21:14 madminer.plotting    DEBUG   Std: [[0.03381031 0.03360272 0.03339582 ... 0.03215697 0.03235983 0.03256338]\n",
      " [0.03379248 0.03358491 0.03337802 ... 0.03214343 0.03234629 0.03254983]\n",
      " [0.0337747  0.03356714 0.03336026 ... 0.03212993 0.03233279 0.03253633]\n",
      " ...\n",
      " [0.03253633 0.03233279 0.03212993 ... 0.03336026 0.03356714 0.0337747 ]\n",
      " [0.03254983 0.03234629 0.03214343 ... 0.03337802 0.03358491 0.03379248]\n",
      " [0.03256338 0.03235983 0.03215697 ... 0.03339582 0.03360272 0.03381031]]\n",
      "21:14 madminer.plotting    DEBUG   Std: [[0.00120756 0.00121229 0.00121695 ... 0.00936924 0.00940948 0.00944979]\n",
      " [0.00119472 0.00119951 0.00120423 ... 0.00934661 0.00938679 0.00942705]\n",
      " [0.00118186 0.00118671 0.00119149 ... 0.00932401 0.00936413 0.00940432]\n",
      " ...\n",
      " [0.00940432 0.00936413 0.00932401 ... 0.00119149 0.00118671 0.00118186]\n",
      " [0.00942705 0.00938679 0.00934661 ... 0.00120423 0.00119951 0.00119472]\n",
      " [0.00944979 0.00940948 0.00936924 ... 0.00121695 0.00121229 0.00120756]]\n",
      "21:14 madminer.plotting    DEBUG   Std: [[1.42543550e-05 1.42265801e-05 1.41988316e-05 ... 2.35977195e-06\n",
      "  2.34772533e-06 2.33570506e-06]\n",
      " [1.41870347e-05 1.41593262e-05 1.41316441e-05 ... 2.33211392e-06\n",
      "  2.32013374e-06 2.30817990e-06]\n",
      " [1.41198730e-05 1.40922309e-05 1.40646153e-05 ... 2.30461449e-06\n",
      "  2.29270074e-06 2.28081334e-06]\n",
      " ...\n",
      " [2.28081334e-06 2.29270074e-06 2.30461449e-06 ... 1.40646153e-05\n",
      "  1.40922309e-05 1.41198730e-05]\n",
      " [2.30817990e-06 2.32013374e-06 2.33211392e-06 ... 1.41316441e-05\n",
      "  1.41593262e-05 1.41870347e-05]\n",
      " [2.33570506e-06 2.34772533e-06 2.35977195e-06 ... 1.41988316e-05\n",
      "  1.42265801e-05 1.42543550e-05]]\n",
      "21:14 matplotlib.axes._bas DEBUG   update_title_pos\n",
      "21:14 matplotlib.axes._bas DEBUG   update_title_pos\n",
      "21:14 matplotlib.backends. DEBUG   Assigning font /b'F1' = '/Users/johannbrehmer/anaconda3/envs/higgs_inference/lib/python3.6/site-packages/matplotlib/mpl-data/fonts/ttf/DejaVuSans.ttf'\n",
      "21:14 matplotlib.backends. DEBUG   Assigning font /b'F2' = '/Users/johannbrehmer/anaconda3/envs/higgs_inference/lib/python3.6/site-packages/matplotlib/mpl-data/fonts/ttf/DejaVuSans-Oblique.ttf'\n",
      "21:14 matplotlib.backends. DEBUG   Embedding font /Users/johannbrehmer/anaconda3/envs/higgs_inference/lib/python3.6/site-packages/matplotlib/mpl-data/fonts/ttf/DejaVuSans-Oblique.ttf.\n",
      "21:14 matplotlib.backends. DEBUG   Writing TrueType font.\n",
      "21:14 matplotlib.backends. DEBUG   Embedding font /Users/johannbrehmer/anaconda3/envs/higgs_inference/lib/python3.6/site-packages/matplotlib/mpl-data/fonts/ttf/DejaVuSans.ttf.\n",
      "21:14 matplotlib.backends. DEBUG   Writing TrueType font.\n",
      "21:14 matplotlib.axes._bas DEBUG   update_title_pos\n",
      "21:14 matplotlib.axes._bas DEBUG   update_title_pos\n",
      "21:14 matplotlib.axes._bas DEBUG   update_title_pos\n",
      "21:14 matplotlib.axes._bas DEBUG   update_title_pos\n",
      "21:14 matplotlib.axes._bas DEBUG   update_title_pos\n"
     ]
    },
    {
     "data": {
      "image/png": "[encoded data removed]",
      "text/plain": [
       "<Figure size 360x360 with 1 Axes>"
      ]
     },
     "metadata": {
      "needs_background": "light"
     },
     "output_type": "display_data"
    }
   ],
   "source": [
    "fig = make_plot('', xmax=0.004, indices=[0,2,8,11])\n",
    "\n",
    "plt.savefig(\"../../figures/wgamma/information_wgamma.pdf\")"
   ]
  },
  {
   "cell_type": "code",
   "execution_count": null,
   "metadata": {},
   "outputs": [],
   "source": []
  }
 ],
 "metadata": {
  "kernelspec": {
   "display_name": "Python 3",
   "language": "python",
   "name": "python3"
  },
  "language_info": {
   "codemirror_mode": {
    "name": "ipython",
    "version": 3
   },
   "file_extension": ".py",
   "mimetype": "text/x-python",
   "name": "python",
   "nbconvert_exporter": "python",
   "pygments_lexer": "ipython3",
   "version": "3.6.7"
  }
 },
 "nbformat": 4,
 "nbformat_minor": 2
}
