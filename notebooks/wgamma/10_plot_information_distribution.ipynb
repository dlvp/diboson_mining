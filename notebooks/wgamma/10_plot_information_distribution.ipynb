{
 "cells": [
  {
   "cell_type": "markdown",
   "metadata": {},
   "source": [
    "# Plot distribution of information density\n",
    "\n",
    "Johann Brehmer, Kyle Cranmer, Marco Farina, Felix Kling, Duccio Pappadopulo, Josh Ruderman 2018"
   ]
  },
  {
   "cell_type": "code",
   "execution_count": 1,
   "metadata": {},
   "outputs": [],
   "source": [
    "from __future__ import absolute_import, division, print_function, unicode_literals\n",
    "\n",
    "import numpy as np\n",
    "import matplotlib\n",
    "from matplotlib import pyplot as plt\n",
    "%matplotlib inline\n",
    "import logging\n",
    "import os\n",
    "\n",
    "import madminer.core\n",
    "from madminer.fisherinformation import FisherInformation, profile_information, project_information\n"
   ]
  },
  {
   "cell_type": "code",
   "execution_count": 2,
   "metadata": {},
   "outputs": [],
   "source": [
    "logging.basicConfig(\n",
    "    format='%(asctime)-5.5s %(name)-20.20s %(levelname)-7.7s %(message)s',\n",
    "    datefmt='%H:%M',\n",
    "    level=logging.INFO\n",
    ")\n",
    "\n",
    "for key in logging.Logger.manager.loggerDict:\n",
    "    if \"madminer\" not in key:\n",
    "        logging.getLogger(key).setLevel(logging.WARNING)"
   ]
  },
  {
   "cell_type": "code",
   "execution_count": 3,
   "metadata": {},
   "outputs": [],
   "source": [
    "base_dir = '/Users/johannbrehmer/work/projects/madminer/diboson_mining/'\n",
    "mg_dir = '/Users/johannbrehmer/work/projects/madminer/MG5_aMC_v2_6_4/'"
   ]
  },
  {
   "cell_type": "code",
   "execution_count": 4,
   "metadata": {},
   "outputs": [],
   "source": [
    "sample_dir = base_dir + 'data/samples/wgamma_sys/'\n",
    "card_dir = base_dir + 'cards/wgamma/'\n",
    "ufo_model_dir = card_dir + 'SMWgamma_UFO'\n",
    "run_card_dir = card_dir + 'run_cards/'\n",
    "mg_process_dir = base_dir + 'data/mg_processes/wgamma_sys/'\n",
    "log_dir = base_dir + 'logs/wgamma/'\n",
    "temp_dir = base_dir + 'data/temp'\n",
    "delphes_dir = mg_dir + 'Delphes'\n",
    "model_dir = base_dir + 'data/models/wgamma_sys/'\n",
    "result_dir = base_dir + 'data/results/wgamma_sys/'"
   ]
  },
  {
   "cell_type": "markdown",
   "metadata": {},
   "source": [
    "## Main function"
   ]
  },
  {
   "cell_type": "code",
   "execution_count": 5,
   "metadata": {},
   "outputs": [],
   "source": [
    "def calculate_info_distribution(\n",
    "    observable, \n",
    "    nbins,\n",
    "    histrange,\n",
    "    component='det',\n",
    "    madminer_file='samples.h5',\n",
    "    model_file=None,\n",
    "    luminosity=300000.0,\n",
    "):\n",
    "    fisher = FisherInformation(madminer_file)\n",
    "    \n",
    "    boundaries, xsecs, rate_infos, full_infos = fisher.histogram_of_fisher_information(\n",
    "        theta=np.array([0.,0.]),\n",
    "        observable=observable,\n",
    "        nbins=nbins,\n",
    "        histrange=histrange,\n",
    "        model_file=model_file,\n",
    "        luminosity=luminosity,\n",
    "        cuts=None,\n",
    "        efficiency_functions=None,\n",
    "        batch_size=100000,\n",
    "        test_split=0.5,\n",
    "    )\n",
    "    \n",
    "    if component == 'det':\n",
    "        rate_infos = [np.linalg.det(inf) for inf in rate_infos]\n",
    "        full_infos = [np.linalg.det(inf) for inf in full_infos]\n",
    "    else:\n",
    "        rate_infos = [inf[component[0], component[1]] for inf in rate_infos]\n",
    "        full_infos = [inf[component[0], component[1]] for inf in full_infos]\n",
    "        \n",
    "    return boundaries, xsecs, rate_infos, full_infos\n"
   ]
  },
  {
   "cell_type": "markdown",
   "metadata": {},
   "source": [
    "## Observables"
   ]
  },
  {
   "cell_type": "code",
   "execution_count": 37,
   "metadata": {},
   "outputs": [],
   "source": [
    "observables = ['et_miss', 'pt_a1', 'pt_l1']\n",
    "obs_min     = [       0.,      0.,      0.]\n",
    "obs_max     = [     600.,    600.,    600.]\n",
    "obs_labels  = [    'MET',r'$p_T(\\gamma)$',r'$p_T(\\ell)$']\n",
    "\n",
    "nbins = 20"
   ]
  },
  {
   "cell_type": "markdown",
   "metadata": {},
   "source": [
    "## Settings"
   ]
  },
  {
   "cell_type": "code",
   "execution_count": null,
   "metadata": {},
   "outputs": [],
   "source": [
    "i_ref = 0\n",
    "\n",
    "madminer_files = ['samples.h5', 'samples_tight.h5', 'samples_antitight.h5', \"samples_tight.h5\"]\n",
    "model_files    = [\"sally_ensemble_all\", \"sally_ensemble_all_tight\", \"sally_ensemble_all_antitight\", \"sally_ensemble_pta_phi_tight\"]\n",
    "\n",
    "inf_labels = [\"all\", \"cuts\", \"fail cuts\", r\"$\\varphi, p_T(\\gamma)$\"]\n",
    "\n",
    "linestyles = ['-', '--', '-.', '--']\n",
    "colors     = ['mediumblue', 'darkgreen', 'red', 'darkorange']"
   ]
  },
  {
   "cell_type": "code",
   "execution_count": 39,
   "metadata": {},
   "outputs": [],
   "source": [
    "component=(0,0)\n",
    "luminosity=30000.0"
   ]
  },
  {
   "cell_type": "markdown",
   "metadata": {},
   "source": [
    "## Calculate Fisher infos"
   ]
  },
  {
   "cell_type": "code",
   "execution_count": null,
   "metadata": {},
   "outputs": [
    {
     "name": "stderr",
     "output_type": "stream",
     "text": [
      "21:29 madminer.fisherinfor INFO    Loading data from /Users/johannbrehmer/work/projects/madminer/diboson_mining/data/samples/wgamma_sys/samples.h5\n",
      "21:29 madminer.fisherinfor INFO    Found 2 parameters\n",
      "21:29 madminer.fisherinfor INFO    Found 32 nuisance parameters\n",
      "21:29 madminer.fisherinfor INFO    Found 45 benchmarks, of which 6 physical\n",
      "21:29 madminer.fisherinfor INFO    Found 33 observables: et_miss, phi_miss, e_visible, eta_visible, e_l1, pt_l1, eta_l1, phi_l1, e_a1, pt_a1, eta_a1, phi_a1, e_j1, pt_j1, eta_j1, phi_j1, pdgid_l1, m_la, m_lmet, m_amet, pt_la, pt_lmet, pt_amet, deltaphi_la, deltaphi_lmet, deltaphi_amet, deltaeta_la, m_almet, pt_almet, mt, phi_minus, phi_plus, phi\n",
      "21:29 madminer.fisherinfor INFO    Found 1341798 events\n",
      "21:29 madminer.fisherinfor INFO    Found morphing setup with 6 components\n",
      "21:29 madminer.fisherinfor INFO    Found nuisance morphing setup\n",
      "21:29 madminer.ml          INFO    Found ensemble with 10 estimators and expectations None\n",
      "21:29 madminer.fisherinfor INFO    Evaluating kinematic Fisher information on batch 1 / 7\n",
      "21:30 madminer.fisherinfor INFO    Evaluating kinematic Fisher information on batch 2 / 7\n",
      "21:30 madminer.fisherinfor INFO    Evaluating kinematic Fisher information on batch 3 / 7\n",
      "21:31 madminer.fisherinfor INFO    Evaluating kinematic Fisher information on batch 4 / 7\n",
      "21:31 madminer.fisherinfor INFO    Evaluating kinematic Fisher information on batch 5 / 7\n",
      "21:31 madminer.fisherinfor INFO    Evaluating kinematic Fisher information on batch 6 / 7\n",
      "21:32 madminer.fisherinfor INFO    Evaluating kinematic Fisher information on batch 7 / 7\n",
      "/Users/johannbrehmer/work/projects/madminer/madminer/madminer/fisherinformation.py:1345: RuntimeWarning: divide by zero encountered in true_divide\n",
      "  inv_sigma = sanitize_array(1.0 / sigma)  # Shape (n_events,)\n",
      "/Users/johannbrehmer/work/projects/madminer/madminer/madminer/morphing.py:697: RuntimeWarning: invalid value encountered in true_divide\n",
      "  a.append(0.5 * np.log(benchmark_weights[:, i_pos] / benchmark_weights[:, i_neg]))\n",
      "/Users/johannbrehmer/work/projects/madminer/madminer/madminer/morphing.py:695: RuntimeWarning: invalid value encountered in true_divide\n",
      "  a.append(np.log(benchmark_weights[:, i_pos] / benchmark_weights[:, self.i_benchmark_ref]))\n"
     ]
    }
   ],
   "source": [
    "all_infos = []\n",
    "all_xsecs = []\n",
    "all_boundaries = []\n",
    "\n",
    "for madminer_file, model_file in zip(madminer_files, model_files):\n",
    "    model_infos = []\n",
    "    model_xsecs = []\n",
    "    model_boundaries = []\n",
    "    \n",
    "    for obs, omin, omax in zip(observables, obs_min, obs_max):\n",
    "        boundaries, xsecs, _, full_infos = calculate_info_distribution(\n",
    "            observable=obs, \n",
    "            nbins=nbins,\n",
    "            histrange=(omin, omax),\n",
    "            component=component,\n",
    "            madminer_file=sample_dir + madminer_file,\n",
    "            model_file=model_dir + model_file,\n",
    "            luminosity=luminosity,\n",
    "        )\n",
    "        \n",
    "        model_boundaries.append(boundaries)\n",
    "        model_infos.append(full_infos)\n",
    "        model_xsecs.append(xsecs)\n",
    "    \n",
    "    all_infos.append(model_infos)\n",
    "    all_xsecs.append(model_xsecs)\n",
    "    all_boundaries.append(model_boundaries)\n"
   ]
  },
  {
   "cell_type": "markdown",
   "metadata": {},
   "source": [
    "## Main plot distributions"
   ]
  },
  {
   "cell_type": "code",
   "execution_count": null,
   "metadata": {},
   "outputs": [],
   "source": [
    "fig = plt.figure(figsize=(15,4))\n",
    "\n",
    "for i_obs, (obs, omin, omax) in enumerate(zip(obs_labels, obs_min, obs_max)):\n",
    "    ax1 = plt.subplot(1,3,i_obs+1)\n",
    "    \n",
    "    #boundaries = np.repeat(all_boundaries[i_ref][i_obs],2)[1:-1]\n",
    "    #xsec = np.repeat(all_xsecs[i_ref][i_obs])\n",
    "    boundaries = np.repeat(model_boundaries[i_obs], 2)\n",
    "    boundaries = np.hstack([[3*boundaries[0]-2* boundaries[2]], boundaries, [3*boundaries[-1]-2*boundaries[-3]]])\n",
    "    xsec = np.repeat(model_xsecs[i_obs], 2)\n",
    "    \n",
    "    plt.plot(boundaries, xsec, lw=1.5, c='black', label='xsec')\n",
    "    \n",
    "    ax2 = plt.twinx(ax=ax1)\n",
    "    \n",
    "    for i_model, (inf_label, color, ls) in enumerate(zip(inf_labels, colors, linestyles)):\n",
    "        infos = all_infos[i_model][i_obs]\n",
    "        infos = np.repeat(infos, 2)\n",
    "        \n",
    "        plt.fill_between(boundaries, 0., infos, alpha=0.15, color=color.format(i_model))\n",
    "        plt.plot(boundaries, infos, lw=1.5, ls=ls, c=color, label=inf_label)\n",
    "        \n",
    "    ax1.set_ylabel(r'Black: $\\sigma [pb / bin]$')\n",
    "    ax2.set_ylabel(r'Color: $I_{00}$')\n",
    "    ax1.set_xlabel(obs)\n",
    "    \n",
    "    plt.xlim(boundaries[0], boundaries[-1])\n",
    "    \n",
    "    plt.legend()\n",
    "\n",
    "plt.tight_layout()\n",
    "plt.savefig('../../figures/wgamma/distribution_of_information.pdf')\n"
   ]
  },
  {
   "cell_type": "code",
   "execution_count": null,
   "metadata": {},
   "outputs": [],
   "source": []
  }
 ],
 "metadata": {
  "kernelspec": {
   "display_name": "Python (higgs_inference)",
   "language": "python",
   "name": "higgs_inference"
  },
  "language_info": {
   "codemirror_mode": {
    "name": "ipython",
    "version": 3
   },
   "file_extension": ".py",
   "mimetype": "text/x-python",
   "name": "python",
   "nbconvert_exporter": "python",
   "pygments_lexer": "ipython3",
   "version": "3.6.7"
  }
 },
 "nbformat": 4,
 "nbformat_minor": 2
}
