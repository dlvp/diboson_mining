{
 "cells": [
  {
   "cell_type": "markdown",
   "metadata": {
    "nbpresent": {
     "id": "f9deb73c-b62f-4cff-8d83-724074098c92"
    }
   },
   "source": [
    "# Train SALLY ensemble\n",
    "\n",
    "Johann Brehmer, Kyle Cranmer, Felix Kling, Duccio Pappadopulo, Josh Ruderman 2018"
   ]
  },
  {
   "cell_type": "code",
   "execution_count": null,
   "metadata": {
    "nbpresent": {
     "id": "fe57a76c-4838-44c4-b0cc-5ee166785e4a"
    }
   },
   "outputs": [],
   "source": [
    "from __future__ import absolute_import, division, print_function, unicode_literals\n",
    "\n",
    "import numpy as np\n",
    "import matplotlib\n",
    "from matplotlib import pyplot as plt\n",
    "% matplotlib inline\n",
    "import logging\n",
    "import os\n",
    "\n",
    "from madminer.sampling import SampleAugmenter\n",
    "from madminer.sampling import multiple_benchmark_thetas\n",
    "from madminer.sampling import constant_morphing_theta, multiple_morphing_thetas, random_morphing_thetas\n",
    "from madminer.ml import MLForge, EnsembleForge\n",
    "\n",
    "logging.basicConfig(format='%(asctime)s  %(message)s', datefmt='%H:%M')"
   ]
  },
  {
   "cell_type": "code",
   "execution_count": null,
   "metadata": {
    "nbpresent": {
     "id": "f3463c40-6421-42a1-8681-527c3ec42541"
    }
   },
   "outputs": [],
   "source": [
    "base_dir = '/Users/johannbrehmer/work/projects/madminer/diboson_mining/'\n",
    "mg_dir = '/Users/johannbrehmer/work/projects/madminer/MG5_aMC_v2_6_2/'"
   ]
  },
  {
   "cell_type": "code",
   "execution_count": 3,
   "metadata": {
    "nbpresent": {
     "id": "b2c73eca-c625-4f7a-9cee-4ccb2dcbb3e9"
    }
   },
   "outputs": [],
   "source": [
    "sample_dir = base_dir + 'data/samples/wgamma/'\n",
    "card_dir = base_dir + 'cards/wgamma/'\n",
    "ufo_model_dir = card_dir + 'SMWgamma_UFO'\n",
    "run_card_dir = card_dir + 'run_cards/'\n",
    "mg_process_dir = base_dir + 'data/mg_processes/wgamma/'\n",
    "log_dir = base_dir + 'logs/wgamma/'\n",
    "temp_dir = base_dir + 'data/temp'\n",
    "delphes_dir = mg_dir + 'Delphes'\n",
    "model_dir = base_dir + 'data/models/wgamma/'"
   ]
  },
  {
   "cell_type": "markdown",
   "metadata": {},
   "source": [
    "## Settings"
   ]
  },
  {
   "cell_type": "code",
   "execution_count": 4,
   "metadata": {},
   "outputs": [],
   "source": [
    "n_estimators = 10"
   ]
  },
  {
   "cell_type": "markdown",
   "metadata": {},
   "source": [
    "## Training function"
   ]
  },
  {
   "cell_type": "code",
   "execution_count": 5,
   "metadata": {},
   "outputs": [],
   "source": [
    "def train_ensemble(filename, use_tight_cuts=True, n_estimators=10, **kwargs):\n",
    "    cut_label = '_tight' if use_tight_cuts else ''\n",
    "    \n",
    "    ensemble = EnsembleForge(n_estimators, debug=False)\n",
    "\n",
    "    ensemble.train_all(\n",
    "        method='sally',\n",
    "        x_filename=[sample_dir + 'train_local{}/x_train_{}.npy'.format(cut_label, i) for i in range(n_estimators)],\n",
    "        t_xz0_filename=[sample_dir + 'train_local{}/t_xz_train_{}.npy'.format(cut_label, i) for i in range(n_estimators)],\n",
    "        **kwargs\n",
    "    )\n",
    "\n",
    "    ensemble.calculate_expectation(\n",
    "        x_filename=sample_dir + 'validation{}/x_validation.npy'.format(cut_label)\n",
    "    )\n",
    "\n",
    "    ensemble.save(model_dir + 'sally_ensemble_' + filename)"
   ]
  },
  {
   "cell_type": "markdown",
   "metadata": {
    "nbpresent": {
     "id": "b45e7f73-8f4c-4261-a381-4b7ad6af120f"
    }
   },
   "source": [
    "## All observables"
   ]
  },
  {
   "cell_type": "code",
   "execution_count": null,
   "metadata": {
    "scrolled": false
   },
   "outputs": [],
   "source": [
    "train_ensemble('all', use_tight_cuts=False)"
   ]
  },
  {
   "cell_type": "code",
   "execution_count": null,
   "metadata": {},
   "outputs": [],
   "source": [
    "train_ensemble('all_tight', use_tight_cuts=True)"
   ]
  },
  {
   "cell_type": "markdown",
   "metadata": {},
   "source": [
    "## Minimal observable basis"
   ]
  },
  {
   "cell_type": "code",
   "execution_count": null,
   "metadata": {},
   "outputs": [
    {
     "name": "stderr",
     "output_type": "stream",
     "text": [
      "10:17  \n",
      "10:17  ------------------------------------------------------------\n",
      "10:17  |                                                          |\n",
      "10:17  |  MadMiner v2018.11.06                                    |\n",
      "10:17  |                                                          |\n",
      "10:17  |           Johann Brehmer, Kyle Cranmer, and Felix Kling  |\n",
      "10:17  |                                                          |\n",
      "10:17  ------------------------------------------------------------\n",
      "10:17  \n",
      "10:17  Training 10 estimators in ensemble\n",
      "10:17  Training estimator 1 / 10 in ensemble\n",
      "10:17  Starting training\n",
      "10:17    Method:                 sally\n",
      "10:17    Training data: x at /Users/johannbrehmer/work/projects/madminer/diboson_mining/data/samples/wgamma/train_local/x_train_0.npy\n",
      "10:17                   t_xz (theta0) at  /Users/johannbrehmer/work/projects/madminer/diboson_mining/data/samples/wgamma/train_local/t_xz_train_0.npy\n",
      "10:17    Features:               [0, 5, 6, 7, 9, 10, 11]\n",
      "10:17    Method:                 sally\n",
      "10:17    Hidden layers:          (100, 100)\n",
      "10:17    Activation function:    tanh\n",
      "10:17    Batch size:             128\n",
      "10:17    Trainer:                amsgrad\n",
      "10:17    Epochs:                 50\n",
      "10:17    Learning rate:          0.001 initially, decaying to 0.0001\n",
      "10:17    Validation split:       0.25\n",
      "10:17    Early stopping:         True\n",
      "10:17    Scale inputs:           True\n",
      "10:17    Regularization:         None\n",
      "10:17  Loading training data\n",
      "10:17  Found 1000000 samples with 2 parameters and 27 observables\n",
      "10:17  Rescaling inputs\n",
      "10:17  Only using 7 of 27 observables\n",
      "10:17  Creating model for method sally\n",
      "10:17  Training model\n",
      "10:22    Epoch 5: train loss 42.6732 (mse_score: 42.6732)\n",
      "10:22              val. loss  35.8175 (mse_score: 35.8175) (*)\n",
      "10:26    Epoch 10: train loss 42.6135 (mse_score: 42.6135)\n",
      "10:26              val. loss  35.8124 (mse_score: 35.8124)\n",
      "10:30    Epoch 15: train loss 42.5128 (mse_score: 42.5128)\n",
      "10:30              val. loss  35.8295 (mse_score: 35.8295)\n",
      "10:34    Epoch 20: train loss 42.3958 (mse_score: 42.3958)\n",
      "10:34              val. loss  35.8434 (mse_score: 35.8434)\n",
      "10:38    Epoch 25: train loss 42.2665 (mse_score: 42.2665)\n",
      "10:38              val. loss  35.8651 (mse_score: 35.8651)\n",
      "10:43    Epoch 30: train loss 42.1480 (mse_score: 42.1480)\n",
      "10:43              val. loss  35.9187 (mse_score: 35.9187)\n",
      "10:47    Epoch 35: train loss 42.0465 (mse_score: 42.0465)\n",
      "10:47              val. loss  35.9341 (mse_score: 35.9341)\n",
      "10:50    Epoch 40: train loss 41.9756 (mse_score: 41.9756)\n",
      "10:50              val. loss  35.9494 (mse_score: 35.9494)\n",
      "10:53    Epoch 45: train loss 41.8905 (mse_score: 41.8905)\n",
      "10:53              val. loss  35.9605 (mse_score: 35.9605)\n",
      "10:57    Epoch 50: train loss 41.8482 (mse_score: 41.8482)\n",
      "10:57              val. loss  35.9768 (mse_score: 35.9768)\n",
      "10:57  Early stopping after epoch 8, with loss 35.81 compared to final loss 35.98\n",
      "10:57  Finished training\n",
      "10:57  Training estimator 2 / 10 in ensemble\n",
      "10:57  Starting training\n",
      "10:57    Method:                 sally\n",
      "10:57    Training data: x at /Users/johannbrehmer/work/projects/madminer/diboson_mining/data/samples/wgamma/train_local/x_train_1.npy\n",
      "10:57                   t_xz (theta0) at  /Users/johannbrehmer/work/projects/madminer/diboson_mining/data/samples/wgamma/train_local/t_xz_train_1.npy\n",
      "10:57    Features:               [0, 5, 6, 7, 9, 10, 11]\n",
      "10:57    Method:                 sally\n",
      "10:57    Hidden layers:          (100, 100)\n",
      "10:57    Activation function:    tanh\n",
      "10:57    Batch size:             128\n",
      "10:57    Trainer:                amsgrad\n",
      "10:57    Epochs:                 50\n",
      "10:57    Learning rate:          0.001 initially, decaying to 0.0001\n",
      "10:57    Validation split:       0.25\n",
      "10:57    Early stopping:         True\n",
      "10:57    Scale inputs:           True\n",
      "10:57    Regularization:         None\n",
      "10:57  Loading training data\n",
      "10:57  Found 1000000 samples with 2 parameters and 27 observables\n",
      "10:57  Rescaling inputs\n",
      "10:57  Only using 7 of 27 observables\n",
      "10:57  Creating model for method sally\n",
      "10:57  Training model\n"
     ]
    }
   ],
   "source": [
    "train_ensemble(\n",
    "    'minimal',\n",
    "    use_tight_cuts=False,\n",
    "    features=[[0,5,6,7,9,10,11] for _ in range(10)]\n",
    ")"
   ]
  },
  {
   "cell_type": "code",
   "execution_count": null,
   "metadata": {},
   "outputs": [],
   "source": [
    "train_ensemble(\n",
    "    'minimal_tight',\n",
    "    use_tight_cuts=True,\n",
    "    features=[[0,5,6,7,9,10,11] for _ in range(10)]\n",
    ")"
   ]
  },
  {
   "cell_type": "code",
   "execution_count": null,
   "metadata": {},
   "outputs": [],
   "source": [
    "train_ensemble(\n",
    "    'minimal_reg',\n",
    "    use_tight_cuts=False,\n",
    "    grad_x_regularization=0.1,\n",
    "    features=[[0,5,6,7,9,10,11] for _ in range(10)]\n",
    ")"
   ]
  },
  {
   "cell_type": "code",
   "execution_count": null,
   "metadata": {},
   "outputs": [],
   "source": [
    "train_ensemble(\n",
    "    'minimal_tight_reg',\n",
    "    use_tight_cuts=True,\n",
    "    grad_x_regularization=0.1,\n",
    "    features=[[0,5,6,7,9,10,11] for _ in range(10)]\n",
    ")"
   ]
  },
  {
   "cell_type": "markdown",
   "metadata": {},
   "source": [
    "## Just resurrection phi"
   ]
  },
  {
   "cell_type": "code",
   "execution_count": null,
   "metadata": {},
   "outputs": [],
   "source": [
    "train_ensemble(\n",
    "    'resurrection',\n",
    "    use_tight_cuts=True,\n",
    "    features=[[26] for _ in range(10)]\n",
    ")"
   ]
  },
  {
   "cell_type": "code",
   "execution_count": null,
   "metadata": {},
   "outputs": [],
   "source": []
  }
 ],
 "metadata": {
  "kernelspec": {
   "display_name": "Python [default]",
   "language": "python",
   "name": "python3"
  },
  "language_info": {
   "codemirror_mode": {
    "name": "ipython",
    "version": 3
   },
   "file_extension": ".py",
   "mimetype": "text/x-python",
   "name": "python",
   "nbconvert_exporter": "python",
   "pygments_lexer": "ipython3",
   "version": "3.6.4"
  }
 },
 "nbformat": 4,
 "nbformat_minor": 2
}
