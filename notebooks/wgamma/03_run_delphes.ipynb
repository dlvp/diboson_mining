{
 "cells": [
  {
   "cell_type": "markdown",
   "metadata": {},
   "source": [
    "# Run Delphes and extract observables\n",
    "\n",
    "Johann Brehmer, Kyle Cranmer, Felix Kling, Duccio Pappadopulo, Josh Ruderman 2018"
   ]
  },
  {
   "cell_type": "code",
   "execution_count": 17,
   "metadata": {},
   "outputs": [],
   "source": [
    "from __future__ import absolute_import, division, print_function, unicode_literals\n",
    "\n",
    "import numpy as np\n",
    "import matplotlib\n",
    "from matplotlib import pyplot as plt\n",
    "% matplotlib inline\n",
    "import logging\n",
    "import os\n",
    "import math\n",
    "from collections import OrderedDict\n",
    "\n",
    "from madminer.delphes import DelphesProcessor\n",
    "from madminer.sampling import combine_and_shuffle\n",
    "from madminer.utils.particle import MadMinerParticle\n",
    "\n",
    "logging.basicConfig(format='%(asctime)s  %(message)s', datefmt='%H:%M')\n"
   ]
  },
  {
   "cell_type": "code",
   "execution_count": 2,
   "metadata": {},
   "outputs": [],
   "source": [
    "base_dir = '/Users/johannbrehmer/work/projects/madminer/diboson_mining/'\n",
    "mg_dir = '/Users/johannbrehmer/work/projects/madminer/MG5_aMC_v2_6_2/'"
   ]
  },
  {
   "cell_type": "code",
   "execution_count": 3,
   "metadata": {},
   "outputs": [],
   "source": [
    "sample_dir = base_dir + 'data/samples/wgamma/'\n",
    "card_dir = base_dir + 'cards/wgamma/'\n",
    "ufo_model_dir = card_dir + 'SMWgamma_UFO'\n",
    "run_card_dir = card_dir + 'run_cards/'\n",
    "mg_process_dir = base_dir + 'data/mg_processes/wgamma/'\n",
    "log_dir = base_dir + 'logs/wgamma/'\n",
    "temp_dir = base_dir + 'data/temp'\n",
    "delphes_dir = mg_dir + 'Delphes'"
   ]
  },
  {
   "cell_type": "markdown",
   "metadata": {},
   "source": [
    "## Observables and cuts"
   ]
  },
  {
   "cell_type": "code",
   "execution_count": 18,
   "metadata": {},
   "outputs": [],
   "source": [
    "def resurrection_phi(leptons, photons, jets, met):\n",
    "    # Parameters\n",
    "    mw = 80.4\n",
    "    \n",
    "    # Particles\n",
    "    if len(leptons) < 1 or len(photons) < 1:\n",
    "        raise RuntimeError()\n",
    "    \n",
    "    l = leptons[0]\n",
    "    a = photons[0]\n",
    "    \n",
    "    # Transverse mass and Delta\n",
    "    mt = (mw**2 + (l+a).pt**2)**0.5\n",
    "    deltasq = 0.\n",
    "    if met.pt > 0. and l.pt > 0.:\n",
    "        deltasq = (mw**2 - mt**2) / (2. * met.pt * l.pt)\n",
    "        \n",
    "    logging.debug('  Delta^2: %s', deltasq)\n",
    "    \n",
    "    # v reconstruction, \"normal\" case\n",
    "    if deltasq > 0.:\n",
    "        # Two solutions\n",
    "        temp = np.log(1 + deltasq**0.5 * (2 + deltasq)**0.5 + deltasq)\n",
    "        eta_v_plus = l.eta + temp\n",
    "        eta_v_minus = l.eta - temp\n",
    "        \n",
    "        # Randomly select one of them\n",
    "        dice = np.random.rand()\n",
    "        if dice > 0.5:\n",
    "            eta_v = eta_v_plus\n",
    "        else:\n",
    "            eta_v = eta_v_minus\n",
    "            \n",
    "    # v reconstruction, \"other\" case\n",
    "    else:\n",
    "        eta_v = l.eta\n",
    "        \n",
    "    logging.debug('  eta(v): %s', eta_v)\n",
    "        \n",
    "    # v particle\n",
    "    v = MadMinerParticle()\n",
    "    v.setptetaphim(met.pt, eta_v, met.phi(), 0.)\n",
    "    \n",
    "    # W and Wgamma reconstruction\n",
    "    w = l + v\n",
    "    vv = l + v + a\n",
    "    \n",
    "    # Boost into VV frame\n",
    "    v_ = v.boost(vv.boostvector())\n",
    "    l_ = l.boost(vv.boostvector())\n",
    "    a_ = a.boost(vv.boostvector())\n",
    "    w_ = w.boost(vv.boostvector())\n",
    "    r_ = vv.boost(vv.boostvector())\n",
    "\n",
    "    # Calculate axes of \"special frame\" (1708.07823)\n",
    "    z_ = w_.vector / w_.p\n",
    "    x_ = r_.vector - (r_.vector * z_) * z_\n",
    "    x_ /= x_.mag\n",
    "    y_ = z_.cross(x_)\n",
    "    \n",
    "    # Calculate x and y components of lepton wrt special x_, y_, z_ system\n",
    "    lx_ = l.vector.dot(x_)\n",
    "    ly_ = l.vector.dot(y_)\n",
    "    \n",
    "    # Calculate phi\n",
    "    phi = math.atan2(ly_, lx_)\n",
    "    \n",
    "    return phi\n",
    "    "
   ]
  },
  {
   "cell_type": "code",
   "execution_count": 19,
   "metadata": {},
   "outputs": [],
   "source": [
    "# Number of particles considered\n",
    "n_leptons = 1\n",
    "n_photons = 1\n",
    "n_jets = 1\n",
    "\n",
    "def setup_observables(delphesprocessor):\n",
    "    delphesprocessor.observables = OrderedDict()\n",
    "    delphesprocessor.observables_required = OrderedDict()\n",
    "    delphesprocessor.observables_defaults = OrderedDict()\n",
    "        \n",
    "    if False:\n",
    "        # Default observables\n",
    "        delphesprocessor.add_default_observables(\n",
    "            n_leptons_max=n_leptons,\n",
    "            n_photons_max=n_photons,\n",
    "            n_jets_max=n_jets\n",
    "        )\n",
    "\n",
    "        # Correlations with MET\n",
    "        for s1, i1 in [('l', 0), ('a', 0)]:\n",
    "            delphesprocessor.add_observable(\n",
    "                'deltaphi_{}{}_met'.format(s1, i1+1),\n",
    "                '{}[{}].phi() - met.phi()'.format(s1, i1),\n",
    "                required=True\n",
    "            )\n",
    "\n",
    "        # Reconstructed W\n",
    "        delphesprocessor.add_observable(\n",
    "            'm_l0_met',\n",
    "            '(l[0] + met).m',\n",
    "            required=True\n",
    "        )\n",
    "        delphesprocessor.add_observable(\n",
    "            'pt_l0_met',\n",
    "            '(l[0] + met).pt',\n",
    "            required=True\n",
    "        )\n",
    "\n",
    "        # Selected correlations between particles\n",
    "        for s1, i1, s2, i2 in [('l', 0, 'a', 0)]:\n",
    "            delphesprocessor.add_observable(\n",
    "                'm_{}{}_{}{}'.format(s1, i1+1, s2, i2+1),\n",
    "                '({}[{}] + {}[{}]).m'.format(s1, i1, s2, i2),\n",
    "                required=True\n",
    "            )\n",
    "            delphesprocessor.add_observable(\n",
    "                'deltaeta_{}{}_{}{}'.format(s1, i1+1, s2, i2+1),\n",
    "                '{}[{}].eta - {}[{}].eta'.format(s1, i1, s2, i2),\n",
    "                required=True\n",
    "            )\n",
    "            delphesprocessor.add_observable(\n",
    "                'deltaphi_{}{}_{}{}'.format(s1, i1+1, s2, i2+1),\n",
    "                '{}[{}].phi() - {}[{}].phi()'.format(s1, i1, s2, i2),\n",
    "                required=True\n",
    "            )\n",
    "\n",
    "        # Wgamma system\n",
    "        delphesprocessor.add_observable(\n",
    "            'm_a0_l0_met',\n",
    "            '(a[0] + l[0] + met).m',\n",
    "            required=True\n",
    "        )\n",
    "        delphesprocessor.add_observable(\n",
    "            'pt_a0_l0_met',\n",
    "            '(a[0] + l[0] + met).pt',\n",
    "            required=True\n",
    "        )\n",
    "    \n",
    "    # Resurection phi\n",
    "    delphesprocessor.add_observable_from_function(\n",
    "        'phi_resurrection',\n",
    "        resurrection_phi,\n",
    "        required=True\n",
    "    )\n"
   ]
  },
  {
   "cell_type": "code",
   "execution_count": 13,
   "metadata": {},
   "outputs": [],
   "source": [
    "def setup_cuts(delphesprocessor):\n",
    "    delphesprocessor.add_cut(\n",
    "        'n_ls > 0.1'\n",
    "    )\n",
    "    delphesprocessor.add_cut(\n",
    "        'n_as > 0.1'\n",
    "    )\n",
    "    delphesprocessor.add_cut(\n",
    "        'et_miss >= 10.'\n",
    "    )"
   ]
  },
  {
   "cell_type": "markdown",
   "metadata": {},
   "source": [
    "## Main loop"
   ]
  },
  {
   "cell_type": "code",
   "execution_count": 14,
   "metadata": {},
   "outputs": [],
   "source": [
    "n_runs_per_benchmark = 18  # Number of run_cards"
   ]
  },
  {
   "cell_type": "code",
   "execution_count": 15,
   "metadata": {},
   "outputs": [
    {
     "name": "stderr",
     "output_type": "stream",
     "text": [
      "14:57  Starting analysis of runs for card 14\n",
      "14:57  Benchmarks found in MadMiner file: ['sm', 'morphing_basis_vector_1', 'morphing_basis_vector_2', 'morphing_basis_vector_3', 'morphing_basis_vector_4', 'morphing_basis_vector_5']\n",
      "14:57  Adding HepMC sample at /Users/johannbrehmer/work/projects/madminer/diboson_mining/data/mg_processes/wgamma/Events/run_01/tag_2_pythia8_events.hepmc.gz\n",
      "14:57  Calling gunzip -k /Users/johannbrehmer/work/projects/madminer/diboson_mining/data/mg_processes/wgamma/Events/run_01/tag_2_pythia8_events.hepmc.gz > None\n",
      "14:57  Found weight labels in HEPMC file: ['sm', 'morphing_basis_vector_1', 'morphing_basis_vector_2', 'morphing_basis_vector_3', 'morphing_basis_vector_4', 'morphing_basis_vector_5']\n",
      "14:57  Running Delphes (/Users/johannbrehmer/work/projects/madminer/MG5_aMC_v2_6_2/Delphes) on event sample at /Users/johannbrehmer/work/projects/madminer/diboson_mining/data/mg_processes/wgamma/Events/run_01/tag_2_pythia8_events.hepmc.gz\n",
      "14:57  Unzipping /Users/johannbrehmer/work/projects/madminer/diboson_mining/data/mg_processes/wgamma/Events/run_01/tag_2_pythia8_events.hepmc.gz\n",
      "14:57  Calling source activate python2; /Users/johannbrehmer/work/projects/madminer/MG5_aMC_v2_6_2/Delphes/DelphesHepMC /Users/johannbrehmer/work/projects/madminer/diboson_mining/cards/wgamma/delphes_card.dat /Users/johannbrehmer/work/projects/madminer/diboson_mining/data/mg_processes/wgamma/Events/run_01/tag_2_pythia8_events_delphes.root /Users/johannbrehmer/work/projects/madminer/diboson_mining/data/mg_processes/wgamma/Events/run_01/tag_2_pythia8_events.hepmc > /Users/johannbrehmer/work/projects/madminer/diboson_mining/logs/wgamma//delphes.log\n",
      "15:03  Deleting /Users/johannbrehmer/work/projects/madminer/diboson_mining/data/mg_processes/wgamma/Events/run_01/tag_2_pythia8_events.hepmc\n",
      "15:03  Adding required observable phi_resurrection defined through external function\n",
      "15:03  Adding cut n_ls > 0.1\n",
      "15:03  Adding cut n_as > 0.1\n",
      "15:03  Adding cut et_miss >= 10.\n",
      "15:03  Analysing Delphes sample /Users/johannbrehmer/work/projects/madminer/diboson_mining/data/mg_processes/wgamma/Events/run_01/tag_2_pythia8_events_delphes.root\n",
      "15:03    Delta^2: -0.2945730027999878\n",
      "15:03    eta(v): -0.5641627598626915\n"
     ]
    },
    {
     "ename": "AttributeError",
     "evalue": "'MadMinerParticle' object has no attribute 'boost_vector'",
     "output_type": "error",
     "traceback": [
      "\u001b[0;31m---------------------------------------------------------------------------\u001b[0m",
      "\u001b[0;31mAttributeError\u001b[0m                            Traceback (most recent call last)",
      "\u001b[0;32m<ipython-input-15-f5ac2d6e78ff>\u001b[0m in \u001b[0;36m<module>\u001b[0;34m()\u001b[0m\n\u001b[1;32m     35\u001b[0m \u001b[0;34m\u001b[0m\u001b[0m\n\u001b[1;32m     36\u001b[0m     \u001b[0;31m# Analyse Delphes sample\u001b[0m\u001b[0;34m\u001b[0m\u001b[0;34m\u001b[0m\u001b[0m\n\u001b[0;32m---> 37\u001b[0;31m     \u001b[0mdp\u001b[0m\u001b[0;34m.\u001b[0m\u001b[0manalyse_delphes_samples\u001b[0m\u001b[0;34m(\u001b[0m\u001b[0mdelete_delphes_files\u001b[0m\u001b[0;34m=\u001b[0m\u001b[0;32mTrue\u001b[0m\u001b[0;34m)\u001b[0m\u001b[0;34m\u001b[0m\u001b[0m\n\u001b[0m\u001b[1;32m     38\u001b[0m \u001b[0;34m\u001b[0m\u001b[0m\n\u001b[1;32m     39\u001b[0m     \u001b[0;31m# Save\u001b[0m\u001b[0;34m\u001b[0m\u001b[0;34m\u001b[0m\u001b[0m\n",
      "\u001b[0;32m~/work/projects/madminer/madminer/madminer/delphes.py\u001b[0m in \u001b[0;36manalyse_delphes_samples\u001b[0;34m(self, delete_delphes_files)\u001b[0m\n\u001b[1;32m    422\u001b[0m                 \u001b[0mself\u001b[0m\u001b[0;34m.\u001b[0m\u001b[0mcuts_default_pass\u001b[0m\u001b[0;34m,\u001b[0m\u001b[0;34m\u001b[0m\u001b[0m\n\u001b[1;32m    423\u001b[0m                 \u001b[0mweight_labels\u001b[0m\u001b[0;34m,\u001b[0m\u001b[0;34m\u001b[0m\u001b[0m\n\u001b[0;32m--> 424\u001b[0;31m                 \u001b[0mdelete_delphes_sample_file\u001b[0m\u001b[0;34m=\u001b[0m\u001b[0mdelete_delphes_files\u001b[0m\u001b[0;34m,\u001b[0m\u001b[0;34m\u001b[0m\u001b[0m\n\u001b[0m\u001b[1;32m    425\u001b[0m             )\n\u001b[1;32m    426\u001b[0m \u001b[0;34m\u001b[0m\u001b[0m\n",
      "\u001b[0;32m~/work/projects/madminer/madminer/madminer/utils/interfaces/root.py\u001b[0m in \u001b[0;36mextract_observables_from_delphes_file\u001b[0;34m(delphes_sample_file, observables, observables_required, observables_defaults, cuts, cuts_default_pass, weight_labels, acceptance_pt_min_e, acceptance_pt_min_mu, acceptance_pt_min_a, acceptance_pt_min_j, acceptance_eta_max_e, acceptance_eta_max_mu, acceptance_eta_max_a, acceptance_eta_max_j, delete_delphes_sample_file)\u001b[0m\n\u001b[1;32m    114\u001b[0m                             \u001b[0mphotons_all_events\u001b[0m\u001b[0;34m[\u001b[0m\u001b[0mevent\u001b[0m\u001b[0;34m]\u001b[0m\u001b[0;34m,\u001b[0m\u001b[0;34m\u001b[0m\u001b[0m\n\u001b[1;32m    115\u001b[0m                             \u001b[0mjets_all_events\u001b[0m\u001b[0;34m[\u001b[0m\u001b[0mevent\u001b[0m\u001b[0;34m]\u001b[0m\u001b[0;34m,\u001b[0m\u001b[0;34m\u001b[0m\u001b[0m\n\u001b[0;32m--> 116\u001b[0;31m                             \u001b[0mmet_all_events\u001b[0m\u001b[0;34m[\u001b[0m\u001b[0mevent\u001b[0m\u001b[0;34m]\u001b[0m\u001b[0;34m[\u001b[0m\u001b[0;36m0\u001b[0m\u001b[0;34m]\u001b[0m\u001b[0;34m\u001b[0m\u001b[0m\n\u001b[0m\u001b[1;32m    117\u001b[0m                         )\n\u001b[1;32m    118\u001b[0m                     )\n",
      "\u001b[0;32m<ipython-input-11-9cddd7141c1f>\u001b[0m in \u001b[0;36mresurrection_phi\u001b[0;34m(leptons, photons, jets, met)\u001b[0m\n\u001b[1;32m     47\u001b[0m \u001b[0;34m\u001b[0m\u001b[0m\n\u001b[1;32m     48\u001b[0m     \u001b[0;31m# Boost into VV frame\u001b[0m\u001b[0;34m\u001b[0m\u001b[0;34m\u001b[0m\u001b[0m\n\u001b[0;32m---> 49\u001b[0;31m     \u001b[0mv_\u001b[0m \u001b[0;34m=\u001b[0m \u001b[0mv\u001b[0m\u001b[0;34m.\u001b[0m\u001b[0mboost\u001b[0m\u001b[0;34m(\u001b[0m\u001b[0mvv\u001b[0m\u001b[0;34m.\u001b[0m\u001b[0mboost_vector\u001b[0m\u001b[0;34m(\u001b[0m\u001b[0;34m)\u001b[0m\u001b[0;34m)\u001b[0m\u001b[0;34m\u001b[0m\u001b[0m\n\u001b[0m\u001b[1;32m     50\u001b[0m     \u001b[0ml_\u001b[0m \u001b[0;34m=\u001b[0m \u001b[0ml\u001b[0m\u001b[0;34m.\u001b[0m\u001b[0mboost\u001b[0m\u001b[0;34m(\u001b[0m\u001b[0mvv\u001b[0m\u001b[0;34m.\u001b[0m\u001b[0mboost_vector\u001b[0m\u001b[0;34m(\u001b[0m\u001b[0;34m)\u001b[0m\u001b[0;34m)\u001b[0m\u001b[0;34m\u001b[0m\u001b[0m\n\u001b[1;32m     51\u001b[0m     \u001b[0ma_\u001b[0m \u001b[0;34m=\u001b[0m \u001b[0ma\u001b[0m\u001b[0;34m.\u001b[0m\u001b[0mboost\u001b[0m\u001b[0;34m(\u001b[0m\u001b[0mvv\u001b[0m\u001b[0;34m.\u001b[0m\u001b[0mboost_vector\u001b[0m\u001b[0;34m(\u001b[0m\u001b[0;34m)\u001b[0m\u001b[0;34m)\u001b[0m\u001b[0;34m\u001b[0m\u001b[0m\n",
      "\u001b[0;31mAttributeError\u001b[0m: 'MadMinerParticle' object has no attribute 'boost_vector'"
     ]
    }
   ],
   "source": [
    "run = 0\n",
    "\n",
    "for i_card in range(n_runs_per_benchmark):\n",
    "    logging.info('Starting analysis of runs for card {}'.format(i_card))\n",
    "            \n",
    "    # Load setup\n",
    "    dp = DelphesProcessor(sample_dir + 'setup.h5', debug=True)\n",
    "    \n",
    "    # Load events\n",
    "    for benchmark in ['sm']:\n",
    "        run += 1\n",
    "        run_str = str(run)\n",
    "        if len(run_str) < 2:\n",
    "            run_str = '0' + run_str\n",
    "\n",
    "        dp.add_hepmc_sample(\n",
    "            mg_process_dir + 'Events/run_{}/tag_2_pythia8_events.hepmc.gz'.format(run_str),\n",
    "            sampled_from_benchmark=benchmark\n",
    "        )\n",
    "        \n",
    "    # Run Delphes\n",
    "    dp.run_delphes(\n",
    "        delphes_directory=delphes_dir,\n",
    "        delphes_card=card_dir + 'delphes_card.dat',\n",
    "        log_directory=log_dir,\n",
    "        initial_command='source activate python2',\n",
    "    )\n",
    "    \n",
    "    # Set up observables and cuts\n",
    "    setup_observables(dp)\n",
    "    setup_cuts(dp)\n",
    "    \n",
    "    # Analyse Delphes sample\n",
    "    dp.analyse_delphes_samples(delete_delphes_files=True)\n",
    "        \n",
    "    # Save\n",
    "    dp.save(sample_dir + 'samples_{}.h5'.format(i_card))\n"
   ]
  },
  {
   "cell_type": "markdown",
   "metadata": {},
   "source": [
    "## Combine samples"
   ]
  },
  {
   "cell_type": "code",
   "execution_count": 14,
   "metadata": {},
   "outputs": [
    {
     "name": "stderr",
     "output_type": "stream",
     "text": [
      "19:08  Careful: this tool assumes that all samples are generated with the same setup, including identical benchmarks (and thus morphing setup). If it is used with samples with different settings, there will be wrong results! There are no explicit cross checks in place yet.\n",
      "19:08  Copying setup from /Users/johannbrehmer/work/projects/madminer/diboson_mining/data/samples/wgamma/samples_0.h5 to /Users/johannbrehmer/work/projects/madminer/diboson_mining/data/samples/wgamma/samples.h5\n",
      "19:08  Loading samples from file 1 / 18 at /Users/johannbrehmer/work/projects/madminer/diboson_mining/data/samples/wgamma/samples_0.h5\n",
      "19:08  Loading samples from file 2 / 18 at /Users/johannbrehmer/work/projects/madminer/diboson_mining/data/samples/wgamma/samples_1.h5\n",
      "19:08  Loading samples from file 3 / 18 at /Users/johannbrehmer/work/projects/madminer/diboson_mining/data/samples/wgamma/samples_2.h5\n",
      "19:08  Loading samples from file 4 / 18 at /Users/johannbrehmer/work/projects/madminer/diboson_mining/data/samples/wgamma/samples_3.h5\n",
      "19:08  Loading samples from file 5 / 18 at /Users/johannbrehmer/work/projects/madminer/diboson_mining/data/samples/wgamma/samples_4.h5\n",
      "19:08  Loading samples from file 6 / 18 at /Users/johannbrehmer/work/projects/madminer/diboson_mining/data/samples/wgamma/samples_5.h5\n",
      "19:08  Loading samples from file 7 / 18 at /Users/johannbrehmer/work/projects/madminer/diboson_mining/data/samples/wgamma/samples_6.h5\n",
      "19:08  Loading samples from file 8 / 18 at /Users/johannbrehmer/work/projects/madminer/diboson_mining/data/samples/wgamma/samples_7.h5\n",
      "19:08  Loading samples from file 9 / 18 at /Users/johannbrehmer/work/projects/madminer/diboson_mining/data/samples/wgamma/samples_8.h5\n",
      "19:08  Loading samples from file 10 / 18 at /Users/johannbrehmer/work/projects/madminer/diboson_mining/data/samples/wgamma/samples_9.h5\n",
      "19:08  Loading samples from file 11 / 18 at /Users/johannbrehmer/work/projects/madminer/diboson_mining/data/samples/wgamma/samples_10.h5\n",
      "19:08  Loading samples from file 12 / 18 at /Users/johannbrehmer/work/projects/madminer/diboson_mining/data/samples/wgamma/samples_11.h5\n",
      "19:08  Loading samples from file 13 / 18 at /Users/johannbrehmer/work/projects/madminer/diboson_mining/data/samples/wgamma/samples_12.h5\n",
      "19:08  Loading samples from file 14 / 18 at /Users/johannbrehmer/work/projects/madminer/diboson_mining/data/samples/wgamma/samples_13.h5\n",
      "19:08  Loading samples from file 15 / 18 at /Users/johannbrehmer/work/projects/madminer/diboson_mining/data/samples/wgamma/samples_14.h5\n",
      "19:08  Loading samples from file 16 / 18 at /Users/johannbrehmer/work/projects/madminer/diboson_mining/data/samples/wgamma/samples_15.h5\n",
      "19:08  Loading samples from file 17 / 18 at /Users/johannbrehmer/work/projects/madminer/diboson_mining/data/samples/wgamma/samples_16.h5\n",
      "19:08  Loading samples from file 18 / 18 at /Users/johannbrehmer/work/projects/madminer/diboson_mining/data/samples/wgamma/samples_17.h5\n"
     ]
    }
   ],
   "source": [
    "filenames_in = [sample_dir + 'samples_{}.h5'.format(i_card) for i_card in range(n_runs_per_benchmark)]\n",
    "\n",
    "combine_and_shuffle(filenames_in, sample_dir + 'samples.h5')"
   ]
  },
  {
   "cell_type": "code",
   "execution_count": null,
   "metadata": {},
   "outputs": [],
   "source": []
  }
 ],
 "metadata": {
  "kernelspec": {
   "display_name": "Python [default]",
   "language": "python",
   "name": "python3"
  },
  "language_info": {
   "codemirror_mode": {
    "name": "ipython",
    "version": 3
   },
   "file_extension": ".py",
   "mimetype": "text/x-python",
   "name": "python",
   "nbconvert_exporter": "python",
   "pygments_lexer": "ipython3",
   "version": "3.6.4"
  }
 },
 "nbformat": 4,
 "nbformat_minor": 2
}
