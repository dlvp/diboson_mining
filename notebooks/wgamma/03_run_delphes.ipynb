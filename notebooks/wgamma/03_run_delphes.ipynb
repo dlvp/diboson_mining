{
 "cells": [
  {
   "cell_type": "markdown",
   "metadata": {},
   "source": [
    "# Run Delphes and extract observables\n",
    "\n",
    "Johann Brehmer, Kyle Cranmer, Felix Kling, Duccio Pappadopulo, Josh Ruderman 2018"
   ]
  },
  {
   "cell_type": "code",
   "execution_count": 1,
   "metadata": {},
   "outputs": [],
   "source": [
    "from __future__ import absolute_import, division, print_function, unicode_literals\n",
    "\n",
    "import numpy as np\n",
    "import matplotlib\n",
    "from matplotlib import pyplot as plt\n",
    "% matplotlib inline\n",
    "import logging\n",
    "import os\n",
    "\n",
    "from madminer.delphes import DelphesProcessor\n",
    "from madminer.sampling import combine_and_shuffle\n",
    "\n",
    "logging.basicConfig(format='%(asctime)s  %(message)s', datefmt='%H:%M')\n"
   ]
  },
  {
   "cell_type": "code",
   "execution_count": 2,
   "metadata": {},
   "outputs": [],
   "source": [
    "base_dir = '/Users/johannbrehmer/work/projects/madminer/diboson_mining/'\n",
    "mg_dir = '/Users/johannbrehmer/work/projects/madminer/MG5_aMC_v2_6_2/'"
   ]
  },
  {
   "cell_type": "code",
   "execution_count": 3,
   "metadata": {},
   "outputs": [],
   "source": [
    "sample_dir = base_dir + 'data/samples/wgamma/'\n",
    "card_dir = base_dir + 'cards/wgamma/'\n",
    "ufo_model_dir = card_dir + 'SMWgamma_UFO'\n",
    "run_card_dir = card_dir + 'run_cards/'\n",
    "mg_process_dir = base_dir + 'data/mg_processes/wgamma/'\n",
    "log_dir = base_dir + 'logs/wgamma/'\n",
    "temp_dir = base_dir + 'data/temp'\n",
    "delphes_dir = mg_dir + 'Delphes'"
   ]
  },
  {
   "cell_type": "markdown",
   "metadata": {},
   "source": [
    "## Observables and cuts"
   ]
  },
  {
   "cell_type": "code",
   "execution_count": 4,
   "metadata": {},
   "outputs": [],
   "source": [
    "# Number of particles considered\n",
    "n_leptons = 1\n",
    "n_photons = 2\n",
    "n_jets = 1\n",
    "\n",
    "def setup_observables(delphesprocessor):\n",
    "    # ETMiss\n",
    "    delphesprocessor.add_default_observables(\n",
    "        n_leptons_max=n_leptons,\n",
    "        n_photons_max=n_photons,\n",
    "        n_jets_max=n_jets,\n",
    "        include_met=True\n",
    "    )\n",
    "        \n",
    "    # Correlations with MET\n",
    "    for s1, i1 in [('l', 0), ('a', 0)]:\n",
    "        delphesprocessor.add_observable(\n",
    "            'deltaphi_{}{}_met'.format(s1, i1+1),\n",
    "            'abs({}[{}].phi() - met.phi())'.format(s1, i1),\n",
    "            required=True,\n",
    "            default=0.\n",
    "        )\n",
    "\n",
    "    # Selected correlations between particles\n",
    "    for s1, i1, s2, i2 in [('l', 0, 'a', 0)]:\n",
    "        delphesprocessor.add_observable(\n",
    "            'm_{}{}_{}{}'.format(s1, i1+1, s2, i2+1),\n",
    "            '({}[{}] + {}[{}]).m'.format(s1, i1, s2, i2),\n",
    "            required=True,\n",
    "            default=0.\n",
    "        )\n",
    "        delphesprocessor.add_observable(\n",
    "            'deltaeta_{}{}_{}{}'.format(s1, i1+1, s2, i2+1),\n",
    "            'abs({}[{}].eta - {}[{}].eta)'.format(s1, i1, s2, i2),\n",
    "            required=True,\n",
    "            default=0.\n",
    "        )\n",
    "        delphesprocessor.add_observable(\n",
    "            'deltaphi_{}{}_{}{}'.format(s1, i1+1, s2, i2+1),\n",
    "            'abs({}[{}].phi() - {}[{}].phi())'.format(s1, i1, s2, i2),\n",
    "            required=True,\n",
    "            default=0.\n",
    "        )\n",
    "        delphesprocessor.add_observable(\n",
    "            'signed_deltaphi_{}{}_{}{}'.format(s1, i1+1, s2, i2+1),\n",
    "            '{}[{}].charge *  abs({}[{}].phi() - {}[{}].phi())'.format(s1, i1, s1, i1, s2, i2),\n",
    "            required=True\n",
    "        )\n"
   ]
  },
  {
   "cell_type": "code",
   "execution_count": 5,
   "metadata": {},
   "outputs": [],
   "source": [
    "def setup_cuts(delphesprocessor):\n",
    "    delphesprocessor.add_cut(\n",
    "        'n_ls > 0.1'\n",
    "    )\n",
    "    delphesprocessor.add_cut(\n",
    "        'n_as > 0.1'\n",
    "    )\n",
    "    delphesprocessor.add_cut(\n",
    "        'et_miss >= 10.'\n",
    "    )"
   ]
  },
  {
   "cell_type": "markdown",
   "metadata": {},
   "source": [
    "## Main loop"
   ]
  },
  {
   "cell_type": "code",
   "execution_count": null,
   "metadata": {},
   "outputs": [],
   "source": [
    "n_runs_per_benchmark = 18  # Number of run_cards"
   ]
  },
  {
   "cell_type": "code",
   "execution_count": null,
   "metadata": {},
   "outputs": [
    {
     "name": "stderr",
     "output_type": "stream",
     "text": [
      "11:14  \n",
      "11:14  ------------------------------------------------------------\n",
      "11:14  |                                                          |\n",
      "11:14  |  MadMiner v2018.10.12                                    |\n",
      "11:14  |                                                          |\n",
      "11:14  |           Johann Brehmer, Kyle Cranmer, and Felix Kling  |\n",
      "11:14  |                                                          |\n",
      "11:14  ------------------------------------------------------------\n",
      "11:14  \n",
      "11:14  Adding HepMC sample at /Users/johannbrehmer/work/projects/madminer/diboson_mining/data/mg_processes/wgamma/Events/run_01/tag_1_pythia8_events.hepmc.gz\n",
      "11:14  Adding HepMC sample at /Users/johannbrehmer/work/projects/madminer/diboson_mining/data/mg_processes/wgamma/Events/run_02/tag_1_pythia8_events.hepmc.gz\n",
      "11:14  Adding HepMC sample at /Users/johannbrehmer/work/projects/madminer/diboson_mining/data/mg_processes/wgamma/Events/run_03/tag_1_pythia8_events.hepmc.gz\n",
      "11:14  Adding HepMC sample at /Users/johannbrehmer/work/projects/madminer/diboson_mining/data/mg_processes/wgamma/Events/run_04/tag_1_pythia8_events.hepmc.gz\n",
      "11:14  Adding HepMC sample at /Users/johannbrehmer/work/projects/madminer/diboson_mining/data/mg_processes/wgamma/Events/run_05/tag_1_pythia8_events.hepmc.gz\n",
      "11:14  Adding HepMC sample at /Users/johannbrehmer/work/projects/madminer/diboson_mining/data/mg_processes/wgamma/Events/run_06/tag_1_pythia8_events.hepmc.gz\n",
      "11:14  Running Delphes (/Users/johannbrehmer/work/projects/madminer/MG5_aMC_v2_6_2/Delphes) on event sample at /Users/johannbrehmer/work/projects/madminer/diboson_mining/data/mg_processes/wgamma/Events/run_01/tag_1_pythia8_events.hepmc.gz\n",
      "11:15  Running Delphes (/Users/johannbrehmer/work/projects/madminer/MG5_aMC_v2_6_2/Delphes) on event sample at /Users/johannbrehmer/work/projects/madminer/diboson_mining/data/mg_processes/wgamma/Events/run_02/tag_1_pythia8_events.hepmc.gz\n",
      "11:15  Running Delphes (/Users/johannbrehmer/work/projects/madminer/MG5_aMC_v2_6_2/Delphes) on event sample at /Users/johannbrehmer/work/projects/madminer/diboson_mining/data/mg_processes/wgamma/Events/run_03/tag_1_pythia8_events.hepmc.gz\n",
      "11:15  Running Delphes (/Users/johannbrehmer/work/projects/madminer/MG5_aMC_v2_6_2/Delphes) on event sample at /Users/johannbrehmer/work/projects/madminer/diboson_mining/data/mg_processes/wgamma/Events/run_04/tag_1_pythia8_events.hepmc.gz\n",
      "11:16  Running Delphes (/Users/johannbrehmer/work/projects/madminer/MG5_aMC_v2_6_2/Delphes) on event sample at /Users/johannbrehmer/work/projects/madminer/diboson_mining/data/mg_processes/wgamma/Events/run_05/tag_1_pythia8_events.hepmc.gz\n",
      "11:16  Running Delphes (/Users/johannbrehmer/work/projects/madminer/MG5_aMC_v2_6_2/Delphes) on event sample at /Users/johannbrehmer/work/projects/madminer/diboson_mining/data/mg_processes/wgamma/Events/run_06/tag_1_pythia8_events.hepmc.gz\n"
     ]
    }
   ],
   "source": [
    "run = 0\n",
    "\n",
    "for i_card in range(n_runs_per_benchmark):\n",
    "    logging.info('Starting analysis of runs for card {}'.format(i_card))\n",
    "            \n",
    "    # Load setup\n",
    "    dp = DelphesProcessor(sample_dir + 'setup.h5')\n",
    "    \n",
    "    # Load events\n",
    "    for benchmark in dp.benchmark_names:\n",
    "        run += 1\n",
    "        run_str = str(run)\n",
    "        if len(run_str) < 2:\n",
    "            run_str = '0' + run_str\n",
    "\n",
    "        dp.add_hepmc_sample(\n",
    "            mg_process_dir + 'Events/run_{}/tag_1_pythia8_events.hepmc.gz'.format(run_str),\n",
    "            sampled_from_benchmark=benchmark\n",
    "        )\n",
    "        \n",
    "    # Run Delphes\n",
    "    dp.run_delphes(\n",
    "        delphes_directory=delphes_dir,\n",
    "        delphes_card=card_dir + 'delphes_card.dat',\n",
    "        log_directory=log_dir,\n",
    "        initial_command='source activate python2'\n",
    "    )\n",
    "    \n",
    "    # Set up observables and cuts\n",
    "    setup_observables(dp)\n",
    "    setup_cuts(dp)\n",
    "    \n",
    "    # Analyse Delphes sample\n",
    "    dp.analyse_delphes_samples()\n",
    "        \n",
    "    # Save\n",
    "    dp.save(sample_dir + 'samples_{}.h5'.format(i_card))\n",
    "    \n",
    "    # Clean up\n",
    "    os.remove(mg_process_dir + 'Events/run_{}/tag_1_pythia8_events.hepmc'.format(run_str))\n",
    "    os.remove(mg_process_dir + 'Events/run_{}/tag_1_pythia8_events_delphes.root'.format(run_str))\n"
   ]
  },
  {
   "cell_type": "markdown",
   "metadata": {},
   "source": [
    "## Combine samples"
   ]
  },
  {
   "cell_type": "code",
   "execution_count": null,
   "metadata": {},
   "outputs": [],
   "source": [
    "filenames_in = [sample_dir + 'samples_{}.h5'.format(i_card) for i_card in range(n_runs_per_benchmark)]\n",
    "\n",
    "combine_and_shuffle(filenames_in, sample_dir + 'samples.h5')"
   ]
  },
  {
   "cell_type": "code",
   "execution_count": null,
   "metadata": {},
   "outputs": [],
   "source": []
  }
 ],
 "metadata": {
  "kernelspec": {
   "display_name": "Python [default]",
   "language": "python",
   "name": "python3"
  },
  "language_info": {
   "codemirror_mode": {
    "name": "ipython",
    "version": 3
   },
   "file_extension": ".py",
   "mimetype": "text/x-python",
   "name": "python",
   "nbconvert_exporter": "python",
   "pygments_lexer": "ipython3",
   "version": "3.6.4"
  }
 },
 "nbformat": 4,
 "nbformat_minor": 2
}
