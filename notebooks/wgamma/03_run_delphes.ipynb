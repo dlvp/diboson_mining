{
 "cells": [
  {
   "cell_type": "markdown",
   "metadata": {},
   "source": [
    "# Run Delphes and extract observables\n",
    "\n",
    "Johann Brehmer, Kyle Cranmer, Marco Farina, Felix Kling, Duccio Pappadopulo, Josh Ruderman 2018"
   ]
  },
  {
   "cell_type": "code",
   "execution_count": 1,
   "metadata": {},
   "outputs": [],
   "source": [
    "from __future__ import absolute_import, division, print_function, unicode_literals\n",
    "\n",
    "import numpy as np\n",
    "import matplotlib\n",
    "from matplotlib import pyplot as plt\n",
    "%matplotlib inline\n",
    "import logging\n",
    "import os\n",
    "import math\n",
    "from collections import OrderedDict\n",
    "\n",
    "from madminer.delphes import DelphesProcessor\n",
    "from madminer.sampling import combine_and_shuffle\n",
    "from madminer.utils.particle import MadMinerParticle\n",
    "\n",
    "logging.basicConfig(format='%(asctime)-5.5s %(name)-20.20s %(levelname)-7.7s %(message)s', datefmt='%H:%M', level=logging.INFO)\n"
   ]
  },
  {
   "cell_type": "code",
   "execution_count": 2,
   "metadata": {},
   "outputs": [],
   "source": [
    "base_dir = '/Users/johannbrehmer/work/projects/madminer/diboson_mining/'\n",
    "mg_dir = '/Users/johannbrehmer/work/projects/madminer/MG5_aMC_v2_6_4/'"
   ]
  },
  {
   "cell_type": "code",
   "execution_count": 3,
   "metadata": {},
   "outputs": [],
   "source": [
    "sample_dir = base_dir + 'data/samples/wgamma_sys/'\n",
    "card_dir = base_dir + 'cards/wgamma/'\n",
    "ufo_model_dir = card_dir + 'SMWgamma_UFO'\n",
    "run_card_dir = card_dir + 'run_cards/'\n",
    "mg_process_dir = base_dir + 'data/mg_processes/wgamma_sys/'\n",
    "log_dir = base_dir + 'logs/wgamma_sys/'\n",
    "temp_dir = base_dir + 'data/temp'\n",
    "delphes_dir = mg_dir + 'Delphes'"
   ]
  },
  {
   "cell_type": "markdown",
   "metadata": {},
   "source": [
    "## Observables and cuts"
   ]
  },
  {
   "cell_type": "code",
   "execution_count": 4,
   "metadata": {},
   "outputs": [],
   "source": [
    "def calculate_mt(leptons, photons, jets, met):\n",
    "    # Particles\n",
    "    if len(leptons) < 1:\n",
    "        raise RuntimeError()\n",
    "    \n",
    "    l = leptons[0]\n",
    "    \n",
    "    # Transverse mass and Delta\n",
    "    cos_delta_phi = np.cos(l.phi() - met.phi())\n",
    "    mt = (2 * l.pt * met.pt * (1. - cos_delta_phi))**0.5\n",
    "    \n",
    "    return mt"
   ]
  },
  {
   "cell_type": "code",
   "execution_count": 5,
   "metadata": {},
   "outputs": [],
   "source": [
    "def calculate_phi(leptons, photons, jets, met, eta_solution=0):\n",
    "    # Parameters\n",
    "    mw = 80.4\n",
    "    \n",
    "    # Particles\n",
    "    if len(leptons) < 1 or len(photons) < 1:\n",
    "        raise RuntimeError()\n",
    "    \n",
    "    l = leptons[0]\n",
    "    a = photons[0]\n",
    "    \n",
    "    # Transverse mass and Delta\n",
    "    mt = calculate_mt(leptons, photons, jets, met)\n",
    "    deltasq = 0.\n",
    "    if met.pt > 0. and l.pt > 0.:\n",
    "        deltasq = (mw**2 - mt**2) / (2. * met.pt * l.pt)\n",
    "    \n",
    "    # v reconstruction, \"normal\" case\n",
    "    if deltasq > 0.:\n",
    "        # Two solutions\n",
    "        temp = np.log(1 + deltasq**0.5 * (2 + deltasq)**0.5 + deltasq)\n",
    "        eta_v_plus = l.eta + temp\n",
    "        eta_v_minus = l.eta - temp\n",
    "        \n",
    "        # Select one of them\n",
    "        if eta_solution > 0:\n",
    "            eta_v = eta_v_plus\n",
    "        elif eta_solution < 0:\n",
    "            eta_v = eta_v_minus\n",
    "        else:\n",
    "            dice = np.random.rand()\n",
    "            if dice > 0.5:\n",
    "                eta_v = eta_v_plus\n",
    "            else:\n",
    "                eta_v = eta_v_minus\n",
    "            \n",
    "    # v reconstruction, \"other\" case\n",
    "    else:\n",
    "        eta_v = l.eta\n",
    "        \n",
    "    # v particle\n",
    "    v = MadMinerParticle()\n",
    "    v.setptetaphim(met.pt, eta_v, met.phi(), 0.)\n",
    "    \n",
    "    # W and Wgamma reconstruction\n",
    "    w = l + v\n",
    "    vv = w + a\n",
    "    \n",
    "    # Boost into VV frame\n",
    "    v_ = v.boost(vv.boostvector)\n",
    "    l_ = l.boost(vv.boostvector)\n",
    "    a_ = a.boost(vv.boostvector)\n",
    "    w_ = w.boost(vv.boostvector)\n",
    "    r_ = vv # vv.boost(vv.boostvector)\n",
    "\n",
    "    # Calculate axes of \"special frame\" (1708.07823)\n",
    "    z_ = w_.vector.unit()\n",
    "    x_ = (r_.vector - z_ * r_.vector.dot(z_)).unit()\n",
    "    y_ = z_.cross(x_)\n",
    "    \n",
    "    # Calculate x and y components of lepton wrt special x_, y_, z_ system\n",
    "    lx_ = l_.vector.dot(x_)\n",
    "    ly_ = l_.vector.dot(y_)\n",
    "    \n",
    "    # Calculate phi\n",
    "    phi = math.atan2(ly_, lx_)\n",
    "    \n",
    "    return phi\n",
    "    \n",
    "    \n",
    "def calculate_phi_minus(leptons, photons, jets, met):\n",
    "    return calculate_phi(leptons, photons, jets, met, eta_solution=-1)\n",
    "    \n",
    "    \n",
    "def calculate_phi_plus(leptons, photons, jets, met):\n",
    "    return calculate_phi(leptons, photons, jets, met, eta_solution=1)"
   ]
  },
  {
   "cell_type": "code",
   "execution_count": 6,
   "metadata": {},
   "outputs": [],
   "source": [
    "def setup_observables(delphesprocessor):\n",
    "    delphesprocessor.reset_observables()\n",
    "    \n",
    "    # Default observables (four-momenta of a, l, j, and met)\n",
    "    delphesprocessor.add_default_observables(\n",
    "        n_leptons_max=1,\n",
    "        n_photons_max=1,\n",
    "        n_jets_max=1,\n",
    "        include_charge=False,\n",
    "        include_numbers=False,\n",
    "        include_met=True\n",
    "    )\n",
    "    # Lepton flavour\n",
    "    delphesprocessor.add_observable('pdgid_l1', 'l[0].pdgid', required=True)\n",
    "\n",
    "    # Two-particle systems\n",
    "    delphesprocessor.add_observable('m_la', '(l[0] + a[0]).m', required=True)\n",
    "    delphesprocessor.add_observable('m_lmet', '(l[0] + met).m', required=True)\n",
    "    delphesprocessor.add_observable('m_amet', '(a[0] + met).m', required=True)\n",
    "    delphesprocessor.add_observable('pt_la','(l[0] + a[0]).pt', required=True)\n",
    "    delphesprocessor.add_observable('pt_lmet','(l[0] + met).pt', required=True)\n",
    "    delphesprocessor.add_observable('pt_amet','(a[0] + met).pt', required=True)\n",
    "    delphesprocessor.add_observable('deltaphi_la', 'l[0].phi() - a[0].phi()', required=True)\n",
    "    delphesprocessor.add_observable('deltaphi_lmet', 'l[0].phi() - met.phi()', required=True)\n",
    "    delphesprocessor.add_observable('deltaphi_amet', 'a[0].phi() - met.phi()', required=True)\n",
    "    delphesprocessor.add_observable('deltaeta_la', 'l[0].eta - a[0].eta', required=True)\n",
    "\n",
    "    # Three-particle system\n",
    "    delphesprocessor.add_observable('m_almet', '(a[0] + l[0] + met).m', required=True)\n",
    "    delphesprocessor.add_observable('pt_almet', '(a[0] + l[0] + met).pt', required=True)\n",
    "\n",
    "    # mT(W) and ressurrection phi\n",
    "    delphesprocessor.add_observable_from_function('mt', calculate_mt, required=True)\n",
    "    delphesprocessor.add_observable_from_function('phi_minus', calculate_phi_minus, required=True)\n",
    "    delphesprocessor.add_observable_from_function('phi_plus', calculate_phi_plus, required=True)\n",
    "    delphesprocessor.add_observable_from_function('phi', calculate_phi, required=True)\n"
   ]
  },
  {
   "cell_type": "code",
   "execution_count": 7,
   "metadata": {},
   "outputs": [],
   "source": [
    "def setup_cuts(delphesprocessor, use_tight_cuts=False):\n",
    "    delphesprocessor.reset_cuts()\n",
    "    \n",
    "    if use_tight_cuts:\n",
    "        delphesprocessor.add_cut('pt_a1 >= 300.')\n",
    "        delphesprocessor.add_cut('pt_l1 >= 80.')\n",
    "        delphesprocessor.add_cut('et_miss >= 80.')\n",
    "        delphesprocessor.add_cut('(deltaphi_la**2 + deltaeta_la**2)**0.5 >= 3.')\n",
    "        delphesprocessor.add_cut('eta_l1**2 < 2.4**2')\n",
    "    else:\n",
    "        delphesprocessor.add_cut('pt_a1 >= 20.')\n",
    "        delphesprocessor.add_cut('pt_l1 >= 20.')\n",
    "        delphesprocessor.add_cut('et_miss >= 20.')"
   ]
  },
  {
   "cell_type": "markdown",
   "metadata": {},
   "source": [
    "## Main loop"
   ]
  },
  {
   "cell_type": "code",
   "execution_count": 8,
   "metadata": {},
   "outputs": [],
   "source": [
    "n_runs_per_benchmark = 10  # 30  # Number of run_cards\n",
    "n_oversampling = 1"
   ]
  },
  {
   "cell_type": "code",
   "execution_count": 9,
   "metadata": {},
   "outputs": [
    {
     "name": "stderr",
     "output_type": "stream",
     "text": [
      "11:13 root                 INFO    Starting analysis of runs for card 0\n",
      "11:13 madminer.delphes     INFO    Running Delphes (/Users/johannbrehmer/work/projects/madminer/MG5_aMC_v2_6_4/Delphes) on event sample at /Users/johannbrehmer/work/projects/madminer/diboson_mining/data/mg_processes/wgamma_sys/Events/run_01/tag_1_pythia8_events.hepmc.gz\n",
      "11:19 madminer.delphes     INFO    Analysing Delphes sample /Users/johannbrehmer/work/projects/madminer/diboson_mining/data/mg_processes/wgamma_sys/Events/run_01/tag_1_pythia8_events_delphes.root\n",
      "11:27 madminer.utils.inter WARNING   No observations remainining!\n",
      "11:27 madminer.delphes     WARNING No observations to save!\n",
      "11:27 madminer.delphes     INFO    Analysing Delphes sample /Users/johannbrehmer/work/projects/madminer/diboson_mining/data/mg_processes/wgamma_sys/Events/run_01/tag_1_pythia8_events_delphes.root\n",
      "11:37 madminer.utils.inter INFO      12259 / 100000 events pass everything\n",
      "11:38 root                 INFO    Starting analysis of runs for card 1\n",
      "11:39 madminer.delphes     INFO    Running Delphes (/Users/johannbrehmer/work/projects/madminer/MG5_aMC_v2_6_4/Delphes) on event sample at /Users/johannbrehmer/work/projects/madminer/diboson_mining/data/mg_processes/wgamma_sys/Events/run_02/tag_1_pythia8_events.hepmc.gz\n",
      "11:45 madminer.delphes     INFO    Analysing Delphes sample /Users/johannbrehmer/work/projects/madminer/diboson_mining/data/mg_processes/wgamma_sys/Events/run_02/tag_1_pythia8_events_delphes.root\n",
      "11:52 madminer.utils.inter INFO      9 / 100000 events pass everything\n",
      "11:53 madminer.delphes     INFO    Analysing Delphes sample /Users/johannbrehmer/work/projects/madminer/diboson_mining/data/mg_processes/wgamma_sys/Events/run_02/tag_1_pythia8_events_delphes.root\n",
      "12:02 madminer.utils.inter INFO      39823 / 100000 events pass everything\n",
      "12:03 root                 INFO    Starting analysis of runs for card 2\n",
      "12:04 madminer.delphes     INFO    Running Delphes (/Users/johannbrehmer/work/projects/madminer/MG5_aMC_v2_6_4/Delphes) on event sample at /Users/johannbrehmer/work/projects/madminer/diboson_mining/data/mg_processes/wgamma_sys/Events/run_03/tag_1_pythia8_events.hepmc.gz\n",
      "13:20 madminer.delphes     INFO    Analysing Delphes sample /Users/johannbrehmer/work/projects/madminer/diboson_mining/data/mg_processes/wgamma_sys/Events/run_03/tag_1_pythia8_events_delphes.root\n",
      "13:31 madminer.utils.inter INFO      16698 / 100000 events pass everything\n",
      "13:33 madminer.delphes     INFO    Analysing Delphes sample /Users/johannbrehmer/work/projects/madminer/diboson_mining/data/mg_processes/wgamma_sys/Events/run_03/tag_1_pythia8_events_delphes.root\n",
      "13:42 madminer.utils.inter INFO      58119 / 100000 events pass everything\n",
      "13:43 root                 INFO    Starting analysis of runs for card 3\n",
      "13:44 madminer.delphes     INFO    Running Delphes (/Users/johannbrehmer/work/projects/madminer/MG5_aMC_v2_6_4/Delphes) on event sample at /Users/johannbrehmer/work/projects/madminer/diboson_mining/data/mg_processes/wgamma_sys/Events/run_04/tag_1_pythia8_events.hepmc.gz\n",
      "13:53 madminer.delphes     INFO    Analysing Delphes sample /Users/johannbrehmer/work/projects/madminer/diboson_mining/data/mg_processes/wgamma_sys/Events/run_04/tag_1_pythia8_events_delphes.root\n",
      "14:03 madminer.utils.inter INFO      33969 / 100000 events pass everything\n",
      "14:04 madminer.delphes     INFO    Analysing Delphes sample /Users/johannbrehmer/work/projects/madminer/diboson_mining/data/mg_processes/wgamma_sys/Events/run_04/tag_1_pythia8_events_delphes.root\n",
      "14:14 madminer.utils.inter INFO      63151 / 100000 events pass everything\n",
      "14:15 root                 INFO    Starting analysis of runs for card 4\n",
      "14:15 madminer.delphes     INFO    Running Delphes (/Users/johannbrehmer/work/projects/madminer/MG5_aMC_v2_6_4/Delphes) on event sample at /Users/johannbrehmer/work/projects/madminer/diboson_mining/data/mg_processes/wgamma_sys/Events/run_05/tag_1_pythia8_events.hepmc.gz\n",
      "14:22 madminer.delphes     INFO    Analysing Delphes sample /Users/johannbrehmer/work/projects/madminer/diboson_mining/data/mg_processes/wgamma_sys/Events/run_05/tag_1_pythia8_events_delphes.root\n",
      "14:32 madminer.utils.inter INFO      42292 / 100000 events pass everything\n",
      "14:33 madminer.delphes     INFO    Analysing Delphes sample /Users/johannbrehmer/work/projects/madminer/diboson_mining/data/mg_processes/wgamma_sys/Events/run_05/tag_1_pythia8_events_delphes.root\n",
      "14:43 madminer.utils.inter INFO      67100 / 100000 events pass everything\n",
      "14:45 root                 INFO    Starting analysis of runs for card 5\n",
      "14:45 madminer.delphes     INFO    Running Delphes (/Users/johannbrehmer/work/projects/madminer/MG5_aMC_v2_6_4/Delphes) on event sample at /Users/johannbrehmer/work/projects/madminer/diboson_mining/data/mg_processes/wgamma_sys/Events/run_06/tag_1_pythia8_events.hepmc.gz\n",
      "14:55 madminer.delphes     INFO    Analysing Delphes sample /Users/johannbrehmer/work/projects/madminer/diboson_mining/data/mg_processes/wgamma_sys/Events/run_06/tag_1_pythia8_events_delphes.root\n",
      "15:06 madminer.utils.inter INFO      50007 / 100000 events pass everything\n",
      "15:07 madminer.delphes     INFO    Analysing Delphes sample /Users/johannbrehmer/work/projects/madminer/diboson_mining/data/mg_processes/wgamma_sys/Events/run_06/tag_1_pythia8_events_delphes.root\n",
      "15:17 madminer.utils.inter INFO      70001 / 100000 events pass everything\n",
      "15:19 root                 INFO    Starting analysis of runs for card 6\n",
      "15:19 madminer.delphes     INFO    Running Delphes (/Users/johannbrehmer/work/projects/madminer/MG5_aMC_v2_6_4/Delphes) on event sample at /Users/johannbrehmer/work/projects/madminer/diboson_mining/data/mg_processes/wgamma_sys/Events/run_07/tag_1_pythia8_events.hepmc.gz\n",
      "15:30 madminer.delphes     INFO    Analysing Delphes sample /Users/johannbrehmer/work/projects/madminer/diboson_mining/data/mg_processes/wgamma_sys/Events/run_07/tag_1_pythia8_events_delphes.root\n",
      "15:38 madminer.utils.inter INFO      56005 / 100000 events pass everything\n",
      "15:39 madminer.delphes     INFO    Analysing Delphes sample /Users/johannbrehmer/work/projects/madminer/diboson_mining/data/mg_processes/wgamma_sys/Events/run_07/tag_1_pythia8_events_delphes.root\n",
      "15:47 madminer.utils.inter INFO      71844 / 100000 events pass everything\n",
      "15:48 root                 INFO    Starting analysis of runs for card 7\n",
      "15:49 madminer.delphes     INFO    Running Delphes (/Users/johannbrehmer/work/projects/madminer/MG5_aMC_v2_6_4/Delphes) on event sample at /Users/johannbrehmer/work/projects/madminer/diboson_mining/data/mg_processes/wgamma_sys/Events/run_08/tag_1_pythia8_events.hepmc.gz\n",
      "15:56 madminer.delphes     INFO    Analysing Delphes sample /Users/johannbrehmer/work/projects/madminer/diboson_mining/data/mg_processes/wgamma_sys/Events/run_08/tag_1_pythia8_events_delphes.root\n",
      "16:03 madminer.utils.inter INFO      60447 / 100000 events pass everything\n",
      "16:04 madminer.delphes     INFO    Analysing Delphes sample /Users/johannbrehmer/work/projects/madminer/diboson_mining/data/mg_processes/wgamma_sys/Events/run_08/tag_1_pythia8_events_delphes.root\n",
      "16:11 madminer.utils.inter INFO      72444 / 100000 events pass everything\n",
      "16:12 root                 INFO    Starting analysis of runs for card 8\n",
      "16:13 madminer.delphes     INFO    Running Delphes (/Users/johannbrehmer/work/projects/madminer/MG5_aMC_v2_6_4/Delphes) on event sample at /Users/johannbrehmer/work/projects/madminer/diboson_mining/data/mg_processes/wgamma_sys/Events/run_09/tag_1_pythia8_events.hepmc.gz\n",
      "16:24 madminer.delphes     INFO    Analysing Delphes sample /Users/johannbrehmer/work/projects/madminer/diboson_mining/data/mg_processes/wgamma_sys/Events/run_09/tag_1_pythia8_events_delphes.root\n",
      "16:34 madminer.utils.inter INFO      61195 / 100000 events pass everything\n",
      "16:35 madminer.delphes     INFO    Analysing Delphes sample /Users/johannbrehmer/work/projects/madminer/diboson_mining/data/mg_processes/wgamma_sys/Events/run_09/tag_1_pythia8_events_delphes.root\n",
      "16:45 madminer.utils.inter INFO      69343 / 100000 events pass everything\n",
      "16:47 root                 INFO    Starting analysis of runs for card 9\n",
      "16:47 madminer.delphes     INFO    Running Delphes (/Users/johannbrehmer/work/projects/madminer/MG5_aMC_v2_6_4/Delphes) on event sample at /Users/johannbrehmer/work/projects/madminer/diboson_mining/data/mg_processes/wgamma_sys/Events/run_10/tag_1_pythia8_events.hepmc.gz\n"
     ]
    },
    {
     "name": "stderr",
     "output_type": "stream",
     "text": [
      "16:58 madminer.delphes     INFO    Analysing Delphes sample /Users/johannbrehmer/work/projects/madminer/diboson_mining/data/mg_processes/wgamma_sys/Events/run_10/tag_1_pythia8_events_delphes.root\n",
      "17:08 madminer.utils.inter INFO      57687 / 100000 events pass everything\n",
      "17:10 madminer.delphes     INFO    Analysing Delphes sample /Users/johannbrehmer/work/projects/madminer/diboson_mining/data/mg_processes/wgamma_sys/Events/run_10/tag_1_pythia8_events_delphes.root\n",
      "17:18 madminer.utils.inter INFO      63035 / 100000 events pass everything\n"
     ]
    }
   ],
   "source": [
    "run = 0\n",
    "\n",
    "for i_card in range(n_runs_per_benchmark):\n",
    "    logging.info('Starting analysis of runs for card {}'.format(i_card))\n",
    "            \n",
    "    # Load setup\n",
    "    dp = DelphesProcessor(sample_dir + 'setup.h5', debug=True)\n",
    "    \n",
    "    # Load events\n",
    "    run = i_card + 1\n",
    "    run_str = str(run)\n",
    "    if len(run_str) < 2:\n",
    "        run_str = '0' + run_str\n",
    "    event_folder = mg_process_dir + 'Events/run_{}'.format(run_str)\n",
    "    \n",
    "    dp.add_sample(\n",
    "        event_folder + '/tag_1_pythia8_events.hepmc.gz',\n",
    "        sampled_from_benchmark='sm',\n",
    "        weights=\"lhe\",  # Workaround for Pythia not propagating weights\n",
    "        lhe_filename=event_folder + '/unweighted_events.lhe.gz',\n",
    "    )\n",
    "        \n",
    "    # Run Delphes\n",
    "    dp.run_delphes(\n",
    "        delphes_directory=delphes_dir,\n",
    "        delphes_card=card_dir + 'delphes_card.dat',\n",
    "        log_file=log_dir + '/delphes_{}.log'.format(run - 1),\n",
    "        initial_command='source activate python2',\n",
    "    )\n",
    "    \n",
    "    # Tight analysis\n",
    "    setup_observables(dp)\n",
    "    setup_cuts(dp, use_tight_cuts=True)\n",
    "    \n",
    "    dp.analyse_delphes_samples(delete_delphes_files=False)\n",
    "    \n",
    "    dp.save(sample_dir + 'samples_tight_{}.h5'.format(i_card))\n",
    "    \n",
    "    # Loose analysis\n",
    "    setup_observables(dp)\n",
    "    setup_cuts(dp)\n",
    "    \n",
    "    dp.analyse_delphes_samples(delete_delphes_files=False)\n",
    "    \n",
    "    dp.save(sample_dir + 'samples_{}.h5'.format(i_card))\n"
   ]
  },
  {
   "cell_type": "markdown",
   "metadata": {},
   "source": [
    "## Combine samples"
   ]
  },
  {
   "cell_type": "code",
   "execution_count": 10,
   "metadata": {},
   "outputs": [
    {
     "name": "stderr",
     "output_type": "stream",
     "text": [
      "17:19 madminer.sampling    WARNING Careful: this tool assumes that all samples are generated with the same setup, including identical benchmarks (and thus morphing setup). If it is used with samples with different settings, there will be wrong results! There are no explicit cross checks in place yet.\n",
      "17:19 madminer.sampling    INFO    Copying setup from /Users/johannbrehmer/work/projects/madminer/diboson_mining/data/samples/wgamma_sys/samples_0.h5 to /Users/johannbrehmer/work/projects/madminer/diboson_mining/data/samples/wgamma_sys/samples.h5\n",
      "17:19 madminer.sampling    INFO    Loading samples from file 1 / 10 at /Users/johannbrehmer/work/projects/madminer/diboson_mining/data/samples/wgamma_sys/samples_0.h5, multiplying weights with k factor 1.0\n",
      "17:19 madminer.sampling    INFO    Loading samples from file 2 / 10 at /Users/johannbrehmer/work/projects/madminer/diboson_mining/data/samples/wgamma_sys/samples_1.h5, multiplying weights with k factor 1.0\n",
      "17:19 madminer.sampling    INFO    Loading samples from file 3 / 10 at /Users/johannbrehmer/work/projects/madminer/diboson_mining/data/samples/wgamma_sys/samples_2.h5, multiplying weights with k factor 1.0\n",
      "17:19 madminer.sampling    INFO    Loading samples from file 4 / 10 at /Users/johannbrehmer/work/projects/madminer/diboson_mining/data/samples/wgamma_sys/samples_3.h5, multiplying weights with k factor 1.0\n",
      "17:19 madminer.sampling    INFO    Loading samples from file 5 / 10 at /Users/johannbrehmer/work/projects/madminer/diboson_mining/data/samples/wgamma_sys/samples_4.h5, multiplying weights with k factor 1.0\n",
      "17:19 madminer.sampling    INFO    Loading samples from file 6 / 10 at /Users/johannbrehmer/work/projects/madminer/diboson_mining/data/samples/wgamma_sys/samples_5.h5, multiplying weights with k factor 1.0\n",
      "17:19 madminer.sampling    INFO    Loading samples from file 7 / 10 at /Users/johannbrehmer/work/projects/madminer/diboson_mining/data/samples/wgamma_sys/samples_6.h5, multiplying weights with k factor 1.0\n",
      "17:19 madminer.sampling    INFO    Loading samples from file 8 / 10 at /Users/johannbrehmer/work/projects/madminer/diboson_mining/data/samples/wgamma_sys/samples_7.h5, multiplying weights with k factor 1.0\n",
      "17:19 madminer.sampling    INFO    Loading samples from file 9 / 10 at /Users/johannbrehmer/work/projects/madminer/diboson_mining/data/samples/wgamma_sys/samples_8.h5, multiplying weights with k factor 1.0\n",
      "17:19 madminer.sampling    INFO    Loading samples from file 10 / 10 at /Users/johannbrehmer/work/projects/madminer/diboson_mining/data/samples/wgamma_sys/samples_9.h5, multiplying weights with k factor 1.0\n"
     ]
    }
   ],
   "source": [
    "filenames_in = [sample_dir + 'samples_{}.h5'.format(i_card) for i_card in range(n_runs_per_benchmark)]\n",
    "\n",
    "combine_and_shuffle(filenames_in, sample_dir + 'samples.h5', k_factors=1./float(n_oversampling))"
   ]
  },
  {
   "cell_type": "code",
   "execution_count": 12,
   "metadata": {},
   "outputs": [
    {
     "name": "stderr",
     "output_type": "stream",
     "text": [
      "17:49 madminer.sampling    WARNING Careful: this tool assumes that all samples are generated with the same setup, including identical benchmarks (and thus morphing setup). If it is used with samples with different settings, there will be wrong results! There are no explicit cross checks in place yet.\n",
      "17:49 madminer.sampling    INFO    Copying setup from /Users/johannbrehmer/work/projects/madminer/diboson_mining/data/samples/wgamma_sys/samples_tight_1.h5 to /Users/johannbrehmer/work/projects/madminer/diboson_mining/data/samples/wgamma_sys/samples_tight.h5\n",
      "17:49 madminer.sampling    INFO    Loading samples from file 1 / 9 at /Users/johannbrehmer/work/projects/madminer/diboson_mining/data/samples/wgamma_sys/samples_tight_1.h5, multiplying weights with k factor 1.0\n",
      "17:49 madminer.sampling    INFO    Loading samples from file 2 / 9 at /Users/johannbrehmer/work/projects/madminer/diboson_mining/data/samples/wgamma_sys/samples_tight_2.h5, multiplying weights with k factor 1.0\n",
      "17:49 madminer.sampling    INFO    Loading samples from file 3 / 9 at /Users/johannbrehmer/work/projects/madminer/diboson_mining/data/samples/wgamma_sys/samples_tight_3.h5, multiplying weights with k factor 1.0\n",
      "17:49 madminer.sampling    INFO    Loading samples from file 4 / 9 at /Users/johannbrehmer/work/projects/madminer/diboson_mining/data/samples/wgamma_sys/samples_tight_4.h5, multiplying weights with k factor 1.0\n",
      "17:49 madminer.sampling    INFO    Loading samples from file 5 / 9 at /Users/johannbrehmer/work/projects/madminer/diboson_mining/data/samples/wgamma_sys/samples_tight_5.h5, multiplying weights with k factor 1.0\n",
      "17:49 madminer.sampling    INFO    Loading samples from file 6 / 9 at /Users/johannbrehmer/work/projects/madminer/diboson_mining/data/samples/wgamma_sys/samples_tight_6.h5, multiplying weights with k factor 1.0\n",
      "17:49 madminer.sampling    INFO    Loading samples from file 7 / 9 at /Users/johannbrehmer/work/projects/madminer/diboson_mining/data/samples/wgamma_sys/samples_tight_7.h5, multiplying weights with k factor 1.0\n",
      "17:49 madminer.sampling    INFO    Loading samples from file 8 / 9 at /Users/johannbrehmer/work/projects/madminer/diboson_mining/data/samples/wgamma_sys/samples_tight_8.h5, multiplying weights with k factor 1.0\n",
      "17:49 madminer.sampling    INFO    Loading samples from file 9 / 9 at /Users/johannbrehmer/work/projects/madminer/diboson_mining/data/samples/wgamma_sys/samples_tight_9.h5, multiplying weights with k factor 1.0\n"
     ]
    }
   ],
   "source": [
    "filenames_in = [sample_dir + 'samples_tight_{}.h5'.format(i_card) for i_card in [1,2,3,4,5,6,7,8,9]]\n",
    "\n",
    "combine_and_shuffle(filenames_in, sample_dir + 'samples_tight.h5', k_factors=1./float(n_oversampling))"
   ]
  },
  {
   "cell_type": "code",
   "execution_count": null,
   "metadata": {},
   "outputs": [],
   "source": []
  }
 ],
 "metadata": {
  "kernelspec": {
   "display_name": "Python 3",
   "language": "python",
   "name": "python3"
  },
  "language_info": {
   "codemirror_mode": {
    "name": "ipython",
    "version": 3
   },
   "file_extension": ".py",
   "mimetype": "text/x-python",
   "name": "python",
   "nbconvert_exporter": "python",
   "pygments_lexer": "ipython3",
   "version": "3.6.7"
  }
 },
 "nbformat": 4,
 "nbformat_minor": 2
}
