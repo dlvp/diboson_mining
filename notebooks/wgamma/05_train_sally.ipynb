{
 "cells": [
  {
   "cell_type": "markdown",
   "metadata": {},
   "source": [
    "# Train SALLY\n",
    "\n",
    "Johann Brehmer, Kyle Cranmer, Felix Kling, Duccio Pappadopulo, Josh Ruderman 2018"
   ]
  },
  {
   "cell_type": "code",
   "execution_count": 1,
   "metadata": {},
   "outputs": [],
   "source": [
    "from __future__ import absolute_import, division, print_function, unicode_literals\n",
    "\n",
    "import numpy as np\n",
    "import matplotlib\n",
    "from matplotlib import pyplot as plt\n",
    "% matplotlib inline\n",
    "import logging\n",
    "import os\n",
    "\n",
    "from madminer.sampling import SampleAugmenter\n",
    "from madminer.sampling import multiple_benchmark_thetas\n",
    "from madminer.sampling import constant_morphing_theta, multiple_morphing_thetas, random_morphing_thetas\n",
    "from madminer.ml import MLForge\n",
    "\n",
    "logging.basicConfig(format='%(asctime)s  %(message)s', datefmt='%H:%M')"
   ]
  },
  {
   "cell_type": "code",
   "execution_count": 2,
   "metadata": {},
   "outputs": [],
   "source": [
    "base_dir = '/Users/johannbrehmer/work/projects/madminer/diboson_mining/'\n",
    "mg_dir = '/Users/johannbrehmer/work/projects/madminer/MG5_aMC_v2_6_2/'"
   ]
  },
  {
   "cell_type": "code",
   "execution_count": 3,
   "metadata": {},
   "outputs": [],
   "source": [
    "sample_dir = base_dir + 'data/samples/wgamma/'\n",
    "card_dir = base_dir + 'cards/wgamma/'\n",
    "ufo_model_dir = card_dir + 'SMWgamma_UFO'\n",
    "run_card_dir = card_dir + 'run_cards/'\n",
    "mg_process_dir = base_dir + 'data/mg_processes/wgamma/'\n",
    "log_dir = base_dir + 'logs/wgamma/'\n",
    "temp_dir = base_dir + 'data/temp'\n",
    "delphes_dir = mg_dir + 'Delphes'\n",
    "model_dir = base_dir + 'data/models/wgamma/'"
   ]
  },
  {
   "cell_type": "markdown",
   "metadata": {},
   "source": [
    "## Forge instance"
   ]
  },
  {
   "cell_type": "code",
   "execution_count": 6,
   "metadata": {},
   "outputs": [
    {
     "name": "stderr",
     "output_type": "stream",
     "text": [
      "08:20  \n",
      "08:20  ------------------------------------------------------------\n",
      "08:20  |                                                          |\n",
      "08:20  |  MadMiner v2018.10.12                                    |\n",
      "08:20  |                                                          |\n",
      "08:20  |           Johann Brehmer, Kyle Cranmer, and Felix Kling  |\n",
      "08:20  |                                                          |\n",
      "08:20  ------------------------------------------------------------\n",
      "08:20  \n"
     ]
    }
   ],
   "source": [
    "forge = MLForge(debug=False)"
   ]
  },
  {
   "cell_type": "markdown",
   "metadata": {},
   "source": [
    "## Train SALLY on all observables"
   ]
  },
  {
   "cell_type": "code",
   "execution_count": 7,
   "metadata": {},
   "outputs": [
    {
     "name": "stderr",
     "output_type": "stream",
     "text": [
      "08:20  Starting training\n",
      "08:20    Method:                 sally\n",
      "08:20    Training data: x at /Users/johannbrehmer/work/projects/madminer/diboson_mining/data/samples/wgamma/train_local/x_train_local.npy\n",
      "08:20                   t_xz (theta0) at  /Users/johannbrehmer/work/projects/madminer/diboson_mining/data/samples/wgamma/train_local/t_xz_train_local.npy\n",
      "08:20    Features:               all\n",
      "08:20    Method:                 sally\n",
      "08:20    Hidden layers:          (100, 100, 100)\n",
      "08:20    Activation function:    tanh\n",
      "08:20    Batch size:             256\n",
      "08:20    Epochs:                 20\n",
      "08:20    Learning rate:          0.001 initially, decaying to 0.0001\n",
      "08:20    Validation split:       0.5\n",
      "08:20    Early stopping:         True\n",
      "08:20  Loading training data\n",
      "08:20  Found 1000000 samples with 2 parameters and 27 observables\n",
      "08:20  Creating model for method sally\n",
      "08:20  Training model\n",
      "08:21    Epoch 2: train loss 15.86 ([15.85742034]), validation loss 61.86 ([61.86236478])\n",
      "08:21    Epoch 4: train loss 15.85 ([15.85033874]), validation loss 61.84 ([61.83815362])\n",
      "08:22    Epoch 6: train loss 15.84 ([15.83845481]), validation loss 61.82 ([61.8210462]) (*)\n",
      "08:23    Epoch 8: train loss 15.83 ([15.82600497]), validation loss 61.82 ([61.81756577]) (*)\n",
      "08:23    Epoch 10: train loss 15.82 ([15.82033647]), validation loss 61.81 ([61.81488042]) (*)\n",
      "08:24    Epoch 12: train loss 15.80 ([15.80252066]), validation loss 61.81 ([61.80552146])\n",
      "08:24    Epoch 14: train loss 15.78 ([15.77816988]), validation loss 61.80 ([61.79932287])\n",
      "08:25    Epoch 16: train loss 15.76 ([15.76164301]), validation loss 61.79 ([61.79497325])\n",
      "08:26    Epoch 18: train loss 15.75 ([15.74899409]), validation loss 61.79 ([61.78622513]) (*)\n",
      "08:26    Epoch 20: train loss 15.72 ([15.72360258]), validation loss 61.79 ([61.78652149])\n",
      "08:26  Early stopping after epoch 18, with loss 61.79 compared to final loss 61.79\n",
      "08:26  Finished training\n",
      "08:26  Saving settings to /Users/johannbrehmer/work/projects/madminer/diboson_mining/models/wgamma/sally_all_settings.json\n",
      "08:26  Saving state dictionary to /Users/johannbrehmer/work/projects/madminer/diboson_mining/models/wgamma/sally_all_state_dict.pt\n"
     ]
    }
   ],
   "source": [
    "forge.train(\n",
    "    method='sally',\n",
    "    x_filename=sample_dir + 'train_local/x_train_local.npy',\n",
    "    t_xz0_filename=sample_dir + 'train_local/t_xz_train_local.npy',\n",
    "    n_epochs=20,\n",
    "    batch_size=256,\n",
    "    validation_split=0.5\n",
    ")\n",
    "\n",
    "forge.save(model_dir + 'sally_all')"
   ]
  },
  {
   "cell_type": "markdown",
   "metadata": {},
   "source": [
    "## Train just on  lepton pT, photon pT, MET"
   ]
  },
  {
   "cell_type": "code",
   "execution_count": 8,
   "metadata": {},
   "outputs": [
    {
     "name": "stderr",
     "output_type": "stream",
     "text": [
      "08:26  Starting training\n",
      "08:26    Method:                 sally\n",
      "08:26    Training data: x at /Users/johannbrehmer/work/projects/madminer/diboson_mining/data/samples/wgamma/train_local/x_train_local.npy\n",
      "08:26                   t_xz (theta0) at  /Users/johannbrehmer/work/projects/madminer/diboson_mining/data/samples/wgamma/train_local/t_xz_train_local.npy\n",
      "08:26    Features:               [0, 4, 9]\n",
      "08:26    Method:                 sally\n",
      "08:26    Hidden layers:          (100, 100, 100)\n",
      "08:26    Activation function:    tanh\n",
      "08:26    Batch size:             256\n",
      "08:26    Epochs:                 20\n",
      "08:26    Learning rate:          0.001 initially, decaying to 0.0001\n",
      "08:26    Validation split:       0.5\n",
      "08:26    Early stopping:         True\n",
      "08:26  Loading training data\n",
      "08:26  Found 1000000 samples with 2 parameters and 27 observables\n",
      "08:26  Only using 3 / 27 observables\n",
      "08:26  Creating model for method sally\n",
      "08:26  Training model\n",
      "08:27    Epoch 2: train loss 21.72 ([21.71924807]), validation loss 56.01 ([56.00659115])\n",
      "08:28    Epoch 4: train loss 21.72 ([21.71780736]), validation loss 56.00 ([56.0006737]) (*)\n",
      "08:28    Epoch 6: train loss 21.71 ([21.71192158]), validation loss 56.00 ([55.99889166])\n",
      "08:29    Epoch 8: train loss 21.71 ([21.71023598]), validation loss 56.00 ([55.99737394]) (*)\n",
      "08:30    Epoch 10: train loss 21.70 ([21.70495514]), validation loss 56.01 ([56.00510801])\n",
      "08:30    Epoch 12: train loss 21.70 ([21.70153755]), validation loss 56.03 ([56.02554299])\n",
      "08:31    Epoch 14: train loss 21.70 ([21.6976349]), validation loss 55.99 ([55.99453666])\n",
      "08:32    Epoch 16: train loss 21.69 ([21.69136691]), validation loss 55.99 ([55.98792361]) (*)\n",
      "08:32    Epoch 18: train loss 21.69 ([21.68512425]), validation loss 55.99 ([55.98802441])\n",
      "08:33    Epoch 20: train loss 21.68 ([21.68045139]), validation loss 55.99 ([55.9864111]) (*)\n",
      "08:33  Early stopping did not improve performance\n",
      "08:33  Finished training\n",
      "08:33  Saving settings to /Users/johannbrehmer/work/projects/madminer/diboson_mining/models/wgamma/sally_pts_settings.json\n",
      "08:33  Saving state dictionary to /Users/johannbrehmer/work/projects/madminer/diboson_mining/models/wgamma/sally_pts_state_dict.pt\n"
     ]
    }
   ],
   "source": [
    "forge.train(\n",
    "    method='sally',\n",
    "    x_filename=sample_dir + 'train_local/x_train_local.npy',\n",
    "    t_xz0_filename=sample_dir + 'train_local/t_xz_train_local.npy',\n",
    "    features=[0,4,9],\n",
    "    n_epochs=20,\n",
    "    batch_size=256,\n",
    "    validation_split=0.5\n",
    ")\n",
    "\n",
    "forge.save(model_dir + 'sally_pts')"
   ]
  },
  {
   "cell_type": "markdown",
   "metadata": {},
   "source": [
    "## Train just on delta phis"
   ]
  },
  {
   "cell_type": "code",
   "execution_count": 9,
   "metadata": {},
   "outputs": [
    {
     "name": "stderr",
     "output_type": "stream",
     "text": [
      "08:33  Starting training\n",
      "08:33    Method:                 sally\n",
      "08:33    Training data: x at /Users/johannbrehmer/work/projects/madminer/diboson_mining/data/samples/wgamma/train_local/x_train_local.npy\n",
      "08:33                   t_xz (theta0) at  /Users/johannbrehmer/work/projects/madminer/diboson_mining/data/samples/wgamma/train_local/t_xz_train_local.npy\n",
      "08:33    Features:               [21, 22, 25]\n",
      "08:33    Method:                 sally\n",
      "08:33    Hidden layers:          (100, 100, 100)\n",
      "08:33    Activation function:    tanh\n",
      "08:33    Batch size:             256\n",
      "08:33    Epochs:                 20\n",
      "08:33    Learning rate:          0.001 initially, decaying to 0.0001\n",
      "08:33    Validation split:       0.5\n",
      "08:33    Early stopping:         True\n",
      "08:33  Loading training data\n",
      "08:33  Found 1000000 samples with 2 parameters and 27 observables\n",
      "08:33  Only using 3 / 27 observables\n",
      "08:33  Creating model for method sally\n",
      "08:33  Training model\n",
      "08:33    Epoch 2: train loss 55.29 ([55.29170362]), validation loss 22.44 ([22.44175448])\n",
      "08:34    Epoch 4: train loss 55.29 ([55.29020397]), validation loss 22.45 ([22.45223639])\n",
      "08:35    Epoch 6: train loss 55.29 ([55.28959249]), validation loss 22.43 ([22.43159804])\n",
      "08:35    Epoch 8: train loss 55.29 ([55.2865578]), validation loss 22.43 ([22.43484211])\n",
      "08:36    Epoch 10: train loss 55.29 ([55.28577083]), validation loss 22.43 ([22.42611506])\n",
      "08:36    Epoch 12: train loss 55.28 ([55.28242777]), validation loss 22.43 ([22.42653219])\n",
      "08:37    Epoch 14: train loss 55.28 ([55.28363958]), validation loss 22.43 ([22.42530749])\n",
      "08:38    Epoch 16: train loss 55.28 ([55.28040091]), validation loss 22.43 ([22.42993669])\n",
      "08:39    Epoch 18: train loss 55.28 ([55.27895859]), validation loss 22.42 ([22.42381969]) (*)\n",
      "08:39    Epoch 20: train loss 55.28 ([55.27728058]), validation loss 22.42 ([22.42377691])\n",
      "08:39  Early stopping after epoch 19, with loss 22.42 compared to final loss 22.42\n",
      "08:39  Finished training\n",
      "08:39  Saving settings to /Users/johannbrehmer/work/projects/madminer/diboson_mining/models/wgamma/sally_deltaphis_settings.json\n",
      "08:39  Saving state dictionary to /Users/johannbrehmer/work/projects/madminer/diboson_mining/models/wgamma/sally_deltaphis_state_dict.pt\n"
     ]
    }
   ],
   "source": [
    "forge.train(\n",
    "    method='sally',\n",
    "    x_filename=sample_dir + 'train_local/x_train_local.npy',\n",
    "    t_xz0_filename=sample_dir + 'train_local/t_xz_train_local.npy',\n",
    "    features=[21,22,25],\n",
    "    n_epochs=20,\n",
    "    batch_size=256,\n",
    "    validation_split=0.5\n",
    ")\n",
    "\n",
    "forge.save(model_dir + 'sally_deltaphis')"
   ]
  },
  {
   "cell_type": "code",
   "execution_count": null,
   "metadata": {},
   "outputs": [],
   "source": []
  }
 ],
 "metadata": {
  "kernelspec": {
   "display_name": "Python [default]",
   "language": "python",
   "name": "python3"
  },
  "language_info": {
   "codemirror_mode": {
    "name": "ipython",
    "version": 3
   },
   "file_extension": ".py",
   "mimetype": "text/x-python",
   "name": "python",
   "nbconvert_exporter": "python",
   "pygments_lexer": "ipython3",
   "version": "3.6.4"
  }
 },
 "nbformat": 4,
 "nbformat_minor": 2
}
