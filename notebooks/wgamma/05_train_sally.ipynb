{
 "cells": [
  {
   "cell_type": "markdown",
   "metadata": {
    "nbpresent": {
     "id": "f9deb73c-b62f-4cff-8d83-724074098c92"
    }
   },
   "source": [
    "# Train SALLY ensemble\n",
    "\n",
    "Johann Brehmer, Kyle Cranmer, Felix Kling, Duccio Pappadopulo, Josh Ruderman 2018"
   ]
  },
  {
   "cell_type": "code",
   "execution_count": 1,
   "metadata": {
    "nbpresent": {
     "id": "fe57a76c-4838-44c4-b0cc-5ee166785e4a"
    }
   },
   "outputs": [],
   "source": [
    "from __future__ import absolute_import, division, print_function, unicode_literals\n",
    "\n",
    "import numpy as np\n",
    "import matplotlib\n",
    "from matplotlib import pyplot as plt\n",
    "% matplotlib inline\n",
    "import logging\n",
    "import os\n",
    "\n",
    "from madminer.sampling import SampleAugmenter\n",
    "from madminer.sampling import multiple_benchmark_thetas\n",
    "from madminer.sampling import constant_morphing_theta, multiple_morphing_thetas, random_morphing_thetas\n",
    "from madminer.ml import MLForge, EnsembleForge\n",
    "\n",
    "logging.basicConfig(format='%(asctime)s  %(message)s', datefmt='%H:%M')"
   ]
  },
  {
   "cell_type": "code",
   "execution_count": 2,
   "metadata": {
    "nbpresent": {
     "id": "f3463c40-6421-42a1-8681-527c3ec42541"
    }
   },
   "outputs": [],
   "source": [
    "base_dir = '/Users/johannbrehmer/work/projects/madminer/diboson_mining/'\n",
    "mg_dir = '/Users/johannbrehmer/work/projects/madminer/MG5_aMC_v2_6_2/'"
   ]
  },
  {
   "cell_type": "code",
   "execution_count": 3,
   "metadata": {
    "nbpresent": {
     "id": "b2c73eca-c625-4f7a-9cee-4ccb2dcbb3e9"
    }
   },
   "outputs": [],
   "source": [
    "sample_dir = base_dir + 'data/samples/wgamma/'\n",
    "card_dir = base_dir + 'cards/wgamma/'\n",
    "ufo_model_dir = card_dir + 'SMWgamma_UFO'\n",
    "run_card_dir = card_dir + 'run_cards/'\n",
    "mg_process_dir = base_dir + 'data/mg_processes/wgamma/'\n",
    "log_dir = base_dir + 'logs/wgamma/'\n",
    "temp_dir = base_dir + 'data/temp'\n",
    "delphes_dir = mg_dir + 'Delphes'\n",
    "model_dir = base_dir + 'data/models/wgamma/'"
   ]
  },
  {
   "cell_type": "markdown",
   "metadata": {},
   "source": [
    "## Settings"
   ]
  },
  {
   "cell_type": "code",
   "execution_count": 4,
   "metadata": {},
   "outputs": [],
   "source": [
    "n_estimators = 10"
   ]
  },
  {
   "cell_type": "markdown",
   "metadata": {},
   "source": [
    "## Training function"
   ]
  },
  {
   "cell_type": "code",
   "execution_count": 5,
   "metadata": {},
   "outputs": [],
   "source": [
    "def train_ensemble(filename, use_tight_cuts=True, n_estimators=10, **kwargs):\n",
    "    cut_label = '_tight' if use_tight_cuts else ''\n",
    "    \n",
    "    ensemble = EnsembleForge(n_estimators, debug=True)\n",
    "\n",
    "    ensemble.train_all(\n",
    "        method='sally',\n",
    "        x_filename=[sample_dir + 'train_local{}/x_train_{}.npy'.format(cut_label, i) for i in range(n_estimators)],\n",
    "        t_xz0_filename=[sample_dir + 'train_local{}/t_xz_train_{}.npy'.format(cut_label, i) for i in range(n_estimators)],\n",
    "        **kwargs\n",
    "    )\n",
    "\n",
    "    ensemble_all.calculate_expectation(\n",
    "        x_filename=sample_dir + 'validation{}/x_validation.npy'.format(cut_label)\n",
    "    )\n",
    "\n",
    "    ensemble_all.save(model_dir + 'sally_ensemble_' + filename)"
   ]
  },
  {
   "cell_type": "markdown",
   "metadata": {
    "nbpresent": {
     "id": "b45e7f73-8f4c-4261-a381-4b7ad6af120f"
    }
   },
   "source": [
    "## All observables"
   ]
  },
  {
   "cell_type": "code",
   "execution_count": null,
   "metadata": {},
   "outputs": [
    {
     "name": "stderr",
     "output_type": "stream",
     "text": [
      "14:47  \n",
      "14:47  ------------------------------------------------------------\n",
      "14:47  |                                                          |\n",
      "14:47  |  MadMiner v2018.10.30                                    |\n",
      "14:47  |                                                          |\n",
      "14:47  |           Johann Brehmer, Kyle Cranmer, and Felix Kling  |\n",
      "14:47  |                                                          |\n",
      "14:47  ------------------------------------------------------------\n",
      "14:47  \n",
      "14:47  Training 10 estimators in ensemble\n",
      "14:47  Training estimator 1 / 10 in ensemble\n",
      "14:47  Starting training\n",
      "14:47    Method:                 sally\n",
      "14:47    Training data: x at /Users/johannbrehmer/work/projects/madminer/diboson_mining/data/samples/wgamma/train_local/x_train_0.npy\n",
      "14:47                   t_xz (theta0) at  /Users/johannbrehmer/work/projects/madminer/diboson_mining/data/samples/wgamma/train_local/t_xz_train_0.npy\n",
      "14:47    Features:               all\n",
      "14:47    Method:                 sally\n",
      "14:47    Hidden layers:          (100, 100)\n",
      "14:47    Activation function:    tanh\n",
      "14:47    Batch size:             128\n",
      "14:47    Trainer:                amsgrad\n",
      "14:47    Epochs:                 50\n",
      "14:47    Learning rate:          0.001 initially, decaying to 0.0001\n",
      "14:47    Validation split:       0.25\n",
      "14:47    Early stopping:         True\n",
      "14:47    Scale inputs:           True\n",
      "14:47  Loading training data\n",
      "14:47  Found 1000000 samples with 2 parameters and 30 observables\n",
      "14:47  Rescaling inputs\n",
      "14:47  Observable ranges:\n",
      "14:47    x_1: mean 6.419753617592505e-18, std 1.0000000000000075, range -1.273277171831007 ... 39.19196791071219\n",
      "14:47    x_2: mean 2.1044499476374767e-17, std 1.0000000000000395, range -1.733243105468066 ... 1.7341089215736893\n",
      "14:47    x_3: mean -4.202182957158129e-14, std 1.0000000000000018, range -0.6627933383458936 ... 29.406040960043978\n",
      "14:47    x_4: mean 8.038369969654014e-17, std 0.9999999999999755, range -4.488462292903202 ... 4.998677022605968\n",
      "14:47    x_5: mean -3.0372468984296576e-15, std 0.9999999999912971, range -0.021516317766378815 ... 73.91771999280327\n",
      "14:47    x_6: mean 1.3113066188452648e-17, std 1.0000000000000147, range -0.8206657726740447 ... 35.5301532649686\n",
      "14:47    x_7: mean 6.881737490971318e-14, std 1.0000000000000242, range -0.7677872847203812 ... 43.43959008041253\n",
      "14:47    x_8: mean -1.163158458439284e-17, std 0.9999999999999921, range -2.0343244853516707 ... 2.031867592322052\n",
      "14:47    x_9: mean -1.6328272067767103e-17, std 1.0000000000000397, range -1.7299872726535153 ... 1.7273636142499504\n",
      "14:47    x_10: mean 4.544631337921601e-16, std 1.0000000000051603, range -0.0658463404403015 ... 30.369254394619542\n",
      "14:47    x_11: mean 5.207212439017894e-17, std 1.0000000000000193, range -1.2131297540851593 ... 39.330290875375745\n",
      "14:47    x_12: mean -1.6893153542696382e-18, std 1.0000000000000018, range -0.9378011765357979 ... 40.11121360007891\n",
      "14:47    x_13: mean -1.1173284519827575e-17, std 1.0000000000000158, range -1.955075636812355 ... 1.957909141224387\n",
      "14:47    x_14: mean 2.886935135393287e-17, std 0.9999999999999456, range -1.7277076585857163 ... 1.731278387893323\n",
      "14:47    x_15: mean 5.115197154736961e-17, std 0.9999999999941871, range -0.44680551332542806 ... 12.648095733002704\n",
      "14:47    x_16: mean 2.9132252166164107e-18, std 0.9999999999916928, range -0.4319186855574488 ... 32.053873734316745\n",
      "14:47    x_17: mean -1.6974617267351278e-15, std 1.0000000000089522, range -0.2674994316300085 ... 28.122898828324313\n",
      "14:47    x_18: mean -3.8635761256955445e-17, std 0.999999999999298, range -6.24018946497412 ... 6.151772671444564\n",
      "14:47    x_19: mean -2.4980906232485724e-17, std 1.0000000000019762, range -3.897852554005462 ... 3.898580233616082\n",
      "14:47    x_20: mean 0.0, std 0.0, range 0.0 ... 0.0\n",
      "14:47    x_21: mean -3.772537837676282e-17, std 1.0000000000000138, range -2.430524700253137 ... 2.424143351283609\n",
      "14:47    x_22: mean 5.464073637995171e-18, std 1.0000000000000107, range -2.0164866500379786 ... 2.0487753772505015\n",
      "14:47    x_23: mean -1.5112366469338666e-14, std 0.9999999999999827, range -1.5674418170784745 ... 41.93635967995625\n",
      "14:47    x_24: mean -3.046471164225295e-14, std 1.0000000000000142, range -1.2187841201457463 ... 41.664169721850975\n",
      "14:47    x_25: mean 2.2838461788410314e-14, std 0.9999999999999956, range -0.967746327406224 ... 39.37547198564782\n",
      "14:47    x_26: mean -3.3999469906120792e-18, std 0.9999999999999831, range -3.961417461633021 ... 3.879973179209304\n",
      "14:47    x_27: mean -4.6057380131969693e-17, std 0.999999999999947, range -2.3431791886099473 ... 2.3331273653301636\n",
      "14:47    x_28: mean -9.838567649467223e-14, std 0.9999999999999714, range -1.4257582780200626 ... 42.09951770174036\n",
      "14:47    x_29: mean 4.495541006122039e-14, std 1.0000000000000608, range -0.9773530589814833 ... 50.713174116911205\n",
      "14:47    x_30: mean 5.88187276662211e-17, std 0.9999999999975875, range -1.9319884518067263 ... 1.9377785884467784\n",
      "14:47  Creating model for method sally\n",
      "14:47  Training model\n",
      "14:48    Epoch 1: train loss 24.67 ([24.66859118]), validation loss 21.48 ([21.48382888]) (*)\n",
      "14:49    Epoch 2: train loss 24.66 ([24.65833079]), validation loss 21.48 ([21.4809703]) (*)\n"
     ]
    }
   ],
   "source": [
    "train_ensemble('all', use_tight_cuts=False)"
   ]
  },
  {
   "cell_type": "code",
   "execution_count": null,
   "metadata": {},
   "outputs": [],
   "source": [
    "train_ensemble('all_tight', use_tight_cuts=True)"
   ]
  },
  {
   "cell_type": "code",
   "execution_count": null,
   "metadata": {},
   "outputs": [],
   "source": [
    "train_ensemble(\n",
    "    'all_tight_sgd',\n",
    "    use_tight_cuts=True,\n",
    "    trainer='sgd',\n",
    "    nesterov_momentum=0.9,\n",
    "    initial_lr=0.1,\n",
    "    final_lr=0.01\n",
    ")"
   ]
  },
  {
   "cell_type": "code",
   "execution_count": null,
   "metadata": {},
   "outputs": [],
   "source": [
    "train_ensemble('resurrection_tight', use_tight_cuts=True)"
   ]
  },
  {
   "cell_type": "code",
   "execution_count": null,
   "metadata": {
    "nbpresent": {
     "id": "7d171470-6c7e-4a74-8ca8-5589004e32d6"
    }
   },
   "outputs": [],
   "source": []
  }
 ],
 "metadata": {
  "kernelspec": {
   "display_name": "Python [default]",
   "language": "python",
   "name": "python3"
  },
  "language_info": {
   "codemirror_mode": {
    "name": "ipython",
    "version": 3
   },
   "file_extension": ".py",
   "mimetype": "text/x-python",
   "name": "python",
   "nbconvert_exporter": "python",
   "pygments_lexer": "ipython3",
   "version": "3.6.4"
  }
 },
 "nbformat": 4,
 "nbformat_minor": 2
}
