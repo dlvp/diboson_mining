{
 "cells": [
  {
   "cell_type": "markdown",
   "metadata": {},
   "source": [
    "# Evaluate Fisher information\n",
    "\n",
    "Johann Brehmer, Kyle Cranmer, Felix Kling, Duccio Pappadopulo, Josh Ruderman 2018"
   ]
  },
  {
   "cell_type": "code",
   "execution_count": 1,
   "metadata": {},
   "outputs": [],
   "source": [
    "from __future__ import absolute_import, division, print_function, unicode_literals\n",
    "\n",
    "import numpy as np\n",
    "import matplotlib\n",
    "from matplotlib import pyplot as plt\n",
    "% matplotlib inline\n",
    "import logging\n",
    "import os\n",
    "\n",
    "import madminer.core\n",
    "from madminer.fisherinformation import FisherInformation\n",
    "from madminer.plotting import plot_fisher_information_contours_2d\n",
    "\n",
    "logging.basicConfig(format='%(asctime)s  %(message)s', datefmt='%H:%M')"
   ]
  },
  {
   "cell_type": "code",
   "execution_count": 2,
   "metadata": {},
   "outputs": [],
   "source": [
    "base_dir = '/Users/johannbrehmer/work/projects/madminer/diboson_mining/'\n",
    "mg_dir = '/Users/johannbrehmer/work/projects/madminer/MG5_aMC_v2_6_2/'"
   ]
  },
  {
   "cell_type": "code",
   "execution_count": 3,
   "metadata": {},
   "outputs": [],
   "source": [
    "sample_dir = base_dir + 'data/samples/wgamma/'\n",
    "card_dir = base_dir + 'cards/wgamma/'\n",
    "ufo_model_dir = card_dir + 'SMWgamma_UFO'\n",
    "run_card_dir = card_dir + 'run_cards/'\n",
    "mg_process_dir = base_dir + 'data/mg_processes/wgamma/'\n",
    "log_dir = base_dir + 'logs/wgamma/'\n",
    "temp_dir = base_dir + 'data/temp'\n",
    "delphes_dir = mg_dir + 'Delphes'\n",
    "model_dir = base_dir + 'data/models/wgamma/'"
   ]
  },
  {
   "cell_type": "markdown",
   "metadata": {},
   "source": [
    "## FisherInformation instance"
   ]
  },
  {
   "cell_type": "code",
   "execution_count": 4,
   "metadata": {},
   "outputs": [
    {
     "name": "stderr",
     "output_type": "stream",
     "text": [
      "18:26  \n",
      "18:26  ------------------------------------------------------------\n",
      "18:26  |                                                          |\n",
      "18:26  |  MadMiner v2018.10.22                                    |\n",
      "18:26  |                                                          |\n",
      "18:26  |           Johann Brehmer, Kyle Cranmer, and Felix Kling  |\n",
      "18:26  |                                                          |\n",
      "18:26  ------------------------------------------------------------\n",
      "18:26  \n",
      "18:26  Loading data from /Users/johannbrehmer/work/projects/madminer/diboson_mining/data/samples/wgamma/samples.h5\n",
      "18:26  Found 2 parameters:\n",
      "18:26     cWWW (LHA: dim6 1, maximal power in squared ME: (2,), range: (-0.1, 0.1))\n",
      "18:26     cWWWtilde (LHA: dim6 2, maximal power in squared ME: (2,), range: (-0.1, 0.1))\n",
      "18:26  Found 6 benchmarks:\n",
      "18:26     sm: cWWW = 0.00e+00, cWWWtilde = 0.00e+00\n",
      "18:26     morphing_basis_vector_1: cWWW = -9.39e-02, cWWWtilde = 0.07\n",
      "18:26     morphing_basis_vector_2: cWWW = 0.08, cWWWtilde = -3.59e-02\n",
      "18:26     morphing_basis_vector_3: cWWW = -9.48e-02, cWWWtilde = -2.79e-02\n",
      "18:26     morphing_basis_vector_4: cWWW = -1.80e-04, cWWWtilde = -9.99e-02\n",
      "18:26     morphing_basis_vector_5: cWWW = 0.09, cWWWtilde = 0.07\n",
      "18:26  Found 27 observables: et_miss, phi_miss, n_ls, e_l1, pt_l1, eta_l1, phi_l1, n_as, e_a1, pt_a1, eta_a1, phi_a1, e_a2, pt_a2, eta_a2, phi_a2, n_js, e_j1, pt_j1, eta_j1, phi_j1, deltaphi_l1_met, deltaphi_a1_met, m_l1_a1, deltaeta_l1_a1, deltaphi_l1_a1, signed_deltaphi_l1_a1\n",
      "18:26  Found 770011 events\n",
      "18:26  Found morphing setup with 6 components\n"
     ]
    }
   ],
   "source": [
    "fisher = FisherInformation(sample_dir + 'samples.h5', debug=True)"
   ]
  },
  {
   "cell_type": "markdown",
   "metadata": {},
   "source": [
    "## Consistency check for full Fisher info"
   ]
  },
  {
   "cell_type": "markdown",
   "metadata": {},
   "source": [
    "### Calculate Fisher information: individual estimators"
   ]
  },
  {
   "cell_type": "code",
   "execution_count": null,
   "metadata": {},
   "outputs": [],
   "source": [
    "fisher_infos_individual = []\n",
    "\n",
    "for i in range(10):\n",
    "    fisher_infos_individual.append(\n",
    "        fisher.calculate_fisher_information_full_detector(\n",
    "            theta=[0.,0.],\n",
    "            luminosity=300000.,\n",
    "            model_file=model_dir + 'sally_all_' + str(i),\n",
    "            unweighted_x_sample_file = sample_dir + 'test/x_test.npy'\n",
    "        )\n",
    "    )\n"
   ]
  },
  {
   "cell_type": "markdown",
   "metadata": {},
   "source": [
    "### Calculate Fisher information: ensemble"
   ]
  },
  {
   "cell_type": "code",
   "execution_count": 7,
   "metadata": {},
   "outputs": [
    {
     "name": "stderr",
     "output_type": "stream",
     "text": [
      "18:28  Loading ensemble setup from /Users/johannbrehmer/work/projects/madminer/diboson_mining/data/models/wgamma/sally_ensemble_all/ensemble.json\n",
      "18:28    Found ensemble with 10 estimators and expectations [[ 0.00634092  0.06508537]\n",
      " [ 0.02007575  0.02556378]\n",
      " [ 0.03975902 -0.01588391]\n",
      " [-0.02189546  0.02988753]\n",
      " [-0.01648937 -0.00555408]\n",
      " [-0.00935855  0.00249242]\n",
      " [ 0.04448106 -0.01657623]\n",
      " [ 0.0275156  -0.01794838]\n",
      " [-0.05467386  0.020074  ]\n",
      " [-0.00354157 -0.00803116]]\n",
      "18:28  Loading settings from /Users/johannbrehmer/work/projects/madminer/diboson_mining/data/models/wgamma/sally_ensemble_all/estimator_0_settings.json\n",
      "18:28    Found method sally, 27 observables, 2 parameters, (50,) hidden layers, tanh activation function, features None\n",
      "18:28  Loading state dictionary from /Users/johannbrehmer/work/projects/madminer/diboson_mining/data/models/wgamma/sally_ensemble_all/estimator_0_state_dict.pt\n",
      "18:28  Loading settings from /Users/johannbrehmer/work/projects/madminer/diboson_mining/data/models/wgamma/sally_ensemble_all/estimator_1_settings.json\n",
      "18:28    Found method sally, 27 observables, 2 parameters, (100,) hidden layers, tanh activation function, features None\n",
      "18:28  Loading state dictionary from /Users/johannbrehmer/work/projects/madminer/diboson_mining/data/models/wgamma/sally_ensemble_all/estimator_1_state_dict.pt\n",
      "18:28  Loading settings from /Users/johannbrehmer/work/projects/madminer/diboson_mining/data/models/wgamma/sally_ensemble_all/estimator_2_settings.json\n",
      "18:28    Found method sally, 27 observables, 2 parameters, (50, 50) hidden layers, tanh activation function, features None\n",
      "18:28  Loading state dictionary from /Users/johannbrehmer/work/projects/madminer/diboson_mining/data/models/wgamma/sally_ensemble_all/estimator_2_state_dict.pt\n",
      "18:28  Loading settings from /Users/johannbrehmer/work/projects/madminer/diboson_mining/data/models/wgamma/sally_ensemble_all/estimator_3_settings.json\n",
      "18:28    Found method sally, 27 observables, 2 parameters, (50, 20) hidden layers, tanh activation function, features None\n",
      "18:28  Loading state dictionary from /Users/johannbrehmer/work/projects/madminer/diboson_mining/data/models/wgamma/sally_ensemble_all/estimator_3_state_dict.pt\n",
      "18:28  Loading settings from /Users/johannbrehmer/work/projects/madminer/diboson_mining/data/models/wgamma/sally_ensemble_all/estimator_4_settings.json\n",
      "18:28    Found method sally, 27 observables, 2 parameters, (100, 100) hidden layers, tanh activation function, features None\n",
      "18:28  Loading state dictionary from /Users/johannbrehmer/work/projects/madminer/diboson_mining/data/models/wgamma/sally_ensemble_all/estimator_4_state_dict.pt\n",
      "18:28  Loading settings from /Users/johannbrehmer/work/projects/madminer/diboson_mining/data/models/wgamma/sally_ensemble_all/estimator_5_settings.json\n",
      "18:28    Found method sally, 27 observables, 2 parameters, (100, 20) hidden layers, tanh activation function, features None\n",
      "18:28  Loading state dictionary from /Users/johannbrehmer/work/projects/madminer/diboson_mining/data/models/wgamma/sally_ensemble_all/estimator_5_state_dict.pt\n",
      "18:28  Loading settings from /Users/johannbrehmer/work/projects/madminer/diboson_mining/data/models/wgamma/sally_ensemble_all/estimator_6_settings.json\n",
      "18:28    Found method sally, 27 observables, 2 parameters, (50, 50, 50) hidden layers, tanh activation function, features None\n",
      "18:28  Loading state dictionary from /Users/johannbrehmer/work/projects/madminer/diboson_mining/data/models/wgamma/sally_ensemble_all/estimator_6_state_dict.pt\n",
      "18:28  Loading settings from /Users/johannbrehmer/work/projects/madminer/diboson_mining/data/models/wgamma/sally_ensemble_all/estimator_7_settings.json\n",
      "18:28    Found method sally, 27 observables, 2 parameters, (50, 20, 10) hidden layers, tanh activation function, features None\n",
      "18:28  Loading state dictionary from /Users/johannbrehmer/work/projects/madminer/diboson_mining/data/models/wgamma/sally_ensemble_all/estimator_7_state_dict.pt\n",
      "18:28  Loading settings from /Users/johannbrehmer/work/projects/madminer/diboson_mining/data/models/wgamma/sally_ensemble_all/estimator_8_settings.json\n",
      "18:28    Found method sally, 27 observables, 2 parameters, (100, 100, 100) hidden layers, tanh activation function, features None\n",
      "18:28  Loading state dictionary from /Users/johannbrehmer/work/projects/madminer/diboson_mining/data/models/wgamma/sally_ensemble_all/estimator_8_state_dict.pt\n",
      "18:28  Loading settings from /Users/johannbrehmer/work/projects/madminer/diboson_mining/data/models/wgamma/sally_ensemble_all/estimator_9_settings.json\n",
      "18:28    Found method sally, 27 observables, 2 parameters, (100, 50, 20) hidden layers, tanh activation function, features None\n",
      "18:28  Loading state dictionary from /Users/johannbrehmer/work/projects/madminer/diboson_mining/data/models/wgamma/sally_ensemble_all/estimator_9_state_dict.pt\n",
      "18:28  Evaluating Fisher information for 10 estimators in ensemble\n",
      "18:28  Starting evaluation for estimator 1 / 10 in ensemble\n",
      "18:28  Loading evaluation data\n",
      "18:28  Starting score evaluation\n",
      "18:28  Expected score (should be close to zero): [0.0082342 0.0646942]\n",
      "18:28  Starting evaluation for estimator 2 / 10 in ensemble\n",
      "18:28  Loading evaluation data\n",
      "18:28  Starting score evaluation\n",
      "18:29  Expected score (should be close to zero): [0.0216758  0.02463804]\n",
      "18:29  Starting evaluation for estimator 3 / 10 in ensemble\n",
      "18:29  Loading evaluation data\n",
      "18:29  Starting score evaluation\n",
      "18:29  Expected score (should be close to zero): [ 0.04190053 -0.01552333]\n",
      "18:29  Starting evaluation for estimator 4 / 10 in ensemble\n",
      "18:29  Loading evaluation data\n",
      "18:29  Starting score evaluation\n",
      "18:29  Expected score (should be close to zero): [-0.02058795  0.02968429]\n",
      "18:29  Starting evaluation for estimator 5 / 10 in ensemble\n",
      "18:29  Loading evaluation data\n",
      "18:29  Starting score evaluation\n",
      "18:30  Expected score (should be close to zero): [-0.01516639 -0.00570913]\n",
      "18:30  Starting evaluation for estimator 6 / 10 in ensemble\n",
      "18:30  Loading evaluation data\n",
      "18:30  Starting score evaluation\n",
      "18:30  Expected score (should be close to zero): [-0.007738    0.00291458]\n",
      "18:30  Starting evaluation for estimator 7 / 10 in ensemble\n",
      "18:30  Loading evaluation data\n",
      "18:30  Starting score evaluation\n",
      "18:30  Expected score (should be close to zero): [ 0.04540535 -0.01679108]\n",
      "18:30  Starting evaluation for estimator 8 / 10 in ensemble\n",
      "18:30  Loading evaluation data\n",
      "18:30  Starting score evaluation\n",
      "18:31  Expected score (should be close to zero): [ 0.0273785  -0.01807505]\n",
      "18:31  Starting evaluation for estimator 9 / 10 in ensemble\n",
      "18:31  Loading evaluation data\n",
      "18:31  Starting score evaluation\n",
      "18:31  Expected score (should be close to zero): [-0.05497546  0.02016618]\n",
      "18:31  Starting evaluation for estimator 10 / 10 in ensemble\n",
      "18:31  Loading evaluation data\n",
      "18:31  Starting score evaluation\n",
      "18:31  Expected score (should be close to zero): [ 0.00012301 -0.00768869]\n"
     ]
    }
   ],
   "source": [
    "fisher_info_ensemble_mean, fisher_info_ensemble_std = fisher.calculate_fisher_information_full_detector(\n",
    "    theta=[0.,0.],\n",
    "    luminosity=300000.,\n",
    "    model_file=model_dir + 'sally_ensemble_all',\n",
    "    unweighted_x_sample_file = sample_dir + 'test/x_test.npy'\n",
    ")\n"
   ]
  },
  {
   "cell_type": "code",
   "execution_count": 8,
   "metadata": {},
   "outputs": [
    {
     "name": "stdout",
     "output_type": "stream",
     "text": [
      "[[815903.32363941  14451.79419957]\n",
      " [ 14451.79419957  38105.43188361]] \n",
      "+/-\n",
      " [[272259.6471058   44424.75870183]\n",
      " [ 44424.75870183  21454.31919565]]\n"
     ]
    }
   ],
   "source": [
    "print(fisher_info_ensemble_mean, '\\n+/-\\n', fisher_info_ensemble_std)"
   ]
  },
  {
   "cell_type": "markdown",
   "metadata": {},
   "source": [
    "### Plot"
   ]
  },
  {
   "cell_type": "code",
   "execution_count": 10,
   "metadata": {
    "scrolled": true
   },
   "outputs": [
    {
     "data": {
      "image/png": "[encoded data removed]",
      "text/plain": [
       "<matplotlib.figure.Figure at 0x11f0dc588>"
      ]
     },
     "metadata": {},
     "output_type": "display_data"
    }
   ],
   "source": [
    "xmax = 0.006\n",
    "\n",
    "fig = plot_fisher_information_contours_2d(\n",
    "    fisher_information_matrices=[fisher_info_ensemble_mean, fisher_info_ensemble_mean - fisher_info_ensemble_std, fisher_info_ensemble_mean + fisher_info_ensemble_std],\n",
    "    contour_distance=1.,\n",
    "    xrange=(-xmax,xmax),\n",
    "    yrange=(-xmax,xmax),\n",
    "    xlabel=r'$f_{WWW}$',\n",
    "    ylabel=r'$f_{\\tilde{W}WW}$',\n",
    "    linestyles=['-', '--', ':'],\n",
    "    colors=['mediumblue', 'mediumblue', 'mediumblue']\n",
    ")\n"
   ]
  },
  {
   "cell_type": "markdown",
   "metadata": {},
   "source": [
    "## Compare all methods"
   ]
  },
  {
   "cell_type": "markdown",
   "metadata": {},
   "source": [
    "### Calculate Fisher information: truth"
   ]
  },
  {
   "cell_type": "code",
   "execution_count": 32,
   "metadata": {},
   "outputs": [],
   "source": [
    "fisher_info_xsec = fisher.calculate_fisher_information_rate(\n",
    "    theta=[0.,0.],\n",
    "    luminosity = 300000.\n",
    ")"
   ]
  },
  {
   "cell_type": "code",
   "execution_count": 33,
   "metadata": {},
   "outputs": [],
   "source": [
    "fisher_info_truth = fisher.calculate_fisher_information_full_truth(\n",
    "    theta=[0.,0.],\n",
    "    luminosity = 300000.\n",
    ")"
   ]
  },
  {
   "cell_type": "markdown",
   "metadata": {},
   "source": [
    "### Calculate Fisher information: various histograms"
   ]
  },
  {
   "cell_type": "code",
   "execution_count": 34,
   "metadata": {},
   "outputs": [
    {
     "name": "stderr",
     "output_type": "stream",
     "text": [
      "/Users/johannbrehmer/work/projects/madminer/madminer/madminer/fisherinformation.py:293: RuntimeWarning: divide by zero encountered in double_scalars\n",
      "  luminosity : float\n",
      "/Users/johannbrehmer/work/projects/madminer/madminer/madminer/fisherinformation.py:293: RuntimeWarning: invalid value encountered in multiply\n",
      "  luminosity : float\n"
     ]
    }
   ],
   "source": [
    "observables = ['et_miss', 'pt_l1', 'pt_a1', 'deltaphi_l1_a1']\n",
    "obs_mins = [0., 0., 0., 0.]\n",
    "obs_maxs = [500., 500., 500., 6.]\n",
    "bins = 25\n",
    "\n",
    "fisher_infos_histograms = []\n",
    "for observable, obs_min, obs_max in zip(observables, obs_mins, obs_maxs):\n",
    "    fisher_infos_histograms.append(\n",
    "        fisher.calculate_fisher_information_hist1d(\n",
    "            theta=[0.,0.],\n",
    "            luminosity=300000.,\n",
    "            observable=observable,\n",
    "            nbins=bins,\n",
    "            histrange=(obs_min,obs_max)\n",
    "        )\n",
    "    )"
   ]
  },
  {
   "cell_type": "markdown",
   "metadata": {},
   "source": [
    "### Calculate Fisher information: ML trained on different observables"
   ]
  },
  {
   "cell_type": "code",
   "execution_count": 35,
   "metadata": {},
   "outputs": [
    {
     "name": "stderr",
     "output_type": "stream",
     "text": [
      "18:48  \n",
      "18:48  ------------------------------------------------------------\n",
      "18:48  |                                                          |\n",
      "18:48  |  MadMiner v2018.10.12                                    |\n",
      "18:48  |                                                          |\n",
      "18:48  |           Johann Brehmer, Kyle Cranmer, and Felix Kling  |\n",
      "18:48  |                                                          |\n",
      "18:48  ------------------------------------------------------------\n",
      "18:48  \n",
      "18:48  Loading settings from /Users/johannbrehmer/work/projects/madminer/diboson_mining/data/models/wgamma/sally_all_0_settings.json\n",
      "18:48    Found method sally, 27 observables, 2 parameters, (100, 100, 100) hidden layers, tanh activation function, features None\n",
      "18:48  Loading state dictionary from /Users/johannbrehmer/work/projects/madminer/diboson_mining/data/models/wgamma/sally_all_0_state_dict.pt\n",
      "18:48  Loading evaluation data\n",
      "18:48  Starting score evaluation\n",
      "18:48  Expected score (should be close to zero): [0.02794518 0.0002183 ]\n",
      "18:49  \n",
      "18:49  ------------------------------------------------------------\n",
      "18:49  |                                                          |\n",
      "18:49  |  MadMiner v2018.10.12                                    |\n",
      "18:49  |                                                          |\n",
      "18:49  |           Johann Brehmer, Kyle Cranmer, and Felix Kling  |\n",
      "18:49  |                                                          |\n",
      "18:49  ------------------------------------------------------------\n",
      "18:49  \n",
      "18:49  Loading settings from /Users/johannbrehmer/work/projects/madminer/diboson_mining/data/models/wgamma/sally_pts_settings.json\n",
      "18:49    Found method sally, 3 observables, 2 parameters, (100, 100, 100) hidden layers, tanh activation function, features [0, 4, 9]\n",
      "18:49  Loading state dictionary from /Users/johannbrehmer/work/projects/madminer/diboson_mining/data/models/wgamma/sally_pts_state_dict.pt\n",
      "18:49  Loading evaluation data\n",
      "18:49  Starting score evaluation\n",
      "18:49  Expected score (should be close to zero): [-0.01981084  0.00710725]\n",
      "18:50  \n",
      "18:50  ------------------------------------------------------------\n",
      "18:50  |                                                          |\n",
      "18:50  |  MadMiner v2018.10.12                                    |\n",
      "18:50  |                                                          |\n",
      "18:50  |           Johann Brehmer, Kyle Cranmer, and Felix Kling  |\n",
      "18:50  |                                                          |\n",
      "18:50  ------------------------------------------------------------\n",
      "18:50  \n",
      "18:50  Loading settings from /Users/johannbrehmer/work/projects/madminer/diboson_mining/data/models/wgamma/sally_deltaphis_settings.json\n",
      "18:50    Found method sally, 3 observables, 2 parameters, (100, 100, 100) hidden layers, tanh activation function, features [21, 22, 25]\n",
      "18:50  Loading state dictionary from /Users/johannbrehmer/work/projects/madminer/diboson_mining/data/models/wgamma/sally_deltaphis_state_dict.pt\n",
      "18:50  Loading evaluation data\n",
      "18:50  Starting score evaluation\n",
      "18:50  Expected score (should be close to zero): [-0.01778096  0.01590132]\n"
     ]
    }
   ],
   "source": [
    "model_filenames = ['sally_all_0', 'sally_pts', 'sally_deltaphis']\n",
    "fisher_infos_detector = []\n",
    "\n",
    "for filename in model_filenames:\n",
    "    fisher_infos_detector.append(\n",
    "        fisher.calculate_fisher_information_full_detector(\n",
    "            theta=[0.,0.],\n",
    "            luminosity=300000.,\n",
    "            model_file=model_dir + filename,\n",
    "            unweighted_x_sample_file = sample_dir + 'test_local/x_test.npy'\n",
    "        )\n",
    "    )"
   ]
  },
  {
   "cell_type": "markdown",
   "metadata": {},
   "source": [
    "### Fisher information contours"
   ]
  },
  {
   "cell_type": "code",
   "execution_count": 46,
   "metadata": {},
   "outputs": [],
   "source": [
    "fisher_infos = np.array(\n",
    "    [fisher_info_xsec]\n",
    "    + list(fisher_infos_histograms)\n",
    "    +  list(fisher_infos_detector)\n",
    ")\n",
    "labels = [\n",
    "    'xsec',\n",
    "    'MET', r'$p_{T, \\ell}$', r'$p_{T, \\gamma}$', r'$\\Delta\\phi_{\\ell\\gamma}$',\n",
    "    'all', r'all $p_{T}$', r'all $\\Delta \\phi$'\n",
    "]\n",
    "colors = [\n",
    "    '0.5',\n",
    "    'dodgerblue', 'mediumblue', 'steelblue', 'deepskyblue',\n",
    "    '#CC002E', 'orangered', 'r'\n",
    "]\n",
    "linestyles = [\n",
    "    ':',\n",
    "    '--', '--', '--', '--',\n",
    "    '-', '--', '--'\n",
    "]\n"
   ]
  },
  {
   "cell_type": "code",
   "execution_count": 47,
   "metadata": {
    "scrolled": true
   },
   "outputs": [
    {
     "data": {
      "image/png": "[encoded data removed]",
      "text/plain": [
       "<matplotlib.figure.Figure at 0x10f70fef0>"
      ]
     },
     "metadata": {},
     "output_type": "display_data"
    }
   ],
   "source": [
    "xmax = 0.012\n",
    "\n",
    "fig = plot_fisher_information_contours_2d(\n",
    "    fisher_information_matrices=fisher_infos,\n",
    "    contour_distance=1.,\n",
    "    xrange=(-xmax,xmax),\n",
    "    yrange=(-xmax,xmax),\n",
    "    xlabel=r'$f_{WWW}$',\n",
    "    ylabel=r'$f_{\\tilde{W}WW}$',\n",
    "    matrix_labels=labels,\n",
    "    colors=colors,\n",
    "    linestyles=linestyles\n",
    ")\n",
    "\n",
    "plt.savefig('information_wgamma.pdf')\n"
   ]
  },
  {
   "cell_type": "code",
   "execution_count": null,
   "metadata": {},
   "outputs": [],
   "source": []
  }
 ],
 "metadata": {
  "kernelspec": {
   "display_name": "Python [default]",
   "language": "python",
   "name": "python3"
  },
  "language_info": {
   "codemirror_mode": {
    "name": "ipython",
    "version": 3
   },
   "file_extension": ".py",
   "mimetype": "text/x-python",
   "name": "python",
   "nbconvert_exporter": "python",
   "pygments_lexer": "ipython3",
   "version": "3.6.4"
  }
 },
 "nbformat": 4,
 "nbformat_minor": 2
}
