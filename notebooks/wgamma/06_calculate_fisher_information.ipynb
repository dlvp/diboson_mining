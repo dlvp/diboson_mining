{
 "cells": [
  {
   "cell_type": "markdown",
   "metadata": {},
   "source": [
    "# Evaluate Fisher information\n",
    "\n",
    "Johann Brehmer, Kyle Cranmer, Felix Kling, Duccio Pappadopulo, Josh Ruderman 2018"
   ]
  },
  {
   "cell_type": "code",
   "execution_count": 1,
   "metadata": {},
   "outputs": [],
   "source": [
    "from __future__ import absolute_import, division, print_function, unicode_literals\n",
    "\n",
    "import numpy as np\n",
    "import matplotlib\n",
    "from matplotlib import pyplot as plt\n",
    "% matplotlib inline\n",
    "import logging\n",
    "import os\n",
    "\n",
    "import madminer.core\n",
    "from madminer.fisherinformation import FisherInformation\n",
    "from madminer.plotting import plot_fisher_information_contours_2d\n",
    "\n",
    "logging.basicConfig(format='%(asctime)s  %(message)s', datefmt='%H:%M')"
   ]
  },
  {
   "cell_type": "code",
   "execution_count": 2,
   "metadata": {},
   "outputs": [],
   "source": [
    "base_dir = '/Users/johannbrehmer/work/projects/madminer/diboson_mining/'\n",
    "mg_dir = '/Users/johannbrehmer/work/projects/madminer/MG5_aMC_v2_6_2/'"
   ]
  },
  {
   "cell_type": "code",
   "execution_count": 3,
   "metadata": {},
   "outputs": [],
   "source": [
    "sample_dir = base_dir + 'data/samples/wgamma/'\n",
    "card_dir = base_dir + 'cards/wgamma/'\n",
    "ufo_model_dir = card_dir + 'SMWgamma_UFO'\n",
    "run_card_dir = card_dir + 'run_cards/'\n",
    "mg_process_dir = base_dir + 'data/mg_processes/wgamma/'\n",
    "log_dir = base_dir + 'logs/wgamma/'\n",
    "temp_dir = base_dir + 'data/temp'\n",
    "delphes_dir = mg_dir + 'Delphes'\n",
    "model_dir = base_dir + 'data/models/wgamma/'\n",
    "result_dir = base_dir + 'data/results/wgamma/'"
   ]
  },
  {
   "cell_type": "markdown",
   "metadata": {},
   "source": [
    "## Settings"
   ]
  },
  {
   "cell_type": "code",
   "execution_count": 4,
   "metadata": {},
   "outputs": [],
   "source": [
    "weight_settings = [None, 1., 10., 100.]\n",
    "weight_setting_filenames = ['', '_w1', '_w10', '_w100']"
   ]
  },
  {
   "cell_type": "markdown",
   "metadata": {},
   "source": [
    "## FisherInformation instances"
   ]
  },
  {
   "cell_type": "code",
   "execution_count": 5,
   "metadata": {},
   "outputs": [
    {
     "name": "stderr",
     "output_type": "stream",
     "text": [
      "11:55  \n",
      "11:55  ------------------------------------------------------------\n",
      "11:55  |                                                          |\n",
      "11:55  |  MadMiner v2018.11.02                                    |\n",
      "11:55  |                                                          |\n",
      "11:55  |           Johann Brehmer, Kyle Cranmer, and Felix Kling  |\n",
      "11:55  |                                                          |\n",
      "11:55  ------------------------------------------------------------\n",
      "11:55  \n",
      "11:55  Loading data from /Users/johannbrehmer/work/projects/madminer/diboson_mining/data/samples/wgamma/samples.h5\n",
      "11:55  Found 2 parameters:\n",
      "11:55     cWWW (LHA: dim6 1, maximal power in squared ME: (2,), range: (-0.1, 0.1))\n",
      "11:55     cWWWtilde (LHA: dim6 2, maximal power in squared ME: (2,), range: (-0.1, 0.1))\n",
      "11:55  Found 6 benchmarks:\n",
      "11:55     sm: cWWW = 0.00e+00, cWWWtilde = 0.00e+00\n",
      "11:55     morphing_basis_vector_1: cWWW = -9.39e-02, cWWWtilde = 0.07\n",
      "11:55     morphing_basis_vector_2: cWWW = 0.08, cWWWtilde = -3.59e-02\n",
      "11:55     morphing_basis_vector_3: cWWW = -9.48e-02, cWWWtilde = -2.79e-02\n",
      "11:55     morphing_basis_vector_4: cWWW = -1.80e-04, cWWWtilde = -9.99e-02\n",
      "11:55     morphing_basis_vector_5: cWWW = 0.09, cWWWtilde = 0.07\n",
      "11:55  Found 26 observables: et_miss, phi_miss, e_visible, eta_visible, e_l1, pt_l1, eta_l1, phi_l1, e_a1, pt_a1, eta_a1, phi_a1, e_j1, pt_j1, eta_j1, phi_j1, deltaphi_l1_met, deltaphi_a1_met, m_l1_met, pt_l1_met, m_l1_a1, deltaeta_l1_a1, deltaphi_l1_a1, m_a1_l1_met, pt_a1_l1_met, phi_resurrection\n",
      "11:55  Found 1809057 events\n",
      "11:55  Found morphing setup with 6 components\n",
      "11:55  Loading data from /Users/johannbrehmer/work/projects/madminer/diboson_mining/data/samples/wgamma/samples_tight.h5\n",
      "11:55  Found 2 parameters:\n",
      "11:55     cWWW (LHA: dim6 1, maximal power in squared ME: (2,), range: (-0.1, 0.1))\n",
      "11:55     cWWWtilde (LHA: dim6 2, maximal power in squared ME: (2,), range: (-0.1, 0.1))\n",
      "11:55  Found 6 benchmarks:\n",
      "11:55     sm: cWWW = 0.00e+00, cWWWtilde = 0.00e+00\n",
      "11:55     morphing_basis_vector_1: cWWW = -9.39e-02, cWWWtilde = 0.07\n",
      "11:55     morphing_basis_vector_2: cWWW = 0.08, cWWWtilde = -3.59e-02\n",
      "11:55     morphing_basis_vector_3: cWWW = -9.48e-02, cWWWtilde = -2.79e-02\n",
      "11:55     morphing_basis_vector_4: cWWW = -1.80e-04, cWWWtilde = -9.99e-02\n",
      "11:55     morphing_basis_vector_5: cWWW = 0.09, cWWWtilde = 0.07\n",
      "11:55  Found 26 observables: et_miss, phi_miss, e_visible, eta_visible, e_l1, pt_l1, eta_l1, phi_l1, e_a1, pt_a1, eta_a1, phi_a1, e_j1, pt_j1, eta_j1, phi_j1, deltaphi_l1_met, deltaphi_a1_met, m_l1_met, pt_l1_met, m_l1_a1, deltaeta_l1_a1, deltaphi_l1_a1, m_a1_l1_met, pt_a1_l1_met, phi_resurrection\n",
      "11:55  Found 1127942 events\n",
      "11:55  Found morphing setup with 6 components\n"
     ]
    }
   ],
   "source": [
    "fisher_all = FisherInformation(sample_dir + 'samples.h5', debug=True)\n",
    "fisher_tight = FisherInformation(sample_dir + 'samples_tight.h5', debug=True)"
   ]
  },
  {
   "cell_type": "markdown",
   "metadata": {},
   "source": [
    "## Truth-level info"
   ]
  },
  {
   "cell_type": "code",
   "execution_count": 6,
   "metadata": {},
   "outputs": [],
   "source": [
    "fisher_info, cov = fisher_all.calculate_fisher_information_full_truth(\n",
    "    theta=[0.,0.],\n",
    "    luminosity = 300000.\n",
    ")\n",
    "\n",
    "np.save(result_dir + 'information_parton.npy', fisher_info)\n",
    "np.save(result_dir + 'information_covariance_parton.npy', cov)\n"
   ]
  },
  {
   "cell_type": "code",
   "execution_count": 7,
   "metadata": {},
   "outputs": [],
   "source": [
    "fisher_info, cov = fisher_tight.calculate_fisher_information_full_truth(\n",
    "    theta=[0.,0.],\n",
    "    luminosity = 300000.\n",
    ")\n",
    "\n",
    "np.save(result_dir + 'information_parton_tight.npy', fisher_info)\n",
    "np.save(result_dir + 'information_covariance_parton_tight.npy', cov)\n"
   ]
  },
  {
   "cell_type": "markdown",
   "metadata": {},
   "source": [
    "## Rate-only info"
   ]
  },
  {
   "cell_type": "code",
   "execution_count": 8,
   "metadata": {},
   "outputs": [],
   "source": [
    "fisher_info, cov = fisher_all.calculate_fisher_information_rate(\n",
    "    theta=[0.,0.],\n",
    "    luminosity = 300000.\n",
    ")\n",
    "\n",
    "np.save(result_dir + 'information_xsec.npy', fisher_info)\n",
    "np.save(result_dir + 'information_covariance_xsec.npy', cov)\n"
   ]
  },
  {
   "cell_type": "code",
   "execution_count": 9,
   "metadata": {},
   "outputs": [],
   "source": [
    "fisher_info, cov = fisher_tight.calculate_fisher_information_rate(\n",
    "    theta=[0.,0.],\n",
    "    luminosity = 300000.\n",
    ")\n",
    "\n",
    "np.save(result_dir + 'information_xsec_tight.npy', fisher_info)\n",
    "np.save(result_dir + 'information_covariance_xsec_tight.npy', cov)\n",
    "\n"
   ]
  },
  {
   "cell_type": "markdown",
   "metadata": {},
   "source": [
    "## Full Fisher info (ML)"
   ]
  },
  {
   "cell_type": "code",
   "execution_count": 10,
   "metadata": {},
   "outputs": [
    {
     "name": "stderr",
     "output_type": "stream",
     "text": [
      "12:00  Loading ensemble setup from /Users/johannbrehmer/work/projects/madminer/diboson_mining/data/models/wgamma/sally_ensemble_all/ensemble.json\n",
      "12:00  Found ensemble with 10 estimators and expectations [[ 0.07598135  0.05132959]\n",
      " [ 0.00661409 -0.01126869]\n",
      " [ 0.01919232  0.0195618 ]\n",
      " [-0.00168112  0.02560593]\n",
      " [ 0.01931735  0.00392584]\n",
      " [ 0.00483713  0.01156073]\n",
      " [ 0.0191037  -0.02803848]\n",
      " [ 0.04548576 -0.0297866 ]\n",
      " [ 0.00432217 -0.02863304]\n",
      " [ 0.00968069  0.01947241]]\n",
      "12:00  Evaluating Fisher information for 10 estimators in ensemble\n",
      "12:00  Starting evaluation for estimator 1 / 10 in ensemble\n",
      "12:00  Expected score (should be close to zero): [0.07482558 0.05189442]\n",
      "12:00  Starting evaluation for estimator 2 / 10 in ensemble\n",
      "12:00  Expected score (should be close to zero): [ 0.00288686 -0.0058842 ]\n",
      "12:00  Starting evaluation for estimator 3 / 10 in ensemble\n",
      "12:01  Expected score (should be close to zero): [0.02044738 0.01895345]\n",
      "12:01  Starting evaluation for estimator 4 / 10 in ensemble\n",
      "12:01  Expected score (should be close to zero): [-0.00594646  0.02292913]\n",
      "12:01  Starting evaluation for estimator 5 / 10 in ensemble\n",
      "12:01  Expected score (should be close to zero): [0.01596496 0.00619995]\n",
      "12:01  Starting evaluation for estimator 6 / 10 in ensemble\n",
      "12:01  Expected score (should be close to zero): [0.00227881 0.00968623]\n",
      "12:01  Starting evaluation for estimator 7 / 10 in ensemble\n",
      "12:01  Expected score (should be close to zero): [ 0.01920044 -0.02806913]\n",
      "12:01  Starting evaluation for estimator 8 / 10 in ensemble\n",
      "12:02  Expected score (should be close to zero): [ 0.03933496 -0.02694083]\n",
      "12:02  Starting evaluation for estimator 9 / 10 in ensemble\n",
      "12:02  Expected score (should be close to zero): [-0.00212034 -0.02900109]\n",
      "12:02  Starting evaluation for estimator 10 / 10 in ensemble\n",
      "12:02  Expected score (should be close to zero): [0.0070554  0.02362106]\n"
     ]
    }
   ],
   "source": [
    "means, covs = fisher_all.calculate_fisher_information_full_detector(\n",
    "    theta=[0.,0.],\n",
    "    luminosity=300000.,\n",
    "    model_file=model_dir + 'sally_ensemble_all',\n",
    "    unweighted_x_sample_file = sample_dir + 'test/x_test.npy',\n",
    "    ensemble_vote_expectation_weight=weight_settings\n",
    ")\n",
    "\n",
    "for weight_filename, mean, cov in zip(weight_setting_filenames, means, covs):\n",
    "    np.save(result_dir + 'information_mean_full{}.npy'.format(weight_filename), mean)\n",
    "    np.save(result_dir + 'information_covariance_full{}.npy'.format(weight_filename), cov)"
   ]
  },
  {
   "cell_type": "code",
   "execution_count": 11,
   "metadata": {},
   "outputs": [
    {
     "name": "stderr",
     "output_type": "stream",
     "text": [
      "12:03  Loading ensemble setup from /Users/johannbrehmer/work/projects/madminer/diboson_mining/data/models/wgamma/sally_ensemble_all_tight/ensemble.json\n",
      "12:03  Found ensemble with 10 estimators and expectations [[-0.21800934  0.16104713]\n",
      " [ 0.26496118  0.25469989]\n",
      " [-0.2558946   0.45348474]\n",
      " [-0.00911883  0.26716518]\n",
      " [ 0.10316634  0.12745135]\n",
      " [ 0.07300109  0.22365138]\n",
      " [-0.08684525 -0.01064833]\n",
      " [ 0.21209612  0.10127637]\n",
      " [ 0.08032635  0.23434745]\n",
      " [-0.05892296  0.32795236]]\n",
      "12:03  Evaluating Fisher information for 10 estimators in ensemble\n",
      "12:03  Starting evaluation for estimator 1 / 10 in ensemble\n",
      "12:03  Expected score (should be close to zero): [-0.16422392  0.01718709]\n",
      "12:03  Starting evaluation for estimator 2 / 10 in ensemble\n",
      "12:04  Expected score (should be close to zero): [0.3455682  0.06602671]\n",
      "12:04  Starting evaluation for estimator 3 / 10 in ensemble\n",
      "12:04  Expected score (should be close to zero): [-0.30928487  0.326418  ]\n",
      "12:04  Starting evaluation for estimator 4 / 10 in ensemble\n",
      "12:04  Expected score (should be close to zero): [0.10411393 0.18077736]\n",
      "12:04  Starting evaluation for estimator 5 / 10 in ensemble\n",
      "12:04  Expected score (should be close to zero): [0.02431815 0.2261995 ]\n",
      "12:04  Starting evaluation for estimator 6 / 10 in ensemble\n",
      "12:04  Expected score (should be close to zero): [0.36066622 0.08386878]\n",
      "12:04  Starting evaluation for estimator 7 / 10 in ensemble\n",
      "12:05  Expected score (should be close to zero): [ 0.02361562 -0.01562574]\n",
      "12:05  Starting evaluation for estimator 8 / 10 in ensemble\n",
      "12:05  Expected score (should be close to zero): [ 0.26541963 -0.04530296]\n",
      "12:05  Starting evaluation for estimator 9 / 10 in ensemble\n",
      "12:05  Expected score (should be close to zero): [0.2716583  0.05410704]\n",
      "12:05  Starting evaluation for estimator 10 / 10 in ensemble\n",
      "12:06  Expected score (should be close to zero): [0.18151976 0.1044774 ]\n"
     ]
    }
   ],
   "source": [
    "means, covs = fisher_tight.calculate_fisher_information_full_detector(\n",
    "    theta=[0.,0.],\n",
    "    luminosity=300000.,\n",
    "    model_file=model_dir + 'sally_ensemble_all_tight',\n",
    "    unweighted_x_sample_file = sample_dir + 'test_tight/x_test.npy',\n",
    "    ensemble_vote_expectation_weight=weight_settings\n",
    ")\n",
    "\n",
    "for weight_filename, mean, cov in zip(weight_setting_filenames, means, covs):\n",
    "    np.save(result_dir + 'information_mean_full_tight{}.npy'.format(weight_filename), mean)\n",
    "    np.save(result_dir + 'information_covariance_full_tight{}.npy'.format(weight_filename), cov)\n",
    "    "
   ]
  },
  {
   "cell_type": "code",
   "execution_count": 12,
   "metadata": {},
   "outputs": [
    {
     "name": "stderr",
     "output_type": "stream",
     "text": [
      "14:47  Loading ensemble setup from /Users/johannbrehmer/work/projects/madminer/diboson_mining/data/models/wgamma/sally_ensemble_all_tight_sgd/ensemble.json\n",
      "14:47  Found ensemble with 10 estimators and expectations [[-0.0925543  -0.8873778 ]\n",
      " [-0.72393084  0.24227424]\n",
      " [-0.10777807 -0.0946581 ]\n",
      " [-0.73415375  0.40563491]\n",
      " [-0.13606827 -1.11668205]\n",
      " [ 1.07897842  0.12356748]\n",
      " [-0.20122971 -0.30029571]\n",
      " [ 1.03816295  0.50730717]\n",
      " [-0.47743225  0.68404365]\n",
      " [-0.66639858  0.74667388]]\n",
      "14:47  Evaluating Fisher information for 10 estimators in ensemble\n",
      "14:47  Starting evaluation for estimator 1 / 10 in ensemble\n",
      "14:47  Expected score (should be close to zero): [-0.12765652 -0.891179  ]\n",
      "14:47  Starting evaluation for estimator 2 / 10 in ensemble\n",
      "14:48  Expected score (should be close to zero): [-0.7443589   0.25837833]\n",
      "14:48  Starting evaluation for estimator 3 / 10 in ensemble\n",
      "14:48  Expected score (should be close to zero): [-0.10953198 -0.25226912]\n",
      "14:48  Starting evaluation for estimator 4 / 10 in ensemble\n",
      "14:48  Expected score (should be close to zero): [-0.670065    0.47495854]\n",
      "14:48  Starting evaluation for estimator 5 / 10 in ensemble\n",
      "14:48  Expected score (should be close to zero): [-0.12952301 -1.2551706 ]\n",
      "14:48  Starting evaluation for estimator 6 / 10 in ensemble\n",
      "14:49  Expected score (should be close to zero): [1.1351442  0.13927844]\n",
      "14:49  Starting evaluation for estimator 7 / 10 in ensemble\n",
      "14:49  Expected score (should be close to zero): [-0.21083435 -0.2578673 ]\n",
      "14:49  Starting evaluation for estimator 8 / 10 in ensemble\n",
      "14:49  Expected score (should be close to zero): [1.0087767 0.5218217]\n",
      "14:49  Starting evaluation for estimator 9 / 10 in ensemble\n",
      "14:49  Expected score (should be close to zero): [-0.42924175  0.7019478 ]\n",
      "14:49  Starting evaluation for estimator 10 / 10 in ensemble\n",
      "14:50  Expected score (should be close to zero): [-0.6679959   0.72514534]\n"
     ]
    }
   ],
   "source": [
    "means, covs = fisher_tight.calculate_fisher_information_full_detector(\n",
    "    theta=[0.,0.],\n",
    "    luminosity=300000.,\n",
    "    model_file=model_dir + 'sally_ensemble_all_tight_sgd',\n",
    "    unweighted_x_sample_file = sample_dir + 'test_tight/x_test.npy',\n",
    "    ensemble_vote_expectation_weight=weight_settings\n",
    ")\n",
    "\n",
    "for weight_filename, mean, cov in zip(weight_setting_filenames, means, covs):\n",
    "    np.save(result_dir + 'information_mean_full_tight_sgd{}.npy'.format(weight_filename), mean)\n",
    "    np.save(result_dir + 'information_covariance_full_tight_sgd{}.npy'.format(weight_filename), cov)\n",
    "    "
   ]
  },
  {
   "cell_type": "markdown",
   "metadata": {},
   "source": [
    "## Info in observables (ML)"
   ]
  },
  {
   "cell_type": "markdown",
   "metadata": {},
   "source": [
    "means, covs = fisher_tight.calculate_fisher_information_full_detector(\n",
    "    theta=[0.,0.],\n",
    "    luminosity=300000.,\n",
    "    model_file=model_dir + 'sally_ensemble_resurrection_tight',\n",
    "    unweighted_x_sample_file = sample_dir + 'test_tight/x_test.npy',\n",
    "    ensemble_vote_expectation_weight=weight_settings\n",
    ")\n",
    "\n",
    "print(means[0])\n",
    "\n",
    "for weight_filename, mean, cov in zip(weight_setting_filenames, means, covs):\n",
    "    np.save(result_dir + 'information_mean_resurrection_tight{}.npy'.format(weight_filename), mean)\n",
    "    np.save(result_dir + 'information_covariance_resurrection_tight{}.npy'.format(weight_filename), cov)\n",
    "    "
   ]
  },
  {
   "cell_type": "markdown",
   "metadata": {},
   "source": [
    "## Histogram info"
   ]
  },
  {
   "cell_type": "code",
   "execution_count": 13,
   "metadata": {},
   "outputs": [],
   "source": [
    "filenames = ['met', 'ptl', 'pta', 'deltaphi_lv', 'deltaphi_la', 'phi_resurrection']\n",
    "observables = ['et_miss', 'pt_l1', 'pt_a1', 'deltaphi_l1_met', 'deltaphi_l1_a1', 'phi_resurrection']\n",
    "bins = 25"
   ]
  },
  {
   "cell_type": "code",
   "execution_count": 14,
   "metadata": {},
   "outputs": [
    {
     "name": "stderr",
     "output_type": "stream",
     "text": [
      "/Users/johannbrehmer/work/projects/madminer/madminer/madminer/fisherinformation.py:883: RuntimeWarning: divide by zero encountered in true_divide\n",
      "  inv_sigma = sanitize_array(1.0 / sigma)  # Shape (n_events,)\n"
     ]
    }
   ],
   "source": [
    "for filename, obs in zip(filenames, observables):\n",
    "    info, cov = fisher_tight.calculate_fisher_information_hist1d(\n",
    "        theta=[0.,0.],\n",
    "        luminosity=300000.,\n",
    "        observable=obs,\n",
    "        nbins=bins,\n",
    "        histrange=None\n",
    "    )\n",
    "    \n",
    "    np.save(result_dir + 'information_histo_{}_tight.npy'.format(filename), info)\n",
    "    np.save(result_dir + 'information_covariance_histo_{}_tight.npy'.format(filename), cov)\n",
    "    "
   ]
  },
  {
   "cell_type": "code",
   "execution_count": null,
   "metadata": {},
   "outputs": [],
   "source": []
  }
 ],
 "metadata": {
  "kernelspec": {
   "display_name": "Python [default]",
   "language": "python",
   "name": "python3"
  },
  "language_info": {
   "codemirror_mode": {
    "name": "ipython",
    "version": 3
   },
   "file_extension": ".py",
   "mimetype": "text/x-python",
   "name": "python",
   "nbconvert_exporter": "python",
   "pygments_lexer": "ipython3",
   "version": "3.6.4"
  }
 },
 "nbformat": 4,
 "nbformat_minor": 2
}
