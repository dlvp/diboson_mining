{
 "cells": [
  {
   "cell_type": "markdown",
   "metadata": {},
   "source": [
    "# Evaluate Fisher information\n",
    "\n",
    "Johann Brehmer, Kyle Cranmer, Felix Kling, Duccio Pappadopulo, Josh Ruderman 2018"
   ]
  },
  {
   "cell_type": "code",
   "execution_count": 1,
   "metadata": {},
   "outputs": [],
   "source": [
    "from __future__ import absolute_import, division, print_function, unicode_literals\n",
    "\n",
    "import numpy as np\n",
    "import matplotlib\n",
    "from matplotlib import pyplot as plt\n",
    "% matplotlib inline\n",
    "import logging\n",
    "import os\n",
    "\n",
    "import madminer.core\n",
    "from madminer.fisherinformation import FisherInformation\n",
    "from madminer.plotting import plot_fisher_information_contours_2d\n",
    "\n",
    "logging.basicConfig(format='%(asctime)s  %(message)s', datefmt='%H:%M')"
   ]
  },
  {
   "cell_type": "code",
   "execution_count": 2,
   "metadata": {},
   "outputs": [],
   "source": [
    "base_dir = '/Users/johannbrehmer/work/projects/madminer/diboson_mining/'\n",
    "mg_dir = '/Users/johannbrehmer/work/projects/madminer/MG5_aMC_v2_6_2/'"
   ]
  },
  {
   "cell_type": "code",
   "execution_count": 3,
   "metadata": {},
   "outputs": [],
   "source": [
    "sample_dir = base_dir + 'data/samples/wgamma/'\n",
    "card_dir = base_dir + 'cards/wgamma/'\n",
    "ufo_model_dir = card_dir + 'SMWgamma_UFO'\n",
    "run_card_dir = card_dir + 'run_cards/'\n",
    "mg_process_dir = base_dir + 'data/mg_processes/wgamma/'\n",
    "log_dir = base_dir + 'logs/wgamma/'\n",
    "temp_dir = base_dir + 'data/temp'\n",
    "delphes_dir = mg_dir + 'Delphes'\n",
    "model_dir = base_dir + 'data/models/wgamma/'\n",
    "result_dir = base_dir + 'data/results/wgamma/'"
   ]
  },
  {
   "cell_type": "markdown",
   "metadata": {},
   "source": [
    "## Settings"
   ]
  },
  {
   "cell_type": "code",
   "execution_count": 4,
   "metadata": {},
   "outputs": [],
   "source": [
    "weight_settings = [None, 1., 10., 100.]\n",
    "weight_setting_filenames = ['', '_w1', '_w10', '_w100']"
   ]
  },
  {
   "cell_type": "markdown",
   "metadata": {},
   "source": [
    "## FisherInformation instance"
   ]
  },
  {
   "cell_type": "code",
   "execution_count": 5,
   "metadata": {},
   "outputs": [
    {
     "name": "stderr",
     "output_type": "stream",
     "text": [
      "08:09  \n",
      "08:09  ------------------------------------------------------------\n",
      "08:09  |                                                          |\n",
      "08:09  |  MadMiner v2018.10.30                                    |\n",
      "08:09  |                                                          |\n",
      "08:09  |           Johann Brehmer, Kyle Cranmer, and Felix Kling  |\n",
      "08:09  |                                                          |\n",
      "08:09  ------------------------------------------------------------\n",
      "08:09  \n",
      "08:09  Loading data from /Users/johannbrehmer/work/projects/madminer/diboson_mining/data/samples/wgamma/samples.h5\n",
      "08:09  Found 2 parameters:\n",
      "08:09     cWWW (LHA: dim6 1, maximal power in squared ME: (2,), range: (-0.1, 0.1))\n",
      "08:09     cWWWtilde (LHA: dim6 2, maximal power in squared ME: (2,), range: (-0.1, 0.1))\n",
      "08:09  Found 6 benchmarks:\n",
      "08:09     sm: cWWW = 0.00e+00, cWWWtilde = 0.00e+00\n",
      "08:09     morphing_basis_vector_1: cWWW = -9.39e-02, cWWWtilde = 0.07\n",
      "08:09     morphing_basis_vector_2: cWWW = 0.08, cWWWtilde = -3.59e-02\n",
      "08:09     morphing_basis_vector_3: cWWW = -9.48e-02, cWWWtilde = -2.79e-02\n",
      "08:09     morphing_basis_vector_4: cWWW = -1.80e-04, cWWWtilde = -9.99e-02\n",
      "08:09     morphing_basis_vector_5: cWWW = 0.09, cWWWtilde = 0.07\n",
      "08:09  Found 30 observables: et_miss, phi_miss, e_visible, eta_visible, n_ls, e_l1, pt_l1, eta_l1, phi_l1, n_as, e_a1, pt_a1, eta_a1, phi_a1, n_js, e_j1, pt_j1, eta_j1, phi_j1, charge_j1, deltaphi_l1_met, deltaphi_a1_met, m_l0_met, pt_l0_met, m_l1_a1, deltaeta_l1_a1, deltaphi_l1_a1, m_a0_l0_met, pt_a0_l0_met, phi_resurrection\n",
      "08:09  Found 1808233 events\n",
      "08:09  Found morphing setup with 6 components\n"
     ]
    }
   ],
   "source": [
    "fisher = FisherInformation(sample_dir + 'samples.h5', debug=True)"
   ]
  },
  {
   "cell_type": "markdown",
   "metadata": {},
   "source": [
    "## Truth-level info"
   ]
  },
  {
   "cell_type": "code",
   "execution_count": 6,
   "metadata": {},
   "outputs": [],
   "source": [
    "fisher_info_parton = fisher.calculate_fisher_information_full_truth(\n",
    "    theta=[0.,0.],\n",
    "    luminosity = 300000.\n",
    ")\n",
    "\n",
    "np.save(result_dir + 'information_parton.npy', fisher_info_parton)\n"
   ]
  },
  {
   "cell_type": "markdown",
   "metadata": {},
   "source": [
    "## Rate-only info"
   ]
  },
  {
   "cell_type": "code",
   "execution_count": 7,
   "metadata": {},
   "outputs": [],
   "source": [
    "fisher_info_xsec = fisher.calculate_fisher_information_rate(\n",
    "    theta=[0.,0.],\n",
    "    luminosity = 300000.\n",
    ")\n",
    "\n",
    "np.save(result_dir + 'information_xsec.npy', fisher_info_xsec)\n"
   ]
  },
  {
   "cell_type": "markdown",
   "metadata": {},
   "source": [
    "## Full Fisher info (ML)"
   ]
  },
  {
   "cell_type": "code",
   "execution_count": 8,
   "metadata": {},
   "outputs": [
    {
     "name": "stderr",
     "output_type": "stream",
     "text": [
      "08:15  Loading ensemble setup from /Users/johannbrehmer/work/projects/madminer/diboson_mining/data/models/wgamma/sally_ensemble_all/ensemble.json\n",
      "08:15  Found ensemble with 20 estimators and expectations [[ 0.03204757 -0.04126279]\n",
      " [-0.02273991  0.05664141]\n",
      " [ 0.05441407  0.01417246]\n",
      " [-0.03075575 -0.04044286]\n",
      " [-0.02910792 -0.07734152]\n",
      " [ 0.00972841 -0.06626226]\n",
      " [ 0.0228152   0.1098204 ]\n",
      " [-0.05857595  0.01893184]\n",
      " [ 0.02957168 -0.08383568]\n",
      " [-0.3199839   0.15417713]\n",
      " [-0.04143749 -0.0601419 ]\n",
      " [ 0.01575857  0.0789884 ]\n",
      " [ 0.05620619 -0.05044384]\n",
      " [ 0.04178018  0.01603008]\n",
      " [-0.03680419  0.0245736 ]\n",
      " [-0.02385111  0.02015075]\n",
      " [ 0.02806177 -0.01884802]\n",
      " [ 0.06489246 -0.02968051]\n",
      " [-0.01572647 -0.00190887]\n",
      " [ 0.05007704 -0.02756988]]\n",
      "08:15  Evaluating Fisher information for 20 estimators in ensemble\n",
      "08:15  Starting evaluation for estimator 1 / 20 in ensemble\n",
      "08:16  Expected score (should be close to zero): [ 0.03102839 -0.04141914]\n",
      "08:16  Starting evaluation for estimator 2 / 20 in ensemble\n",
      "08:16  Expected score (should be close to zero): [-0.02547894  0.05641323]\n",
      "08:16  Starting evaluation for estimator 3 / 20 in ensemble\n",
      "08:16  Expected score (should be close to zero): [0.05242002 0.01376919]\n",
      "08:16  Starting evaluation for estimator 4 / 20 in ensemble\n",
      "08:17  Expected score (should be close to zero): [-0.03375162 -0.04021956]\n",
      "08:17  Starting evaluation for estimator 5 / 20 in ensemble\n",
      "08:17  Expected score (should be close to zero): [-0.03002116 -0.07762633]\n",
      "08:17  Starting evaluation for estimator 6 / 20 in ensemble\n",
      "08:17  Expected score (should be close to zero): [ 0.00749423 -0.0665107 ]\n",
      "08:17  Starting evaluation for estimator 7 / 20 in ensemble\n",
      "08:18  Expected score (should be close to zero): [0.0215998  0.10980216]\n",
      "08:18  Starting evaluation for estimator 8 / 20 in ensemble\n",
      "08:18  Expected score (should be close to zero): [-0.06072135  0.01922707]\n",
      "08:18  Starting evaluation for estimator 9 / 20 in ensemble\n",
      "08:18  Expected score (should be close to zero): [ 0.02856542 -0.0839527 ]\n",
      "08:18  Starting evaluation for estimator 10 / 20 in ensemble\n",
      "08:19  Expected score (should be close to zero): [-0.3219676   0.15416269]\n",
      "08:19  Starting evaluation for estimator 11 / 20 in ensemble\n",
      "08:19  Expected score (should be close to zero): [-0.04291719 -0.06030243]\n",
      "08:19  Starting evaluation for estimator 12 / 20 in ensemble\n",
      "08:19  Expected score (should be close to zero): [0.01453238 0.07886383]\n",
      "08:19  Starting evaluation for estimator 13 / 20 in ensemble\n",
      "08:20  Expected score (should be close to zero): [ 0.05398832 -0.05054502]\n",
      "08:20  Starting evaluation for estimator 14 / 20 in ensemble\n",
      "08:20  Expected score (should be close to zero): [0.04092592 0.01575098]\n",
      "08:20  Starting evaluation for estimator 15 / 20 in ensemble\n",
      "08:20  Expected score (should be close to zero): [-0.03899081  0.02427703]\n",
      "08:20  Starting evaluation for estimator 16 / 20 in ensemble\n",
      "08:21  Expected score (should be close to zero): [-0.02654293  0.0196551 ]\n",
      "08:21  Starting evaluation for estimator 17 / 20 in ensemble\n",
      "08:21  Expected score (should be close to zero): [ 0.02696615 -0.01897013]\n",
      "08:21  Starting evaluation for estimator 18 / 20 in ensemble\n",
      "08:21  Expected score (should be close to zero): [ 0.06378694 -0.02982346]\n",
      "08:21  Starting evaluation for estimator 19 / 20 in ensemble\n",
      "08:22  Expected score (should be close to zero): [-0.01728351 -0.00193492]\n",
      "08:22  Starting evaluation for estimator 20 / 20 in ensemble\n",
      "08:22  Expected score (should be close to zero): [ 0.04876843 -0.02798077]\n"
     ]
    }
   ],
   "source": [
    "means, covs = fisher.calculate_fisher_information_full_detector(\n",
    "    theta=[0.,0.],\n",
    "    luminosity=300000.,\n",
    "    model_file=model_dir + 'sally_ensemble_all',\n",
    "    unweighted_x_sample_file = sample_dir + 'test/x_test.npy',\n",
    "    ensemble_vote_expectation_weight=weight_settings\n",
    ")\n",
    "\n",
    "for weight_filename, mean, cov in zip(weight_setting_filenames, means, covs):\n",
    "    np.save(result_dir + 'information_mean_full{}.npy'.format(weight_filename), mean)\n",
    "    np.save(result_dir + 'information_covariance_full{}.npy'.format(weight_filename), cov)"
   ]
  },
  {
   "cell_type": "markdown",
   "metadata": {},
   "source": [
    "## Info in observables (ML)"
   ]
  },
  {
   "cell_type": "code",
   "execution_count": 9,
   "metadata": {},
   "outputs": [
    {
     "name": "stderr",
     "output_type": "stream",
     "text": [
      "08:25  Loading ensemble setup from /Users/johannbrehmer/work/projects/madminer/diboson_mining/data/models/wgamma/sally_ensemble_deltaphi/ensemble.json\n",
      "08:25  Found ensemble with 20 estimators and expectations [[ 0.01428281  0.00531502]\n",
      " [-0.00108248 -0.0074827 ]\n",
      " [ 0.00490564  0.00044522]\n",
      " [ 0.00950521  0.00056793]\n",
      " [ 0.00695332  0.00272985]\n",
      " [-0.00010192 -0.00506927]\n",
      " [-0.00208527 -0.00592995]\n",
      " [ 0.02129456  0.01054829]\n",
      " [ 0.00924479 -0.00488937]\n",
      " [-0.00105973  0.00674628]\n",
      " [-0.00418518 -0.00493223]\n",
      " [-0.00204606 -0.00598308]\n",
      " [ 0.00781755  0.00542245]\n",
      " [ 0.00062396  0.00213693]\n",
      " [ 0.00560929  0.00486967]\n",
      " [ 0.0071533   0.0064686 ]\n",
      " [ 0.00738978 -0.00364019]\n",
      " [-0.00066078  0.00456094]\n",
      " [-0.0004693   0.00517488]\n",
      " [-0.00488432 -0.00201409]]\n",
      "08:25  Evaluating Fisher information for 20 estimators in ensemble\n",
      "08:25  Starting evaluation for estimator 1 / 20 in ensemble\n",
      "08:25  Expected score (should be close to zero): [0.01452639 0.00524897]\n",
      "08:25  Starting evaluation for estimator 2 / 20 in ensemble\n",
      "08:25  Expected score (should be close to zero): [-0.00059784 -0.00759179]\n",
      "08:25  Starting evaluation for estimator 3 / 20 in ensemble\n",
      "08:26  Expected score (should be close to zero): [0.00523076 0.00037273]\n",
      "08:26  Starting evaluation for estimator 4 / 20 in ensemble\n",
      "08:26  Expected score (should be close to zero): [0.00966004 0.00052532]\n",
      "08:26  Starting evaluation for estimator 5 / 20 in ensemble\n",
      "08:26  Expected score (should be close to zero): [0.00730856 0.00281274]\n",
      "08:26  Starting evaluation for estimator 6 / 20 in ensemble\n",
      "08:26  Expected score (should be close to zero): [ 0.0002004  -0.00503938]\n",
      "08:26  Starting evaluation for estimator 7 / 20 in ensemble\n",
      "08:27  Expected score (should be close to zero): [-0.00169219 -0.00578199]\n",
      "08:27  Starting evaluation for estimator 8 / 20 in ensemble\n",
      "08:27  Expected score (should be close to zero): [0.02174415 0.01067748]\n",
      "08:27  Starting evaluation for estimator 9 / 20 in ensemble\n",
      "08:27  Expected score (should be close to zero): [ 0.0095073  -0.00472773]\n",
      "08:27  Starting evaluation for estimator 10 / 20 in ensemble\n",
      "08:28  Expected score (should be close to zero): [-0.00072207  0.00663608]\n",
      "08:28  Starting evaluation for estimator 11 / 20 in ensemble\n",
      "08:28  Expected score (should be close to zero): [-0.00412754 -0.00483136]\n",
      "08:28  Starting evaluation for estimator 12 / 20 in ensemble\n",
      "08:28  Expected score (should be close to zero): [-0.00165646 -0.00604883]\n",
      "08:28  Starting evaluation for estimator 13 / 20 in ensemble\n",
      "08:29  Expected score (should be close to zero): [0.00801698 0.00548194]\n",
      "08:29  Starting evaluation for estimator 14 / 20 in ensemble\n",
      "08:29  Expected score (should be close to zero): [0.00096705 0.00196904]\n",
      "08:29  Starting evaluation for estimator 15 / 20 in ensemble\n",
      "08:29  Expected score (should be close to zero): [0.00611649 0.00494277]\n",
      "08:29  Starting evaluation for estimator 16 / 20 in ensemble\n",
      "08:29  Expected score (should be close to zero): [0.00756891 0.00642219]\n",
      "08:29  Starting evaluation for estimator 17 / 20 in ensemble\n",
      "08:30  Expected score (should be close to zero): [ 0.00744925 -0.00360997]\n",
      "08:30  Starting evaluation for estimator 18 / 20 in ensemble\n",
      "08:30  Expected score (should be close to zero): [-0.00024065  0.0046471 ]\n",
      "08:30  Starting evaluation for estimator 19 / 20 in ensemble\n",
      "08:30  Expected score (should be close to zero): [-0.00023506  0.00524514]\n",
      "08:30  Starting evaluation for estimator 20 / 20 in ensemble\n",
      "08:31  Expected score (should be close to zero): [-0.00445157 -0.00197087]\n"
     ]
    }
   ],
   "source": [
    "means, covs = fisher.calculate_fisher_information_full_detector(\n",
    "    theta=[0.,0.],\n",
    "    luminosity=300000.,\n",
    "    model_file=model_dir + 'sally_ensemble_deltaphi',\n",
    "    unweighted_x_sample_file = sample_dir + 'test/x_test.npy',\n",
    "    ensemble_vote_expectation_weight=weight_settings\n",
    ")\n",
    "\n",
    "for weight_filename, mean, cov in zip(weight_setting_filenames, means, covs):\n",
    "    np.save(result_dir + 'information_mean_deltaphi{}.npy'.format(weight_filename), mean)\n",
    "    np.save(result_dir + 'information_covariance_deltaphi{}.npy'.format(weight_filename), cov)"
   ]
  },
  {
   "cell_type": "code",
   "execution_count": 10,
   "metadata": {},
   "outputs": [
    {
     "name": "stderr",
     "output_type": "stream",
     "text": [
      "08:33  Loading ensemble setup from /Users/johannbrehmer/work/projects/madminer/diboson_mining/data/models/wgamma/sally_ensemble_met/ensemble.json\n",
      "08:33  Found ensemble with 20 estimators and expectations [[ 0.02272519 -0.01953053]\n",
      " [ 0.02308884  0.00164204]\n",
      " [ 0.00784216  0.00719034]\n",
      " [-0.01566505  0.00717336]\n",
      " [-0.06711584 -0.04679087]\n",
      " [ 0.06617928  0.00036818]\n",
      " [-0.03279284 -0.00281756]\n",
      " [-0.03282881  0.00791341]\n",
      " [ 0.00587244 -0.00919737]\n",
      " [ 0.03765859  0.01425881]\n",
      " [-0.0481303  -0.00811759]\n",
      " [-0.00631865 -0.02273407]\n",
      " [-0.03515056 -0.00830877]\n",
      " [ 0.00461069  0.04432376]\n",
      " [-0.02545383 -0.04821105]\n",
      " [ 0.0126791  -0.0854085 ]\n",
      " [-0.01543825 -0.0395059 ]\n",
      " [-0.05105131 -0.00641482]\n",
      " [ 0.044085    0.07499459]\n",
      " [-0.09711312 -0.0586315 ]]\n",
      "08:33  Evaluating Fisher information for 20 estimators in ensemble\n",
      "08:33  Starting evaluation for estimator 1 / 20 in ensemble\n",
      "08:34  Expected score (should be close to zero): [ 0.02272519 -0.0195305 ]\n",
      "08:34  Starting evaluation for estimator 2 / 20 in ensemble\n",
      "08:34  Expected score (should be close to zero): [0.02312657 0.00161547]\n",
      "08:34  Starting evaluation for estimator 3 / 20 in ensemble\n",
      "08:34  Expected score (should be close to zero): [0.00784216 0.00719034]\n",
      "08:34  Starting evaluation for estimator 4 / 20 in ensemble\n",
      "08:35  Expected score (should be close to zero): [-0.01564618  0.00716578]\n",
      "08:35  Starting evaluation for estimator 5 / 20 in ensemble\n",
      "08:35  Expected score (should be close to zero): [-0.06712495 -0.0467159 ]\n",
      "08:35  Starting evaluation for estimator 6 / 20 in ensemble\n",
      "08:35  Expected score (should be close to zero): [0.06617928 0.00036818]\n",
      "08:35  Starting evaluation for estimator 7 / 20 in ensemble\n",
      "08:35  Expected score (should be close to zero): [-0.03279293 -0.00281851]\n",
      "08:35  Starting evaluation for estimator 8 / 20 in ensemble\n",
      "08:36  Expected score (should be close to zero): [-0.03282881  0.00791341]\n",
      "08:36  Starting evaluation for estimator 9 / 20 in ensemble\n",
      "08:36  Expected score (should be close to zero): [ 0.00587334 -0.00919743]\n",
      "08:36  Starting evaluation for estimator 10 / 20 in ensemble\n",
      "08:45  Expected score (should be close to zero): [0.03765561 0.01427261]\n",
      "08:45  Starting evaluation for estimator 11 / 20 in ensemble\n",
      "08:46  Expected score (should be close to zero): [-0.04812934 -0.00812   ]\n",
      "08:46  Starting evaluation for estimator 12 / 20 in ensemble\n",
      "08:46  Expected score (should be close to zero): [-0.00631869 -0.02273407]\n",
      "08:46  Starting evaluation for estimator 13 / 20 in ensemble\n",
      "08:46  Expected score (should be close to zero): [-0.03515056 -0.00830877]\n",
      "08:46  Starting evaluation for estimator 14 / 20 in ensemble\n",
      "08:47  Expected score (should be close to zero): [0.00461075 0.04432397]\n",
      "08:47  Starting evaluation for estimator 15 / 20 in ensemble\n",
      "08:47  Expected score (should be close to zero): [-0.02545295 -0.04818788]\n",
      "08:47  Starting evaluation for estimator 16 / 20 in ensemble\n",
      "08:47  Expected score (should be close to zero): [ 0.01264842 -0.08531729]\n",
      "08:47  Starting evaluation for estimator 17 / 20 in ensemble\n",
      "08:47  Expected score (should be close to zero): [-0.01543858 -0.03950781]\n",
      "08:47  Starting evaluation for estimator 18 / 20 in ensemble\n",
      "08:48  Expected score (should be close to zero): [-0.05105233 -0.00641305]\n",
      "08:48  Starting evaluation for estimator 19 / 20 in ensemble\n",
      "08:48  Expected score (should be close to zero): [0.04407676 0.07501701]\n",
      "08:48  Starting evaluation for estimator 20 / 20 in ensemble\n",
      "08:48  Expected score (should be close to zero): [-0.09710582 -0.05862619]\n"
     ]
    }
   ],
   "source": [
    "means, covs = fisher.calculate_fisher_information_full_detector(\n",
    "    theta=[0.,0.],\n",
    "    luminosity=300000.,\n",
    "    model_file=model_dir + 'sally_ensemble_met',\n",
    "    unweighted_x_sample_file = sample_dir + 'test/x_test.npy',\n",
    "    ensemble_vote_expectation_weight=weight_settings\n",
    ")\n",
    "\n",
    "for weight_filename, mean, cov in zip(weight_setting_filenames, means, covs):\n",
    "    np.save(result_dir + 'information_mean_met{}.npy'.format(weight_filename), mean)\n",
    "    np.save(result_dir + 'information_covariance_met{}.npy'.format(weight_filename), cov)"
   ]
  },
  {
   "cell_type": "code",
   "execution_count": 11,
   "metadata": {},
   "outputs": [
    {
     "name": "stderr",
     "output_type": "stream",
     "text": [
      "08:51  Loading ensemble setup from /Users/johannbrehmer/work/projects/madminer/diboson_mining/data/models/wgamma/sally_ensemble_dummy/ensemble.json\n",
      "08:51  Found ensemble with 20 estimators and expectations [[ 0.00336673 -0.00288502]\n",
      " [ 0.0068463  -0.00944023]\n",
      " [ 0.00100317 -0.0060065 ]\n",
      " [ 0.00568094 -0.00070863]\n",
      " [ 0.006575   -0.00283663]\n",
      " [ 0.00195738  0.00871882]\n",
      " [ 0.0051679  -0.00715192]\n",
      " [ 0.01136171  0.00861109]\n",
      " [ 0.00392051 -0.010827  ]\n",
      " [-0.00224715  0.00736448]\n",
      " [-0.00815651 -0.00631816]\n",
      " [-0.00376409 -0.00368507]\n",
      " [ 0.00249377  0.00758593]\n",
      " [ 0.005772   -0.00649926]\n",
      " [-0.00109865  0.00498505]\n",
      " [-0.00260419  0.00814076]\n",
      " [ 0.00449551 -0.00786066]\n",
      " [ 0.00568148 -0.00503886]\n",
      " [ 0.00205642  0.00773895]\n",
      " [ 0.0042204  -0.00023774]]\n",
      "08:51  Evaluating Fisher information for 20 estimators in ensemble\n",
      "08:51  Starting evaluation for estimator 1 / 20 in ensemble\n",
      "08:52  Expected score (should be close to zero): [ 0.00335908 -0.00287694]\n",
      "08:52  Starting evaluation for estimator 2 / 20 in ensemble\n",
      "08:52  Expected score (should be close to zero): [ 0.00684252 -0.00943456]\n",
      "08:52  Starting evaluation for estimator 3 / 20 in ensemble\n",
      "08:52  Expected score (should be close to zero): [ 0.00100138 -0.00600502]\n",
      "08:52  Starting evaluation for estimator 4 / 20 in ensemble\n",
      "08:53  Expected score (should be close to zero): [ 0.00567829 -0.00069912]\n",
      "08:53  Starting evaluation for estimator 5 / 20 in ensemble\n",
      "08:53  Expected score (should be close to zero): [ 0.00657405 -0.0028329 ]\n",
      "08:53  Starting evaluation for estimator 6 / 20 in ensemble\n",
      "08:53  Expected score (should be close to zero): [0.0019575  0.00871897]\n",
      "08:53  Starting evaluation for estimator 7 / 20 in ensemble\n",
      "08:54  Expected score (should be close to zero): [ 0.00516333 -0.00714246]\n",
      "08:54  Starting evaluation for estimator 8 / 20 in ensemble\n",
      "08:54  Expected score (should be close to zero): [0.01135453 0.00862147]\n",
      "08:54  Starting evaluation for estimator 9 / 20 in ensemble\n",
      "08:54  Expected score (should be close to zero): [ 0.00391179 -0.01082497]\n",
      "08:54  Starting evaluation for estimator 10 / 20 in ensemble\n",
      "08:54  Expected score (should be close to zero): [-0.00224754  0.00736493]\n",
      "08:54  Starting evaluation for estimator 11 / 20 in ensemble\n",
      "08:55  Expected score (should be close to zero): [-0.00815779 -0.00631956]\n",
      "08:55  Starting evaluation for estimator 12 / 20 in ensemble\n",
      "08:55  Expected score (should be close to zero): [-0.00376575 -0.00367656]\n",
      "08:55  Starting evaluation for estimator 13 / 20 in ensemble\n",
      "08:55  Expected score (should be close to zero): [0.00249318 0.00760221]\n",
      "08:55  Starting evaluation for estimator 14 / 20 in ensemble\n",
      "08:56  Expected score (should be close to zero): [ 0.00577199 -0.00649976]\n",
      "08:56  Starting evaluation for estimator 15 / 20 in ensemble\n",
      "08:56  Expected score (should be close to zero): [-0.00110144  0.00498532]\n",
      "08:56  Starting evaluation for estimator 16 / 20 in ensemble\n",
      "08:56  Expected score (should be close to zero): [-0.00260483  0.00814166]\n",
      "08:56  Starting evaluation for estimator 17 / 20 in ensemble\n",
      "08:57  Expected score (should be close to zero): [ 0.00449473 -0.0078584 ]\n",
      "08:57  Starting evaluation for estimator 18 / 20 in ensemble\n",
      "08:57  Expected score (should be close to zero): [ 0.00567615 -0.00503631]\n",
      "08:57  Starting evaluation for estimator 19 / 20 in ensemble\n",
      "08:57  Expected score (should be close to zero): [0.00205723 0.00773761]\n",
      "08:57  Starting evaluation for estimator 20 / 20 in ensemble\n",
      "08:58  Expected score (should be close to zero): [ 0.0042211 -0.0002341]\n"
     ]
    }
   ],
   "source": [
    "means, covs = fisher.calculate_fisher_information_full_detector(\n",
    "    theta=[0.,0.],\n",
    "    luminosity=300000.,\n",
    "    model_file=model_dir + 'sally_ensemble_dummy',\n",
    "    unweighted_x_sample_file = sample_dir + 'test/x_test.npy',\n",
    "    ensemble_vote_expectation_weight=weight_settings\n",
    ")\n",
    "\n",
    "for weight_filename, mean, cov in zip(weight_setting_filenames, means, covs):\n",
    "    np.save(result_dir + 'information_mean_dummy{}.npy'.format(weight_filename), mean)\n",
    "    np.save(result_dir + 'information_covariance_dummy{}.npy'.format(weight_filename), cov)"
   ]
  },
  {
   "cell_type": "code",
   "execution_count": 14,
   "metadata": {},
   "outputs": [
    {
     "name": "stderr",
     "output_type": "stream",
     "text": [
      "10:07  Loading ensemble setup from /Users/johannbrehmer/work/projects/madminer/diboson_mining/data/models/wgamma/sally_ensemble_resurrection/ensemble.json\n",
      "10:07  Found ensemble with 20 estimators and expectations [[ 0.0031571  -0.00529903]\n",
      " [-0.00704187 -0.01263378]\n",
      " [ 0.00147036 -0.00874161]\n",
      " [ 0.00024858  0.00263365]\n",
      " [ 0.00405722 -0.00343769]\n",
      " [-0.00119947  0.00644899]\n",
      " [ 0.00158439 -0.00339344]\n",
      " [ 0.00563954  0.00829799]\n",
      " [-0.00332506 -0.00051809]\n",
      " [-0.00134955  0.00435185]\n",
      " [-0.00233581 -0.01089808]\n",
      " [-0.00815972 -0.00128444]\n",
      " [ 0.00607474  0.00218514]\n",
      " [ 0.00638331 -0.00159927]\n",
      " [ 0.00032959  0.00698967]\n",
      " [-0.00381187  0.00743328]\n",
      " [ 0.01006584 -0.00946279]\n",
      " [ 0.0073764   0.00974631]\n",
      " [ 0.00366369  0.00336566]\n",
      " [-0.00764222  0.0042087 ]]\n",
      "10:07  Evaluating Fisher information for 20 estimators in ensemble\n",
      "10:07  Starting evaluation for estimator 1 / 20 in ensemble\n",
      "10:07  Expected score (should be close to zero): [ 0.00314972 -0.0053083 ]\n",
      "10:07  Starting evaluation for estimator 2 / 20 in ensemble\n",
      "10:07  Expected score (should be close to zero): [-0.00704257 -0.01263422]\n",
      "10:07  Starting evaluation for estimator 3 / 20 in ensemble\n",
      "10:08  Expected score (should be close to zero): [ 0.00146692 -0.008745  ]\n",
      "10:08  Starting evaluation for estimator 4 / 20 in ensemble\n",
      "10:08  Expected score (should be close to zero): [0.00025355 0.00262797]\n",
      "10:08  Starting evaluation for estimator 5 / 20 in ensemble\n",
      "10:08  Expected score (should be close to zero): [ 0.00404897 -0.00344522]\n",
      "10:08  Starting evaluation for estimator 6 / 20 in ensemble\n",
      "10:08  Expected score (should be close to zero): [-0.00119502  0.00644358]\n",
      "10:08  Starting evaluation for estimator 7 / 20 in ensemble\n",
      "10:08  Expected score (should be close to zero): [ 0.00158443 -0.00339352]\n",
      "10:08  Starting evaluation for estimator 8 / 20 in ensemble\n",
      "10:09  Expected score (should be close to zero): [0.00564006 0.00829971]\n",
      "10:09  Starting evaluation for estimator 9 / 20 in ensemble\n",
      "10:09  Expected score (should be close to zero): [-0.00332343 -0.00052044]\n",
      "10:09  Starting evaluation for estimator 10 / 20 in ensemble\n",
      "10:09  Expected score (should be close to zero): [-0.0013495   0.00435188]\n",
      "10:09  Starting evaluation for estimator 11 / 20 in ensemble\n",
      "10:09  Expected score (should be close to zero): [-0.00233536 -0.01090164]\n",
      "10:09  Starting evaluation for estimator 12 / 20 in ensemble\n",
      "10:09  Expected score (should be close to zero): [-0.00815854 -0.00128623]\n",
      "10:09  Starting evaluation for estimator 13 / 20 in ensemble\n",
      "10:10  Expected score (should be close to zero): [0.00607662 0.00218456]\n",
      "10:10  Starting evaluation for estimator 14 / 20 in ensemble\n",
      "10:10  Expected score (should be close to zero): [ 0.00638971 -0.00160517]\n",
      "10:10  Starting evaluation for estimator 15 / 20 in ensemble\n",
      "10:10  Expected score (should be close to zero): [0.00033096 0.00698613]\n",
      "10:10  Starting evaluation for estimator 16 / 20 in ensemble\n",
      "10:10  Expected score (should be close to zero): [-0.00381223  0.00743369]\n",
      "10:10  Starting evaluation for estimator 17 / 20 in ensemble\n",
      "10:10  Expected score (should be close to zero): [ 0.01006767 -0.00947171]\n",
      "10:10  Starting evaluation for estimator 18 / 20 in ensemble\n",
      "10:11  Expected score (should be close to zero): [0.00737591 0.009745  ]\n",
      "10:11  Starting evaluation for estimator 19 / 20 in ensemble\n",
      "10:11  Expected score (should be close to zero): [0.00366393 0.00336534]\n",
      "10:11  Starting evaluation for estimator 20 / 20 in ensemble\n",
      "10:11  Expected score (should be close to zero): [-0.00764306  0.00420698]\n"
     ]
    }
   ],
   "source": [
    "means, covs = fisher.calculate_fisher_information_full_detector(\n",
    "    theta=[0.,0.],\n",
    "    luminosity=300000.,\n",
    "    model_file=model_dir + 'sally_ensemble_resurrection',\n",
    "    unweighted_x_sample_file = sample_dir + 'test/x_test.npy',\n",
    "    ensemble_vote_expectation_weight=weight_settings\n",
    ")\n",
    "\n",
    "for weight_filename, mean, cov in zip(weight_setting_filenames, means, covs):\n",
    "    np.save(result_dir + 'information_mean_resurrection{}.npy'.format(weight_filename), mean)\n",
    "    np.save(result_dir + 'information_covariance_resurrection{}.npy'.format(weight_filename), cov)"
   ]
  },
  {
   "cell_type": "markdown",
   "metadata": {},
   "source": [
    "## Histogram info"
   ]
  },
  {
   "cell_type": "code",
   "execution_count": 12,
   "metadata": {},
   "outputs": [],
   "source": [
    "filenames = ['met', 'ptl', 'pta', 'deltaphi_lv', 'deltaphi_la', 'phi_resurrection']\n",
    "observables = ['et_miss', 'pt_l1', 'pt_a1', 'deltaphi_l1_met', 'deltaphi_l1_a1', 'phi_resurrection']\n",
    "bins = 50"
   ]
  },
  {
   "cell_type": "code",
   "execution_count": 13,
   "metadata": {},
   "outputs": [
    {
     "name": "stderr",
     "output_type": "stream",
     "text": [
      "/Users/johannbrehmer/work/projects/madminer/madminer/madminer/fisherinformation.py:836: RuntimeWarning: divide by zero encountered in double_scalars\n",
      "  fisher_info.append(luminosity / sigma[i_event] * np.tensordot(dsigma.T[i_event], dsigma.T[i_event], axes=0))\n",
      "/Users/johannbrehmer/work/projects/madminer/madminer/madminer/fisherinformation.py:836: RuntimeWarning: invalid value encountered in multiply\n",
      "  fisher_info.append(luminosity / sigma[i_event] * np.tensordot(dsigma.T[i_event], dsigma.T[i_event], axes=0))\n"
     ]
    }
   ],
   "source": [
    "for filename, obs in zip(filenames, observables):\n",
    "    info = fisher.calculate_fisher_information_hist1d(\n",
    "                theta=[0.,0.],\n",
    "                luminosity=300000.,\n",
    "                observable=obs,\n",
    "                nbins=bins,\n",
    "                histrange=None\n",
    "           )\n",
    "    \n",
    "    np.save(result_dir + 'information_histo_{}.npy'.format(filename), info)\n",
    "    "
   ]
  },
  {
   "cell_type": "code",
   "execution_count": null,
   "metadata": {},
   "outputs": [],
   "source": []
  }
 ],
 "metadata": {
  "kernelspec": {
   "display_name": "Python [default]",
   "language": "python",
   "name": "python3"
  },
  "language_info": {
   "codemirror_mode": {
    "name": "ipython",
    "version": 3
   },
   "file_extension": ".py",
   "mimetype": "text/x-python",
   "name": "python",
   "nbconvert_exporter": "python",
   "pygments_lexer": "ipython3",
   "version": "3.6.4"
  }
 },
 "nbformat": 4,
 "nbformat_minor": 2
}
