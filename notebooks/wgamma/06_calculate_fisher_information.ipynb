{
 "cells": [
  {
   "cell_type": "markdown",
   "metadata": {},
   "source": [
    "# Evaluate Fisher information\n",
    "\n",
    "Johann Brehmer, Kyle Cranmer, Felix Kling, Duccio Pappadopulo, Josh Ruderman 2018"
   ]
  },
  {
   "cell_type": "code",
   "execution_count": null,
   "metadata": {},
   "outputs": [],
   "source": [
    "%load_ext autoreload\n",
    "%autoreload 2"
   ]
  },
  {
   "cell_type": "code",
   "execution_count": 1,
   "metadata": {},
   "outputs": [],
   "source": [
    "from __future__ import absolute_import, division, print_function, unicode_literals\n",
    "\n",
    "import numpy as np\n",
    "import matplotlib\n",
    "from matplotlib import pyplot as plt\n",
    "% matplotlib inline\n",
    "import logging\n",
    "import os\n",
    "\n",
    "import madminer.core\n",
    "from madminer.fisherinformation import FisherInformation\n",
    "from madminer.plotting import plot_fisher_information_contours_2d\n",
    "\n",
    "logging.basicConfig(format='%(asctime)s  %(message)s', datefmt='%H:%M')"
   ]
  },
  {
   "cell_type": "code",
   "execution_count": 2,
   "metadata": {},
   "outputs": [],
   "source": [
    "base_dir = '/Users/johannbrehmer/work/projects/madminer/diboson_mining/'\n",
    "mg_dir = '/Users/johannbrehmer/work/projects/madminer/MG5_aMC_v2_6_2/'"
   ]
  },
  {
   "cell_type": "code",
   "execution_count": 3,
   "metadata": {},
   "outputs": [],
   "source": [
    "sample_dir = base_dir + 'data/samples/wgamma/'\n",
    "card_dir = base_dir + 'cards/wgamma/'\n",
    "ufo_model_dir = card_dir + 'SMWgamma_UFO'\n",
    "run_card_dir = card_dir + 'run_cards/'\n",
    "mg_process_dir = base_dir + 'data/mg_processes/wgamma/'\n",
    "log_dir = base_dir + 'logs/wgamma/'\n",
    "temp_dir = base_dir + 'data/temp'\n",
    "delphes_dir = mg_dir + 'Delphes'\n",
    "model_dir = base_dir + 'data/models/wgamma/'\n",
    "result_dir = base_dir + 'data/results/wgamma/'"
   ]
  },
  {
   "cell_type": "markdown",
   "metadata": {},
   "source": [
    "## FisherInformation instance"
   ]
  },
  {
   "cell_type": "code",
   "execution_count": 4,
   "metadata": {},
   "outputs": [
    {
     "name": "stderr",
     "output_type": "stream",
     "text": [
      "07:37  \n",
      "07:37  ------------------------------------------------------------\n",
      "07:37  |                                                          |\n",
      "07:37  |  MadMiner v2018.10.26                                    |\n",
      "07:37  |                                                          |\n",
      "07:37  |           Johann Brehmer, Kyle Cranmer, and Felix Kling  |\n",
      "07:37  |                                                          |\n",
      "07:37  ------------------------------------------------------------\n",
      "07:37  \n",
      "07:37  Loading data from /Users/johannbrehmer/work/projects/madminer/diboson_mining/data/samples/wgamma/samples.h5\n",
      "07:37  Found 2 parameters:\n",
      "07:37     cWWW (LHA: dim6 1, maximal power in squared ME: (2,), range: (-0.1, 0.1))\n",
      "07:37     cWWWtilde (LHA: dim6 2, maximal power in squared ME: (2,), range: (-0.1, 0.1))\n",
      "07:37  Found 6 benchmarks:\n",
      "07:37     sm: cWWW = 0.00e+00, cWWWtilde = 0.00e+00\n",
      "07:37     morphing_basis_vector_1: cWWW = -9.39e-02, cWWWtilde = 0.07\n",
      "07:37     morphing_basis_vector_2: cWWW = 0.08, cWWWtilde = -3.59e-02\n",
      "07:37     morphing_basis_vector_3: cWWW = -9.48e-02, cWWWtilde = -2.79e-02\n",
      "07:37     morphing_basis_vector_4: cWWW = -1.80e-04, cWWWtilde = -9.99e-02\n",
      "07:37     morphing_basis_vector_5: cWWW = 0.09, cWWWtilde = 0.07\n",
      "07:37  Found 29 observables: et_miss, phi_miss, e_visible, eta_visible, n_ls, e_l1, pt_l1, eta_l1, phi_l1, n_as, e_a1, pt_a1, eta_a1, phi_a1, n_js, e_j1, pt_j1, eta_j1, phi_j1, charge_j1, deltaphi_l1_met, deltaphi_a1_met, m_l0_met, pt_l0_met, m_l1_a1, deltaeta_l1_a1, deltaphi_l1_a1, m_a0_l0_met, pt_a0_l0_met\n",
      "07:37  Found 1738476 events\n",
      "07:37  Found morphing setup with 6 components\n"
     ]
    }
   ],
   "source": [
    "fisher = FisherInformation(sample_dir + 'samples.h5', debug=True)"
   ]
  },
  {
   "cell_type": "markdown",
   "metadata": {},
   "source": [
    "## Truth-level info"
   ]
  },
  {
   "cell_type": "code",
   "execution_count": 6,
   "metadata": {},
   "outputs": [],
   "source": [
    "fisher_info_parton = fisher.calculate_fisher_information_full_truth(\n",
    "    theta=[0.,0.],\n",
    "    luminosity = 300000.\n",
    ")\n",
    "\n",
    "np.save(result_dir + 'information_parton.npy', fisher_info_parton)\n"
   ]
  },
  {
   "cell_type": "markdown",
   "metadata": {},
   "source": [
    "## Rate-only info"
   ]
  },
  {
   "cell_type": "code",
   "execution_count": 7,
   "metadata": {},
   "outputs": [],
   "source": [
    "fisher_info_xsec = fisher.calculate_fisher_information_rate(\n",
    "    theta=[0.,0.],\n",
    "    luminosity = 300000.\n",
    ")\n",
    "\n",
    "np.save(result_dir + 'information_xsec.npy', fisher_info_xsec)\n"
   ]
  },
  {
   "cell_type": "markdown",
   "metadata": {},
   "source": [
    "## Full Fisher info (ML)"
   ]
  },
  {
   "cell_type": "code",
   "execution_count": 5,
   "metadata": {},
   "outputs": [
    {
     "name": "stderr",
     "output_type": "stream",
     "text": [
      "07:51  Loading ensemble setup from /Users/johannbrehmer/work/projects/madminer/diboson_mining/data/models/wgamma/sally_ensemble_all/ensemble.json\n",
      "07:51    Found ensemble with 10 estimators and expectations [[-0.00647124  0.00976446]\n",
      " [ 0.0169792   0.04250591]\n",
      " [ 0.02288591  0.05828553]\n",
      " [ 0.01731575  0.02209533]\n",
      " [-0.14489138  0.05744306]\n",
      " [-0.01161358 -0.01308943]\n",
      " [ 0.00023983 -0.01155283]\n",
      " [-0.01711019  0.00755712]\n",
      " [-0.00576023 -0.02340818]\n",
      " [-0.03650154  0.02279483]]\n",
      "07:51  Loading settings from /Users/johannbrehmer/work/projects/madminer/diboson_mining/data/models/wgamma/sally_ensemble_all/estimator_0_settings.json\n",
      "07:51    Found method sally, 29 observables, 2 parameters, (100, 100, 100) hidden layers, tanh activation function, features None\n",
      "07:51  Loading state dictionary from /Users/johannbrehmer/work/projects/madminer/diboson_mining/data/models/wgamma/sally_ensemble_all/estimator_0_state_dict.pt\n",
      "07:51  Loading settings from /Users/johannbrehmer/work/projects/madminer/diboson_mining/data/models/wgamma/sally_ensemble_all/estimator_1_settings.json\n",
      "07:51    Found method sally, 29 observables, 2 parameters, (100, 100, 100) hidden layers, tanh activation function, features None\n",
      "07:51  Loading state dictionary from /Users/johannbrehmer/work/projects/madminer/diboson_mining/data/models/wgamma/sally_ensemble_all/estimator_1_state_dict.pt\n",
      "07:51  Loading settings from /Users/johannbrehmer/work/projects/madminer/diboson_mining/data/models/wgamma/sally_ensemble_all/estimator_2_settings.json\n",
      "07:51    Found method sally, 29 observables, 2 parameters, (100, 100, 100) hidden layers, tanh activation function, features None\n",
      "07:51  Loading state dictionary from /Users/johannbrehmer/work/projects/madminer/diboson_mining/data/models/wgamma/sally_ensemble_all/estimator_2_state_dict.pt\n",
      "07:51  Loading settings from /Users/johannbrehmer/work/projects/madminer/diboson_mining/data/models/wgamma/sally_ensemble_all/estimator_3_settings.json\n",
      "07:51    Found method sally, 29 observables, 2 parameters, (100, 100, 100) hidden layers, tanh activation function, features None\n",
      "07:51  Loading state dictionary from /Users/johannbrehmer/work/projects/madminer/diboson_mining/data/models/wgamma/sally_ensemble_all/estimator_3_state_dict.pt\n",
      "07:51  Loading settings from /Users/johannbrehmer/work/projects/madminer/diboson_mining/data/models/wgamma/sally_ensemble_all/estimator_4_settings.json\n",
      "07:51    Found method sally, 29 observables, 2 parameters, (100, 100, 100) hidden layers, tanh activation function, features None\n",
      "07:51  Loading state dictionary from /Users/johannbrehmer/work/projects/madminer/diboson_mining/data/models/wgamma/sally_ensemble_all/estimator_4_state_dict.pt\n",
      "07:51  Loading settings from /Users/johannbrehmer/work/projects/madminer/diboson_mining/data/models/wgamma/sally_ensemble_all/estimator_5_settings.json\n",
      "07:51    Found method sally, 29 observables, 2 parameters, (100, 100, 100) hidden layers, tanh activation function, features None\n",
      "07:51  Loading state dictionary from /Users/johannbrehmer/work/projects/madminer/diboson_mining/data/models/wgamma/sally_ensemble_all/estimator_5_state_dict.pt\n",
      "07:51  Loading settings from /Users/johannbrehmer/work/projects/madminer/diboson_mining/data/models/wgamma/sally_ensemble_all/estimator_6_settings.json\n",
      "07:51    Found method sally, 29 observables, 2 parameters, (100, 100, 100) hidden layers, tanh activation function, features None\n",
      "07:51  Loading state dictionary from /Users/johannbrehmer/work/projects/madminer/diboson_mining/data/models/wgamma/sally_ensemble_all/estimator_6_state_dict.pt\n",
      "07:51  Loading settings from /Users/johannbrehmer/work/projects/madminer/diboson_mining/data/models/wgamma/sally_ensemble_all/estimator_7_settings.json\n",
      "07:51    Found method sally, 29 observables, 2 parameters, (100, 100, 100) hidden layers, tanh activation function, features None\n",
      "07:51  Loading state dictionary from /Users/johannbrehmer/work/projects/madminer/diboson_mining/data/models/wgamma/sally_ensemble_all/estimator_7_state_dict.pt\n",
      "07:51  Loading settings from /Users/johannbrehmer/work/projects/madminer/diboson_mining/data/models/wgamma/sally_ensemble_all/estimator_8_settings.json\n",
      "07:51    Found method sally, 29 observables, 2 parameters, (100, 100, 100) hidden layers, tanh activation function, features None\n",
      "07:51  Loading state dictionary from /Users/johannbrehmer/work/projects/madminer/diboson_mining/data/models/wgamma/sally_ensemble_all/estimator_8_state_dict.pt\n",
      "07:51  Loading settings from /Users/johannbrehmer/work/projects/madminer/diboson_mining/data/models/wgamma/sally_ensemble_all/estimator_9_settings.json\n",
      "07:51    Found method sally, 29 observables, 2 parameters, (100, 100, 100) hidden layers, tanh activation function, features None\n",
      "07:51  Loading state dictionary from /Users/johannbrehmer/work/projects/madminer/diboson_mining/data/models/wgamma/sally_ensemble_all/estimator_9_state_dict.pt\n",
      "07:51  Evaluating Fisher information for 10 estimators in ensemble\n",
      "07:51  Starting evaluation for estimator 1 / 10 in ensemble\n",
      "07:51  Loading evaluation data\n",
      "07:51  Starting score evaluation\n",
      "07:51  Expected score (should be close to zero): [-0.00699158  0.0098987 ]\n",
      "07:51  Starting evaluation for estimator 2 / 10 in ensemble\n",
      "07:51  Loading evaluation data\n",
      "07:51  Starting score evaluation\n",
      "07:52  Expected score (should be close to zero): [0.01607905 0.04261095]\n",
      "07:52  Starting evaluation for estimator 3 / 10 in ensemble\n",
      "07:52  Loading evaluation data\n",
      "07:52  Starting score evaluation\n",
      "07:52  Expected score (should be close to zero): [0.02312978 0.0583887 ]\n",
      "07:52  Starting evaluation for estimator 4 / 10 in ensemble\n",
      "07:52  Loading evaluation data\n",
      "07:52  Starting score evaluation\n",
      "07:52  Expected score (should be close to zero): [0.01724327 0.02185972]\n",
      "07:52  Starting evaluation for estimator 5 / 10 in ensemble\n",
      "07:52  Loading evaluation data\n",
      "07:52  Starting score evaluation\n",
      "07:53  Expected score (should be close to zero): [-0.14567627  0.05706498]\n",
      "07:53  Starting evaluation for estimator 6 / 10 in ensemble\n",
      "07:53  Loading evaluation data\n",
      "07:53  Starting score evaluation\n",
      "07:53  Expected score (should be close to zero): [-0.011545  -0.0129109]\n",
      "07:53  Starting evaluation for estimator 7 / 10 in ensemble\n",
      "07:53  Loading evaluation data\n",
      "07:53  Starting score evaluation\n",
      "07:54  Expected score (should be close to zero): [-0.00042615 -0.01132885]\n",
      "07:54  Starting evaluation for estimator 8 / 10 in ensemble\n",
      "07:54  Loading evaluation data\n",
      "07:54  Starting score evaluation\n",
      "07:54  Expected score (should be close to zero): [-0.01729596  0.00747346]\n",
      "07:54  Starting evaluation for estimator 9 / 10 in ensemble\n",
      "07:54  Loading evaluation data\n",
      "07:54  Starting score evaluation\n",
      "07:54  Expected score (should be close to zero): [-0.00567413 -0.02335166]\n",
      "07:54  Starting evaluation for estimator 10 / 10 in ensemble\n",
      "07:54  Loading evaluation data\n",
      "07:54  Starting score evaluation\n",
      "07:55  Expected score (should be close to zero): [-0.03747762  0.02268967]\n"
     ]
    }
   ],
   "source": [
    "fisher_info_ensemble_mean, fisher_info_ensemble_cov = fisher.calculate_fisher_information_full_detector(\n",
    "    theta=[0.,0.],\n",
    "    luminosity=300000.,\n",
    "    model_file=model_dir + 'sally_ensemble_all',\n",
    "    unweighted_x_sample_file = sample_dir + 'test/x_test.npy',\n",
    "    ensemble_vote_expectation_weight=10.\n",
    ")\n",
    "\n",
    "np.save(result_dir + 'information_mean_full.npy', fisher_info_ensemble_mean)\n",
    "np.save(result_dir + 'information_covariance_full.npy', fisher_info_ensemble_cov)"
   ]
  },
  {
   "cell_type": "markdown",
   "metadata": {},
   "source": [
    "## Info in observables (ML)"
   ]
  },
  {
   "cell_type": "code",
   "execution_count": 10,
   "metadata": {},
   "outputs": [
    {
     "name": "stderr",
     "output_type": "stream",
     "text": [
      "09:55  Loading ensemble setup from /Users/johannbrehmer/work/projects/madminer/diboson_mining/data/models/wgamma/sally_ensemble_deltaphi/ensemble.json\n",
      "09:55    Found ensemble with 10 estimators and expectations [[ 0.01175673  0.00292189]\n",
      " [-0.00755187  0.00108121]\n",
      " [ 0.00373308  0.00783675]\n",
      " [-0.00225863  0.01181082]\n",
      " [ 0.00367572 -0.00465052]\n",
      " [ 0.00644157  0.00418888]\n",
      " [ 0.00486491 -0.00197415]\n",
      " [-0.00039366  0.00279524]\n",
      " [-0.00134201  0.00310145]\n",
      " [-0.00069886 -0.00579132]]\n",
      "09:55  Loading settings from /Users/johannbrehmer/work/projects/madminer/diboson_mining/data/models/wgamma/sally_ensemble_deltaphi/estimator_0_settings.json\n",
      "09:55    Found method sally, 1 observables, 2 parameters, (100, 100, 100) hidden layers, tanh activation function, features [20]\n",
      "09:55  Loading state dictionary from /Users/johannbrehmer/work/projects/madminer/diboson_mining/data/models/wgamma/sally_ensemble_deltaphi/estimator_0_state_dict.pt\n",
      "09:55  Loading settings from /Users/johannbrehmer/work/projects/madminer/diboson_mining/data/models/wgamma/sally_ensemble_deltaphi/estimator_1_settings.json\n",
      "09:55    Found method sally, 1 observables, 2 parameters, (100, 100, 100) hidden layers, tanh activation function, features [20]\n",
      "09:55  Loading state dictionary from /Users/johannbrehmer/work/projects/madminer/diboson_mining/data/models/wgamma/sally_ensemble_deltaphi/estimator_1_state_dict.pt\n",
      "09:55  Loading settings from /Users/johannbrehmer/work/projects/madminer/diboson_mining/data/models/wgamma/sally_ensemble_deltaphi/estimator_2_settings.json\n",
      "09:55    Found method sally, 1 observables, 2 parameters, (100, 100, 100) hidden layers, tanh activation function, features [20]\n",
      "09:55  Loading state dictionary from /Users/johannbrehmer/work/projects/madminer/diboson_mining/data/models/wgamma/sally_ensemble_deltaphi/estimator_2_state_dict.pt\n",
      "09:55  Loading settings from /Users/johannbrehmer/work/projects/madminer/diboson_mining/data/models/wgamma/sally_ensemble_deltaphi/estimator_3_settings.json\n",
      "09:55    Found method sally, 1 observables, 2 parameters, (100, 100, 100) hidden layers, tanh activation function, features [20]\n",
      "09:55  Loading state dictionary from /Users/johannbrehmer/work/projects/madminer/diboson_mining/data/models/wgamma/sally_ensemble_deltaphi/estimator_3_state_dict.pt\n",
      "09:55  Loading settings from /Users/johannbrehmer/work/projects/madminer/diboson_mining/data/models/wgamma/sally_ensemble_deltaphi/estimator_4_settings.json\n",
      "09:55    Found method sally, 1 observables, 2 parameters, (100, 100, 100) hidden layers, tanh activation function, features [20]\n",
      "09:55  Loading state dictionary from /Users/johannbrehmer/work/projects/madminer/diboson_mining/data/models/wgamma/sally_ensemble_deltaphi/estimator_4_state_dict.pt\n",
      "09:55  Loading settings from /Users/johannbrehmer/work/projects/madminer/diboson_mining/data/models/wgamma/sally_ensemble_deltaphi/estimator_5_settings.json\n",
      "09:55    Found method sally, 1 observables, 2 parameters, (100, 100, 100) hidden layers, tanh activation function, features [20]\n",
      "09:55  Loading state dictionary from /Users/johannbrehmer/work/projects/madminer/diboson_mining/data/models/wgamma/sally_ensemble_deltaphi/estimator_5_state_dict.pt\n",
      "09:55  Loading settings from /Users/johannbrehmer/work/projects/madminer/diboson_mining/data/models/wgamma/sally_ensemble_deltaphi/estimator_6_settings.json\n",
      "09:55    Found method sally, 1 observables, 2 parameters, (100, 100, 100) hidden layers, tanh activation function, features [20]\n",
      "09:55  Loading state dictionary from /Users/johannbrehmer/work/projects/madminer/diboson_mining/data/models/wgamma/sally_ensemble_deltaphi/estimator_6_state_dict.pt\n",
      "09:55  Loading settings from /Users/johannbrehmer/work/projects/madminer/diboson_mining/data/models/wgamma/sally_ensemble_deltaphi/estimator_7_settings.json\n",
      "09:55    Found method sally, 1 observables, 2 parameters, (100, 100, 100) hidden layers, tanh activation function, features [20]\n",
      "09:55  Loading state dictionary from /Users/johannbrehmer/work/projects/madminer/diboson_mining/data/models/wgamma/sally_ensemble_deltaphi/estimator_7_state_dict.pt\n",
      "09:55  Loading settings from /Users/johannbrehmer/work/projects/madminer/diboson_mining/data/models/wgamma/sally_ensemble_deltaphi/estimator_8_settings.json\n",
      "09:55    Found method sally, 1 observables, 2 parameters, (100, 100, 100) hidden layers, tanh activation function, features [20]\n",
      "09:55  Loading state dictionary from /Users/johannbrehmer/work/projects/madminer/diboson_mining/data/models/wgamma/sally_ensemble_deltaphi/estimator_8_state_dict.pt\n",
      "09:55  Loading settings from /Users/johannbrehmer/work/projects/madminer/diboson_mining/data/models/wgamma/sally_ensemble_deltaphi/estimator_9_settings.json\n",
      "09:55    Found method sally, 1 observables, 2 parameters, (100, 100, 100) hidden layers, tanh activation function, features [20]\n",
      "09:55  Loading state dictionary from /Users/johannbrehmer/work/projects/madminer/diboson_mining/data/models/wgamma/sally_ensemble_deltaphi/estimator_9_state_dict.pt\n",
      "09:55  Evaluating Fisher information for 10 estimators in ensemble\n",
      "09:55  Starting evaluation for estimator 1 / 10 in ensemble\n",
      "09:55  Loading evaluation data\n",
      "09:55  Starting score evaluation\n",
      "09:55  Expected score (should be close to zero): [0.01179591 0.00292374]\n",
      "09:55  Starting evaluation for estimator 2 / 10 in ensemble\n",
      "09:55  Loading evaluation data\n",
      "09:55  Starting score evaluation\n",
      "09:55  Expected score (should be close to zero): [-0.00765918  0.00111397]\n",
      "09:55  Starting evaluation for estimator 3 / 10 in ensemble\n",
      "09:55  Loading evaluation data\n",
      "09:55  Starting score evaluation\n",
      "09:55  Expected score (should be close to zero): [0.00368023 0.00790443]\n",
      "09:55  Starting evaluation for estimator 4 / 10 in ensemble\n",
      "09:55  Loading evaluation data\n",
      "09:55  Starting score evaluation\n",
      "09:56  Expected score (should be close to zero): [-0.00228087  0.01220865]\n",
      "09:56  Starting evaluation for estimator 5 / 10 in ensemble\n",
      "09:56  Loading evaluation data\n",
      "09:56  Starting score evaluation\n",
      "09:56  Expected score (should be close to zero): [ 0.0035382  -0.00465208]\n",
      "09:56  Starting evaluation for estimator 6 / 10 in ensemble\n",
      "09:56  Loading evaluation data\n",
      "09:56  Starting score evaluation\n",
      "09:56  Expected score (should be close to zero): [0.00641612 0.00417684]\n",
      "09:56  Starting evaluation for estimator 7 / 10 in ensemble\n",
      "09:56  Loading evaluation data\n",
      "09:56  Starting score evaluation\n",
      "09:56  Expected score (should be close to zero): [ 0.00472236 -0.00201756]\n",
      "09:56  Starting evaluation for estimator 8 / 10 in ensemble\n",
      "09:56  Loading evaluation data\n",
      "09:56  Starting score evaluation\n",
      "09:56  Expected score (should be close to zero): [-0.00035863  0.0027079 ]\n",
      "09:56  Starting evaluation for estimator 9 / 10 in ensemble\n",
      "09:56  Loading evaluation data\n",
      "09:56  Starting score evaluation\n",
      "09:57  Expected score (should be close to zero): [-0.0014429   0.00312492]\n",
      "09:57  Starting evaluation for estimator 10 / 10 in ensemble\n",
      "09:57  Loading evaluation data\n",
      "09:57  Starting score evaluation\n",
      "09:57  Expected score (should be close to zero): [-0.00064301 -0.0054891 ]\n"
     ]
    }
   ],
   "source": [
    "fisher_info_ensemble_mean, fisher_info_ensemble_cov = fisher.calculate_fisher_information_full_detector(\n",
    "    theta=[0.,0.],\n",
    "    luminosity=300000.,\n",
    "    model_file=model_dir + 'sally_ensemble_deltaphi',\n",
    "    unweighted_x_sample_file = sample_dir + 'test/x_test.npy'\n",
    ")\n",
    "\n",
    "np.save(result_dir + 'information_mean_deltaphi.npy', fisher_info_ensemble_mean)\n",
    "np.save(result_dir + 'information_covariance_deltaphi.npy', fisher_info_ensemble_cov)"
   ]
  },
  {
   "cell_type": "markdown",
   "metadata": {},
   "source": [
    "## Histogram info"
   ]
  },
  {
   "cell_type": "code",
   "execution_count": 8,
   "metadata": {},
   "outputs": [],
   "source": [
    "filenames = ['met', 'ptl', 'pta', 'deltaphi_lv', 'deltaphi_la']\n",
    "observables = ['et_miss', 'pt_l1', 'pt_a1', 'deltaphi_l1_met', 'deltaphi_l1_a1']\n",
    "obs_mins = [0., 0., 0., 0., 0.]\n",
    "obs_maxs = [500., 500., 500., 6., 6.]\n",
    "bins = 25"
   ]
  },
  {
   "cell_type": "code",
   "execution_count": 9,
   "metadata": {},
   "outputs": [
    {
     "name": "stderr",
     "output_type": "stream",
     "text": [
      "/Users/johannbrehmer/work/projects/madminer/madminer/madminer/fisherinformation.py:775: RuntimeWarning: divide by zero encountered in double_scalars\n",
      "  fisher_info.append(luminosity / sigma[i_event] * np.tensordot(dsigma.T[i_event], dsigma.T[i_event], axes=0))\n",
      "/Users/johannbrehmer/work/projects/madminer/madminer/madminer/fisherinformation.py:775: RuntimeWarning: invalid value encountered in multiply\n",
      "  fisher_info.append(luminosity / sigma[i_event] * np.tensordot(dsigma.T[i_event], dsigma.T[i_event], axes=0))\n"
     ]
    }
   ],
   "source": [
    "for filename, obs, obs_min, obs_max in zip(filenames, observables, obs_mins, obs_maxs):\n",
    "    info = fisher.calculate_fisher_information_hist1d(\n",
    "                theta=[0.,0.],\n",
    "                luminosity=300000.,\n",
    "                observable=obs,\n",
    "                nbins=bins,\n",
    "                histrange=(obs_min,obs_max)\n",
    "           )\n",
    "    \n",
    "    np.save(result_dir + 'information_histo_{}.npy'.format(filename), info)\n",
    "    "
   ]
  },
  {
   "cell_type": "code",
   "execution_count": null,
   "metadata": {},
   "outputs": [],
   "source": []
  }
 ],
 "metadata": {
  "kernelspec": {
   "display_name": "Python [default]",
   "language": "python",
   "name": "python3"
  },
  "language_info": {
   "codemirror_mode": {
    "name": "ipython",
    "version": 3
   },
   "file_extension": ".py",
   "mimetype": "text/x-python",
   "name": "python",
   "nbconvert_exporter": "python",
   "pygments_lexer": "ipython3",
   "version": "3.6.4"
  }
 },
 "nbformat": 4,
 "nbformat_minor": 2
}
