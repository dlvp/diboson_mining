{
 "cells": [
  {
   "cell_type": "markdown",
   "metadata": {},
   "source": [
    "# Evaluate Fisher information\n",
    "\n",
    "Johann Brehmer, Kyle Cranmer, Felix Kling, Duccio Pappadopulo, Josh Ruderman 2018"
   ]
  },
  {
   "cell_type": "code",
   "execution_count": 2,
   "metadata": {},
   "outputs": [],
   "source": [
    "from __future__ import absolute_import, division, print_function, unicode_literals\n",
    "\n",
    "import numpy as np\n",
    "import matplotlib\n",
    "from matplotlib import pyplot as plt\n",
    "% matplotlib inline\n",
    "import logging\n",
    "import os\n",
    "\n",
    "import madminer.core\n",
    "from madminer.fisherinformation import FisherInformation\n",
    "from madminer.plotting import plot_fisher_information_contours_2d\n",
    "\n",
    "logging.basicConfig(format='%(asctime)s  %(message)s', datefmt='%H:%M')"
   ]
  },
  {
   "cell_type": "code",
   "execution_count": 3,
   "metadata": {},
   "outputs": [],
   "source": [
    "base_dir = '/Users/johannbrehmer/work/projects/madminer/diboson_mining/'\n",
    "mg_dir = '/Users/johannbrehmer/work/projects/madminer/MG5_aMC_v2_6_2/'"
   ]
  },
  {
   "cell_type": "code",
   "execution_count": 4,
   "metadata": {},
   "outputs": [],
   "source": [
    "sample_dir = base_dir + 'data/samples/wgamma/'\n",
    "card_dir = base_dir + 'cards/wgamma/'\n",
    "ufo_model_dir = card_dir + 'SMWgamma_UFO'\n",
    "run_card_dir = card_dir + 'run_cards/'\n",
    "mg_process_dir = base_dir + 'data/mg_processes/wgamma/'\n",
    "log_dir = base_dir + 'logs/wgamma/'\n",
    "temp_dir = base_dir + 'data/temp'\n",
    "delphes_dir = mg_dir + 'Delphes'\n",
    "model_dir = base_dir + 'data/models/wgamma/'\n",
    "result_dir = base_dir + 'data/results/wgamma/'"
   ]
  },
  {
   "cell_type": "markdown",
   "metadata": {},
   "source": [
    "## Settings"
   ]
  },
  {
   "cell_type": "code",
   "execution_count": 5,
   "metadata": {},
   "outputs": [],
   "source": [
    "weight_settings = [None, 1., 10., 100.]\n",
    "weight_setting_filenames = ['', '_w1', '_w10', '_w100']"
   ]
  },
  {
   "cell_type": "markdown",
   "metadata": {},
   "source": [
    "## FisherInformation instances"
   ]
  },
  {
   "cell_type": "code",
   "execution_count": 8,
   "metadata": {},
   "outputs": [
    {
     "name": "stderr",
     "output_type": "stream",
     "text": [
      "10:33  \n",
      "10:33  ------------------------------------------------------------\n",
      "10:33  |                                                          |\n",
      "10:33  |  MadMiner v2018.11.06                                    |\n",
      "10:33  |                                                          |\n",
      "10:33  |           Johann Brehmer, Kyle Cranmer, and Felix Kling  |\n",
      "10:33  |                                                          |\n",
      "10:33  ------------------------------------------------------------\n",
      "10:33  \n",
      "10:33  Loading data from /Users/johannbrehmer/work/projects/madminer/diboson_mining/data/samples/wgamma/samples.h5\n",
      "10:33  Found 2 parameters:\n",
      "10:33     cWWW (LHA: dim6 1, maximal power in squared ME: (2,), range: (-0.1, 0.1))\n",
      "10:33     cWWWtilde (LHA: dim6 2, maximal power in squared ME: (2,), range: (-0.1, 0.1))\n",
      "10:33  Found 6 benchmarks:\n",
      "10:33     sm: cWWW = 0.00e+00, cWWWtilde = 0.00e+00\n",
      "10:33     morphing_basis_vector_1: cWWW = -9.39e-02, cWWWtilde = 0.07\n",
      "10:33     morphing_basis_vector_2: cWWW = 0.08, cWWWtilde = -3.59e-02\n",
      "10:33     morphing_basis_vector_3: cWWW = -9.48e-02, cWWWtilde = -2.79e-02\n",
      "10:33     morphing_basis_vector_4: cWWW = -1.80e-04, cWWWtilde = -9.99e-02\n",
      "10:33     morphing_basis_vector_5: cWWW = 0.09, cWWWtilde = 0.07\n",
      "10:33  Found 27 observables: et_miss, phi_miss, e_visible, eta_visible, e_l1, pt_l1, eta_l1, phi_l1, e_a1, pt_a1, eta_a1, phi_a1, e_j1, pt_j1, eta_j1, phi_j1, deltaphi_l1_met, deltaphi_a1_met, m_l1_met, pt_l1_met, m_l1_a1, deltaeta_l1_a1, deltaphi_l1_a1, m_a1_l1_met, pt_a1_l1_met, mt, phi_resurrection\n",
      "10:33  Found 1808877 events\n",
      "10:33  Found morphing setup with 6 components\n",
      "10:33  Loading data from /Users/johannbrehmer/work/projects/madminer/diboson_mining/data/samples/wgamma/samples_tight.h5\n",
      "10:33  Found 2 parameters:\n",
      "10:33     cWWW (LHA: dim6 1, maximal power in squared ME: (2,), range: (-0.1, 0.1))\n",
      "10:33     cWWWtilde (LHA: dim6 2, maximal power in squared ME: (2,), range: (-0.1, 0.1))\n",
      "10:33  Found 6 benchmarks:\n",
      "10:33     sm: cWWW = 0.00e+00, cWWWtilde = 0.00e+00\n",
      "10:33     morphing_basis_vector_1: cWWW = -9.39e-02, cWWWtilde = 0.07\n",
      "10:33     morphing_basis_vector_2: cWWW = 0.08, cWWWtilde = -3.59e-02\n",
      "10:33     morphing_basis_vector_3: cWWW = -9.48e-02, cWWWtilde = -2.79e-02\n",
      "10:33     morphing_basis_vector_4: cWWW = -1.80e-04, cWWWtilde = -9.99e-02\n",
      "10:33     morphing_basis_vector_5: cWWW = 0.09, cWWWtilde = 0.07\n",
      "10:33  Found 27 observables: et_miss, phi_miss, e_visible, eta_visible, e_l1, pt_l1, eta_l1, phi_l1, e_a1, pt_a1, eta_a1, phi_a1, e_j1, pt_j1, eta_j1, phi_j1, deltaphi_l1_met, deltaphi_a1_met, m_l1_met, pt_l1_met, m_l1_a1, deltaeta_l1_a1, deltaphi_l1_a1, m_a1_l1_met, pt_a1_l1_met, mt, phi_resurrection\n",
      "10:33  Found 1127244 events\n",
      "10:33  Found morphing setup with 6 components\n"
     ]
    }
   ],
   "source": [
    "fisher_all = FisherInformation(sample_dir + 'samples.h5', debug=True)\n",
    "fisher_tight = FisherInformation(sample_dir + 'samples_tight.h5', debug=True)"
   ]
  },
  {
   "cell_type": "markdown",
   "metadata": {},
   "source": [
    "## Truth-level info"
   ]
  },
  {
   "cell_type": "code",
   "execution_count": null,
   "metadata": {},
   "outputs": [],
   "source": [
    "fisher_info, cov = fisher_all.calculate_fisher_information_full_truth(\n",
    "    theta=[0.,0.],\n",
    "    luminosity = 300000.\n",
    ")\n",
    "\n",
    "np.save(result_dir + 'information_parton.npy', fisher_info)\n",
    "np.save(result_dir + 'information_covariance_parton.npy', cov)\n"
   ]
  },
  {
   "cell_type": "code",
   "execution_count": null,
   "metadata": {},
   "outputs": [],
   "source": [
    "fisher_info, cov = fisher_tight.calculate_fisher_information_full_truth(\n",
    "    theta=[0.,0.],\n",
    "    luminosity = 300000.\n",
    ")\n",
    "\n",
    "np.save(result_dir + 'information_parton_tight.npy', fisher_info)\n",
    "np.save(result_dir + 'information_covariance_parton_tight.npy', cov)\n"
   ]
  },
  {
   "cell_type": "markdown",
   "metadata": {},
   "source": [
    "## Rate-only info"
   ]
  },
  {
   "cell_type": "code",
   "execution_count": null,
   "metadata": {},
   "outputs": [],
   "source": [
    "fisher_info, cov = fisher_all.calculate_fisher_information_rate(\n",
    "    theta=[0.,0.],\n",
    "    luminosity = 300000.\n",
    ")\n",
    "\n",
    "np.save(result_dir + 'information_xsec.npy', fisher_info)\n",
    "np.save(result_dir + 'information_covariance_xsec.npy', cov)\n"
   ]
  },
  {
   "cell_type": "code",
   "execution_count": null,
   "metadata": {},
   "outputs": [],
   "source": [
    "fisher_info, cov = fisher_tight.calculate_fisher_information_rate(\n",
    "    theta=[0.,0.],\n",
    "    luminosity = 300000.\n",
    ")\n",
    "\n",
    "np.save(result_dir + 'information_xsec_tight.npy', fisher_info)\n",
    "np.save(result_dir + 'information_covariance_xsec_tight.npy', cov)\n",
    "\n"
   ]
  },
  {
   "cell_type": "markdown",
   "metadata": {},
   "source": [
    "## Full Fisher info (ML)"
   ]
  },
  {
   "cell_type": "code",
   "execution_count": null,
   "metadata": {},
   "outputs": [
    {
     "name": "stderr",
     "output_type": "stream",
     "text": [
      "10:54  Evaluating rate Fisher information\n",
      "10:57  Loading ensemble setup from /Users/johannbrehmer/work/projects/madminer/diboson_mining/data/models/wgamma/sally_ensemble_all/ensemble.json\n",
      "10:57  Found ensemble with 10 estimators and expectations [[-0.00058942 -0.03821032]\n",
      " [-0.03163671  0.00532137]\n",
      " [-0.02699495  0.01435901]\n",
      " [ 0.01564022  0.00276239]\n",
      " [-0.02461902 -0.01322716]\n",
      " [ 0.05454716 -0.01634969]\n",
      " [-0.02868321 -0.04444946]\n",
      " [-0.06715274  0.00436619]\n",
      " [ 0.02157337 -0.01041408]\n",
      " [ 0.02201053 -0.01349001]]\n",
      "10:57  Evaluating kinematic Fisher information on batch 1\n",
      "10:57  Evaluating kinematic Fisher information on batch 2\n",
      "10:58  Evaluating kinematic Fisher information on batch 3\n",
      "10:58  Evaluating kinematic Fisher information on batch 4\n",
      "10:59  Evaluating kinematic Fisher information on batch 5\n",
      "10:59  Evaluating kinematic Fisher information on batch 6\n",
      "10:59  Evaluating kinematic Fisher information on batch 7\n",
      "11:00  Evaluating kinematic Fisher information on batch 8\n",
      "11:00  Evaluating kinematic Fisher information on batch 9\n",
      "11:00  Evaluating kinematic Fisher information on batch 10\n",
      "11:01  Evaluating kinematic Fisher information on batch 11\n",
      "11:01  Evaluating kinematic Fisher information on batch 12\n",
      "11:01  Evaluating kinematic Fisher information on batch 13\n",
      "11:02  Evaluating kinematic Fisher information on batch 14\n"
     ]
    }
   ],
   "source": [
    "means, covs = fisher_all.calculate_fisher_information_full_detector(\n",
    "    theta=[0.,0.],\n",
    "    luminosity=300000.,\n",
    "    model_file=model_dir + 'sally_ensemble_all',\n",
    "    ensemble_vote_expectation_weight=weight_settings\n",
    ")\n",
    "\n",
    "for weight_filename, mean, cov in zip(weight_setting_filenames, means, covs):\n",
    "    np.save(result_dir + 'information_mean_full{}.npy'.format(weight_filename), mean)\n",
    "    np.save(result_dir + 'information_covariance_full{}.npy'.format(weight_filename), cov)"
   ]
  },
  {
   "cell_type": "code",
   "execution_count": null,
   "metadata": {},
   "outputs": [],
   "source": [
    "means, covs = fisher_tight.calculate_fisher_information_full_detector(\n",
    "    theta=[0.,0.],\n",
    "    luminosity=300000.,\n",
    "    model_file=model_dir + 'sally_ensemble_all_tight',\n",
    "    ensemble_vote_expectation_weight=weight_settings\n",
    ")\n",
    "\n",
    "for weight_filename, mean, cov in zip(weight_setting_filenames, means, covs):\n",
    "    np.save(result_dir + 'information_mean_full_tight{}.npy'.format(weight_filename), mean)\n",
    "    np.save(result_dir + 'information_covariance_full_tight{}.npy'.format(weight_filename), cov)\n",
    "    "
   ]
  },
  {
   "cell_type": "markdown",
   "metadata": {},
   "source": [
    "## Minimal observable set (ML)"
   ]
  },
  {
   "cell_type": "code",
   "execution_count": null,
   "metadata": {},
   "outputs": [],
   "source": [
    "means, covs = fisher_all.calculate_fisher_information_full_detector(\n",
    "    theta=[0.,0.],\n",
    "    luminosity=300000.,\n",
    "    model_file=model_dir + 'sally_ensemble_minimal',\n",
    "    ensemble_vote_expectation_weight=weight_settings\n",
    ")\n",
    "\n",
    "for weight_filename, mean, cov in zip(weight_setting_filenames, means, covs):\n",
    "    np.save(result_dir + 'information_mean_minimal{}.npy'.format(weight_filename), mean)\n",
    "    np.save(result_dir + 'information_covariance_minimal{}.npy'.format(weight_filename), cov)"
   ]
  },
  {
   "cell_type": "markdown",
   "metadata": {},
   "source": [
    "## Info in observables (ML)"
   ]
  },
  {
   "cell_type": "code",
   "execution_count": null,
   "metadata": {},
   "outputs": [],
   "source": [
    "means, covs = fisher_tight.calculate_fisher_information_full_detector(\n",
    "    theta=[0.,0.],\n",
    "    luminosity=300000.,\n",
    "    model_file=model_dir + 'sally_ensemble_resurrection',\n",
    "    unweighted_x_sample_file = sample_dir + 'test_tight/x_test.npy',\n",
    "    ensemble_vote_expectation_weight=weight_settings\n",
    ")\n",
    "\n",
    "for weight_filename, mean, cov in zip(weight_setting_filenames, means, covs):\n",
    "    np.save(result_dir + 'information_mean_resurrection{}.npy'.format(weight_filename), mean)\n",
    "    np.save(result_dir + 'information_covariance_resurrection{}.npy'.format(weight_filename), cov)\n",
    "    "
   ]
  },
  {
   "cell_type": "markdown",
   "metadata": {},
   "source": [
    "## Histogram info"
   ]
  },
  {
   "cell_type": "code",
   "execution_count": 9,
   "metadata": {},
   "outputs": [],
   "source": [
    "filenames = ['met', 'ptl', 'pta', 'deltaphi_lv', 'deltaphi_la', 'phi_resurrection']\n",
    "observables = ['et_miss', 'pt_l1', 'pt_a1', 'deltaphi_l1_met', 'deltaphi_l1_a1', 'phi_resurrection']\n",
    "bins = 25"
   ]
  },
  {
   "cell_type": "code",
   "execution_count": 10,
   "metadata": {},
   "outputs": [
    {
     "name": "stderr",
     "output_type": "stream",
     "text": [
      "10:33  Automatic dynamic binning: bin boundaries [  70.01706696   83.27401802   85.91010454   90.79949708   94.23582192\n",
      "   98.52757233  102.20198377  105.95531917  110.36265613  115.93791004\n",
      "  121.00044888  125.58452072  131.4259025   137.1404871   142.76535756\n",
      "  149.03887361  157.35187023  166.80556495  177.01181918  189.59949433\n",
      "  204.77676868  223.93111053  250.09795716  285.89578509  347.81225335\n",
      " 3262.5949707 ]\n",
      "/Users/johannbrehmer/work/projects/madminer/madminer/madminer/fisherinformation.py:931: RuntimeWarning: divide by zero encountered in true_divide\n",
      "  inv_sigma = sanitize_array(1.0 / sigma)  # Shape (n_events,)\n",
      "10:36  Automatic dynamic binning: bin boundaries [   70.01355957    86.44577406    93.0507576     98.57671777\n",
      "   104.68688594   109.7128132    116.31964202   121.50834611\n",
      "   125.84042444   132.06773663   140.21521879   147.3551914\n",
      "   156.33388547   163.63033107   174.00087417   183.39140611\n",
      "   195.3172811    212.51420422   232.5789048    253.87828034\n",
      "   280.13675139   313.87378227   363.51328184   443.93710547\n",
      "   591.40056179 10263.79264401]\n",
      "10:39  Automatic dynamic binning: bin boundaries [ 290.01605225  307.24822177  316.26713826  329.47611604  343.92106018\n",
      "  356.57463325  367.99023654  381.89020036  395.94418961  408.69984064\n",
      "  422.88210608  437.87225422  453.49188479  471.29089842  488.26118153\n",
      "  507.52220164  532.64943985  564.091783    591.87224335  626.35320643\n",
      "  671.81520769  730.78161827  813.4851045   923.89304882 1123.87396886\n",
      " 5768.83154297]\n",
      "10:43  Automatic dynamic binning: bin boundaries [-1.62790685e+01 -6.95142697e-01 -4.47992856e-01 -3.38343669e-01\n",
      " -2.71179024e-01 -2.16310042e-01 -1.68156804e-01 -1.38052168e-01\n",
      " -1.05584593e-01 -8.18395792e-02 -5.61364394e-02 -3.88618137e-02\n",
      " -1.50700392e-02  1.09532413e-02  3.06065753e-02  5.42806574e-02\n",
      "  8.13055650e-02  1.07662316e-01  1.39384756e-01  1.67847668e-01\n",
      "  2.09462424e-01  2.69105359e-01  3.29763363e-01  4.13307753e-01\n",
      "  6.51047172e-01  1.62802899e+01]\n",
      "10:46  Automatic dynamic binning: bin boundaries [-16.12073994  -3.60857867  -3.47287897  -3.36096912  -3.27960416\n",
      "  -3.21006451  -3.16409607  -3.10316469  -3.04953174  -3.00322175\n",
      "  -2.90908285  -2.80361227  -2.24292668   2.69236337   2.84377229\n",
      "   2.92692729   2.99854909   3.06498636   3.10394852   3.16719329\n",
      "   3.21997917   3.27612333   3.36107051   3.43824684   3.61297158\n",
      "  16.00919461]\n",
      "10:48  Automatic dynamic binning: bin boundaries [-13.14158725  -3.05119131  -2.9623406   -2.83016773  -2.72354132\n",
      "  -2.55679691  -2.22023802  -1.09078506  -0.56121877  -0.37006517\n",
      "  -0.25103436  -0.14749095  -0.06930427   0.0215818    0.10412671\n",
      "   0.19499708   0.30140907   0.47979645   0.98850688   2.18378454\n",
      "   2.58907341   2.74089824   2.86343674   2.96207231   3.04616826\n",
      "  13.14153191]\n"
     ]
    }
   ],
   "source": [
    "for filename, obs in zip(filenames, observables):\n",
    "    info, cov = fisher_tight.calculate_fisher_information_hist1d(\n",
    "        theta=[0.,0.],\n",
    "        luminosity=300000.,\n",
    "        observable=obs,\n",
    "        nbins=bins,\n",
    "        histrange=None\n",
    "    )\n",
    "    \n",
    "    np.save(result_dir + 'information_histo_{}_tight.npy'.format(filename), info)\n",
    "    np.save(result_dir + 'information_covariance_histo_{}_tight.npy'.format(filename), cov)\n",
    "    "
   ]
  },
  {
   "cell_type": "code",
   "execution_count": null,
   "metadata": {},
   "outputs": [],
   "source": []
  }
 ],
 "metadata": {
  "kernelspec": {
   "display_name": "Python [default]",
   "language": "python",
   "name": "python3"
  },
  "language_info": {
   "codemirror_mode": {
    "name": "ipython",
    "version": 3
   },
   "file_extension": ".py",
   "mimetype": "text/x-python",
   "name": "python",
   "nbconvert_exporter": "python",
   "pygments_lexer": "ipython3",
   "version": "3.6.4"
  }
 },
 "nbformat": 4,
 "nbformat_minor": 2
}
