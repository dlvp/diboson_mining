{
 "cells": [
  {
   "cell_type": "markdown",
   "metadata": {},
   "source": [
    "# Evaluate Fisher information\n",
    "\n",
    "Johann Brehmer, Kyle Cranmer, Marco Farina, Felix Kling, Duccio Pappadopulo, Josh Ruderman 2018"
   ]
  },
  {
   "cell_type": "code",
   "execution_count": 1,
   "metadata": {},
   "outputs": [],
   "source": [
    "from __future__ import absolute_import, division, print_function, unicode_literals\n",
    "\n",
    "import numpy as np\n",
    "import matplotlib\n",
    "from matplotlib import pyplot as plt\n",
    "%matplotlib inline\n",
    "import logging\n",
    "import os\n",
    "\n",
    "import madminer.core\n",
    "from madminer.fisherinformation import FisherInformation\n",
    "from madminer.plotting import plot_fisher_information_contours_2d\n",
    "\n",
    "logging.basicConfig(format='%(asctime)s  %(message)s', datefmt='%H:%M')"
   ]
  },
  {
   "cell_type": "code",
   "execution_count": 2,
   "metadata": {},
   "outputs": [],
   "source": [
    "base_dir = '/Users/johannbrehmer/work/projects/madminer/diboson_mining/'\n",
    "mg_dir = '/Users/johannbrehmer/work/projects/madminer/MG5_aMC_v2_6_4/'"
   ]
  },
  {
   "cell_type": "code",
   "execution_count": 3,
   "metadata": {},
   "outputs": [],
   "source": [
    "sample_dir = base_dir + 'data/samples/wgamma/'\n",
    "card_dir = base_dir + 'cards/wgamma/'\n",
    "ufo_model_dir = card_dir + 'SMWgamma_UFO'\n",
    "run_card_dir = card_dir + 'run_cards/'\n",
    "mg_process_dir = base_dir + 'data/mg_processes/wgamma/'\n",
    "log_dir = base_dir + 'logs/wgamma/'\n",
    "temp_dir = base_dir + 'data/temp'\n",
    "delphes_dir = mg_dir + 'Delphes'\n",
    "model_dir = base_dir + 'data/models/wgamma/'\n",
    "result_dir = base_dir + 'data/results/wgamma/'"
   ]
  },
  {
   "cell_type": "markdown",
   "metadata": {},
   "source": [
    "## FisherInformation instances"
   ]
  },
  {
   "cell_type": "code",
   "execution_count": 4,
   "metadata": {},
   "outputs": [
    {
     "name": "stderr",
     "output_type": "stream",
     "text": [
      "08:14  \n",
      "08:14  ------------------------------------------------------------\n",
      "08:14  |                                                          |\n",
      "08:14  |  MadMiner v0.1.1                                         |\n",
      "08:14  |                                                          |\n",
      "08:14  |           Johann Brehmer, Kyle Cranmer, and Felix Kling  |\n",
      "08:14  |                                                          |\n",
      "08:14  ------------------------------------------------------------\n",
      "08:14  \n",
      "08:14  Loading data from /Users/johannbrehmer/work/projects/madminer/diboson_mining/data/samples/wgamma/samples.h5\n"
     ]
    },
    {
     "ename": "TypeError",
     "evalue": "unhashable type: 'numpy.ndarray'",
     "output_type": "error",
     "traceback": [
      "\u001b[0;31m---------------------------------------------------------------------------\u001b[0m",
      "\u001b[0;31mTypeError\u001b[0m                                 Traceback (most recent call last)",
      "\u001b[0;32m<ipython-input-4-1fce12916f4d>\u001b[0m in \u001b[0;36m<module>\u001b[0;34m\u001b[0m\n\u001b[0;32m----> 1\u001b[0;31m \u001b[0mfisher_all\u001b[0m \u001b[0;34m=\u001b[0m \u001b[0mFisherInformation\u001b[0m\u001b[0;34m(\u001b[0m\u001b[0msample_dir\u001b[0m \u001b[0;34m+\u001b[0m \u001b[0;34m'samples.h5'\u001b[0m\u001b[0;34m,\u001b[0m \u001b[0mdebug\u001b[0m\u001b[0;34m=\u001b[0m\u001b[0;32mTrue\u001b[0m\u001b[0;34m)\u001b[0m\u001b[0;34m\u001b[0m\u001b[0;34m\u001b[0m\u001b[0m\n\u001b[0m\u001b[1;32m      2\u001b[0m \u001b[0mfisher_tight\u001b[0m \u001b[0;34m=\u001b[0m \u001b[0mFisherInformation\u001b[0m\u001b[0;34m(\u001b[0m\u001b[0msample_dir\u001b[0m \u001b[0;34m+\u001b[0m \u001b[0;34m'samples_tight.h5'\u001b[0m\u001b[0;34m,\u001b[0m \u001b[0mdebug\u001b[0m\u001b[0;34m=\u001b[0m\u001b[0;32mTrue\u001b[0m\u001b[0;34m)\u001b[0m\u001b[0;34m\u001b[0m\u001b[0;34m\u001b[0m\u001b[0m\n",
      "\u001b[0;32m~/work/projects/madminer/madminer/madminer/fisherinformation.py\u001b[0m in \u001b[0;36m__init__\u001b[0;34m(self, filename, include_nuisance_parameters, debug)\u001b[0m\n\u001b[1;32m    205\u001b[0m         \u001b[0mself\u001b[0m\u001b[0;34m.\u001b[0m\u001b[0mn_parameters\u001b[0m \u001b[0;34m=\u001b[0m \u001b[0mlen\u001b[0m\u001b[0;34m(\u001b[0m\u001b[0mself\u001b[0m\u001b[0;34m.\u001b[0m\u001b[0mparameters\u001b[0m\u001b[0;34m)\u001b[0m\u001b[0;34m\u001b[0m\u001b[0;34m\u001b[0m\u001b[0m\n\u001b[1;32m    206\u001b[0m         \u001b[0mself\u001b[0m\u001b[0;34m.\u001b[0m\u001b[0mn_benchmarks\u001b[0m \u001b[0;34m=\u001b[0m \u001b[0mlen\u001b[0m\u001b[0;34m(\u001b[0m\u001b[0mself\u001b[0m\u001b[0;34m.\u001b[0m\u001b[0mbenchmarks\u001b[0m\u001b[0;34m)\u001b[0m\u001b[0;34m\u001b[0m\u001b[0;34m\u001b[0m\u001b[0m\n\u001b[0;32m--> 207\u001b[0;31m         \u001b[0mself\u001b[0m\u001b[0;34m.\u001b[0m\u001b[0mn_benchmarks_phys\u001b[0m \u001b[0;34m=\u001b[0m \u001b[0mlen\u001b[0m\u001b[0;34m(\u001b[0m\u001b[0mself\u001b[0m\u001b[0;34m.\u001b[0m\u001b[0mbenchmarks\u001b[0m\u001b[0;34m[\u001b[0m\u001b[0mnp\u001b[0m\u001b[0;34m.\u001b[0m\u001b[0mlogical_not\u001b[0m\u001b[0;34m(\u001b[0m\u001b[0mself\u001b[0m\u001b[0;34m.\u001b[0m\u001b[0mbenchmark_is_nuisance\u001b[0m\u001b[0;34m)\u001b[0m\u001b[0;34m]\u001b[0m\u001b[0;34m)\u001b[0m\u001b[0;34m\u001b[0m\u001b[0;34m\u001b[0m\u001b[0m\n\u001b[0m\u001b[1;32m    208\u001b[0m \u001b[0;34m\u001b[0m\u001b[0m\n\u001b[1;32m    209\u001b[0m         \u001b[0mlogging\u001b[0m\u001b[0;34m.\u001b[0m\u001b[0minfo\u001b[0m\u001b[0;34m(\u001b[0m\u001b[0;34m\"Found %s parameters:\"\u001b[0m\u001b[0;34m,\u001b[0m \u001b[0mlen\u001b[0m\u001b[0;34m(\u001b[0m\u001b[0mself\u001b[0m\u001b[0;34m.\u001b[0m\u001b[0mparameters\u001b[0m\u001b[0;34m)\u001b[0m\u001b[0;34m)\u001b[0m\u001b[0;34m\u001b[0m\u001b[0;34m\u001b[0m\u001b[0m\n",
      "\u001b[0;31mTypeError\u001b[0m: unhashable type: 'numpy.ndarray'"
     ]
    }
   ],
   "source": [
    "fisher_all = FisherInformation(sample_dir + 'samples.h5', debug=True)\n",
    "fisher_tight = FisherInformation(sample_dir + 'samples_tight.h5', debug=True)"
   ]
  },
  {
   "cell_type": "markdown",
   "metadata": {},
   "source": [
    "## Truth-level info"
   ]
  },
  {
   "cell_type": "code",
   "execution_count": 7,
   "metadata": {},
   "outputs": [],
   "source": [
    "fisher_info, cov = fisher_all.calculate_fisher_information_full_truth(\n",
    "    theta=[0.,0.],\n",
    "    luminosity = 300000.\n",
    ")\n",
    "\n",
    "np.save(result_dir + 'information_parton.npy', fisher_info)\n",
    "np.save(result_dir + 'information_covariance_parton.npy', cov)\n"
   ]
  },
  {
   "cell_type": "code",
   "execution_count": 8,
   "metadata": {},
   "outputs": [],
   "source": [
    "fisher_info, cov = fisher_tight.calculate_fisher_information_full_truth(\n",
    "    theta=[0.,0.],\n",
    "    luminosity = 300000.\n",
    ")\n",
    "\n",
    "np.save(result_dir + 'information_parton_tight.npy', fisher_info)\n",
    "np.save(result_dir + 'information_covariance_parton_tight.npy', cov)\n"
   ]
  },
  {
   "cell_type": "markdown",
   "metadata": {},
   "source": [
    "## Rate-only info"
   ]
  },
  {
   "cell_type": "code",
   "execution_count": 9,
   "metadata": {},
   "outputs": [],
   "source": [
    "fisher_info, cov = fisher_all.calculate_fisher_information_rate(\n",
    "    theta=[0.,0.],\n",
    "    luminosity = 300000.\n",
    ")\n",
    "\n",
    "np.save(result_dir + 'information_xsec.npy', fisher_info)\n",
    "np.save(result_dir + 'information_covariance_xsec.npy', cov)\n"
   ]
  },
  {
   "cell_type": "code",
   "execution_count": 10,
   "metadata": {},
   "outputs": [],
   "source": [
    "fisher_info, cov = fisher_tight.calculate_fisher_information_rate(\n",
    "    theta=[0.,0.],\n",
    "    luminosity = 300000.\n",
    ")\n",
    "\n",
    "np.save(result_dir + 'information_xsec_tight.npy', fisher_info)\n",
    "np.save(result_dir + 'information_covariance_xsec_tight.npy', cov)\n",
    "\n"
   ]
  },
  {
   "cell_type": "markdown",
   "metadata": {},
   "source": [
    "## Full Fisher info (ML)"
   ]
  },
  {
   "cell_type": "code",
   "execution_count": null,
   "metadata": {},
   "outputs": [],
   "source": [
    "mean, cov = fisher_all.calculate_fisher_information_full_detector(\n",
    "    theta=[0.,0.],\n",
    "    luminosity=300000.,\n",
    "    model_file=model_dir + 'sally_ensemble_all',\n",
    "    mode=\"score\"\n",
    ")\n",
    "\n",
    "np.save(result_dir + 'information_mean_full.npy', mean)\n",
    "np.save(result_dir + 'information_covariance_full.npy', cov)"
   ]
  },
  {
   "cell_type": "code",
   "execution_count": 9,
   "metadata": {},
   "outputs": [
    {
     "name": "stderr",
     "output_type": "stream",
     "text": [
      "08:54  Evaluating rate Fisher information\n",
      "08:54  Loading ensemble setup from /Users/johannbrehmer/work/projects/madminer/diboson_mining/data/models/wgamma/sally_ensemble_all_tight/ensemble.json\n",
      "08:54  Found ensemble with 3 estimators and expectations [[-0.18535686  0.00978506]\n",
      " [-0.16953222 -0.19110835]\n",
      " [-0.23344196  0.23578575]]\n",
      "08:55  Evaluating kinematic Fisher information on batch 1 / 1\n"
     ]
    }
   ],
   "source": [
    "mean, cov = fisher_tight.calculate_fisher_information_full_detector(\n",
    "    theta=[0.,0.],\n",
    "    luminosity=300000.,\n",
    "    model_file=model_dir + 'sally_ensemble_all_tight',\n",
    "    mode=\"score\"\n",
    ")\n",
    "\n",
    "np.save(result_dir + 'information_mean_full_tight.npy', mean)\n",
    "np.save(result_dir + 'information_covariance_full_tight.npy', cov)\n",
    "    "
   ]
  },
  {
   "cell_type": "code",
   "execution_count": 10,
   "metadata": {},
   "outputs": [
    {
     "name": "stderr",
     "output_type": "stream",
     "text": [
      "08:55  Evaluating rate Fisher information\n",
      "08:55  Loading ensemble setup from /Users/johannbrehmer/work/projects/madminer/diboson_mining/data/models/wgamma/sally_ensemble_all_tight/ensemble.json\n",
      "08:55  Found ensemble with 3 estimators and expectations [[-0.18535686  0.00978506]\n",
      " [-0.16953222 -0.19110835]\n",
      " [-0.23344196  0.23578575]]\n",
      "08:55  Evaluating kinematic Fisher information on batch 1 / 1\n"
     ]
    }
   ],
   "source": [
    "mean, cov = fisher_tight.calculate_fisher_information_full_detector(\n",
    "    theta=[0.,0.],\n",
    "    luminosity=300000.,\n",
    "    model_file=model_dir + 'sally_ensemble_all_tight',\n",
    "    mode=\"information\"\n",
    ")\n",
    "\n",
    "np.save(result_dir + 'information_mean_full_tight_info.npy', mean)\n",
    "np.save(result_dir + 'information_covariance_full_tight_info.npy', cov)\n",
    "    "
   ]
  },
  {
   "cell_type": "markdown",
   "metadata": {},
   "source": [
    "## Minimal observable set (ML)"
   ]
  },
  {
   "cell_type": "code",
   "execution_count": null,
   "metadata": {},
   "outputs": [],
   "source": [
    "mean, cov = fisher_all.calculate_fisher_information_full_detector(\n",
    "    theta=[0.,0.],\n",
    "    luminosity=300000.,\n",
    "    model_file=model_dir + 'sally_ensemble_minimal',\n",
    "    mode=\"score\"\n",
    ")\n",
    "\n",
    "np.save(result_dir + 'information_mean_minimal.npy', mean)\n",
    "np.save(result_dir + 'information_covariance_minimal.npy', cov)"
   ]
  },
  {
   "cell_type": "code",
   "execution_count": null,
   "metadata": {},
   "outputs": [],
   "source": [
    "mean, cov = fisher_tight.calculate_fisher_information_full_detector(\n",
    "    theta=[0.,0.],\n",
    "    luminosity=300000.,\n",
    "    model_file=model_dir + 'sally_ensemble_minimal_tight',\n",
    "    mode=\"score\"\n",
    ")\n",
    "\n",
    "np.save(result_dir + 'information_mean_minimal_tight.npy', mean)\n",
    "np.save(result_dir + 'information_covariance_minimal_tight.npy', cov)"
   ]
  },
  {
   "cell_type": "markdown",
   "metadata": {},
   "source": [
    "## Info in observables (ML)"
   ]
  },
  {
   "cell_type": "code",
   "execution_count": null,
   "metadata": {},
   "outputs": [],
   "source": [
    "mean, cov = fisher_tight.calculate_fisher_information_full_detector(\n",
    "    theta=[0.,0.],\n",
    "    luminosity=300000.,\n",
    "    model_file=model_dir + 'sally_ensemble_resurrection',\n",
    "    mode=\"score\"\n",
    ")\n",
    "\n",
    "np.save(result_dir + 'information_mean_phi_tight.npy', mean)\n",
    "np.save(result_dir + 'information_covariance_phi_tight.npy', cov)\n"
   ]
  },
  {
   "cell_type": "markdown",
   "metadata": {},
   "source": [
    "## Histogram info"
   ]
  },
  {
   "cell_type": "code",
   "execution_count": 13,
   "metadata": {},
   "outputs": [],
   "source": [
    "filenames = ['phi', 'met', 'ptl', 'pta', 'deltaphi_lv', 'deltaphi_la']\n",
    "observables = ['phi', 'et_miss', 'pt_l1', 'pt_a1', 'deltaphi_lmet', 'deltaphi_la']\n",
    "bins = 25"
   ]
  },
  {
   "cell_type": "code",
   "execution_count": 14,
   "metadata": {},
   "outputs": [
    {
     "name": "stdout",
     "output_type": "stream",
     "text": [
      "phi\n"
     ]
    },
    {
     "name": "stderr",
     "output_type": "stream",
     "text": [
      "07:51  Automatic dynamic binning: bin boundaries [-2.9195388  -2.68556948 -2.45958342 -2.20445016 -1.96446418 -1.66405212\n",
      " -1.49018129 -1.2249967  -0.97412945 -0.71027355 -0.45332016 -0.19274497\n",
      "  0.07213132  0.3485468   0.62352892  0.8816074   1.15463592  1.46810993\n",
      "  1.63085864  1.96413066  2.19801902  2.43500091  2.66395496  2.91751695]\n"
     ]
    },
    {
     "name": "stdout",
     "output_type": "stream",
     "text": [
      "met\n"
     ]
    },
    {
     "name": "stderr",
     "output_type": "stream",
     "text": [
      "07:51  Automatic dynamic binning: bin boundaries [ 84.83451918  89.16119988  93.56951424  98.81751476 103.68608838\n",
      " 108.98768619 114.02569038 119.43384723 125.13982479 131.71243851\n",
      " 138.40272459 145.5132745  153.4301635  161.81832159 170.65224121\n",
      " 180.51712601 189.80038546 200.82505145 212.39484662 226.87939119\n",
      " 243.40971268 267.18280983 300.23491126 360.37362935]\n"
     ]
    },
    {
     "name": "stdout",
     "output_type": "stream",
     "text": [
      "ptl\n"
     ]
    },
    {
     "name": "stderr",
     "output_type": "stream",
     "text": [
      "07:52  Automatic dynamic binning: bin boundaries [ 97.48094419 112.42564763 123.92443043 135.12531177 145.20214341\n",
      " 154.68585863 165.54574174 174.02877668 183.33233176 192.36605338\n",
      " 201.44692867 210.17053647 219.23321272 228.60927229 238.24763348\n",
      " 248.30058108 259.91142466 273.29452145 288.45808707 306.09454026\n",
      " 329.0336341  358.31893971 401.95340594 480.64146928]\n"
     ]
    },
    {
     "name": "stdout",
     "output_type": "stream",
     "text": [
      "pta\n"
     ]
    },
    {
     "name": "stderr",
     "output_type": "stream",
     "text": [
      "07:52  Automatic dynamic binning: bin boundaries [303.77519588 308.093321   312.93597106 317.3530388  322.60041841\n",
      " 327.94061989 333.91115775 340.01990955 347.04872183 353.94239879\n",
      " 360.322889   368.45482334 377.00549763 386.98886471 397.01273004\n",
      " 408.59789392 422.05498992 436.78932878 454.15554714 475.99326523\n",
      " 503.13486442 538.13627174 588.78621219 681.63720419]\n"
     ]
    },
    {
     "name": "stdout",
     "output_type": "stream",
     "text": [
      "deltaphi_lv\n"
     ]
    },
    {
     "name": "stderr",
     "output_type": "stream",
     "text": [
      "07:52  Automatic dynamic binning: bin boundaries [-0.89592665 -0.51503711 -0.45852978 -0.40572239 -0.3611819  -0.32003261\n",
      " -0.27600363 -0.23274323 -0.1870205  -0.1380503  -0.08659048 -0.03473623\n",
      "  0.01893852  0.07491263  0.12539126  0.17465722  0.22427986  0.2668511\n",
      "  0.30823738  0.35369971  0.40031032  0.44908346  0.51621255  0.76158984]\n"
     ]
    },
    {
     "name": "stdout",
     "output_type": "stream",
     "text": [
      "deltaphi_la\n"
     ]
    },
    {
     "name": "stderr",
     "output_type": "stream",
     "text": [
      "07:53  Automatic dynamic binning: bin boundaries [-3.43855676 -3.33814039 -3.27681267 -3.2295835  -3.18959742 -3.1460995\n",
      " -3.10479349 -3.0650344  -3.02856218 -2.9850938  -2.91578331 -2.73383315\n",
      "  2.79117234  2.90986272  2.98192733  3.0275688   3.06870401  3.10807669\n",
      "  3.14658713  3.18859529  3.23176042  3.27886894  3.34077459  3.43490871]\n"
     ]
    }
   ],
   "source": [
    "for filename, obs in zip(filenames, observables):\n",
    "    print(filename)\n",
    "    info, cov = fisher_tight.calculate_fisher_information_hist1d(\n",
    "        theta=[0.,0.],\n",
    "        luminosity=300000.,\n",
    "        observable=obs,\n",
    "        nbins=bins,\n",
    "        histrange=None\n",
    "    )\n",
    "    \n",
    "    np.save(result_dir + 'information_histo_{}_tight.npy'.format(filename), info)\n",
    "    np.save(result_dir + 'information_covariance_histo_{}_tight.npy'.format(filename), cov)\n",
    "    "
   ]
  },
  {
   "cell_type": "code",
   "execution_count": null,
   "metadata": {},
   "outputs": [],
   "source": []
  }
 ],
 "metadata": {
  "kernelspec": {
   "display_name": "Python 3",
   "language": "python",
   "name": "python3"
  },
  "language_info": {
   "codemirror_mode": {
    "name": "ipython",
    "version": 3
   },
   "file_extension": ".py",
   "mimetype": "text/x-python",
   "name": "python",
   "nbconvert_exporter": "python",
   "pygments_lexer": "ipython3",
   "version": "3.6.7"
  }
 },
 "nbformat": 4,
 "nbformat_minor": 2
}
