{
 "cells": [
  {
   "cell_type": "markdown",
   "metadata": {},
   "source": [
    "# Evaluate Fisher information\n",
    "\n",
    "Johann Brehmer, Kyle Cranmer, Felix Kling, Duccio Pappadopulo, Josh Ruderman 2018"
   ]
  },
  {
   "cell_type": "code",
   "execution_count": 1,
   "metadata": {},
   "outputs": [],
   "source": [
    "%load_ext autoreload\n",
    "%autoreload 2"
   ]
  },
  {
   "cell_type": "code",
   "execution_count": 2,
   "metadata": {},
   "outputs": [],
   "source": [
    "from __future__ import absolute_import, division, print_function, unicode_literals\n",
    "\n",
    "import numpy as np\n",
    "import matplotlib\n",
    "from matplotlib import pyplot as plt\n",
    "% matplotlib inline\n",
    "import logging\n",
    "import os\n",
    "\n",
    "import madminer.core\n",
    "from madminer.fisherinformation import FisherInformation\n",
    "from madminer.plotting import plot_fisher_information_contours_2d\n",
    "\n",
    "logging.basicConfig(format='%(asctime)s  %(message)s', datefmt='%H:%M')"
   ]
  },
  {
   "cell_type": "code",
   "execution_count": 3,
   "metadata": {},
   "outputs": [],
   "source": [
    "base_dir = '/Users/johannbrehmer/work/projects/madminer/diboson_mining/'\n",
    "mg_dir = '/Users/johannbrehmer/work/projects/madminer/MG5_aMC_v2_6_2/'"
   ]
  },
  {
   "cell_type": "code",
   "execution_count": 13,
   "metadata": {},
   "outputs": [],
   "source": [
    "sample_dir = base_dir + 'data/samples/wgamma/'\n",
    "card_dir = base_dir + 'cards/wgamma/'\n",
    "ufo_model_dir = card_dir + 'SMWgamma_UFO'\n",
    "run_card_dir = card_dir + 'run_cards/'\n",
    "mg_process_dir = base_dir + 'data/mg_processes/wgamma/'\n",
    "log_dir = base_dir + 'logs/wgamma/'\n",
    "temp_dir = base_dir + 'data/temp'\n",
    "delphes_dir = mg_dir + 'Delphes'\n",
    "model_dir = base_dir + 'data/models/wgamma/'\n",
    "result_dir = base_dir + 'data/results/wgamma/'"
   ]
  },
  {
   "cell_type": "markdown",
   "metadata": {},
   "source": [
    "## FisherInformation instance"
   ]
  },
  {
   "cell_type": "code",
   "execution_count": 5,
   "metadata": {},
   "outputs": [
    {
     "name": "stderr",
     "output_type": "stream",
     "text": [
      "10:48  \n",
      "10:48  ------------------------------------------------------------\n",
      "10:48  |                                                          |\n",
      "10:48  |  MadMiner v2018.10.22                                    |\n",
      "10:48  |                                                          |\n",
      "10:48  |           Johann Brehmer, Kyle Cranmer, and Felix Kling  |\n",
      "10:48  |                                                          |\n",
      "10:48  ------------------------------------------------------------\n",
      "10:48  \n",
      "10:48  Loading data from /Users/johannbrehmer/work/projects/madminer/diboson_mining/data/samples/wgamma/samples.h5\n",
      "10:48  Found 2 parameters:\n",
      "10:48     cWWW (LHA: dim6 1, maximal power in squared ME: (2,), range: (-0.1, 0.1))\n",
      "10:48     cWWWtilde (LHA: dim6 2, maximal power in squared ME: (2,), range: (-0.1, 0.1))\n",
      "10:48  Found 6 benchmarks:\n",
      "10:48     sm: cWWW = 0.00e+00, cWWWtilde = 0.00e+00\n",
      "10:48     morphing_basis_vector_1: cWWW = -9.39e-02, cWWWtilde = 0.07\n",
      "10:48     morphing_basis_vector_2: cWWW = 0.08, cWWWtilde = -3.59e-02\n",
      "10:48     morphing_basis_vector_3: cWWW = -9.48e-02, cWWWtilde = -2.79e-02\n",
      "10:48     morphing_basis_vector_4: cWWW = -1.80e-04, cWWWtilde = -9.99e-02\n",
      "10:48     morphing_basis_vector_5: cWWW = 0.09, cWWWtilde = 0.07\n",
      "10:48  Found 27 observables: et_miss, phi_miss, n_ls, e_l1, pt_l1, eta_l1, phi_l1, n_as, e_a1, pt_a1, eta_a1, phi_a1, e_a2, pt_a2, eta_a2, phi_a2, n_js, e_j1, pt_j1, eta_j1, phi_j1, deltaphi_l1_met, deltaphi_a1_met, m_l1_a1, deltaeta_l1_a1, deltaphi_l1_a1, signed_deltaphi_l1_a1\n",
      "10:48  Found 770011 events\n",
      "10:48  Found morphing setup with 6 components\n"
     ]
    }
   ],
   "source": [
    "fisher = FisherInformation(sample_dir + 'samples.h5', debug=True)"
   ]
  },
  {
   "cell_type": "markdown",
   "metadata": {},
   "source": [
    "## Truth-level info"
   ]
  },
  {
   "cell_type": "code",
   "execution_count": 16,
   "metadata": {},
   "outputs": [],
   "source": [
    "fisher_info_parton = fisher.calculate_fisher_information_full_truth(\n",
    "    theta=[0.,0.],\n",
    "    luminosity = 300000.\n",
    ")\n",
    "\n",
    "np.save(result_dir + 'information_parton.npy', fisher_info_parton)\n"
   ]
  },
  {
   "cell_type": "markdown",
   "metadata": {},
   "source": [
    "## Rate-only info"
   ]
  },
  {
   "cell_type": "code",
   "execution_count": 15,
   "metadata": {},
   "outputs": [],
   "source": [
    "fisher_info_xsec = fisher.calculate_fisher_information_rate(\n",
    "    theta=[0.,0.],\n",
    "    luminosity = 300000.\n",
    ")\n",
    "\n",
    "np.save(result_dir + 'information_xsec.npy', fisher_info_xsec)\n"
   ]
  },
  {
   "cell_type": "markdown",
   "metadata": {},
   "source": [
    "## Full Fisher info (ML)"
   ]
  },
  {
   "cell_type": "code",
   "execution_count": 6,
   "metadata": {},
   "outputs": [
    {
     "name": "stderr",
     "output_type": "stream",
     "text": [
      "10:49  Loading ensemble setup from /Users/johannbrehmer/work/projects/madminer/diboson_mining/data/models/wgamma/sally_ensemble_all/ensemble.json\n",
      "10:49    Found ensemble with 10 estimators and expectations [[ 0.00634092  0.06508537]\n",
      " [ 0.02007575  0.02556378]\n",
      " [ 0.03975902 -0.01588391]\n",
      " [-0.02189546  0.02988753]\n",
      " [-0.01648937 -0.00555408]\n",
      " [-0.00935855  0.00249242]\n",
      " [ 0.04448106 -0.01657623]\n",
      " [ 0.0275156  -0.01794838]\n",
      " [-0.05467386  0.020074  ]\n",
      " [-0.00354157 -0.00803116]]\n",
      "10:49  Loading settings from /Users/johannbrehmer/work/projects/madminer/diboson_mining/data/models/wgamma/sally_ensemble_all/estimator_0_settings.json\n",
      "10:49    Found method sally, 27 observables, 2 parameters, (50,) hidden layers, tanh activation function, features None\n",
      "10:49  Loading state dictionary from /Users/johannbrehmer/work/projects/madminer/diboson_mining/data/models/wgamma/sally_ensemble_all/estimator_0_state_dict.pt\n",
      "10:49  Loading settings from /Users/johannbrehmer/work/projects/madminer/diboson_mining/data/models/wgamma/sally_ensemble_all/estimator_1_settings.json\n",
      "10:49    Found method sally, 27 observables, 2 parameters, (100,) hidden layers, tanh activation function, features None\n",
      "10:49  Loading state dictionary from /Users/johannbrehmer/work/projects/madminer/diboson_mining/data/models/wgamma/sally_ensemble_all/estimator_1_state_dict.pt\n",
      "10:49  Loading settings from /Users/johannbrehmer/work/projects/madminer/diboson_mining/data/models/wgamma/sally_ensemble_all/estimator_2_settings.json\n",
      "10:49    Found method sally, 27 observables, 2 parameters, (50, 50) hidden layers, tanh activation function, features None\n",
      "10:49  Loading state dictionary from /Users/johannbrehmer/work/projects/madminer/diboson_mining/data/models/wgamma/sally_ensemble_all/estimator_2_state_dict.pt\n",
      "10:49  Loading settings from /Users/johannbrehmer/work/projects/madminer/diboson_mining/data/models/wgamma/sally_ensemble_all/estimator_3_settings.json\n",
      "10:49    Found method sally, 27 observables, 2 parameters, (50, 20) hidden layers, tanh activation function, features None\n",
      "10:49  Loading state dictionary from /Users/johannbrehmer/work/projects/madminer/diboson_mining/data/models/wgamma/sally_ensemble_all/estimator_3_state_dict.pt\n",
      "10:49  Loading settings from /Users/johannbrehmer/work/projects/madminer/diboson_mining/data/models/wgamma/sally_ensemble_all/estimator_4_settings.json\n",
      "10:49    Found method sally, 27 observables, 2 parameters, (100, 100) hidden layers, tanh activation function, features None\n",
      "10:49  Loading state dictionary from /Users/johannbrehmer/work/projects/madminer/diboson_mining/data/models/wgamma/sally_ensemble_all/estimator_4_state_dict.pt\n",
      "10:49  Loading settings from /Users/johannbrehmer/work/projects/madminer/diboson_mining/data/models/wgamma/sally_ensemble_all/estimator_5_settings.json\n",
      "10:49    Found method sally, 27 observables, 2 parameters, (100, 20) hidden layers, tanh activation function, features None\n",
      "10:49  Loading state dictionary from /Users/johannbrehmer/work/projects/madminer/diboson_mining/data/models/wgamma/sally_ensemble_all/estimator_5_state_dict.pt\n",
      "10:49  Loading settings from /Users/johannbrehmer/work/projects/madminer/diboson_mining/data/models/wgamma/sally_ensemble_all/estimator_6_settings.json\n",
      "10:49    Found method sally, 27 observables, 2 parameters, (50, 50, 50) hidden layers, tanh activation function, features None\n",
      "10:49  Loading state dictionary from /Users/johannbrehmer/work/projects/madminer/diboson_mining/data/models/wgamma/sally_ensemble_all/estimator_6_state_dict.pt\n",
      "10:49  Loading settings from /Users/johannbrehmer/work/projects/madminer/diboson_mining/data/models/wgamma/sally_ensemble_all/estimator_7_settings.json\n",
      "10:49    Found method sally, 27 observables, 2 parameters, (50, 20, 10) hidden layers, tanh activation function, features None\n",
      "10:49  Loading state dictionary from /Users/johannbrehmer/work/projects/madminer/diboson_mining/data/models/wgamma/sally_ensemble_all/estimator_7_state_dict.pt\n",
      "10:49  Loading settings from /Users/johannbrehmer/work/projects/madminer/diboson_mining/data/models/wgamma/sally_ensemble_all/estimator_8_settings.json\n",
      "10:49    Found method sally, 27 observables, 2 parameters, (100, 100, 100) hidden layers, tanh activation function, features None\n",
      "10:49  Loading state dictionary from /Users/johannbrehmer/work/projects/madminer/diboson_mining/data/models/wgamma/sally_ensemble_all/estimator_8_state_dict.pt\n",
      "10:49  Loading settings from /Users/johannbrehmer/work/projects/madminer/diboson_mining/data/models/wgamma/sally_ensemble_all/estimator_9_settings.json\n",
      "10:49    Found method sally, 27 observables, 2 parameters, (100, 50, 20) hidden layers, tanh activation function, features None\n",
      "10:49  Loading state dictionary from /Users/johannbrehmer/work/projects/madminer/diboson_mining/data/models/wgamma/sally_ensemble_all/estimator_9_state_dict.pt\n",
      "10:49  Evaluating Fisher information for 10 estimators in ensemble\n",
      "10:49  Starting evaluation for estimator 1 / 10 in ensemble\n",
      "10:49  Loading evaluation data\n",
      "10:49  Starting score evaluation\n",
      "10:49  Expected score (should be close to zero): [0.0082342 0.0646942]\n",
      "10:49  Starting evaluation for estimator 2 / 10 in ensemble\n",
      "10:49  Loading evaluation data\n",
      "10:49  Starting score evaluation\n",
      "10:49  Expected score (should be close to zero): [0.0216758  0.02463804]\n",
      "10:49  Starting evaluation for estimator 3 / 10 in ensemble\n",
      "10:49  Loading evaluation data\n",
      "10:49  Starting score evaluation\n",
      "10:49  Expected score (should be close to zero): [ 0.04190053 -0.01552333]\n",
      "10:49  Starting evaluation for estimator 4 / 10 in ensemble\n",
      "10:49  Loading evaluation data\n",
      "10:49  Starting score evaluation\n",
      "10:49  Expected score (should be close to zero): [-0.02058795  0.02968429]\n",
      "10:49  Starting evaluation for estimator 5 / 10 in ensemble\n",
      "10:49  Loading evaluation data\n",
      "10:49  Starting score evaluation\n",
      "10:50  Expected score (should be close to zero): [-0.01516639 -0.00570913]\n",
      "10:50  Starting evaluation for estimator 6 / 10 in ensemble\n",
      "10:50  Loading evaluation data\n",
      "10:50  Starting score evaluation\n",
      "10:50  Expected score (should be close to zero): [-0.007738    0.00291458]\n",
      "10:50  Starting evaluation for estimator 7 / 10 in ensemble\n",
      "10:50  Loading evaluation data\n",
      "10:50  Starting score evaluation\n",
      "10:50  Expected score (should be close to zero): [ 0.04540535 -0.01679108]\n",
      "10:50  Starting evaluation for estimator 8 / 10 in ensemble\n",
      "10:50  Loading evaluation data\n",
      "10:50  Starting score evaluation\n",
      "10:50  Expected score (should be close to zero): [ 0.0273785  -0.01807505]\n",
      "10:50  Starting evaluation for estimator 9 / 10 in ensemble\n",
      "10:50  Loading evaluation data\n",
      "10:50  Starting score evaluation\n",
      "10:51  Expected score (should be close to zero): [-0.05497546  0.02016618]\n",
      "10:51  Starting evaluation for estimator 10 / 10 in ensemble\n",
      "10:51  Loading evaluation data\n",
      "10:51  Starting score evaluation\n",
      "10:51  Expected score (should be close to zero): [ 0.00012301 -0.00768869]\n"
     ]
    }
   ],
   "source": [
    "fisher_info_ensemble_mean, fisher_info_ensemble_cov = fisher.calculate_fisher_information_full_detector(\n",
    "    theta=[0.,0.],\n",
    "    luminosity=300000.,\n",
    "    model_file=model_dir + 'sally_ensemble_all',\n",
    "    unweighted_x_sample_file = sample_dir + 'test/x_test.npy'\n",
    ")\n",
    "\n",
    "np.save(result_dir + 'information_mean_full.npy', fisher_info_ensemble_mean)\n",
    "np.save(result_dir + 'information_covariance_full.npy', fisher_info_ensemble_cov)"
   ]
  },
  {
   "cell_type": "markdown",
   "metadata": {},
   "source": [
    "## Info in observables (ML)"
   ]
  },
  {
   "cell_type": "code",
   "execution_count": 20,
   "metadata": {},
   "outputs": [
    {
     "name": "stderr",
     "output_type": "stream",
     "text": [
      "11:54  Loading ensemble setup from /Users/johannbrehmer/work/projects/madminer/diboson_mining/data/models/wgamma/sally_ensemble_deltaphi/ensemble.json\n",
      "11:54    Found ensemble with 10 estimators and expectations [[ 0.01108136  0.01226927]\n",
      " [-0.02025858 -0.03946016]\n",
      " [-0.00724483 -0.00818603]\n",
      " [-0.00711934  0.01605911]\n",
      " [-0.00019295  0.00029173]\n",
      " [ 0.0075682   0.01714741]\n",
      " [ 0.00396435 -0.00194454]\n",
      " [ 0.00240622 -0.00631471]\n",
      " [ 0.00656226  0.00237199]\n",
      " [-0.00282423 -0.00644198]]\n",
      "11:54  Loading settings from /Users/johannbrehmer/work/projects/madminer/diboson_mining/data/models/wgamma/sally_ensemble_deltaphi/estimator_0_settings.json\n",
      "11:54    Found method sally, 1 observables, 2 parameters, (50,) hidden layers, tanh activation function, features [25]\n",
      "11:54  Loading state dictionary from /Users/johannbrehmer/work/projects/madminer/diboson_mining/data/models/wgamma/sally_ensemble_deltaphi/estimator_0_state_dict.pt\n",
      "11:54  Loading settings from /Users/johannbrehmer/work/projects/madminer/diboson_mining/data/models/wgamma/sally_ensemble_deltaphi/estimator_1_settings.json\n",
      "11:54    Found method sally, 1 observables, 2 parameters, (100,) hidden layers, tanh activation function, features [25]\n",
      "11:54  Loading state dictionary from /Users/johannbrehmer/work/projects/madminer/diboson_mining/data/models/wgamma/sally_ensemble_deltaphi/estimator_1_state_dict.pt\n",
      "11:54  Loading settings from /Users/johannbrehmer/work/projects/madminer/diboson_mining/data/models/wgamma/sally_ensemble_deltaphi/estimator_2_settings.json\n",
      "11:54    Found method sally, 1 observables, 2 parameters, (50, 50) hidden layers, tanh activation function, features [25]\n",
      "11:54  Loading state dictionary from /Users/johannbrehmer/work/projects/madminer/diboson_mining/data/models/wgamma/sally_ensemble_deltaphi/estimator_2_state_dict.pt\n",
      "11:54  Loading settings from /Users/johannbrehmer/work/projects/madminer/diboson_mining/data/models/wgamma/sally_ensemble_deltaphi/estimator_3_settings.json\n",
      "11:54    Found method sally, 1 observables, 2 parameters, (50, 20) hidden layers, tanh activation function, features [25]\n",
      "11:54  Loading state dictionary from /Users/johannbrehmer/work/projects/madminer/diboson_mining/data/models/wgamma/sally_ensemble_deltaphi/estimator_3_state_dict.pt\n",
      "11:54  Loading settings from /Users/johannbrehmer/work/projects/madminer/diboson_mining/data/models/wgamma/sally_ensemble_deltaphi/estimator_4_settings.json\n",
      "11:54    Found method sally, 1 observables, 2 parameters, (100, 100) hidden layers, tanh activation function, features [25]\n",
      "11:54  Loading state dictionary from /Users/johannbrehmer/work/projects/madminer/diboson_mining/data/models/wgamma/sally_ensemble_deltaphi/estimator_4_state_dict.pt\n",
      "11:54  Loading settings from /Users/johannbrehmer/work/projects/madminer/diboson_mining/data/models/wgamma/sally_ensemble_deltaphi/estimator_5_settings.json\n",
      "11:54    Found method sally, 1 observables, 2 parameters, (100, 20) hidden layers, tanh activation function, features [25]\n",
      "11:54  Loading state dictionary from /Users/johannbrehmer/work/projects/madminer/diboson_mining/data/models/wgamma/sally_ensemble_deltaphi/estimator_5_state_dict.pt\n",
      "11:54  Loading settings from /Users/johannbrehmer/work/projects/madminer/diboson_mining/data/models/wgamma/sally_ensemble_deltaphi/estimator_6_settings.json\n",
      "11:54    Found method sally, 1 observables, 2 parameters, (50, 50, 50) hidden layers, tanh activation function, features [25]\n",
      "11:54  Loading state dictionary from /Users/johannbrehmer/work/projects/madminer/diboson_mining/data/models/wgamma/sally_ensemble_deltaphi/estimator_6_state_dict.pt\n",
      "11:54  Loading settings from /Users/johannbrehmer/work/projects/madminer/diboson_mining/data/models/wgamma/sally_ensemble_deltaphi/estimator_7_settings.json\n",
      "11:54    Found method sally, 1 observables, 2 parameters, (50, 20, 10) hidden layers, tanh activation function, features [25]\n",
      "11:54  Loading state dictionary from /Users/johannbrehmer/work/projects/madminer/diboson_mining/data/models/wgamma/sally_ensemble_deltaphi/estimator_7_state_dict.pt\n",
      "11:54  Loading settings from /Users/johannbrehmer/work/projects/madminer/diboson_mining/data/models/wgamma/sally_ensemble_deltaphi/estimator_8_settings.json\n",
      "11:54    Found method sally, 1 observables, 2 parameters, (100, 100, 100) hidden layers, tanh activation function, features [25]\n",
      "11:54  Loading state dictionary from /Users/johannbrehmer/work/projects/madminer/diboson_mining/data/models/wgamma/sally_ensemble_deltaphi/estimator_8_state_dict.pt\n",
      "11:54  Loading settings from /Users/johannbrehmer/work/projects/madminer/diboson_mining/data/models/wgamma/sally_ensemble_deltaphi/estimator_9_settings.json\n",
      "11:54    Found method sally, 1 observables, 2 parameters, (100, 50, 20) hidden layers, tanh activation function, features [25]\n",
      "11:55  Loading state dictionary from /Users/johannbrehmer/work/projects/madminer/diboson_mining/data/models/wgamma/sally_ensemble_deltaphi/estimator_9_state_dict.pt\n",
      "11:55  Evaluating Fisher information for 10 estimators in ensemble\n",
      "11:55  Starting evaluation for estimator 1 / 10 in ensemble\n",
      "11:55  Loading evaluation data\n",
      "11:55  Starting score evaluation\n",
      "11:55  Expected score (should be close to zero): [0.01145036 0.01213563]\n",
      "11:55  Starting evaluation for estimator 2 / 10 in ensemble\n",
      "11:55  Loading evaluation data\n",
      "11:55  Starting score evaluation\n",
      "11:55  Expected score (should be close to zero): [-0.01990616 -0.03959773]\n",
      "11:55  Starting evaluation for estimator 3 / 10 in ensemble\n",
      "11:55  Loading evaluation data\n",
      "11:55  Starting score evaluation\n",
      "11:55  Expected score (should be close to zero): [-0.00676342 -0.00837931]\n",
      "11:55  Starting evaluation for estimator 4 / 10 in ensemble\n",
      "11:55  Loading evaluation data\n",
      "11:55  Starting score evaluation\n",
      "11:55  Expected score (should be close to zero): [-0.00655371  0.0158932 ]\n",
      "11:55  Starting evaluation for estimator 5 / 10 in ensemble\n",
      "11:55  Loading evaluation data\n",
      "11:55  Starting score evaluation\n",
      "11:56  Expected score (should be close to zero): [7.249348e-04 6.085903e-05]\n",
      "11:56  Starting evaluation for estimator 6 / 10 in ensemble\n",
      "11:56  Loading evaluation data\n",
      "11:56  Starting score evaluation\n",
      "11:56  Expected score (should be close to zero): [0.00809287 0.01694442]\n",
      "11:56  Starting evaluation for estimator 7 / 10 in ensemble\n",
      "11:56  Loading evaluation data\n",
      "11:56  Starting score evaluation\n",
      "11:56  Expected score (should be close to zero): [ 0.00450609 -0.0022427 ]\n",
      "11:56  Starting evaluation for estimator 8 / 10 in ensemble\n",
      "11:56  Loading evaluation data\n",
      "11:56  Starting score evaluation\n",
      "11:56  Expected score (should be close to zero): [ 0.00290977 -0.00646286]\n",
      "11:56  Starting evaluation for estimator 9 / 10 in ensemble\n",
      "11:56  Loading evaluation data\n",
      "11:56  Starting score evaluation\n",
      "11:57  Expected score (should be close to zero): [0.00699138 0.00226019]\n",
      "11:57  Starting evaluation for estimator 10 / 10 in ensemble\n",
      "11:57  Loading evaluation data\n",
      "11:57  Starting score evaluation\n",
      "11:57  Expected score (should be close to zero): [-0.00215378 -0.00669163]\n"
     ]
    }
   ],
   "source": [
    "fisher_info_ensemble_mean, fisher_info_ensemble_cov = fisher.calculate_fisher_information_full_detector(\n",
    "    theta=[0.,0.],\n",
    "    luminosity=300000.,\n",
    "    model_file=model_dir + 'sally_ensemble_deltaphi',\n",
    "    unweighted_x_sample_file = sample_dir + 'test/x_test.npy'\n",
    ")\n",
    "\n",
    "np.save(result_dir + 'information_mean_deltaphi.npy', fisher_info_ensemble_mean)\n",
    "np.save(result_dir + 'information_covariance_deltaphi.npy', fisher_info_ensemble_cov)"
   ]
  },
  {
   "cell_type": "markdown",
   "metadata": {},
   "source": [
    "## Histogram info"
   ]
  },
  {
   "cell_type": "code",
   "execution_count": 17,
   "metadata": {},
   "outputs": [],
   "source": [
    "filenames = ['met', 'ptl', 'pta', 'deltaphi_la']\n",
    "observables = ['et_miss', 'pt_l1', 'pt_a1', 'deltaphi_l1_a1']\n",
    "obs_mins = [0., 0., 0., 0.]\n",
    "obs_maxs = [500., 500., 500., 6.]\n",
    "bins = 25"
   ]
  },
  {
   "cell_type": "code",
   "execution_count": 18,
   "metadata": {},
   "outputs": [
    {
     "name": "stderr",
     "output_type": "stream",
     "text": [
      "/Users/johannbrehmer/work/projects/madminer/madminer/madminer/fisherinformation.py:780: RuntimeWarning: divide by zero encountered in double_scalars\n",
      "  fisher_info.append(luminosity / sigma[i_event] * np.tensordot(dsigma.T[i_event], dsigma.T[i_event], axes=0))\n",
      "/Users/johannbrehmer/work/projects/madminer/madminer/madminer/fisherinformation.py:780: RuntimeWarning: invalid value encountered in multiply\n",
      "  fisher_info.append(luminosity / sigma[i_event] * np.tensordot(dsigma.T[i_event], dsigma.T[i_event], axes=0))\n"
     ]
    }
   ],
   "source": [
    "for filename, obs, obs_min, obs_max in zip(filenames, observables, obs_mins, obs_maxs):\n",
    "    info = fisher.calculate_fisher_information_hist1d(\n",
    "                theta=[0.,0.],\n",
    "                luminosity=300000.,\n",
    "                observable=obs,\n",
    "                nbins=bins,\n",
    "                histrange=(obs_min,obs_max)\n",
    "           )\n",
    "    \n",
    "    np.save(result_dir + 'information_histo_{}.npy'.format(filename), info)\n",
    "    "
   ]
  },
  {
   "cell_type": "code",
   "execution_count": null,
   "metadata": {},
   "outputs": [],
   "source": []
  }
 ],
 "metadata": {
  "kernelspec": {
   "display_name": "Python [default]",
   "language": "python",
   "name": "python3"
  },
  "language_info": {
   "codemirror_mode": {
    "name": "ipython",
    "version": 3
   },
   "file_extension": ".py",
   "mimetype": "text/x-python",
   "name": "python",
   "nbconvert_exporter": "python",
   "pygments_lexer": "ipython3",
   "version": "3.6.4"
  }
 },
 "nbformat": 4,
 "nbformat_minor": 2
}
