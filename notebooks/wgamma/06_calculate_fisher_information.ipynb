{
 "cells": [
  {
   "cell_type": "markdown",
   "metadata": {},
   "source": [
    "# Evaluate Fisher information\n",
    "\n",
    "Johann Brehmer, Kyle Cranmer, Marco Farina, Felix Kling, Duccio Pappadopulo, Josh Ruderman 2018"
   ]
  },
  {
   "cell_type": "code",
   "execution_count": 1,
   "metadata": {},
   "outputs": [],
   "source": [
    "from __future__ import absolute_import, division, print_function, unicode_literals\n",
    "\n",
    "import numpy as np\n",
    "import matplotlib\n",
    "from matplotlib import pyplot as plt\n",
    "%matplotlib inline\n",
    "import logging\n",
    "import os\n",
    "\n",
    "import madminer.core\n",
    "from madminer.fisherinformation import FisherInformation\n",
    "from madminer.plotting import plot_fisher_information_contours_2d\n",
    "\n",
    "logging.basicConfig(format='%(asctime)s  %(message)s', datefmt='%H:%M')"
   ]
  },
  {
   "cell_type": "code",
   "execution_count": 2,
   "metadata": {},
   "outputs": [],
   "source": [
    "base_dir = '/Users/johannbrehmer/work/projects/madminer/diboson_mining/'\n",
    "mg_dir = '/Users/johannbrehmer/work/projects/madminer/MG5_aMC_v2_6_4/'"
   ]
  },
  {
   "cell_type": "code",
   "execution_count": 3,
   "metadata": {},
   "outputs": [],
   "source": [
    "sample_dir = base_dir + 'data/samples/wgamma/'\n",
    "card_dir = base_dir + 'cards/wgamma/'\n",
    "ufo_model_dir = card_dir + 'SMWgamma_UFO'\n",
    "run_card_dir = card_dir + 'run_cards/'\n",
    "mg_process_dir = base_dir + 'data/mg_processes/wgamma/'\n",
    "log_dir = base_dir + 'logs/wgamma/'\n",
    "temp_dir = base_dir + 'data/temp'\n",
    "delphes_dir = mg_dir + 'Delphes'\n",
    "model_dir = base_dir + 'data/models/wgamma/'\n",
    "result_dir = base_dir + 'data/results/wgamma/'"
   ]
  },
  {
   "cell_type": "markdown",
   "metadata": {},
   "source": [
    "## FisherInformation instances"
   ]
  },
  {
   "cell_type": "code",
   "execution_count": 4,
   "metadata": {},
   "outputs": [
    {
     "name": "stderr",
     "output_type": "stream",
     "text": [
      "15:17  \n",
      "15:17  ------------------------------------------------------------\n",
      "15:17  |                                                          |\n",
      "15:17  |  MadMiner v0.1.1                                         |\n",
      "15:17  |                                                          |\n",
      "15:17  |           Johann Brehmer, Kyle Cranmer, and Felix Kling  |\n",
      "15:17  |                                                          |\n",
      "15:17  ------------------------------------------------------------\n",
      "15:17  \n",
      "15:17  Loading data from /Users/johannbrehmer/work/projects/madminer/diboson_mining/data/samples/wgamma/samples.h5\n",
      "15:17  HDF5 file does not contain is_reference field.\n",
      "15:17  Found 2 parameters:\n",
      "15:17     cWWW (LHA: dim6 1, maximal power in squared ME: (2,), range: (-0.02, 0.02))\n",
      "15:17     cWWWtilde (LHA: dim6 2, maximal power in squared ME: (2,), range: (-0.02, 0.02))\n",
      "15:17  Found 6 benchmarks, of which 6 physical:\n",
      "15:17     sm: cWWW = 0.00e+00, cWWWtilde = 0.00e+00\n",
      "15:17     morphing_basis_vector_1: cWWW = -6.07e-03, cWWWtilde = -1.84e-02\n",
      "15:17     morphing_basis_vector_2: cWWW = 1.00e-02, cWWWtilde = 1.70e-02\n",
      "15:17     morphing_basis_vector_3: cWWW = -1.99e-02, cWWWtilde = 1.87e-02\n",
      "15:17     morphing_basis_vector_4: cWWW = 1.97e-02, cWWWtilde = -1.53e-02\n",
      "15:17     morphing_basis_vector_5: cWWW = -1.65e-02, cWWWtilde = -6.33e-03\n",
      "15:17  Found 33 observables: et_miss, phi_miss, e_visible, eta_visible, e_l1, pt_l1, eta_l1, phi_l1, e_a1, pt_a1, eta_a1, phi_a1, e_j1, pt_j1, eta_j1, phi_j1, pdgid_l1, m_la, m_lmet, m_amet, pt_la, pt_lmet, pt_amet, deltaphi_la, deltaphi_lmet, deltaphi_amet, deltaeta_la, m_almet, pt_almet, mt, phi_minus, phi_plus, phi\n",
      "15:17  Found 961692 events\n",
      "15:17  Found morphing setup with 6 components\n",
      "15:17  Loading data from /Users/johannbrehmer/work/projects/madminer/diboson_mining/data/samples/wgamma/samples_tight.h5\n",
      "15:17  HDF5 file does not contain is_reference field.\n",
      "15:17  Found 2 parameters:\n",
      "15:17     cWWW (LHA: dim6 1, maximal power in squared ME: (2,), range: (-0.02, 0.02))\n",
      "15:17     cWWWtilde (LHA: dim6 2, maximal power in squared ME: (2,), range: (-0.02, 0.02))\n",
      "15:17  Found 6 benchmarks, of which 6 physical:\n",
      "15:17     sm: cWWW = 0.00e+00, cWWWtilde = 0.00e+00\n",
      "15:17     morphing_basis_vector_1: cWWW = -6.07e-03, cWWWtilde = -1.84e-02\n",
      "15:17     morphing_basis_vector_2: cWWW = 1.00e-02, cWWWtilde = 1.70e-02\n",
      "15:17     morphing_basis_vector_3: cWWW = -1.99e-02, cWWWtilde = 1.87e-02\n",
      "15:17     morphing_basis_vector_4: cWWW = 1.97e-02, cWWWtilde = -1.53e-02\n",
      "15:17     morphing_basis_vector_5: cWWW = -1.65e-02, cWWWtilde = -6.33e-03\n",
      "15:17  Found 33 observables: et_miss, phi_miss, e_visible, eta_visible, e_l1, pt_l1, eta_l1, phi_l1, e_a1, pt_a1, eta_a1, phi_a1, e_j1, pt_j1, eta_j1, phi_j1, pdgid_l1, m_la, m_lmet, m_amet, pt_la, pt_lmet, pt_amet, deltaphi_la, deltaphi_lmet, deltaphi_amet, deltaeta_la, m_almet, pt_almet, mt, phi_minus, phi_plus, phi\n",
      "15:17  Found 724183 events\n",
      "15:17  Found morphing setup with 6 components\n"
     ]
    }
   ],
   "source": [
    "fisher_all = FisherInformation(sample_dir + 'samples.h5', debug=True)\n",
    "fisher_tight = FisherInformation(sample_dir + 'samples_tight.h5', debug=True)"
   ]
  },
  {
   "cell_type": "markdown",
   "metadata": {},
   "source": [
    "## Truth-level info"
   ]
  },
  {
   "cell_type": "code",
   "execution_count": null,
   "metadata": {},
   "outputs": [],
   "source": [
    "fisher_info, cov = fisher_all.calculate_fisher_information_full_truth(\n",
    "    theta=[0.,0.],\n",
    "    luminosity = 300000.\n",
    ")\n",
    "\n",
    "np.save(result_dir + 'information_parton.npy', fisher_info)\n",
    "np.save(result_dir + 'information_covariance_parton.npy', cov)\n"
   ]
  },
  {
   "cell_type": "code",
   "execution_count": null,
   "metadata": {},
   "outputs": [],
   "source": [
    "fisher_info, cov = fisher_tight.calculate_fisher_information_full_truth(\n",
    "    theta=[0.,0.],\n",
    "    luminosity = 300000.\n",
    ")\n",
    "\n",
    "np.save(result_dir + 'information_parton_tight.npy', fisher_info)\n",
    "np.save(result_dir + 'information_covariance_parton_tight.npy', cov)\n"
   ]
  },
  {
   "cell_type": "markdown",
   "metadata": {},
   "source": [
    "## Rate-only info"
   ]
  },
  {
   "cell_type": "code",
   "execution_count": null,
   "metadata": {},
   "outputs": [],
   "source": [
    "fisher_info, cov = fisher_all.calculate_fisher_information_rate(\n",
    "    theta=[0.,0.],\n",
    "    luminosity = 300000.\n",
    ")\n",
    "\n",
    "np.save(result_dir + 'information_xsec.npy', fisher_info)\n",
    "np.save(result_dir + 'information_covariance_xsec.npy', cov)\n"
   ]
  },
  {
   "cell_type": "code",
   "execution_count": null,
   "metadata": {},
   "outputs": [],
   "source": [
    "fisher_info, cov = fisher_tight.calculate_fisher_information_rate(\n",
    "    theta=[0.,0.],\n",
    "    luminosity = 300000.\n",
    ")\n",
    "\n",
    "np.save(result_dir + 'information_xsec_tight.npy', fisher_info)\n",
    "np.save(result_dir + 'information_covariance_xsec_tight.npy', cov)\n"
   ]
  },
  {
   "cell_type": "markdown",
   "metadata": {},
   "source": [
    "## Full Fisher info (ML)"
   ]
  },
  {
   "cell_type": "code",
   "execution_count": 5,
   "metadata": {},
   "outputs": [
    {
     "name": "stderr",
     "output_type": "stream",
     "text": [
      "15:18  Loading ensemble setup from /Users/johannbrehmer/work/projects/madminer/diboson_mining/data/models/wgamma/sally_ensemble_all/ensemble.json\n",
      "15:18  Found ensemble with 3 estimators and expectations [[ 0.10144111  0.00323775]\n",
      " [ 0.01971416 -0.00915873]\n",
      " [ 0.05873061  0.00755476]]\n",
      "15:19  Evaluating rate Fisher information\n",
      "15:19  include_nuisance_parameters=False without benchmark_is_nuisance information. Returning all weights.\n",
      "15:21  include_nuisance_parameters=False without benchmark_is_nuisance information. Returning all weights.\n",
      "15:21  Evaluating kinematic Fisher information on batch 1 / 5\n",
      "15:21  Expected per-event score (should be close to zero):\n",
      "[array([1.43154563, 0.87611776])]\n",
      "with covariance matrix\n",
      "[array([[56.54005087, -1.53870873],\n",
      "       [-1.53870873,  5.68215481]])]\n",
      "15:21  Evaluating kinematic Fisher information on batch 2 / 5\n",
      "15:21  Expected per-event score (should be close to zero):\n",
      "[array([0.05884113, 0.48712975])]\n",
      "with covariance matrix\n",
      "[array([[2.19024812e+02, 7.47426348e-03],\n",
      "       [7.47426348e-03, 6.87667732e+00]])]\n",
      "15:21  Evaluating kinematic Fisher information on batch 3 / 5\n",
      "15:21  Expected per-event score (should be close to zero):\n",
      "[array([-0.91031134, -0.9557523 ])]\n",
      "with covariance matrix\n",
      "[array([[97.02028227, 22.35909446],\n",
      "       [22.35909446, 13.95897609]])]\n",
      "15:21  Evaluating kinematic Fisher information on batch 4 / 5\n",
      "15:21  Expected per-event score (should be close to zero):\n",
      "[array([-2.15603689,  0.92537638])]\n",
      "with covariance matrix\n",
      "[array([[111.62384048,  -3.11958775],\n",
      "       [ -3.11958775,   3.33758577]])]\n",
      "15:21  Evaluating kinematic Fisher information on batch 5 / 5\n",
      "15:21  Expected per-event score (should be close to zero):\n",
      "[array([1.0702576 , 1.11511454])]\n",
      "with covariance matrix\n",
      "[array([[49.35221685, -0.19346343],\n",
      "       [-0.19346343,  9.30985177]])]\n"
     ]
    }
   ],
   "source": [
    "mean, cov = fisher_all.calculate_fisher_information_full_detector(\n",
    "    theta=[0.,0.],\n",
    "    luminosity=300000.,\n",
    "    model_file=model_dir + 'sally_ensemble_all',\n",
    "    mode=\"score\"\n",
    ")\n",
    "\n",
    "np.save(result_dir + 'information_full.npy', mean)\n",
    "np.save(result_dir + 'information_covariance_full.npy', cov)"
   ]
  },
  {
   "cell_type": "code",
   "execution_count": null,
   "metadata": {},
   "outputs": [],
   "source": [
    "mean, cov = fisher_tight.calculate_fisher_information_full_detector(\n",
    "    theta=[0.,0.],\n",
    "    luminosity=300000.,\n",
    "    model_file=model_dir + 'sally_ensemble_all_tight',\n",
    "    mode=\"score\"\n",
    ")\n",
    "\n",
    "np.save(result_dir + 'information_full_tight.npy', mean)\n",
    "np.save(result_dir + 'information_covariance_full_tight.npy', cov)\n",
    "    "
   ]
  },
  {
   "cell_type": "code",
   "execution_count": 9,
   "metadata": {},
   "outputs": [
    {
     "name": "stderr",
     "output_type": "stream",
     "text": [
      "15:00  Loading ensemble setup from /Users/johannbrehmer/work/projects/madminer/diboson_mining/data/models/wgamma/sally_ensemble_all/ensemble.json\n",
      "15:00  Found ensemble with 3 estimators and expectations [[ 0.10144111  0.00323775]\n",
      " [ 0.01971416 -0.00915873]\n",
      " [ 0.05873061  0.00755476]]\n",
      "15:01  Evaluating rate Fisher information\n",
      "15:01  include_nuisance_parameters=False without benchmark_is_nuisance information. Returning all weights.\n",
      "15:03  include_nuisance_parameters=False without benchmark_is_nuisance information. Returning all weights.\n",
      "15:03  Evaluating kinematic Fisher information on batch 1 / 4\n",
      "15:03  Evaluating kinematic Fisher information on batch 2 / 4\n",
      "15:04  Evaluating kinematic Fisher information on batch 3 / 4\n",
      "15:04  Evaluating kinematic Fisher information on batch 4 / 4\n"
     ]
    }
   ],
   "source": [
    "mean, cov = fisher_tight.calculate_fisher_information_full_detector(\n",
    "    theta=[0.,0.],\n",
    "    luminosity=300000.,\n",
    "    model_file=model_dir + 'sally_ensemble_all',\n",
    "    mode=\"information\"\n",
    ")\n",
    "\n",
    "np.save(result_dir + 'information_full_infomode.npy', mean)\n",
    "np.save(result_dir + 'information_covariance_full_infomode.npy', cov)\n",
    "    "
   ]
  },
  {
   "cell_type": "markdown",
   "metadata": {},
   "source": [
    "## Minimal observable set (ML)"
   ]
  },
  {
   "cell_type": "code",
   "execution_count": null,
   "metadata": {},
   "outputs": [],
   "source": [
    "mean, cov = fisher_all.calculate_fisher_information_full_detector(\n",
    "    theta=[0.,0.],\n",
    "    luminosity=300000.,\n",
    "    model_file=model_dir + 'sally_ensemble_minimal',\n",
    "    mode=\"score\"\n",
    ")\n",
    "\n",
    "np.save(result_dir + 'information_minimal.npy', mean)\n",
    "np.save(result_dir + 'information_covariance_minimal.npy', cov)"
   ]
  },
  {
   "cell_type": "code",
   "execution_count": null,
   "metadata": {},
   "outputs": [],
   "source": [
    "mean, cov = fisher_tight.calculate_fisher_information_full_detector(\n",
    "    theta=[0.,0.],\n",
    "    luminosity=300000.,\n",
    "    model_file=model_dir + 'sally_ensemble_minimal_tight',\n",
    "    mode=\"score\"\n",
    ")\n",
    "\n",
    "np.save(result_dir + 'information_minimal_tight.npy', mean)\n",
    "np.save(result_dir + 'information_covariance_minimal_tight.npy', cov)"
   ]
  },
  {
   "cell_type": "markdown",
   "metadata": {},
   "source": [
    "## Info in observables (ML)"
   ]
  },
  {
   "cell_type": "code",
   "execution_count": null,
   "metadata": {},
   "outputs": [],
   "source": [
    "mean, cov = fisher_tight.calculate_fisher_information_full_detector(\n",
    "    theta=[0.,0.],\n",
    "    luminosity=300000.,\n",
    "    model_file=model_dir + 'sally_ensemble_phi_tight',\n",
    "    mode=\"score\"\n",
    ")\n",
    "\n",
    "np.save(result_dir + 'information_phi_tight.npy', mean)\n",
    "np.save(result_dir + 'information_covariance_phi_tight.npy', cov)\n"
   ]
  },
  {
   "cell_type": "markdown",
   "metadata": {},
   "source": [
    "## Histogram info"
   ]
  },
  {
   "cell_type": "code",
   "execution_count": 7,
   "metadata": {},
   "outputs": [],
   "source": [
    "filenames = ['phi', 'met', 'ptl', 'pta', 'deltaphi_lv', 'deltaphi_la']\n",
    "observables = ['phi', 'et_miss', 'pt_l1', 'pt_a1', 'deltaphi_lmet', 'deltaphi_la']\n",
    "bins = 25"
   ]
  },
  {
   "cell_type": "code",
   "execution_count": 8,
   "metadata": {},
   "outputs": [
    {
     "name": "stdout",
     "output_type": "stream",
     "text": [
      "phi\n",
      "met\n",
      "ptl\n",
      "pta\n",
      "deltaphi_lv\n",
      "deltaphi_la\n"
     ]
    }
   ],
   "source": [
    "for filename, obs in zip(filenames, observables):\n",
    "    print(filename)\n",
    "    info, cov = fisher_tight.calculate_fisher_information_hist1d(\n",
    "        theta=[0.,0.],\n",
    "        luminosity=300000.,\n",
    "        observable=obs,\n",
    "        nbins=bins,\n",
    "        histrange=None\n",
    "    )\n",
    "    \n",
    "    np.save(result_dir + 'information_histo_{}_tight.npy'.format(filename), info)\n",
    "    np.save(result_dir + 'information_covariance_histo_{}_tight.npy'.format(filename), cov)\n",
    "    "
   ]
  },
  {
   "cell_type": "code",
   "execution_count": null,
   "metadata": {},
   "outputs": [],
   "source": []
  }
 ],
 "metadata": {
  "kernelspec": {
   "display_name": "Python 3",
   "language": "python",
   "name": "python3"
  },
  "language_info": {
   "codemirror_mode": {
    "name": "ipython",
    "version": 3
   },
   "file_extension": ".py",
   "mimetype": "text/x-python",
   "name": "python",
   "nbconvert_exporter": "python",
   "pygments_lexer": "ipython3",
   "version": "3.6.7"
  }
 },
 "nbformat": 4,
 "nbformat_minor": 2
}
