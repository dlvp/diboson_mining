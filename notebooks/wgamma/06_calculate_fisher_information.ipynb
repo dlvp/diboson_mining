{
 "cells": [
  {
   "cell_type": "markdown",
   "metadata": {},
   "source": [
    "# Evaluate Fisher information\n",
    "\n",
    "Johann Brehmer, Kyle Cranmer, Felix Kling, Duccio Pappadopulo, Josh Ruderman 2018"
   ]
  },
  {
   "cell_type": "code",
   "execution_count": 2,
   "metadata": {},
   "outputs": [],
   "source": [
    "from __future__ import absolute_import, division, print_function, unicode_literals\n",
    "\n",
    "import numpy as np\n",
    "import matplotlib\n",
    "from matplotlib import pyplot as plt\n",
    "% matplotlib inline\n",
    "import logging\n",
    "import os\n",
    "\n",
    "import madminer.core\n",
    "from madminer.fisherinformation import FisherInformation\n",
    "from madminer.plotting import plot_fisher_information_contours_2d\n",
    "\n",
    "logging.basicConfig(format='%(asctime)s  %(message)s', datefmt='%H:%M')"
   ]
  },
  {
   "cell_type": "code",
   "execution_count": 3,
   "metadata": {},
   "outputs": [],
   "source": [
    "base_dir = '/Users/johannbrehmer/work/projects/madminer/diboson_mining/'\n",
    "mg_dir = '/Users/johannbrehmer/work/projects/madminer/MG5_aMC_v2_6_2/'"
   ]
  },
  {
   "cell_type": "code",
   "execution_count": 4,
   "metadata": {},
   "outputs": [],
   "source": [
    "sample_dir = base_dir + 'data/samples/wgamma/'\n",
    "card_dir = base_dir + 'cards/wgamma/'\n",
    "ufo_model_dir = card_dir + 'SMWgamma_UFO'\n",
    "run_card_dir = card_dir + 'run_cards/'\n",
    "mg_process_dir = base_dir + 'data/mg_processes/wgamma/'\n",
    "log_dir = base_dir + 'logs/wgamma/'\n",
    "temp_dir = base_dir + 'data/temp'\n",
    "delphes_dir = mg_dir + 'Delphes'\n",
    "model_dir = base_dir + 'data/models/wgamma/'\n",
    "result_dir = base_dir + 'data/results/wgamma/'"
   ]
  },
  {
   "cell_type": "markdown",
   "metadata": {},
   "source": [
    "## Settings"
   ]
  },
  {
   "cell_type": "code",
   "execution_count": 5,
   "metadata": {},
   "outputs": [],
   "source": [
    "weight_settings = [None, 1., 10., 100.]\n",
    "weight_setting_filenames = ['', '_w1', '_w10', '_w100']"
   ]
  },
  {
   "cell_type": "markdown",
   "metadata": {},
   "source": [
    "## FisherInformation instances"
   ]
  },
  {
   "cell_type": "code",
   "execution_count": 6,
   "metadata": {},
   "outputs": [
    {
     "name": "stderr",
     "output_type": "stream",
     "text": [
      "11:17  \n",
      "11:17  ------------------------------------------------------------\n",
      "11:17  |                                                          |\n",
      "11:17  |  MadMiner v2018.10.30                                    |\n",
      "11:17  |                                                          |\n",
      "11:17  |           Johann Brehmer, Kyle Cranmer, and Felix Kling  |\n",
      "11:17  |                                                          |\n",
      "11:17  ------------------------------------------------------------\n",
      "11:17  \n",
      "11:17  Loading data from /Users/johannbrehmer/work/projects/madminer/diboson_mining/data/samples/wgamma/samples.h5\n",
      "11:17  Found 2 parameters:\n",
      "11:17     cWWW (LHA: dim6 1, maximal power in squared ME: (2,), range: (-0.1, 0.1))\n",
      "11:17     cWWWtilde (LHA: dim6 2, maximal power in squared ME: (2,), range: (-0.1, 0.1))\n",
      "11:17  Found 6 benchmarks:\n",
      "11:17     sm: cWWW = 0.00e+00, cWWWtilde = 0.00e+00\n",
      "11:17     morphing_basis_vector_1: cWWW = -9.39e-02, cWWWtilde = 0.07\n",
      "11:17     morphing_basis_vector_2: cWWW = 0.08, cWWWtilde = -3.59e-02\n",
      "11:17     morphing_basis_vector_3: cWWW = -9.48e-02, cWWWtilde = -2.79e-02\n",
      "11:17     morphing_basis_vector_4: cWWW = -1.80e-04, cWWWtilde = -9.99e-02\n",
      "11:17     morphing_basis_vector_5: cWWW = 0.09, cWWWtilde = 0.07\n",
      "11:17  Found 30 observables: et_miss, phi_miss, e_visible, eta_visible, n_ls, e_l1, pt_l1, eta_l1, phi_l1, n_as, e_a1, pt_a1, eta_a1, phi_a1, n_js, e_j1, pt_j1, eta_j1, phi_j1, charge_j1, deltaphi_l1_met, deltaphi_a1_met, m_l0_met, pt_l0_met, m_l1_a1, deltaeta_l1_a1, deltaphi_l1_a1, m_a0_l0_met, pt_a0_l0_met, phi_resurrection\n",
      "11:17  Found 1808233 events\n",
      "11:17  Found morphing setup with 6 components\n",
      "11:17  Loading data from /Users/johannbrehmer/work/projects/madminer/diboson_mining/data/samples/wgamma/samples_tight.h5\n",
      "11:17  Found 2 parameters:\n",
      "11:17     cWWW (LHA: dim6 1, maximal power in squared ME: (2,), range: (-0.1, 0.1))\n",
      "11:17     cWWWtilde (LHA: dim6 2, maximal power in squared ME: (2,), range: (-0.1, 0.1))\n",
      "11:17  Found 6 benchmarks:\n",
      "11:17     sm: cWWW = 0.00e+00, cWWWtilde = 0.00e+00\n",
      "11:17     morphing_basis_vector_1: cWWW = -9.39e-02, cWWWtilde = 0.07\n",
      "11:17     morphing_basis_vector_2: cWWW = 0.08, cWWWtilde = -3.59e-02\n",
      "11:17     morphing_basis_vector_3: cWWW = -9.48e-02, cWWWtilde = -2.79e-02\n",
      "11:17     morphing_basis_vector_4: cWWW = -1.80e-04, cWWWtilde = -9.99e-02\n",
      "11:17     morphing_basis_vector_5: cWWW = 0.09, cWWWtilde = 0.07\n",
      "11:17  Found 30 observables: et_miss, phi_miss, e_visible, eta_visible, n_ls, e_l1, pt_l1, eta_l1, phi_l1, n_as, e_a1, pt_a1, eta_a1, phi_a1, n_js, e_j1, pt_j1, eta_j1, phi_j1, charge_j1, deltaphi_l1_met, deltaphi_a1_met, m_l1_met, pt_l1_met, m_l1_a1, deltaeta_l1_a1, deltaphi_l1_a1, m_a1_l1_met, pt_a1_l1_met, phi_resurrection\n",
      "11:17  Found 1126848 events\n",
      "11:17  Found morphing setup with 6 components\n"
     ]
    }
   ],
   "source": [
    "fisher_all = FisherInformation(sample_dir + 'samples.h5', debug=True)\n",
    "fisher_tight = FisherInformation(sample_dir + 'samples_tight.h5', debug=True)"
   ]
  },
  {
   "cell_type": "markdown",
   "metadata": {},
   "source": [
    "## Truth-level info"
   ]
  },
  {
   "cell_type": "code",
   "execution_count": 8,
   "metadata": {},
   "outputs": [
    {
     "name": "stdout",
     "output_type": "stream",
     "text": [
      "[[65934104.21930647   129129.18318053]\n",
      " [  129129.18318053 67630934.40000063]]\n",
      "[[[[ 2.04267908e+08 -1.45959868e+08]\n",
      "   [-1.45959868e+08  9.48044516e+07]]\n",
      "\n",
      "  [[-1.45959868e+08  1.12503795e+08]\n",
      "   [ 1.12503795e+08 -8.09125512e+07]]]\n",
      "\n",
      "\n",
      " [[[-1.45959868e+08  1.12503795e+08]\n",
      "   [ 1.12503795e+08 -8.09125512e+07]]\n",
      "\n",
      "  [[ 9.48044516e+07 -8.09125512e+07]\n",
      "   [-8.09125512e+07  6.89994123e+07]]]]\n"
     ]
    }
   ],
   "source": [
    "fisher_info, cov = fisher_all.calculate_fisher_information_full_truth(\n",
    "    theta=[0.,0.],\n",
    "    luminosity = 300000.\n",
    ")\n",
    "\n",
    "print(fisher_info)\n",
    "print(cov)\n",
    "\n",
    "np.save(result_dir + 'information_parton.npy', fisher_info)\n",
    "np.save(result_dir + 'information_covariance_parton.npy', cov)\n"
   ]
  },
  {
   "cell_type": "code",
   "execution_count": 9,
   "metadata": {},
   "outputs": [
    {
     "name": "stdout",
     "output_type": "stream",
     "text": [
      "[[33006561.30886249 -1465627.07389662]\n",
      " [-1465627.07389662 36806936.29824117]]\n",
      "[[[[ 1.00528805e+08  1.32989781e+08]\n",
      "   [ 1.32989781e+08  1.59547532e+08]]\n",
      "\n",
      "  [[ 1.32989781e+08  2.84190997e+08]\n",
      "   [ 2.84190997e+08 -1.29787414e+08]]]\n",
      "\n",
      "\n",
      " [[[ 1.32989781e+08  2.84190997e+08]\n",
      "   [ 2.84190997e+08 -1.29787414e+08]]\n",
      "\n",
      "  [[ 1.59547532e+08 -1.29787414e+08]\n",
      "   [-1.29787414e+08  2.41959302e+09]]]]\n"
     ]
    }
   ],
   "source": [
    "fisher_info, cov = fisher_tight.calculate_fisher_information_full_truth(\n",
    "    theta=[0.,0.],\n",
    "    luminosity = 300000.\n",
    ")\n",
    "\n",
    "print(fisher_info)\n",
    "print(cov)\n",
    "\n",
    "np.save(result_dir + 'information_parton_tight.npy', fisher_info)\n",
    "np.save(result_dir + 'information_covariance_parton_tight.npy', cov)\n"
   ]
  },
  {
   "cell_type": "markdown",
   "metadata": {},
   "source": [
    "## Rate-only info"
   ]
  },
  {
   "cell_type": "code",
   "execution_count": 7,
   "metadata": {},
   "outputs": [
    {
     "name": "stdout",
     "output_type": "stream",
     "text": [
      "[[ 2.24879374e+03 -6.41420859e+00]\n",
      " [-6.41420859e+00  1.82951736e-02]]\n",
      "[[[[ 2.44952006e+05 -3.53394225e+05]\n",
      "   [-3.53394225e+05  2.01397177e+03]]\n",
      "\n",
      "  [[-3.53394225e+05  5.09844685e+05]\n",
      "   [ 5.09844685e+05 -2.90557323e+03]]]\n",
      "\n",
      "\n",
      " [[[-3.53394225e+05  5.09844685e+05]\n",
      "   [ 5.09844685e+05 -2.90557323e+03]]\n",
      "\n",
      "  [[ 2.01397177e+03 -2.90557323e+03]\n",
      "   [-2.90557323e+03  1.65586816e+01]]]]\n"
     ]
    }
   ],
   "source": [
    "fisher_info, cov = fisher_all.calculate_fisher_information_rate(\n",
    "    theta=[0.,0.],\n",
    "    luminosity = 300000.\n",
    ")\n",
    "\n",
    "print(fisher_info)\n",
    "print(cov)\n",
    "\n",
    "np.save(result_dir + 'information_xsec.npy', fisher_info)\n",
    "np.save(result_dir + 'information_covariance_xsec.npy', cov)\n"
   ]
  },
  {
   "cell_type": "code",
   "execution_count": 8,
   "metadata": {},
   "outputs": [
    {
     "name": "stdout",
     "output_type": "stream",
     "text": [
      "[[329.18596818 182.20807705]\n",
      " [182.20807705 100.85418746]]\n",
      "[[[[  960.75023738 -1006.11365397]\n",
      "   [-1006.11365397 -1408.13946438]]\n",
      "\n",
      "  [[-1006.11365397  1053.61897954]\n",
      "   [ 1053.61897954  1474.62710565]]]\n",
      "\n",
      "\n",
      " [[[-1006.11365397  1053.61897954]\n",
      "   [ 1053.61897954  1474.62710565]]\n",
      "\n",
      "  [[-1408.13946438  1474.62710565]\n",
      "   [ 1474.62710565  2063.86287924]]]]\n"
     ]
    }
   ],
   "source": [
    "fisher_info, cov = fisher_tight.calculate_fisher_information_rate(\n",
    "    theta=[0.,0.],\n",
    "    luminosity = 300000.\n",
    ")\n",
    "\n",
    "print(fisher_info)\n",
    "print(cov)\n",
    "\n",
    "np.save(result_dir + 'information_xsec_tight.npy', fisher_info)\n",
    "np.save(result_dir + 'information_covariance_xsec_tight.npy', cov)\n",
    "\n"
   ]
  },
  {
   "cell_type": "markdown",
   "metadata": {},
   "source": [
    "## Full Fisher info (ML)"
   ]
  },
  {
   "cell_type": "code",
   "execution_count": null,
   "metadata": {},
   "outputs": [],
   "source": [
    "means, covs = fisher_all.calculate_fisher_information_full_detector(\n",
    "    theta=[0.,0.],\n",
    "    luminosity=300000.,\n",
    "    model_file=model_dir + 'sally_ensemble_all',\n",
    "    unweighted_x_sample_file = sample_dir + 'test/x_test.npy',\n",
    "    ensemble_vote_expectation_weight=weight_settings\n",
    ")\n",
    "\n",
    "print(means[0])\n",
    "\n",
    "for weight_filename, mean, cov in zip(weight_setting_filenames, means, covs):\n",
    "    np.save(result_dir + 'information_mean_full{}.npy'.format(weight_filename), mean)\n",
    "    np.save(result_dir + 'information_covariance_full{}.npy'.format(weight_filename), cov)"
   ]
  },
  {
   "cell_type": "code",
   "execution_count": null,
   "metadata": {},
   "outputs": [],
   "source": [
    "means, covs = fisher_tight.calculate_fisher_information_full_detector(\n",
    "    theta=[0.,0.],\n",
    "    luminosity=300000.,\n",
    "    model_file=model_dir + 'sally_ensemble_all_tight',\n",
    "    unweighted_x_sample_file = sample_dir + 'test_tight/x_test.npy',\n",
    "    ensemble_vote_expectation_weight=weight_settings\n",
    ")\n",
    "\n",
    "print(means[0])\n",
    "\n",
    "for weight_filename, mean, cov in zip(weight_setting_filenames, means, covs):\n",
    "    np.save(result_dir + 'information_mean_full_tight{}.npy'.format(weight_filename), mean)\n",
    "    np.save(result_dir + 'information_covariance_full_tight{}.npy'.format(weight_filename), cov)\n",
    "    "
   ]
  },
  {
   "cell_type": "markdown",
   "metadata": {},
   "source": [
    "## Info in observables (ML)"
   ]
  },
  {
   "cell_type": "code",
   "execution_count": null,
   "metadata": {},
   "outputs": [],
   "source": [
    "means, covs = fisher_tight.calculate_fisher_information_full_detector(\n",
    "    theta=[0.,0.],\n",
    "    luminosity=300000.,\n",
    "    model_file=model_dir + 'sally_ensemble_resurrection_tight',\n",
    "    unweighted_x_sample_file = sample_dir + 'test_tight/x_test.npy',\n",
    "    ensemble_vote_expectation_weight=weight_settings\n",
    ")\n",
    "\n",
    "print(means[0])\n",
    "\n",
    "for weight_filename, mean, cov in zip(weight_setting_filenames, means, covs):\n",
    "    np.save(result_dir + 'information_mean_resurrection_tight{}.npy'.format(weight_filename), mean)\n",
    "    np.save(result_dir + 'information_covariance_resurrection_tight{}.npy'.format(weight_filename), cov)\n",
    "    "
   ]
  },
  {
   "cell_type": "markdown",
   "metadata": {},
   "source": [
    "## Histogram info"
   ]
  },
  {
   "cell_type": "code",
   "execution_count": 6,
   "metadata": {},
   "outputs": [],
   "source": [
    "filenames = ['met', 'ptl', 'pta', 'deltaphi_lv', 'deltaphi_la', 'phi_resurrection']\n",
    "observables = ['et_miss', 'pt_l1', 'pt_a1', 'deltaphi_l1_met', 'deltaphi_l1_a1', 'phi_resurrection']\n",
    "bins = 25"
   ]
  },
  {
   "cell_type": "code",
   "execution_count": 7,
   "metadata": {},
   "outputs": [
    {
     "name": "stderr",
     "output_type": "stream",
     "text": [
      "11:05  Automatic dynamic binning: bin boundaries [  70.0026474    83.99138581   86.76307418   89.95329672   93.54304457\n",
      "   97.03399445  100.7647261   104.27209382  109.33224055  114.38022429\n",
      "  119.96125777  124.26446931  129.05766385  135.23042878  141.72854586\n",
      "  149.10647628  156.77495164  165.52919388  175.75762136  187.32936055\n",
      "  202.01050292  221.84061573  247.29611575  283.74027025  344.89002448\n",
      " 3293.30224609]\n",
      "/Users/johannbrehmer/work/projects/madminer/madminer/madminer/fisherinformation.py:876: RuntimeWarning: divide by zero encountered in true_divide\n",
      "  inv_sigma = sanitize_array(1.0 / sigma)  # Shape (n_events,)\n"
     ]
    },
    {
     "name": "stdout",
     "output_type": "stream",
     "text": [
      "met\n",
      "[[ 5026.11434659 -1598.13607084]\n",
      " [-1598.13607084  2570.97139915]]\n",
      "[[[[ 499079.85646866  189170.74750245]\n",
      "   [ 189170.74750245 -228702.9519823 ]]\n",
      "\n",
      "  [[ 189170.74750245  102436.68275093]\n",
      "   [ 102436.68275093    4834.95957741]]]\n",
      "\n",
      "\n",
      " [[[ 189170.74750245  102436.68275093]\n",
      "   [ 102436.68275093    4834.95957741]]\n",
      "\n",
      "  [[-228702.9519823     4834.95957741]\n",
      "   [   4834.95957741  450884.05337728]]]]\n"
     ]
    },
    {
     "name": "stderr",
     "output_type": "stream",
     "text": [
      "11:06  Automatic dynamic binning: bin boundaries [   70.01407719    86.55500082    91.68231844    95.60482839\n",
      "   102.30460893   107.78395903   114.36909348   120.30484038\n",
      "   127.53742745   133.9118414    139.20196344   147.51164308\n",
      "   156.01740185   167.32718093   176.47669834   185.38598045\n",
      "   196.22807842   207.53469288   225.1394547    247.92520457\n",
      "   276.97294609   309.80516652   365.73978414   455.03885944\n",
      "   595.40708659 10910.87356555]\n"
     ]
    },
    {
     "name": "stdout",
     "output_type": "stream",
     "text": [
      "ptl\n",
      "[[ 2733.80814139 -1302.1744936 ]\n",
      " [-1302.1744936   5806.37914193]]\n",
      "[[[[ 380746.51993592 -328772.32863127]\n",
      "   [-328772.32863127  206927.19198174]]\n",
      "\n",
      "  [[-328772.32863127  407050.36664174]\n",
      "   [ 407050.36664174 -157308.97603122]]]\n",
      "\n",
      "\n",
      " [[[-328772.32863127  407050.36664174]\n",
      "   [ 407050.36664174 -157308.97603122]]\n",
      "\n",
      "  [[ 206927.19198174 -157308.97603122]\n",
      "   [-157308.97603122  244103.20805551]]]]\n"
     ]
    },
    {
     "name": "stderr",
     "output_type": "stream",
     "text": [
      "11:07  Automatic dynamic binning: bin boundaries [ 290.08248901  309.9334986   318.24083386  328.76538653  339.79727075\n",
      "  352.41152983  363.43953839  373.24901684  388.54881176  402.51124614\n",
      "  420.19677718  439.49117372  454.58263603  473.48290936  491.45754346\n",
      "  507.87284141  529.29275083  557.0682178   590.65741499  631.50235191\n",
      "  674.97195162  731.20534798  805.30038209  922.65290537 1130.77729687\n",
      " 5671.93261719]\n"
     ]
    },
    {
     "name": "stdout",
     "output_type": "stream",
     "text": [
      "pta\n",
      "[[4171.9640489  -709.22872092]\n",
      " [-709.22872092 5091.34205664]]\n",
      "[[[[ 796309.92721633  357122.92475301]\n",
      "   [ 357122.92475301  135767.10319196]]\n",
      "\n",
      "  [[ 357122.92475301  875829.11998037]\n",
      "   [ 875829.11998037 1073349.6544226 ]]]\n",
      "\n",
      "\n",
      " [[[ 357122.92475301  875829.11998037]\n",
      "   [ 875829.11998037 1073349.6544226 ]]\n",
      "\n",
      "  [[ 135767.10319196 1073349.6544226 ]\n",
      "   [1073349.6544226  1897968.7894634 ]]]]\n"
     ]
    },
    {
     "name": "stderr",
     "output_type": "stream",
     "text": [
      "11:08  Automatic dynamic binning: bin boundaries [-1.62805717e+01 -6.54821258e-01 -4.47467246e-01 -3.66262435e-01\n",
      " -2.84017814e-01 -2.30673996e-01 -1.89236298e-01 -1.46312161e-01\n",
      " -1.13338132e-01 -8.56980246e-02 -5.84395530e-02 -3.45336585e-02\n",
      " -1.32330694e-02  9.28529690e-03  2.53340023e-02  5.13142976e-02\n",
      "  7.85159593e-02  9.89369330e-02  1.31770344e-01  1.61928526e-01\n",
      "  2.14148916e-01  2.70689765e-01  3.50319167e-01  4.69508461e-01\n",
      "  7.35947772e-01  1.62769635e+01]\n"
     ]
    },
    {
     "name": "stdout",
     "output_type": "stream",
     "text": [
      "deltaphi_lv\n",
      "[[83537.82754702   473.67369734]\n",
      " [  473.67369734  4925.89536767]]\n",
      "[[[[ 8.38855396e+08 -6.71292699e+08]\n",
      "   [-6.71292699e+08 -5.10584015e+08]]\n",
      "\n",
      "  [[-6.71292699e+08  9.70506536e+08]\n",
      "   [ 9.70506536e+08  6.58789836e+08]]]\n",
      "\n",
      "\n",
      " [[[-6.71292699e+08  9.70506536e+08]\n",
      "   [ 9.70506536e+08  6.58789836e+08]]\n",
      "\n",
      "  [[-5.10584015e+08  6.58789836e+08]\n",
      "   [ 6.58789836e+08  4.80354736e+08]]]]\n"
     ]
    },
    {
     "name": "stderr",
     "output_type": "stream",
     "text": [
      "11:10  Automatic dynamic binning: bin boundaries [-16.08807302  -3.62551839  -3.48626152  -3.37066347  -3.279995\n",
      "  -3.21677654  -3.16140671  -3.11607165  -3.06875757  -3.01115849\n",
      "  -2.953066    -2.84334471  -2.63034423   2.56619804   2.76166875\n",
      "   2.88677697   2.9753795    3.04968097   3.09426614   3.15441733\n",
      "   3.20363396   3.2733198    3.36851322   3.45724478   3.62721455\n",
      "  16.14705825]\n"
     ]
    },
    {
     "name": "stdout",
     "output_type": "stream",
     "text": [
      "deltaphi_la\n",
      "[[32714.38732062   693.35602541]\n",
      " [  693.35602541  3099.01118511]]\n",
      "[[[[ 87699336.75416616  26892576.82923355]\n",
      "   [ 26892576.82923355 -18106803.8228315 ]]\n",
      "\n",
      "  [[ 26892576.82923355  24954248.89444879]\n",
      "   [ 24954248.89444879    386975.36868829]]]\n",
      "\n",
      "\n",
      " [[[ 26892576.82923355  24954248.89444879]\n",
      "   [ 24954248.89444879    386975.36868829]]\n",
      "\n",
      "  [[-18106803.8228315     386975.36868829]\n",
      "   [   386975.36868829  14330883.55161038]]]]\n"
     ]
    },
    {
     "name": "stderr",
     "output_type": "stream",
     "text": [
      "11:11  Automatic dynamic binning: bin boundaries [-13.14157996  -3.06355927  -2.850798    -2.36411109  -1.7392082\n",
      "  -1.33156132  -0.79582691  -0.33547944  -0.1229195   -0.02359715\n",
      "   0.           0.           0.           0.           0.\n",
      "   0.           0.05651435   0.21782831   0.54935067   1.17759982\n",
      "   1.55131634   1.93577876   2.54953364   2.90038152   3.04982653\n",
      "  13.14157501]\n"
     ]
    },
    {
     "name": "stdout",
     "output_type": "stream",
     "text": [
      "phi_resurrection\n",
      "[[5784.38513982  376.60484451]\n",
      " [ 376.60484451 6919.76703796]]\n",
      "[[[[ 1.22925210e+08 -6.51142669e+07]\n",
      "   [-6.51142669e+07 -1.72543563e+07]]\n",
      "\n",
      "  [[-6.51142669e+07  1.82762609e+08]\n",
      "   [ 1.82762609e+08 -3.00205683e+07]]]\n",
      "\n",
      "\n",
      " [[[-6.51142669e+07  1.82762609e+08]\n",
      "   [ 1.82762609e+08 -3.00205683e+07]]\n",
      "\n",
      "  [[-1.72543563e+07 -3.00205683e+07]\n",
      "   [-3.00205683e+07  6.77544927e+08]]]]\n"
     ]
    }
   ],
   "source": [
    "for filename, obs in zip(filenames, observables):\n",
    "    info, cov = fisher_tight.calculate_fisher_information_hist1d(\n",
    "        theta=[0.,0.],\n",
    "        luminosity=300000.,\n",
    "        observable=obs,\n",
    "        nbins=bins,\n",
    "        histrange=None\n",
    "    )\n",
    "    \n",
    "    print(filename)\n",
    "    print(info)\n",
    "    print(cov)\n",
    "    \n",
    "    np.save(result_dir + 'information_histo_{}_tight.npy'.format(filename), info)\n",
    "    np.save(result_dir + 'information_covariance_histo_{}_tight.npy'.format(filename), cov)\n",
    "    "
   ]
  },
  {
   "cell_type": "code",
   "execution_count": null,
   "metadata": {},
   "outputs": [],
   "source": []
  }
 ],
 "metadata": {
  "kernelspec": {
   "display_name": "Python [default]",
   "language": "python",
   "name": "python3"
  },
  "language_info": {
   "codemirror_mode": {
    "name": "ipython",
    "version": 3
   },
   "file_extension": ".py",
   "mimetype": "text/x-python",
   "name": "python",
   "nbconvert_exporter": "python",
   "pygments_lexer": "ipython3",
   "version": "3.6.4"
  }
 },
 "nbformat": 4,
 "nbformat_minor": 2
}
