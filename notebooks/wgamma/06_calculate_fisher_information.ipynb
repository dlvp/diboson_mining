{
 "cells": [
  {
   "cell_type": "markdown",
   "metadata": {},
   "source": [
    "# Evaluate Fisher information\n",
    "\n",
    "Johann Brehmer, Kyle Cranmer, Marco Farina, Felix Kling, Duccio Pappadopulo, Josh Ruderman 2018"
   ]
  },
  {
   "cell_type": "code",
   "execution_count": 1,
   "metadata": {},
   "outputs": [],
   "source": [
    "from __future__ import absolute_import, division, print_function, unicode_literals\n",
    "\n",
    "import numpy as np\n",
    "import matplotlib\n",
    "from matplotlib import pyplot as plt\n",
    "%matplotlib inline\n",
    "import logging\n",
    "import os\n",
    "\n",
    "import madminer.core\n",
    "from madminer.fisherinformation import FisherInformation\n",
    "from madminer.plotting import plot_fisher_information_contours_2d\n",
    "\n",
    "logging.basicConfig(format='%(asctime)s  %(message)s', datefmt='%H:%M')"
   ]
  },
  {
   "cell_type": "code",
   "execution_count": 2,
   "metadata": {},
   "outputs": [],
   "source": [
    "base_dir = '/Users/johannbrehmer/work/projects/madminer/diboson_mining/'\n",
    "mg_dir = '/Users/johannbrehmer/work/projects/madminer/MG5_aMC_v2_6_2/'"
   ]
  },
  {
   "cell_type": "code",
   "execution_count": 3,
   "metadata": {},
   "outputs": [],
   "source": [
    "sample_dir = base_dir + 'data/samples/wgamma/'\n",
    "card_dir = base_dir + 'cards/wgamma/'\n",
    "ufo_model_dir = card_dir + 'SMWgamma_UFO'\n",
    "run_card_dir = card_dir + 'run_cards/'\n",
    "mg_process_dir = base_dir + 'data/mg_processes/wgamma/'\n",
    "log_dir = base_dir + 'logs/wgamma/'\n",
    "temp_dir = base_dir + 'data/temp'\n",
    "delphes_dir = mg_dir + 'Delphes'\n",
    "model_dir = base_dir + 'data/models/wgamma/'\n",
    "result_dir = base_dir + 'data/results/wgamma/'"
   ]
  },
  {
   "cell_type": "markdown",
   "metadata": {},
   "source": [
    "## Settings"
   ]
  },
  {
   "cell_type": "code",
   "execution_count": 4,
   "metadata": {},
   "outputs": [],
   "source": [
    "weight_settings = [None, 1., 10., 100.]\n",
    "weight_setting_filenames = ['', '_w1', '_w10', '_w100']"
   ]
  },
  {
   "cell_type": "markdown",
   "metadata": {},
   "source": [
    "## FisherInformation instances"
   ]
  },
  {
   "cell_type": "code",
   "execution_count": 5,
   "metadata": {},
   "outputs": [
    {
     "name": "stderr",
     "output_type": "stream",
     "text": [
      "08:32  \n",
      "08:32  ------------------------------------------------------------\n",
      "08:32  |                                                          |\n",
      "08:32  |  MadMiner v0.1.0                                         |\n",
      "08:32  |                                                          |\n",
      "08:32  |           Johann Brehmer, Kyle Cranmer, and Felix Kling  |\n",
      "08:32  |                                                          |\n",
      "08:32  ------------------------------------------------------------\n",
      "08:32  \n",
      "08:32  Loading data from /Users/johannbrehmer/work/projects/madminer/diboson_mining/data/samples/wgamma/samples.h5\n",
      "08:32  Found 2 parameters:\n",
      "08:32     cWWW (LHA: dim6 1, maximal power in squared ME: (2,), range: (-0.02, 0.02))\n",
      "08:32     cWWWtilde (LHA: dim6 2, maximal power in squared ME: (2,), range: (-0.02, 0.02))\n",
      "08:32  Found 6 benchmarks:\n",
      "08:32     sm: cWWW = 0.00e+00, cWWWtilde = 0.00e+00\n",
      "08:32     morphing_basis_vector_1: cWWW = -6.07e-03, cWWWtilde = -1.84e-02\n",
      "08:32     morphing_basis_vector_2: cWWW = 1.00e-02, cWWWtilde = 1.70e-02\n",
      "08:32     morphing_basis_vector_3: cWWW = -1.99e-02, cWWWtilde = 1.87e-02\n",
      "08:32     morphing_basis_vector_4: cWWW = 1.97e-02, cWWWtilde = -1.53e-02\n",
      "08:32     morphing_basis_vector_5: cWWW = -1.65e-02, cWWWtilde = -6.33e-03\n",
      "08:32  Found 27 observables: et_miss, phi_miss, e_visible, eta_visible, e_l1, pt_l1, eta_l1, phi_l1, e_a1, pt_a1, eta_a1, phi_a1, e_j1, pt_j1, eta_j1, phi_j1, deltaphi_l1_met, deltaphi_a1_met, m_l1_met, pt_l1_met, m_l1_a1, deltaeta_l1_a1, deltaphi_l1_a1, m_a1_l1_met, pt_a1_l1_met, mt, phi_resurrection\n",
      "08:32  Found 1812119 events\n",
      "08:32  Found morphing setup with 6 components\n",
      "08:32  Loading data from /Users/johannbrehmer/work/projects/madminer/diboson_mining/data/samples/wgamma/samples_tight.h5\n",
      "08:32  Found 2 parameters:\n",
      "08:32     cWWW (LHA: dim6 1, maximal power in squared ME: (2,), range: (-0.02, 0.02))\n",
      "08:32     cWWWtilde (LHA: dim6 2, maximal power in squared ME: (2,), range: (-0.02, 0.02))\n",
      "08:32  Found 6 benchmarks:\n",
      "08:32     sm: cWWW = 0.00e+00, cWWWtilde = 0.00e+00\n",
      "08:32     morphing_basis_vector_1: cWWW = -6.07e-03, cWWWtilde = -1.84e-02\n",
      "08:32     morphing_basis_vector_2: cWWW = 1.00e-02, cWWWtilde = 1.70e-02\n",
      "08:32     morphing_basis_vector_3: cWWW = -1.99e-02, cWWWtilde = 1.87e-02\n",
      "08:32     morphing_basis_vector_4: cWWW = 1.97e-02, cWWWtilde = -1.53e-02\n",
      "08:32     morphing_basis_vector_5: cWWW = -1.65e-02, cWWWtilde = -6.33e-03\n",
      "08:32  Found 27 observables: et_miss, phi_miss, e_visible, eta_visible, e_l1, pt_l1, eta_l1, phi_l1, e_a1, pt_a1, eta_a1, phi_a1, e_j1, pt_j1, eta_j1, phi_j1, deltaphi_l1_met, deltaphi_a1_met, m_l1_met, pt_l1_met, m_l1_a1, deltaeta_l1_a1, deltaphi_l1_a1, m_a1_l1_met, pt_a1_l1_met, mt, phi_resurrection\n",
      "08:32  Found 1207773 events\n",
      "08:32  Found morphing setup with 6 components\n"
     ]
    }
   ],
   "source": [
    "fisher_all = FisherInformation(sample_dir + 'samples.h5', debug=True)\n",
    "fisher_tight = FisherInformation(sample_dir + 'samples_tight.h5', debug=True)"
   ]
  },
  {
   "cell_type": "markdown",
   "metadata": {},
   "source": [
    "## Truth-level info"
   ]
  },
  {
   "cell_type": "code",
   "execution_count": 6,
   "metadata": {},
   "outputs": [],
   "source": [
    "fisher_info, cov = fisher_all.calculate_fisher_information_full_truth(\n",
    "    theta=[0.,0.],\n",
    "    luminosity = 300000.\n",
    ")\n",
    "\n",
    "np.save(result_dir + 'information_parton.npy', fisher_info)\n",
    "np.save(result_dir + 'information_covariance_parton.npy', cov)\n"
   ]
  },
  {
   "cell_type": "code",
   "execution_count": 7,
   "metadata": {},
   "outputs": [],
   "source": [
    "fisher_info, cov = fisher_tight.calculate_fisher_information_full_truth(\n",
    "    theta=[0.,0.],\n",
    "    luminosity = 300000.\n",
    ")\n",
    "\n",
    "np.save(result_dir + 'information_parton_tight.npy', fisher_info)\n",
    "np.save(result_dir + 'information_covariance_parton_tight.npy', cov)\n"
   ]
  },
  {
   "cell_type": "markdown",
   "metadata": {},
   "source": [
    "## Rate-only info"
   ]
  },
  {
   "cell_type": "code",
   "execution_count": 8,
   "metadata": {},
   "outputs": [],
   "source": [
    "fisher_info, cov = fisher_all.calculate_fisher_information_rate(\n",
    "    theta=[0.,0.],\n",
    "    luminosity = 300000.\n",
    ")\n",
    "\n",
    "np.save(result_dir + 'information_xsec.npy', fisher_info)\n",
    "np.save(result_dir + 'information_covariance_xsec.npy', cov)\n"
   ]
  },
  {
   "cell_type": "code",
   "execution_count": 9,
   "metadata": {},
   "outputs": [],
   "source": [
    "fisher_info, cov = fisher_tight.calculate_fisher_information_rate(\n",
    "    theta=[0.,0.],\n",
    "    luminosity = 300000.\n",
    ")\n",
    "\n",
    "np.save(result_dir + 'information_xsec_tight.npy', fisher_info)\n",
    "np.save(result_dir + 'information_covariance_xsec_tight.npy', cov)\n",
    "\n"
   ]
  },
  {
   "cell_type": "markdown",
   "metadata": {},
   "source": [
    "## Full Fisher info (ML)"
   ]
  },
  {
   "cell_type": "code",
   "execution_count": 10,
   "metadata": {},
   "outputs": [
    {
     "name": "stderr",
     "output_type": "stream",
     "text": [
      "08:36  Evaluating rate Fisher information\n",
      "08:37  Loading ensemble setup from /Users/johannbrehmer/work/projects/madminer/diboson_mining/data/models/wgamma/sally_ensemble_all/ensemble.json\n",
      "08:37  Found ensemble with 10 estimators and expectations [[ 0.0124253  -0.00622523]\n",
      " [ 0.01082812 -0.01633616]\n",
      " [ 0.00302331 -0.01269271]\n",
      " [ 0.04805243 -0.01485394]\n",
      " [-0.00635431  0.02842448]\n",
      " [-0.00602311  0.02559536]\n",
      " [-0.04376503 -0.00218479]\n",
      " [ 0.04664644  0.01154201]\n",
      " [-0.0062138  -0.00652853]\n",
      " [ 0.01620292 -0.01394181]]\n",
      "08:37  Evaluating kinematic Fisher information on batch 1 / 10\n",
      "08:37  Evaluating kinematic Fisher information on batch 2 / 10\n",
      "08:37  Evaluating kinematic Fisher information on batch 3 / 10\n",
      "08:37  Evaluating kinematic Fisher information on batch 4 / 10\n",
      "08:37  Evaluating kinematic Fisher information on batch 5 / 10\n",
      "08:38  Evaluating kinematic Fisher information on batch 6 / 10\n",
      "08:38  Evaluating kinematic Fisher information on batch 7 / 10\n",
      "08:38  Evaluating kinematic Fisher information on batch 8 / 10\n",
      "08:38  Evaluating kinematic Fisher information on batch 9 / 10\n",
      "08:38  Evaluating kinematic Fisher information on batch 10 / 10\n"
     ]
    }
   ],
   "source": [
    "means, covs = fisher_all.calculate_fisher_information_full_detector(\n",
    "    theta=[0.,0.],\n",
    "    luminosity=300000.,\n",
    "    model_file=model_dir + 'sally_ensemble_all',\n",
    "    ensemble_vote_expectation_weight=weight_settings,\n",
    "    test_split=0.5\n",
    ")\n",
    "\n",
    "for weight_filename, mean, cov in zip(weight_setting_filenames, means, covs):\n",
    "    np.save(result_dir + 'information_mean_full{}.npy'.format(weight_filename), mean)\n",
    "    np.save(result_dir + 'information_covariance_full{}.npy'.format(weight_filename), cov)"
   ]
  },
  {
   "cell_type": "code",
   "execution_count": 11,
   "metadata": {},
   "outputs": [
    {
     "name": "stderr",
     "output_type": "stream",
     "text": [
      "08:39  Evaluating rate Fisher information\n",
      "08:58  Loading ensemble setup from /Users/johannbrehmer/work/projects/madminer/diboson_mining/data/models/wgamma/sally_ensemble_all_tight/ensemble.json\n",
      "08:58  Found ensemble with 10 estimators and expectations [[ 0.1029028  -0.08046135]\n",
      " [-0.06806408  0.12765484]\n",
      " [ 0.01317418 -0.11043327]\n",
      " [-0.00836721  0.01291392]\n",
      " [ 0.17316912 -0.0522427 ]\n",
      " [ 0.14389989 -0.04559095]\n",
      " [-0.0742204   0.06831351]\n",
      " [-0.07074059  0.13199374]\n",
      " [ 0.05425001 -0.00909563]\n",
      " [ 0.12180231 -0.11386887]]\n",
      "08:58  Evaluating kinematic Fisher information on batch 1 / 7\n",
      "08:59  Evaluating kinematic Fisher information on batch 2 / 7\n",
      "08:59  Evaluating kinematic Fisher information on batch 3 / 7\n",
      "08:59  Evaluating kinematic Fisher information on batch 4 / 7\n",
      "08:59  Evaluating kinematic Fisher information on batch 5 / 7\n",
      "08:59  Evaluating kinematic Fisher information on batch 6 / 7\n",
      "08:59  Evaluating kinematic Fisher information on batch 7 / 7\n"
     ]
    }
   ],
   "source": [
    "means, covs = fisher_tight.calculate_fisher_information_full_detector(\n",
    "    theta=[0.,0.],\n",
    "    luminosity=300000.,\n",
    "    model_file=model_dir + 'sally_ensemble_all_tight',\n",
    "    ensemble_vote_expectation_weight=weight_settings\n",
    ")\n",
    "\n",
    "for weight_filename, mean, cov in zip(weight_setting_filenames, means, covs):\n",
    "    np.save(result_dir + 'information_mean_full_tight{}.npy'.format(weight_filename), mean)\n",
    "    np.save(result_dir + 'information_covariance_full_tight{}.npy'.format(weight_filename), cov)\n",
    "    "
   ]
  },
  {
   "cell_type": "markdown",
   "metadata": {},
   "source": [
    "## Minimal observable set (ML)"
   ]
  },
  {
   "cell_type": "code",
   "execution_count": 12,
   "metadata": {},
   "outputs": [
    {
     "name": "stderr",
     "output_type": "stream",
     "text": [
      "09:00  Evaluating rate Fisher information\n",
      "09:01  Loading ensemble setup from /Users/johannbrehmer/work/projects/madminer/diboson_mining/data/models/wgamma/sally_ensemble_minimal/ensemble.json\n",
      "09:01  Found ensemble with 10 estimators and expectations [[-0.02671136 -0.00728854]\n",
      " [ 0.01247957 -0.01401285]\n",
      " [ 0.04062554  0.00597154]\n",
      " [ 0.01108072  0.01070747]\n",
      " [-0.0049114  -0.00146135]\n",
      " [ 0.04261092 -0.00795631]\n",
      " [ 0.02664467 -0.01222934]\n",
      " [ 0.01294198 -0.0120667 ]\n",
      " [-0.00494022  0.01884975]\n",
      " [ 0.01261775 -0.00792851]]\n",
      "09:02  Evaluating kinematic Fisher information on batch 1 / 10\n",
      "09:02  Evaluating kinematic Fisher information on batch 2 / 10\n",
      "09:02  Evaluating kinematic Fisher information on batch 3 / 10\n",
      "09:02  Evaluating kinematic Fisher information on batch 4 / 10\n",
      "09:02  Evaluating kinematic Fisher information on batch 5 / 10\n",
      "09:03  Evaluating kinematic Fisher information on batch 6 / 10\n",
      "09:03  Evaluating kinematic Fisher information on batch 7 / 10\n",
      "09:03  Evaluating kinematic Fisher information on batch 8 / 10\n",
      "09:03  Evaluating kinematic Fisher information on batch 9 / 10\n",
      "09:03  Evaluating kinematic Fisher information on batch 10 / 10\n"
     ]
    }
   ],
   "source": [
    "means, covs = fisher_all.calculate_fisher_information_full_detector(\n",
    "    theta=[0.,0.],\n",
    "    luminosity=300000.,\n",
    "    model_file=model_dir + 'sally_ensemble_minimal',\n",
    "    ensemble_vote_expectation_weight=weight_settings\n",
    ")\n",
    "\n",
    "for weight_filename, mean, cov in zip(weight_setting_filenames, means, covs):\n",
    "    np.save(result_dir + 'information_mean_minimal{}.npy'.format(weight_filename), mean)\n",
    "    np.save(result_dir + 'information_covariance_minimal{}.npy'.format(weight_filename), cov)"
   ]
  },
  {
   "cell_type": "code",
   "execution_count": 13,
   "metadata": {},
   "outputs": [
    {
     "name": "stderr",
     "output_type": "stream",
     "text": [
      "09:04  Evaluating rate Fisher information\n",
      "09:04  Loading ensemble setup from /Users/johannbrehmer/work/projects/madminer/diboson_mining/data/models/wgamma/sally_ensemble_minimal_tight/ensemble.json\n",
      "09:04  Found ensemble with 10 estimators and expectations [[ 0.10243315 -0.04392805]\n",
      " [ 0.09659439 -0.08517995]\n",
      " [ 0.00273481  0.12434917]\n",
      " [-0.14431137 -0.05085052]\n",
      " [ 0.19981319  0.00260028]\n",
      " [ 0.05279114 -0.06962973]\n",
      " [ 0.19438805  0.12253496]\n",
      " [ 0.0043946   0.01401557]\n",
      " [ 0.00285431 -0.04315837]\n",
      " [-0.05589802 -0.08183265]]\n",
      "09:05  Evaluating kinematic Fisher information on batch 1 / 7\n",
      "09:05  Evaluating kinematic Fisher information on batch 2 / 7\n",
      "09:05  Evaluating kinematic Fisher information on batch 3 / 7\n",
      "09:05  Evaluating kinematic Fisher information on batch 4 / 7\n",
      "09:05  Evaluating kinematic Fisher information on batch 5 / 7\n",
      "09:05  Evaluating kinematic Fisher information on batch 6 / 7\n",
      "09:05  Evaluating kinematic Fisher information on batch 7 / 7\n"
     ]
    }
   ],
   "source": [
    "means, covs = fisher_tight.calculate_fisher_information_full_detector(\n",
    "    theta=[0.,0.],\n",
    "    luminosity=300000.,\n",
    "    model_file=model_dir + 'sally_ensemble_minimal_tight',\n",
    "    ensemble_vote_expectation_weight=weight_settings\n",
    ")\n",
    "\n",
    "for weight_filename, mean, cov in zip(weight_setting_filenames, means, covs):\n",
    "    np.save(result_dir + 'information_mean_minimal_tight{}.npy'.format(weight_filename), mean)\n",
    "    np.save(result_dir + 'information_covariance_minimal_tight{}.npy'.format(weight_filename), cov)"
   ]
  },
  {
   "cell_type": "markdown",
   "metadata": {},
   "source": [
    "## Info in observables (ML)"
   ]
  },
  {
   "cell_type": "code",
   "execution_count": 14,
   "metadata": {},
   "outputs": [
    {
     "name": "stderr",
     "output_type": "stream",
     "text": [
      "09:06  Evaluating rate Fisher information\n",
      "09:07  Loading ensemble setup from /Users/johannbrehmer/work/projects/madminer/diboson_mining/data/models/wgamma/sally_ensemble_resurrection/ensemble.json\n",
      "09:07  Found ensemble with 10 estimators and expectations [[-0.06997277 -0.03739008]\n",
      " [-0.05061622  0.02530169]\n",
      " [ 0.04583733 -0.05426796]\n",
      " [ 0.02253882  0.08709252]\n",
      " [ 0.00164176  0.04706487]\n",
      " [ 0.0277325  -0.01296323]\n",
      " [-0.08319149  0.07227684]\n",
      " [ 0.02860234  0.06181344]\n",
      " [ 0.12997635 -0.01228936]\n",
      " [ 0.00525506 -0.0525915 ]]\n"
     ]
    }
   ],
   "source": [
    "means, covs = fisher_tight.calculate_fisher_information_full_detector(\n",
    "    theta=[0.,0.],\n",
    "    luminosity=300000.,\n",
    "    model_file=model_dir + 'sally_ensemble_resurrection',\n",
    "    unweighted_x_sample_file = sample_dir + 'test_tight/x_test.npy',\n",
    "    ensemble_vote_expectation_weight=weight_settings\n",
    ")\n",
    "\n",
    "for weight_filename, mean, cov in zip(weight_setting_filenames, means, covs):\n",
    "    np.save(result_dir + 'information_mean_resurrection_tight{}.npy'.format(weight_filename), mean)\n",
    "    np.save(result_dir + 'information_covariance_resurrection_tight{}.npy'.format(weight_filename), cov)\n",
    "    "
   ]
  },
  {
   "cell_type": "markdown",
   "metadata": {},
   "source": [
    "## Histogram info"
   ]
  },
  {
   "cell_type": "code",
   "execution_count": 15,
   "metadata": {},
   "outputs": [],
   "source": [
    "filenames = ['phi_resurrection', 'met', 'ptl', 'pta', 'deltaphi_lv', 'deltaphi_la']\n",
    "observables = ['phi_resurrection', 'et_miss', 'pt_l1', 'pt_a1', 'deltaphi_l1_met', 'deltaphi_l1_a1']\n",
    "bins = 25"
   ]
  },
  {
   "cell_type": "code",
   "execution_count": 16,
   "metadata": {},
   "outputs": [
    {
     "name": "stdout",
     "output_type": "stream",
     "text": [
      "phi_resurrection\n",
      "met\n",
      "ptl\n",
      "pta\n",
      "deltaphi_lv\n",
      "deltaphi_la\n"
     ]
    }
   ],
   "source": [
    "for filename, obs in zip(filenames, observables):\n",
    "    print(filename)\n",
    "    info, cov = fisher_tight.calculate_fisher_information_hist1d(\n",
    "        theta=[0.,0.],\n",
    "        luminosity=300000.,\n",
    "        observable=obs,\n",
    "        nbins=bins,\n",
    "        histrange=None\n",
    "    )\n",
    "    \n",
    "    np.save(result_dir + 'information_histo_{}_tight.npy'.format(filename), info)\n",
    "    np.save(result_dir + 'information_covariance_histo_{}_tight.npy'.format(filename), cov)\n",
    "    "
   ]
  },
  {
   "cell_type": "code",
   "execution_count": null,
   "metadata": {},
   "outputs": [],
   "source": []
  }
 ],
 "metadata": {
  "kernelspec": {
   "display_name": "Python 3",
   "language": "python",
   "name": "python3"
  },
  "language_info": {
   "codemirror_mode": {
    "name": "ipython",
    "version": 3
   },
   "file_extension": ".py",
   "mimetype": "text/x-python",
   "name": "python",
   "nbconvert_exporter": "python",
   "pygments_lexer": "ipython3",
   "version": "3.6.7"
  }
 },
 "nbformat": 4,
 "nbformat_minor": 2
}
