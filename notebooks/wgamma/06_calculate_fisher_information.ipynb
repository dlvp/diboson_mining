{
 "cells": [
  {
   "cell_type": "markdown",
   "metadata": {},
   "source": [
    "# Evaluate Fisher information\n",
    "\n",
    "Johann Brehmer, Kyle Cranmer, Felix Kling, Duccio Pappadopulo, Josh Ruderman 2018"
   ]
  },
  {
   "cell_type": "code",
   "execution_count": 1,
   "metadata": {},
   "outputs": [],
   "source": [
    "from __future__ import absolute_import, division, print_function, unicode_literals\n",
    "\n",
    "import numpy as np\n",
    "import matplotlib\n",
    "from matplotlib import pyplot as plt\n",
    "% matplotlib inline\n",
    "import logging\n",
    "import os\n",
    "\n",
    "import madminer.core\n",
    "from madminer.fisherinformation import FisherInformation\n",
    "from madminer.plotting import plot_fisher_information_contours_2d\n",
    "\n",
    "logging.basicConfig(format='%(asctime)s  %(message)s', datefmt='%H:%M')"
   ]
  },
  {
   "cell_type": "code",
   "execution_count": 2,
   "metadata": {},
   "outputs": [],
   "source": [
    "base_dir = '/Users/johannbrehmer/work/projects/madminer/diboson_mining/'\n",
    "mg_dir = '/Users/johannbrehmer/work/projects/madminer/MG5_aMC_v2_6_2/'"
   ]
  },
  {
   "cell_type": "code",
   "execution_count": 3,
   "metadata": {},
   "outputs": [],
   "source": [
    "sample_dir = base_dir + 'data/samples/wgamma/'\n",
    "card_dir = base_dir + 'cards/wgamma/'\n",
    "ufo_model_dir = card_dir + 'SMWgamma_UFO'\n",
    "run_card_dir = card_dir + 'run_cards/'\n",
    "mg_process_dir = base_dir + 'data/mg_processes/wgamma/'\n",
    "log_dir = base_dir + 'logs/wgamma/'\n",
    "temp_dir = base_dir + 'data/temp'\n",
    "delphes_dir = mg_dir + 'Delphes'\n",
    "model_dir = base_dir + 'data/models/wgamma/'\n",
    "result_dir = base_dir + 'data/results/wgamma/'"
   ]
  },
  {
   "cell_type": "markdown",
   "metadata": {},
   "source": [
    "## Settings"
   ]
  },
  {
   "cell_type": "code",
   "execution_count": 4,
   "metadata": {},
   "outputs": [],
   "source": [
    "weight_settings = [None, 1., 10., 100.]\n",
    "weight_setting_filenames = ['', '_w1', '_w10', '_w100']"
   ]
  },
  {
   "cell_type": "markdown",
   "metadata": {},
   "source": [
    "## FisherInformation instances"
   ]
  },
  {
   "cell_type": "code",
   "execution_count": 5,
   "metadata": {},
   "outputs": [
    {
     "name": "stderr",
     "output_type": "stream",
     "text": [
      "21:59  \n",
      "21:59  ------------------------------------------------------------\n",
      "21:59  |                                                          |\n",
      "21:59  |  MadMiner v2018.11.06                                    |\n",
      "21:59  |                                                          |\n",
      "21:59  |           Johann Brehmer, Kyle Cranmer, and Felix Kling  |\n",
      "21:59  |                                                          |\n",
      "21:59  ------------------------------------------------------------\n",
      "21:59  \n",
      "21:59  Loading data from /Users/johannbrehmer/work/projects/madminer/diboson_mining/data/samples/wgamma/samples.h5\n",
      "21:59  Found 2 parameters:\n",
      "21:59     cWWW (LHA: dim6 1, maximal power in squared ME: (2,), range: (-0.1, 0.1))\n",
      "21:59     cWWWtilde (LHA: dim6 2, maximal power in squared ME: (2,), range: (-0.1, 0.1))\n",
      "21:59  Found 6 benchmarks:\n",
      "21:59     sm: cWWW = 0.00e+00, cWWWtilde = 0.00e+00\n",
      "21:59     morphing_basis_vector_1: cWWW = -9.39e-02, cWWWtilde = 0.07\n",
      "21:59     morphing_basis_vector_2: cWWW = 0.08, cWWWtilde = -3.59e-02\n",
      "21:59     morphing_basis_vector_3: cWWW = -9.48e-02, cWWWtilde = -2.79e-02\n",
      "21:59     morphing_basis_vector_4: cWWW = -1.80e-04, cWWWtilde = -9.99e-02\n",
      "21:59     morphing_basis_vector_5: cWWW = 0.09, cWWWtilde = 0.07\n",
      "21:59  Found 27 observables: et_miss, phi_miss, e_visible, eta_visible, e_l1, pt_l1, eta_l1, phi_l1, e_a1, pt_a1, eta_a1, phi_a1, e_j1, pt_j1, eta_j1, phi_j1, deltaphi_l1_met, deltaphi_a1_met, m_l1_met, pt_l1_met, m_l1_a1, deltaeta_l1_a1, deltaphi_l1_a1, m_a1_l1_met, pt_a1_l1_met, mt, phi_resurrection\n",
      "21:59  Found 1808877 events\n",
      "21:59  Found morphing setup with 6 components\n",
      "21:59  Loading data from /Users/johannbrehmer/work/projects/madminer/diboson_mining/data/samples/wgamma/samples_tight.h5\n",
      "21:59  Found 2 parameters:\n",
      "21:59     cWWW (LHA: dim6 1, maximal power in squared ME: (2,), range: (-0.1, 0.1))\n",
      "21:59     cWWWtilde (LHA: dim6 2, maximal power in squared ME: (2,), range: (-0.1, 0.1))\n",
      "21:59  Found 6 benchmarks:\n",
      "21:59     sm: cWWW = 0.00e+00, cWWWtilde = 0.00e+00\n",
      "21:59     morphing_basis_vector_1: cWWW = -9.39e-02, cWWWtilde = 0.07\n",
      "21:59     morphing_basis_vector_2: cWWW = 0.08, cWWWtilde = -3.59e-02\n",
      "21:59     morphing_basis_vector_3: cWWW = -9.48e-02, cWWWtilde = -2.79e-02\n",
      "21:59     morphing_basis_vector_4: cWWW = -1.80e-04, cWWWtilde = -9.99e-02\n",
      "21:59     morphing_basis_vector_5: cWWW = 0.09, cWWWtilde = 0.07\n",
      "21:59  Found 27 observables: et_miss, phi_miss, e_visible, eta_visible, e_l1, pt_l1, eta_l1, phi_l1, e_a1, pt_a1, eta_a1, phi_a1, e_j1, pt_j1, eta_j1, phi_j1, deltaphi_l1_met, deltaphi_a1_met, m_l1_met, pt_l1_met, m_l1_a1, deltaeta_l1_a1, deltaphi_l1_a1, m_a1_l1_met, pt_a1_l1_met, mt, phi_resurrection\n",
      "21:59  Found 1127244 events\n",
      "21:59  Found morphing setup with 6 components\n"
     ]
    }
   ],
   "source": [
    "fisher_all = FisherInformation(sample_dir + 'samples.h5', debug=True)\n",
    "fisher_tight = FisherInformation(sample_dir + 'samples_tight.h5', debug=True)"
   ]
  },
  {
   "cell_type": "markdown",
   "metadata": {},
   "source": [
    "## Truth-level info"
   ]
  },
  {
   "cell_type": "code",
   "execution_count": 6,
   "metadata": {},
   "outputs": [],
   "source": [
    "fisher_info, cov = fisher_all.calculate_fisher_information_full_truth(\n",
    "    theta=[0.,0.],\n",
    "    luminosity = 300000.\n",
    ")\n",
    "\n",
    "np.save(result_dir + 'information_parton.npy', fisher_info)\n",
    "np.save(result_dir + 'information_covariance_parton.npy', cov)\n"
   ]
  },
  {
   "cell_type": "code",
   "execution_count": 7,
   "metadata": {},
   "outputs": [],
   "source": [
    "fisher_info, cov = fisher_tight.calculate_fisher_information_full_truth(\n",
    "    theta=[0.,0.],\n",
    "    luminosity = 300000.\n",
    ")\n",
    "\n",
    "np.save(result_dir + 'information_parton_tight.npy', fisher_info)\n",
    "np.save(result_dir + 'information_covariance_parton_tight.npy', cov)\n"
   ]
  },
  {
   "cell_type": "markdown",
   "metadata": {},
   "source": [
    "## Rate-only info"
   ]
  },
  {
   "cell_type": "code",
   "execution_count": 8,
   "metadata": {},
   "outputs": [],
   "source": [
    "fisher_info, cov = fisher_all.calculate_fisher_information_rate(\n",
    "    theta=[0.,0.],\n",
    "    luminosity = 300000.\n",
    ")\n",
    "\n",
    "np.save(result_dir + 'information_xsec.npy', fisher_info)\n",
    "np.save(result_dir + 'information_covariance_xsec.npy', cov)\n"
   ]
  },
  {
   "cell_type": "code",
   "execution_count": 9,
   "metadata": {},
   "outputs": [],
   "source": [
    "fisher_info, cov = fisher_tight.calculate_fisher_information_rate(\n",
    "    theta=[0.,0.],\n",
    "    luminosity = 300000.\n",
    ")\n",
    "\n",
    "np.save(result_dir + 'information_xsec_tight.npy', fisher_info)\n",
    "np.save(result_dir + 'information_covariance_xsec_tight.npy', cov)\n",
    "\n"
   ]
  },
  {
   "cell_type": "markdown",
   "metadata": {},
   "source": [
    "## Full Fisher info (ML)"
   ]
  },
  {
   "cell_type": "code",
   "execution_count": 10,
   "metadata": {},
   "outputs": [
    {
     "name": "stderr",
     "output_type": "stream",
     "text": [
      "16:41  Evaluating rate Fisher information\n",
      "16:42  Loading ensemble setup from /Users/johannbrehmer/work/projects/madminer/diboson_mining/data/models/wgamma/sally_ensemble_all/ensemble.json\n",
      "16:42  Found ensemble with 10 estimators and expectations [[-0.00058942 -0.03821032]\n",
      " [-0.03163671  0.00532137]\n",
      " [-0.02699495  0.01435901]\n",
      " [ 0.01564022  0.00276239]\n",
      " [-0.02461902 -0.01322716]\n",
      " [ 0.05454716 -0.01634969]\n",
      " [-0.02868321 -0.04444946]\n",
      " [-0.06715274  0.00436619]\n",
      " [ 0.02157337 -0.01041408]\n",
      " [ 0.02201053 -0.01349001]]\n",
      "16:42  Evaluating kinematic Fisher information on batch 1 / 10\n",
      "16:43  Evaluating kinematic Fisher information on batch 2 / 10\n",
      "16:43  Evaluating kinematic Fisher information on batch 3 / 10\n",
      "16:43  Evaluating kinematic Fisher information on batch 4 / 10\n",
      "16:43  Evaluating kinematic Fisher information on batch 5 / 10\n",
      "16:43  Evaluating kinematic Fisher information on batch 6 / 10\n",
      "16:44  Evaluating kinematic Fisher information on batch 7 / 10\n",
      "16:44  Evaluating kinematic Fisher information on batch 8 / 10\n",
      "16:44  Evaluating kinematic Fisher information on batch 9 / 10\n",
      "16:44  Evaluating kinematic Fisher information on batch 10 / 10\n"
     ]
    }
   ],
   "source": [
    "means, covs = fisher_all.calculate_fisher_information_full_detector(\n",
    "    theta=[0.,0.],\n",
    "    luminosity=300000.,\n",
    "    model_file=model_dir + 'sally_ensemble_all',\n",
    "    ensemble_vote_expectation_weight=weight_settings,\n",
    "    test_split=0.5\n",
    ")\n",
    "\n",
    "for weight_filename, mean, cov in zip(weight_setting_filenames, means, covs):\n",
    "    np.save(result_dir + 'information_mean_full{}.npy'.format(weight_filename), mean)\n",
    "    np.save(result_dir + 'information_covariance_full{}.npy'.format(weight_filename), cov)"
   ]
  },
  {
   "cell_type": "code",
   "execution_count": 11,
   "metadata": {},
   "outputs": [
    {
     "name": "stderr",
     "output_type": "stream",
     "text": [
      "16:45  Evaluating rate Fisher information\n",
      "16:46  Loading ensemble setup from /Users/johannbrehmer/work/projects/madminer/diboson_mining/data/models/wgamma/sally_ensemble_all_tight/ensemble.json\n",
      "16:46  Found ensemble with 10 estimators and expectations [[-0.00060722  0.15509216]\n",
      " [-0.16394992  0.34701794]\n",
      " [ 0.00076124  0.45749214]\n",
      " [-0.30102825  0.13194236]\n",
      " [ 0.02727261  0.06317566]\n",
      " [-0.17103906  0.21624082]\n",
      " [-0.14444168 -0.03133125]\n",
      " [-0.16886641  0.09930825]\n",
      " [-0.11620897  0.13694482]\n",
      " [-0.32656896  0.2800498 ]]\n",
      "16:46  Evaluating kinematic Fisher information on batch 1 / 6\n",
      "16:46  Evaluating kinematic Fisher information on batch 2 / 6\n",
      "16:46  Evaluating kinematic Fisher information on batch 3 / 6\n",
      "16:47  Evaluating kinematic Fisher information on batch 4 / 6\n",
      "16:47  Evaluating kinematic Fisher information on batch 5 / 6\n",
      "16:47  Evaluating kinematic Fisher information on batch 6 / 6\n"
     ]
    }
   ],
   "source": [
    "means, covs = fisher_tight.calculate_fisher_information_full_detector(\n",
    "    theta=[0.,0.],\n",
    "    luminosity=300000.,\n",
    "    model_file=model_dir + 'sally_ensemble_all_tight',\n",
    "    ensemble_vote_expectation_weight=weight_settings\n",
    ")\n",
    "\n",
    "for weight_filename, mean, cov in zip(weight_setting_filenames, means, covs):\n",
    "    np.save(result_dir + 'information_mean_full_tight{}.npy'.format(weight_filename), mean)\n",
    "    np.save(result_dir + 'information_covariance_full_tight{}.npy'.format(weight_filename), cov)\n",
    "    "
   ]
  },
  {
   "cell_type": "markdown",
   "metadata": {},
   "source": [
    "## Minimal observable set (ML)"
   ]
  },
  {
   "cell_type": "code",
   "execution_count": 12,
   "metadata": {},
   "outputs": [
    {
     "name": "stderr",
     "output_type": "stream",
     "text": [
      "17:37  Evaluating rate Fisher information\n",
      "17:38  Loading ensemble setup from /Users/johannbrehmer/work/projects/madminer/diboson_mining/data/models/wgamma/sally_ensemble_minimal/ensemble.json\n",
      "17:38  Found ensemble with 10 estimators and expectations [[ 0.00310293 -0.0015463 ]\n",
      " [ 0.03776098  0.00689389]\n",
      " [-0.01226376  0.00998097]\n",
      " [-0.0400195  -0.02346642]\n",
      " [-0.03455094 -0.00342189]\n",
      " [ 0.01867289 -0.03513534]\n",
      " [ 0.02758557  0.01110156]\n",
      " [ 0.00956988 -0.00347427]\n",
      " [ 0.02533634 -0.01591347]\n",
      " [-0.0431709   0.02130776]]\n",
      "17:39  Evaluating kinematic Fisher information on batch 1 / 10\n",
      "17:39  Evaluating kinematic Fisher information on batch 2 / 10\n",
      "17:39  Evaluating kinematic Fisher information on batch 3 / 10\n",
      "17:40  Evaluating kinematic Fisher information on batch 4 / 10\n",
      "17:40  Evaluating kinematic Fisher information on batch 5 / 10\n",
      "17:40  Evaluating kinematic Fisher information on batch 6 / 10\n",
      "17:40  Evaluating kinematic Fisher information on batch 7 / 10\n",
      "17:40  Evaluating kinematic Fisher information on batch 8 / 10\n",
      "17:40  Evaluating kinematic Fisher information on batch 9 / 10\n",
      "17:41  Evaluating kinematic Fisher information on batch 10 / 10\n"
     ]
    }
   ],
   "source": [
    "means, covs = fisher_all.calculate_fisher_information_full_detector(\n",
    "    theta=[0.,0.],\n",
    "    luminosity=300000.,\n",
    "    model_file=model_dir + 'sally_ensemble_minimal',\n",
    "    ensemble_vote_expectation_weight=weight_settings\n",
    ")\n",
    "\n",
    "for weight_filename, mean, cov in zip(weight_setting_filenames, means, covs):\n",
    "    np.save(result_dir + 'information_mean_minimal{}.npy'.format(weight_filename), mean)\n",
    "    np.save(result_dir + 'information_covariance_minimal{}.npy'.format(weight_filename), cov)"
   ]
  },
  {
   "cell_type": "markdown",
   "metadata": {},
   "source": [
    "## Info in observables (ML)"
   ]
  },
  {
   "cell_type": "code",
   "execution_count": 13,
   "metadata": {},
   "outputs": [
    {
     "name": "stderr",
     "output_type": "stream",
     "text": [
      "17:41  Evaluating rate Fisher information\n",
      "17:42  Loading ensemble setup from /Users/johannbrehmer/work/projects/madminer/diboson_mining/data/models/wgamma/sally_ensemble_resurrection/ensemble.json\n",
      "17:42  Found ensemble with 10 estimators and expectations [[ 0.34163749  0.0184007 ]\n",
      " [-0.01920718  0.03520864]\n",
      " [ 0.00359762  0.03430708]\n",
      " [ 0.10783922  0.15602615]\n",
      " [ 0.14461567 -0.09486265]\n",
      " [ 0.04153125 -0.04293203]\n",
      " [ 0.03765164  0.00112771]\n",
      " [ 0.04046184 -0.01316202]\n",
      " [-0.06499439 -0.08383457]\n",
      " [-0.084725   -0.05568345]]\n"
     ]
    }
   ],
   "source": [
    "means, covs = fisher_tight.calculate_fisher_information_full_detector(\n",
    "    theta=[0.,0.],\n",
    "    luminosity=300000.,\n",
    "    model_file=model_dir + 'sally_ensemble_resurrection',\n",
    "    unweighted_x_sample_file = sample_dir + 'test_tight/x_test.npy',\n",
    "    ensemble_vote_expectation_weight=weight_settings\n",
    ")\n",
    "\n",
    "for weight_filename, mean, cov in zip(weight_setting_filenames, means, covs):\n",
    "    np.save(result_dir + 'information_mean_resurrection_tight{}.npy'.format(weight_filename), mean)\n",
    "    np.save(result_dir + 'information_covariance_resurrection_tight{}.npy'.format(weight_filename), cov)\n",
    "    "
   ]
  },
  {
   "cell_type": "markdown",
   "metadata": {},
   "source": [
    "## Histogram info"
   ]
  },
  {
   "cell_type": "code",
   "execution_count": 10,
   "metadata": {},
   "outputs": [],
   "source": [
    "filenames = ['phi_resurrection', 'met', 'ptl', 'pta', 'deltaphi_lv', 'deltaphi_la']\n",
    "observables = ['phi_resurrection', 'et_miss', 'pt_l1', 'pt_a1', 'deltaphi_l1_met', 'deltaphi_l1_a1']\n",
    "bins = 25"
   ]
  },
  {
   "cell_type": "code",
   "execution_count": 11,
   "metadata": {},
   "outputs": [
    {
     "name": "stdout",
     "output_type": "stream",
     "text": [
      "phi_resurrection\n"
     ]
    },
    {
     "name": "stderr",
     "output_type": "stream",
     "text": [
      "22:01  Automatic dynamic binning: bin boundaries [-3.05119131 -2.9623406  -2.83016773 -2.72354132 -2.55679691 -2.22023802\n",
      " -1.09078506 -0.56121877 -0.37006517 -0.25103436 -0.14749095 -0.06930427\n",
      "  0.0215818   0.10412671  0.19499708  0.30140907  0.47979645  0.98850688\n",
      "  2.18378454  2.58907341  2.74089824  2.86343674  2.96207231  3.04616826]\n"
     ]
    },
    {
     "name": "stdout",
     "output_type": "stream",
     "text": [
      "met\n"
     ]
    },
    {
     "name": "stderr",
     "output_type": "stream",
     "text": [
      "22:04  Automatic dynamic binning: bin boundaries [ 83.27401802  85.91010454  90.79949708  94.23582192  98.52757233\n",
      " 102.20198377 105.95531917 110.36265613 115.93791004 121.00044888\n",
      " 125.58452072 131.4259025  137.1404871  142.76535756 149.03887361\n",
      " 157.35187023 166.80556495 177.01181918 189.59949433 204.77676868\n",
      " 223.93111053 250.09795716 285.89578509 347.81225335]\n"
     ]
    },
    {
     "name": "stdout",
     "output_type": "stream",
     "text": [
      "ptl\n"
     ]
    },
    {
     "name": "stderr",
     "output_type": "stream",
     "text": [
      "22:08  Automatic dynamic binning: bin boundaries [ 86.44577406  93.0507576   98.57671777 104.68688594 109.7128132\n",
      " 116.31964202 121.50834611 125.84042444 132.06773663 140.21521879\n",
      " 147.3551914  156.33388547 163.63033107 174.00087417 183.39140611\n",
      " 195.3172811  212.51420422 232.5789048  253.87828034 280.13675139\n",
      " 313.87378227 363.51328184 443.93710547 591.40056179]\n"
     ]
    },
    {
     "name": "stdout",
     "output_type": "stream",
     "text": [
      "pta\n"
     ]
    },
    {
     "name": "stderr",
     "output_type": "stream",
     "text": [
      "22:12  Automatic dynamic binning: bin boundaries [ 307.24822177  316.26713826  329.47611604  343.92106018  356.57463325\n",
      "  367.99023654  381.89020036  395.94418961  408.69984064  422.88210608\n",
      "  437.87225422  453.49188479  471.29089842  488.26118153  507.52220164\n",
      "  532.64943985  564.091783    591.87224335  626.35320643  671.81520769\n",
      "  730.78161827  813.4851045   923.89304882 1123.87396886]\n"
     ]
    },
    {
     "name": "stdout",
     "output_type": "stream",
     "text": [
      "deltaphi_lv\n"
     ]
    },
    {
     "name": "stderr",
     "output_type": "stream",
     "text": [
      "22:16  Automatic dynamic binning: bin boundaries [-0.6951427  -0.44799286 -0.33834367 -0.27117902 -0.21631004 -0.1681568\n",
      " -0.13805217 -0.10558459 -0.08183958 -0.05613644 -0.03886181 -0.01507004\n",
      "  0.01095324  0.03060658  0.05428066  0.08130556  0.10766232  0.13938476\n",
      "  0.16784767  0.20946242  0.26910536  0.32976336  0.41330775  0.65104717]\n"
     ]
    },
    {
     "name": "stdout",
     "output_type": "stream",
     "text": [
      "deltaphi_la\n"
     ]
    },
    {
     "name": "stderr",
     "output_type": "stream",
     "text": [
      "22:20  Automatic dynamic binning: bin boundaries [-3.60857867 -3.47287897 -3.36096912 -3.27960416 -3.21006451 -3.16409607\n",
      " -3.10316469 -3.04953174 -3.00322175 -2.90908285 -2.80361227 -2.24292668\n",
      "  2.69236337  2.84377229  2.92692729  2.99854909  3.06498636  3.10394852\n",
      "  3.16719329  3.21997917  3.27612333  3.36107051  3.43824684  3.61297158]\n"
     ]
    }
   ],
   "source": [
    "for filename, obs in zip(filenames, observables):\n",
    "    print(filename)\n",
    "    info, cov = fisher_tight.calculate_fisher_information_hist1d(\n",
    "        theta=[0.,0.],\n",
    "        luminosity=300000.,\n",
    "        observable=obs,\n",
    "        nbins=bins,\n",
    "        histrange=None\n",
    "    )\n",
    "    \n",
    "    np.save(result_dir + 'information_histo_{}_tight.npy'.format(filename), info)\n",
    "    np.save(result_dir + 'information_covariance_histo_{}_tight.npy'.format(filename), cov)\n",
    "    "
   ]
  },
  {
   "cell_type": "code",
   "execution_count": null,
   "metadata": {},
   "outputs": [],
   "source": []
  }
 ],
 "metadata": {
  "kernelspec": {
   "display_name": "Python [default]",
   "language": "python",
   "name": "python3"
  },
  "language_info": {
   "codemirror_mode": {
    "name": "ipython",
    "version": 3
   },
   "file_extension": ".py",
   "mimetype": "text/x-python",
   "name": "python",
   "nbconvert_exporter": "python",
   "pygments_lexer": "ipython3",
   "version": "3.6.4"
  }
 },
 "nbformat": 4,
 "nbformat_minor": 2
}
