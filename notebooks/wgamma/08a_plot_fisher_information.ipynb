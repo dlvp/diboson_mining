{
 "cells": [
  {
   "cell_type": "markdown",
   "metadata": {},
   "source": [
    "# Plot Fisher information\n",
    "\n",
    "Johann Brehmer, Kyle Cranmer, Marco Farina, Felix Kling, Duccio Pappadopulo, Josh Ruderman 2018"
   ]
  },
  {
   "cell_type": "code",
   "execution_count": 1,
   "metadata": {},
   "outputs": [],
   "source": [
    "from __future__ import absolute_import, division, print_function, unicode_literals\n",
    "\n",
    "import numpy as np\n",
    "import matplotlib\n",
    "from matplotlib import pyplot as plt\n",
    "%matplotlib inline\n",
    "import logging\n",
    "import os\n",
    "\n",
    "import madminer.core\n",
    "from madminer.plotting import plot_fisher_information_contours_2d\n"
   ]
  },
  {
   "cell_type": "code",
   "execution_count": 2,
   "metadata": {},
   "outputs": [],
   "source": [
    "logging.basicConfig(\n",
    "    format='%(asctime)-5.5s %(name)-20.20s %(levelname)-7.7s %(message)s',\n",
    "    datefmt='%H:%M',\n",
    "    level=logging.INFO\n",
    ")\n",
    "\n",
    "for key in logging.Logger.manager.loggerDict:\n",
    "    if \"madminer\" not in key:\n",
    "        logging.getLogger(key).setLevel(logging.WARNING)"
   ]
  },
  {
   "cell_type": "code",
   "execution_count": 3,
   "metadata": {},
   "outputs": [],
   "source": [
    "base_dir = '/Users/johannbrehmer/work/projects/madminer/diboson_mining/'\n",
    "mg_dir = '/Users/johannbrehmer/work/projects/madminer/MG5_aMC_v2_6_2/'"
   ]
  },
  {
   "cell_type": "code",
   "execution_count": 4,
   "metadata": {},
   "outputs": [],
   "source": [
    "sample_dir = base_dir + 'data/samples/wgamma_sys/'\n",
    "card_dir = base_dir + 'cards/wgamma/'\n",
    "ufo_model_dir = card_dir + 'SMWgamma_UFO'\n",
    "run_card_dir = card_dir + 'run_cards/'\n",
    "mg_process_dir = base_dir + 'data/mg_processes/wgamma_sys/'\n",
    "log_dir = base_dir + 'logs/wgamma/'\n",
    "temp_dir = base_dir + 'data/temp'\n",
    "delphes_dir = mg_dir + 'Delphes'\n",
    "model_dir = base_dir + 'data/models/wgamma_sys/'\n",
    "result_dir = base_dir + 'data/results/wgamma_sys/'"
   ]
  },
  {
   "cell_type": "markdown",
   "metadata": {},
   "source": [
    "## Load Fisher information results"
   ]
  },
  {
   "cell_type": "code",
   "execution_count": 5,
   "metadata": {},
   "outputs": [],
   "source": [
    "def load_data(ml_prefix = '', profiled=True):\n",
    "    profile_prefix = 'profiled_' if profiled else ''\n",
    "    \n",
    "    # Ground truth\n",
    "    infos  = [np.load(result_dir + profile_prefix + 'information_parton.npy'),\n",
    "              np.load(result_dir + profile_prefix + 'information_rate_tight.npy')]\n",
    "    covs   = [np.load(result_dir + profile_prefix + 'covariance_parton.npy'),\n",
    "              np.load(result_dir + profile_prefix + 'covariance_rate_tight.npy')]\n",
    "    labels = ['parton', 'xsec']\n",
    "    colors = ['black', '0.5']\n",
    "    lss    = [':', ':']\n",
    "    \n",
    "    # Histos\n",
    "    histo_filenames = ['pta_phi', 'phi', 'deltaphi_lv', 'met', 'ptl', 'pta', 'deltaphi_la']\n",
    "    histo_labels    = [r'$\\varphi, p_{T,\\gamma}$', r'$\\varphi$', r'$\\Delta\\phi_{\\ell\\nu}$', 'MET', r'$p_{T,\\ell}$', r'$p_{T,\\gamma}$', r'$\\Delta\\phi_{\\ell\\gamma}$']\n",
    "    histo_colors    = ['mediumblue', 'steelblue', 'dodgerblue', 'deepskyblue', 'cornflowerblue', 'b', 'midnightblue']\n",
    "    histo_lss       = ['--']*10\n",
    "\n",
    "    for hfilename, hlabel, hcolor, hls in zip(histo_filenames, histo_labels, histo_colors, histo_lss):\n",
    "        infos.append(\n",
    "            np.load(result_dir + profile_prefix + 'information_histo_{}_tight.npy'.format(hfilename))\n",
    "        )\n",
    "        covs.append(\n",
    "            np.load(result_dir + profile_prefix + 'covariance_histo_{}_tight.npy'.format(hfilename))\n",
    "        )\n",
    "        labels.append(hlabel)\n",
    "        colors.append(hcolor)\n",
    "        lss.append(hls)\n",
    "        \n",
    "    # ML\n",
    "    ml_filenames = ['full', 'full_infomode', 'minimal', 'full_tight', 'minimal_tight', 'phi_tight']\n",
    "    ml_labels    = ['full', 'full (I)', 'minimal', 'cuts', 'cuts min', r'$\\varphi$']\n",
    "    ml_colors    = ['#CC002E', 'firebrick', 'lightcoral', 'orangered', 'r', 'chocolate']\n",
    "    ml_lss       = ['-', '-', '-', '-.', '-.', '--', ':']\n",
    "\n",
    "    for hfilename, hlabel, hcolor, hls in zip(ml_filenames, ml_labels, ml_colors, ml_lss):\n",
    "        infos.append(\n",
    "            np.load(result_dir + profile_prefix + 'information_{}{}.npy'.format(hfilename, ml_prefix))\n",
    "        )\n",
    "        covs.append(\n",
    "            np.load(result_dir + profile_prefix + 'covariance_{}{}.npy'.format(hfilename, ml_prefix))\n",
    "        )\n",
    "        labels.append(hlabel)\n",
    "        colors.append(hcolor)\n",
    "        lss.append(hls)\n",
    "        \n",
    "    return infos, covs, labels, colors, lss\n"
   ]
  },
  {
   "cell_type": "code",
   "execution_count": 6,
   "metadata": {},
   "outputs": [
    {
     "name": "stdout",
     "output_type": "stream",
     "text": [
      " 0 parton      I_00 = 54030548 (projected) / 53796887 (profiled)\n",
      "               I_11 = 56769456 (projected) / 56734112 (profiled)\n",
      " 1 xsec        I_00 =       1 (projected) /       0 (profiled)\n",
      "               I_11 =       5 (projected) /       0 (profiled)\n",
      " 2 $\\varphi,   I_00 = 5101834 (projected) / 5101035 (profiled)\n",
      "               I_11 =   11082 (projected) /   11078 (profiled)\n",
      " 3 $\\varphi$   I_00 = 4600982 (projected) / 4600085 (profiled)\n",
      "               I_11 =   10778 (projected) /   10776 (profiled)\n",
      " 4 $\\Delta\\ph  I_00 = 4378614 (projected) / 4314786 (profiled)\n",
      "               I_11 =     492 (projected) /     490 (profiled)\n",
      " 5 MET         I_00 =    6613 (projected) /    6242 (profiled)\n",
      "               I_11 =     842 (projected) /     836 (profiled)\n",
      " 6 $p_{T,\\ell  I_00 =   24565 (projected) /   23427 (profiled)\n",
      "               I_11 =    1044 (projected) /    1040 (profiled)\n",
      " 7 $p_{T,\\gam  I_00 =     973 (projected) /     946 (profiled)\n",
      "               I_11 =     950 (projected) /     946 (profiled)\n",
      " 8 $\\Delta\\ph  I_00 = 1048742 (projected) / 1042858 (profiled)\n",
      "               I_11 =     842 (projected) /     839 (profiled)\n",
      " 9 full        I_00 = 13959689 (projected) / 12664198 (profiled)\n",
      "               I_11 = 2986042 (projected) / 2702289 (profiled)\n",
      "10 full (I)    I_00 = 18123218 (projected) / 17391690 (profiled)\n",
      "               I_11 = 6497771 (projected) / 6308631 (profiled)\n",
      "11 minimal     I_00 = 13452692 (projected) / 12337165 (profiled)\n",
      "               I_11 = 3023955 (projected) / 2791407 (profiled)\n",
      "12 cuts        I_00 = 11202463 (projected) / 11184539 (profiled)\n",
      "               I_11 =  302959 (projected) /  302898 (profiled)\n",
      "13 cuts min    I_00 = 11314937 (projected) / 11287628 (profiled)\n",
      "               I_11 =  295546 (projected) /  295159 (profiled)\n",
      "14 $\\varphi$   I_00 = 4629096 (projected) / 4595359 (profiled)\n",
      "               I_11 =    8222 (projected) /    8078 (profiled)\n"
     ]
    }
   ],
   "source": [
    "infos_profiled, covs_profiled, _, _, _ = load_data('', profiled=True)\n",
    "infos, covs, labels, colors, lss = load_data('', profiled=False)\n",
    "\n",
    "for i, (label, info, info_prof) in enumerate(zip(labels, infos, infos_profiled)):\n",
    "    print(\n",
    "        '{:2} {:10.10s}  I_00 = {:7.0f} (projected) / {:7.0f} (profiled)'.format(i, label, info[0,0], info_prof[0,0])\n",
    "    )\n",
    "    print(\n",
    "        '               I_11 = {:7.0f} (projected) / {:7.0f} (profiled)'.format(info[1,1], info_prof[1,1])\n",
    "    )\n",
    "    "
   ]
  },
  {
   "cell_type": "code",
   "execution_count": 7,
   "metadata": {},
   "outputs": [
    {
     "name": "stdout",
     "output_type": "stream",
     "text": [
      "13960 +/- 168\n"
     ]
    }
   ],
   "source": [
    "i = 9\n",
    "op = 0\n",
    "\n",
    "print(\"{:.0f} +/- {:.0f}\".format(\n",
    "    infos[i][op,op] / 1000.,\n",
    "    covs[i][op,op,op,op]**0.5 / 1000.\n",
    "))"
   ]
  },
  {
   "cell_type": "markdown",
   "metadata": {},
   "source": [
    "## Plotting function"
   ]
  },
  {
   "cell_type": "code",
   "execution_count": 8,
   "metadata": {},
   "outputs": [],
   "source": [
    "def make_plot(ml_prefix = '', indices=None, xmax=0.004):\n",
    "    infos, covs, labels, colors, lss = load_data(ml_prefix, profiled=True)\n",
    "    infos_projected, _, _, _, _ = load_data(ml_prefix, profiled=False)\n",
    "    \n",
    "    if indices is not None:\n",
    "        infos = [infos[i] for i in indices]\n",
    "        covs = [covs[i] for i in indices]\n",
    "        labels = [labels[i] for i in indices]\n",
    "        colors = [colors[i] for i in indices]\n",
    "        lss = [lss[i] for i in indices]\n",
    "        infos_projected = [infos_projected[i] for i in indices]\n",
    "        \n",
    "    infos_projected = [info[:2, :2] for info in infos_projected]\n",
    "\n",
    "    fig = plot_fisher_information_contours_2d(\n",
    "        fisher_information_matrices=infos_projected + infos,\n",
    "        fisher_information_covariances=[None for _ in infos_projected] + covs,\n",
    "        contour_distance=1.,\n",
    "        xrange=(-xmax,xmax),\n",
    "        yrange=(-xmax,xmax),\n",
    "        xlabel=r'$f_{WWW}$',\n",
    "        ylabel=r'$f_{\\tilde{W}WW}$',\n",
    "        linestyles=lss + lss,\n",
    "        linewidths=[1. for _ in infos_projected] + [1. for _ in infos],\n",
    "        colors=colors + colors,\n",
    "        alphas=[1. for _ in infos_projected] + [1. for _ in infos],\n",
    "        resolution=600,\n",
    "        inline_labels=[None for _ in infos_projected] + labels\n",
    "    )\n",
    "    \n",
    "    return fig\n"
   ]
  },
  {
   "cell_type": "markdown",
   "metadata": {},
   "source": [
    "## Plots"
   ]
  },
  {
   "cell_type": "code",
   "execution_count": 9,
   "metadata": {
    "scrolled": false
   },
   "outputs": [
    {
     "name": "stderr",
     "output_type": "stream",
     "text": [
      "/Users/johannbrehmer/anaconda3/envs/higgs_inference/lib/python3.6/site-packages/matplotlib/contour.py:1000: UserWarning: The following kwargs were not used by contour: 'label'\n",
      "  s)\n",
      "/Users/johannbrehmer/anaconda3/envs/higgs_inference/lib/python3.6/site-packages/matplotlib/figure.py:98: MatplotlibDeprecationWarning: \n",
      "Adding an axes using the same arguments as a previous axes currently reuses the earlier instance.  In a future version, a new instance will always be created and returned.  Meanwhile, this warning can be suppressed, and the future behavior ensured, by passing a unique label to each axes instance.\n",
      "  \"Adding an axes using the same arguments as a previous axes \"\n"
     ]
    },
    {
     "data": {
      "image/png": "[encoded data removed]",
      "text/plain": [
       "<Figure size 360x360 with 1 Axes>"
      ]
     },
     "metadata": {
      "needs_background": "light"
     },
     "output_type": "display_data"
    }
   ],
   "source": [
    "fig = make_plot('', xmax=0.0007, indices=[0,2,3,9,12])\n",
    "\n",
    "plt.savefig(\"../../figures/wgamma/information_wgamma_multivariate.pdf\")"
   ]
  },
  {
   "cell_type": "code",
   "execution_count": null,
   "metadata": {},
   "outputs": [],
   "source": [
    "fig = make_plot('', xmax=0.0015, indices=[3,4,8])\n",
    "\n",
    "plt.savefig(\"../../figures/wgamma/information_wgamma_angles.pdf\")"
   ]
  },
  {
   "cell_type": "code",
   "execution_count": null,
   "metadata": {},
   "outputs": [],
   "source": [
    "fig = make_plot('', xmax=0.05, indices=[5,6,7])\n",
    "\n",
    "plt.savefig(\"../../figures/wgamma/information_wgamma_energies.pdf\")"
   ]
  },
  {
   "cell_type": "code",
   "execution_count": null,
   "metadata": {
    "scrolled": false
   },
   "outputs": [],
   "source": [
    "fig = make_plot('', xmax=10., indices=[1])\n",
    "\n",
    "plt.savefig(\"../../figures/wgamma/information_wgamma_xsec.pdf\")"
   ]
  },
  {
   "cell_type": "code",
   "execution_count": null,
   "metadata": {},
   "outputs": [],
   "source": []
  }
 ],
 "metadata": {
  "kernelspec": {
   "display_name": "Python (higgs_inference)",
   "language": "python",
   "name": "higgs_inference"
  },
  "language_info": {
   "codemirror_mode": {
    "name": "ipython",
    "version": 3
   },
   "file_extension": ".py",
   "mimetype": "text/x-python",
   "name": "python",
   "nbconvert_exporter": "python",
   "pygments_lexer": "ipython3",
   "version": "3.6.7"
  }
 },
 "nbformat": 4,
 "nbformat_minor": 2
}
