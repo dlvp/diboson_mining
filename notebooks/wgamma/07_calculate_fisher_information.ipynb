{
 "cells": [
  {
   "cell_type": "markdown",
   "metadata": {},
   "source": [
    "# Evaluate Fisher information\n",
    "\n",
    "Johann Brehmer, Kyle Cranmer, Marco Farina, Felix Kling, Duccio Pappadopulo, Josh Ruderman 2018"
   ]
  },
  {
   "cell_type": "code",
   "execution_count": 1,
   "metadata": {},
   "outputs": [],
   "source": [
    "from __future__ import absolute_import, division, print_function, unicode_literals\n",
    "\n",
    "import numpy as np\n",
    "import matplotlib\n",
    "from matplotlib import pyplot as plt\n",
    "%matplotlib inline\n",
    "import logging\n",
    "import os\n",
    "\n",
    "import madminer.core\n",
    "from madminer.fisherinformation import FisherInformation, profile_information, project_information\n",
    "from madminer.plotting import plot_fisher_information_contours_2d\n"
   ]
  },
  {
   "cell_type": "code",
   "execution_count": 2,
   "metadata": {},
   "outputs": [],
   "source": [
    "logging.basicConfig(\n",
    "    format='%(asctime)-5.5s %(name)-20.20s %(levelname)-7.7s %(message)s',\n",
    "    datefmt='%H:%M',\n",
    "    level=logging.INFO\n",
    ")\n",
    "\n",
    "for key in logging.Logger.manager.loggerDict:\n",
    "    if \"madminer\" not in key:\n",
    "        logging.getLogger(key).setLevel(logging.WARNING)"
   ]
  },
  {
   "cell_type": "code",
   "execution_count": 3,
   "metadata": {},
   "outputs": [],
   "source": [
    "base_dir = '/Users/johannbrehmer/work/projects/madminer/diboson_mining/'\n",
    "mg_dir = '/Users/johannbrehmer/work/projects/madminer/MG5_aMC_v2_6_4/'"
   ]
  },
  {
   "cell_type": "code",
   "execution_count": 4,
   "metadata": {},
   "outputs": [],
   "source": [
    "sample_dir = base_dir + 'data/samples/wgamma_sys/'\n",
    "card_dir = base_dir + 'cards/wgamma/'\n",
    "ufo_model_dir = card_dir + 'SMWgamma_UFO'\n",
    "run_card_dir = card_dir + 'run_cards/'\n",
    "mg_process_dir = base_dir + 'data/mg_processes/wgamma_sys/'\n",
    "log_dir = base_dir + 'logs/wgamma/'\n",
    "temp_dir = base_dir + 'data/temp'\n",
    "delphes_dir = mg_dir + 'Delphes'\n",
    "model_dir = base_dir + 'data/models/wgamma_sys/'\n",
    "result_dir = base_dir + 'data/results/wgamma_sys/'"
   ]
  },
  {
   "cell_type": "markdown",
   "metadata": {},
   "source": [
    "## Main functions"
   ]
  },
  {
   "cell_type": "code",
   "execution_count": 13,
   "metadata": {},
   "outputs": [
    {
     "name": "stderr",
     "output_type": "stream",
     "text": [
      "19:48 madminer.fisherinfor INFO    Loading data from /Users/johannbrehmer/work/projects/madminer/diboson_mining/data/samples/wgamma_sys/samples.h5\n",
      "19:48 madminer.fisherinfor INFO    Found 2 parameters\n",
      "19:48 madminer.fisherinfor INFO    Found 55 nuisance parameters\n",
      "19:48 madminer.fisherinfor INFO    Found 103 benchmarks, of which 6 physical\n",
      "19:48 madminer.fisherinfor INFO    Found 33 observables: et_miss, phi_miss, e_visible, eta_visible, e_l1, pt_l1, eta_l1, phi_l1, e_a1, pt_a1, eta_a1, phi_a1, e_j1, pt_j1, eta_j1, phi_j1, pdgid_l1, m_la, m_lmet, m_amet, pt_la, pt_lmet, pt_amet, deltaphi_la, deltaphi_lmet, deltaphi_amet, deltaeta_la, m_almet, pt_almet, mt, phi_minus, phi_plus, phi\n",
      "19:48 madminer.fisherinfor INFO    Found 1764309 events\n",
      "19:48 madminer.fisherinfor INFO    Found morphing setup with 6 components\n",
      "19:48 madminer.fisherinfor INFO    Found nuisance morphing setup\n",
      "19:48 madminer.fisherinfor INFO    Loading data from /Users/johannbrehmer/work/projects/madminer/diboson_mining/data/samples/wgamma_sys/samples_tight.h5\n",
      "19:48 madminer.fisherinfor INFO    Found 2 parameters\n",
      "19:48 madminer.fisherinfor INFO    Found 55 nuisance parameters\n",
      "19:48 madminer.fisherinfor INFO    Found 103 benchmarks, of which 6 physical\n",
      "19:48 madminer.fisherinfor INFO    Found 33 observables: et_miss, phi_miss, e_visible, eta_visible, e_l1, pt_l1, eta_l1, phi_l1, e_a1, pt_a1, eta_a1, phi_a1, e_j1, pt_j1, eta_j1, phi_j1, pdgid_l1, m_la, m_lmet, m_amet, pt_la, pt_lmet, pt_amet, deltaphi_la, deltaphi_lmet, deltaphi_amet, deltaeta_la, m_almet, pt_almet, mt, phi_minus, phi_plus, phi\n",
      "19:48 madminer.fisherinfor INFO    Found 1136213 events\n",
      "19:48 madminer.fisherinfor INFO    Found morphing setup with 6 components\n",
      "19:48 madminer.fisherinfor INFO    Found nuisance morphing setup\n"
     ]
    }
   ],
   "source": [
    "fisher_all = FisherInformation(sample_dir + 'samples.h5')\n",
    "fisher_tight = FisherInformation(sample_dir + 'samples_tight.h5')"
   ]
  },
  {
   "cell_type": "markdown",
   "metadata": {},
   "source": [
    "## Main function"
   ]
  },
  {
   "cell_type": "code",
   "execution_count": 14,
   "metadata": {},
   "outputs": [],
   "source": [
    "def calculate_info(filename, mode, tight_cuts=False, **kwargs):\n",
    "    fisher_ = fisher_tight if tight_cuts else fisher_all\n",
    "    ending_ = '_tight.npy' if fisher_tight else '.npy'\n",
    "    \n",
    "    if mode == \"truth\":\n",
    "        fisher_info, cov = fisher_.calculate_fisher_information_full_truth(\n",
    "            theta=[0.,0.],\n",
    "            luminosity = 300000.,\n",
    "            **kwargs\n",
    "        )\n",
    "    elif mode == \"rate\":\n",
    "        fisher_info, cov = fisher_all.calculate_fisher_information_rate(\n",
    "            theta=[0.,0.],\n",
    "            luminosity = 300000.,\n",
    "            **kwargs\n",
    "        )\n",
    "    elif mode == \"histo\":\n",
    "        fisher_info, cov = fisher_all.calculate_fisher_information_hist1d(\n",
    "            theta=[0.,0.],\n",
    "            luminosity = 300000.,\n",
    "            **kwargs\n",
    "        )\n",
    "    elif mode == \"ml\":\n",
    "        fisher_info, cov = fisher_all.calculate_fisher_information_full_detector(\n",
    "            theta=[0.,0.],\n",
    "            luminosity = 300000.,\n",
    "            **kwargs\n",
    "        )\n",
    "\n",
    "    np.save(result_dir + 'information_{}{}'.format(filename, ending_), fisher_info)\n",
    "    np.save(result_dir + 'covariance_{}{}'.format(filename, ending_), cov)\n",
    "\n",
    "    fisher_info_nuisance = fisher_.calculate_fisher_information_nuisance_constraints()\n",
    "    fisher_info, cov = profile_information(fisher_info + fisher_info_nuisance, [0,1], covariance=cov)\n",
    "    \n",
    "    np.save(result_dir + 'profiled_information_{}{}'.format(filename, ending_), fisher_info)\n",
    "    np.save(result_dir + 'profiled_covariance_{}{}'.format(filename, ending_), cov)\n"
   ]
  },
  {
   "cell_type": "markdown",
   "metadata": {},
   "source": [
    "## Truth-level info"
   ]
  },
  {
   "cell_type": "code",
   "execution_count": null,
   "metadata": {},
   "outputs": [],
   "source": [
    "calculate_info('parton', 'truth', False)\n",
    "calculate_info('parton', 'truth', True)"
   ]
  },
  {
   "cell_type": "markdown",
   "metadata": {},
   "source": [
    "## Rate-only info"
   ]
  },
  {
   "cell_type": "code",
   "execution_count": null,
   "metadata": {},
   "outputs": [],
   "source": [
    "calculate_info('rate', 'xsec', False)\n",
    "calculate_info('rate', 'xsec', True)"
   ]
  },
  {
   "cell_type": "markdown",
   "metadata": {},
   "source": [
    "## Full Fisher info (ML)"
   ]
  },
  {
   "cell_type": "code",
   "execution_count": null,
   "metadata": {},
   "outputs": [],
   "source": [
    "calculate_info('full', 'ml', False, model_file=model_dir + \"sally_ensemble_all\", mode=\"score\")\n",
    "calculate_info('full', 'ml', True, model_file=model_dir + \"sally_ensemble_all_tight\", mode=\"score\")"
   ]
  },
  {
   "cell_type": "code",
   "execution_count": null,
   "metadata": {},
   "outputs": [],
   "source": [
    "calculate_info('full_infomode', 'ml', False, model_file=model_dir + \"sally_ensemble_all\", mode=\"information\")\n",
    "calculate_info('full_infomode', 'ml', True, model_file=model_dir + \"sally_ensemble_all_tight\", mode=\"information\")"
   ]
  },
  {
   "cell_type": "code",
   "execution_count": null,
   "metadata": {},
   "outputs": [],
   "source": [
    "calculate_info('full_shuffled', 'ml', False, mode=\"score\")"
   ]
  },
  {
   "cell_type": "code",
   "execution_count": null,
   "metadata": {},
   "outputs": [],
   "source": [
    "calculate_info('minimal', 'ml', False, model_file=model_dir + \"sally_ensemble_minimal\", mode=\"score\")\n",
    "calculate_info('minimal', 'ml', True, model_file=model_dir + \"sally_ensemble_minimal_tight\", mode=\"score\")"
   ]
  },
  {
   "cell_type": "code",
   "execution_count": null,
   "metadata": {},
   "outputs": [],
   "source": [
    "calculate_info('phi', 'ml', True, model_file=model_dir + \"sally_ensemble_phi_tight\", mode=\"score\")"
   ]
  },
  {
   "cell_type": "markdown",
   "metadata": {},
   "source": [
    "## Histogram info"
   ]
  },
  {
   "cell_type": "code",
   "execution_count": null,
   "metadata": {},
   "outputs": [],
   "source": [
    "filenames = ['phi', 'met', 'ptl', 'pta', 'deltaphi_lv', 'deltaphi_la']\n",
    "observables = ['phi', 'et_miss', 'pt_l1', 'pt_a1', 'deltaphi_lmet', 'deltaphi_la']\n",
    "bins = 25\n",
    "\n",
    "for filename, obs in zip(filenames, observables):\n",
    "    calculate_info('histo_' + filename, 'histo', True, observable=obs, nbins=bins, histrange=None)\n",
    "    "
   ]
  },
  {
   "cell_type": "code",
   "execution_count": null,
   "metadata": {},
   "outputs": [],
   "source": []
  }
 ],
 "metadata": {
  "kernelspec": {
   "display_name": "Python (higgs_inference)",
   "language": "python",
   "name": "higgs_inference"
  },
  "language_info": {
   "codemirror_mode": {
    "name": "ipython",
    "version": 3
   },
   "file_extension": ".py",
   "mimetype": "text/x-python",
   "name": "python",
   "nbconvert_exporter": "python",
   "pygments_lexer": "ipython3",
   "version": "3.6.7"
  }
 },
 "nbformat": 4,
 "nbformat_minor": 2
}
