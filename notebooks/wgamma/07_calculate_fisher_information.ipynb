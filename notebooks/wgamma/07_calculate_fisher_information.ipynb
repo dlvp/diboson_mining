{
 "cells": [
  {
   "cell_type": "markdown",
   "metadata": {},
   "source": [
    "# Evaluate Fisher information\n",
    "\n",
    "Johann Brehmer, Kyle Cranmer, Marco Farina, Felix Kling, Duccio Pappadopulo, Josh Ruderman 2018"
   ]
  },
  {
   "cell_type": "code",
   "execution_count": 1,
   "metadata": {},
   "outputs": [],
   "source": [
    "from __future__ import absolute_import, division, print_function, unicode_literals\n",
    "\n",
    "import numpy as np\n",
    "import matplotlib\n",
    "from matplotlib import pyplot as plt\n",
    "%matplotlib inline\n",
    "import logging\n",
    "import os\n",
    "\n",
    "import madminer.core\n",
    "from madminer.fisherinformation import FisherInformation, profile_information, project_information\n",
    "from madminer.plotting import plot_fisher_information_contours_2d\n"
   ]
  },
  {
   "cell_type": "code",
   "execution_count": 2,
   "metadata": {},
   "outputs": [],
   "source": [
    "logging.basicConfig(\n",
    "    format='%(asctime)-5.5s %(name)-20.20s %(levelname)-7.7s %(message)s',\n",
    "    datefmt='%H:%M',\n",
    "    level=logging.INFO\n",
    ")\n",
    "\n",
    "for key in logging.Logger.manager.loggerDict:\n",
    "    if \"madminer\" not in key:\n",
    "        logging.getLogger(key).setLevel(logging.WARNING)"
   ]
  },
  {
   "cell_type": "code",
   "execution_count": 3,
   "metadata": {},
   "outputs": [],
   "source": [
    "base_dir = '/Users/johannbrehmer/work/projects/madminer/diboson_mining/'\n",
    "mg_dir = '/Users/johannbrehmer/work/projects/madminer/MG5_aMC_v2_6_4/'"
   ]
  },
  {
   "cell_type": "code",
   "execution_count": 4,
   "metadata": {},
   "outputs": [],
   "source": [
    "sample_dir = base_dir + 'data/samples/wgamma_sys/'\n",
    "card_dir = base_dir + 'cards/wgamma/'\n",
    "ufo_model_dir = card_dir + 'SMWgamma_UFO'\n",
    "run_card_dir = card_dir + 'run_cards/'\n",
    "mg_process_dir = base_dir + 'data/mg_processes/wgamma_sys/'\n",
    "log_dir = base_dir + 'logs/wgamma/'\n",
    "temp_dir = base_dir + 'data/temp'\n",
    "delphes_dir = mg_dir + 'Delphes'\n",
    "model_dir = base_dir + 'data/models/wgamma_sys/'\n",
    "result_dir = base_dir + 'data/results/wgamma_sys/'"
   ]
  },
  {
   "cell_type": "markdown",
   "metadata": {},
   "source": [
    "## FisherInformation instances"
   ]
  },
  {
   "cell_type": "code",
   "execution_count": 5,
   "metadata": {},
   "outputs": [
    {
     "name": "stderr",
     "output_type": "stream",
     "text": [
      "18:27 madminer.fisherinfor INFO    Loading data from /Users/johannbrehmer/work/projects/madminer/diboson_mining/data/samples/wgamma_sys/samples.h5\n",
      "18:27 madminer.fisherinfor INFO    Found 2 parameters\n",
      "18:27 madminer.fisherinfor WARNING Did not find nuisance parameters!\n",
      "18:27 madminer.fisherinfor INFO    Found 103 benchmarks, of which 6 physical\n",
      "18:27 madminer.fisherinfor INFO    Found 33 observables: et_miss, phi_miss, e_visible, eta_visible, e_l1, pt_l1, eta_l1, phi_l1, e_a1, pt_a1, eta_a1, phi_a1, e_j1, pt_j1, eta_j1, phi_j1, pdgid_l1, m_la, m_lmet, m_amet, pt_la, pt_lmet, pt_amet, deltaphi_la, deltaphi_lmet, deltaphi_amet, deltaeta_la, m_almet, pt_almet, mt, phi_minus, phi_plus, phi\n",
      "18:27 madminer.fisherinfor INFO    Found 587119 events\n",
      "18:27 madminer.fisherinfor INFO    Found morphing setup with 6 components\n",
      "18:27 madminer.fisherinfor INFO    Loading data from /Users/johannbrehmer/work/projects/madminer/diboson_mining/data/samples/wgamma_sys/samples_tight.h5\n",
      "18:27 madminer.fisherinfor INFO    Found 2 parameters\n",
      "18:27 madminer.fisherinfor INFO    Found 55 nuisance parameters\n",
      "18:27 madminer.fisherinfor INFO    Found 103 benchmarks, of which 6 physical\n",
      "18:27 madminer.fisherinfor INFO    Found 33 observables: et_miss, phi_miss, e_visible, eta_visible, e_l1, pt_l1, eta_l1, phi_l1, e_a1, pt_a1, eta_a1, phi_a1, e_j1, pt_j1, eta_j1, phi_j1, pdgid_l1, m_la, m_lmet, m_amet, pt_la, pt_lmet, pt_amet, deltaphi_la, deltaphi_lmet, deltaphi_amet, deltaeta_la, m_almet, pt_almet, mt, phi_minus, phi_plus, phi\n",
      "18:27 madminer.fisherinfor INFO    Found 378300 events\n",
      "18:27 madminer.fisherinfor INFO    Found morphing setup with 6 components\n",
      "18:27 madminer.fisherinfor INFO    Found nuisance morphing setup\n"
     ]
    }
   ],
   "source": [
    "fisher_all = FisherInformation(sample_dir + 'samples.h5')\n",
    "fisher_tight = FisherInformation(sample_dir + 'samples_tight.h5')"
   ]
  },
  {
   "cell_type": "markdown",
   "metadata": {},
   "source": [
    "## Profiling"
   ]
  },
  {
   "cell_type": "code",
   "execution_count": 11,
   "metadata": {},
   "outputs": [],
   "source": [
    "def profile(info, cov):\n",
    "    fisher_info_nuisance = fisher_tight.calculate_fisher_information_nuisance_constraints()\n",
    "    return profile_information(info + fisher_info_nuisance, [0,1], covariance=cov)\n",
    "    "
   ]
  },
  {
   "cell_type": "markdown",
   "metadata": {},
   "source": [
    "## Truth-level info"
   ]
  },
  {
   "cell_type": "code",
   "execution_count": 6,
   "metadata": {},
   "outputs": [],
   "source": [
    "fisher_info, cov = fisher_all.calculate_fisher_information_full_truth(\n",
    "    theta=[0.,0.],\n",
    "    luminosity = 300000.\n",
    ")\n",
    "\n",
    "np.save(result_dir + 'information_parton.npy', fisher_info)\n",
    "np.save(result_dir + 'information_covariance_parton.npy', cov)\n"
   ]
  },
  {
   "cell_type": "code",
   "execution_count": null,
   "metadata": {},
   "outputs": [],
   "source": [
    "fisher_info, cov = fisher_tight.calculate_fisher_information_full_truth(\n",
    "    theta=[0.,0.],\n",
    "    luminosity = 300000.\n",
    ")\n",
    "\n",
    "np.save(result_dir + 'information_parton_tight.npy', fisher_info)\n",
    "np.save(result_dir + 'information_covariance_parton_tight.npy', cov)\n",
    "\n",
    "fisher_info, cov = profile(fisher_info, cov)\n",
    "\n",
    "np.save(result_dir + 'profiled_information_parton_tight.npy', fisher_info)\n",
    "np.save(result_dir + 'profiled_information_covariance_parton_tight.npy', cov)\n"
   ]
  },
  {
   "cell_type": "markdown",
   "metadata": {},
   "source": [
    "## Rate-only info"
   ]
  },
  {
   "cell_type": "code",
   "execution_count": null,
   "metadata": {},
   "outputs": [],
   "source": [
    "fisher_info, cov = fisher_all.calculate_fisher_information_rate(\n",
    "    theta=[0.,0.],\n",
    "    luminosity = 300000.\n",
    ")\n",
    "\n",
    "np.save(result_dir + 'information_xsec.npy', fisher_info)\n",
    "np.save(result_dir + 'information_covariance_xsec.npy', cov)\n",
    "\n",
    "fisher_info, cov = profile(fisher_info, cov)\n",
    "\n",
    "np.save(result_dir + 'profiled_information_xsec.npy', fisher_info)\n",
    "np.save(result_dir + 'profiled_information_covariance_xsec.npy', cov)\n"
   ]
  },
  {
   "cell_type": "code",
   "execution_count": 7,
   "metadata": {},
   "outputs": [],
   "source": [
    "fisher_info, cov = fisher_tight.calculate_fisher_information_rate(\n",
    "    theta=[0.,0.],\n",
    "    luminosity = 300000.\n",
    ")\n",
    "\n",
    "np.save(result_dir + 'information_xsec_tight.npy', fisher_info)\n",
    "np.save(result_dir + 'information_covariance_xsec_tight.npy', cov)\n",
    "\n",
    "fisher_info, cov = profile(fisher_info, cov)\n",
    "\n",
    "np.save(result_dir + 'profiled_information_xsec_tight.npy', fisher_info)\n",
    "np.save(result_dir + 'profiled_information_covariance_xsec_tight.npy', cov)\n"
   ]
  },
  {
   "cell_type": "markdown",
   "metadata": {},
   "source": [
    "## Full Fisher info (ML)"
   ]
  },
  {
   "cell_type": "code",
   "execution_count": null,
   "metadata": {},
   "outputs": [],
   "source": [
    "mean, cov = fisher_all.calculate_fisher_information_full_detector(\n",
    "    theta=[0.,0.],\n",
    "    luminosity=300000.,\n",
    "    model_file=model_dir + 'sally_ensemble_all',\n",
    "    mode=\"score\"\n",
    ")\n",
    "\n",
    "np.save(result_dir + 'information_full.npy', mean)\n",
    "np.save(result_dir + 'information_covariance_full.npy', cov)"
   ]
  },
  {
   "cell_type": "code",
   "execution_count": null,
   "metadata": {
    "scrolled": false
   },
   "outputs": [],
   "source": [
    "mean, cov = fisher_tight.calculate_fisher_information_full_detector(\n",
    "    theta=[0.,0.],\n",
    "    luminosity=300000.,\n",
    "    model_file=model_dir + 'sally_ensemble_all_tight',\n",
    "    mode=\"score\",\n",
    "    batch_size=100\n",
    ")\n",
    "\n",
    "np.save(result_dir + 'information_full_tight.npy', mean)\n",
    "np.save(result_dir + 'information_covariance_full_tight.npy', cov)\n",
    "\n",
    "fisher_info, cov = profile(fisher_info, cov)\n",
    "\n",
    "np.save(result_dir + 'profiled_information_full_tight.npy', fisher_info)\n",
    "np.save(result_dir + 'profiled_information_covariance_full_tight.npy', cov)\n",
    "\n"
   ]
  },
  {
   "cell_type": "code",
   "execution_count": 7,
   "metadata": {
    "scrolled": false
   },
   "outputs": [
    {
     "name": "stderr",
     "output_type": "stream",
     "text": [
      "18:27 madminer.ml          INFO    Found ensemble with 3 estimators and expectations [[-7.48849735e-02  1.42248616e-01 -1.31866600e-05 -1.02201756e-03\n",
      "   1.28867696e-05 -7.95546977e-04  6.15302182e-04  1.04787434e-03\n",
      "  -1.09314802e-03 -2.08686804e-03  1.59275834e-03 -1.07890961e-03\n",
      "   9.52444621e-04 -2.03196099e-03  1.68410095e-03 -3.38292040e-04\n",
      "  -1.05431501e-03  1.71077973e-03 -2.93941074e-03 -1.59854966e-03\n",
      "   7.85581826e-04  2.13778089e-03 -2.41466612e-03  1.87148992e-03\n",
      "  -1.42234669e-03  4.95984023e-05 -1.90590182e-03 -8.47952673e-04\n",
      "  -9.14361735e-05  1.97054096e-03 -8.79976025e-04  1.45764425e-04\n",
      "  -1.78752874e-04 -1.41718914e-03 -1.10227316e-04 -2.12507392e-03\n",
      "   1.41736120e-03  1.11997698e-03  4.01392526e-06 -3.33469798e-04\n",
      "  -7.02715362e-04 -1.72730489e-03  4.99627087e-04 -7.24445039e-04\n",
      "  -4.85265278e-04 -1.69891026e-03  1.72403501e-03  7.43082637e-05\n",
      "  -1.70557690e-03  5.17499517e-04 -2.61418638e-04 -4.85865108e-04\n",
      "  -1.51122699e-03 -1.01623125e-03  1.18056219e-03 -7.95520144e-04\n",
      "  -1.10765675e-03]\n",
      " [-1.12434641e-01  4.79022801e-01 -1.70961393e-05 -1.95097760e-03\n",
      "   1.31134320e-05 -3.10143019e-04  2.28913152e-04  3.53918382e-04\n",
      "  -4.40206524e-04 -1.14797940e-03  8.92831886e-04  1.91289655e-06\n",
      "   1.28385451e-04 -1.21339329e-03  8.89790012e-04 -1.87316225e-04\n",
      "  -3.47989728e-04  1.16328953e-03 -7.91877217e-04 -1.79005321e-03\n",
      "   1.71727489e-03 -1.26596272e-03 -3.68659967e-04 -1.17248774e-03\n",
      "  -3.44172411e-04 -3.25698708e-03  1.63976010e-03 -1.03042775e-03\n",
      "  -2.20631555e-04 -1.36995208e-04 -4.07925952e-04 -1.52231732e-05\n",
      "   4.11797402e-04 -2.31465630e-04  1.69091125e-03 -9.01511929e-04\n",
      "   1.99325942e-03 -3.13613424e-03  2.58003548e-03  8.81496759e-04\n",
      "  -1.34628313e-03  8.33328464e-04 -7.35283189e-04 -2.18432676e-03\n",
      "   2.45825457e-03 -1.74972811e-03  1.97774568e-03 -1.47254183e-03\n",
      "   1.43450114e-03 -2.09319012e-04 -3.03736539e-04 -4.45448459e-05\n",
      "   9.29792353e-04  1.00159457e-04  1.41655991e-03 -1.19324133e-03\n",
      "  -5.97164966e-04]\n",
      " [-8.29451680e-02 -1.50987849e-01  1.32675841e-05  1.08942868e-05\n",
      "   8.54172049e-06 -5.65620605e-04  4.24273196e-04  1.00666669e-03\n",
      "  -8.83041241e-04 -9.79281496e-04  7.69885199e-04 -5.30543388e-04\n",
      "   4.38242278e-04  1.56171375e-03 -1.74444087e-03 -6.08692528e-04\n",
      "   1.33719563e-03  7.33469613e-04 -5.51174569e-04  4.50147782e-04\n",
      "  -1.32791768e-03  1.96808553e-03 -2.82230461e-03  1.69028959e-03\n",
      "  -2.25154264e-03  8.99993000e-04 -2.09811330e-03 -3.38598824e-04\n",
      "  -1.52467765e-04  2.54273065e-04 -1.54563109e-03  5.10125945e-04\n",
      "  -1.57298800e-03 -3.90271773e-04 -1.93556701e-03  1.77005422e-04\n",
      "  -1.30580796e-03  8.81223066e-04 -9.33064905e-04 -2.00892705e-03\n",
      "   9.28055088e-04 -1.38481159e-03 -2.90342068e-05  1.56068744e-03\n",
      "  -8.93309712e-04 -2.71066860e-03  1.73741323e-03 -9.60514124e-04\n",
      "   2.66300864e-04  1.73045986e-03 -1.42763800e-03  5.46670402e-04\n",
      "  -1.14573384e-04 -9.61046724e-04 -7.10225606e-04  7.95878703e-04\n",
      "  -1.08022499e-03]]\n",
      "18:27 madminer.fisherinfor INFO    Evaluating rate Fisher information\n",
      "18:28 madminer.fisherinfor INFO    Evaluating kinematic Fisher information on batch 1 / 2\n",
      "18:28 madminer.ml          INFO    Expected per-event score (should be close to zero): [ 1.60104923e+01 -3.08654487e-01  2.56158150e-04 -2.79928055e-02\n",
      "  1.47677027e-04  1.15651754e-03 -1.36408361e-03  2.53002788e-03\n",
      " -2.84036854e-03 -6.29471615e-03  4.94828401e-03 -3.21494695e-03\n",
      "  3.78967775e-03 -1.12738395e-02  1.26130693e-02  2.36317562e-03\n",
      " -4.53464920e-03  1.09382020e-02 -1.68805905e-02 -5.41716069e-03\n",
      "  4.51686606e-03  4.71915724e-03 -4.31894278e-03 -8.61423556e-03\n",
      "  2.45746085e-03  2.75201220e-02 -2.85743531e-02 -9.55637358e-03\n",
      "  1.17908521e-02  8.67997948e-03 -1.87683962e-02 -6.16983324e-03\n",
      "  4.28518327e-03 -5.30830259e-03  1.01040343e-04 -1.22505371e-02\n",
      "  9.05617699e-03  2.88885995e-03  2.78169429e-03 -7.48176407e-03\n",
      "  3.47883767e-03 -1.29698096e-02  8.46137293e-03 -2.18242392e-04\n",
      " -1.43501617e-03 -2.91006896e-03  3.17145884e-03 -3.71036772e-03\n",
      " -1.14267017e-03 -5.17149922e-03  7.78159406e-03  6.31123374e-04\n",
      "  1.05770510e-02 -5.47808304e-04  3.10011790e-03 -2.62097979e-04\n",
      " -7.63116055e-04]\n",
      "18:28 madminer.ml          INFO    Expected per-event score (should be close to zero): [ 1.63636932e+01  2.02410743e-01  6.00270541e-05 -2.80184299e-02\n",
      "  3.32928503e-05  2.24691932e-03 -2.14258209e-03  1.49548426e-03\n",
      " -1.62853382e-03 -4.15141368e-03  3.25737940e-03 -2.08508549e-03\n",
      "  2.28626397e-03 -8.87409691e-03  9.09293443e-03  3.10322689e-03\n",
      " -3.84145044e-03  9.05906968e-03 -1.27350045e-02 -2.03280034e-03\n",
      "  1.69772678e-03  2.65982514e-03 -2.66088569e-03 -8.56695324e-03\n",
      "  3.07261129e-03  2.39658859e-02 -2.36842502e-02 -1.03721609e-02\n",
      "  1.22037111e-02  6.22796267e-03 -1.52881779e-02 -4.66879504e-03\n",
      "  3.91154038e-03 -6.87505165e-03  4.31293529e-03 -1.08518740e-02\n",
      "  9.47308447e-03 -1.08780514e-03  5.19757764e-03 -7.24256178e-03\n",
      "  3.67960939e-03 -1.38313295e-02  1.21739963e-02 -4.62886598e-03\n",
      "  4.91641555e-03 -1.70515780e-03  2.29395251e-03 -7.07861269e-03\n",
      "  4.00459394e-03 -6.22362224e-03  8.34970456e-03  1.51168858e-03\n",
      "  1.27295610e-02  1.52845696e-05  2.51331367e-03 -1.66093302e-03\n",
      "  4.76654241e-04]\n",
      "18:28 madminer.ml          INFO    Expected per-event score (should be close to zero): [-4.67659616e+00 -1.05415926e+01  1.88024842e-05 -2.07155570e-02\n",
      "  1.19389355e-04 -1.36529306e-05  1.38513788e-04  3.45273153e-03\n",
      " -3.53333959e-03 -4.94711613e-03  4.45971638e-03 -2.57327617e-03\n",
      "  2.74300599e-03 -5.74497320e-03  6.59795338e-03  1.77412538e-03\n",
      " -1.28763716e-03  9.80763696e-03 -1.37455948e-02 -2.66354578e-03\n",
      "  3.38321624e-05  3.45195853e-03 -4.94648982e-03 -7.20119150e-03\n",
      "  1.56933640e-03  2.57060938e-02 -2.69492473e-02 -7.78153073e-03\n",
      "  1.13639114e-02  6.24271110e-03 -1.50399609e-02 -3.08659673e-03\n",
      "  2.62992457e-03 -3.52898100e-03 -9.71072470e-04 -8.35737400e-03\n",
      "  4.93200356e-03  2.24158657e-03  1.39719376e-03 -8.55172891e-03\n",
      "  4.87083942e-03 -1.17169786e-02  8.50816630e-03  1.31250825e-03\n",
      "  4.73147171e-04 -3.98873352e-03  3.56621854e-03 -3.28592374e-03\n",
      " -6.88283937e-04 -2.75083655e-03  4.77529317e-03  4.13737900e-04\n",
      "  1.11492472e-02 -1.32769439e-03  5.38008695e-04  9.32117924e-04\n",
      " -1.24202785e-03]\n",
      "18:28 madminer.fisherinfor INFO    Evaluating kinematic Fisher information on batch 2 / 2\n",
      "18:28 madminer.ml          INFO    Expected per-event score (should be close to zero): [ 1.67837715e+01 -1.89705625e-01  2.52034108e-04 -2.81170290e-02\n",
      "  1.47249943e-04  1.18288817e-03 -1.38313894e-03  2.51978915e-03\n",
      " -2.83137825e-03 -6.31150184e-03  4.96654958e-03 -3.22668394e-03\n",
      "  3.78845050e-03 -1.13922469e-02  1.27714844e-02  2.38187378e-03\n",
      " -4.55273408e-03  1.09630963e-02 -1.69425011e-02 -5.58928773e-03\n",
      "  4.64516087e-03  4.65865945e-03 -4.28765640e-03 -8.62410013e-03\n",
      "  2.46114284e-03  2.75729951e-02 -2.86377780e-02 -9.55604203e-03\n",
      "  1.17536299e-02  8.66294838e-03 -1.87838245e-02 -6.18408481e-03\n",
      "  4.31148335e-03 -5.32935699e-03  1.05943524e-04 -1.23333652e-02\n",
      "  9.10521764e-03  2.85193115e-03  2.80781952e-03 -7.43667129e-03\n",
      "  3.42995743e-03 -1.29544307e-02  8.39927327e-03 -2.51481135e-04\n",
      " -1.41780614e-03 -2.92234751e-03  3.18931066e-03 -3.69951990e-03\n",
      " -1.17067969e-03 -5.19915530e-03  7.77244382e-03  5.96572703e-04\n",
      "  1.05770305e-02 -5.30693098e-04  3.09177814e-03 -2.56141066e-04\n",
      " -7.43926095e-04]\n",
      "18:28 madminer.ml          INFO    Expected per-event score (should be close to zero): [ 1.67486477e+01  2.13520512e-01  5.69257900e-05 -2.81320624e-02\n",
      "  3.40364604e-05  2.25684629e-03 -2.15165294e-03  1.50299352e-03\n",
      " -1.64699892e-03 -4.17095050e-03  3.27264704e-03 -2.07892084e-03\n",
      "  2.28861114e-03 -8.94707814e-03  9.18054022e-03  3.12522566e-03\n",
      " -3.84202064e-03  9.13278945e-03 -1.28213260e-02 -2.09493749e-03\n",
      "  1.76059594e-03  2.67814146e-03 -2.69733439e-03 -8.52949638e-03\n",
      "  3.03242519e-03  2.41379384e-02 -2.38419473e-02 -1.04791997e-02\n",
      "  1.23238750e-02  6.25507813e-03 -1.53563898e-02 -4.67095757e-03\n",
      "  3.90301738e-03 -6.92098308e-03  4.33885958e-03 -1.09190159e-02\n",
      "  9.56150144e-03 -1.09396444e-03  5.20833116e-03 -7.28598377e-03\n",
      "  3.70669598e-03 -1.39240455e-02  1.22251520e-02 -4.66292026e-03\n",
      "  4.94528795e-03 -1.72992318e-03  2.31589307e-03 -7.13984948e-03\n",
      "  4.05160617e-03 -6.28832402e-03  8.38866923e-03  1.51124061e-03\n",
      "  1.27941351e-02 -5.36183325e-06  2.52668303e-03 -1.66049169e-03\n",
      "  4.53693618e-04]\n"
     ]
    },
    {
     "name": "stderr",
     "output_type": "stream",
     "text": [
      "18:28 madminer.ml          INFO    Expected per-event score (should be close to zero): [-4.24816799e+00 -1.05508595e+01  1.73758744e-05 -2.08255071e-02\n",
      "  1.17431198e-04 -2.46108016e-07  1.31894398e-04  3.44787072e-03\n",
      " -3.52456421e-03 -4.96103847e-03  4.46816301e-03 -2.58761435e-03\n",
      "  2.75447499e-03 -5.81192877e-03  6.65699830e-03  1.72851689e-03\n",
      " -1.29235652e-03  9.81470011e-03 -1.37727447e-02 -2.71262578e-03\n",
      "  1.00094214e-04  3.46344686e-03 -4.95457929e-03 -7.17868423e-03\n",
      "  1.57088984e-03  2.57485453e-02 -2.69884132e-02 -7.76521582e-03\n",
      "  1.13408212e-02  6.20904239e-03 -1.50130531e-02 -3.12567921e-03\n",
      "  2.62534525e-03 -3.49324173e-03 -1.01550319e-03 -8.37001111e-03\n",
      "  4.91511822e-03  2.26348825e-03  1.39123620e-03 -8.56107567e-03\n",
      "  4.84335888e-03 -1.16227260e-02  8.38907436e-03  1.36133167e-03\n",
      "  4.17867908e-04 -4.00841888e-03  3.56349838e-03 -3.20327538e-03\n",
      " -7.83914758e-04 -2.74374266e-03  4.75632632e-03  4.05367144e-04\n",
      "  1.11433575e-02 -1.31780095e-03  5.19838475e-04  9.54293238e-04\n",
      " -1.25618046e-03]\n"
     ]
    },
    {
     "ename": "NameError",
     "evalue": "name 'fisher_info' is not defined",
     "output_type": "error",
     "traceback": [
      "\u001b[0;31m---------------------------------------------------------------------------\u001b[0m",
      "\u001b[0;31mNameError\u001b[0m                                 Traceback (most recent call last)",
      "\u001b[0;32m<ipython-input-7-9aed26cdfb67>\u001b[0m in \u001b[0;36m<module>\u001b[0;34m\u001b[0m\n\u001b[1;32m      9\u001b[0m \u001b[0mnp\u001b[0m\u001b[0;34m.\u001b[0m\u001b[0msave\u001b[0m\u001b[0;34m(\u001b[0m\u001b[0mresult_dir\u001b[0m \u001b[0;34m+\u001b[0m \u001b[0;34m'information_covariance_full_tight_infomode.npy'\u001b[0m\u001b[0;34m,\u001b[0m \u001b[0mcov\u001b[0m\u001b[0;34m)\u001b[0m\u001b[0;34m\u001b[0m\u001b[0;34m\u001b[0m\u001b[0m\n\u001b[1;32m     10\u001b[0m \u001b[0;34m\u001b[0m\u001b[0m\n\u001b[0;32m---> 11\u001b[0;31m \u001b[0mfisher_info\u001b[0m\u001b[0;34m,\u001b[0m \u001b[0mcov\u001b[0m \u001b[0;34m=\u001b[0m \u001b[0mprofile\u001b[0m\u001b[0;34m(\u001b[0m\u001b[0mfisher_info\u001b[0m\u001b[0;34m,\u001b[0m \u001b[0mcov\u001b[0m\u001b[0;34m)\u001b[0m\u001b[0;34m\u001b[0m\u001b[0;34m\u001b[0m\u001b[0m\n\u001b[0m\u001b[1;32m     12\u001b[0m \u001b[0;34m\u001b[0m\u001b[0m\n\u001b[1;32m     13\u001b[0m \u001b[0mnp\u001b[0m\u001b[0;34m.\u001b[0m\u001b[0msave\u001b[0m\u001b[0;34m(\u001b[0m\u001b[0mresult_dir\u001b[0m \u001b[0;34m+\u001b[0m \u001b[0;34m'profiled_information_full_tight_infomode.npy'\u001b[0m\u001b[0;34m,\u001b[0m \u001b[0mfisher_info\u001b[0m\u001b[0;34m)\u001b[0m\u001b[0;34m\u001b[0m\u001b[0;34m\u001b[0m\u001b[0m\n",
      "\u001b[0;31mNameError\u001b[0m: name 'fisher_info' is not defined"
     ]
    }
   ],
   "source": [
    "fisher_info, cov = fisher_tight.calculate_fisher_information_full_detector(\n",
    "    theta=[0.,0.],\n",
    "    luminosity=300000.,\n",
    "    model_file=model_dir + 'sally_ensemble_all_tight',\n",
    "    mode=\"information\",\n",
    ")\n",
    "\n",
    "np.save(result_dir + 'information_full_tight_infomode.npy', fisher_info)\n",
    "np.save(result_dir + 'information_covariance_full_tight_infomode.npy', cov)\n",
    "\n",
    "fisher_info, cov = profile(fisher_info, cov)\n",
    "\n",
    "np.save(result_dir + 'profiled_information_full_tight_infomode.npy', fisher_info)\n",
    "np.save(result_dir + 'profiled_information_covariance_full_tight_infomode.npy', cov)\n"
   ]
  },
  {
   "cell_type": "code",
   "execution_count": 9,
   "metadata": {},
   "outputs": [
    {
     "data": {
      "text/plain": [
       "array([[1228962.86792385,   -2967.65113762],\n",
       "       [  -2967.65113762,   72341.65035628]])"
      ]
     },
     "execution_count": 9,
     "metadata": {},
     "output_type": "execute_result"
    }
   ],
   "source": [
    "project_information(mean,[0,1])"
   ]
  },
  {
   "cell_type": "code",
   "execution_count": 12,
   "metadata": {},
   "outputs": [
    {
     "data": {
      "text/plain": [
       "array([[1224487.08306822,   -3007.691043  ],\n",
       "       [  -3007.691043  ,   72270.63835077]])"
      ]
     },
     "execution_count": 12,
     "metadata": {},
     "output_type": "execute_result"
    }
   ],
   "source": [
    "fisher_info, cov = profile(mean, cov)\n",
    "fisher_info"
   ]
  },
  {
   "cell_type": "code",
   "execution_count": null,
   "metadata": {},
   "outputs": [],
   "source": [
    "mean, cov = fisher_all.calculate_fisher_information_full_detector(\n",
    "    theta=[0.,0.],\n",
    "    luminosity=300000.,\n",
    "    model_file=model_dir + 'sally_ensemble_all_shuffled',\n",
    "    mode=\"score\"\n",
    ")\n",
    "\n",
    "np.save(result_dir + 'information_full_shuffled.npy', mean)\n",
    "np.save(result_dir + 'information_covariance_full_shuffled.npy', cov)"
   ]
  },
  {
   "cell_type": "markdown",
   "metadata": {},
   "source": [
    "## Minimal observable set (ML)"
   ]
  },
  {
   "cell_type": "code",
   "execution_count": null,
   "metadata": {},
   "outputs": [],
   "source": [
    "mean, cov = fisher_all.calculate_fisher_information_full_detector(\n",
    "    theta=[0.,0.],\n",
    "    luminosity=300000.,\n",
    "    model_file=model_dir + 'sally_ensemble_minimal',\n",
    "    mode=\"score\"\n",
    ")\n",
    "\n",
    "np.save(result_dir + 'information_minimal.npy', mean)\n",
    "np.save(result_dir + 'information_covariance_minimal.npy', cov)"
   ]
  },
  {
   "cell_type": "code",
   "execution_count": null,
   "metadata": {},
   "outputs": [],
   "source": [
    "mean, cov = fisher_tight.calculate_fisher_information_full_detector(\n",
    "    theta=[0.,0.],\n",
    "    luminosity=300000.,\n",
    "    model_file=model_dir + 'sally_ensemble_minimal_tight',\n",
    "    mode=\"score\"\n",
    ")\n",
    "\n",
    "np.save(result_dir + 'information_minimal_tight.npy', mean)\n",
    "np.save(result_dir + 'information_covariance_minimal_tight.npy', cov)"
   ]
  },
  {
   "cell_type": "markdown",
   "metadata": {},
   "source": [
    "## Info in observables (ML)"
   ]
  },
  {
   "cell_type": "code",
   "execution_count": null,
   "metadata": {},
   "outputs": [],
   "source": [
    "mean, cov = fisher_tight.calculate_fisher_information_full_detector(\n",
    "    theta=[0.,0.],\n",
    "    luminosity=300000.,\n",
    "    model_file=model_dir + 'sally_ensemble_phi_tight',\n",
    "    mode=\"score\"\n",
    ")\n",
    "\n",
    "np.save(result_dir + 'information_phi_tight.npy', mean)\n",
    "np.save(result_dir + 'information_covariance_phi_tight.npy', cov)\n"
   ]
  },
  {
   "cell_type": "markdown",
   "metadata": {},
   "source": [
    "## Histogram info"
   ]
  },
  {
   "cell_type": "code",
   "execution_count": null,
   "metadata": {},
   "outputs": [],
   "source": [
    "filenames = ['phi', 'met', 'ptl', 'pta', 'deltaphi_lv', 'deltaphi_la']\n",
    "observables = ['phi', 'et_miss', 'pt_l1', 'pt_a1', 'deltaphi_lmet', 'deltaphi_la']\n",
    "bins = 25"
   ]
  },
  {
   "cell_type": "code",
   "execution_count": null,
   "metadata": {},
   "outputs": [],
   "source": [
    "for filename, obs in zip(filenames, observables):\n",
    "    print(filename)\n",
    "    info, cov = fisher_tight.calculate_fisher_information_hist1d(\n",
    "        theta=[0.,0.],\n",
    "        luminosity=300000.,\n",
    "        observable=obs,\n",
    "        nbins=bins,\n",
    "        histrange=None\n",
    "    )\n",
    "    \n",
    "    np.save(result_dir + 'information_histo_{}_tight.npy'.format(filename), info)\n",
    "    np.save(result_dir + 'information_covariance_histo_{}_tight.npy'.format(filename), cov)\n",
    "    "
   ]
  },
  {
   "cell_type": "code",
   "execution_count": null,
   "metadata": {},
   "outputs": [],
   "source": []
  }
 ],
 "metadata": {
  "kernelspec": {
   "display_name": "Python (higgs_inference)",
   "language": "python",
   "name": "higgs_inference"
  },
  "language_info": {
   "codemirror_mode": {
    "name": "ipython",
    "version": 3
   },
   "file_extension": ".py",
   "mimetype": "text/x-python",
   "name": "python",
   "nbconvert_exporter": "python",
   "pygments_lexer": "ipython3",
   "version": "3.6.7"
  }
 },
 "nbformat": 4,
 "nbformat_minor": 2
}
