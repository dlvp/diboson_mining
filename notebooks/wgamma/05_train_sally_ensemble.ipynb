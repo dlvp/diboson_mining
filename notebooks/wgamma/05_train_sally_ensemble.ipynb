{
 "cells": [
  {
   "cell_type": "markdown",
   "metadata": {},
   "source": [
    "# Train SALLY ensemble\n",
    "\n",
    "Johann Brehmer, Kyle Cranmer, Felix Kling, Duccio Pappadopulo, Josh Ruderman 2018"
   ]
  },
  {
   "cell_type": "code",
   "execution_count": 1,
   "metadata": {},
   "outputs": [],
   "source": [
    "from __future__ import absolute_import, division, print_function, unicode_literals\n",
    "\n",
    "import numpy as np\n",
    "import matplotlib\n",
    "from matplotlib import pyplot as plt\n",
    "% matplotlib inline\n",
    "import logging\n",
    "import os\n",
    "\n",
    "from madminer.sampling import SampleAugmenter\n",
    "from madminer.sampling import multiple_benchmark_thetas\n",
    "from madminer.sampling import constant_morphing_theta, multiple_morphing_thetas, random_morphing_thetas\n",
    "from madminer.ml import MLForge, EnsembleForge\n",
    "\n",
    "logging.basicConfig(format='%(asctime)s  %(message)s', datefmt='%H:%M')"
   ]
  },
  {
   "cell_type": "code",
   "execution_count": 2,
   "metadata": {},
   "outputs": [],
   "source": [
    "base_dir = '/Users/johannbrehmer/work/projects/madminer/diboson_mining/'\n",
    "mg_dir = '/Users/johannbrehmer/work/projects/madminer/MG5_aMC_v2_6_2/'"
   ]
  },
  {
   "cell_type": "code",
   "execution_count": 3,
   "metadata": {},
   "outputs": [],
   "source": [
    "sample_dir = base_dir + 'data/samples/wgamma/'\n",
    "card_dir = base_dir + 'cards/wgamma/'\n",
    "ufo_model_dir = card_dir + 'SMWgamma_UFO'\n",
    "run_card_dir = card_dir + 'run_cards/'\n",
    "mg_process_dir = base_dir + 'data/mg_processes/wgamma/'\n",
    "log_dir = base_dir + 'logs/wgamma/'\n",
    "temp_dir = base_dir + 'data/temp'\n",
    "delphes_dir = mg_dir + 'Delphes'\n",
    "model_dir = base_dir + 'data/models/wgamma/'"
   ]
  },
  {
   "cell_type": "markdown",
   "metadata": {},
   "source": [
    "## Ensemble"
   ]
  },
  {
   "cell_type": "code",
   "execution_count": 4,
   "metadata": {},
   "outputs": [
    {
     "name": "stderr",
     "output_type": "stream",
     "text": [
      "16:49  \n",
      "16:49  ------------------------------------------------------------\n",
      "16:49  |                                                          |\n",
      "16:49  |  MadMiner v2018.10.22                                    |\n",
      "16:49  |                                                          |\n",
      "16:49  |           Johann Brehmer, Kyle Cranmer, and Felix Kling  |\n",
      "16:49  |                                                          |\n",
      "16:49  ------------------------------------------------------------\n",
      "16:49  \n"
     ]
    }
   ],
   "source": [
    "n_estimators = 10\n",
    "\n",
    "ensemble = EnsembleForge(\n",
    "    [MLForge(debug=False) for _ in range(n_estimators)]\n",
    ")"
   ]
  },
  {
   "cell_type": "markdown",
   "metadata": {},
   "source": [
    "## Train SALLY on all observables"
   ]
  },
  {
   "cell_type": "code",
   "execution_count": null,
   "metadata": {},
   "outputs": [
    {
     "name": "stderr",
     "output_type": "stream",
     "text": [
      "16:50  Training 10 estimators in ensemble\n",
      "16:50  Training estimator 1 / 10 in ensemble\n",
      "16:50  Starting training\n",
      "16:50    Method:                 sally\n",
      "16:50    Training data: x at /Users/johannbrehmer/work/projects/madminer/diboson_mining/data/samples/wgamma/train_local/x_train_0.npy\n",
      "16:50                   t_xz (theta0) at  /Users/johannbrehmer/work/projects/madminer/diboson_mining/data/samples/wgamma/train_local/t_xz_train_0.npy\n",
      "16:50    Features:               all\n",
      "16:50    Method:                 sally\n",
      "16:50    Hidden layers:          (50,)\n",
      "16:50    Activation function:    tanh\n",
      "16:50    Batch size:             256\n",
      "16:50    Epochs:                 10\n",
      "16:50    Learning rate:          0.002 initially, decaying to 0.0001\n",
      "16:50    Validation split:       None\n",
      "16:50    Early stopping:         True\n",
      "16:50  Loading training data\n",
      "16:50  Found 1000000 samples with 2 parameters and 27 observables\n",
      "16:50  Creating model for method sally\n",
      "16:50  Training model\n",
      "16:51    Epoch 1: train loss 29.17 ([29.17009949])\n",
      "16:51    Epoch 2: train loss 29.16 ([29.16185003])\n",
      "16:51    Epoch 3: train loss 29.15 ([29.15460703])\n",
      "16:51    Epoch 4: train loss 29.15 ([29.15023036])\n"
     ]
    }
   ],
   "source": [
    "ensemble.train_all(\n",
    "    method='sally',\n",
    "    x_filename=[sample_dir + 'train_local/x_train_{}.npy'.format(i) for i in range(10)],\n",
    "    t_xz0_filename=[sample_dir + 'train_local/t_xz_train_{}.npy'.format(i) for i in range(10)],\n",
    "    n_epochs=10,\n",
    "    batch_size=256,\n",
    "    validation_split=None,\n",
    "    n_hidden=[(50,), (100,), (50,50), (50,20), (100,100), (100, 20), (50,50,50), (50,20,10), (100,100,100), (100, 50, 20)]\n",
    ")\n",
    "\n",
    "ensemble.save(model_dir + 'sally_ensemble_all')"
   ]
  },
  {
   "cell_type": "markdown",
   "metadata": {},
   "source": [
    "## delta phi variations"
   ]
  },
  {
   "cell_type": "code",
   "execution_count": null,
   "metadata": {},
   "outputs": [],
   "source": [
    "ensemble.train_all(\n",
    "    method='sally',\n",
    "    x_filename=[sample_dir + 'train_local/x_train_{}.npy'.format(i) for i in range(10)],\n",
    "    t_xz0_filename=[sample_dir + 'train_local/t_xz_train_{}.npy'.format(i) for i in range(10)],\n",
    "    features=[25],\n",
    "    n_epochs=10,\n",
    "    batch_size=256,\n",
    "    validation_split=None,\n",
    "    n_hidden=[(50,), (100,), (50,50), (50,20), (100,100), (100, 20), (50,50,50), (50,20,10), (100,100,100), (100, 50, 20)]\n",
    ")\n",
    "\n",
    "ensemble.save(model_dir + 'sally_ensemble_deltaphi')"
   ]
  },
  {
   "cell_type": "code",
   "execution_count": null,
   "metadata": {},
   "outputs": [],
   "source": []
  }
 ],
 "metadata": {
  "kernelspec": {
   "display_name": "Python [default]",
   "language": "python",
   "name": "python3"
  },
  "language_info": {
   "codemirror_mode": {
    "name": "ipython",
    "version": 3
   },
   "file_extension": ".py",
   "mimetype": "text/x-python",
   "name": "python",
   "nbconvert_exporter": "python",
   "pygments_lexer": "ipython3",
   "version": "3.6.4"
  }
 },
 "nbformat": 4,
 "nbformat_minor": 2
}
