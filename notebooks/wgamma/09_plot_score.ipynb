{
 "cells": [
  {
   "cell_type": "markdown",
   "metadata": {},
   "source": [
    "# Make histograms\n",
    "\n",
    "Johann Brehmer, Kyle Cranmer, Marco Farina, Felix Kling, Duccio Pappadopulo, Josh Ruderman 2018"
   ]
  },
  {
   "cell_type": "code",
   "execution_count": 1,
   "metadata": {},
   "outputs": [],
   "source": [
    "from __future__ import absolute_import, division, print_function, unicode_literals\n",
    "\n",
    "import numpy as np\n",
    "import matplotlib\n",
    "from matplotlib import pyplot as plt\n",
    "% matplotlib inline\n",
    "import logging\n",
    "import os\n",
    "\n",
    "from madminer.ml import EnsembleForge\n",
    "\n",
    "logging.basicConfig(format='%(asctime)s  %(message)s', datefmt='%H:%M')"
   ]
  },
  {
   "cell_type": "code",
   "execution_count": 2,
   "metadata": {},
   "outputs": [],
   "source": [
    "base_dir = '/Users/johannbrehmer/work/projects/madminer/diboson_mining/'\n",
    "mg_dir = '/Users/johannbrehmer/work/projects/madminer/MG5_aMC_v2_6_2/'"
   ]
  },
  {
   "cell_type": "code",
   "execution_count": 3,
   "metadata": {},
   "outputs": [],
   "source": [
    "sample_dir = base_dir + 'data/samples/wgamma/'\n",
    "card_dir = base_dir + 'cards/wgamma/'\n",
    "ufo_model_dir = card_dir + 'SMWgamma_UFO'\n",
    "run_card_dir = card_dir + 'run_cards/'\n",
    "mg_process_dir = base_dir + 'data/mg_processes/wgamma/'\n",
    "log_dir = base_dir + 'logs/wgamma/'\n",
    "temp_dir = base_dir + 'data/temp'\n",
    "delphes_dir = mg_dir + 'Delphes'\n",
    "model_dir = base_dir + 'data/models/wgamma/'\n",
    "result_dir = base_dir + 'data/results/wgamma/'"
   ]
  },
  {
   "cell_type": "markdown",
   "metadata": {},
   "source": [
    "## Without cuts"
   ]
  },
  {
   "cell_type": "markdown",
   "metadata": {},
   "source": [
    "### Load model"
   ]
  },
  {
   "cell_type": "code",
   "execution_count": 23,
   "metadata": {},
   "outputs": [
    {
     "name": "stderr",
     "output_type": "stream",
     "text": [
      "09:59  Found ensemble with 10 estimators and expectations [[ 0.00185288 -0.00213958]\n",
      " [ 0.00030728 -0.00757535]\n",
      " [-0.00074987  0.00223898]\n",
      " [ 0.00026429 -0.01104142]\n",
      " [ 0.00680028  0.00049899]\n",
      " [ 0.00879304  0.0024789 ]\n",
      " [-0.00781441  0.00571227]\n",
      " [ 0.00426772 -0.0017313 ]\n",
      " [-0.00439555 -0.0004062 ]\n",
      " [-0.00243994  0.00305417]]\n"
     ]
    }
   ],
   "source": [
    "ensemble = EnsembleForge(None, debug=False)\n",
    "\n",
    "ensemble.load(model_dir + 'sally_ensemble_all')"
   ]
  },
  {
   "cell_type": "markdown",
   "metadata": {},
   "source": [
    "### Evaluate score"
   ]
  },
  {
   "cell_type": "code",
   "execution_count": 24,
   "metadata": {},
   "outputs": [],
   "source": [
    "x_sm = np.load(sample_dir + 'test_sm/x_test.npy')\n",
    "x_www = np.load(sample_dir + 'test_www/x_test.npy')\n",
    "x_wwwtilde = np.load(sample_dir + 'test_wwwtilde/x_test.npy')"
   ]
  },
  {
   "cell_type": "code",
   "execution_count": 25,
   "metadata": {},
   "outputs": [
    {
     "name": "stderr",
     "output_type": "stream",
     "text": [
      "09:59  Evaluating 10 estimators in ensemble\n",
      "09:59  Starting evaluation for estimator 1 / 10 in ensemble\n",
      "09:59  Starting evaluation for estimator 2 / 10 in ensemble\n",
      "09:59  Starting evaluation for estimator 3 / 10 in ensemble\n",
      "10:00  Starting evaluation for estimator 4 / 10 in ensemble\n",
      "10:00  Starting evaluation for estimator 5 / 10 in ensemble\n",
      "10:00  Starting evaluation for estimator 6 / 10 in ensemble\n",
      "10:00  Starting evaluation for estimator 7 / 10 in ensemble\n",
      "10:00  Starting evaluation for estimator 8 / 10 in ensemble\n",
      "10:00  Starting evaluation for estimator 9 / 10 in ensemble\n",
      "10:00  Starting evaluation for estimator 10 / 10 in ensemble\n",
      "10:00  Evaluating 10 estimators in ensemble\n",
      "10:00  Starting evaluation for estimator 1 / 10 in ensemble\n",
      "10:00  Starting evaluation for estimator 2 / 10 in ensemble\n",
      "10:00  Starting evaluation for estimator 3 / 10 in ensemble\n",
      "10:00  Starting evaluation for estimator 4 / 10 in ensemble\n",
      "10:00  Starting evaluation for estimator 5 / 10 in ensemble\n",
      "10:00  Starting evaluation for estimator 6 / 10 in ensemble\n",
      "10:00  Starting evaluation for estimator 7 / 10 in ensemble\n",
      "10:00  Starting evaluation for estimator 8 / 10 in ensemble\n",
      "10:00  Starting evaluation for estimator 9 / 10 in ensemble\n",
      "10:00  Starting evaluation for estimator 10 / 10 in ensemble\n",
      "10:00  Evaluating 10 estimators in ensemble\n",
      "10:00  Starting evaluation for estimator 1 / 10 in ensemble\n",
      "10:00  Starting evaluation for estimator 2 / 10 in ensemble\n",
      "10:00  Starting evaluation for estimator 3 / 10 in ensemble\n",
      "10:00  Starting evaluation for estimator 4 / 10 in ensemble\n",
      "10:00  Starting evaluation for estimator 5 / 10 in ensemble\n",
      "10:00  Starting evaluation for estimator 6 / 10 in ensemble\n",
      "10:00  Starting evaluation for estimator 7 / 10 in ensemble\n",
      "10:00  Starting evaluation for estimator 8 / 10 in ensemble\n",
      "10:00  Starting evaluation for estimator 9 / 10 in ensemble\n",
      "10:00  Starting evaluation for estimator 10 / 10 in ensemble\n"
     ]
    }
   ],
   "source": [
    "that_sm, _ = ensemble.evaluate(x_filename=sample_dir + 'test_sm/x_test.npy', calculate_covariance=False)\n",
    "that_www, _ = ensemble.evaluate(x_filename=sample_dir + 'test_www/x_test.npy', calculate_covariance=False)\n",
    "that_wwwtilde, _ = ensemble.evaluate(x_filename=sample_dir + 'test_wwwtilde/x_test.npy', calculate_covariance=False)"
   ]
  },
  {
   "cell_type": "code",
   "execution_count": 26,
   "metadata": {},
   "outputs": [],
   "source": [
    "theta_sm = np.array([0.,0.])\n",
    "theta_www = np.array([0.02, 0.])\n",
    "theta_wwwtilde = np.array([0.,0.02])"
   ]
  },
  {
   "cell_type": "markdown",
   "metadata": {},
   "source": [
    "### Histograms"
   ]
  },
  {
   "cell_type": "code",
   "execution_count": 35,
   "metadata": {},
   "outputs": [
    {
     "data": {
      "image/png": "[encoded data removed]",
      "text/plain": [
       "<Figure size 864x288 with 3 Axes>"
      ]
     },
     "metadata": {},
     "output_type": "display_data"
    }
   ],
   "source": [
    "xmin0, xmax0 = -0.5, 1.0\n",
    "xmin1, xmax1 = -0.07, 0.07\n",
    "nbins = 25\n",
    "\n",
    "fig = plt.figure(figsize=(12,4))\n",
    "\n",
    "\n",
    "\n",
    "ax = plt.subplot(1,3,1)\n",
    "plt.hist(\n",
    "    that_sm.dot(theta_www),\n",
    "    histtype='step',\n",
    "    range=(xmin0, xmax0),\n",
    "    bins=nbins,\n",
    "    label='SM',\n",
    "    color='0.5'\n",
    ")\n",
    "plt.hist(\n",
    "    that_www.dot(theta_www),\n",
    "    histtype='step',\n",
    "    range=(xmin0, xmax0),\n",
    "    bins=nbins,\n",
    "    label=r'$f_{WWW} = 0.005$',\n",
    "    color='mediumblue'\n",
    ")\n",
    "plt.hist(\n",
    "    that_wwwtilde.dot(theta_www),\n",
    "    histtype='step',\n",
    "    range=(xmin0, xmax0),\n",
    "    bins=nbins,\n",
    "    label=r'$f_{\\tilde{W}WW} = 0.005$',\n",
    "    color='#CC002E'\n",
    ")\n",
    "plt.xlabel(r'$\\Delta \\theta_{WWW} \\cdot \\hat{t}(x|\\theta_{SM})$')\n",
    "ax.set_yscale(\"log\", nonposy='clip')\n",
    "plt.ylim(0.1,None)\n",
    "\n",
    "\n",
    "\n",
    "ax = plt.subplot(1,3,2)\n",
    "plt.hist(\n",
    "    that_sm.dot(theta_wwwtilde),\n",
    "    histtype='step',\n",
    "    range=(xmin1, xmax1),\n",
    "    bins=nbins,\n",
    "    label='SM',\n",
    "    color='0.5'\n",
    ")\n",
    "plt.hist(\n",
    "    that_www.dot(theta_wwwtilde),\n",
    "    histtype='step',\n",
    "    range=(xmin1, xmax1),\n",
    "    bins=nbins,\n",
    "    label=r'$f_{WWW} = 0.005$',\n",
    "    color='mediumblue'\n",
    ")\n",
    "plt.hist(\n",
    "    that_wwwtilde.dot(theta_wwwtilde),\n",
    "    histtype='step',\n",
    "    range=(xmin1, xmax1),\n",
    "    bins=nbins,\n",
    "    label=r'$f_{\\tilde{W}WW} = 0.005$',\n",
    "    color='#CC002E'\n",
    ")\n",
    "plt.xlabel(r'$\\Delta \\theta_{\\tilde{W}WW} \\cdot \\hat{t}(x|\\theta_{SM})$')\n",
    "ax.set_yscale(\"log\", nonposy='clip')\n",
    "plt.ylim(0.1,None)\n",
    "\n",
    "\n",
    "\n",
    "ax = plt.subplot(1,3,3)\n",
    "plt.hist(\n",
    "    x_sm[:,26],\n",
    "    histtype='step',\n",
    "    range=(-3.14, 3.14),\n",
    "    bins=nbins,\n",
    "    label='SM',\n",
    "    color='0.5'\n",
    ")\n",
    "plt.hist(\n",
    "    x_www[:,26],\n",
    "    histtype='step',\n",
    "    range=(-3.14, 3.14),\n",
    "    bins=nbins,\n",
    "    label=r'$f_{WWW} = 0.005$',\n",
    "    color='mediumblue'\n",
    ")\n",
    "plt.hist(\n",
    "    x_wwwtilde[:,26],\n",
    "    histtype='step',\n",
    "    range=(-3.14, 3.14),\n",
    "    bins=nbins,\n",
    "    label=r'$f_{\\tilde{W}WW} = 0.005$',\n",
    "    color='#CC002E'\n",
    ")\n",
    "plt.xlabel(r'$\\varphi$')\n",
    "\n",
    "\n",
    "\n",
    "plt.tight_layout()\n",
    "plt.show()\n"
   ]
  },
  {
   "cell_type": "markdown",
   "metadata": {},
   "source": [
    "## With cuts"
   ]
  },
  {
   "cell_type": "markdown",
   "metadata": {},
   "source": [
    "### Load model"
   ]
  },
  {
   "cell_type": "code",
   "execution_count": 37,
   "metadata": {},
   "outputs": [
    {
     "name": "stderr",
     "output_type": "stream",
     "text": [
      "10:10  Found ensemble with 10 estimators and expectations [[ 0.01191214 -0.0402671 ]\n",
      " [ 0.02071318 -0.00683478]\n",
      " [ 0.03724478 -0.02515701]\n",
      " [ 0.04550327  0.23156701]\n",
      " [ 0.08020136 -0.02802361]\n",
      " [ 0.13473636  0.02368452]\n",
      " [ 0.02685713  0.03358454]\n",
      " [ 0.04259032  0.01201156]\n",
      " [ 0.0381263   0.09408886]\n",
      " [-0.00695528 -0.04690658]]\n"
     ]
    }
   ],
   "source": [
    "ensemble = EnsembleForge(None, debug=False)\n",
    "\n",
    "ensemble.load(model_dir + 'sally_ensemble_all_tight')"
   ]
  },
  {
   "cell_type": "markdown",
   "metadata": {},
   "source": [
    "### Evaluate score"
   ]
  },
  {
   "cell_type": "code",
   "execution_count": 52,
   "metadata": {},
   "outputs": [],
   "source": [
    "x_sm = np.load(sample_dir + 'test_sm_tight/x_test.npy')\n",
    "x_www = np.load(sample_dir + 'test_www_small_tight/x_test.npy')\n",
    "x_wwwtilde = np.load(sample_dir + 'test_wwwtilde_small_tight/x_test.npy')\n",
    "x_www_n = np.load(sample_dir + 'test_www_smallnegative_tight/x_test.npy')\n",
    "x_wwwtilde_n = np.load(sample_dir + 'test_wwwtilde_smallnegative_tight/x_test.npy')"
   ]
  },
  {
   "cell_type": "code",
   "execution_count": 53,
   "metadata": {
    "scrolled": true
   },
   "outputs": [
    {
     "name": "stderr",
     "output_type": "stream",
     "text": [
      "10:39  Evaluating 10 estimators in ensemble\n",
      "10:39  Starting evaluation for estimator 1 / 10 in ensemble\n",
      "10:39  Starting evaluation for estimator 2 / 10 in ensemble\n",
      "10:39  Starting evaluation for estimator 3 / 10 in ensemble\n",
      "10:39  Starting evaluation for estimator 4 / 10 in ensemble\n",
      "10:39  Starting evaluation for estimator 5 / 10 in ensemble\n",
      "10:39  Starting evaluation for estimator 6 / 10 in ensemble\n",
      "10:39  Starting evaluation for estimator 7 / 10 in ensemble\n",
      "10:39  Starting evaluation for estimator 8 / 10 in ensemble\n",
      "10:39  Starting evaluation for estimator 9 / 10 in ensemble\n",
      "10:39  Starting evaluation for estimator 10 / 10 in ensemble\n",
      "10:39  Evaluating 10 estimators in ensemble\n",
      "10:39  Starting evaluation for estimator 1 / 10 in ensemble\n",
      "10:39  Starting evaluation for estimator 2 / 10 in ensemble\n",
      "10:39  Starting evaluation for estimator 3 / 10 in ensemble\n",
      "10:39  Starting evaluation for estimator 4 / 10 in ensemble\n",
      "10:39  Starting evaluation for estimator 5 / 10 in ensemble\n",
      "10:39  Starting evaluation for estimator 6 / 10 in ensemble\n",
      "10:39  Starting evaluation for estimator 7 / 10 in ensemble\n",
      "10:39  Starting evaluation for estimator 8 / 10 in ensemble\n",
      "10:39  Starting evaluation for estimator 9 / 10 in ensemble\n",
      "10:39  Starting evaluation for estimator 10 / 10 in ensemble\n",
      "10:39  Evaluating 10 estimators in ensemble\n",
      "10:39  Starting evaluation for estimator 1 / 10 in ensemble\n",
      "10:39  Starting evaluation for estimator 2 / 10 in ensemble\n",
      "10:39  Starting evaluation for estimator 3 / 10 in ensemble\n",
      "10:40  Starting evaluation for estimator 4 / 10 in ensemble\n",
      "10:40  Starting evaluation for estimator 5 / 10 in ensemble\n",
      "10:40  Starting evaluation for estimator 6 / 10 in ensemble\n",
      "10:40  Starting evaluation for estimator 7 / 10 in ensemble\n",
      "10:40  Starting evaluation for estimator 8 / 10 in ensemble\n",
      "10:40  Starting evaluation for estimator 9 / 10 in ensemble\n",
      "10:40  Starting evaluation for estimator 10 / 10 in ensemble\n",
      "10:40  Evaluating 10 estimators in ensemble\n",
      "10:40  Starting evaluation for estimator 1 / 10 in ensemble\n",
      "10:40  Starting evaluation for estimator 2 / 10 in ensemble\n",
      "10:40  Starting evaluation for estimator 3 / 10 in ensemble\n",
      "10:40  Starting evaluation for estimator 4 / 10 in ensemble\n",
      "10:40  Starting evaluation for estimator 5 / 10 in ensemble\n",
      "10:40  Starting evaluation for estimator 6 / 10 in ensemble\n",
      "10:40  Starting evaluation for estimator 7 / 10 in ensemble\n",
      "10:40  Starting evaluation for estimator 8 / 10 in ensemble\n",
      "10:40  Starting evaluation for estimator 9 / 10 in ensemble\n",
      "10:40  Starting evaluation for estimator 10 / 10 in ensemble\n",
      "10:40  Evaluating 10 estimators in ensemble\n",
      "10:40  Starting evaluation for estimator 1 / 10 in ensemble\n",
      "10:40  Starting evaluation for estimator 2 / 10 in ensemble\n",
      "10:40  Starting evaluation for estimator 3 / 10 in ensemble\n",
      "10:40  Starting evaluation for estimator 4 / 10 in ensemble\n",
      "10:40  Starting evaluation for estimator 5 / 10 in ensemble\n",
      "10:40  Starting evaluation for estimator 6 / 10 in ensemble\n",
      "10:40  Starting evaluation for estimator 7 / 10 in ensemble\n",
      "10:40  Starting evaluation for estimator 8 / 10 in ensemble\n",
      "10:40  Starting evaluation for estimator 9 / 10 in ensemble\n",
      "10:40  Starting evaluation for estimator 10 / 10 in ensemble\n"
     ]
    }
   ],
   "source": [
    "that_sm, _ = ensemble.evaluate(x_filename=sample_dir + 'test_sm_tight/x_test.npy', calculate_covariance=False)\n",
    "that_www, _ = ensemble.evaluate(x_filename=sample_dir + 'test_www_small_tight/x_test.npy', calculate_covariance=False)\n",
    "that_www_n, _ = ensemble.evaluate(x_filename=sample_dir + 'test_www_smallnegative_tight/x_test.npy', calculate_covariance=False)\n",
    "that_wwwtilde, _ = ensemble.evaluate(x_filename=sample_dir + 'test_wwwtilde_small_tight/x_test.npy', calculate_covariance=False)\n",
    "that_wwwtilde_n, _ = ensemble.evaluate(x_filename=sample_dir + 'test_wwwtilde_smallnegative_tight/x_test.npy', calculate_covariance=False)"
   ]
  },
  {
   "cell_type": "code",
   "execution_count": 48,
   "metadata": {},
   "outputs": [],
   "source": [
    "theta_sm = np.array([0.,0.])\n",
    "theta_www = np.array([0.005, 0.])\n",
    "theta_wwwtilde = np.array([0.,0.005])"
   ]
  },
  {
   "cell_type": "markdown",
   "metadata": {},
   "source": [
    "### Histograms"
   ]
  },
  {
   "cell_type": "code",
   "execution_count": 55,
   "metadata": {},
   "outputs": [
    {
     "data": {
      "image/png": "[encoded data removed]",
      "text/plain": [
       "<Figure size 864x288 with 3 Axes>"
      ]
     },
     "metadata": {},
     "output_type": "display_data"
    }
   ],
   "source": [
    "xmin0, xmax0 = -2., 2.\n",
    "xmin1, xmax1 = -0.1, 0.1\n",
    "nbins = 25\n",
    "\n",
    "fig = plt.figure(figsize=(12,4))\n",
    "\n",
    "\n",
    "\n",
    "ax = plt.subplot(1,3,1)\n",
    "plt.hist(\n",
    "    that_sm.dot(theta_www),\n",
    "    histtype='step',\n",
    "    range=(xmin0, xmax0),\n",
    "    bins=nbins,\n",
    "    label='SM',\n",
    "    color='0.5'\n",
    ")\n",
    "plt.hist(\n",
    "    that_www.dot(theta_www),\n",
    "    histtype='step',\n",
    "    range=(xmin0, xmax0),\n",
    "    bins=nbins,\n",
    "    label=r'$f_{WWW} = 0.005$',\n",
    "    color='mediumblue'\n",
    ")\n",
    "plt.hist(\n",
    "    that_www_n.dot(theta_www),\n",
    "    histtype='step',\n",
    "    range=(xmin0, xmax0),\n",
    "    bins=nbins,\n",
    "    label=r'$f_{WWW} = -0.005$',\n",
    "    color='mediumblue',\n",
    "    ls='--'\n",
    ")\n",
    "plt.hist(\n",
    "    that_wwwtilde.dot(theta_www),\n",
    "    histtype='step',\n",
    "    range=(xmin0, xmax0),\n",
    "    bins=nbins,\n",
    "    label=r'$f_{\\tilde{W}WW} = 0.005$',\n",
    "    color='#CC002E'\n",
    ")\n",
    "plt.hist(\n",
    "    that_wwwtilde_n.dot(theta_www),\n",
    "    histtype='step',\n",
    "    range=(xmin0, xmax0),\n",
    "    bins=nbins,\n",
    "    label=r'$f_{\\tilde{W}WW} = -0.005$',\n",
    "    color='#CC002E',\n",
    "    ls='--'\n",
    ")\n",
    "plt.legend()\n",
    "plt.xlabel(r'$\\Delta \\theta_{WWW} \\cdot \\hat{t}(x|\\theta_{SM})$')\n",
    "ax.set_yscale(\"log\", nonposy='clip')\n",
    "plt.ylim(1.,None)\n",
    "\n",
    "\n",
    "\n",
    "ax = plt.subplot(1,3,2)\n",
    "plt.hist(\n",
    "    that_sm.dot(theta_wwwtilde),\n",
    "    histtype='step',\n",
    "    range=(xmin1, xmax1),\n",
    "    bins=nbins,\n",
    "    label='SM',\n",
    "    color='0.5'\n",
    ")\n",
    "plt.hist(\n",
    "    that_www.dot(theta_wwwtilde),\n",
    "    histtype='step',\n",
    "    range=(xmin1, xmax1),\n",
    "    bins=nbins,\n",
    "    label=r'$f_{WWW} = 0.005$',\n",
    "    color='mediumblue'\n",
    ")\n",
    "plt.hist(\n",
    "    that_www_n.dot(theta_wwwtilde),\n",
    "    histtype='step',\n",
    "    range=(xmin1, xmax1),\n",
    "    bins=nbins,\n",
    "    label=r'$f_{WWW} = -0.005$',\n",
    "    color='mediumblue',\n",
    "    ls='--'\n",
    ")\n",
    "plt.hist(\n",
    "    that_wwwtilde.dot(theta_wwwtilde),\n",
    "    histtype='step',\n",
    "    range=(xmin1, xmax1),\n",
    "    bins=nbins,\n",
    "    label=r'$f_{\\tilde{W}WW} = 0.005$',\n",
    "    color='#CC002E'\n",
    ")\n",
    "plt.hist(\n",
    "    that_wwwtilde_n.dot(theta_wwwtilde),\n",
    "    histtype='step',\n",
    "    range=(xmin1, xmax1),\n",
    "    bins=nbins,\n",
    "    label=r'$f_{\\tilde{W}WW} = -0.005$',\n",
    "    color='#CC002E',\n",
    "    ls='--'\n",
    ")\n",
    "plt.legend()\n",
    "plt.xlabel(r'$\\Delta \\theta_{\\tilde{W}WW} \\cdot \\hat{t}(x|\\theta_{SM})$')\n",
    "ax.set_yscale(\"log\", nonposy='clip')\n",
    "plt.ylim(1.,None)\n",
    "\n",
    "\n",
    "\n",
    "ax = plt.subplot(1,3,3)\n",
    "plt.hist(\n",
    "    x_sm[:,26],\n",
    "    histtype='step',\n",
    "    range=(-3.14, 3.14),\n",
    "    bins=nbins,\n",
    "    label='SM',\n",
    "    color='0.5'\n",
    ")\n",
    "plt.hist(\n",
    "    x_www[:,26],\n",
    "    histtype='step',\n",
    "    range=(-3.14, 3.14),\n",
    "    bins=nbins,\n",
    "    label=r'$f_{WWW} = 0.005$',\n",
    "    color='mediumblue'\n",
    ")\n",
    "plt.hist(\n",
    "    x_wwwtilde[:,26],\n",
    "    histtype='step',\n",
    "    range=(-3.14, 3.14),\n",
    "    bins=nbins,\n",
    "    label=r'$f_{\\tilde{W}WW} = 0.005$',\n",
    "    color='#CC002E'\n",
    ")\n",
    "plt.xlabel(r'$\\varphi$')\n",
    "\n",
    "\n",
    "\n",
    "plt.tight_layout()\n",
    "plt.show()\n"
   ]
  },
  {
   "cell_type": "code",
   "execution_count": null,
   "metadata": {},
   "outputs": [],
   "source": []
  }
 ],
 "metadata": {
  "kernelspec": {
   "display_name": "Python [conda env:higgs_inference]",
   "language": "python",
   "name": "conda-env-higgs_inference-py"
  },
  "language_info": {
   "codemirror_mode": {
    "name": "ipython",
    "version": 3
   },
   "file_extension": ".py",
   "mimetype": "text/x-python",
   "name": "python",
   "nbconvert_exporter": "python",
   "pygments_lexer": "ipython3",
   "version": "3.6.4"
  }
 },
 "nbformat": 4,
 "nbformat_minor": 2
}
