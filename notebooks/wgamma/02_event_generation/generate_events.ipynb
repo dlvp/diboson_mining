{
 "cells": [
  {
   "cell_type": "markdown",
   "metadata": {},
   "source": [
    "# Set up event generation\n",
    "\n",
    "Johann Brehmer, Kyle Cranmer, Felix Kling, Duccio Pappadopulo, Josh Ruderman 2018"
   ]
  },
  {
   "cell_type": "code",
   "execution_count": 1,
   "metadata": {},
   "outputs": [],
   "source": [
    "from __future__ import absolute_import, division, print_function, unicode_literals\n",
    "\n",
    "import numpy as np\n",
    "import matplotlib\n",
    "from matplotlib import pyplot as plt\n",
    "% matplotlib inline\n",
    "\n",
    "from madminer.core import MadMiner"
   ]
  },
  {
   "cell_type": "code",
   "execution_count": 2,
   "metadata": {},
   "outputs": [],
   "source": [
    "base_dir = '../../../'\n",
    "mg_dir = '/Users/johannbrehmer/work/projects/madminer/MG5_aMC_v2_6_2'"
   ]
  },
  {
   "cell_type": "code",
   "execution_count": 3,
   "metadata": {},
   "outputs": [],
   "source": [
    "sample_dir = base_dir + 'data/samples/wgamma/'\n",
    "card_dir = base_dir + 'cards/wgamma/'\n",
    "ufo_model_dir = card_dir + 'SMWgamma_UFO'\n",
    "run_card_dir = card_dir + 'run_cards/'\n",
    "mg_process_dir = base_dir + 'data/mg_processes/wgamma/'\n",
    "log_dir = base_dir + 'logs/wgamma/'\n",
    "temp_dir = base_dir + 'data/temp'"
   ]
  },
  {
   "cell_type": "markdown",
   "metadata": {},
   "source": [
    "## Load setup"
   ]
  },
  {
   "cell_type": "code",
   "execution_count": 4,
   "metadata": {},
   "outputs": [
    {
     "name": "stderr",
     "output_type": "stream",
     "text": [
      "22:25  \n",
      "22:25  ------------------------------------------------------------\n",
      "22:25  |                                                          |\n",
      "22:25  |  MadMiner v2018.10.02                                    |\n",
      "22:25  |                                                          |\n",
      "22:25  |           Johann Brehmer, Kyle Cranmer, and Felix Kling  |\n",
      "22:25  |                                                          |\n",
      "22:25  ------------------------------------------------------------\n",
      "22:25  \n",
      "22:25  Found 2 parameters:\n",
      "22:25     cWWW (LHA: dim6 1, maximal power in squared ME: (2,), range: (-0.1, 0.1))\n",
      "22:25     cWWWtilde (LHA: dim6 2, maximal power in squared ME: (2,), range: (-0.1, 0.1))\n",
      "22:25  Found 6 benchmarks:\n",
      "22:25     sm: cWWW = 0.00e+00, cWWWtilde = 0.00e+00\n",
      "22:25     morphing_basis_vector_1: cWWW = -9.77e-02, cWWWtilde = 0.07\n",
      "22:25     morphing_basis_vector_2: cWWW = 0.07, cWWWtilde = 0.07\n",
      "22:25     morphing_basis_vector_3: cWWW = 0.05, cWWWtilde = -7.72e-02\n",
      "22:25     morphing_basis_vector_4: cWWW = -4.62e-02, cWWWtilde = 0.10\n",
      "22:25     morphing_basis_vector_5: cWWW = -5.69e-02, cWWWtilde = -7.63e-02\n",
      "22:25  Found morphing setup with 6 components\n"
     ]
    }
   ],
   "source": [
    "mm = MadMiner()\n",
    "\n",
    "mm.load(sample_dir + 'setup.h5')"
   ]
  },
  {
   "cell_type": "markdown",
   "metadata": {},
   "source": [
    "## Create process folder"
   ]
  },
  {
   "cell_type": "code",
   "execution_count": 5,
   "metadata": {},
   "outputs": [
    {
     "name": "stderr",
     "output_type": "stream",
     "text": [
      "22:25  Generating MadGraph process folder from ../../../cards/wgamma/proc_card_mg5.dat at ../../../data/mg_processes/wgamma/\n"
     ]
    }
   ],
   "source": [
    "mm.generate_mg_process(\n",
    "    mg_directory=mg_dir,\n",
    "    temp_directory=temp_dir,\n",
    "    proc_card_file=card_dir + 'proc_card_mg5.dat',\n",
    "    mg_process_directory=mg_process_dir,\n",
    "    ufo_model_directory=ufo_model_dir,\n",
    "    initial_command='source activate python2',\n",
    "    log_file=log_dir + 'generate_mg_process.log'\n",
    ")"
   ]
  },
  {
   "cell_type": "markdown",
   "metadata": {},
   "source": [
    "## Create cards and run MG for different samplings and run cards"
   ]
  },
  {
   "cell_type": "code",
   "execution_count": 6,
   "metadata": {},
   "outputs": [],
   "source": [
    "run_card_filenames = ['run_card_' + str(i) + '.dat' for i in range(18)]"
   ]
  },
  {
   "cell_type": "code",
   "execution_count": 7,
   "metadata": {},
   "outputs": [],
   "source": [
    "benchmarks = [benchmark for benchmark in mm.benchmarks]"
   ]
  },
  {
   "cell_type": "code",
   "execution_count": 9,
   "metadata": {},
   "outputs": [
    {
     "name": "stderr",
     "output_type": "stream",
     "text": [
      "22:25  Creating param and reweight cards in ../../../data/mg_processes/wgamma/\n",
      "22:25  Creating param and reweight cards in ../../../data/mg_processes/wgamma/\n",
      "22:25  Creating param and reweight cards in ../../../data/mg_processes/wgamma/\n",
      "22:25  Creating param and reweight cards in ../../../data/mg_processes/wgamma/\n",
      "22:25  Creating param and reweight cards in ../../../data/mg_processes/wgamma/\n",
      "22:25  Creating param and reweight cards in ../../../data/mg_processes/wgamma/\n",
      "22:25  Creating param and reweight cards in ../../../data/mg_processes/wgamma/\n",
      "22:25  Creating param and reweight cards in ../../../data/mg_processes/wgamma/\n",
      "22:25  Creating param and reweight cards in ../../../data/mg_processes/wgamma/\n",
      "22:25  Creating param and reweight cards in ../../../data/mg_processes/wgamma/\n",
      "22:25  Creating param and reweight cards in ../../../data/mg_processes/wgamma/\n",
      "22:25  Creating param and reweight cards in ../../../data/mg_processes/wgamma/\n",
      "22:25  Creating param and reweight cards in ../../../data/mg_processes/wgamma/\n",
      "22:25  Creating param and reweight cards in ../../../data/mg_processes/wgamma/\n",
      "22:25  Creating param and reweight cards in ../../../data/mg_processes/wgamma/\n",
      "22:25  Creating param and reweight cards in ../../../data/mg_processes/wgamma/\n",
      "22:25  Creating param and reweight cards in ../../../data/mg_processes/wgamma/\n",
      "22:25  Creating param and reweight cards in ../../../data/mg_processes/wgamma/\n",
      "22:25  Creating param and reweight cards in ../../../data/mg_processes/wgamma/\n",
      "22:25  Creating param and reweight cards in ../../../data/mg_processes/wgamma/\n",
      "22:25  Creating param and reweight cards in ../../../data/mg_processes/wgamma/\n",
      "22:25  Creating param and reweight cards in ../../../data/mg_processes/wgamma/\n",
      "22:25  Creating param and reweight cards in ../../../data/mg_processes/wgamma/\n",
      "22:25  Creating param and reweight cards in ../../../data/mg_processes/wgamma/\n",
      "22:25  Creating param and reweight cards in ../../../data/mg_processes/wgamma/\n",
      "22:25  Creating param and reweight cards in ../../../data/mg_processes/wgamma/\n",
      "22:25  Creating param and reweight cards in ../../../data/mg_processes/wgamma/\n",
      "22:25  Creating param and reweight cards in ../../../data/mg_processes/wgamma/\n",
      "22:25  Creating param and reweight cards in ../../../data/mg_processes/wgamma/\n",
      "22:25  Creating param and reweight cards in ../../../data/mg_processes/wgamma/\n",
      "22:25  Creating param and reweight cards in ../../../data/mg_processes/wgamma/\n",
      "22:25  Creating param and reweight cards in ../../../data/mg_processes/wgamma/\n",
      "22:25  Creating param and reweight cards in ../../../data/mg_processes/wgamma/\n",
      "22:25  Creating param and reweight cards in ../../../data/mg_processes/wgamma/\n",
      "22:25  Creating param and reweight cards in ../../../data/mg_processes/wgamma/\n",
      "22:25  Creating param and reweight cards in ../../../data/mg_processes/wgamma/\n",
      "22:25  Creating param and reweight cards in ../../../data/mg_processes/wgamma/\n",
      "22:25  Creating param and reweight cards in ../../../data/mg_processes/wgamma/\n",
      "22:25  Creating param and reweight cards in ../../../data/mg_processes/wgamma/\n",
      "22:25  Creating param and reweight cards in ../../../data/mg_processes/wgamma/\n",
      "22:25  Creating param and reweight cards in ../../../data/mg_processes/wgamma/\n",
      "22:25  Creating param and reweight cards in ../../../data/mg_processes/wgamma/\n",
      "22:25  Creating param and reweight cards in ../../../data/mg_processes/wgamma/\n",
      "22:25  Creating param and reweight cards in ../../../data/mg_processes/wgamma/\n",
      "22:25  Creating param and reweight cards in ../../../data/mg_processes/wgamma/\n",
      "22:25  Creating param and reweight cards in ../../../data/mg_processes/wgamma/\n",
      "22:25  Creating param and reweight cards in ../../../data/mg_processes/wgamma/\n",
      "22:25  Creating param and reweight cards in ../../../data/mg_processes/wgamma/\n",
      "22:25  Creating param and reweight cards in ../../../data/mg_processes/wgamma/\n",
      "22:25  Creating param and reweight cards in ../../../data/mg_processes/wgamma/\n",
      "22:25  Creating param and reweight cards in ../../../data/mg_processes/wgamma/\n",
      "22:25  Creating param and reweight cards in ../../../data/mg_processes/wgamma/\n",
      "22:25  Creating param and reweight cards in ../../../data/mg_processes/wgamma/\n",
      "22:25  Creating param and reweight cards in ../../../data/mg_processes/wgamma/\n",
      "22:25  Creating param and reweight cards in ../../../data/mg_processes/wgamma/\n",
      "22:25  Creating param and reweight cards in ../../../data/mg_processes/wgamma/\n",
      "22:25  Creating param and reweight cards in ../../../data/mg_processes/wgamma/\n",
      "22:25  Creating param and reweight cards in ../../../data/mg_processes/wgamma/\n",
      "22:25  Creating param and reweight cards in ../../../data/mg_processes/wgamma/\n",
      "22:25  Creating param and reweight cards in ../../../data/mg_processes/wgamma/\n",
      "22:25  Creating param and reweight cards in ../../../data/mg_processes/wgamma/\n",
      "22:25  Creating param and reweight cards in ../../../data/mg_processes/wgamma/\n",
      "22:25  Creating param and reweight cards in ../../../data/mg_processes/wgamma/\n",
      "22:25  Creating param and reweight cards in ../../../data/mg_processes/wgamma/\n",
      "22:25  Creating param and reweight cards in ../../../data/mg_processes/wgamma/\n",
      "22:25  Creating param and reweight cards in ../../../data/mg_processes/wgamma/\n",
      "22:25  Creating param and reweight cards in ../../../data/mg_processes/wgamma/\n",
      "22:25  Creating param and reweight cards in ../../../data/mg_processes/wgamma/\n",
      "22:25  Creating param and reweight cards in ../../../data/mg_processes/wgamma/\n",
      "22:25  Creating param and reweight cards in ../../../data/mg_processes/wgamma/\n",
      "22:25  Creating param and reweight cards in ../../../data/mg_processes/wgamma/\n",
      "22:25  Creating param and reweight cards in ../../../data/mg_processes/wgamma/\n",
      "22:25  Creating param and reweight cards in ../../../data/mg_processes/wgamma/\n",
      "22:25  Creating param and reweight cards in ../../../data/mg_processes/wgamma/\n",
      "22:25  Creating param and reweight cards in ../../../data/mg_processes/wgamma/\n",
      "22:25  Creating param and reweight cards in ../../../data/mg_processes/wgamma/\n",
      "22:25  Creating param and reweight cards in ../../../data/mg_processes/wgamma/\n",
      "22:25  Creating param and reweight cards in ../../../data/mg_processes/wgamma/\n",
      "22:25  Creating param and reweight cards in ../../../data/mg_processes/wgamma/\n",
      "22:25  Creating param and reweight cards in ../../../data/mg_processes/wgamma/\n",
      "22:25  Creating param and reweight cards in ../../../data/mg_processes/wgamma/\n",
      "22:25  Creating param and reweight cards in ../../../data/mg_processes/wgamma/\n",
      "22:25  Creating param and reweight cards in ../../../data/mg_processes/wgamma/\n",
      "22:25  Creating param and reweight cards in ../../../data/mg_processes/wgamma/\n"
     ]
    },
    {
     "name": "stdout",
     "output_type": "stream",
     "text": [
      "Starting run card 0, benchmark sm\n",
      "Starting run card 0, benchmark morphing_basis_vector_1\n",
      "Starting run card 0, benchmark morphing_basis_vector_2\n",
      "Starting run card 0, benchmark morphing_basis_vector_3\n",
      "Starting run card 0, benchmark morphing_basis_vector_4\n",
      "Starting run card 0, benchmark morphing_basis_vector_5\n",
      "Starting run card 1, benchmark sm\n",
      "Starting run card 1, benchmark morphing_basis_vector_1\n",
      "Starting run card 1, benchmark morphing_basis_vector_2\n",
      "Starting run card 1, benchmark morphing_basis_vector_3\n",
      "Starting run card 1, benchmark morphing_basis_vector_4\n",
      "Starting run card 1, benchmark morphing_basis_vector_5\n",
      "Starting run card 2, benchmark sm\n",
      "Starting run card 2, benchmark morphing_basis_vector_1\n",
      "Starting run card 2, benchmark morphing_basis_vector_2\n",
      "Starting run card 2, benchmark morphing_basis_vector_3\n",
      "Starting run card 2, benchmark morphing_basis_vector_4\n",
      "Starting run card 2, benchmark morphing_basis_vector_5\n",
      "Starting run card 3, benchmark sm\n",
      "Starting run card 3, benchmark morphing_basis_vector_1\n",
      "Starting run card 3, benchmark morphing_basis_vector_2\n",
      "Starting run card 3, benchmark morphing_basis_vector_3\n",
      "Starting run card 3, benchmark morphing_basis_vector_4\n",
      "Starting run card 3, benchmark morphing_basis_vector_5\n",
      "Starting run card 4, benchmark sm\n",
      "Starting run card 4, benchmark morphing_basis_vector_1\n",
      "Starting run card 4, benchmark morphing_basis_vector_2\n",
      "Starting run card 4, benchmark morphing_basis_vector_3\n",
      "Starting run card 4, benchmark morphing_basis_vector_4\n",
      "Starting run card 4, benchmark morphing_basis_vector_5\n",
      "Starting run card 5, benchmark sm\n",
      "Starting run card 5, benchmark morphing_basis_vector_1\n",
      "Starting run card 5, benchmark morphing_basis_vector_2\n",
      "Starting run card 5, benchmark morphing_basis_vector_3\n",
      "Starting run card 5, benchmark morphing_basis_vector_4\n",
      "Starting run card 5, benchmark morphing_basis_vector_5\n",
      "Starting run card 6, benchmark sm\n",
      "Starting run card 6, benchmark morphing_basis_vector_1\n",
      "Starting run card 6, benchmark morphing_basis_vector_2\n",
      "Starting run card 6, benchmark morphing_basis_vector_3\n",
      "Starting run card 6, benchmark morphing_basis_vector_4\n",
      "Starting run card 6, benchmark morphing_basis_vector_5\n",
      "Starting run card 7, benchmark sm\n",
      "Starting run card 7, benchmark morphing_basis_vector_1\n",
      "Starting run card 7, benchmark morphing_basis_vector_2\n",
      "Starting run card 7, benchmark morphing_basis_vector_3\n",
      "Starting run card 7, benchmark morphing_basis_vector_4\n",
      "Starting run card 7, benchmark morphing_basis_vector_5\n",
      "Starting run card 8, benchmark sm\n",
      "Starting run card 8, benchmark morphing_basis_vector_1\n",
      "Starting run card 8, benchmark morphing_basis_vector_2\n",
      "Starting run card 8, benchmark morphing_basis_vector_3\n",
      "Starting run card 8, benchmark morphing_basis_vector_4\n",
      "Starting run card 8, benchmark morphing_basis_vector_5\n",
      "Starting run card 9, benchmark sm\n",
      "Starting run card 9, benchmark morphing_basis_vector_1\n",
      "Starting run card 9, benchmark morphing_basis_vector_2\n",
      "Starting run card 9, benchmark morphing_basis_vector_3\n",
      "Starting run card 9, benchmark morphing_basis_vector_4\n",
      "Starting run card 9, benchmark morphing_basis_vector_5\n",
      "Starting run card 10, benchmark sm\n",
      "Starting run card 10, benchmark morphing_basis_vector_1\n",
      "Starting run card 10, benchmark morphing_basis_vector_2\n",
      "Starting run card 10, benchmark morphing_basis_vector_3\n",
      "Starting run card 10, benchmark morphing_basis_vector_4\n",
      "Starting run card 10, benchmark morphing_basis_vector_5\n",
      "Starting run card 11, benchmark sm\n",
      "Starting run card 11, benchmark morphing_basis_vector_1\n",
      "Starting run card 11, benchmark morphing_basis_vector_2\n",
      "Starting run card 11, benchmark morphing_basis_vector_3\n",
      "Starting run card 11, benchmark morphing_basis_vector_4\n",
      "Starting run card 11, benchmark morphing_basis_vector_5\n",
      "Starting run card 12, benchmark sm\n",
      "Starting run card 12, benchmark morphing_basis_vector_1\n",
      "Starting run card 12, benchmark morphing_basis_vector_2\n",
      "Starting run card 12, benchmark morphing_basis_vector_3\n",
      "Starting run card 12, benchmark morphing_basis_vector_4\n",
      "Starting run card 12, benchmark morphing_basis_vector_5\n",
      "Starting run card 13, benchmark sm\n",
      "Starting run card 13, benchmark morphing_basis_vector_1\n",
      "Starting run card 13, benchmark morphing_basis_vector_2\n",
      "Starting run card 13, benchmark morphing_basis_vector_3\n",
      "Starting run card 13, benchmark morphing_basis_vector_4\n",
      "Starting run card 13, benchmark morphing_basis_vector_5\n"
     ]
    },
    {
     "name": "stderr",
     "output_type": "stream",
     "text": [
      "22:25  Creating param and reweight cards in ../../../data/mg_processes/wgamma/\n",
      "22:25  Creating param and reweight cards in ../../../data/mg_processes/wgamma/\n",
      "22:25  Creating param and reweight cards in ../../../data/mg_processes/wgamma/\n",
      "22:25  Creating param and reweight cards in ../../../data/mg_processes/wgamma/\n",
      "22:25  Creating param and reweight cards in ../../../data/mg_processes/wgamma/\n",
      "22:25  Creating param and reweight cards in ../../../data/mg_processes/wgamma/\n",
      "22:25  Creating param and reweight cards in ../../../data/mg_processes/wgamma/\n",
      "22:25  Creating param and reweight cards in ../../../data/mg_processes/wgamma/\n",
      "22:25  Creating param and reweight cards in ../../../data/mg_processes/wgamma/\n",
      "22:25  Creating param and reweight cards in ../../../data/mg_processes/wgamma/\n",
      "22:25  Creating param and reweight cards in ../../../data/mg_processes/wgamma/\n",
      "22:25  Creating param and reweight cards in ../../../data/mg_processes/wgamma/\n",
      "22:25  Creating param and reweight cards in ../../../data/mg_processes/wgamma/\n",
      "22:25  Creating param and reweight cards in ../../../data/mg_processes/wgamma/\n",
      "22:25  Creating param and reweight cards in ../../../data/mg_processes/wgamma/\n",
      "22:25  Creating param and reweight cards in ../../../data/mg_processes/wgamma/\n",
      "22:25  Creating param and reweight cards in ../../../data/mg_processes/wgamma/\n",
      "22:25  Creating param and reweight cards in ../../../data/mg_processes/wgamma/\n",
      "22:25  Creating param and reweight cards in ../../../data/mg_processes/wgamma/\n",
      "22:25  Creating param and reweight cards in ../../../data/mg_processes/wgamma/\n",
      "22:25  Creating param and reweight cards in ../../../data/mg_processes/wgamma/\n",
      "22:25  Creating param and reweight cards in ../../../data/mg_processes/wgamma/\n",
      "22:25  Creating param and reweight cards in ../../../data/mg_processes/wgamma/\n",
      "22:25  Creating param and reweight cards in ../../../data/mg_processes/wgamma/\n"
     ]
    },
    {
     "name": "stdout",
     "output_type": "stream",
     "text": [
      "Starting run card 14, benchmark sm\n",
      "Starting run card 14, benchmark morphing_basis_vector_1\n",
      "Starting run card 14, benchmark morphing_basis_vector_2\n",
      "Starting run card 14, benchmark morphing_basis_vector_3\n",
      "Starting run card 14, benchmark morphing_basis_vector_4\n",
      "Starting run card 14, benchmark morphing_basis_vector_5\n",
      "Starting run card 15, benchmark sm\n",
      "Starting run card 15, benchmark morphing_basis_vector_1\n",
      "Starting run card 15, benchmark morphing_basis_vector_2\n",
      "Starting run card 15, benchmark morphing_basis_vector_3\n",
      "Starting run card 15, benchmark morphing_basis_vector_4\n",
      "Starting run card 15, benchmark morphing_basis_vector_5\n",
      "Starting run card 16, benchmark sm\n",
      "Starting run card 16, benchmark morphing_basis_vector_1\n",
      "Starting run card 16, benchmark morphing_basis_vector_2\n",
      "Starting run card 16, benchmark morphing_basis_vector_3\n",
      "Starting run card 16, benchmark morphing_basis_vector_4\n",
      "Starting run card 16, benchmark morphing_basis_vector_5\n",
      "Starting run card 17, benchmark sm\n",
      "Starting run card 17, benchmark morphing_basis_vector_1\n",
      "Starting run card 17, benchmark morphing_basis_vector_2\n",
      "Starting run card 17, benchmark morphing_basis_vector_3\n",
      "Starting run card 17, benchmark morphing_basis_vector_4\n",
      "Starting run card 17, benchmark morphing_basis_vector_5\n"
     ]
    }
   ],
   "source": [
    "for i_run, run_card_filename in enumerate(run_card_filenames):\n",
    "    for i_benchmark, benchmark in enumerate(benchmarks):\n",
    "        print('Starting run card {}, benchmark {}'.format(i_run, benchmark))\n",
    "        \n",
    "        mm.export_cards(\n",
    "            param_card_template_file=card_dir + 'param_card.dat',\n",
    "            reweight_card_template_file=card_dir + 'reweight_card.dat',\n",
    "            mg_process_directory=mg_process_dir,\n",
    "            sample_benchmark=benchmark\n",
    "        )\n",
    "        \n",
    "        #mm.run_mg_pythia(\n",
    "        #    mg_directory=mg_dir,\n",
    "        #    mg_process_directory=mg_process_dir,\n",
    "        #    temp_directory=temp_dir,\n",
    "        #    run_card_file=run_card_dir + run_card_filename,\n",
    "        #    is_background=False,\n",
    "        #    initial_command='source activate python2',\n",
    "        #    log_file=log_dir + 'run_mg_run_{}_{}.log'.format(i_run, benchmark)\n",
    "        #)"
   ]
  },
  {
   "cell_type": "code",
   "execution_count": null,
   "metadata": {},
   "outputs": [],
   "source": []
  }
 ],
 "metadata": {
  "kernelspec": {
   "display_name": "Python [default]",
   "language": "python",
   "name": "python3"
  },
  "language_info": {
   "codemirror_mode": {
    "name": "ipython",
    "version": 3
   },
   "file_extension": ".py",
   "mimetype": "text/x-python",
   "name": "python",
   "nbconvert_exporter": "python",
   "pygments_lexer": "ipython3",
   "version": "3.6.4"
  }
 },
 "nbformat": 4,
 "nbformat_minor": 2
}
