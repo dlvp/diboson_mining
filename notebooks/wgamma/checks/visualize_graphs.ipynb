{
 "cells": [
  {
   "cell_type": "markdown",
   "metadata": {
    "nbpresent": {
     "id": "f9deb73c-b62f-4cff-8d83-724074098c92"
    }
   },
   "source": [
    "# Visualize computational graphs\n",
    "\n",
    "Johann Brehmer, Kyle Cranmer, Marco Farina, Felix Kling, Duccio Pappadopulo, Josh Ruderman 2018"
   ]
  },
  {
   "cell_type": "code",
   "execution_count": 1,
   "metadata": {
    "nbpresent": {
     "id": "fe57a76c-4838-44c4-b0cc-5ee166785e4a"
    }
   },
   "outputs": [],
   "source": [
    "from __future__ import absolute_import, division, print_function, unicode_literals\n",
    "\n",
    "import numpy as np\n",
    "import matplotlib\n",
    "from matplotlib import pyplot as plt\n",
    "%matplotlib inline\n",
    "import logging\n",
    "import os\n",
    "%load_ext line_profiler\n",
    "from torch.autograd import profiler\n",
    "from torchviz import make_dot\n",
    "\n",
    "from madminer.sampling import SampleAugmenter\n",
    "from madminer.sampling import multiple_benchmark_thetas\n",
    "from madminer.sampling import constant_morphing_theta, multiple_morphing_thetas, random_morphing_thetas\n",
    "from madminer.ml import MLForge, EnsembleForge\n",
    "from madminer.utils.ml.ratio_trainer import train_ratio_model\n",
    "from madminer.utils.ml.models.ratio import ParameterizedRatioEstimator\n"
   ]
  },
  {
   "cell_type": "code",
   "execution_count": 2,
   "metadata": {},
   "outputs": [],
   "source": [
    "logging.basicConfig(\n",
    "    format='%(asctime)-5.5s %(name)-20.20s %(levelname)-7.7s %(message)s',\n",
    "    datefmt='%H:%M',\n",
    "    level=logging.WARNING\n",
    ")\n",
    "\n",
    "for key in logging.Logger.manager.loggerDict:\n",
    "    if \"madminer\" not in key:\n",
    "        logging.getLogger(key).setLevel(logging.WARNING)"
   ]
  },
  {
   "cell_type": "code",
   "execution_count": 3,
   "metadata": {
    "nbpresent": {
     "id": "f3463c40-6421-42a1-8681-527c3ec42541"
    }
   },
   "outputs": [],
   "source": [
    "base_dir = '/Users/johannbrehmer/work/projects/madminer/diboson_mining/'\n",
    "mg_dir = '/Users/johannbrehmer/work/projects/madminer/MG5_aMC_v2_6_4/'"
   ]
  },
  {
   "cell_type": "code",
   "execution_count": 14,
   "metadata": {
    "nbpresent": {
     "id": "b2c73eca-c625-4f7a-9cee-4ccb2dcbb3e9"
    }
   },
   "outputs": [],
   "source": [
    "sample_dir = base_dir + 'data/samples/wgamma_sys/'\n",
    "card_dir = base_dir + 'cards/wgamma/'\n",
    "ufo_model_dir = card_dir + 'SMWgamma_UFO'\n",
    "run_card_dir = card_dir + 'run_cards/'\n",
    "mg_process_dir = base_dir + 'data/mg_processes/wgamma_sys/'\n",
    "log_dir = base_dir + 'logs/wgamma_sys/'\n",
    "temp_dir = base_dir + 'data/temp'\n",
    "delphes_dir = mg_dir + 'Delphes'\n",
    "model_dir = base_dir + 'data/models/wgamma_sys/'\n",
    "figure_dir = base_dir + 'figures/wgamma/'"
   ]
  },
  {
   "cell_type": "markdown",
   "metadata": {},
   "source": [
    "## Calculate computational graphs"
   ]
  },
  {
   "cell_type": "code",
   "execution_count": 21,
   "metadata": {},
   "outputs": [],
   "source": [
    "ml = MLForge()\n",
    "\n",
    "batch_size = 6\n",
    "\n",
    "loss_rolr, params_rolr = ml.train(\n",
    "    method='rolr',\n",
    "    x_filename=sample_dir + 'train_ratio_tight/x_train_0.npy',\n",
    "    theta0_filename=sample_dir + 'train_ratio_tight/theta0_train_0.npy',\n",
    "    r_xz_filename=sample_dir + 'train_ratio_tight/r_xz_train_0.npy',\n",
    "    y_filename=sample_dir + 'train_ratio_tight/y_train_0.npy',\n",
    "    limit_samplesize=batch_size,\n",
    "    batch_size=batch_size,\n",
    "    return_first_loss=True\n",
    ")\n",
    "\n",
    "loss_rascal, params_rascal = ml.train(\n",
    "    method='rascal',\n",
    "    x_filename=sample_dir + 'train_ratio_tight/x_train_0.npy',\n",
    "    theta0_filename=sample_dir + 'train_ratio_tight/theta0_train_0.npy',\n",
    "    t_xz0_filename=sample_dir + 'train_ratio_tight/t_xz_train_0.npy',\n",
    "    r_xz_filename=sample_dir + 'train_ratio_tight/r_xz_train_0.npy',\n",
    "    y_filename=sample_dir + 'train_ratio_tight/y_train_0.npy',\n",
    "    limit_samplesize=batch_size,\n",
    "    batch_size=batch_size,\n",
    "    return_first_loss=True\n",
    ")\n",
    "\n",
    "loss_nde, params_nde = ml.train(\n",
    "    method='nde',\n",
    "    x_filename=sample_dir + 'train_scandal_tight/x_train_0.npy',\n",
    "    theta0_filename=sample_dir + 'train_scandal_tight/theta_train_0.npy',\n",
    "    limit_samplesize=batch_size,\n",
    "    batch_size=batch_size,\n",
    "    return_first_loss=True,\n",
    "    maf_mog_n_components=4,\n",
    "    maf_n_mades=2,\n",
    "    n_hidden=(100,),\n",
    "    \n",
    ")\n",
    "\n",
    "loss_scandal, params_scandal = ml.train(\n",
    "    method='scandal',\n",
    "    x_filename=sample_dir + 'train_scandal_tight/x_train_0.npy',\n",
    "    theta0_filename=sample_dir + 'train_scandal_tight/theta_train_0.npy',\n",
    "    t_xz0_filename=sample_dir + 'train_scandal_tight/t_xz_train_0.npy',\n",
    "    limit_samplesize=batch_size,\n",
    "    batch_size=batch_size,\n",
    "    return_first_loss=True,\n",
    "    maf_mog_n_components=4,\n",
    "    maf_n_mades=2,\n",
    "    n_hidden=(100,),\n",
    ")"
   ]
  },
  {
   "cell_type": "markdown",
   "metadata": {},
   "source": [
    "## ROLR graph"
   ]
  },
  {
   "cell_type": "code",
   "execution_count": 22,
   "metadata": {},
   "outputs": [
    {
     "data": {
      "text/plain": [
       "'/Users/johannbrehmer/work/projects/madminer/diboson_mining/figures/wgamma/graphs/rolr.pdf'"
      ]
     },
     "execution_count": 22,
     "metadata": {},
     "output_type": "execute_result"
    }
   ],
   "source": [
    "dot = make_dot(loss_rolr, params=params_rolr)\n",
    "dot.render(figure_dir + 'graphs/rolr')"
   ]
  },
  {
   "cell_type": "markdown",
   "metadata": {},
   "source": [
    "## RASCAL graph"
   ]
  },
  {
   "cell_type": "code",
   "execution_count": 23,
   "metadata": {},
   "outputs": [
    {
     "data": {
      "text/plain": [
       "'/Users/johannbrehmer/work/projects/madminer/diboson_mining/figures/wgamma/graphs/rascal.pdf'"
      ]
     },
     "execution_count": 23,
     "metadata": {},
     "output_type": "execute_result"
    }
   ],
   "source": [
    "dot = make_dot(loss_rascal, params=params_rascal)\n",
    "dot.render(figure_dir + 'graphs/rascal')"
   ]
  },
  {
   "cell_type": "markdown",
   "metadata": {},
   "source": [
    "## NDE graph"
   ]
  },
  {
   "cell_type": "code",
   "execution_count": 24,
   "metadata": {},
   "outputs": [
    {
     "data": {
      "text/plain": [
       "'/Users/johannbrehmer/work/projects/madminer/diboson_mining/figures/wgamma/graphs/nde.pdf'"
      ]
     },
     "execution_count": 24,
     "metadata": {},
     "output_type": "execute_result"
    }
   ],
   "source": [
    "dot = make_dot(loss_nde, params=params_nde)\n",
    "dot.render(figure_dir + 'graphs/nde')"
   ]
  },
  {
   "cell_type": "markdown",
   "metadata": {},
   "source": [
    "## SCANDAL graph"
   ]
  },
  {
   "cell_type": "code",
   "execution_count": 25,
   "metadata": {},
   "outputs": [
    {
     "data": {
      "text/plain": [
       "'/Users/johannbrehmer/work/projects/madminer/diboson_mining/figures/wgamma/graphs/scandal.pdf'"
      ]
     },
     "execution_count": 25,
     "metadata": {},
     "output_type": "execute_result"
    }
   ],
   "source": [
    "dot = make_dot(loss_scandal, params=params_scandal)\n",
    "dot.render(figure_dir + 'graphs/scandal')"
   ]
  },
  {
   "cell_type": "code",
   "execution_count": null,
   "metadata": {},
   "outputs": [],
   "source": []
  }
 ],
 "metadata": {
  "kernelspec": {
   "display_name": "Python 3",
   "language": "python",
   "name": "python3"
  },
  "language_info": {
   "codemirror_mode": {
    "name": "ipython",
    "version": 3
   },
   "file_extension": ".py",
   "mimetype": "text/x-python",
   "name": "python",
   "nbconvert_exporter": "python",
   "pygments_lexer": "ipython3",
   "version": "3.6.7"
  }
 },
 "nbformat": 4,
 "nbformat_minor": 2
}
