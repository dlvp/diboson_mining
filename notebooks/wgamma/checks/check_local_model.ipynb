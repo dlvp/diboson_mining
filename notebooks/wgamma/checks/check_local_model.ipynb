{
 "cells": [
  {
   "cell_type": "markdown",
   "metadata": {},
   "source": [
    "# Checking local model"
   ]
  },
  {
   "cell_type": "code",
   "execution_count": 1,
   "metadata": {},
   "outputs": [],
   "source": [
    "from __future__ import absolute_import, division, print_function, unicode_literals\n",
    "\n",
    "import numpy as np\n",
    "import matplotlib\n",
    "from matplotlib import pyplot as plt\n",
    "% matplotlib inline\n",
    "import logging\n",
    "import os\n",
    "\n",
    "from madminer.sampling import SampleAugmenter\n",
    "from madminer.sampling import multiple_benchmark_thetas\n",
    "from madminer.sampling import constant_morphing_theta, multiple_morphing_thetas, random_morphing_thetas\n",
    "\n",
    "logging.basicConfig(format='%(asctime)s  %(message)s', datefmt='%H:%M')\n",
    "\n"
   ]
  },
  {
   "cell_type": "code",
   "execution_count": 2,
   "metadata": {},
   "outputs": [],
   "source": [
    "base_dir = '/Users/johannbrehmer/work/projects/madminer/diboson_mining/'\n",
    "mg_dir = '/Users/johannbrehmer/work/projects/madminer/MG5_aMC_v2_6_2/'"
   ]
  },
  {
   "cell_type": "code",
   "execution_count": 3,
   "metadata": {},
   "outputs": [],
   "source": [
    "sample_dir = base_dir + 'data/samples/wgamma/'\n",
    "card_dir = base_dir + 'cards/wgamma/'\n",
    "ufo_model_dir = card_dir + 'SMWgamma_UFO'\n",
    "run_card_dir = card_dir + 'run_cards/'\n",
    "mg_process_dir = base_dir + 'data/mg_processes/wgamma/'\n",
    "log_dir = base_dir + 'logs/wgamma/'\n",
    "temp_dir = base_dir + 'data/temp'\n",
    "delphes_dir = mg_dir + 'Delphes'"
   ]
  },
  {
   "cell_type": "markdown",
   "metadata": {},
   "source": [
    "## Get joint ratios and scores"
   ]
  },
  {
   "cell_type": "code",
   "execution_count": 4,
   "metadata": {},
   "outputs": [
    {
     "name": "stderr",
     "output_type": "stream",
     "text": [
      "10:47  \n",
      "10:47  ------------------------------------------------------------\n",
      "10:47  |                                                          |\n",
      "10:47  |  MadMiner v2018.11.13                                    |\n",
      "10:47  |                                                          |\n",
      "10:47  |           Johann Brehmer, Kyle Cranmer, and Felix Kling  |\n",
      "10:47  |                                                          |\n",
      "10:47  ------------------------------------------------------------\n",
      "10:47  \n",
      "10:47  Loading data from /Users/johannbrehmer/work/projects/madminer/diboson_mining/data/samples/wgamma/samples_tight.h5\n",
      "10:47  Found 2 parameters:\n",
      "10:47     cWWW (LHA: dim6 1, maximal power in squared ME: (2,), range: (-0.02, 0.02))\n",
      "10:47     cWWWtilde (LHA: dim6 2, maximal power in squared ME: (2,), range: (-0.02, 0.02))\n",
      "10:47  Found 6 benchmarks:\n",
      "10:47     sm: cWWW = 0.00e+00, cWWWtilde = 0.00e+00\n",
      "10:47     morphing_basis_vector_1: cWWW = -6.07e-03, cWWWtilde = -1.84e-02\n",
      "10:47     morphing_basis_vector_2: cWWW = 1.00e-02, cWWWtilde = 1.70e-02\n",
      "10:47     morphing_basis_vector_3: cWWW = -1.99e-02, cWWWtilde = 1.87e-02\n",
      "10:47     morphing_basis_vector_4: cWWW = 1.97e-02, cWWWtilde = -1.53e-02\n",
      "10:47     morphing_basis_vector_5: cWWW = -1.65e-02, cWWWtilde = -6.33e-03\n",
      "10:47  Found 27 observables: et_miss, phi_miss, e_visible, eta_visible, e_l1, pt_l1, eta_l1, phi_l1, e_a1, pt_a1, eta_a1, phi_a1, e_j1, pt_j1, eta_j1, phi_j1, deltaphi_l1_met, deltaphi_a1_met, m_l1_met, pt_l1_met, m_l1_a1, deltaeta_l1_a1, deltaphi_l1_a1, m_a1_l1_met, pt_a1_l1_met, mt, phi_resurrection\n",
      "10:47  Found 1207773 events\n",
      "10:47  Found morphing setup with 6 components\n"
     ]
    }
   ],
   "source": [
    "sa = SampleAugmenter(sample_dir + 'samples_tight.h5', debug=False)"
   ]
  },
  {
   "cell_type": "code",
   "execution_count": 6,
   "metadata": {},
   "outputs": [
    {
     "name": "stdout",
     "output_type": "stream",
     "text": [
      "Help on method extract_samples_train_ratio in module madminer.sampling:\n",
      "\n",
      "extract_samples_train_ratio(theta0, theta1, n_samples, folder, filename, test_split=0.5, switch_train_test_events=False) method of madminer.sampling.SampleAugmenter instance\n",
      "    Extracts training samples `x ~ p(x|theta0)` and `x ~ p(x|theta1)` together with the class label `y`, the joint\n",
      "    likelihood ratio `r(x,z|theta0, theta1)`, and the joint score `t(x,z|theta0)`. This information can be used in\n",
      "    inference methods such as CARL, ROLR, CASCAL, and RASCAL.\n",
      "    \n",
      "    Parameters\n",
      "    ----------\n",
      "    theta0 : tuple\n",
      "        Tuple (type, value) that defines the numerator parameter point or prior over parameter points for the\n",
      "        sampling. Pass the output of the functions `constant_benchmark_theta()`, `multiple_benchmark_thetas()`,\n",
      "        `constant_morphing_theta()`, `multiple_morphing_thetas()`, or `random_morphing_thetas()`.\n",
      "    \n",
      "    theta1 : tuple\n",
      "        Tuple (type, value) that defines the denominator parameter point or prior over parameter points for the\n",
      "        sampling. Pass the output of the functions `constant_benchmark_theta()`, `multiple_benchmark_thetas()`,\n",
      "        `constant_morphing_theta()`, `multiple_morphing_thetas()`, or `random_morphing_thetas()`.\n",
      "    \n",
      "    n_samples : int\n",
      "        Total number of events to be drawn.\n",
      "    \n",
      "    folder : str\n",
      "        Path to the folder where the resulting samples should be saved (ndarrays in .npy format).\n",
      "    \n",
      "    filename : str\n",
      "        Filenames for the resulting samples. A prefix such as 'x' or 'theta0' as well as the extension\n",
      "        '.npy' will be added automatically.\n",
      "    \n",
      "    test_split : float or None, optional\n",
      "        Fraction of events reserved for the evaluation sample (that will not be used for any training samples).\n",
      "        Default value: 0.5.\n",
      "    \n",
      "    switch_train_test_events : bool, optional\n",
      "        If True, this function generates a training sample from the events normally reserved for test samples.\n",
      "        Default value: False.\n",
      "    \n",
      "    Returns\n",
      "    -------\n",
      "    x : ndarray\n",
      "        Observables with shape `(n_samples, n_observables)`. The same information is saved as a file in the given\n",
      "        folder.\n",
      "    \n",
      "    theta0 : ndarray\n",
      "        Numerator parameter points with shape `(n_samples, n_parameters)`. The same information is saved as\n",
      "        a file in the given folder.\n",
      "    \n",
      "    theta1 : ndarray\n",
      "        Denominator parameter points with shape `(n_samples, n_parameters)`. The same information is saved as\n",
      "        a file in the given folder.\n",
      "    \n",
      "    y : ndarray\n",
      "        Class label with shape `(n_samples, n_parameters)`. `y=0` (`1`) for events sample from the numerator\n",
      "        (denominator) hypothesis. The same information is saved as a file in the given folder.\n",
      "    \n",
      "    r_xz : ndarray\n",
      "        Joint likelihood ratio with shape `(n_samples,)`. The same information is saved as a file in the given\n",
      "        folder.\n",
      "    \n",
      "    t_xz : ndarray\n",
      "        Joint score evaluated at theta0 with shape `(n_samples, n_parameters)`. The same information is saved as a\n",
      "        file in the given folder.\n",
      "\n"
     ]
    }
   ],
   "source": [
    "help(sa.extract_samples_train_ratio)"
   ]
  },
  {
   "cell_type": "code",
   "execution_count": 33,
   "metadata": {},
   "outputs": [
    {
     "name": "stderr",
     "output_type": "stream",
     "text": [
      "11:09  Extracting training sample for ratio-based methods. Numerator hypothesis: ('random', (100, [('gaussian', 0.0, 0.001), ('gaussian', 0.0, 1e-06)])), denominator hypothesis: ('theta', array([0., 0.]))\n",
      "11:09  Effective number of samples: mean 2247.530095191648, with individual thetas ranging from 1018.3941471222727 to 2289.329579938781\n",
      "11:09  Effective number of samples: mean 2289.4849728559093, with individual thetas ranging from 2289.484972855909 to 2289.484972855909\n"
     ]
    }
   ],
   "source": [
    "_, theta0_0, _, _, r_xz_0, t_xz_0 = sa.extract_samples_train_ratio(\n",
    "        theta0=random_morphing_thetas(100, [('gaussian', 0., 0.001), ('gaussian', 0., 0.000001)]),\n",
    "        theta1=constant_morphing_theta([0.,0.]),\n",
    "        n_samples=10000,\n",
    "        folder=None,\n",
    "        filename=None\n",
    "    )"
   ]
  },
  {
   "cell_type": "code",
   "execution_count": 34,
   "metadata": {},
   "outputs": [
    {
     "name": "stderr",
     "output_type": "stream",
     "text": [
      "11:09  Extracting training sample for ratio-based methods. Numerator hypothesis: ('random', (100, [('gaussian', 0.0, 1e-06), ('gaussian', 0.0, 0.001)])), denominator hypothesis: ('theta', array([0., 0.]))\n",
      "11:10  Effective number of samples: mean 2237.856106860685, with individual thetas ranging from 909.6252229731813 to 2289.4063408348447\n",
      "11:10  Effective number of samples: mean 2289.4849728559093, with individual thetas ranging from 2289.484972855909 to 2289.484972855909\n"
     ]
    }
   ],
   "source": [
    "_, theta0_1, _, _, r_xz_1, t_xz_1 = sa.extract_samples_train_ratio(\n",
    "        theta0=random_morphing_thetas(100, [('gaussian', 0., 0.000001), ('gaussian', 0., 0.001)]),\n",
    "        theta1=constant_morphing_theta([0.,0.]),\n",
    "        n_samples=10000,\n",
    "        folder=None,\n",
    "        filename=None\n",
    "    )"
   ]
  },
  {
   "cell_type": "code",
   "execution_count": 35,
   "metadata": {},
   "outputs": [],
   "source": [
    "tthat_0 = np.einsum(\"ni,ni->n\", t_xz_0, theta0_0)\n",
    "tthat_1 = np.einsum(\"ni,ni->n\", t_xz_1, theta0_1)\n",
    "\n",
    "logr_0 = np.log(r_xz_0)\n",
    "logr_1 = np.log(r_xz_1)\n",
    "\n",
    "dtheta_0 = np.linalg.norm(theta0_0, axis=1)\n",
    "dtheta_1 = np.linalg.norm(theta0_1, axis=1)"
   ]
  },
  {
   "cell_type": "markdown",
   "metadata": {},
   "source": [
    "## Plot r vs t"
   ]
  },
  {
   "cell_type": "code",
   "execution_count": 41,
   "metadata": {},
   "outputs": [
    {
     "data": {
      "image/png": "[encoded data removed]",
      "text/plain": [
       "<Figure size 864x360 with 4 Axes>"
      ]
     },
     "metadata": {},
     "output_type": "display_data"
    }
   ],
   "source": [
    "skip=10\n",
    "xmin0, xmax0 = -0.1, 0.1\n",
    "xmin1, xmax1 = -0.1, 0.1\n",
    "\n",
    "fig = plt.figure(figsize=(12,5))\n",
    "\n",
    "ax = plt.subplot(1,2,1)\n",
    "plt.plot([-10.,10.], [-10.,10.], lw=1., ls='--', c='0.5')\n",
    "sc = plt.scatter(tthat_0[::skip], logr_0[::skip],\n",
    "                 c=dtheta_0[::skip], cmap='viridis', vmin=0., vmax=0.002,\n",
    "                 s=8., alpha=1.)\n",
    "plt.colorbar(sc)\n",
    "plt.xlim(xmin0, xmax0)\n",
    "plt.ylim(xmin0, xmax0)\n",
    "plt.ylabel(r'$\\log r(\\theta_0, \\theta_1)$')\n",
    "plt.xlabel(r'$(\\theta_0 - \\theta_1) \\cdot t(x,z | \\theta_1)$')\n",
    "\n",
    "ax = plt.subplot(1,2,2)\n",
    "plt.plot([-10.,10.], [-10.,10.], lw=1., ls='--', c='0.5')\n",
    "sc = plt.scatter(tthat_1[::skip], logr_1[::skip],\n",
    "                 c=dtheta_1[::skip], cmap='viridis', vmin=0., vmax=0.002,\n",
    "                 s=8., alpha=1.)\n",
    "plt.colorbar(sc)\n",
    "plt.xlim(xmin1, xmax1)\n",
    "plt.ylim(xmin1, xmax1)\n",
    "plt.ylabel(r'$\\log r(\\theta_0, \\theta_1)$')\n",
    "plt.xlabel(r'$(\\theta_0 - \\theta_1) \\cdot t(x,z | \\theta_1)$')\n",
    "\n",
    "plt.tight_layout()\n",
    "plt.savefig('local_model_breakdown.pdf')\n"
   ]
  },
  {
   "cell_type": "code",
   "execution_count": null,
   "metadata": {},
   "outputs": [],
   "source": []
  }
 ],
 "metadata": {
  "kernelspec": {
   "display_name": "Python (higgs_inference)",
   "language": "python",
   "name": "higgs_inference"
  },
  "language_info": {
   "codemirror_mode": {
    "name": "ipython",
    "version": 3
   },
   "file_extension": ".py",
   "mimetype": "text/x-python",
   "name": "python",
   "nbconvert_exporter": "python",
   "pygments_lexer": "ipython3",
   "version": "3.6.7"
  }
 },
 "nbformat": 4,
 "nbformat_minor": 2
}
