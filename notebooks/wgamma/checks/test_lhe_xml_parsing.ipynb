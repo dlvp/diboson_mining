{
 "cells": [
  {
   "cell_type": "code",
   "execution_count": 38,
   "metadata": {},
   "outputs": [],
   "source": [
    "from __future__ import absolute_import, division, print_function, unicode_literals\n",
    "\n",
    "import six\n",
    "from collections import OrderedDict\n",
    "import numpy as np\n",
    "import matplotlib\n",
    "from matplotlib import pyplot as plt\n",
    "%matplotlib inline\n",
    "import logging\n",
    "import os\n",
    "import xml.etree.ElementTree as ET\n"
   ]
  },
  {
   "cell_type": "code",
   "execution_count": 2,
   "metadata": {},
   "outputs": [],
   "source": [
    "logging.basicConfig(\n",
    "    format='%(asctime)-5.5s %(name)-20.20s %(levelname)-7.7s %(message)s',\n",
    "    datefmt='%H:%M',\n",
    "    level=logging.DEBUG\n",
    ")\n",
    "\n",
    "for key in logging.Logger.manager.loggerDict:\n",
    "    if \"madminer\" not in key:\n",
    "        logging.getLogger(key).setLevel(logging.WARNING)"
   ]
  },
  {
   "cell_type": "code",
   "execution_count": 3,
   "metadata": {},
   "outputs": [],
   "source": [
    "base_dir = '/Users/johannbrehmer/work/projects/madminer/diboson_mining/'\n",
    "mg_dir = '/Users/johannbrehmer/work/projects/madminer/MG5_aMC_v2_6_4/'"
   ]
  },
  {
   "cell_type": "code",
   "execution_count": 4,
   "metadata": {},
   "outputs": [],
   "source": [
    "sample_dir = base_dir + 'data/samples/wgamma_sys/'\n",
    "card_dir = base_dir + 'cards/wgamma/'\n",
    "ufo_model_dir = card_dir + 'SMWgamma_UFO'\n",
    "run_card_dir = card_dir + 'run_cards/'\n",
    "mg_process_dir = base_dir + 'data/mg_processes/wgamma_sys/'\n",
    "log_dir = base_dir + 'logs/wgamma_sys/'\n",
    "temp_dir = base_dir + 'data/temp'\n",
    "delphes_dir = mg_dir + 'Delphes'"
   ]
  },
  {
   "cell_type": "markdown",
   "metadata": {},
   "source": [
    "## Parse LHE file"
   ]
  },
  {
   "cell_type": "code",
   "execution_count": 5,
   "metadata": {},
   "outputs": [],
   "source": [
    "filename = mg_process_dir + \"/Events/run_01/unweighted_events.lhe\""
   ]
  },
  {
   "cell_type": "code",
   "execution_count": 7,
   "metadata": {},
   "outputs": [],
   "source": [
    "def untar_and_parse_lhe_file(filename):\n",
    "    # Untar event file\n",
    "    new_filename, extension = os.path.splitext(filename)\n",
    "    if extension == \".gz\":\n",
    "        if not os.path.exists(new_filename):\n",
    "            call_command(\"gunzip -k {}\".format(filename))\n",
    "        filename = new_filename\n",
    "\n",
    "    # In some cases, the LHE comments can contain bad characters\n",
    "    with open(filename, \"r\") as file:\n",
    "        lhe_content = file.read()\n",
    "    lhe_lines = lhe_content.split(\"\\n\")\n",
    "    for i, line in enumerate(lhe_lines):\n",
    "        comment_pos = line.find(\"#\")\n",
    "        if comment_pos >= 0:\n",
    "            lhe_lines[i] = line[:comment_pos]\n",
    "    lhe_content = \"\\n\".join(lhe_lines)\n",
    "\n",
    "    # Parse XML tree\n",
    "    root = ET.fromstring(lhe_content)\n",
    "\n",
    "    return root"
   ]
  },
  {
   "cell_type": "code",
   "execution_count": 8,
   "metadata": {},
   "outputs": [],
   "source": [
    "root = untar_and_parse_lhe_file(filename)"
   ]
  },
  {
   "cell_type": "markdown",
   "metadata": {},
   "source": [
    "## Run card"
   ]
  },
  {
   "cell_type": "code",
   "execution_count": 20,
   "metadata": {},
   "outputs": [],
   "source": [
    "run_card = root.find(\"header\").find(\"MGRunCard\").text"
   ]
  },
  {
   "cell_type": "code",
   "execution_count": 24,
   "metadata": {},
   "outputs": [
    {
     "name": "stdout",
     "output_type": "stream",
     "text": [
      "\n",
      "\n",
      "\n",
      "\n",
      "\n",
      "\n",
      "\n",
      "\n",
      "\n",
      "\n",
      "\n",
      "\n",
      "\n",
      "\n",
      "\n",
      "\n",
      "\n",
      "\n",
      "\n",
      "\n",
      "\n",
      "\n",
      "\n",
      "\n",
      "\n",
      "\n",
      "  tag_1\t= run_tag ! name of the run \n",
      "\n",
      "\n",
      "\n",
      "\n",
      "\n",
      "  100000\t= nevents ! Number of unweighted events requested \n",
      " 21 = iseed ! rnd seed (0=assigned automatically=default))\n",
      "\n",
      "\n",
      "\n",
      "\n",
      "\n",
      "  1\t= lpp1 ! beam 1 type \n",
      "  1\t= lpp2 ! beam 2 type\n",
      "  6500.0\t= ebeam1 ! beam 1 total energy in GeV\n",
      "  6500.0\t= ebeam2 ! beam 2 total energy in GeV\n",
      "\n",
      "\n",
      "\n",
      "     0.0     = polbeam1 ! beam polarization for beam 1\n",
      "     0.0     = polbeam2 ! beam polarization for beam 2\n",
      "\n",
      "\n",
      "\n",
      "\n",
      "  lhapdf\t= pdlabel ! PDF set                                     \n",
      "  90900\t= lhaid ! if pdlabel=lhapdf, this is the lhapdf number\n",
      "\n",
      "\n",
      "\n",
      "\n",
      "  False\t= fixed_ren_scale ! if .true. use fixed ren scale\n",
      "  False\t= fixed_fac_scale ! if .true. use fixed fac scale\n",
      "  91.188\t= scale ! fixed ren scale\n",
      "  91.188\t= dsqrt_q2fact1 ! fixed fact scale for pdf1\n",
      "  91.188\t= dsqrt_q2fact2 ! fixed fact scale for pdf2\n",
      "  -1\t= dynamical_scale_choice ! Choose one of the preselected dynamical choices\n",
      "  1.0\t= scalefact ! scale factor for event-by-event scales\n",
      "\n",
      "\n",
      "\n",
      "  False\t= gridpack !True = setting up the grid pack\n",
      "  -1.0\t= time_of_flight ! threshold (in mm) below which the invariant livetime is not written (-1 means not written)\n",
      "  3.0\t= lhe_version ! Change the way clustering information pass to shower.        \n",
      "  True\t= clusinfo ! include clustering tag in output\n",
      "  average\t= event_norm ! average/sum. Normalization of the weight in the LHEF\n",
      "\n",
      "\n",
      "\n",
      "\n",
      "  0\t= ickkw ! 0 no matching, 1 MLM\n",
      "  1.0\t= alpsfact ! scale factor for QCD emission vx\n",
      "  False\t= chcluster ! cluster only according to channel diag\n",
      "  4\t= asrwgtflavor ! highest quark flavor for a_s reweight\n",
      "  False\t= auto_ptj_mjj ! Automatic setting of ptj and mjj if xqcut >0\n",
      "                                   ! (turn off for VBF and single top processes) \n",
      "  0.0\t= xqcut ! minimum kt jet measure between partons\n",
      "\n",
      "\n",
      "\n",
      "\n",
      "\n",
      "\n",
      "\n",
      "  0\t= nhel ! using helicities importance sampling or not.\n",
      "\n",
      "\n",
      "\n",
      "\n",
      "  None\t= bias_module ! Bias type of bias, [None, ptj_bias, -custom_folder-]\n",
      "  {}\t= bias_parameters ! Specifies the parameters of the module.\n",
      "\n",
      "\n",
      "\n",
      "\n",
      "\n",
      "\n",
      "\n",
      "\n",
      "\n",
      "  15.0\t= bwcutoff ! (M+/-bwcutoff*Gamma)\n",
      "\n",
      "\n",
      "\n",
      "\n",
      "  False\t= cut_decays ! Cut decay products \n",
      "\n",
      "\n",
      "\n",
      "\n",
      "\n",
      "  15.0\t= ptj ! minimum pt for the jets \n",
      "  0.0\t= ptb ! minimum pt for the b \n",
      "  280.0\t= pta ! minimum pt for the photons \n",
      "  15.0\t= ptl ! minimum pt for the charged leptons \n",
      "  0.0\t= misset ! minimum missing Et (sum of neutrino's momenta)\n",
      "  -1.0\t= ptjmax ! maximum pt for the jets\n",
      "  -1.0\t= ptbmax ! maximum pt for the b\n",
      "  300.0\t= ptamax ! maximum pt for the photons\n",
      "  -1.0\t= ptlmax ! maximum pt for the charged leptons\n",
      "  -1.0\t= missetmax ! maximum missing Et (sum of neutrino's momenta)\n",
      "  {}\t= pt_min_pdg ! pt cut for other particles (use pdg code). Applied on particle and anti-particle\n",
      "  {}\t= pt_max_pdg ! pt cut for other particles (syntax e.g. {6: 100, 25: 50}) \n",
      "\n",
      "\n",
      "\n",
      "  0.0\t= ej ! minimum E for the jets \n",
      "  0.0\t= eb ! minimum E for the b \n",
      "  0.0\t= ea ! minimum E for the photons \n",
      "  0.0\t= el ! minimum E for the charged leptons \n",
      "  -1.0\t= ejmax ! maximum E for the jets\n",
      "  -1.0\t= ebmax ! maximum E for the b\n",
      "  -1.0\t= eamax ! maximum E for the photons\n",
      "  -1.0\t= elmax ! maximum E for the charged leptons\n",
      "  {}\t= e_min_pdg ! E cut for other particles (use pdg code). Applied on particle and anti-particle\n",
      "  {}\t= e_max_pdg ! E cut for other particles (syntax e.g. {6: 100, 25: 50}) \n",
      "\n",
      "\n",
      "\n",
      "  6.0\t= etaj ! max rap for the jets \n",
      "  -1.0\t= etab ! max rap for the b\n",
      "  3.0\t= etaa ! max rap for the photons \n",
      "  3.0\t= etal ! max rap for the charged leptons \n",
      "  0.0\t= etajmin ! min rap for the jets\n",
      "  0.0\t= etabmin ! min rap for the b\n",
      "  0.0\t= etaamin ! min rap for the photons\n",
      "  0.0\t= etalmin ! main rap for the charged leptons\n",
      "  {}\t= eta_min_pdg ! rap cut for other particles (use pdg code). Applied on particle and anti-particle\n",
      "  {}\t= eta_max_pdg ! rap cut for other particles (syntax e.g. {6: 2.5, 23: 5})\n",
      "\n",
      "\n",
      "\n",
      "  0.3\t= drjj ! min distance between jets \n",
      "  0.0\t= drbb ! min distance between b's \n",
      "  0.3\t= drll ! min distance between leptons \n",
      "  0.3\t= draa ! min distance between gammas \n",
      "  0.0\t= drbj ! min distance between b and jet \n",
      "  0.3\t= draj ! min distance between gamma and jet \n",
      "  0.3\t= drjl ! min distance between jet and lepton \n",
      "  0.0\t= drab ! min distance between gamma and b \n",
      "  0.0\t= drbl ! min distance between b and lepton \n",
      "  0.3\t= dral ! min distance between gamma and lepton \n",
      "  -1.0\t= drjjmax ! max distance between jets\n",
      "  -1.0\t= drbbmax ! max distance between b's\n",
      "  -1.0\t= drllmax ! max distance between leptons\n",
      "  -1.0\t= draamax ! max distance between gammas\n",
      "  -1.0\t= drbjmax ! max distance between b and jet\n",
      "  -1.0\t= drajmax ! max distance between gamma and jet\n",
      "  -1.0\t= drjlmax ! max distance between jet and lepton\n",
      "  -1.0\t= drabmax ! max distance between gamma and b\n",
      "  -1.0\t= drblmax ! max distance between b and lepton\n",
      "  -1.0\t= dralmax ! maxdistance between gamma and lepton\n",
      "\n",
      "\n",
      "\n",
      "\n",
      "\n",
      "  0.0\t= mmjj ! min invariant mass of a jet pair \n",
      "  0.0\t= mmbb ! min invariant mass of a b pair \n",
      "  0.0\t= mmaa ! min invariant mass of gamma gamma pair\n",
      "  0.0\t= mmll ! min invariant mass of l+l- (same flavour) lepton pair\n",
      "  -1.0\t= mmjjmax ! max invariant mass of a jet pair\n",
      "  -1.0\t= mmbbmax ! max invariant mass of a b pair\n",
      "  -1.0\t= mmaamax ! max invariant mass of gamma gamma pair\n",
      "  -1.0\t= mmllmax ! max invariant mass of l+l- (same flavour) lepton pair\n",
      "  {}\t= mxx_min_pdg ! min invariant mass of a pair of particles X/X~ (e.g. {6:250})\n",
      "  {'default': False}\t= mxx_only_part_antipart ! if True the invariant mass is applied only \n",
      "                       ! to pairs of particle/antiparticle and not to pairs of the same pdg codes.  \n",
      "\n",
      "\n",
      "\n",
      "  0.0\t= mmnl ! min invariant mass for all letpons (l+- and vl) \n",
      "  -1.0\t= mmnlmax ! max invariant mass for all letpons (l+- and vl) \n",
      "\n",
      "\n",
      "\n",
      "  0.0\t= ptllmin ! Minimum pt for 4-momenta sum of leptons(l and vl)\n",
      "  -1.0\t= ptllmax ! Maximum pt for 4-momenta sum of leptons(l and vl)\n",
      "\n",
      "\n",
      "\n",
      "  0.0\t= ptheavy ! minimum pt for at least one heavy final state\n",
      "  0.0\t= xptj ! minimum pt for at least one jet  \n",
      "  0.0\t= xptb ! minimum pt for at least one b \n",
      "  0.0\t= xpta ! minimum pt for at least one photon \n",
      "  0.0\t= xptl ! minimum pt for at least one charged lepton \n",
      "\n",
      "\n",
      "\n",
      "  0.0\t= ptj1min ! minimum pt for the leading jet in pt\n",
      "  0.0\t= ptj2min ! minimum pt for the second jet in pt\n",
      "  0.0\t= ptj3min ! minimum pt for the third jet in pt\n",
      "  0.0\t= ptj4min ! minimum pt for the fourth jet in pt\n",
      "  -1.0\t= ptj1max ! maximum pt for the leading jet in pt \n",
      "  -1.0\t= ptj2max ! maximum pt for the second jet in pt\n",
      "  -1.0\t= ptj3max ! maximum pt for the third jet in pt\n",
      "  -1.0\t= ptj4max ! maximum pt for the fourth jet in pt\n",
      "  0\t= cutuse ! reject event if fails any (0) / all (1) jet pt cuts\n",
      "\n",
      "\n",
      "\n",
      "  0.0\t= ptl1min ! minimum pt for the leading lepton in pt\n",
      "  0.0\t= ptl2min ! minimum pt for the second lepton in pt\n",
      "  0.0\t= ptl3min ! minimum pt for the third lepton in pt\n",
      "  0.0\t= ptl4min ! minimum pt for the fourth lepton in pt\n",
      "  -1.0\t= ptl1max ! maximum pt for the leading lepton in pt \n",
      "  -1.0\t= ptl2max ! maximum pt for the second lepton in pt\n",
      "  -1.0\t= ptl3max ! maximum pt for the third lepton in pt\n",
      "  -1.0\t= ptl4max ! maximum pt for the fourth lepton in pt\n",
      "\n",
      "\n",
      "\n",
      "  0.0\t= htjmin ! minimum jet HT=Sum(jet pt)\n",
      "  -1.0\t= htjmax ! maximum jet HT=Sum(jet pt)\n",
      "  0.0\t= ihtmin !inclusive Ht for all partons (including b)\n",
      "  -1.0\t= ihtmax !inclusive Ht for all partons (including b)\n",
      "  0.0\t= ht2min ! minimum Ht for the two leading jets\n",
      "  0.0\t= ht3min ! minimum Ht for the three leading jets\n",
      "  0.0\t= ht4min ! minimum Ht for the four leading jets\n",
      "  -1.0\t= ht2max ! maximum Ht for the two leading jets\n",
      "  -1.0\t= ht3max ! maximum Ht for the three leading jets\n",
      "  -1.0\t= ht4max ! maximum Ht for the four leading jets\n",
      "\n",
      "\n",
      "\n",
      "\n",
      "\n",
      "  0.0\t= ptgmin ! Min photon transverse momentum\n",
      "  0.4\t= r0gamma ! Radius of isolation code\n",
      "  1.0\t= xn ! n parameter of eq.(3.4) in hep-ph/9801442\n",
      "  1.0\t= epsgamma ! epsilon_gamma parameter of eq.(3.4) in hep-ph/9801442\n",
      "  True\t= isoem ! isolate photons from EM energy (photons and leptons)\n",
      "\n",
      "\n",
      "\n",
      "  0.0\t= xetamin ! minimum rapidity for two jets in the WBF case  \n",
      "  0.0\t= deltaeta ! minimum rapidity for two jets in the WBF case \n",
      "\n",
      "\n",
      "\n",
      "\n",
      "  -1.0\t= ktdurham \n",
      "  0.4\t= dparameter \n",
      "  -1.0\t= ptlund \n",
      "  21, 1, 2, 3, 4, 5, 6\t= pdgs_for_merging_cut ! PDGs for two cuts above   \n",
      "\n",
      "\n",
      "\n",
      "\n",
      "  4\t= maxjetflavor ! Maximum jet pdg code\n",
      "\n",
      "\n",
      "\n",
      "\n",
      "\n",
      "\n",
      "  True\t= use_syst ! Enable systematics studies\n",
      "\n",
      "  systematics\t= systematics_program ! none, systematics [python], SysCalc [depreceted, C++]\n",
      "['--mur=0.5,1,2', '--muf=0.5,1,2', '--pdf=errorset'] = systematics_arguments ! see: https://cp3.irmp.ucl.ac.be/projects/madgraph/wiki/Systematics\n",
      "\n",
      "\n",
      "\n",
      "\n",
      "\n",
      "0.5 1 2 = sys_scalefact  \n",
      "None = sys_alpsfact  \n",
      "30 50 = sys_matchscale \n",
      "\n",
      "NNPDF23_lo_as_0130_qed = sys_pdf \n",
      "\n",
      "\n",
      "\n",
      "\n",
      "\n",
      "  True\t= pdfwgt \n",
      "  1\t= highestmult \n",
      "  1\t= ktscheme \n",
      "  ['--mur=0.5,2', '--muf=0.5,2', '--together=mur,muf', '--pdf=90900']\t= systematics_arguments \n",
      "\n",
      "\n"
     ]
    }
   ],
   "source": [
    "for line in run_card.split(\"\\n\"):\n",
    "    print(line)"
   ]
  },
  {
   "cell_type": "markdown",
   "metadata": {},
   "source": [
    "## Weight groups"
   ]
  },
  {
   "cell_type": "code",
   "execution_count": 27,
   "metadata": {},
   "outputs": [],
   "source": [
    "weight_groups = root.findall(\"header\")[0].findall(\"initrwgt\")[0].findall(\"weightgroup\")"
   ]
  },
  {
   "cell_type": "code",
   "execution_count": 45,
   "metadata": {},
   "outputs": [],
   "source": [
    "wg = weight_groups[1]"
   ]
  },
  {
   "cell_type": "code",
   "execution_count": 47,
   "metadata": {},
   "outputs": [
    {
     "data": {
      "text/plain": [
       "'CT10nlo'"
      ]
     },
     "execution_count": 47,
     "metadata": {},
     "output_type": "execute_result"
    }
   ],
   "source": [
    "wg.attrib['name']"
   ]
  },
  {
   "cell_type": "code",
   "execution_count": 53,
   "metadata": {},
   "outputs": [],
   "source": [
    "w = wg.findall(\"weight\")[0]"
   ]
  },
  {
   "cell_type": "code",
   "execution_count": 55,
   "metadata": {},
   "outputs": [
    {
     "data": {
      "text/plain": [
       "{'id': '45', 'MUR': '1.0', 'MUF': '1.0', 'PDF': '11000'}"
      ]
     },
     "execution_count": 55,
     "metadata": {},
     "output_type": "execute_result"
    }
   ],
   "source": [
    "w.attrib"
   ]
  },
  {
   "cell_type": "markdown",
   "metadata": {},
   "source": [
    "## Events"
   ]
  },
  {
   "cell_type": "code",
   "execution_count": 25,
   "metadata": {},
   "outputs": [],
   "source": [
    "events = root.findall(\"event\")\n",
    "\n",
    "event = events[1]"
   ]
  },
  {
   "cell_type": "code",
   "execution_count": 27,
   "metadata": {},
   "outputs": [
    {
     "name": "stdout",
     "output_type": "stream",
     "text": [
      "\n",
      " 6      1 +1.4360220e-03 2.96188700e+02 7.81860800e-03 1.00369400e-01\n",
      "       -2 -1    0    0    0  501 -0.0000000000e+00 +0.0000000000e+00 +1.2357566225e+03 1.2357566225e+03 0.0000000000e+00 0.0000e+00 1.0000e+00\n",
      "        1 -1    0    0  501    0 +0.0000000000e+00 -0.0000000000e+00 -4.0299093188e+02 4.0299093188e+02 0.0000000000e+00 0.0000e+00 -1.0000e+00\n",
      "      -24  2    1    2    0    0 +2.7228584413e+00 +2.8568238938e+02 -3.2881655402e+02 4.4254725652e+02 7.8140300091e+01 0.0000e+00 0.0000e+00\n",
      "       22  1    1    2    0    0 -2.7228584413e+00 -2.8568238938e+02 +1.1615822447e+03 1.1962002979e+03 0.0000000000e+00 0.0000e+00 1.0000e+00\n",
      "       11  1    3    3    0    0 +2.3469596044e+01 +8.6543976032e+01 -1.4647549544e+02 1.7174327495e+02 0.0000000000e+00 0.0000e+00 -1.0000e+00\n",
      "      -12  1    3    3    0    0 -2.0746737603e+01 +1.9913841335e+02 -1.8234105858e+02 2.7080398158e+02 0.0000000000e+00 0.0000e+00 1.0000e+00\n",
      "\n"
     ]
    }
   ],
   "source": [
    "print(event.text)"
   ]
  },
  {
   "cell_type": "code",
   "execution_count": 28,
   "metadata": {},
   "outputs": [],
   "source": [
    "weights = event.find(\"rwgt\").findall(\"wgt\")"
   ]
  },
  {
   "cell_type": "code",
   "execution_count": 34,
   "metadata": {},
   "outputs": [
    {
     "name": "stdout",
     "output_type": "stream",
     "text": [
      "1  +1.5392939e-03 \n",
      "2  +1.3436796e-03 \n",
      "3  +1.5392939e-03 \n",
      "4  +1.3436796e-03 \n",
      "5  +1.4360220e-03 \n",
      "6  +1.5474268e-03 \n",
      "7  +1.4105018e-03 \n",
      "8  +1.4353439e-03 \n",
      "9  +1.4396149e-03 \n",
      "10  +1.4237539e-03 \n",
      "11  +1.4417906e-03 \n",
      "12  +1.4361506e-03 \n",
      "13  +1.4329066e-03 \n",
      "14  +1.4374325e-03 \n",
      "15  +1.4387012e-03 \n",
      "16  +1.4345429e-03 \n",
      "17  +1.4357060e-03 \n",
      "18  +1.4355601e-03 \n",
      "19  +1.4292326e-03 \n",
      "20  +1.4348486e-03 \n",
      "21  +1.4333090e-03 \n",
      "22  +1.4338135e-03 \n",
      "23  +1.4354436e-03 \n",
      "24  +1.4327494e-03 \n",
      "25  +1.4417914e-03 \n",
      "26  +1.4369995e-03 \n",
      "27  +1.4403849e-03 \n",
      "28  +1.4355560e-03 \n",
      "29  +1.4317030e-03 \n",
      "30  +1.4361479e-03 \n",
      "31  +1.4196547e-03 \n",
      "32  +1.4325559e-03 \n",
      "33  +1.4329746e-03 \n",
      "34  +1.4366798e-03 \n",
      "35  +1.4361440e-03 \n",
      "36  +1.3473100e-03 \n",
      "37  +1.3473100e-03 \n",
      "38  +1.4400775e-03 \n",
      "39  +1.2414552e-03 \n",
      "morphing_basis_vector_1  +1.0976270e-03 \n",
      "morphing_basis_vector_2  +9.6976289e-04 \n",
      "morphing_basis_vector_3  +1.7826746e-03 \n",
      "morphing_basis_vector_4  +1.7649479e-03 \n",
      "morphing_basis_vector_5  +2.1515632e-03 \n"
     ]
    }
   ],
   "source": [
    "for weight in weights:\n",
    "    print( weight.attrib[\"id\"], weight.text)"
   ]
  },
  {
   "cell_type": "code",
   "execution_count": null,
   "metadata": {},
   "outputs": [],
   "source": []
  }
 ],
 "metadata": {
  "kernelspec": {
   "display_name": "Python (higgs_inference)",
   "language": "python",
   "name": "higgs_inference"
  },
  "language_info": {
   "codemirror_mode": {
    "name": "ipython",
    "version": 3
   },
   "file_extension": ".py",
   "mimetype": "text/x-python",
   "name": "python",
   "nbconvert_exporter": "python",
   "pygments_lexer": "ipython3",
   "version": "3.6.7"
  }
 },
 "nbformat": 4,
 "nbformat_minor": 2
}
