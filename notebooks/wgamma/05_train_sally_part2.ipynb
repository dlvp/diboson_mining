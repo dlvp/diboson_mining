{
 "cells": [
  {
   "cell_type": "markdown",
   "metadata": {
    "nbpresent": {
     "id": "f9deb73c-b62f-4cff-8d83-724074098c92"
    }
   },
   "source": [
    "# Train SALLY ensemble\n",
    "\n",
    "Johann Brehmer, Kyle Cranmer, Felix Kling, Duccio Pappadopulo, Josh Ruderman 2018"
   ]
  },
  {
   "cell_type": "code",
   "execution_count": 1,
   "metadata": {
    "nbpresent": {
     "id": "fe57a76c-4838-44c4-b0cc-5ee166785e4a"
    }
   },
   "outputs": [],
   "source": [
    "from __future__ import absolute_import, division, print_function, unicode_literals\n",
    "\n",
    "import numpy as np\n",
    "import matplotlib\n",
    "from matplotlib import pyplot as plt\n",
    "% matplotlib inline\n",
    "import logging\n",
    "import os\n",
    "\n",
    "from madminer.sampling import SampleAugmenter\n",
    "from madminer.sampling import multiple_benchmark_thetas\n",
    "from madminer.sampling import constant_morphing_theta, multiple_morphing_thetas, random_morphing_thetas\n",
    "from madminer.ml import MLForge, EnsembleForge\n",
    "\n",
    "logging.basicConfig(format='%(asctime)s  %(message)s', datefmt='%H:%M')"
   ]
  },
  {
   "cell_type": "code",
   "execution_count": 2,
   "metadata": {
    "nbpresent": {
     "id": "f3463c40-6421-42a1-8681-527c3ec42541"
    }
   },
   "outputs": [],
   "source": [
    "base_dir = '/Users/johannbrehmer/work/projects/madminer/diboson_mining/'\n",
    "mg_dir = '/Users/johannbrehmer/work/projects/madminer/MG5_aMC_v2_6_2/'"
   ]
  },
  {
   "cell_type": "code",
   "execution_count": 3,
   "metadata": {
    "nbpresent": {
     "id": "b2c73eca-c625-4f7a-9cee-4ccb2dcbb3e9"
    }
   },
   "outputs": [],
   "source": [
    "sample_dir = base_dir + 'data/samples/wgamma/'\n",
    "card_dir = base_dir + 'cards/wgamma/'\n",
    "ufo_model_dir = card_dir + 'SMWgamma_UFO'\n",
    "run_card_dir = card_dir + 'run_cards/'\n",
    "mg_process_dir = base_dir + 'data/mg_processes/wgamma/'\n",
    "log_dir = base_dir + 'logs/wgamma/'\n",
    "temp_dir = base_dir + 'data/temp'\n",
    "delphes_dir = mg_dir + 'Delphes'\n",
    "model_dir = base_dir + 'data/models/wgamma/'"
   ]
  },
  {
   "cell_type": "markdown",
   "metadata": {},
   "source": [
    "## Settings"
   ]
  },
  {
   "cell_type": "code",
   "execution_count": 4,
   "metadata": {},
   "outputs": [],
   "source": [
    "n_estimators = 10"
   ]
  },
  {
   "cell_type": "markdown",
   "metadata": {},
   "source": [
    "## Training function"
   ]
  },
  {
   "cell_type": "code",
   "execution_count": 5,
   "metadata": {},
   "outputs": [],
   "source": [
    "def train_ensemble(filename, use_tight_cuts=True, n_estimators=10, **kwargs):\n",
    "    cut_label = '_tight' if use_tight_cuts else ''\n",
    "    \n",
    "    ensemble = EnsembleForge(n_estimators, debug=True)\n",
    "\n",
    "    ensemble.train_all(\n",
    "        method='sally',\n",
    "        x_filename=[sample_dir + 'train_local{}/x_train_{}.npy'.format(cut_label, i) for i in range(n_estimators)],\n",
    "        t_xz0_filename=[sample_dir + 'train_local{}/t_xz_train_{}.npy'.format(cut_label, i) for i in range(n_estimators)],\n",
    "        **kwargs\n",
    "    )\n",
    "\n",
    "    ensemble_all.calculate_expectation(\n",
    "        x_filename=sample_dir + 'validation{}/x_validation.npy'.format(cut_label)\n",
    "    )\n",
    "\n",
    "    ensemble_all.save(model_dir + 'sally_ensemble_' + filename)"
   ]
  },
  {
   "cell_type": "markdown",
   "metadata": {
    "nbpresent": {
     "id": "b45e7f73-8f4c-4261-a381-4b7ad6af120f"
    }
   },
   "source": [
    "## All observables"
   ]
  },
  {
   "cell_type": "code",
   "execution_count": null,
   "metadata": {},
   "outputs": [],
   "source": [
    "train_ensemble('all', use_tight_cuts=False)"
   ]
  },
  {
   "cell_type": "code",
   "execution_count": null,
   "metadata": {},
   "outputs": [
    {
     "name": "stderr",
     "output_type": "stream",
     "text": [
      "14:48  Training 10 estimators in ensemble\n",
      "14:48  Training estimator 1 / 10 in ensemble\n",
      "14:48  Starting training\n",
      "14:48    Method:                 sally\n",
      "14:48    Training data: x at /Users/johannbrehmer/work/projects/madminer/diboson_mining/data/samples/wgamma/train_local_tight/x_train_0.npy\n",
      "14:48                   t_xz (theta0) at  /Users/johannbrehmer/work/projects/madminer/diboson_mining/data/samples/wgamma/train_local_tight/t_xz_train_0.npy\n",
      "14:48    Features:               all\n",
      "14:48    Method:                 sally\n",
      "14:48    Hidden layers:          (100, 100)\n",
      "14:48    Activation function:    tanh\n",
      "14:48    Batch size:             128\n",
      "14:48    Trainer:                amsgrad\n",
      "14:48    Epochs:                 50\n",
      "14:48    Learning rate:          0.001 initially, decaying to 0.0001\n",
      "14:48    Validation split:       0.25\n",
      "14:48    Early stopping:         True\n",
      "14:48    Scale inputs:           True\n",
      "14:48  Loading training data\n",
      "14:48  Found 1000000 samples with 2 parameters and 30 observables\n",
      "14:48  Rescaling inputs\n",
      "14:48  Observable ranges:\n",
      "14:48    x_1: mean -2.4300561562995425e-17, std 0.9999999999999722, range -0.9205899817613629 ... 18.81402394973102\n",
      "14:48    x_2: mean 1.4360068689711623e-17, std 1.0000000000000697, range -1.7470441573133841 ... 1.747759918389939\n",
      "14:48    x_3: mean 1.3920594454930323e-13, std 1.000000000000032, range -0.8594564651504693 ... 31.51812888205826\n",
      "14:48    x_4: mean 1.2724399311991874e-16, std 0.9999999999999605, range -4.271414341128236 ... 4.879498084857284\n",
      "14:48    x_5: mean 1.3510970120478306e-15, std 1.0000000000064972, range -0.03311174890825912 ... 51.70399592024872\n",
      "14:48    x_6: mean 7.245404276545741e-17, std 1.000000000000006, range -1.5756597132617458 ... 29.182926417923724\n",
      "14:48    x_7: mean -1.3949720312211866e-13, std 0.9999999999999173, range -0.7919972415296668 ... 39.764732975916495\n",
      "14:48    x_8: mean 2.874145366149605e-17, std 1.0000000000001534, range -2.2482218181422926 ... 2.2302559802484816\n",
      "14:48    x_9: mean -2.6336266500948115e-17, std 0.9999999999999775, range -1.7175827155182006 ... 1.7011623435223318\n",
      "14:48    x_10: mean 5.44716272088408e-16, std 0.9999999999955311, range -0.15962718764167058 ... 18.825528335868217\n",
      "14:48    x_11: mean 5.976907857530023e-17, std 1.0000000000000089, range -1.2479603654671179 ... 17.326387592782936\n",
      "14:48    x_12: mean 7.94528887126944e-17, std 0.9999999999999614, range -0.9066484917387341 ... 15.49215169940789\n",
      "14:48    x_13: mean -7.641887123099878e-18, std 1.0000000000001206, range -1.3117174782666716 ... 1.3279787958569025\n",
      "14:48    x_14: mean -3.682032456708839e-17, std 0.9999999999999952, range -1.7086880480453832 ... 1.7173252005403132\n",
      "14:48    x_15: mean -5.474731779031572e-17, std 0.9999999999975989, range -0.6857997340359334 ... 10.729546139358767\n",
      "14:48    x_16: mean -7.059242079776596e-18, std 1.0000000000066795, range -0.6175842075246424 ... 24.989046946907987\n",
      "14:48    x_17: mean -9.556380575759249e-15, std 1.0000000000018252, range -0.4219918076546964 ... 19.26100452220352\n",
      "14:48    x_18: mean -7.148059921746608e-18, std 0.9999999999988102, range -4.096952115993954 ... 4.16994441226667\n",
      "14:48    x_19: mean -2.814459776345757e-17, std 0.9999999999952571, range -2.8475089095975257 ... 2.8425628267425043\n",
      "14:48    x_20: mean 0.0, std 0.0, range 0.0 ... 0.0\n",
      "14:48    x_21: mean -5.3790305543088834e-18, std 0.999999999999917, range -5.898220917651231 ... 5.872684817716199\n",
      "14:48    x_22: mean 6.627232096434455e-17, std 0.9999999999999932, range -1.8359445883148093 ... 1.8748624587677163\n",
      "14:48    x_23: mean 8.552012253915109e-14, std 1.0000000000000155, range -1.1372001085642411 ... 28.181887508142758\n",
      "14:48    x_24: mean 5.304444758991167e-13, std 0.9999999999998751, range -1.908598333260526 ... 22.43807107682807\n",
      "14:48    x_25: mean 1.9674889273346708e-13, std 0.9999999999999843, range -1.6120998163486064 ... 18.301975779777678\n",
      "14:48    x_26: mean 1.5557333199467394e-17, std 1.0000000000001463, range -2.4647051063603462 ... 2.443017585932077\n",
      "14:48    x_27: mean -1.5653256468795008e-17, std 0.9999999999999712, range -1.8975729650497415 ... 1.8830658536943814\n",
      "14:48    x_28: mean 1.0465127076031422e-13, std 0.9999999999999074, range -1.2028107895656341 ... 19.57978599695981\n",
      "14:48    x_29: mean -2.368327440827045e-13, std 0.9999999999999878, range -1.5171023446142116 ... 25.877109792646568\n",
      "14:48    x_30: mean 6.833644761172763e-17, std 0.9999999999986043, range -1.8773766382226826 ... 1.8505819437639628\n",
      "14:48  Creating model for method sally\n",
      "14:48  Training model\n"
     ]
    }
   ],
   "source": [
    "train_ensemble('all_tight', use_tight_cuts=True)"
   ]
  },
  {
   "cell_type": "code",
   "execution_count": null,
   "metadata": {},
   "outputs": [],
   "source": [
    "train_ensemble(\n",
    "    'all_tight_sgd',\n",
    "    use_tight_cuts=True,\n",
    "    trainer='sgd',\n",
    "    nesterov_momentum=0.9,\n",
    "    initial_lr=0.1,\n",
    "    final_lr=0.01\n",
    ")"
   ]
  },
  {
   "cell_type": "code",
   "execution_count": null,
   "metadata": {},
   "outputs": [],
   "source": [
    "train_ensemble('resurrection_tight', use_tight_cuts=True)"
   ]
  },
  {
   "cell_type": "code",
   "execution_count": null,
   "metadata": {
    "nbpresent": {
     "id": "7d171470-6c7e-4a74-8ca8-5589004e32d6"
    }
   },
   "outputs": [],
   "source": []
  }
 ],
 "metadata": {
  "kernelspec": {
   "display_name": "Python [default]",
   "language": "python",
   "name": "python3"
  },
  "language_info": {
   "codemirror_mode": {
    "name": "ipython",
    "version": 3
   },
   "file_extension": ".py",
   "mimetype": "text/x-python",
   "name": "python",
   "nbconvert_exporter": "python",
   "pygments_lexer": "ipython3",
   "version": "3.6.4"
  }
 },
 "nbformat": 4,
 "nbformat_minor": 2
}
