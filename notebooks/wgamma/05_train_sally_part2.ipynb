{
 "cells": [
  {
   "cell_type": "markdown",
   "metadata": {
    "nbpresent": {
     "id": "f9deb73c-b62f-4cff-8d83-724074098c92"
    }
   },
   "source": [
    "# Train SALLY ensemble\n",
    "\n",
    "Johann Brehmer, Kyle Cranmer, Felix Kling, Duccio Pappadopulo, Josh Ruderman 2018"
   ]
  },
  {
   "cell_type": "code",
   "execution_count": 1,
   "metadata": {
    "nbpresent": {
     "id": "fe57a76c-4838-44c4-b0cc-5ee166785e4a"
    }
   },
   "outputs": [],
   "source": [
    "from __future__ import absolute_import, division, print_function, unicode_literals\n",
    "\n",
    "import numpy as np\n",
    "import matplotlib\n",
    "from matplotlib import pyplot as plt\n",
    "% matplotlib inline\n",
    "import logging\n",
    "import os\n",
    "\n",
    "from madminer.sampling import SampleAugmenter\n",
    "from madminer.sampling import multiple_benchmark_thetas\n",
    "from madminer.sampling import constant_morphing_theta, multiple_morphing_thetas, random_morphing_thetas\n",
    "from madminer.ml import MLForge, EnsembleForge\n",
    "\n",
    "logging.basicConfig(format='%(asctime)s  %(message)s', datefmt='%H:%M')"
   ]
  },
  {
   "cell_type": "code",
   "execution_count": 2,
   "metadata": {
    "nbpresent": {
     "id": "f3463c40-6421-42a1-8681-527c3ec42541"
    }
   },
   "outputs": [],
   "source": [
    "base_dir = '/Users/johannbrehmer/work/projects/madminer/diboson_mining/'\n",
    "mg_dir = '/Users/johannbrehmer/work/projects/madminer/MG5_aMC_v2_6_2/'"
   ]
  },
  {
   "cell_type": "code",
   "execution_count": 3,
   "metadata": {
    "nbpresent": {
     "id": "b2c73eca-c625-4f7a-9cee-4ccb2dcbb3e9"
    }
   },
   "outputs": [],
   "source": [
    "sample_dir = base_dir + 'data/samples/wgamma/'\n",
    "card_dir = base_dir + 'cards/wgamma/'\n",
    "ufo_model_dir = card_dir + 'SMWgamma_UFO'\n",
    "run_card_dir = card_dir + 'run_cards/'\n",
    "mg_process_dir = base_dir + 'data/mg_processes/wgamma/'\n",
    "log_dir = base_dir + 'logs/wgamma/'\n",
    "temp_dir = base_dir + 'data/temp'\n",
    "delphes_dir = mg_dir + 'Delphes'\n",
    "model_dir = base_dir + 'data/models/wgamma/'"
   ]
  },
  {
   "cell_type": "markdown",
   "metadata": {},
   "source": [
    "## Settings"
   ]
  },
  {
   "cell_type": "code",
   "execution_count": 4,
   "metadata": {},
   "outputs": [],
   "source": [
    "n_estimators = 10"
   ]
  },
  {
   "cell_type": "markdown",
   "metadata": {},
   "source": [
    "## Training function"
   ]
  },
  {
   "cell_type": "code",
   "execution_count": 5,
   "metadata": {},
   "outputs": [],
   "source": [
    "def train_ensemble(filename, use_tight_cuts=True, n_estimators=10, **kwargs):\n",
    "    cut_label = '_tight' if use_tight_cuts else ''\n",
    "    \n",
    "    ensemble = EnsembleForge(n_estimators, debug=False)\n",
    "\n",
    "    ensemble.train_all(\n",
    "        method='sally',\n",
    "        x_filename=[sample_dir + 'train_local{}/x_train_{}.npy'.format(cut_label, i) for i in range(n_estimators)],\n",
    "        t_xz0_filename=[sample_dir + 'train_local{}/t_xz_train_{}.npy'.format(cut_label, i) for i in range(n_estimators)],\n",
    "        **kwargs\n",
    "    )\n",
    "\n",
    "    ensemble.calculate_expectation(\n",
    "        x_filename=sample_dir + 'validation{}/x_validation.npy'.format(cut_label)\n",
    "    )\n",
    "\n",
    "    ensemble.save(model_dir + 'sally_ensemble_' + filename)"
   ]
  },
  {
   "cell_type": "markdown",
   "metadata": {
    "nbpresent": {
     "id": "b45e7f73-8f4c-4261-a381-4b7ad6af120f"
    }
   },
   "source": [
    "## All observables"
   ]
  },
  {
   "cell_type": "code",
   "execution_count": null,
   "metadata": {
    "scrolled": false
   },
   "outputs": [],
   "source": [
    "train_ensemble('all', use_tight_cuts=False)"
   ]
  },
  {
   "cell_type": "code",
   "execution_count": null,
   "metadata": {},
   "outputs": [],
   "source": [
    "train_ensemble('all_tight', use_tight_cuts=True)"
   ]
  },
  {
   "cell_type": "markdown",
   "metadata": {},
   "source": [
    "## Minimal observable basis"
   ]
  },
  {
   "cell_type": "code",
   "execution_count": null,
   "metadata": {},
   "outputs": [],
   "source": [
    "train_ensemble(\n",
    "    'minimal',\n",
    "    use_tight_cuts=False,\n",
    "    features=[[0,5,6,7,9,10,11] for _ in range(10)]\n",
    ")"
   ]
  },
  {
   "cell_type": "code",
   "execution_count": null,
   "metadata": {},
   "outputs": [],
   "source": [
    "train_ensemble(\n",
    "    'minimal_tight',\n",
    "    use_tight_cuts=True,\n",
    "    features=[[0,5,6,7,9,10,11] for _ in range(10)]\n",
    ")"
   ]
  },
  {
   "cell_type": "code",
   "execution_count": null,
   "metadata": {},
   "outputs": [],
   "source": [
    "train_ensemble(\n",
    "    'minimal_reg',\n",
    "    use_tight_cuts=False,\n",
    "    grad_x_regularization=0.1,\n",
    "    features=[[0,5,6,7,9,10,11] for _ in range(10)]\n",
    ")"
   ]
  },
  {
   "cell_type": "code",
   "execution_count": null,
   "metadata": {},
   "outputs": [],
   "source": [
    "train_ensemble(\n",
    "    'minimal_tight_reg',\n",
    "    use_tight_cuts=True,\n",
    "    grad_x_regularization=0.1,\n",
    "    features=[[0,5,6,7,9,10,11] for _ in range(10)]\n",
    ")"
   ]
  },
  {
   "cell_type": "markdown",
   "metadata": {},
   "source": [
    "## Just resurrection phi"
   ]
  },
  {
   "cell_type": "code",
   "execution_count": null,
   "metadata": {},
   "outputs": [
    {
     "name": "stderr",
     "output_type": "stream",
     "text": [
      "10:16  \n",
      "10:16  ------------------------------------------------------------\n",
      "10:16  |                                                          |\n",
      "10:16  |  MadMiner v2018.11.06                                    |\n",
      "10:16  |                                                          |\n",
      "10:16  |           Johann Brehmer, Kyle Cranmer, and Felix Kling  |\n",
      "10:16  |                                                          |\n",
      "10:16  ------------------------------------------------------------\n",
      "10:16  \n",
      "10:16  Training 10 estimators in ensemble\n",
      "10:16  Training estimator 1 / 10 in ensemble\n",
      "10:16  Starting training\n",
      "10:16    Method:                 sally\n",
      "10:16    Training data: x at /Users/johannbrehmer/work/projects/madminer/diboson_mining/data/samples/wgamma/train_local_tight/x_train_0.npy\n",
      "10:16                   t_xz (theta0) at  /Users/johannbrehmer/work/projects/madminer/diboson_mining/data/samples/wgamma/train_local_tight/t_xz_train_0.npy\n",
      "10:16    Features:               [26]\n",
      "10:16    Method:                 sally\n",
      "10:16    Hidden layers:          (100, 100)\n",
      "10:16    Activation function:    tanh\n",
      "10:16    Batch size:             128\n",
      "10:16    Trainer:                amsgrad\n",
      "10:16    Epochs:                 50\n",
      "10:16    Learning rate:          0.001 initially, decaying to 0.0001\n",
      "10:16    Validation split:       0.25\n",
      "10:16    Early stopping:         True\n",
      "10:16    Scale inputs:           True\n",
      "10:16    Regularization:         None\n",
      "10:16  Loading training data\n",
      "10:16  Found 1000000 samples with 2 parameters and 27 observables\n",
      "10:16  Rescaling inputs\n",
      "10:17  Only using 1 of 27 observables\n",
      "10:17  Creating model for method sally\n",
      "10:17  Training model\n",
      "10:21    Epoch 5: train loss 4726.4709 (mse_score: 4726.4709)\n",
      "10:21              val. loss  7982.1814 (mse_score: 7982.1814) (*)\n",
      "10:25    Epoch 10: train loss 4726.6375 (mse_score: 4726.6375)\n",
      "10:25              val. loss  7982.0201 (mse_score: 7982.0201) (*)\n",
      "10:30    Epoch 15: train loss 4725.5710 (mse_score: 4725.5710)\n",
      "10:30              val. loss  7981.5960 (mse_score: 7981.5960) (*)\n",
      "10:34    Epoch 20: train loss 4725.2371 (mse_score: 4725.2371)\n",
      "10:34              val. loss  7982.4585 (mse_score: 7982.4585)\n",
      "10:39    Epoch 25: train loss 4725.1167 (mse_score: 4725.1167)\n",
      "10:39              val. loss  7981.2111 (mse_score: 7981.2111) (*)\n",
      "10:44    Epoch 30: train loss 4724.9350 (mse_score: 4724.9350)\n",
      "10:44              val. loss  7981.5038 (mse_score: 7981.5038)\n",
      "10:48    Epoch 35: train loss 4724.8682 (mse_score: 4724.8682)\n",
      "10:48              val. loss  7981.7505 (mse_score: 7981.7505)\n",
      "10:51    Epoch 40: train loss 4724.7906 (mse_score: 4724.7906)\n",
      "10:51              val. loss  7981.1378 (mse_score: 7981.1378)\n",
      "10:55    Epoch 45: train loss 4724.6615 (mse_score: 4724.6615)\n",
      "10:55              val. loss  7980.7307 (mse_score: 7980.7307) (*)\n",
      "10:59    Epoch 50: train loss 4724.7166 (mse_score: 4724.7166)\n",
      "10:59              val. loss  7980.8296 (mse_score: 7980.8296)\n",
      "10:59  Early stopping after epoch 47, with loss 7980.64 compared to final loss 7980.83\n",
      "10:59  Finished training\n",
      "10:59  Training estimator 2 / 10 in ensemble\n",
      "10:59  Starting training\n",
      "10:59    Method:                 sally\n",
      "10:59    Training data: x at /Users/johannbrehmer/work/projects/madminer/diboson_mining/data/samples/wgamma/train_local_tight/x_train_1.npy\n",
      "10:59                   t_xz (theta0) at  /Users/johannbrehmer/work/projects/madminer/diboson_mining/data/samples/wgamma/train_local_tight/t_xz_train_1.npy\n",
      "10:59    Features:               [26]\n",
      "10:59    Method:                 sally\n",
      "10:59    Hidden layers:          (100, 100)\n",
      "10:59    Activation function:    tanh\n",
      "10:59    Batch size:             128\n",
      "10:59    Trainer:                amsgrad\n",
      "10:59    Epochs:                 50\n",
      "10:59    Learning rate:          0.001 initially, decaying to 0.0001\n",
      "10:59    Validation split:       0.25\n",
      "10:59    Early stopping:         True\n",
      "10:59    Scale inputs:           True\n",
      "10:59    Regularization:         None\n",
      "10:59  Loading training data\n",
      "10:59  Found 1000000 samples with 2 parameters and 27 observables\n",
      "10:59  Rescaling inputs\n",
      "10:59  Only using 1 of 27 observables\n",
      "10:59  Creating model for method sally\n",
      "10:59  Training model\n"
     ]
    }
   ],
   "source": [
    "train_ensemble(\n",
    "    'resurrection',\n",
    "    use_tight_cuts=True,\n",
    "    features=[[26] for _ in range(10)]\n",
    ")"
   ]
  },
  {
   "cell_type": "code",
   "execution_count": null,
   "metadata": {},
   "outputs": [],
   "source": []
  }
 ],
 "metadata": {
  "kernelspec": {
   "display_name": "Python [default]",
   "language": "python",
   "name": "python3"
  },
  "language_info": {
   "codemirror_mode": {
    "name": "ipython",
    "version": 3
   },
   "file_extension": ".py",
   "mimetype": "text/x-python",
   "name": "python",
   "nbconvert_exporter": "python",
   "pygments_lexer": "ipython3",
   "version": "3.6.4"
  }
 },
 "nbformat": 4,
 "nbformat_minor": 2
}
