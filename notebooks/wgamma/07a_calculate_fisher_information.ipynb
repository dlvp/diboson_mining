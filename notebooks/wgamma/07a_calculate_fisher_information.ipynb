{
 "cells": [
  {
   "cell_type": "markdown",
   "metadata": {},
   "source": [
    "# Evaluate Fisher information\n",
    "\n",
    "Johann Brehmer, Kyle Cranmer, Marco Farina, Felix Kling, Duccio Pappadopulo, Josh Ruderman 2018"
   ]
  },
  {
   "cell_type": "code",
   "execution_count": 2,
   "metadata": {},
   "outputs": [],
   "source": [
    "from __future__ import absolute_import, division, print_function, unicode_literals\n",
    "\n",
    "import numpy as np\n",
    "import matplotlib\n",
    "from matplotlib import pyplot as plt\n",
    "%matplotlib inline\n",
    "import logging\n",
    "import os\n",
    "\n",
    "import madminer.core\n",
    "from madminer.fisherinformation import FisherInformation, profile_information, project_information\n",
    "from madminer.plotting import plot_fisher_information_contours_2d\n"
   ]
  },
  {
   "cell_type": "code",
   "execution_count": 3,
   "metadata": {},
   "outputs": [],
   "source": [
    "logging.basicConfig(\n",
    "    format='%(asctime)-5.5s %(name)-20.20s %(levelname)-7.7s %(message)s',\n",
    "    datefmt='%H:%M',\n",
    "    level=logging.INFO\n",
    ")\n",
    "\n",
    "for key in logging.Logger.manager.loggerDict:\n",
    "    if \"madminer\" not in key:\n",
    "        logging.getLogger(key).setLevel(logging.WARNING)"
   ]
  },
  {
   "cell_type": "code",
   "execution_count": 4,
   "metadata": {},
   "outputs": [],
   "source": [
    "base_dir = '/Users/johannbrehmer/work/projects/madminer/diboson_mining/'\n",
    "mg_dir = '/Users/johannbrehmer/work/projects/madminer/MG5_aMC_v2_6_4/'"
   ]
  },
  {
   "cell_type": "code",
   "execution_count": 5,
   "metadata": {},
   "outputs": [],
   "source": [
    "sample_dir = base_dir + 'data/samples/wgamma_sys/'\n",
    "card_dir = base_dir + 'cards/wgamma/'\n",
    "ufo_model_dir = card_dir + 'SMWgamma_UFO'\n",
    "run_card_dir = card_dir + 'run_cards/'\n",
    "mg_process_dir = base_dir + 'data/mg_processes/wgamma_sys/'\n",
    "log_dir = base_dir + 'logs/wgamma/'\n",
    "temp_dir = base_dir + 'data/temp'\n",
    "delphes_dir = mg_dir + 'Delphes'\n",
    "model_dir = base_dir + 'data/models/wgamma_sys/'\n",
    "result_dir = base_dir + 'data/results/wgamma_sys/'"
   ]
  },
  {
   "cell_type": "markdown",
   "metadata": {},
   "source": [
    "## Settings"
   ]
  },
  {
   "cell_type": "code",
   "execution_count": 6,
   "metadata": {},
   "outputs": [],
   "source": [
    "batch_size=100000"
   ]
  },
  {
   "cell_type": "markdown",
   "metadata": {},
   "source": [
    "## Main functions"
   ]
  },
  {
   "cell_type": "code",
   "execution_count": 7,
   "metadata": {},
   "outputs": [
    {
     "name": "stderr",
     "output_type": "stream",
     "text": [
      "15:55 madminer.fisherinfor INFO    Loading data from /Users/johannbrehmer/work/projects/madminer/diboson_mining/data/samples/wgamma_sys/samples.h5\n",
      "15:55 madminer.fisherinfor INFO    Found 2 parameters\n",
      "15:55 madminer.fisherinfor INFO    Found 32 nuisance parameters\n",
      "15:55 madminer.fisherinfor INFO    Found 45 benchmarks, of which 6 physical\n",
      "15:55 madminer.fisherinfor INFO    Found 33 observables: et_miss, phi_miss, e_visible, eta_visible, e_l1, pt_l1, eta_l1, phi_l1, e_a1, pt_a1, eta_a1, phi_a1, e_j1, pt_j1, eta_j1, phi_j1, pdgid_l1, m_la, m_lmet, m_amet, pt_la, pt_lmet, pt_amet, deltaphi_la, deltaphi_lmet, deltaphi_amet, deltaeta_la, m_almet, pt_almet, mt, phi_minus, phi_plus, phi\n",
      "15:55 madminer.fisherinfor INFO    Found 1341798 events\n",
      "15:55 madminer.fisherinfor INFO    Found morphing setup with 6 components\n",
      "15:55 madminer.fisherinfor INFO    Found nuisance morphing setup\n",
      "15:55 madminer.fisherinfor INFO    Loading data from /Users/johannbrehmer/work/projects/madminer/diboson_mining/data/samples/wgamma_sys/samples_tight.h5\n",
      "15:55 madminer.fisherinfor INFO    Found 2 parameters\n",
      "15:55 madminer.fisherinfor INFO    Found 32 nuisance parameters\n",
      "15:55 madminer.fisherinfor INFO    Found 45 benchmarks, of which 6 physical\n",
      "15:55 madminer.fisherinfor INFO    Found 33 observables: et_miss, phi_miss, e_visible, eta_visible, e_l1, pt_l1, eta_l1, phi_l1, e_a1, pt_a1, eta_a1, phi_a1, e_j1, pt_j1, eta_j1, phi_j1, pdgid_l1, m_la, m_lmet, m_amet, pt_la, pt_lmet, pt_amet, deltaphi_la, deltaphi_lmet, deltaphi_amet, deltaeta_la, m_almet, pt_almet, mt, phi_minus, phi_plus, phi\n",
      "15:55 madminer.fisherinfor INFO    Found 793714 events\n",
      "15:55 madminer.fisherinfor INFO    Found morphing setup with 6 components\n",
      "15:55 madminer.fisherinfor INFO    Found nuisance morphing setup\n",
      "15:55 madminer.fisherinfor INFO    Loading data from /Users/johannbrehmer/work/projects/madminer/diboson_mining/data/samples/wgamma_sys/samples_antitight.h5\n",
      "15:55 madminer.fisherinfor INFO    Found 2 parameters\n",
      "15:55 madminer.fisherinfor INFO    Found 32 nuisance parameters\n",
      "15:55 madminer.fisherinfor INFO    Found 45 benchmarks, of which 6 physical\n",
      "15:55 madminer.fisherinfor INFO    Found 33 observables: et_miss, phi_miss, e_visible, eta_visible, e_l1, pt_l1, eta_l1, phi_l1, e_a1, pt_a1, eta_a1, phi_a1, e_j1, pt_j1, eta_j1, phi_j1, pdgid_l1, m_la, m_lmet, m_amet, pt_la, pt_lmet, pt_amet, deltaphi_la, deltaphi_lmet, deltaphi_amet, deltaeta_la, m_almet, pt_almet, mt, phi_minus, phi_plus, phi\n",
      "15:55 madminer.fisherinfor INFO    Found 548017 events\n",
      "15:55 madminer.fisherinfor INFO    Found morphing setup with 6 components\n",
      "15:55 madminer.fisherinfor INFO    Found nuisance morphing setup\n"
     ]
    }
   ],
   "source": [
    "fisher_all = FisherInformation(sample_dir + 'samples.h5')\n",
    "fisher_tight = FisherInformation(sample_dir + 'samples_tight.h5')\n",
    "fisher_antitight = FisherInformation(sample_dir + 'samples_antitight.h5')"
   ]
  },
  {
   "cell_type": "code",
   "execution_count": 8,
   "metadata": {},
   "outputs": [],
   "source": [
    "def calculate_info(filename, calculation_mode, tight_cuts=False, antitight_cuts=False, **kwargs):\n",
    "    if tight_cuts:\n",
    "        fisher_ = fisher_tight\n",
    "        ending_ = '_tight.npy'\n",
    "    elif antitight_cuts:\n",
    "        fisher_ = fisher_antitight\n",
    "        ending_ = '_antitight.npy'\n",
    "    else:\n",
    "        fisher_ =  fisher_all\n",
    "        ending_ = '.npy'\n",
    "    \n",
    "    if calculation_mode == \"truth\":\n",
    "        fisher_info, cov = fisher_.calculate_fisher_information_full_truth(\n",
    "            theta=[0.,0.],\n",
    "            luminosity = 3000000.,\n",
    "            **kwargs\n",
    "        )\n",
    "    elif calculation_mode == \"rate\":\n",
    "        fisher_info, cov = fisher_.calculate_fisher_information_rate(\n",
    "            theta=[0.,0.],\n",
    "            luminosity = 3000000.,\n",
    "            **kwargs\n",
    "        )\n",
    "    elif calculation_mode == \"histo\":\n",
    "        fisher_info, cov = fisher_.calculate_fisher_information_hist1d(\n",
    "            theta=[0.,0.],\n",
    "            luminosity = 3000000.,\n",
    "            **kwargs\n",
    "        )\n",
    "    elif calculation_mode == \"histo2d\":\n",
    "        fisher_info, cov = fisher_.calculate_fisher_information_hist2d(\n",
    "            theta=[0.,0.],\n",
    "            luminosity = 3000000.,\n",
    "            **kwargs\n",
    "        )\n",
    "    elif calculation_mode == \"ml\":\n",
    "        fisher_info, cov = fisher_.calculate_fisher_information_full_detector(\n",
    "            theta=[0.,0.],\n",
    "            luminosity = 3000000.,\n",
    "            **kwargs\n",
    "        )\n",
    "\n",
    "    np.save(result_dir + 'information_{}{}'.format(filename, ending_), fisher_info)\n",
    "    np.save(result_dir + 'covariance_{}{}'.format(filename, ending_), cov)\n",
    "\n",
    "    fisher_info_nuisance = fisher_.calculate_fisher_information_nuisance_constraints()\n",
    "    fisher_info, cov = profile_information(fisher_info + fisher_info_nuisance, [0,1], covariance=cov)\n",
    "    \n",
    "    np.save(result_dir + 'profiled_information_{}{}'.format(filename, ending_), fisher_info)\n",
    "    np.save(result_dir + 'profiled_covariance_{}{}'.format(filename, ending_), cov)\n"
   ]
  },
  {
   "cell_type": "markdown",
   "metadata": {},
   "source": [
    "## Truth-level info"
   ]
  },
  {
   "cell_type": "code",
   "execution_count": 9,
   "metadata": {},
   "outputs": [
    {
     "name": "stderr",
     "output_type": "stream",
     "text": [
      "/Users/johannbrehmer/work/projects/madminer/madminer/madminer/morphing.py:695: RuntimeWarning: invalid value encountered in log\n",
      "  a.append(np.log(benchmark_weights[:, i_pos] / benchmark_weights[:, self.i_benchmark_ref]))\n",
      "/Users/johannbrehmer/work/projects/madminer/madminer/madminer/fisherinformation.py:147: RuntimeWarning: covariance is not symmetric positive-semidefinite.\n",
      "  size=error_propagation_n_ensemble,\n"
     ]
    }
   ],
   "source": [
    "#calculate_info('parton', 'truth', False)\n",
    "#calculate_info('parton', 'truth', True)\n",
    "calculate_info('parton', 'truth', False, antitight_cuts=True)"
   ]
  },
  {
   "cell_type": "markdown",
   "metadata": {},
   "source": [
    "## Rate-only info"
   ]
  },
  {
   "cell_type": "code",
   "execution_count": 9,
   "metadata": {},
   "outputs": [],
   "source": [
    "#calculate_info('rate', 'rate', False)\n",
    "calculate_info('rate', 'rate', True)"
   ]
  },
  {
   "cell_type": "markdown",
   "metadata": {},
   "source": [
    "## Full Fisher info (ML)"
   ]
  },
  {
   "cell_type": "code",
   "execution_count": null,
   "metadata": {
    "scrolled": false
   },
   "outputs": [],
   "source": [
    "calculate_info('full', 'ml', False, model_file=model_dir + \"sally_ensemble_all\", batch_size=batch_size)\n",
    "calculate_info('full', 'ml', True, model_file=model_dir + \"sally_ensemble_all_tight\", batch_size=batch_size)\n",
    "calculate_info('full', 'ml', False, antitight_cuts=True, model_file=model_dir + \"sally_ensemble_all_antitight\", batch_size=batch_size)\n"
   ]
  },
  {
   "cell_type": "code",
   "execution_count": null,
   "metadata": {},
   "outputs": [],
   "source": [
    "#calculate_info('full_infomode', 'ml', False, model_file=model_dir + \"sally_ensemble_all\", mode=\"information\", batch_size=batch_size)\n",
    "#calculate_info('full_infomode', 'ml', True, model_file=model_dir + \"sally_ensemble_all_tight\", mode=\"information\", batch_size=batch_size)\n"
   ]
  },
  {
   "cell_type": "code",
   "execution_count": 43,
   "metadata": {},
   "outputs": [
    {
     "name": "stderr",
     "output_type": "stream",
     "text": [
      "16:31 madminer.ml          INFO    Found ensemble with 10 estimators and expectations None\n",
      "16:32 madminer.fisherinfor INFO    Evaluating rate Fisher information\n",
      "16:34 madminer.fisherinfor INFO    Evaluating kinematic Fisher information on batch 1 / 7\n",
      "16:35 madminer.fisherinfor INFO    Evaluating kinematic Fisher information on batch 2 / 7\n",
      "16:35 madminer.fisherinfor INFO    Evaluating kinematic Fisher information on batch 3 / 7\n",
      "16:36 madminer.fisherinfor INFO    Evaluating kinematic Fisher information on batch 4 / 7\n",
      "16:36 madminer.fisherinfor INFO    Evaluating kinematic Fisher information on batch 5 / 7\n",
      "16:37 madminer.fisherinfor INFO    Evaluating kinematic Fisher information on batch 6 / 7\n",
      "16:37 madminer.fisherinfor INFO    Evaluating kinematic Fisher information on batch 7 / 7\n"
     ]
    }
   ],
   "source": [
    "calculate_info('minimal', 'ml', False, model_file=model_dir + \"sally_ensemble_minimal\", batch_size=batch_size)\n",
    "#calculate_info('minimal', 'ml', True, model_file=model_dir + \"sally_ensemble_minimal_tight\", batch_size=batch_size)\n"
   ]
  },
  {
   "cell_type": "code",
   "execution_count": null,
   "metadata": {},
   "outputs": [],
   "source": [
    "calculate_info('phi', 'ml', True, model_file=model_dir + \"sally_ensemble_phi_tight\", batch_size=batch_size)\n"
   ]
  },
  {
   "cell_type": "code",
   "execution_count": null,
   "metadata": {},
   "outputs": [],
   "source": [
    "calculate_info('pta_phi', 'ml', True, model_file=model_dir + \"sally_ensemble_pta_phi_tight\", batch_size=batch_size)\n"
   ]
  },
  {
   "cell_type": "markdown",
   "metadata": {},
   "source": [
    "## Histogram info"
   ]
  },
  {
   "cell_type": "code",
   "execution_count": 16,
   "metadata": {},
   "outputs": [],
   "source": [
    "filenames = ['phi', 'met', 'ptl', 'pta', 'deltaphi_lv', 'deltaphi_la']\n",
    "observables = ['phi', 'et_miss', 'pt_l1', 'pt_a1', 'deltaphi_lmet', 'deltaphi_la']\n",
    "bins = 25\n",
    "\n",
    "for filename, obs in zip(filenames, observables):\n",
    "    calculate_info('histo_' + filename, 'histo', True, observable=obs, nbins=bins, histrange=None)\n",
    "    "
   ]
  },
  {
   "cell_type": "code",
   "execution_count": 17,
   "metadata": {},
   "outputs": [
    {
     "name": "stderr",
     "output_type": "stream",
     "text": [
      "/Users/johannbrehmer/work/projects/madminer/madminer/madminer/fisherinformation.py:1184: RuntimeWarning: divide by zero encountered in true_divide\n",
      "  inv_sigma = sanitize_array(1.0 / sigma)  # Shape (n_events,)\n",
      "/Users/johannbrehmer/work/projects/madminer/madminer/madminer/morphing.py:697: RuntimeWarning: invalid value encountered in true_divide\n",
      "  a.append(0.5 * np.log(benchmark_weights[:, i_pos] / benchmark_weights[:, i_neg]))\n",
      "/Users/johannbrehmer/work/projects/madminer/madminer/madminer/morphing.py:695: RuntimeWarning: invalid value encountered in true_divide\n",
      "  a.append(np.log(benchmark_weights[:, i_pos] / benchmark_weights[:, self.i_benchmark_ref]))\n"
     ]
    }
   ],
   "source": [
    "calculate_info(\n",
    "    'histo_pta_phi',\n",
    "    'histo2d',\n",
    "    True,\n",
    "    observable1='pt_a1',\n",
    "    nbins1=5,\n",
    "    histrange1=[300.,800.],\n",
    "    observable2='phi',\n",
    "    nbins2=10,\n",
    "    histrange2=None,\n",
    ")\n"
   ]
  },
  {
   "cell_type": "code",
   "execution_count": null,
   "metadata": {},
   "outputs": [],
   "source": []
  }
 ],
 "metadata": {
  "kernelspec": {
   "display_name": "Python (higgs_inference)",
   "language": "python",
   "name": "higgs_inference"
  },
  "language_info": {
   "codemirror_mode": {
    "name": "ipython",
    "version": 3
   },
   "file_extension": ".py",
   "mimetype": "text/x-python",
   "name": "python",
   "nbconvert_exporter": "python",
   "pygments_lexer": "ipython3",
   "version": "3.6.7"
  }
 },
 "nbformat": 4,
 "nbformat_minor": 2
}
