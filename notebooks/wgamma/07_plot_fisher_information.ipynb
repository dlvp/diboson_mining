{
 "cells": [
  {
   "cell_type": "markdown",
   "metadata": {},
   "source": [
    "# Plot Fisher information\n",
    "\n",
    "Johann Brehmer, Kyle Cranmer, Felix Kling, Duccio Pappadopulo, Josh Ruderman 2018"
   ]
  },
  {
   "cell_type": "code",
   "execution_count": null,
   "metadata": {},
   "outputs": [],
   "source": [
    "from __future__ import absolute_import, division, print_function, unicode_literals\n",
    "\n",
    "import numpy as np\n",
    "import matplotlib\n",
    "from matplotlib import pyplot as plt\n",
    "% matplotlib inline\n",
    "import logging\n",
    "import os\n",
    "\n",
    "import madminer.core\n",
    "from madminer.plotting import plot_fisher_information_contours_2d\n",
    "\n",
    "logging.basicConfig(format='%(asctime)s  %(message)s', datefmt='%H:%M')"
   ]
  },
  {
   "cell_type": "code",
   "execution_count": null,
   "metadata": {},
   "outputs": [],
   "source": [
    "base_dir = '/Users/johannbrehmer/work/projects/madminer/diboson_mining/'\n",
    "mg_dir = '/Users/johannbrehmer/work/projects/madminer/MG5_aMC_v2_6_2/'"
   ]
  },
  {
   "cell_type": "code",
   "execution_count": null,
   "metadata": {},
   "outputs": [],
   "source": [
    "sample_dir = base_dir + 'data/samples/wgamma/'\n",
    "card_dir = base_dir + 'cards/wgamma/'\n",
    "ufo_model_dir = card_dir + 'SMWgamma_UFO'\n",
    "run_card_dir = card_dir + 'run_cards/'\n",
    "mg_process_dir = base_dir + 'data/mg_processes/wgamma/'\n",
    "log_dir = base_dir + 'logs/wgamma/'\n",
    "temp_dir = base_dir + 'data/temp'\n",
    "delphes_dir = mg_dir + 'Delphes'\n",
    "model_dir = base_dir + 'data/models/wgamma/'\n",
    "result_dir = base_dir + 'data/results/wgamma/'"
   ]
  },
  {
   "cell_type": "markdown",
   "metadata": {},
   "source": [
    "## Load Fisher information results"
   ]
  },
  {
   "cell_type": "code",
   "execution_count": null,
   "metadata": {},
   "outputs": [],
   "source": [
    "info_xsec = np.load(result_dir + 'information_xsec.npy')"
   ]
  },
  {
   "cell_type": "code",
   "execution_count": null,
   "metadata": {},
   "outputs": [],
   "source": [
    "infos  = [info_xsec]\n",
    "covs   = [None]\n",
    "labels = ['xsec']\n",
    "colors = ['0.5']\n",
    "lss    = ['-']"
   ]
  },
  {
   "cell_type": "code",
   "execution_count": null,
   "metadata": {},
   "outputs": [],
   "source": [
    "histo_filenames = ['met', 'ptl', 'pta', 'deltaphi_lv', 'deltaphi_la']\n",
    "histo_labels    = ['MET', r'$p_{T,\\ell}$', r'$p_{T,\\gamma}$', r'$\\Delta\\phi$', r'$\\Delta\\phi_{\\ell\\gamma}$']\n",
    "histo_colors    = ['dodgerblue', 'deepskyblue', 'steelblue', 'mediumblue', 'cornflowerblue']\n",
    "histo_lss       = ['--', '-.', ':']*2\n",
    "\n",
    "for hfilename, hlabel, hcolor, hls in zip(histo_filenames, histo_labels, histo_colors, histo_lss):\n",
    "    infos.append(\n",
    "        np.load(result_dir + 'information_histo_{}.npy'.format(hfilename))\n",
    "    )\n",
    "    covs.append(None)\n",
    "    labels.append(hlabel)\n",
    "    colors.append(hcolor)\n",
    "    lss.append(hls)"
   ]
  },
  {
   "cell_type": "code",
   "execution_count": null,
   "metadata": {},
   "outputs": [],
   "source": [
    "ml_filenames = ['full', 'deltaphi', 'met']\n",
    "ml_labels    = ['full', r'$\\Delta\\phi$', 'MET']\n",
    "ml_colors    = ['#CC002E', 'orangered', 'r', 'firebrick', 'lightcoral', 'lightsalmon', 'chocolate']\n",
    "ml_lss       = ['-']*2 + ['--', '-.', ':']*2\n",
    "\n",
    "for hfilename, hlabel, hcolor, hls in zip(ml_filenames, ml_labels, ml_colors, ml_lss):\n",
    "    infos.append(\n",
    "        np.load(result_dir + 'information_mean_{}.npy'.format(hfilename))\n",
    "    )\n",
    "    covs.append(\n",
    "        np.load(result_dir + 'information_covariance_{}.npy'.format(hfilename))\n",
    "    )\n",
    "    labels.append(hlabel)\n",
    "    colors.append(hcolor)\n",
    "    lss.append(hls)"
   ]
  },
  {
   "cell_type": "markdown",
   "metadata": {},
   "source": [
    "## Plot"
   ]
  },
  {
   "cell_type": "code",
   "execution_count": null,
   "metadata": {},
   "outputs": [],
   "source": [
    "xmax = 0.02\n",
    "\n",
    "fig = plot_fisher_information_contours_2d(\n",
    "    fisher_information_matrices=infos,\n",
    "    fisher_information_covariances=covs,\n",
    "    contour_distance=1.,\n",
    "    xrange=(-xmax,xmax),\n",
    "    yrange=(-xmax,xmax),\n",
    "    xlabel=r'$f_{WWW}$',\n",
    "    ylabel=r'$f_{\\tilde{W}WW}$',\n",
    "    linestyles=lss,\n",
    "    colors=colors,\n",
    "    resolution=600,\n",
    "    inline_labels=labels\n",
    ")\n",
    "\n",
    "plt.savefig('wgamma_information.pdf')\n"
   ]
  },
  {
   "cell_type": "code",
   "execution_count": null,
   "metadata": {},
   "outputs": [],
   "source": []
  }
 ],
 "metadata": {
  "kernelspec": {
   "display_name": "Python [default]",
   "language": "python",
   "name": "python3"
  },
  "language_info": {
   "codemirror_mode": {
    "name": "ipython",
    "version": 3
   },
   "file_extension": ".py",
   "mimetype": "text/x-python",
   "name": "python",
   "nbconvert_exporter": "python",
   "pygments_lexer": "ipython3",
   "version": "3.6.4"
  }
 },
 "nbformat": 4,
 "nbformat_minor": 2
}
