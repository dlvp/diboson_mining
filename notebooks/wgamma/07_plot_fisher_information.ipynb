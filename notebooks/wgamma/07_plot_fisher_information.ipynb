{
 "cells": [
  {
   "cell_type": "markdown",
   "metadata": {},
   "source": [
    "# Plot Fisher information\n",
    "\n",
    "Johann Brehmer, Kyle Cranmer, Marco Farina, Felix Kling, Duccio Pappadopulo, Josh Ruderman 2018"
   ]
  },
  {
   "cell_type": "code",
   "execution_count": 1,
   "metadata": {},
   "outputs": [],
   "source": [
    "from __future__ import absolute_import, division, print_function, unicode_literals\n",
    "\n",
    "import numpy as np\n",
    "import matplotlib\n",
    "from matplotlib import pyplot as plt\n",
    "%matplotlib inline\n",
    "import logging\n",
    "import os\n",
    "\n",
    "import madminer.core\n",
    "from madminer.plotting import plot_fisher_information_contours_2d\n",
    "\n",
    "logging.basicConfig(format='%(asctime)s  %(message)s', datefmt='%H:%M')"
   ]
  },
  {
   "cell_type": "code",
   "execution_count": 2,
   "metadata": {},
   "outputs": [],
   "source": [
    "base_dir = '/Users/johannbrehmer/work/projects/madminer/diboson_mining/'\n",
    "mg_dir = '/Users/johannbrehmer/work/projects/madminer/MG5_aMC_v2_6_2/'"
   ]
  },
  {
   "cell_type": "code",
   "execution_count": 3,
   "metadata": {},
   "outputs": [],
   "source": [
    "sample_dir = base_dir + 'data/samples/wgamma/'\n",
    "card_dir = base_dir + 'cards/wgamma/'\n",
    "ufo_model_dir = card_dir + 'SMWgamma_UFO'\n",
    "run_card_dir = card_dir + 'run_cards/'\n",
    "mg_process_dir = base_dir + 'data/mg_processes/wgamma/'\n",
    "log_dir = base_dir + 'logs/wgamma/'\n",
    "temp_dir = base_dir + 'data/temp'\n",
    "delphes_dir = mg_dir + 'Delphes'\n",
    "model_dir = base_dir + 'data/models/wgamma/'\n",
    "result_dir = base_dir + 'data/results/wgamma/'"
   ]
  },
  {
   "cell_type": "markdown",
   "metadata": {},
   "source": [
    "## Load Fisher information results"
   ]
  },
  {
   "cell_type": "code",
   "execution_count": 10,
   "metadata": {},
   "outputs": [],
   "source": [
    "def load_data(ml_prefix = ''):\n",
    "    # Ground truth\n",
    "    infos  = [np.load(result_dir + 'information_parton.npy'),\n",
    "              np.load(result_dir + 'information_xsec_tight.npy')]\n",
    "    covs   = [np.load(result_dir + 'information_covariance_parton.npy'),\n",
    "              np.load(result_dir + 'information_covariance_xsec_tight.npy')]\n",
    "    labels = ['parton', 'xsec']\n",
    "    colors = ['black', '0.5']\n",
    "    lss    = [':', ':']\n",
    "    \n",
    "    # Histos\n",
    "    histo_filenames = ['phi', 'deltaphi_lv']#, 'met', 'ptl', 'pta', 'deltaphi_la', ]\n",
    "    histo_labels    = [r'$\\varphi$', r'$\\Delta\\phi_{\\ell\\nu}$']#, 'MET', r'$p_{T,\\ell}$', r'$p_{T,\\gamma}$', r'$\\Delta\\phi_{\\ell\\gamma}$']\n",
    "    histo_colors    = ['mediumblue', 'steelblue', 'dodgerblue', 'deepskyblue', 'cornflowerblue', 'b']\n",
    "    histo_lss       = ['--']*10\n",
    "\n",
    "    for hfilename, hlabel, hcolor, hls in zip(histo_filenames, histo_labels, histo_colors, histo_lss):\n",
    "        infos.append(\n",
    "            np.load(result_dir + 'information_histo_{}_tight.npy'.format(hfilename))\n",
    "        )\n",
    "        covs.append(\n",
    "            np.load(result_dir + 'information_covariance_histo_{}_tight.npy'.format(hfilename))\n",
    "        )\n",
    "        labels.append(hlabel)\n",
    "        colors.append(hcolor)\n",
    "        lss.append(hls)\n",
    "        \n",
    "    # ML\n",
    "    ml_filenames = ['full_tight', 'full_tight_info'] #['full', 'minimal', 'full_tight', 'minimal_tight', 'resurrection_tight']\n",
    "    ml_labels    = ['cuts (t)', 'cuts (I)'] # ['full', 'minimal', 'cuts', 'cuts min', r'$\\varphi$']\n",
    "    ml_colors    = ['#CC002E', 'firebrick', 'orangered', 'lightcoral', 'r', 'chocolate', 'lightsalmon']\n",
    "    ml_lss       = ['-', '-', '-.', '-.'] + ['--']*5\n",
    "\n",
    "    for hfilename, hlabel, hcolor, hls in zip(ml_filenames, ml_labels, ml_colors, ml_lss):\n",
    "        infos.append(\n",
    "            np.load(result_dir + 'information_mean_{}{}.npy'.format(hfilename, ml_prefix))\n",
    "        )\n",
    "        covs.append(\n",
    "            np.load(result_dir + 'information_covariance_{}{}.npy'.format(hfilename, ml_prefix))\n",
    "        )\n",
    "        labels.append(hlabel)\n",
    "        colors.append(hcolor)\n",
    "        lss.append(hls)\n",
    "        \n",
    "    return infos, covs, labels, colors, lss\n"
   ]
  },
  {
   "cell_type": "code",
   "execution_count": 12,
   "metadata": {},
   "outputs": [
    {
     "name": "stdout",
     "output_type": "stream",
     "text": [
      "0 parton\n",
      "1 xsec\n",
      "2 $\\varphi$\n",
      "3 $\\Delta\\phi_{\\ell\\nu}$\n",
      "4 cuts (t)\n",
      "5 cuts (I)\n"
     ]
    }
   ],
   "source": [
    "infos, covs, labels, colors, lss = load_data('')\n",
    "\n",
    "for i, label in enumerate(labels):\n",
    "    print(i, label)"
   ]
  },
  {
   "cell_type": "markdown",
   "metadata": {},
   "source": [
    "## Plotting function"
   ]
  },
  {
   "cell_type": "code",
   "execution_count": 13,
   "metadata": {},
   "outputs": [],
   "source": [
    "def make_plot(ml_prefix = '', indices=None, xmax=0.004):\n",
    "    infos, covs, labels, colors, lss = load_data(ml_prefix)\n",
    "    \n",
    "    if indices is not None:\n",
    "        infos = [infos[i] for i in indices]\n",
    "        covs = [covs[i] for i in indices]\n",
    "        labels = [labels[i] for i in indices]\n",
    "        colors = [colors[i] for i in indices]\n",
    "        lss = [lss[i] for i in indices]\n",
    "\n",
    "    fig = plot_fisher_information_contours_2d(\n",
    "        fisher_information_matrices=infos,\n",
    "        fisher_information_covariances=covs,\n",
    "        contour_distance=1.,\n",
    "        xrange=(-xmax,xmax),\n",
    "        yrange=(-xmax,xmax),\n",
    "        xlabel=r'$f_{WWW}$',\n",
    "        ylabel=r'$f_{\\tilde{W}WW}$',\n",
    "        linestyles=lss,\n",
    "        colors=colors,\n",
    "        resolution=600,\n",
    "        inline_labels=labels\n",
    "    )\n",
    "    \n",
    "    return fig\n"
   ]
  },
  {
   "cell_type": "markdown",
   "metadata": {},
   "source": [
    "## Plots"
   ]
  },
  {
   "cell_type": "code",
   "execution_count": 14,
   "metadata": {
    "scrolled": true
   },
   "outputs": [
    {
     "data": {
      "image/png": "[encoded data removed]",
      "text/plain": [
       "<Figure size 360x360 with 1 Axes>"
      ]
     },
     "metadata": {
      "needs_background": "light"
     },
     "output_type": "display_data"
    }
   ],
   "source": [
    "fig = make_plot('', xmax=0.004)"
   ]
  },
  {
   "cell_type": "code",
   "execution_count": null,
   "metadata": {},
   "outputs": [],
   "source": []
  }
 ],
 "metadata": {
  "kernelspec": {
   "display_name": "Python 3",
   "language": "python",
   "name": "python3"
  },
  "language_info": {
   "codemirror_mode": {
    "name": "ipython",
    "version": 3
   },
   "file_extension": ".py",
   "mimetype": "text/x-python",
   "name": "python",
   "nbconvert_exporter": "python",
   "pygments_lexer": "ipython3",
   "version": "3.6.7"
  }
 },
 "nbformat": 4,
 "nbformat_minor": 2
}
