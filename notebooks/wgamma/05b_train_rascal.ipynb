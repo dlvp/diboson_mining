{
 "cells": [
  {
   "cell_type": "markdown",
   "metadata": {
    "nbpresent": {
     "id": "f9deb73c-b62f-4cff-8d83-724074098c92"
    }
   },
   "source": [
    "# Train RASCAL ensemble\n",
    "\n",
    "Johann Brehmer, Kyle Cranmer, Felix Kling, Duccio Pappadopulo, Josh Ruderman 2018"
   ]
  },
  {
   "cell_type": "code",
   "execution_count": 1,
   "metadata": {
    "nbpresent": {
     "id": "fe57a76c-4838-44c4-b0cc-5ee166785e4a"
    }
   },
   "outputs": [],
   "source": [
    "from __future__ import absolute_import, division, print_function, unicode_literals\n",
    "\n",
    "import numpy as np\n",
    "import matplotlib\n",
    "from matplotlib import pyplot as plt\n",
    "% matplotlib inline\n",
    "import logging\n",
    "import os\n",
    "\n",
    "from madminer.sampling import SampleAugmenter\n",
    "from madminer.sampling import multiple_benchmark_thetas\n",
    "from madminer.sampling import constant_morphing_theta, multiple_morphing_thetas, random_morphing_thetas\n",
    "from madminer.ml import MLForge, EnsembleForge\n",
    "\n",
    "logging.basicConfig(format='%(asctime)s  %(message)s', datefmt='%H:%M')"
   ]
  },
  {
   "cell_type": "code",
   "execution_count": 2,
   "metadata": {
    "nbpresent": {
     "id": "f3463c40-6421-42a1-8681-527c3ec42541"
    }
   },
   "outputs": [],
   "source": [
    "base_dir = '/Users/johannbrehmer/work/projects/madminer/diboson_mining/'\n",
    "mg_dir = '/Users/johannbrehmer/work/projects/madminer/MG5_aMC_v2_6_2/'"
   ]
  },
  {
   "cell_type": "code",
   "execution_count": 3,
   "metadata": {
    "nbpresent": {
     "id": "b2c73eca-c625-4f7a-9cee-4ccb2dcbb3e9"
    }
   },
   "outputs": [],
   "source": [
    "sample_dir = base_dir + 'data/samples/wgamma/'\n",
    "card_dir = base_dir + 'cards/wgamma/'\n",
    "ufo_model_dir = card_dir + 'SMWgamma_UFO'\n",
    "run_card_dir = card_dir + 'run_cards/'\n",
    "mg_process_dir = base_dir + 'data/mg_processes/wgamma/'\n",
    "log_dir = base_dir + 'logs/wgamma/'\n",
    "temp_dir = base_dir + 'data/temp'\n",
    "delphes_dir = mg_dir + 'Delphes'\n",
    "model_dir = base_dir + 'data/models/wgamma/'"
   ]
  },
  {
   "cell_type": "markdown",
   "metadata": {},
   "source": [
    "## Settings"
   ]
  },
  {
   "cell_type": "code",
   "execution_count": 4,
   "metadata": {},
   "outputs": [],
   "source": [
    "n_estimators = 3"
   ]
  },
  {
   "cell_type": "markdown",
   "metadata": {},
   "source": [
    "## Training function"
   ]
  },
  {
   "cell_type": "code",
   "execution_count": 5,
   "metadata": {},
   "outputs": [],
   "source": [
    "def train_ensemble(filename, use_tight_cuts=True, n_estimators=n_estimators, **kwargs):\n",
    "    cut_label = '_tight' if use_tight_cuts else ''\n",
    "    \n",
    "    ensemble = EnsembleForge(n_estimators, debug=True)\n",
    "\n",
    "    ensemble.train_all(\n",
    "        method='rascal2',\n",
    "        x_filename=[sample_dir + 'train_ratios{}/x_train_{}.npy'.format(cut_label, i) for i in range(n_estimators)],\n",
    "        theta0_filename=[sample_dir + 'train_ratios{}/theta0_train_{}.npy'.format(cut_label, i) for i in range(n_estimators)],\n",
    "        theta1_filename=[sample_dir + 'train_ratios{}/theta1_train_{}.npy'.format(cut_label, i) for i in range(n_estimators)],\n",
    "        t_xz0_filename=[sample_dir + 'train_ratios{}/t_xz0_train_{}.npy'.format(cut_label, i) for i in range(n_estimators)],\n",
    "        t_xz1_filename=[sample_dir + 'train_ratios{}/t_xz1_train_{}.npy'.format(cut_label, i) for i in range(n_estimators)],\n",
    "        r_xz_filename=[sample_dir + 'train_ratios{}/r_xz_train_{}.npy'.format(cut_label, i) for i in range(n_estimators)],\n",
    "        y_filename=[sample_dir + 'train_ratios{}/y_train_{}.npy'.format(cut_label, i) for i in range(n_estimators)],\n",
    "        **kwargs\n",
    "    )\n",
    "\n",
    "    ensemble.save(model_dir + 'rascal2_ensemble_' + filename)"
   ]
  },
  {
   "cell_type": "markdown",
   "metadata": {
    "nbpresent": {
     "id": "b45e7f73-8f4c-4261-a381-4b7ad6af120f"
    }
   },
   "source": [
    "## All observables"
   ]
  },
  {
   "cell_type": "code",
   "execution_count": 6,
   "metadata": {
    "scrolled": false
   },
   "outputs": [
    {
     "name": "stderr",
     "output_type": "stream",
     "text": [
      "07:13  \n",
      "07:13  ------------------------------------------------------------\n",
      "07:13  |                                                          |\n",
      "07:13  |  MadMiner v2018.11.12                                    |\n",
      "07:13  |                                                          |\n",
      "07:13  |           Johann Brehmer, Kyle Cranmer, and Felix Kling  |\n",
      "07:13  |                                                          |\n",
      "07:13  ------------------------------------------------------------\n",
      "07:13  \n",
      "07:13  Training 3 estimators in ensemble\n",
      "07:13  Training estimator 1 / 3 in ensemble\n",
      "07:13  Starting training\n",
      "07:13    Method:                 rascal2\n",
      "07:13    Training data: x at /Users/johannbrehmer/work/projects/madminer/diboson_mining/data/samples/wgamma/train_ratios/x_train_0.npy\n",
      "07:13                   theta0 at /Users/johannbrehmer/work/projects/madminer/diboson_mining/data/samples/wgamma/train_ratios/theta0_train_0.npy\n",
      "07:13                   theta1 at /Users/johannbrehmer/work/projects/madminer/diboson_mining/data/samples/wgamma/train_ratios/theta1_train_0.npy\n",
      "07:13                   y at /Users/johannbrehmer/work/projects/madminer/diboson_mining/data/samples/wgamma/train_ratios/y_train_0.npy\n",
      "07:13                   r_xz at /Users/johannbrehmer/work/projects/madminer/diboson_mining/data/samples/wgamma/train_ratios/r_xz_train_0.npy\n",
      "07:13                   t_xz (theta0) at  /Users/johannbrehmer/work/projects/madminer/diboson_mining/data/samples/wgamma/train_ratios/t_xz0_train_0.npy\n",
      "07:13                   t_xz (theta1) at  /Users/johannbrehmer/work/projects/madminer/diboson_mining/data/samples/wgamma/train_ratios/t_xz1_train_0.npy\n",
      "07:13    Features:               all\n",
      "07:13    Method:                 rascal2\n",
      "07:13    Hidden layers:          (100, 100, 100, 100)\n",
      "07:13    Activation function:    tanh\n",
      "07:13    alpha:                  1.0\n",
      "07:13    Batch size:             128\n",
      "07:13    Trainer:                amsgrad\n",
      "07:13    Epochs:                 50\n",
      "07:13    Learning rate:          0.01 initially, decaying to 0.0001\n",
      "07:13    Validation split:       None\n",
      "07:13    Early stopping:         True\n",
      "07:13    Scale inputs:           True\n",
      "07:13    Shuffle labels          False\n",
      "07:13    Regularization:         None\n",
      "07:13  Loading training data\n",
      "07:13  Found 1000000 samples with 2 parameters and 27 observables\n",
      "07:13  Rescaling inputs\n",
      "07:13  Observable ranges:\n",
      "07:13    x_1: mean 2.8890667636005675e-17, std 0.9999999999999313, range -0.35005722403860956 ... 29.253605112818416\n",
      "07:13    x_2: mean -2.826983092063529e-17, std 1.0000000000000722, range -1.7313808063550673 ... 1.7292687876283872\n",
      "07:13    x_3: mean 1.5366108385705956e-14, std 1.0000000000000024, range -0.5673896192221592 ... 25.314557282917107\n",
      "07:13    x_4: mean -2.560796019679401e-17, std 0.9999999999999641, range -4.4840575696512 ... 4.463317786515999\n",
      "07:13    x_5: mean -5.692157856174163e-17, std 0.9999999999998911, range -0.47552251242128696 ... 45.610148407392636\n",
      "07:13    x_6: mean -1.3399953147086308e-14, std 0.9999999999999979, range -0.5513182565299134 ... 33.96151274120855\n",
      "07:13    x_7: mean 1.0167866548727034e-17, std 0.9999999999999103, range -1.7911131229333996 ... 1.7890196252724908\n",
      "07:13    x_8: mean 2.5899282718455653e-18, std 1.0000000000000615, range -1.7275912062999734 ... 1.7307447050952647\n",
      "07:13    x_9: mean -2.092548356813495e-17, std 0.9999999999999929, range -0.41730881218722077 ... 27.14626954116392\n",
      "07:13    x_10: mean -2.184208369726548e-17, std 1.0000000000000102, range -0.5268255203196618 ... 29.026063236345774\n",
      "07:13    x_11: mean -1.5013768006610916e-17, std 0.9999999999999435, range -1.8220261707737482 ... 1.838024188817928\n",
      "07:13    x_12: mean 1.1787903986260063e-17, std 1.0000000000000384, range -1.7304167602922949 ... 1.740797780531236\n",
      "07:13    x_13: mean -5.826450433232822e-17, std 0.9999999999981023, range -0.3992087454770004 ... 85.66954610480349\n",
      "07:13    x_14: mean -1.9755638902552163e-14, std 0.9999999999964612, range -0.28104777325076374 ... 26.596234003531183\n",
      "07:13    x_15: mean -2.5632829192545614e-17, std 0.9999999999932199, range -5.80923663034749 ... 5.787654628083717\n",
      "07:13    x_16: mean 2.8052227207808756e-17, std 0.9999999999992549, range -3.776380255831433 ... 3.763350678882285\n",
      "07:13    x_17: mean 2.5387691948708378e-17, std 0.999999999999998, range -2.506007914439934 ... 2.505002147456267\n",
      "07:13    x_18: mean -4.162359346082667e-17, std 1.0000000000000235, range -2.0070635953360423 ... 2.0475198644820556\n",
      "07:13    x_19: mean -1.2084053047090037e-13, std 0.9999999999999917, range -1.1444492532948103 ... 67.51787732714587\n",
      "07:13    x_20: mean -1.459278919924145e-14, std 1.000000000000001, range -0.5198666247910803 ... 36.08873642067687\n",
      "07:13    x_21: mean -2.5070633569157508e-14, std 1.0000000000000129, range -0.579072547175741 ... 30.184465201278346\n",
      "07:13    x_22: mean -4.462208380573429e-18, std 0.9999999999999747, range -3.5606850798532066 ... 3.5898481541838323\n",
      "07:13    x_23: mean -2.014388655879884e-18, std 0.9999999999999507, range -2.276242743992422 ... 2.283066418452783\n",
      "07:13    x_24: mean 2.4446560331625734e-14, std 1.0000000000000127, range -0.5713623725030887 ... 26.77048585014562\n",
      "07:13    x_25: mean -2.2798438692461786e-14, std 0.9999999999999326, range -0.6414170932716119 ... 48.913737626009905\n",
      "07:13    x_26: mean -1.1474740624350944e-13, std 1.0000000000000127, range -1.3738876662049533 ... 140.5185821227917\n",
      "07:13    x_27: mean -2.2822632672614418e-17, std 1.0000000000000584, range -1.6315284807787704 ... 1.6323412615173882\n",
      "07:13  Creating model for method rascal2\n",
      "07:13  Training model\n"
     ]
    },
    {
     "ename": "KeyboardInterrupt",
     "evalue": "",
     "output_type": "error",
     "traceback": [
      "\u001b[0;31m---------------------------------------------------------------------------\u001b[0m",
      "\u001b[0;31mKeyboardInterrupt\u001b[0m                         Traceback (most recent call last)",
      "\u001b[0;32m<ipython-input-6-8b0a2cabe229>\u001b[0m in \u001b[0;36m<module>\u001b[0;34m()\u001b[0m\n\u001b[1;32m      1\u001b[0m train_ensemble(\n\u001b[1;32m      2\u001b[0m     \u001b[0;34m'all'\u001b[0m\u001b[0;34m,\u001b[0m\u001b[0;34m\u001b[0m\u001b[0m\n\u001b[0;32m----> 3\u001b[0;31m     \u001b[0muse_tight_cuts\u001b[0m\u001b[0;34m=\u001b[0m\u001b[0;32mFalse\u001b[0m\u001b[0;34m,\u001b[0m\u001b[0;34m\u001b[0m\u001b[0m\n\u001b[0m\u001b[1;32m      4\u001b[0m )\n",
      "\u001b[0;32m<ipython-input-5-412575c1271c>\u001b[0m in \u001b[0;36mtrain_ensemble\u001b[0;34m(filename, use_tight_cuts, n_estimators, **kwargs)\u001b[0m\n\u001b[1;32m     13\u001b[0m         \u001b[0mr_xz_filename\u001b[0m\u001b[0;34m=\u001b[0m\u001b[0;34m[\u001b[0m\u001b[0msample_dir\u001b[0m \u001b[0;34m+\u001b[0m \u001b[0;34m'train_ratios{}/r_xz_train_{}.npy'\u001b[0m\u001b[0;34m.\u001b[0m\u001b[0mformat\u001b[0m\u001b[0;34m(\u001b[0m\u001b[0mcut_label\u001b[0m\u001b[0;34m,\u001b[0m \u001b[0mi\u001b[0m\u001b[0;34m)\u001b[0m \u001b[0;32mfor\u001b[0m \u001b[0mi\u001b[0m \u001b[0;32min\u001b[0m \u001b[0mrange\u001b[0m\u001b[0;34m(\u001b[0m\u001b[0mn_estimators\u001b[0m\u001b[0;34m)\u001b[0m\u001b[0;34m]\u001b[0m\u001b[0;34m,\u001b[0m\u001b[0;34m\u001b[0m\u001b[0m\n\u001b[1;32m     14\u001b[0m         \u001b[0my_filename\u001b[0m\u001b[0;34m=\u001b[0m\u001b[0;34m[\u001b[0m\u001b[0msample_dir\u001b[0m \u001b[0;34m+\u001b[0m \u001b[0;34m'train_ratios{}/y_train_{}.npy'\u001b[0m\u001b[0;34m.\u001b[0m\u001b[0mformat\u001b[0m\u001b[0;34m(\u001b[0m\u001b[0mcut_label\u001b[0m\u001b[0;34m,\u001b[0m \u001b[0mi\u001b[0m\u001b[0;34m)\u001b[0m \u001b[0;32mfor\u001b[0m \u001b[0mi\u001b[0m \u001b[0;32min\u001b[0m \u001b[0mrange\u001b[0m\u001b[0;34m(\u001b[0m\u001b[0mn_estimators\u001b[0m\u001b[0;34m)\u001b[0m\u001b[0;34m]\u001b[0m\u001b[0;34m,\u001b[0m\u001b[0;34m\u001b[0m\u001b[0m\n\u001b[0;32m---> 15\u001b[0;31m         \u001b[0;34m**\u001b[0m\u001b[0mkwargs\u001b[0m\u001b[0;34m\u001b[0m\u001b[0m\n\u001b[0m\u001b[1;32m     16\u001b[0m     )\n\u001b[1;32m     17\u001b[0m \u001b[0;34m\u001b[0m\u001b[0m\n",
      "\u001b[0;32m~/work/projects/madminer/madminer/madminer/ml.py\u001b[0m in \u001b[0;36mtrain_all\u001b[0;34m(self, **kwargs)\u001b[0m\n\u001b[1;32m   1108\u001b[0m \u001b[0;34m\u001b[0m\u001b[0m\n\u001b[1;32m   1109\u001b[0m             \u001b[0mlogging\u001b[0m\u001b[0;34m.\u001b[0m\u001b[0minfo\u001b[0m\u001b[0;34m(\u001b[0m\u001b[0;34m\"Training estimator %s / %s in ensemble\"\u001b[0m\u001b[0;34m,\u001b[0m \u001b[0mi\u001b[0m \u001b[0;34m+\u001b[0m \u001b[0;36m1\u001b[0m\u001b[0;34m,\u001b[0m \u001b[0mself\u001b[0m\u001b[0;34m.\u001b[0m\u001b[0mn_estimators\u001b[0m\u001b[0;34m)\u001b[0m\u001b[0;34m\u001b[0m\u001b[0m\n\u001b[0;32m-> 1110\u001b[0;31m             \u001b[0mestimator\u001b[0m\u001b[0;34m.\u001b[0m\u001b[0mtrain\u001b[0m\u001b[0;34m(\u001b[0m\u001b[0;34m**\u001b[0m\u001b[0mkwargs_this_estimator\u001b[0m\u001b[0;34m)\u001b[0m\u001b[0;34m\u001b[0m\u001b[0m\n\u001b[0m\u001b[1;32m   1111\u001b[0m \u001b[0;34m\u001b[0m\u001b[0m\n\u001b[1;32m   1112\u001b[0m     \u001b[0;32mdef\u001b[0m \u001b[0mcalculate_expectation\u001b[0m\u001b[0;34m(\u001b[0m\u001b[0mself\u001b[0m\u001b[0;34m,\u001b[0m \u001b[0mx_filename\u001b[0m\u001b[0;34m,\u001b[0m \u001b[0mtheta0_filename\u001b[0m\u001b[0;34m=\u001b[0m\u001b[0;32mNone\u001b[0m\u001b[0;34m,\u001b[0m \u001b[0mtheta1_filename\u001b[0m\u001b[0;34m=\u001b[0m\u001b[0;32mNone\u001b[0m\u001b[0;34m)\u001b[0m\u001b[0;34m:\u001b[0m\u001b[0;34m\u001b[0m\u001b[0m\n",
      "\u001b[0;32m~/work/projects/madminer/madminer/madminer/ml.py\u001b[0m in \u001b[0;36mtrain\u001b[0;34m(self, method, x_filename, y_filename, theta0_filename, theta1_filename, r_xz_filename, t_xz0_filename, t_xz1_filename, features, nde_type, n_hidden, activation, maf_n_mades, maf_batch_norm, maf_batch_norm_alpha, maf_mog_n_components, alpha, trainer, n_epochs, batch_size, initial_lr, final_lr, nesterov_momentum, validation_split, early_stopping, scale_inputs, shuffle_labels, grad_x_regularization)\u001b[0m\n\u001b[1;32m    544\u001b[0m                 \u001b[0mnesterov_momentum\u001b[0m\u001b[0;34m=\u001b[0m\u001b[0mnesterov_momentum\u001b[0m\u001b[0;34m,\u001b[0m\u001b[0;34m\u001b[0m\u001b[0m\n\u001b[1;32m    545\u001b[0m                 \u001b[0mverbose\u001b[0m\u001b[0;34m=\u001b[0m\u001b[0;34m\"all\"\u001b[0m \u001b[0;32mif\u001b[0m \u001b[0mself\u001b[0m\u001b[0;34m.\u001b[0m\u001b[0mdebug\u001b[0m \u001b[0;32melse\u001b[0m \u001b[0;34m\"some\"\u001b[0m\u001b[0;34m,\u001b[0m\u001b[0;34m\u001b[0m\u001b[0m\n\u001b[0;32m--> 546\u001b[0;31m                 \u001b[0mgrad_x_regularization\u001b[0m\u001b[0;34m=\u001b[0m\u001b[0mgrad_x_regularization\u001b[0m\u001b[0;34m,\u001b[0m\u001b[0;34m\u001b[0m\u001b[0m\n\u001b[0m\u001b[1;32m    547\u001b[0m             )\n\u001b[1;32m    548\u001b[0m \u001b[0;34m\u001b[0m\u001b[0m\n",
      "\u001b[0;32m~/work/projects/madminer/madminer/madminer/utils/ml/ratio_trainer.py\u001b[0m in \u001b[0;36mtrain_ratio_model\u001b[0;34m(model, loss_functions, method_type, theta0s, theta1s, xs, ys, r_xzs, t_xz0s, t_xz1s, loss_weights, loss_labels, batch_size, trainer, initial_learning_rate, final_learning_rate, nesterov_momentum, n_epochs, clip_gradient, run_on_gpu, double_precision, validation_split, early_stopping, early_stopping_patience, grad_x_regularization, learning_curve_folder, learning_curve_filename, verbose)\u001b[0m\n\u001b[1;32m    226\u001b[0m                     \u001b[0mt_hat1\u001b[0m \u001b[0;34m=\u001b[0m \u001b[0;32mNone\u001b[0m\u001b[0;34m\u001b[0m\u001b[0m\n\u001b[1;32m    227\u001b[0m                 \u001b[0;32melif\u001b[0m \u001b[0mmethod_type\u001b[0m \u001b[0;34m==\u001b[0m \u001b[0;34m\"doubly_parameterized\"\u001b[0m\u001b[0;34m:\u001b[0m\u001b[0;34m\u001b[0m\u001b[0m\n\u001b[0;32m--> 228\u001b[0;31m                     \u001b[0ms_hat\u001b[0m\u001b[0;34m,\u001b[0m \u001b[0mlog_r_hat\u001b[0m\u001b[0;34m,\u001b[0m \u001b[0mt_hat0\u001b[0m\u001b[0;34m,\u001b[0m \u001b[0mt_hat1\u001b[0m \u001b[0;34m=\u001b[0m \u001b[0mmodel\u001b[0m\u001b[0;34m(\u001b[0m\u001b[0mtheta0\u001b[0m\u001b[0;34m,\u001b[0m \u001b[0mtheta1\u001b[0m\u001b[0;34m,\u001b[0m \u001b[0mx\u001b[0m\u001b[0;34m)\u001b[0m\u001b[0;34m\u001b[0m\u001b[0m\n\u001b[0m\u001b[1;32m    229\u001b[0m                 \u001b[0;32melse\u001b[0m\u001b[0;34m:\u001b[0m\u001b[0;34m\u001b[0m\u001b[0m\n\u001b[1;32m    230\u001b[0m                     \u001b[0;32mraise\u001b[0m \u001b[0mValueError\u001b[0m\u001b[0;34m(\u001b[0m\u001b[0;34m\"Unknown method type {}\"\u001b[0m\u001b[0;34m.\u001b[0m\u001b[0mformat\u001b[0m\u001b[0;34m(\u001b[0m\u001b[0mmethod_type\u001b[0m\u001b[0;34m)\u001b[0m\u001b[0;34m)\u001b[0m\u001b[0;34m\u001b[0m\u001b[0m\n",
      "\u001b[0;32m~/anaconda3/envs/higgs_inference/lib/python3.6/site-packages/torch/nn/modules/module.py\u001b[0m in \u001b[0;36m__call__\u001b[0;34m(self, *input, **kwargs)\u001b[0m\n\u001b[1;32m    475\u001b[0m             \u001b[0mresult\u001b[0m \u001b[0;34m=\u001b[0m \u001b[0mself\u001b[0m\u001b[0;34m.\u001b[0m\u001b[0m_slow_forward\u001b[0m\u001b[0;34m(\u001b[0m\u001b[0;34m*\u001b[0m\u001b[0minput\u001b[0m\u001b[0;34m,\u001b[0m \u001b[0;34m**\u001b[0m\u001b[0mkwargs\u001b[0m\u001b[0;34m)\u001b[0m\u001b[0;34m\u001b[0m\u001b[0m\n\u001b[1;32m    476\u001b[0m         \u001b[0;32melse\u001b[0m\u001b[0;34m:\u001b[0m\u001b[0;34m\u001b[0m\u001b[0m\n\u001b[0;32m--> 477\u001b[0;31m             \u001b[0mresult\u001b[0m \u001b[0;34m=\u001b[0m \u001b[0mself\u001b[0m\u001b[0;34m.\u001b[0m\u001b[0mforward\u001b[0m\u001b[0;34m(\u001b[0m\u001b[0;34m*\u001b[0m\u001b[0minput\u001b[0m\u001b[0;34m,\u001b[0m \u001b[0;34m**\u001b[0m\u001b[0mkwargs\u001b[0m\u001b[0;34m)\u001b[0m\u001b[0;34m\u001b[0m\u001b[0m\n\u001b[0m\u001b[1;32m    478\u001b[0m         \u001b[0;32mfor\u001b[0m \u001b[0mhook\u001b[0m \u001b[0;32min\u001b[0m \u001b[0mself\u001b[0m\u001b[0;34m.\u001b[0m\u001b[0m_forward_hooks\u001b[0m\u001b[0;34m.\u001b[0m\u001b[0mvalues\u001b[0m\u001b[0;34m(\u001b[0m\u001b[0;34m)\u001b[0m\u001b[0;34m:\u001b[0m\u001b[0;34m\u001b[0m\u001b[0m\n\u001b[1;32m    479\u001b[0m             \u001b[0mhook_result\u001b[0m \u001b[0;34m=\u001b[0m \u001b[0mhook\u001b[0m\u001b[0;34m(\u001b[0m\u001b[0mself\u001b[0m\u001b[0;34m,\u001b[0m \u001b[0minput\u001b[0m\u001b[0;34m,\u001b[0m \u001b[0mresult\u001b[0m\u001b[0;34m)\u001b[0m\u001b[0;34m\u001b[0m\u001b[0m\n",
      "\u001b[0;32m~/work/projects/madminer/madminer/madminer/utils/ml/models/ratio.py\u001b[0m in \u001b[0;36mforward\u001b[0;34m(self, theta0, theta1, x, track_score, return_grad_x)\u001b[0m\n\u001b[1;32m    157\u001b[0m             t_hat1 = grad(log_r_hat, theta1,\n\u001b[1;32m    158\u001b[0m                           \u001b[0mgrad_outputs\u001b[0m\u001b[0;34m=\u001b[0m\u001b[0mtorch\u001b[0m\u001b[0;34m.\u001b[0m\u001b[0mones_like\u001b[0m\u001b[0;34m(\u001b[0m\u001b[0mlog_r_hat\u001b[0m\u001b[0;34m.\u001b[0m\u001b[0mdata\u001b[0m\u001b[0;34m)\u001b[0m\u001b[0;34m,\u001b[0m\u001b[0;34m\u001b[0m\u001b[0m\n\u001b[0;32m--> 159\u001b[0;31m                           only_inputs=True, create_graph=True)[0]\n\u001b[0m\u001b[1;32m    160\u001b[0m             \u001b[0;31m# NOTE: this is a factor of 4 slower than the simple parameterized version (2 gradients * 2 times\u001b[0m\u001b[0;34m\u001b[0m\u001b[0;34m\u001b[0m\u001b[0m\n\u001b[1;32m    161\u001b[0m             \u001b[0;31m#       slower calculation each)\u001b[0m\u001b[0;34m\u001b[0m\u001b[0;34m\u001b[0m\u001b[0m\n",
      "\u001b[0;32m~/anaconda3/envs/higgs_inference/lib/python3.6/site-packages/torch/autograd/__init__.py\u001b[0m in \u001b[0;36mgrad\u001b[0;34m(outputs, inputs, grad_outputs, retain_graph, create_graph, only_inputs, allow_unused)\u001b[0m\n\u001b[1;32m    143\u001b[0m     return Variable._execution_engine.run_backward(\n\u001b[1;32m    144\u001b[0m         \u001b[0moutputs\u001b[0m\u001b[0;34m,\u001b[0m \u001b[0mgrad_outputs\u001b[0m\u001b[0;34m,\u001b[0m \u001b[0mretain_graph\u001b[0m\u001b[0;34m,\u001b[0m \u001b[0mcreate_graph\u001b[0m\u001b[0;34m,\u001b[0m\u001b[0;34m\u001b[0m\u001b[0m\n\u001b[0;32m--> 145\u001b[0;31m         inputs, allow_unused)\n\u001b[0m\u001b[1;32m    146\u001b[0m \u001b[0;34m\u001b[0m\u001b[0m\n\u001b[1;32m    147\u001b[0m \u001b[0;34m\u001b[0m\u001b[0m\n",
      "\u001b[0;31mKeyboardInterrupt\u001b[0m: "
     ]
    }
   ],
   "source": [
    "train_ensemble(\n",
    "    'all',\n",
    "    use_tight_cuts=False,\n",
    ")"
   ]
  },
  {
   "cell_type": "code",
   "execution_count": null,
   "metadata": {},
   "outputs": [],
   "source": [
    "train_ensemble(\n",
    "    'all_tight',\n",
    "    use_tight_cuts=True,\n",
    ")"
   ]
  },
  {
   "cell_type": "markdown",
   "metadata": {},
   "source": [
    "## Just resurrection phi"
   ]
  },
  {
   "cell_type": "code",
   "execution_count": null,
   "metadata": {},
   "outputs": [],
   "source": [
    "train_ensemble(\n",
    "    'resurrection',\n",
    "    use_tight_cuts=True,\n",
    "    features=[[26] for _ in range(n_estimators)],\n",
    ")"
   ]
  },
  {
   "cell_type": "code",
   "execution_count": null,
   "metadata": {},
   "outputs": [],
   "source": []
  }
 ],
 "metadata": {
  "kernelspec": {
   "display_name": "Python [default]",
   "language": "python",
   "name": "python3"
  },
  "language_info": {
   "codemirror_mode": {
    "name": "ipython",
    "version": 3
   },
   "file_extension": ".py",
   "mimetype": "text/x-python",
   "name": "python",
   "nbconvert_exporter": "python",
   "pygments_lexer": "ipython3",
   "version": "3.6.4"
  }
 },
 "nbformat": 4,
 "nbformat_minor": 2
}
